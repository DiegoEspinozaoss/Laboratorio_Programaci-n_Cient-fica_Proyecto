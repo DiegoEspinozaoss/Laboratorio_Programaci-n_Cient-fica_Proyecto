{
 "cells": [
  {
   "cell_type": "markdown",
   "metadata": {},
   "source": [
    "![](https://www.dii.uchile.cl/wp-content/uploads/2021/06/Magi%CC%81ster-en-Ciencia-de-Datos.png)"
   ]
  },
  {
   "cell_type": "markdown",
   "metadata": {},
   "source": [
    "**MDS7202: Laboratorio de Programación Científica para Ciencia de Datos**\n",
    "\n",
    "### 👨‍🏫👩‍🏫 Cuerpo Docente:\n",
    "\n",
    "- Profesor: Sebastián Tinoco, Stefano Schiappacasse\n",
    "- Auxiliar: Melanie Peña Torres, Valentina Rojas Osorio\n",
    "- Ayudante: Valentina Zuñiga, Ángelo Muñoz \n",
    "\n",
    "### 👨‍💻👩‍💻 Estudiantes:\n",
    "- Estudiante n°1: *Juan Miño*\n",
    "- Estudiante n°2: *Diego Espinoza Núñez*\n",
    "\n",
    "_Por favor, lean detalladamente las instrucciones de la tarea antes de empezar a escribir._\n",
    "\n",
    "---"
   ]
  },
  {
   "cell_type": "markdown",
   "metadata": {},
   "source": [
    "---\n",
    "\n",
    "## 📖 Enunciado "
   ]
  },
  {
   "cell_type": "markdown",
   "metadata": {},
   "source": [
    "<div align=\"center\">\n",
    "    <img src='https://github.com/MDS7202/MDS7202/blob/main/recursos/2025-01/proyecto/proyecto.png?raw=true' style=\"border-radius: 12px\"> \n",
    "</div>"
   ]
  },
  {
   "cell_type": "markdown",
   "metadata": {},
   "source": [
    "En el competitivo universo de las bebidas gaseosas, la empresa **SodAI Drinks 🥤** ha logrado destacarse por su creatividad, diversidad de productos y enfoque centrado en el cliente. Ofrece una extensa gama de bebidas carbonatadas que abarca distintos segmentos del mercado: desde productos premium en presentaciones sofisticadas, hasta gaseosas accesibles para el consumo masivo, disponibles en diversos tamaños y tipos de envases. \n",
    "\n",
    "La compañía opera en múltiples regiones y zonas, sirviendo a una variedad de puntos de venta que incluyen desde tiendas de conveniencia y minimarkets hasta el canal frío tradicional. Cada tipo de cliente tiene sus particularidades: algunos reciben entregas hasta 4 veces por semana, mientras que otros son visitados por la fuerza de ventas solo una vez semanalmente. Esta diversidad de perfiles representa tanto una oportunidad como un desafío comercial: ¿cómo saber qué productos tienen más chances de ser comprados por cada cliente en un momento dado?\n",
    "\n",
    "Con el objetivo de aumentar la facturación de forma inteligente y mejorar la eficiencia de su estrategia de ventas, **SodAI Drinks** decide crear una nueva célula interna de innovación: el equipo **Deep Drinkers 🤖**, cuyo propósito es aplicar ciencia de datos para anticiparse a las necesidades del cliente y potenciar el negocio desde una perspectiva basada en información.\n",
    "\n",
    "El corazón de esta iniciativa es el desarrollo de un sistema predictivo personalizado para cada cliente. Para ello, **Deep Drinkers** convoca a un equipo de Data Scientists y especialistas en *machine learning* con una misión clara: construir un modelo predictivo que, cada semana, pueda estimar la probabilidad de compra de cada producto del portafolio para cada cliente activo.\n",
    "\n",
    "El modelo deberá tener en cuenta múltiples factores, incluyendo:\n",
    "- **Tipo de cliente**, ej. \"TIENDA DE CONVENIENCIA\", \"MINIMARKET\".\n",
    "- **Frecuencia de entregas y visitas**, indicadores del nivel de actividad comercial.\n",
    "- **Ubicación geográfica** (por región y zona).\n",
    "- **Preferencias históricas de consumo**, inferidas por patrones de compra anteriores.\n",
    "- **Características del producto**, como marca, categoría, segmento, tipo de envase y tamaño\n",
    "\n",
    "El objetivo final es que, **cada semana**, se genere una tabla de productos priorizados: para cada cliente, un listado de productos ordenado por su probabilidad estimada de compra. Esta información será enviada al equipo comercial, que podrá usarla en call center, para incrementar las chances de concretar ventas al ofrecer justo lo que el cliente probablemente quiere comprar.\n",
    "\n",
    "Este proyecto representa un cambio de paradigma en la forma en que **SodAI Drinks** gestiona su fuerza de ventas: de un enfoque reactivo y generalista, a uno proactivo, basado en datos y profundamente personalizado. Así, la empresa no solo espera aumentar su rentabilidad, sino también construir relaciones más sólidas con sus clientes, ofreciéndoles recomendaciones más relevantes y oportunas.\n",
    "\n",
    "Para lograr lo anterior, el equipo **Deep Drinkers** contará con los siguientes conjuntos de datos, junto a sus respectivos atributos:\n",
    "\n",
    "- **Datos transaccionales** (`transacciones.parquet`): contiene el historial de compras realizadas por los clientes.\n",
    "\t- `customer_id`: identificador único del cliente que realizó la compra.\n",
    "\t- `product_id`: identificador único del producto comprado.\n",
    "\t- `purchase_date`: fecha en que se realizó la transacción.\n",
    "\t- `order_id`: identificar de la orden de su pedido.\n",
    "\t- `payment`\tmonto total pagado por la transacción.\n",
    "\n",
    "- **Datos de clientes** (`clientes.parquet`): incluye las características de cada cliente.\n",
    "\t- `customer_id`: identificador único del cliente.\n",
    "\t- `region_id`: identificador de la región geográfica donde se encuentra el cliente.\n",
    "\t- `customer_type`: tipo de cliente según el canal comercial, por ejemplo, “TIENDA DE CONVENIENCIA”.\n",
    "\t- `Y`: coordenada geográfica de latitud.\n",
    "\t- `X`: coordenada geográfica de longitud.\n",
    "\t- `num_deliver_per_week`: cantidad de entregas semanales que recibe el cliente.\n",
    "\t- `num_visit_per_week`: frecuencia de visitas de la fuerza de ventas por semana.\n",
    "\n",
    "- **Datos de productos** (`productos.parquet`): describe las características de los productos del portafolio.\n",
    "\t- `product_id`: identificador único del producto.\n",
    "\t- `brand`: marca comercial del producto.\n",
    "\t- `category`: categoría general del producto, como “BEBIDAS CARBONATADAS”.\n",
    "\t- `sub_category`: subcategoría dentro de la categoría principal, por ejemplo, “GASEOSAS”.\n",
    "\t- `segment`: segmento de mercado al que pertenece el producto, como “PREMIUM”.\n",
    "\t- `package`: tipo de envase del producto.\n",
    "\t- `size`: tamaño del producto en litros."
   ]
  },
  {
   "cell_type": "markdown",
   "metadata": {},
   "source": [
    "## 📚 Reglas"
   ]
  },
  {
   "cell_type": "markdown",
   "metadata": {},
   "source": [
    "<center>\n",
    "<img src=\"https://media1.tenor.com/m/0Qtv_cQ4ITsAAAAd/necohaus-grey-name.gif\" width=\"450\">"
   ]
  },
  {
   "cell_type": "markdown",
   "metadata": {},
   "source": [
    "\n",
    "\n",
    "El proyecto consta de **dos entregas parciales** y una **entrega final** en donde la primera entrega la idea es poder reflejar lo aprendido durante la primera mitad del curso, que será sobre los contenidos relacionados a *machine learning*, la segunda será sobre los contenidos de la segunda mitad del curso relacionados a *MLOps* y por último la entrega final constará de dos partes, donde la primera será relacionada con experimentación sobre nuevos datasets que serán disponibilizados durante las últimas semanas del curso de manera incremental y una segunda parte que será el informe final escrito que deberá explicar el desarrollo del proyecto completo, como tambien los resultados y análisis de los experimentos realizados sobre los datasets incrementales. La idea es que todo el código esté desarrollado durante las primeras dos entregas y luego en la entrega final sólo se ejecute el código sobre nuevos conjuntos de datos.\n",
    "\n",
    "La idea de generar el proyecto por etapas es poder aliviar la carga de trabajo en las últimas semanas del semestre donde sabemos que están muy cargado con entregas, pruebas y exámenes de otros ramos, y así garantizamos que habiendo la desarrollado las dos primeras entregas parciales, tendrán el grueso del proyecto listo para luego experimentar y documentar.\n",
    "\n",
    "---\n",
    "### **Fechas de entrega**\n",
    "- **Entrega parcial 1**: 14 de Mayo\n",
    "- **Entrega parcial 2**: Por definir\n",
    "- **Entrega final**: Por definir\n",
    "\n",
    "---\n",
    "\n",
    "### **Requisitos del proyecto**\n",
    "- **Grupos**: Formar equipos de **2 personas**. No se aceptarán trabajos individuales o grupos con más integrantes.\n",
    "- **Consultas**: Cualquier duda fuera del horario de clases debe ser planteada en el foro correspondiente. Los mensajes enviados al equipo docente serán respondidos únicamente por este medio. Por favor, revisen las respuestas anteriores en el foro antes de realizar nuevas consultas.\n",
    "- **Plagio**: La copia o reutilización no autorizada de trabajos de otros grupos está **estrictamente prohibida**. El incumplimiento de esta norma implicará la anulación inmediata del proyecto y una posible sanción académica.\n",
    "- **Material permitido**: Pueden usar cualquier material del curso, ya sea notas, lecturas, códigos, o referencias proporcionadas por los docentes, que consideren útil para el desarrollo del proyecto.\n",
    "\n",
    "---\n",
    "\n",
    "### **Entregables y etapas**\n",
    "\n",
    "#### **1. Entrega Parcial 1**  \n",
    "- Dispondrán de los archivos de datos **productos.parquet**, **clientes.parquet** y **transacciones.parquet** para el modelamiento inicial.  \n",
    "- Utilizarán estos archivos para desarrollar lo solicitado para la entrega 1. \n",
    "- En esta etapa, se espera que apliquen todos los conocimientos aprendidos durante la primera parte del curso relacionados con *machine learning*.\n",
    "- **Informe**: No se exige un avance del informe en esta etapa, sólo un notebook con su desarrollo actual, pero se **recomienda comenzar** a redactar el informe final en paralelo para disminuir la carga académica en las etapas posteriores.  \n",
    "\n",
    "#### **2. Entrega Parcial 2**  \n",
    "- En esta entrega, deberán aplicar los conocimientos aprendidos durante la segunda mitad del curso sobre *MLOps*  \n",
    "- Se espera que implementen estos conocimientos para desplegar su modelo elegido en la primera entrega y crear *pipelines* automatizados que simulen un entorno productivo.\n",
    "- **Informe**: similar a la primera etapa, no se exige un avance del informe, pero se **recomienda avanzar con su redacción** para evitar una acumulación de trabajo en la etapa final.  \n",
    "\n",
    "#### **3. Entrega Final**  \n",
    "- En la entrega final, deberán realizar dos etapas:\n",
    "\t- La primera etapa es sobre experimentación utilizando datasets incrementales que se irán disponibilizando de manera parcial, para que vayan generando predicciones con su modelo ya desplegado. El objetivo de esta etapa es poder testear su solución *end-to-end* y que vayan analizando los resultados obtenidos a medida que se van agregando más datos.\n",
    "\t- La segunda etapa consiste en redactar un informe final que deberá explicar el desarrollo completo de tu proyecto y un análisis profundo de sus resultados de experimentación. Este informe debera incluir a lo menos las siguientes secciones:\n",
    "\t\t- Análisis exploratorio de datos  \n",
    "\t\t- Metodología aplicada  \n",
    "\t\t- Selección y entrenamiento de modelos  \n",
    "\t\t- Evaluación de resultados  \n",
    "\t\t- Optimización de modelos\n",
    "\t\t- Interpretabilidad\n",
    "\t\t- Re-entrenamiento\n",
    "\t\t- Tracking con MLFlow\n",
    "\t\t- Creación de la aplicación web con Gradio y FastAPI\n",
    "\n",
    "Es **altamente recomendable** ir redactando el informe en paralelo al desarrollo de los modelos para garantizar que toda la información relevante quede documentada adecuadamente.  \n",
    "\n",
    "### Nota Final\n",
    "\n",
    "La calificación final de su proyecto se calculará utilizando la siguiente ponderación: \n",
    "\n",
    "$$Nota Final = 0.30 * EntregaParcial1 + 0.40 * EntregaParcial2 + 0.30 * EntregaFinal$$\n",
    "\n",
    "---\n",
    "\n",
    "### **Instrucciones importantes**\n",
    "\n",
    "1. **Formato del informe**:  \n",
    "   - El informe debe estar integrado dentro de un **Jupyter Notebook**. No es necesario subirlo a una plataforma externa, pero debe cumplir con los siguientes requisitos:  \n",
    "     - Estructura clara y ordenada.  \n",
    "     - Código acompañado de explicaciones detalladas.  \n",
    "     - Resultados presentados de forma visual y analítica.  \n",
    "\n",
    "2. **Descuento por informes deficientes**:  \n",
    "   - Cualquier sección del informe que no tenga una explicación adecuada o no respete el formato será penalizada con un descuento en la nota. Esto incluye código sin comentarios o análisis que no sean coherentes con los resultados presentados.\n",
    "   - Comentarios sin formatear de ChatGPT o herramientas similares serán penalizados (e.g: \"Inserta tu modelo acá\", etc.)"
   ]
  },
  {
   "cell_type": "markdown",
   "metadata": {},
   "source": [
    "# 📬 Entrega Parcial 1 (30% del Proyecto)"
   ]
  },
  {
   "cell_type": "markdown",
   "metadata": {},
   "source": [
    "### 📪 Fecha de Entrega: 14 de Mayo"
   ]
  },
  {
   "cell_type": "markdown",
   "metadata": {},
   "source": [
    "## 📌 Abstract [0.25 puntos]\n",
    "\n",
    "<center>\n",
    "<img src=\"https://i.redd.it/h5ptnsyabqvd1.gif\" width=\"400\" height=\"300\">"
   ]
  },
  {
   "cell_type": "markdown",
   "metadata": {},
   "source": [
    "En esta sección, deben redactar un Abstract claro y conciso para su proyecto. El Abstract debe responder a las siguientes preguntas clave:\n",
    "\n",
    "- **Descripción del problema**: ¿Cuál es el objetivo del proyecto? ¿Qué se intenta predecir o analizar?\n",
    "- **Datos de entrada**: ¿Qué datos tienen disponibles? ¿Cuáles son sus principales características?\n",
    "- **Métrica de evaluación**: ¿Cómo medirán el desempeño de sus modelos? Expliquen por qué eligieron esta métrica basándose en el análisis exploratorio de los datos.\n",
    "- **Modelos y transformaciones**: ¿Qué modelos utilizarán y por qué? ¿Qué transformaciones o preprocesamientos aplicaron a los datos?\n",
    "- **Resultados generales**: ¿El modelo final cumplió con los objetivos del proyecto? ¿Cuáles fueron las conclusiones más importantes?\n",
    "\n",
    "**Importante**: Escriban esto despues de haber resuelto el resto de la tarea."
   ]
  },
  {
   "cell_type": "markdown",
   "metadata": {},
   "source": [
    "> [Escriba aquí su Abstract]"
   ]
  },
  {
   "cell_type": "markdown",
   "metadata": {},
   "source": [
    "## 📌 Pre-procesamiento [0.5 puntos]\n",
    "\n",
    "<center>\n",
    "<img src=\"https://media0.giphy.com/media/10zsjaH4g0GgmY/giphy.gif?cid=6c09b9523xtlunksc9amikw09zk1bmiqwjqnt70ae82rk877&ep=v1_gifs_search&rid=giphy.gif&ct=g\" width=\"400\" height=\"300\">"
   ]
  },
  {
   "cell_type": "markdown",
   "metadata": {},
   "source": [
    "Tal como en muchos otros problemas de negocio, los datos probablemente deben ser pre procesados antes de aplicar cualquier técnica de analítica. Bajo esa premisa, en esta sección deben desarrollar código que les permita **preparar los datos** de tal forma que les permita resolver el problema planteado. Para esto, pueden aplicar procesamientos como:\n",
    "\n",
    "- Transformaciones de tipo de dato (str, int, etc)\n",
    "- Cruce de información\n",
    "- Eliminación de duplicados\n",
    "- Filtros de fila y/o columnas\n",
    "\n",
    "*Hint: ¿Qué forma debería tener la data para resolver un problema de aprendizaje supervisado?*\n",
    "\n",
    "Todo proceso llevado a cabo debe estar bien documentado y justificado en el informe, explicando el por qué se decidió realizar en funcion de los datos presentados y los objetivos planteados del proyecto."
   ]
  },
  {
   "cell_type": "code",
   "execution_count": 3,
   "metadata": {},
   "outputs": [
    {
     "name": "stdout",
     "output_type": "stream",
     "text": [
      "Defaulting to user installation because normal site-packages is not writeable\n",
      "Requirement already satisfied: pyarrow in /Users/diegoespinoza/Library/Python/3.9/lib/python/site-packages (20.0.0)\n"
     ]
    }
   ],
   "source": [
    "!pip install pyarrow"
   ]
  },
  {
   "cell_type": "code",
   "execution_count": 4,
   "metadata": {},
   "outputs": [],
   "source": [
    "import pandas as pd\n",
    "\n",
    "clientes = pd.read_parquet('clientes.parquet')\n",
    "productos = pd.read_parquet('productos.parquet')\n",
    "transacciones = pd.read_parquet('transacciones.parquet')"
   ]
  },
  {
   "cell_type": "code",
   "execution_count": 5,
   "metadata": {},
   "outputs": [],
   "source": [
    "def identificar_columnas(df):\n",
    "    numericas = df.select_dtypes(include=['number']).columns.tolist()\n",
    "    categoricas = df.select_dtypes(include=['object', 'category']).columns.tolist()\n",
    "    todas = set(df.columns)\n",
    "    otras = list(todas - set(numericas) - set(categoricas))\n",
    "    return numericas, categoricas, otras"
   ]
  },
  {
   "cell_type": "code",
   "execution_count": 6,
   "metadata": {},
   "outputs": [
    {
     "name": "stdout",
     "output_type": "stream",
     "text": [
      " - Folder Dataset: clientes\n",
      " - Filas        : 1,569\n",
      " - Numéricas    : ['customer_id', 'region_id', 'zone_id', 'Y', 'X', 'num_deliver_per_week', 'num_visit_per_week']\n",
      " - Categóricas  : ['customer_type']\n",
      " - Otras        : []\n",
      " - Folder Dataset: productos\n",
      " - Filas        : 971\n",
      " - Numéricas    : ['product_id', 'size']\n",
      " - Categóricas  : ['brand', 'category', 'sub_category', 'segment', 'package']\n",
      " - Otras        : []\n",
      " - Folder Dataset: transacciones\n",
      " - Filas        : 254,936\n",
      " - Numéricas    : ['customer_id', 'product_id', 'order_id', 'items']\n",
      " - Categóricas  : []\n",
      " - Otras        : ['purchase_date']\n"
     ]
    }
   ],
   "source": [
    "archivos = [clientes, productos, transacciones]\n",
    "nombres = ['clientes', 'productos', 'transacciones']\n",
    "\n",
    "for nombre, df in zip(nombres, archivos):\n",
    "    numericas, categoricas, otras = identificar_columnas(df)\n",
    "    print(f\" - Folder Dataset: {nombre}\")\n",
    "    print(f\" - Filas        : {len(df):,}\")\n",
    "    print(f\" - Numéricas    : {numericas}\")\n",
    "    print(f\" - Categóricas  : {categoricas}\")\n",
    "    print(f\" - Otras        : {otras}\")\n"
   ]
  },
  {
   "cell_type": "code",
   "execution_count": 7,
   "metadata": {},
   "outputs": [
    {
     "data": {
      "text/html": [
       "<div>\n",
       "<style scoped>\n",
       "    .dataframe tbody tr th:only-of-type {\n",
       "        vertical-align: middle;\n",
       "    }\n",
       "\n",
       "    .dataframe tbody tr th {\n",
       "        vertical-align: top;\n",
       "    }\n",
       "\n",
       "    .dataframe thead th {\n",
       "        text-align: right;\n",
       "    }\n",
       "</style>\n",
       "<table border=\"1\" class=\"dataframe\">\n",
       "  <thead>\n",
       "    <tr style=\"text-align: right;\">\n",
       "      <th></th>\n",
       "      <th>customer_id</th>\n",
       "      <th>region_id</th>\n",
       "      <th>zone_id</th>\n",
       "      <th>customer_type</th>\n",
       "      <th>Y</th>\n",
       "      <th>X</th>\n",
       "      <th>num_deliver_per_week</th>\n",
       "      <th>num_visit_per_week</th>\n",
       "    </tr>\n",
       "  </thead>\n",
       "  <tbody>\n",
       "    <tr>\n",
       "      <th>10705</th>\n",
       "      <td>256017</td>\n",
       "      <td>80</td>\n",
       "      <td>5148</td>\n",
       "      <td>ABARROTES</td>\n",
       "      <td>-46.474800</td>\n",
       "      <td>-108.045140</td>\n",
       "      <td>1</td>\n",
       "      <td>1</td>\n",
       "    </tr>\n",
       "    <tr>\n",
       "      <th>10706</th>\n",
       "      <td>255780</td>\n",
       "      <td>80</td>\n",
       "      <td>5148</td>\n",
       "      <td>ABARROTES</td>\n",
       "      <td>-46.520282</td>\n",
       "      <td>-107.961052</td>\n",
       "      <td>1</td>\n",
       "      <td>1</td>\n",
       "    </tr>\n",
       "    <tr>\n",
       "      <th>10707</th>\n",
       "      <td>254655</td>\n",
       "      <td>80</td>\n",
       "      <td>5148</td>\n",
       "      <td>ABARROTES</td>\n",
       "      <td>-46.537640</td>\n",
       "      <td>-107.909280</td>\n",
       "      <td>1</td>\n",
       "      <td>1</td>\n",
       "    </tr>\n",
       "    <tr>\n",
       "      <th>10708</th>\n",
       "      <td>254445</td>\n",
       "      <td>80</td>\n",
       "      <td>5148</td>\n",
       "      <td>ABARROTES</td>\n",
       "      <td>-46.543526</td>\n",
       "      <td>-107.917954</td>\n",
       "      <td>2</td>\n",
       "      <td>1</td>\n",
       "    </tr>\n",
       "    <tr>\n",
       "      <th>10709</th>\n",
       "      <td>254403</td>\n",
       "      <td>80</td>\n",
       "      <td>5148</td>\n",
       "      <td>ABARROTES</td>\n",
       "      <td>-46.540856</td>\n",
       "      <td>-107.905792</td>\n",
       "      <td>3</td>\n",
       "      <td>1</td>\n",
       "    </tr>\n",
       "  </tbody>\n",
       "</table>\n",
       "</div>"
      ],
      "text/plain": [
       "       customer_id  region_id  zone_id customer_type          Y           X  \\\n",
       "10705       256017         80     5148     ABARROTES -46.474800 -108.045140   \n",
       "10706       255780         80     5148     ABARROTES -46.520282 -107.961052   \n",
       "10707       254655         80     5148     ABARROTES -46.537640 -107.909280   \n",
       "10708       254445         80     5148     ABARROTES -46.543526 -107.917954   \n",
       "10709       254403         80     5148     ABARROTES -46.540856 -107.905792   \n",
       "\n",
       "       num_deliver_per_week  num_visit_per_week  \n",
       "10705                     1                   1  \n",
       "10706                     1                   1  \n",
       "10707                     1                   1  \n",
       "10708                     2                   1  \n",
       "10709                     3                   1  "
      ]
     },
     "execution_count": 7,
     "metadata": {},
     "output_type": "execute_result"
    }
   ],
   "source": [
    "clientes.head()"
   ]
  },
  {
   "cell_type": "code",
   "execution_count": 8,
   "metadata": {},
   "outputs": [
    {
     "data": {
      "text/html": [
       "<div>\n",
       "<style scoped>\n",
       "    .dataframe tbody tr th:only-of-type {\n",
       "        vertical-align: middle;\n",
       "    }\n",
       "\n",
       "    .dataframe tbody tr th {\n",
       "        vertical-align: top;\n",
       "    }\n",
       "\n",
       "    .dataframe thead th {\n",
       "        text-align: right;\n",
       "    }\n",
       "</style>\n",
       "<table border=\"1\" class=\"dataframe\">\n",
       "  <thead>\n",
       "    <tr style=\"text-align: right;\">\n",
       "      <th></th>\n",
       "      <th>product_id</th>\n",
       "      <th>brand</th>\n",
       "      <th>category</th>\n",
       "      <th>sub_category</th>\n",
       "      <th>segment</th>\n",
       "      <th>package</th>\n",
       "      <th>size</th>\n",
       "    </tr>\n",
       "  </thead>\n",
       "  <tbody>\n",
       "    <tr>\n",
       "      <th>0</th>\n",
       "      <td>34092</td>\n",
       "      <td>Brand 31</td>\n",
       "      <td>BEBIDAS CARBONATADAS</td>\n",
       "      <td>GASEOSAS</td>\n",
       "      <td>PREMIUM</td>\n",
       "      <td>BOTELLA</td>\n",
       "      <td>0.66</td>\n",
       "    </tr>\n",
       "    <tr>\n",
       "      <th>1</th>\n",
       "      <td>57290</td>\n",
       "      <td>Brand 31</td>\n",
       "      <td>BEBIDAS CARBONATADAS</td>\n",
       "      <td>GASEOSAS</td>\n",
       "      <td>PREMIUM</td>\n",
       "      <td>BOTELLA</td>\n",
       "      <td>0.66</td>\n",
       "    </tr>\n",
       "    <tr>\n",
       "      <th>2</th>\n",
       "      <td>56714</td>\n",
       "      <td>Brand 31</td>\n",
       "      <td>BEBIDAS CARBONATADAS</td>\n",
       "      <td>GASEOSAS</td>\n",
       "      <td>PREMIUM</td>\n",
       "      <td>BOTELLA</td>\n",
       "      <td>0.66</td>\n",
       "    </tr>\n",
       "    <tr>\n",
       "      <th>3</th>\n",
       "      <td>296616</td>\n",
       "      <td>Brand 31</td>\n",
       "      <td>BEBIDAS CARBONATADAS</td>\n",
       "      <td>GASEOSAS</td>\n",
       "      <td>PREMIUM</td>\n",
       "      <td>BOTELLA</td>\n",
       "      <td>0.66</td>\n",
       "    </tr>\n",
       "    <tr>\n",
       "      <th>4</th>\n",
       "      <td>60854</td>\n",
       "      <td>Brand 31</td>\n",
       "      <td>BEBIDAS CARBONATADAS</td>\n",
       "      <td>GASEOSAS</td>\n",
       "      <td>PREMIUM</td>\n",
       "      <td>BOTELLA</td>\n",
       "      <td>0.25</td>\n",
       "    </tr>\n",
       "  </tbody>\n",
       "</table>\n",
       "</div>"
      ],
      "text/plain": [
       "   product_id     brand              category sub_category  segment  package  \\\n",
       "0       34092  Brand 31  BEBIDAS CARBONATADAS     GASEOSAS  PREMIUM  BOTELLA   \n",
       "1       57290  Brand 31  BEBIDAS CARBONATADAS     GASEOSAS  PREMIUM  BOTELLA   \n",
       "2       56714  Brand 31  BEBIDAS CARBONATADAS     GASEOSAS  PREMIUM  BOTELLA   \n",
       "3      296616  Brand 31  BEBIDAS CARBONATADAS     GASEOSAS  PREMIUM  BOTELLA   \n",
       "4       60854  Brand 31  BEBIDAS CARBONATADAS     GASEOSAS  PREMIUM  BOTELLA   \n",
       "\n",
       "   size  \n",
       "0  0.66  \n",
       "1  0.66  \n",
       "2  0.66  \n",
       "3  0.66  \n",
       "4  0.25  "
      ]
     },
     "execution_count": 8,
     "metadata": {},
     "output_type": "execute_result"
    }
   ],
   "source": [
    "productos.head()"
   ]
  },
  {
   "cell_type": "code",
   "execution_count": 9,
   "metadata": {},
   "outputs": [
    {
     "data": {
      "text/html": [
       "<div>\n",
       "<style scoped>\n",
       "    .dataframe tbody tr th:only-of-type {\n",
       "        vertical-align: middle;\n",
       "    }\n",
       "\n",
       "    .dataframe tbody tr th {\n",
       "        vertical-align: top;\n",
       "    }\n",
       "\n",
       "    .dataframe thead th {\n",
       "        text-align: right;\n",
       "    }\n",
       "</style>\n",
       "<table border=\"1\" class=\"dataframe\">\n",
       "  <thead>\n",
       "    <tr style=\"text-align: right;\">\n",
       "      <th></th>\n",
       "      <th>customer_id</th>\n",
       "      <th>product_id</th>\n",
       "      <th>order_id</th>\n",
       "      <th>purchase_date</th>\n",
       "      <th>items</th>\n",
       "    </tr>\n",
       "  </thead>\n",
       "  <tbody>\n",
       "    <tr>\n",
       "      <th>124</th>\n",
       "      <td>61353</td>\n",
       "      <td>61364</td>\n",
       "      <td>411145</td>\n",
       "      <td>2024-04-27</td>\n",
       "      <td>-0.333333</td>\n",
       "    </tr>\n",
       "    <tr>\n",
       "      <th>127</th>\n",
       "      <td>61899</td>\n",
       "      <td>1370</td>\n",
       "      <td>411156</td>\n",
       "      <td>2024-04-27</td>\n",
       "      <td>3.666667</td>\n",
       "    </tr>\n",
       "    <tr>\n",
       "      <th>344</th>\n",
       "      <td>154077</td>\n",
       "      <td>30500</td>\n",
       "      <td>417911</td>\n",
       "      <td>2024-04-29</td>\n",
       "      <td>2.333333</td>\n",
       "    </tr>\n",
       "    <tr>\n",
       "      <th>349</th>\n",
       "      <td>164337</td>\n",
       "      <td>56714</td>\n",
       "      <td>418100</td>\n",
       "      <td>2024-04-29</td>\n",
       "      <td>-2.333333</td>\n",
       "    </tr>\n",
       "    <tr>\n",
       "      <th>354</th>\n",
       "      <td>172056</td>\n",
       "      <td>61672</td>\n",
       "      <td>407162</td>\n",
       "      <td>2024-04-26</td>\n",
       "      <td>1.000000</td>\n",
       "    </tr>\n",
       "  </tbody>\n",
       "</table>\n",
       "</div>"
      ],
      "text/plain": [
       "     customer_id  product_id  order_id purchase_date     items\n",
       "124        61353       61364    411145    2024-04-27 -0.333333\n",
       "127        61899        1370    411156    2024-04-27  3.666667\n",
       "344       154077       30500    417911    2024-04-29  2.333333\n",
       "349       164337       56714    418100    2024-04-29 -2.333333\n",
       "354       172056       61672    407162    2024-04-26  1.000000"
      ]
     },
     "execution_count": 9,
     "metadata": {},
     "output_type": "execute_result"
    }
   ],
   "source": [
    "transacciones.head()"
   ]
  },
  {
   "cell_type": "code",
   "execution_count": 10,
   "metadata": {},
   "outputs": [],
   "source": [
    "df = pd.merge(\n",
    "    transacciones,\n",
    "    clientes,\n",
    "    on='customer_id',\n",
    "    how='left'\n",
    ")\n",
    "\n",
    "df = pd.merge(\n",
    "    df,\n",
    "    productos,\n",
    "    on='product_id',\n",
    "    how='left'\n",
    ")\n",
    "\n",
    "df['purchase_date'] = pd.to_datetime(df['purchase_date'])"
   ]
  },
  {
   "cell_type": "code",
   "execution_count": 11,
   "metadata": {},
   "outputs": [
    {
     "data": {
      "text/plain": [
       "Index(['customer_id', 'product_id', 'order_id', 'purchase_date', 'items',\n",
       "       'region_id', 'zone_id', 'customer_type', 'Y', 'X',\n",
       "       'num_deliver_per_week', 'num_visit_per_week', 'brand', 'category',\n",
       "       'sub_category', 'segment', 'package', 'size'],\n",
       "      dtype='object')"
      ]
     },
     "execution_count": 11,
     "metadata": {},
     "output_type": "execute_result"
    }
   ],
   "source": [
    "df.columns"
   ]
  },
  {
   "cell_type": "markdown",
   "metadata": {},
   "source": [
    "*Esto agrega a cada transacción los datos del cliente: región, zona, tipo de cliente, coordenadas y frecuencia de entrega/visita.*\n",
    "\n",
    "*Y luego también la info del producto: marca, categoría, tamaño, etc.*\n",
    "\n",
    "*La cantidad de filas de **df** es la misma que la cantidad de transacciones en la tabla transacciones.*"
   ]
  },
  {
   "cell_type": "markdown",
   "metadata": {},
   "source": [
    "## 📌 EDA [0.5 puntos]\n",
    "\n",
    "<center>\n",
    "<img src=\"https://media3.giphy.com/media/v1.Y2lkPTc5MGI3NjExbHZ6aGdkd21tYTI3cW8zYWhyYW5wdGlyb2s3MmRzeTV0dzQ1NWlueiZlcD12MV9pbnRlcm5hbF9naWZfYnlfaWQmY3Q9Zw/3k1hJubTtOAKPKx4k3/giphy.gif\" width=\"400\" height=\"200\">"
   ]
  },
  {
   "cell_type": "markdown",
   "metadata": {},
   "source": [
    "En esta sección, se debe realizar un análisis exploratorio de los datos para comprender su estructura, detectar posibles problemas y obtener información relevante para el entrenamiento de los modelos. La idea es que puedan detectar **patrones en los datos** que les permitan resolver el problema con mayor facilidad.\n",
    "\n",
    "Se deben responder preguntas a partir de lo que puedan visualizar/obtener, por ejemplo:\n",
    "\n",
    "- Clientes y productos\n",
    "\n",
    "    - ¿Cuántos clientes únicos hay en el dataset?\n",
    "\n",
    "    - ¿Cuántos productos únicos se encuentran en los datos?\n",
    "\n",
    "- Periodo y frecuencia\n",
    "\n",
    "    - ¿De qué periodo es la información disponible?\n",
    "\n",
    "    - ¿Cuál es la frecuencia de los registros (diaria, semanal, mensual, etc.)?\n",
    "\n",
    "- Calidad de los datos\n",
    "\n",
    "    - ¿Existen valores nulos en el dataset? ¿Cuántos? ¿Cómo se pueden tratar?\n",
    "\n",
    "    - ¿Hay datos raros, como cantidades negativas o inconsistencias? Genere tests de validación para identificar estos problemas.\n",
    "\n",
    "- Patrones de compra\n",
    "\n",
    "    - ¿Cuántos productos compra en promedio cada cliente semana a semana?\n",
    "\n",
    "    - ¿Cuántas transacciones ha realizado cada cliente?\n",
    "\n",
    "    - ¿Cuál es el periodo de recompra promedio de cada SKU?"
   ]
  },
  {
   "cell_type": "markdown",
   "metadata": {},
   "source": [
    "**Clientes y productos**"
   ]
  },
  {
   "cell_type": "code",
   "execution_count": 12,
   "metadata": {},
   "outputs": [
    {
     "name": "stdout",
     "output_type": "stream",
     "text": [
      " Número de clientes únicos: 1569\n",
      " Número de clientes únicos en merged table: 1490\n"
     ]
    }
   ],
   "source": [
    "print(f\" Número de clientes únicos: {clientes['customer_id'].nunique()}\")\n",
    "print(f\" Número de clientes únicos en merged table: {df['customer_id'].nunique()}\")"
   ]
  },
  {
   "cell_type": "code",
   "execution_count": 13,
   "metadata": {},
   "outputs": [
    {
     "name": "stdout",
     "output_type": "stream",
     "text": [
      " Número de productos únicos: 971\n",
      " Número de productos únicos en merged table: 114\n"
     ]
    }
   ],
   "source": [
    "print(f\" Número de productos únicos: {productos['product_id'].nunique()}\")\n",
    "print(f\" Número de productos únicos en merged table: {df['product_id'].nunique()}\")"
   ]
  },
  {
   "cell_type": "markdown",
   "metadata": {},
   "source": [
    "**Periodo y frecuencia**"
   ]
  },
  {
   "cell_type": "code",
   "execution_count": 14,
   "metadata": {},
   "outputs": [
    {
     "name": "stdout",
     "output_type": "stream",
     "text": [
      " Nombre de la columa fecha: Index(['purchase_date'], dtype='object')\n"
     ]
    }
   ],
   "source": [
    "print(f\" Nombre de la columa fecha: {df.select_dtypes(include=['datetime']).columns}\")"
   ]
  },
  {
   "cell_type": "code",
   "execution_count": 15,
   "metadata": {},
   "outputs": [
    {
     "data": {
      "application/vnd.plotly.v1+json": {
       "config": {
        "plotlyServerURL": "https://plot.ly"
       },
       "data": [
        {
         "hovertemplate": "Fecha=%{x}<br>Número de Transacciones=%{y}<extra></extra>",
         "legendgroup": "",
         "line": {
          "color": "#636efa",
          "dash": "solid"
         },
         "marker": {
          "symbol": "circle"
         },
         "mode": "lines+markers",
         "name": "",
         "orientation": "v",
         "showlegend": false,
         "type": "scatter",
         "x": [
          "2024-01-31T00:00:00.000000000",
          "2024-02-29T00:00:00.000000000",
          "2024-03-31T00:00:00.000000000",
          "2024-04-30T00:00:00.000000000",
          "2024-05-31T00:00:00.000000000",
          "2024-06-30T00:00:00.000000000",
          "2024-07-31T00:00:00.000000000",
          "2024-08-31T00:00:00.000000000",
          "2024-09-30T00:00:00.000000000",
          "2024-10-31T00:00:00.000000000",
          "2024-11-30T00:00:00.000000000",
          "2024-12-31T00:00:00.000000000"
         ],
         "xaxis": "x",
         "y": {
          "bdata": "71mSVX9VvUs1NXJFJDx+S+dWQ1xHYmF7",
          "dtype": "i2"
         },
         "yaxis": "y"
        }
       ],
       "layout": {
        "legend": {
         "tracegroupgap": 0
        },
        "template": {
         "data": {
          "bar": [
           {
            "error_x": {
             "color": "#2a3f5f"
            },
            "error_y": {
             "color": "#2a3f5f"
            },
            "marker": {
             "line": {
              "color": "white",
              "width": 0.5
             },
             "pattern": {
              "fillmode": "overlay",
              "size": 10,
              "solidity": 0.2
             }
            },
            "type": "bar"
           }
          ],
          "barpolar": [
           {
            "marker": {
             "line": {
              "color": "white",
              "width": 0.5
             },
             "pattern": {
              "fillmode": "overlay",
              "size": 10,
              "solidity": 0.2
             }
            },
            "type": "barpolar"
           }
          ],
          "carpet": [
           {
            "aaxis": {
             "endlinecolor": "#2a3f5f",
             "gridcolor": "#C8D4E3",
             "linecolor": "#C8D4E3",
             "minorgridcolor": "#C8D4E3",
             "startlinecolor": "#2a3f5f"
            },
            "baxis": {
             "endlinecolor": "#2a3f5f",
             "gridcolor": "#C8D4E3",
             "linecolor": "#C8D4E3",
             "minorgridcolor": "#C8D4E3",
             "startlinecolor": "#2a3f5f"
            },
            "type": "carpet"
           }
          ],
          "choropleth": [
           {
            "colorbar": {
             "outlinewidth": 0,
             "ticks": ""
            },
            "type": "choropleth"
           }
          ],
          "contour": [
           {
            "colorbar": {
             "outlinewidth": 0,
             "ticks": ""
            },
            "colorscale": [
             [
              0,
              "#0d0887"
             ],
             [
              0.1111111111111111,
              "#46039f"
             ],
             [
              0.2222222222222222,
              "#7201a8"
             ],
             [
              0.3333333333333333,
              "#9c179e"
             ],
             [
              0.4444444444444444,
              "#bd3786"
             ],
             [
              0.5555555555555556,
              "#d8576b"
             ],
             [
              0.6666666666666666,
              "#ed7953"
             ],
             [
              0.7777777777777778,
              "#fb9f3a"
             ],
             [
              0.8888888888888888,
              "#fdca26"
             ],
             [
              1,
              "#f0f921"
             ]
            ],
            "type": "contour"
           }
          ],
          "contourcarpet": [
           {
            "colorbar": {
             "outlinewidth": 0,
             "ticks": ""
            },
            "type": "contourcarpet"
           }
          ],
          "heatmap": [
           {
            "colorbar": {
             "outlinewidth": 0,
             "ticks": ""
            },
            "colorscale": [
             [
              0,
              "#0d0887"
             ],
             [
              0.1111111111111111,
              "#46039f"
             ],
             [
              0.2222222222222222,
              "#7201a8"
             ],
             [
              0.3333333333333333,
              "#9c179e"
             ],
             [
              0.4444444444444444,
              "#bd3786"
             ],
             [
              0.5555555555555556,
              "#d8576b"
             ],
             [
              0.6666666666666666,
              "#ed7953"
             ],
             [
              0.7777777777777778,
              "#fb9f3a"
             ],
             [
              0.8888888888888888,
              "#fdca26"
             ],
             [
              1,
              "#f0f921"
             ]
            ],
            "type": "heatmap"
           }
          ],
          "histogram": [
           {
            "marker": {
             "pattern": {
              "fillmode": "overlay",
              "size": 10,
              "solidity": 0.2
             }
            },
            "type": "histogram"
           }
          ],
          "histogram2d": [
           {
            "colorbar": {
             "outlinewidth": 0,
             "ticks": ""
            },
            "colorscale": [
             [
              0,
              "#0d0887"
             ],
             [
              0.1111111111111111,
              "#46039f"
             ],
             [
              0.2222222222222222,
              "#7201a8"
             ],
             [
              0.3333333333333333,
              "#9c179e"
             ],
             [
              0.4444444444444444,
              "#bd3786"
             ],
             [
              0.5555555555555556,
              "#d8576b"
             ],
             [
              0.6666666666666666,
              "#ed7953"
             ],
             [
              0.7777777777777778,
              "#fb9f3a"
             ],
             [
              0.8888888888888888,
              "#fdca26"
             ],
             [
              1,
              "#f0f921"
             ]
            ],
            "type": "histogram2d"
           }
          ],
          "histogram2dcontour": [
           {
            "colorbar": {
             "outlinewidth": 0,
             "ticks": ""
            },
            "colorscale": [
             [
              0,
              "#0d0887"
             ],
             [
              0.1111111111111111,
              "#46039f"
             ],
             [
              0.2222222222222222,
              "#7201a8"
             ],
             [
              0.3333333333333333,
              "#9c179e"
             ],
             [
              0.4444444444444444,
              "#bd3786"
             ],
             [
              0.5555555555555556,
              "#d8576b"
             ],
             [
              0.6666666666666666,
              "#ed7953"
             ],
             [
              0.7777777777777778,
              "#fb9f3a"
             ],
             [
              0.8888888888888888,
              "#fdca26"
             ],
             [
              1,
              "#f0f921"
             ]
            ],
            "type": "histogram2dcontour"
           }
          ],
          "mesh3d": [
           {
            "colorbar": {
             "outlinewidth": 0,
             "ticks": ""
            },
            "type": "mesh3d"
           }
          ],
          "parcoords": [
           {
            "line": {
             "colorbar": {
              "outlinewidth": 0,
              "ticks": ""
             }
            },
            "type": "parcoords"
           }
          ],
          "pie": [
           {
            "automargin": true,
            "type": "pie"
           }
          ],
          "scatter": [
           {
            "fillpattern": {
             "fillmode": "overlay",
             "size": 10,
             "solidity": 0.2
            },
            "type": "scatter"
           }
          ],
          "scatter3d": [
           {
            "line": {
             "colorbar": {
              "outlinewidth": 0,
              "ticks": ""
             }
            },
            "marker": {
             "colorbar": {
              "outlinewidth": 0,
              "ticks": ""
             }
            },
            "type": "scatter3d"
           }
          ],
          "scattercarpet": [
           {
            "marker": {
             "colorbar": {
              "outlinewidth": 0,
              "ticks": ""
             }
            },
            "type": "scattercarpet"
           }
          ],
          "scattergeo": [
           {
            "marker": {
             "colorbar": {
              "outlinewidth": 0,
              "ticks": ""
             }
            },
            "type": "scattergeo"
           }
          ],
          "scattergl": [
           {
            "marker": {
             "colorbar": {
              "outlinewidth": 0,
              "ticks": ""
             }
            },
            "type": "scattergl"
           }
          ],
          "scattermap": [
           {
            "marker": {
             "colorbar": {
              "outlinewidth": 0,
              "ticks": ""
             }
            },
            "type": "scattermap"
           }
          ],
          "scattermapbox": [
           {
            "marker": {
             "colorbar": {
              "outlinewidth": 0,
              "ticks": ""
             }
            },
            "type": "scattermapbox"
           }
          ],
          "scatterpolar": [
           {
            "marker": {
             "colorbar": {
              "outlinewidth": 0,
              "ticks": ""
             }
            },
            "type": "scatterpolar"
           }
          ],
          "scatterpolargl": [
           {
            "marker": {
             "colorbar": {
              "outlinewidth": 0,
              "ticks": ""
             }
            },
            "type": "scatterpolargl"
           }
          ],
          "scatterternary": [
           {
            "marker": {
             "colorbar": {
              "outlinewidth": 0,
              "ticks": ""
             }
            },
            "type": "scatterternary"
           }
          ],
          "surface": [
           {
            "colorbar": {
             "outlinewidth": 0,
             "ticks": ""
            },
            "colorscale": [
             [
              0,
              "#0d0887"
             ],
             [
              0.1111111111111111,
              "#46039f"
             ],
             [
              0.2222222222222222,
              "#7201a8"
             ],
             [
              0.3333333333333333,
              "#9c179e"
             ],
             [
              0.4444444444444444,
              "#bd3786"
             ],
             [
              0.5555555555555556,
              "#d8576b"
             ],
             [
              0.6666666666666666,
              "#ed7953"
             ],
             [
              0.7777777777777778,
              "#fb9f3a"
             ],
             [
              0.8888888888888888,
              "#fdca26"
             ],
             [
              1,
              "#f0f921"
             ]
            ],
            "type": "surface"
           }
          ],
          "table": [
           {
            "cells": {
             "fill": {
              "color": "#EBF0F8"
             },
             "line": {
              "color": "white"
             }
            },
            "header": {
             "fill": {
              "color": "#C8D4E3"
             },
             "line": {
              "color": "white"
             }
            },
            "type": "table"
           }
          ]
         },
         "layout": {
          "annotationdefaults": {
           "arrowcolor": "#2a3f5f",
           "arrowhead": 0,
           "arrowwidth": 1
          },
          "autotypenumbers": "strict",
          "coloraxis": {
           "colorbar": {
            "outlinewidth": 0,
            "ticks": ""
           }
          },
          "colorscale": {
           "diverging": [
            [
             0,
             "#8e0152"
            ],
            [
             0.1,
             "#c51b7d"
            ],
            [
             0.2,
             "#de77ae"
            ],
            [
             0.3,
             "#f1b6da"
            ],
            [
             0.4,
             "#fde0ef"
            ],
            [
             0.5,
             "#f7f7f7"
            ],
            [
             0.6,
             "#e6f5d0"
            ],
            [
             0.7,
             "#b8e186"
            ],
            [
             0.8,
             "#7fbc41"
            ],
            [
             0.9,
             "#4d9221"
            ],
            [
             1,
             "#276419"
            ]
           ],
           "sequential": [
            [
             0,
             "#0d0887"
            ],
            [
             0.1111111111111111,
             "#46039f"
            ],
            [
             0.2222222222222222,
             "#7201a8"
            ],
            [
             0.3333333333333333,
             "#9c179e"
            ],
            [
             0.4444444444444444,
             "#bd3786"
            ],
            [
             0.5555555555555556,
             "#d8576b"
            ],
            [
             0.6666666666666666,
             "#ed7953"
            ],
            [
             0.7777777777777778,
             "#fb9f3a"
            ],
            [
             0.8888888888888888,
             "#fdca26"
            ],
            [
             1,
             "#f0f921"
            ]
           ],
           "sequentialminus": [
            [
             0,
             "#0d0887"
            ],
            [
             0.1111111111111111,
             "#46039f"
            ],
            [
             0.2222222222222222,
             "#7201a8"
            ],
            [
             0.3333333333333333,
             "#9c179e"
            ],
            [
             0.4444444444444444,
             "#bd3786"
            ],
            [
             0.5555555555555556,
             "#d8576b"
            ],
            [
             0.6666666666666666,
             "#ed7953"
            ],
            [
             0.7777777777777778,
             "#fb9f3a"
            ],
            [
             0.8888888888888888,
             "#fdca26"
            ],
            [
             1,
             "#f0f921"
            ]
           ]
          },
          "colorway": [
           "#636efa",
           "#EF553B",
           "#00cc96",
           "#ab63fa",
           "#FFA15A",
           "#19d3f3",
           "#FF6692",
           "#B6E880",
           "#FF97FF",
           "#FECB52"
          ],
          "font": {
           "color": "#2a3f5f"
          },
          "geo": {
           "bgcolor": "white",
           "lakecolor": "white",
           "landcolor": "white",
           "showlakes": true,
           "showland": true,
           "subunitcolor": "#C8D4E3"
          },
          "hoverlabel": {
           "align": "left"
          },
          "hovermode": "closest",
          "mapbox": {
           "style": "light"
          },
          "paper_bgcolor": "white",
          "plot_bgcolor": "white",
          "polar": {
           "angularaxis": {
            "gridcolor": "#EBF0F8",
            "linecolor": "#EBF0F8",
            "ticks": ""
           },
           "bgcolor": "white",
           "radialaxis": {
            "gridcolor": "#EBF0F8",
            "linecolor": "#EBF0F8",
            "ticks": ""
           }
          },
          "scene": {
           "xaxis": {
            "backgroundcolor": "white",
            "gridcolor": "#DFE8F3",
            "gridwidth": 2,
            "linecolor": "#EBF0F8",
            "showbackground": true,
            "ticks": "",
            "zerolinecolor": "#EBF0F8"
           },
           "yaxis": {
            "backgroundcolor": "white",
            "gridcolor": "#DFE8F3",
            "gridwidth": 2,
            "linecolor": "#EBF0F8",
            "showbackground": true,
            "ticks": "",
            "zerolinecolor": "#EBF0F8"
           },
           "zaxis": {
            "backgroundcolor": "white",
            "gridcolor": "#DFE8F3",
            "gridwidth": 2,
            "linecolor": "#EBF0F8",
            "showbackground": true,
            "ticks": "",
            "zerolinecolor": "#EBF0F8"
           }
          },
          "shapedefaults": {
           "line": {
            "color": "#2a3f5f"
           }
          },
          "ternary": {
           "aaxis": {
            "gridcolor": "#DFE8F3",
            "linecolor": "#A2B1C6",
            "ticks": ""
           },
           "baxis": {
            "gridcolor": "#DFE8F3",
            "linecolor": "#A2B1C6",
            "ticks": ""
           },
           "bgcolor": "white",
           "caxis": {
            "gridcolor": "#DFE8F3",
            "linecolor": "#A2B1C6",
            "ticks": ""
           }
          },
          "title": {
           "x": 0.05
          },
          "xaxis": {
           "automargin": true,
           "gridcolor": "#EBF0F8",
           "linecolor": "#EBF0F8",
           "ticks": "",
           "title": {
            "standoff": 15
           },
           "zerolinecolor": "#EBF0F8",
           "zerolinewidth": 2
          },
          "yaxis": {
           "automargin": true,
           "gridcolor": "#EBF0F8",
           "linecolor": "#EBF0F8",
           "ticks": "",
           "title": {
            "standoff": 15
           },
           "zerolinecolor": "#EBF0F8",
           "zerolinewidth": 2
          }
         }
        },
        "title": {
         "font": {
          "size": 20
         },
         "text": " Frecuencia Mensual de Transacciones"
        },
        "xaxis": {
         "anchor": "y",
         "domain": [
          0,
          1
         ],
         "title": {
          "font": {
           "size": 14
          },
          "text": "Fecha"
         }
        },
        "yaxis": {
         "anchor": "x",
         "domain": [
          0,
          1
         ],
         "title": {
          "font": {
           "size": 14
          },
          "text": "Número de Transacciones"
         }
        }
       }
      }
     },
     "metadata": {},
     "output_type": "display_data"
    }
   ],
   "source": [
    "import plotly.express as px\n",
    "import pandas as pd\n",
    "\n",
    "transacciones_mensuales = (\n",
    "    df\n",
    "    .set_index('purchase_date')\n",
    "    .resample('ME')['order_id']\n",
    "    .count()\n",
    "    .reset_index()\n",
    "    .rename(columns={'order_id': 'transacciones'})\n",
    ")\n",
    "\n",
    "fig = px.line(\n",
    "    transacciones_mensuales,\n",
    "    x='purchase_date',\n",
    "    y='transacciones',\n",
    "    title=' Frecuencia Mensual de Transacciones',\n",
    "    labels={'purchase_date': 'Fecha', 'transacciones': 'Número de Transacciones'},\n",
    "    markers=True\n",
    ")\n",
    "\n",
    "fig.update_layout(\n",
    "    title_font_size=20,\n",
    "    xaxis_title_font_size=14,\n",
    "    yaxis_title_font_size=14,\n",
    "    template='plotly_white'\n",
    ")\n",
    "\n",
    "fig.show()\n"
   ]
  },
  {
   "cell_type": "markdown",
   "metadata": {},
   "source": [
    "**Calidad de los datos**"
   ]
  },
  {
   "cell_type": "code",
   "execution_count": 16,
   "metadata": {},
   "outputs": [
    {
     "name": "stdout",
     "output_type": "stream",
     "text": [
      "Nulos Pre Join:\n",
      "\n",
      "Folder Clientes:\n",
      "customer_id             0\n",
      "region_id               0\n",
      "zone_id                 0\n",
      "customer_type           0\n",
      "Y                       0\n",
      "X                       1\n",
      "num_deliver_per_week    0\n",
      "num_visit_per_week      0\n",
      "dtype: int64\n",
      "Folder Productos:\n",
      "product_id      0\n",
      "brand           0\n",
      "category        0\n",
      "sub_category    0\n",
      "segment         0\n",
      "package         0\n",
      "size            0\n",
      "dtype: int64\n",
      "Folder Transacciones:\n",
      "customer_id      0\n",
      "product_id       0\n",
      "order_id         0\n",
      "purchase_date    0\n",
      "items            0\n",
      "dtype: int64\n"
     ]
    }
   ],
   "source": [
    "print(\"Nulos Pre Join:\\n\")\n",
    "print(\"Folder Clientes:\")\n",
    "print(clientes.isnull().sum())\n",
    "print(\"Folder Productos:\")\n",
    "print(productos.isnull().sum())\n",
    "print(\"Folder Transacciones:\")\n",
    "print(transacciones.isnull().sum())"
   ]
  },
  {
   "cell_type": "code",
   "execution_count": 17,
   "metadata": {},
   "outputs": [
    {
     "name": "stdout",
     "output_type": "stream",
     "text": [
      " Nulos POST Join:\n",
      "\n",
      "customer_id             0\n",
      "product_id              0\n",
      "order_id                0\n",
      "purchase_date           0\n",
      "items                   0\n",
      "region_id               0\n",
      "zone_id                 0\n",
      "customer_type           0\n",
      "Y                       0\n",
      "X                       0\n",
      "num_deliver_per_week    0\n",
      "num_visit_per_week      0\n",
      "brand                   0\n",
      "category                0\n",
      "sub_category            0\n",
      "segment                 0\n",
      "package                 0\n",
      "size                    0\n",
      "dtype: int64\n"
     ]
    }
   ],
   "source": [
    "print(\" Nulos POST Join:\\n\")\n",
    "print(df.isnull().sum())"
   ]
  },
  {
   "cell_type": "markdown",
   "metadata": {},
   "source": [
    "**Patrones de compra**"
   ]
  },
  {
   "cell_type": "code",
   "execution_count": 18,
   "metadata": {},
   "outputs": [
    {
     "name": "stdout",
     "output_type": "stream",
     "text": [
      "   customer_id  avg_items_per_week\n",
      "0        25734           13.200000\n",
      "1        25743           79.051282\n",
      "2        25749          106.115385\n",
      "3        56868            6.045455\n",
      "4        56871            5.607843\n"
     ]
    }
   ],
   "source": [
    "# Aseguramos columna de semana y de año. Isocalendar lo que hace es \n",
    "# retorna3 un DataFrame temporal con tres columnas: year, week, day del calendario ISO 8601, mientras que \n",
    "# el comando .dt accede a atributos de fechas en pandas (year, month, etc).\n",
    "df['week'] = df['purchase_date'].dt.isocalendar().week\n",
    "df['year'] = df['purchase_date'].dt.isocalendar().year\n",
    "\n",
    "#Agrupamos por cliente, año y semana para contar productos comprados, donde cada producto\n",
    "#comprado tiene que er con el ['items']\n",
    "productos_por_semana = df.groupby(['customer_id', 'year', 'week'])['items'].sum().reset_index()\n",
    "\n",
    "#agrupando según customer_id (cada cliente único con groupby) y luego calculando el promedio con .mean()\n",
    "promedio_semanal = productos_por_semana.groupby('customer_id')['items'].mean().reset_index(name='avg_items_per_week')\n",
    "\n",
    "print(promedio_semanal.head())"
   ]
  },
  {
   "cell_type": "code",
   "execution_count": 19,
   "metadata": {},
   "outputs": [
    {
     "name": "stdout",
     "output_type": "stream",
     "text": [
      "   customer_id  num_transacciones\n",
      "0        25734                 15\n",
      "1        25743                121\n",
      "2        25749                107\n",
      "3        56868                 25\n",
      "4        56871                 36\n"
     ]
    }
   ],
   "source": [
    "#para todos los clientes únicos de la columna customer_id, vemos todas sus órdenes\n",
    "#o transacciones (si se puede decir así), donde el nunique() lo que hace es obtener\n",
    "#todas las órdenes únicas para cada cliente. Por último, se convierte customer_id en \n",
    "#una columna normal, y la columna que contiene el número de órdenes por cliente se \n",
    "#llama num_transacciones.\n",
    "transacciones_por_cliente = df.groupby('customer_id')['order_id'].nunique().reset_index(name='num_transacciones')\n",
    "\n",
    "print(transacciones_por_cliente.head())"
   ]
  },
  {
   "cell_type": "code",
   "execution_count": 20,
   "metadata": {},
   "outputs": [
    {
     "name": "stdout",
     "output_type": "stream",
     "text": [
      "   product_id  avg_days_between_purchases\n",
      "0          60                    0.596059\n",
      "1         124                    0.276596\n",
      "2        1206                  112.500000\n",
      "3        1304                    0.016644\n",
      "4        1370                    0.009679\n"
     ]
    }
   ],
   "source": [
    "#primero que todo ordenamos por el identificador del producto\n",
    "#y luego por la fecha de compra.\n",
    "df_sorted = df.sort_values(by=['product_id', 'purchase_date'])\n",
    "\n",
    "#ahora creamos una columna que se llama days_between, que corresponde o \n",
    "#es el tiempo entre compras para cada SKU por cliente. Lo que hace shift es darnos\n",
    "#la fecha de la compra anterior del mismo producto para esa fila.\n",
    "df_sorted['prev_date'] = df_sorted.groupby('product_id')['purchase_date'].shift(1)\n",
    "df_sorted['days_between'] = (df_sorted['purchase_date'] - df_sorted['prev_date']).dt.days\n",
    "\n",
    "#Por último calculamos el promedio de días entre compras por SKU, para un mismo producto.\n",
    "recompra_promedio = df_sorted.groupby('product_id')['days_between'].mean().reset_index(name='avg_days_between_purchases')\n",
    "\n",
    "print(recompra_promedio.head())"
   ]
  },
  {
   "cell_type": "code",
   "execution_count": 21,
   "metadata": {},
   "outputs": [],
   "source": [
    "df = df.merge(promedio_semanal, on='customer_id', how='left')\n",
    "df = df.merge(transacciones_por_cliente, on='customer_id', how='left')\n",
    "df = df.merge(recompra_promedio, on='product_id', how='left')"
   ]
  },
  {
   "cell_type": "markdown",
   "metadata": {},
   "source": [
    "## 📌 Holdout [0.25 puntos]\n",
    "\n",
    "Para evaluar correctamente el modelo y garantizar su capacidad de generalización, se deben dividir los datos en tres conjuntos: \n",
    "- `Entrenamiento` : Para ajustar los parámetros.\n",
    "- `Validación`: Para optimizar hiperparámetros y seleccionar el mejor modelo.\n",
    "- `Prueba` : Para evaluar el rendimiento final en datos no vistos.\n",
    "\n",
    "👀 **Hint**: *Recuerde que los datos tienen una temporalidad que debe considerarse al momento de separarlos, para evitar fugas de información. Es importante justificar la estrategia de partición elegida y visualizar la distribución temporal de los conjuntos generados*"
   ]
  },
  {
   "cell_type": "code",
   "execution_count": 22,
   "metadata": {},
   "outputs": [
    {
     "data": {
      "text/plain": [
       "(Timestamp('2024-01-01 00:00:00'), Timestamp('2024-12-31 00:00:00'))"
      ]
     },
     "execution_count": 22,
     "metadata": {},
     "output_type": "execute_result"
    }
   ],
   "source": [
    "min_date = df['purchase_date'].min()\n",
    "max_date = df['purchase_date'].max()\n",
    "\n",
    "min_date, max_date"
   ]
  },
  {
   "cell_type": "code",
   "execution_count": 23,
   "metadata": {},
   "outputs": [
    {
     "data": {
      "image/png": "[encoded data removed]",
      "text/plain": [
       "<Figure size 1200x400 with 1 Axes>"
      ]
     },
     "metadata": {},
     "output_type": "display_data"
    },
    {
     "data": {
      "text/plain": [
       "(Timestamp('2024-08-07 00:00:00'), Timestamp('2024-10-19 00:00:00'))"
      ]
     },
     "execution_count": 23,
     "metadata": {},
     "output_type": "execute_result"
    }
   ],
   "source": [
    "from datetime import timedelta\n",
    "import matplotlib.pyplot as plt\n",
    "\n",
    "min_date = df['purchase_date'].min()\n",
    "max_date = df['purchase_date'].max()\n",
    "total_days = (max_date - min_date).days\n",
    "\n",
    "cutoff_train = min_date + timedelta(days=int(total_days * 0.6))  # ~Agosto 5\n",
    "cutoff_valid = min_date + timedelta(days=int(total_days * 0.8))  # ~Octubre 27\n",
    "\n",
    "df_train = df[df['purchase_date'] <= cutoff_train]\n",
    "df_valid = df[(df['purchase_date'] > cutoff_train) & (df['purchase_date'] <= cutoff_valid)]\n",
    "df_test  = df[df['purchase_date'] > cutoff_valid]\n",
    "\n",
    "plt.figure(figsize=(12, 4))\n",
    "plt.hist(df_train['purchase_date'], bins=50, label='Train', alpha=0.6)\n",
    "plt.hist(df_valid['purchase_date'], bins=50, label='Valid', alpha=0.6)\n",
    "plt.hist(df_test['purchase_date'], bins=50, label='Test', alpha=0.6)\n",
    "plt.axvline(cutoff_train, color='black', linestyle='--', label='cutoff_train')\n",
    "plt.axvline(cutoff_valid, color='gray', linestyle='--', label='cutoff_valid')\n",
    "plt.legend()\n",
    "plt.title(\"Distribución temporal de los conjuntos (por fecha)\")\n",
    "plt.xlabel(\"Fecha de compra\")\n",
    "plt.ylabel(\"Cantidad de registros\")\n",
    "plt.tight_layout()\n",
    "plt.show()\n",
    "\n",
    "cutoff_train, cutoff_valid"
   ]
  },
  {
   "cell_type": "code",
   "execution_count": 24,
   "metadata": {},
   "outputs": [
    {
     "name": "stdout",
     "output_type": "stream",
     "text": [
      "['customer_type', 'brand', 'category', 'sub_category', 'segment', 'package']\n",
      "['customer_id', 'product_id', 'order_id', 'items', 'region_id', 'zone_id', 'Y', 'X', 'num_deliver_per_week', 'num_visit_per_week', 'size', 'week', 'year', 'avg_items_per_week', 'num_transacciones', 'avg_days_between_purchases']\n",
      "['purchase_date']\n"
     ]
    }
   ],
   "source": [
    "#ahora imprimimos las columnas categóricas, numéricas y la que contiene las fechas.\n",
    "categorical_cols = df.select_dtypes(include=['object', 'category']).columns.tolist()\n",
    "print(categorical_cols)\n",
    "numerical_cols = df.select_dtypes(include=['number']).columns.tolist()\n",
    "print(numerical_cols)\n",
    "date_cols = ['purchase_date']\n",
    "print(date_cols)"
   ]
  },
  {
   "cell_type": "markdown",
   "metadata": {},
   "source": [
    "## 📌 Feature Engineering [0.5 puntos]\n",
    "\n",
    "<center>\n",
    "<img src=\"https://i.imgur.com/CmXZSSC.gif\" width=\"300\" height=\"200\">"
   ]
  },
  {
   "cell_type": "markdown",
   "metadata": {},
   "source": [
    "En esta sección, se deben construir pipelines para automatizar el preprocesamiento de los datos, lo cual garantizará que el flujo de trabajo sea reproducible y eficiente para esta entrega y las futuras. El objetivo es aplicar una serie de transformaciones en un orden definido para asegurar que los datos estén listos para los modelos a entrenar. El pipeline final debe incluir las técnicas de pre-procesamiento que se deben aplicar a los distintos datos (según lo que consideren necesario para el problema). Por ejemplo:\n",
    "\n",
    "- **Imputación de valores nulos**: Manejo de datos faltantes mediante estrategias adecuadas (media, mediana, moda, interpolación, etc.). \n",
    "\n",
    "- **Transformaciones personalizadas**: Uso de ColumnTransformer para aplicar diferentes transformaciones a columnas específicas.\n",
    "\n",
    "- **Codificación de variables categóricas**: Convertir datos categóricos a un formato numérico adecuado (One-Hot Encoding, Label Encoding, etc.).\n",
    "\n",
    "- **Discretización de variables**: Conversión de variables numéricas continuas en categorías si son relevantes para el desempeño del modelo a entrenar.\n",
    "\n",
    "- **Estandarización o normalización** : Ajustar la escala de los datos para mejorar el rendimiento de los algoritmos sensibles a la magnitud de las variables.\n",
    "\n",
    "- **Eliminación o transformación de valores atípicos**: Identificar y tratar con datos outliers para mejorar la robustez del modelo.\n",
    "\n",
    "- **Nuevas características** : Creación de variables adicionales que puedan aportar información relevante al modelo.\n",
    "\n",
    "Cada una de estas transformaciones debe ser justificada en función de su relevancia para el problema y los datos, y es importante evaluar su impacto en el rendimiento del modelo. Además, el pipeline debe ser flexible y modular para poder probar diferentes configuraciones de preprocesamiento."
   ]
  },
  {
   "cell_type": "code",
   "execution_count": 25,
   "metadata": {},
   "outputs": [],
   "source": [
    "from sklearn.pipeline import Pipeline\n",
    "from sklearn.compose import ColumnTransformer\n",
    "from sklearn.impute import SimpleImputer\n",
    "from sklearn.preprocessing import OneHotEncoder, StandardScaler\n",
    "from sklearn.base import BaseEstimator, TransformerMixin\n",
    "from sklearn.ensemble import RandomForestClassifier\n",
    "from sklearn.metrics import classification_report\n",
    "import pandas as pd\n",
    "\n",
    "class DateFeatureExtractor(BaseEstimator, TransformerMixin):\n",
    "    \"\"\"En esta clase lo que hacemos es definir las funciones fit y \n",
    "    transform para poder convertir los datos\"\"\"\n",
    "    def __init__(self, date_column=\"purchase_date\"):\n",
    "        self.date_column = date_column\n",
    "\n",
    "    def fit(self, X, y=None):\n",
    "        return self\n",
    "\n",
    "    def transform(self, X):\n",
    "        X = X.copy()\n",
    "        X[self.date_column] = pd.to_datetime(X[self.date_column])\n",
    "        X[\"dayofweek\"] = X[self.date_column].dt.dayofweek\n",
    "        X[\"month\"] = X[self.date_column].dt.month\n",
    "        X[\"week\"] = X[self.date_column].dt.isocalendar().week.astype(int)\n",
    "        return X.drop(columns=[self.date_column])\n",
    "\n",
    "#ahora definimos un pipeline para el transformer de cada uno de los tipos de columna\n",
    "#de nuestro dataset original.\n",
    "numeric_transformer = Pipeline(steps=[\n",
    "    (\"imputer\", SimpleImputer(strategy=\"median\")),\n",
    "    (\"scaler\", StandardScaler())\n",
    "])\n",
    "\n",
    "categorical_transformer = Pipeline(steps=[\n",
    "    (\"imputer\", SimpleImputer(strategy=\"most_frequent\")),\n",
    "    (\"encoder\", OneHotEncoder(handle_unknown=\"ignore\", sparse_output=False))\n",
    "])\n",
    "\n",
    "preprocessor = ColumnTransformer(transformers=[\n",
    "    (\"num\", numeric_transformer, numerical_cols),\n",
    "    (\"cat\", categorical_transformer, categorical_cols)\n",
    "])"
   ]
  },
  {
   "cell_type": "markdown",
   "metadata": {},
   "source": [
    "## 📌 Baseline [0.25 puntos]\n",
    "\n",
    "<center>\n",
    "<img src=\"https://media1.giphy.com/media/v1.Y2lkPTc5MGI3NjExN3lzeGFqZmU3NzJrZHllNjRmaHVzczJpZ29rdHdlMzVpZnQwNXo1diZlcD12MV9pbnRlcm5hbF9naWZfYnlfaWQmY3Q9Zw/qAtZM2gvjWhPjmclZE/giphy.gif\" width=\"300\" height=\"200\">"
   ]
  },
  {
   "cell_type": "markdown",
   "metadata": {},
   "source": [
    "En esta sección se debe construir el modelo más sencillo posible que pueda resolver el problema planteado, conocido como **Modelo baseline**. Su propósito es servir como referencia para comparar el rendimiento de los modelos más avanzados desarrollados en etapas posteriores.  \n",
    "\n",
    "Pasos requeridos:  \n",
    "- Implemente, entrene y evalúe un modelo básico utilizando un pipeline.  \n",
    "- Asegúrese de incluir en el pipeline las transformaciones del preprocesamiento realizadas previamente junto con un clasificador básico.  \n",
    "- Evalúe el modelo y presente el informe de métricas utilizando **`classification_report`**.  \n",
    "\n",
    "Documente claramente cómo se creó el modelo, las decisiones tomadas y los resultados obtenidos. Este modelo será la base comparativa en las secciones posteriores."
   ]
  },
  {
   "cell_type": "code",
   "execution_count": 26,
   "metadata": {},
   "outputs": [
    {
     "data": {
      "text/html": [
       "<div>\n",
       "<style scoped>\n",
       "    .dataframe tbody tr th:only-of-type {\n",
       "        vertical-align: middle;\n",
       "    }\n",
       "\n",
       "    .dataframe tbody tr th {\n",
       "        vertical-align: top;\n",
       "    }\n",
       "\n",
       "    .dataframe thead th {\n",
       "        text-align: right;\n",
       "    }\n",
       "</style>\n",
       "<table border=\"1\" class=\"dataframe\">\n",
       "  <thead>\n",
       "    <tr style=\"text-align: right;\">\n",
       "      <th></th>\n",
       "      <th>customer_id</th>\n",
       "      <th>product_id</th>\n",
       "      <th>order_id</th>\n",
       "      <th>purchase_date</th>\n",
       "      <th>items</th>\n",
       "      <th>region_id</th>\n",
       "      <th>zone_id</th>\n",
       "      <th>customer_type</th>\n",
       "      <th>Y</th>\n",
       "      <th>X</th>\n",
       "      <th>...</th>\n",
       "      <th>category</th>\n",
       "      <th>sub_category</th>\n",
       "      <th>segment</th>\n",
       "      <th>package</th>\n",
       "      <th>size</th>\n",
       "      <th>week</th>\n",
       "      <th>year</th>\n",
       "      <th>avg_items_per_week</th>\n",
       "      <th>num_transacciones</th>\n",
       "      <th>avg_days_between_purchases</th>\n",
       "    </tr>\n",
       "  </thead>\n",
       "  <tbody>\n",
       "    <tr>\n",
       "      <th>5136</th>\n",
       "      <td>238218</td>\n",
       "      <td>1304</td>\n",
       "      <td>782200</td>\n",
       "      <td>2024-09-02</td>\n",
       "      <td>2.333333</td>\n",
       "      <td>80</td>\n",
       "      <td>5148</td>\n",
       "      <td>MAYORISTA</td>\n",
       "      <td>-46.553062</td>\n",
       "      <td>-107.856454</td>\n",
       "      <td>...</td>\n",
       "      <td>BEBIDAS CARBONATADAS</td>\n",
       "      <td>GASEOSAS</td>\n",
       "      <td>MEDIUM</td>\n",
       "      <td>BOTELLA</td>\n",
       "      <td>1.00</td>\n",
       "      <td>36</td>\n",
       "      <td>2024</td>\n",
       "      <td>7.938596</td>\n",
       "      <td>60</td>\n",
       "      <td>0.016644</td>\n",
       "    </tr>\n",
       "    <tr>\n",
       "      <th>6065</th>\n",
       "      <td>238218</td>\n",
       "      <td>1304</td>\n",
       "      <td>782200</td>\n",
       "      <td>2024-09-02</td>\n",
       "      <td>-1.666667</td>\n",
       "      <td>80</td>\n",
       "      <td>5148</td>\n",
       "      <td>MAYORISTA</td>\n",
       "      <td>-46.553062</td>\n",
       "      <td>-107.856454</td>\n",
       "      <td>...</td>\n",
       "      <td>BEBIDAS CARBONATADAS</td>\n",
       "      <td>GASEOSAS</td>\n",
       "      <td>MEDIUM</td>\n",
       "      <td>BOTELLA</td>\n",
       "      <td>1.00</td>\n",
       "      <td>36</td>\n",
       "      <td>2024</td>\n",
       "      <td>7.938596</td>\n",
       "      <td>60</td>\n",
       "      <td>0.016644</td>\n",
       "    </tr>\n",
       "    <tr>\n",
       "      <th>6740</th>\n",
       "      <td>88920</td>\n",
       "      <td>1370</td>\n",
       "      <td>768818</td>\n",
       "      <td>2024-08-29</td>\n",
       "      <td>1.666667</td>\n",
       "      <td>80</td>\n",
       "      <td>5148</td>\n",
       "      <td>ABARROTES</td>\n",
       "      <td>-46.536400</td>\n",
       "      <td>-107.885828</td>\n",
       "      <td>...</td>\n",
       "      <td>BEBIDAS CARBONATADAS</td>\n",
       "      <td>GASEOSAS</td>\n",
       "      <td>MEDIUM</td>\n",
       "      <td>BOTELLA</td>\n",
       "      <td>1.00</td>\n",
       "      <td>35</td>\n",
       "      <td>2024</td>\n",
       "      <td>27.738562</td>\n",
       "      <td>88</td>\n",
       "      <td>0.009679</td>\n",
       "    </tr>\n",
       "    <tr>\n",
       "      <th>6741</th>\n",
       "      <td>189012</td>\n",
       "      <td>1304</td>\n",
       "      <td>774420</td>\n",
       "      <td>2024-08-30</td>\n",
       "      <td>3.000000</td>\n",
       "      <td>80</td>\n",
       "      <td>5148</td>\n",
       "      <td>ABARROTES</td>\n",
       "      <td>-46.590214</td>\n",
       "      <td>-107.890216</td>\n",
       "      <td>...</td>\n",
       "      <td>BEBIDAS CARBONATADAS</td>\n",
       "      <td>GASEOSAS</td>\n",
       "      <td>MEDIUM</td>\n",
       "      <td>BOTELLA</td>\n",
       "      <td>1.00</td>\n",
       "      <td>35</td>\n",
       "      <td>2024</td>\n",
       "      <td>6.976190</td>\n",
       "      <td>48</td>\n",
       "      <td>0.016644</td>\n",
       "    </tr>\n",
       "    <tr>\n",
       "      <th>6742</th>\n",
       "      <td>192564</td>\n",
       "      <td>42132</td>\n",
       "      <td>774482</td>\n",
       "      <td>2024-08-30</td>\n",
       "      <td>1.000000</td>\n",
       "      <td>80</td>\n",
       "      <td>5148</td>\n",
       "      <td>MAYORISTA</td>\n",
       "      <td>-46.549694</td>\n",
       "      <td>-108.299796</td>\n",
       "      <td>...</td>\n",
       "      <td>BEBIDAS CARBONATADAS</td>\n",
       "      <td>GASEOSAS</td>\n",
       "      <td>MEDIUM</td>\n",
       "      <td>BOTELLA</td>\n",
       "      <td>0.33</td>\n",
       "      <td>35</td>\n",
       "      <td>2024</td>\n",
       "      <td>12.597484</td>\n",
       "      <td>81</td>\n",
       "      <td>0.250419</td>\n",
       "    </tr>\n",
       "    <tr>\n",
       "      <th>...</th>\n",
       "      <td>...</td>\n",
       "      <td>...</td>\n",
       "      <td>...</td>\n",
       "      <td>...</td>\n",
       "      <td>...</td>\n",
       "      <td>...</td>\n",
       "      <td>...</td>\n",
       "      <td>...</td>\n",
       "      <td>...</td>\n",
       "      <td>...</td>\n",
       "      <td>...</td>\n",
       "      <td>...</td>\n",
       "      <td>...</td>\n",
       "      <td>...</td>\n",
       "      <td>...</td>\n",
       "      <td>...</td>\n",
       "      <td>...</td>\n",
       "      <td>...</td>\n",
       "      <td>...</td>\n",
       "      <td>...</td>\n",
       "      <td>...</td>\n",
       "    </tr>\n",
       "    <tr>\n",
       "      <th>249563</th>\n",
       "      <td>228948</td>\n",
       "      <td>42132</td>\n",
       "      <td>722652</td>\n",
       "      <td>2024-08-14</td>\n",
       "      <td>1.000000</td>\n",
       "      <td>80</td>\n",
       "      <td>5148</td>\n",
       "      <td>MAYORISTA</td>\n",
       "      <td>-46.418818</td>\n",
       "      <td>-107.796026</td>\n",
       "      <td>...</td>\n",
       "      <td>BEBIDAS CARBONATADAS</td>\n",
       "      <td>GASEOSAS</td>\n",
       "      <td>MEDIUM</td>\n",
       "      <td>BOTELLA</td>\n",
       "      <td>0.33</td>\n",
       "      <td>33</td>\n",
       "      <td>2024</td>\n",
       "      <td>6.287879</td>\n",
       "      <td>54</td>\n",
       "      <td>0.250419</td>\n",
       "    </tr>\n",
       "    <tr>\n",
       "      <th>249564</th>\n",
       "      <td>238689</td>\n",
       "      <td>1304</td>\n",
       "      <td>731775</td>\n",
       "      <td>2024-08-16</td>\n",
       "      <td>1.666667</td>\n",
       "      <td>80</td>\n",
       "      <td>5148</td>\n",
       "      <td>ABARROTES</td>\n",
       "      <td>-46.866430</td>\n",
       "      <td>-107.952574</td>\n",
       "      <td>...</td>\n",
       "      <td>BEBIDAS CARBONATADAS</td>\n",
       "      <td>GASEOSAS</td>\n",
       "      <td>MEDIUM</td>\n",
       "      <td>BOTELLA</td>\n",
       "      <td>1.00</td>\n",
       "      <td>33</td>\n",
       "      <td>2024</td>\n",
       "      <td>6.101449</td>\n",
       "      <td>56</td>\n",
       "      <td>0.016644</td>\n",
       "    </tr>\n",
       "    <tr>\n",
       "      <th>249565</th>\n",
       "      <td>244287</td>\n",
       "      <td>30500</td>\n",
       "      <td>731985</td>\n",
       "      <td>2024-08-16</td>\n",
       "      <td>3.666667</td>\n",
       "      <td>80</td>\n",
       "      <td>5148</td>\n",
       "      <td>MAYORISTA</td>\n",
       "      <td>-46.534104</td>\n",
       "      <td>-107.892816</td>\n",
       "      <td>...</td>\n",
       "      <td>BEBIDAS CARBONATADAS</td>\n",
       "      <td>GASEOSAS</td>\n",
       "      <td>PREMIUM</td>\n",
       "      <td>LATA</td>\n",
       "      <td>0.31</td>\n",
       "      <td>33</td>\n",
       "      <td>2024</td>\n",
       "      <td>19.607843</td>\n",
       "      <td>44</td>\n",
       "      <td>0.028893</td>\n",
       "    </tr>\n",
       "    <tr>\n",
       "      <th>249566</th>\n",
       "      <td>244680</td>\n",
       "      <td>1370</td>\n",
       "      <td>732012</td>\n",
       "      <td>2024-08-16</td>\n",
       "      <td>3.000000</td>\n",
       "      <td>80</td>\n",
       "      <td>5148</td>\n",
       "      <td>ABARROTES</td>\n",
       "      <td>-46.563840</td>\n",
       "      <td>-107.936536</td>\n",
       "      <td>...</td>\n",
       "      <td>BEBIDAS CARBONATADAS</td>\n",
       "      <td>GASEOSAS</td>\n",
       "      <td>MEDIUM</td>\n",
       "      <td>BOTELLA</td>\n",
       "      <td>1.00</td>\n",
       "      <td>33</td>\n",
       "      <td>2024</td>\n",
       "      <td>16.464646</td>\n",
       "      <td>61</td>\n",
       "      <td>0.009679</td>\n",
       "    </tr>\n",
       "    <tr>\n",
       "      <th>249567</th>\n",
       "      <td>246963</td>\n",
       "      <td>50716</td>\n",
       "      <td>727330</td>\n",
       "      <td>2024-08-15</td>\n",
       "      <td>2.333333</td>\n",
       "      <td>80</td>\n",
       "      <td>5148</td>\n",
       "      <td>MAYORISTA</td>\n",
       "      <td>-46.441226</td>\n",
       "      <td>-107.799640</td>\n",
       "      <td>...</td>\n",
       "      <td>BEBIDAS CARBONATADAS</td>\n",
       "      <td>GASEOSAS</td>\n",
       "      <td>HIGH</td>\n",
       "      <td>LATA</td>\n",
       "      <td>0.25</td>\n",
       "      <td>33</td>\n",
       "      <td>2024</td>\n",
       "      <td>37.210526</td>\n",
       "      <td>36</td>\n",
       "      <td>0.032138</td>\n",
       "    </tr>\n",
       "  </tbody>\n",
       "</table>\n",
       "<p>50410 rows × 23 columns</p>\n",
       "</div>"
      ],
      "text/plain": [
       "        customer_id  product_id  order_id purchase_date     items  region_id  \\\n",
       "5136         238218        1304    782200    2024-09-02  2.333333         80   \n",
       "6065         238218        1304    782200    2024-09-02 -1.666667         80   \n",
       "6740          88920        1370    768818    2024-08-29  1.666667         80   \n",
       "6741         189012        1304    774420    2024-08-30  3.000000         80   \n",
       "6742         192564       42132    774482    2024-08-30  1.000000         80   \n",
       "...             ...         ...       ...           ...       ...        ...   \n",
       "249563       228948       42132    722652    2024-08-14  1.000000         80   \n",
       "249564       238689        1304    731775    2024-08-16  1.666667         80   \n",
       "249565       244287       30500    731985    2024-08-16  3.666667         80   \n",
       "249566       244680        1370    732012    2024-08-16  3.000000         80   \n",
       "249567       246963       50716    727330    2024-08-15  2.333333         80   \n",
       "\n",
       "        zone_id customer_type          Y           X  ...  \\\n",
       "5136       5148     MAYORISTA -46.553062 -107.856454  ...   \n",
       "6065       5148     MAYORISTA -46.553062 -107.856454  ...   \n",
       "6740       5148     ABARROTES -46.536400 -107.885828  ...   \n",
       "6741       5148     ABARROTES -46.590214 -107.890216  ...   \n",
       "6742       5148     MAYORISTA -46.549694 -108.299796  ...   \n",
       "...         ...           ...        ...         ...  ...   \n",
       "249563     5148     MAYORISTA -46.418818 -107.796026  ...   \n",
       "249564     5148     ABARROTES -46.866430 -107.952574  ...   \n",
       "249565     5148     MAYORISTA -46.534104 -107.892816  ...   \n",
       "249566     5148     ABARROTES -46.563840 -107.936536  ...   \n",
       "249567     5148     MAYORISTA -46.441226 -107.799640  ...   \n",
       "\n",
       "                    category  sub_category  segment  package  size week  year  \\\n",
       "5136    BEBIDAS CARBONATADAS      GASEOSAS   MEDIUM  BOTELLA  1.00   36  2024   \n",
       "6065    BEBIDAS CARBONATADAS      GASEOSAS   MEDIUM  BOTELLA  1.00   36  2024   \n",
       "6740    BEBIDAS CARBONATADAS      GASEOSAS   MEDIUM  BOTELLA  1.00   35  2024   \n",
       "6741    BEBIDAS CARBONATADAS      GASEOSAS   MEDIUM  BOTELLA  1.00   35  2024   \n",
       "6742    BEBIDAS CARBONATADAS      GASEOSAS   MEDIUM  BOTELLA  0.33   35  2024   \n",
       "...                      ...           ...      ...      ...   ...  ...   ...   \n",
       "249563  BEBIDAS CARBONATADAS      GASEOSAS   MEDIUM  BOTELLA  0.33   33  2024   \n",
       "249564  BEBIDAS CARBONATADAS      GASEOSAS   MEDIUM  BOTELLA  1.00   33  2024   \n",
       "249565  BEBIDAS CARBONATADAS      GASEOSAS  PREMIUM     LATA  0.31   33  2024   \n",
       "249566  BEBIDAS CARBONATADAS      GASEOSAS   MEDIUM  BOTELLA  1.00   33  2024   \n",
       "249567  BEBIDAS CARBONATADAS      GASEOSAS     HIGH     LATA  0.25   33  2024   \n",
       "\n",
       "        avg_items_per_week  num_transacciones  avg_days_between_purchases  \n",
       "5136              7.938596                 60                    0.016644  \n",
       "6065              7.938596                 60                    0.016644  \n",
       "6740             27.738562                 88                    0.009679  \n",
       "6741              6.976190                 48                    0.016644  \n",
       "6742             12.597484                 81                    0.250419  \n",
       "...                    ...                ...                         ...  \n",
       "249563            6.287879                 54                    0.250419  \n",
       "249564            6.101449                 56                    0.016644  \n",
       "249565           19.607843                 44                    0.028893  \n",
       "249566           16.464646                 61                    0.009679  \n",
       "249567           37.210526                 36                    0.032138  \n",
       "\n",
       "[50410 rows x 23 columns]"
      ]
     },
     "execution_count": 26,
     "metadata": {},
     "output_type": "execute_result"
    }
   ],
   "source": [
    "X_train = df_train#.drop(columns=['items'])\n",
    "X_valid = df_valid#.drop(columns=['items'])\n",
    "\n",
    "y_train = (df_train['items'] > 0).astype(int)\n",
    "y_valid = (df_valid['items'] > 0).astype(int)\n",
    "\n",
    "X_valid"
   ]
  },
  {
   "cell_type": "code",
   "execution_count": null,
   "metadata": {},
   "outputs": [
    {
     "name": "stdout",
     "output_type": "stream",
     "text": [
      "              precision    recall  f1-score   support\n",
      "\n",
      "           0       1.00      1.00      1.00      1299\n",
      "           1       1.00      1.00      1.00     49111\n",
      "\n",
      "    accuracy                           1.00     50410\n",
      "   macro avg       1.00      1.00      1.00     50410\n",
      "weighted avg       1.00      1.00      1.00     50410\n",
      "\n"
     ]
    }
   ],
   "source": [
    "rf_pipeline = Pipeline([\n",
    "    (\"date_features\", DateFeatureExtractor(date_column=\"purchase_date\")),\n",
    "    (\"preprocessor\", preprocessor),\n",
    "    (\"classifier\", RandomForestClassifier(n_estimators=100, random_state=42, class_weight='balanced'))\n",
    "])\n",
    "\n",
    "rf_pipeline.fit(X_train, y_train)\n",
    "y_pred = rf_pipeline.predict(X_valid)\n",
    "\n",
    "print(classification_report(y_valid, y_pred))"
   ]
  },
  {
   "cell_type": "markdown",
   "metadata": {},
   "source": [
    "Para recomendar productos con alta probabilidad de compra, el modelo sirve.\n",
    "\n",
    "***recall = 1.00*** (captura los positivos reales)\n",
    "\n",
    "No predice correctamente la clase 0.\n",
    "\n",
    "¿Cómo podría usarse este código? Por ejemplo, añadiendo un top 5 de productos que el cliente probablemente (prob_compra > 0.8) comprará"
   ]
  },
  {
   "cell_type": "code",
   "execution_count": 28,
   "metadata": {},
   "outputs": [],
   "source": [
    "# #Cóomo podría usarse este código ??? Añadiendo un top 5 de productos que el cliente probablemente (>0.8) comprará\n",
    "# por ejemplo.\n",
    "\n",
    "# y_proba = rf_pipeline.predict_proba(df_valid)[:, 1]\n",
    "\n",
    "# df_valid_results = df_valid.copy()\n",
    "# df_valid_results[\"prob_compra\"] = y_proba\n",
    "# df_valid_results[\"prediccion\"] = y_pred\n",
    "# df_valid_results[\"real\"] = y_valid.values\n",
    "\n",
    "# top_recomendaciones = (\n",
    "#     df_valid_results[df_valid_results[\"prob_compra\"] > 0.8]\n",
    "#     .sort_values(\"prob_compra\", ascending=False)\n",
    "#     .groupby(\"customer_id\")\n",
    "#     .head(5)\n",
    "# )\n",
    "# top_recomendaciones"
   ]
  },
  {
   "cell_type": "markdown",
   "metadata": {},
   "source": [
    "## 📌 Elección de modelo [0.75 puntos]\n",
    "\n",
    "En esta sección deben escoger un modelo que se adapte a las necesidades del negocio. Para esto, pruebe al menos 3 modelos y desarrolle los siguientes aspectos para cada uno:\n",
    "\n",
    "- **Estructura y diferencias entre los modelos**: Explicar brevemente cada uno y sus hipérparámetros de mayor importancia.\n",
    "- **Clasificadores recomendados**:\n",
    "  - `LogisticRegression`\n",
    "  - `KNeighborsClassifier`\n",
    "  - `DecisionTreeClassifier`\n",
    "  - `SVC`\n",
    "  - `RandomForestClassifier`\n",
    "  - `LightGBMClassifier` (del paquete `lightgbm`)\n",
    "  - `XGBClassifier` (del paquete `xgboost`)\n",
    "  - Otro (según lo que se estime adecuado)\n",
    "  \n",
    "- **Evaluación de resultados**: Se utilizará el **`classification_report`** para evaluar el rendimiento de cada modelo, destacando métricas clave como precisión, recall y F1-score. **Importante: No optimicen hiperparámetros, la idea es hacer una selección rápida del modelo.**\n",
    "\n",
    "**Nota:** Pueden ocupar mas de 1 **instancia** de modelo para resolver el problema (e.g: (modelo_1, grupo_1), (modelo_2, grupo_2), ...).\n",
    "  \n",
    "A continuación, se deben responder las siguientes preguntas para evaluar el rendimiento de los modelos entrenados:\n",
    "\n",
    "1. ¿Hay algún clasificador que supere al modelo baseline?  \n",
    "2. ¿Cuál es el mejor clasificador entrenado y por qué?  \n",
    "3. ¿Qué factores hacen que el mejor clasificador sea superior a los otros?  \n",
    "4. En términos de `tiempo de entrenamiento`, ¿Qué modelo considera más adecuado para experimentar con grillas de optimización?"
   ]
  },
  {
   "cell_type": "code",
   "execution_count": 29,
   "metadata": {},
   "outputs": [
    {
     "name": "stdout",
     "output_type": "stream",
     "text": [
      "              precision    recall  f1-score   support\n",
      "\n",
      "           0       1.00      1.00      1.00      1299\n",
      "           1       1.00      1.00      1.00     49111\n",
      "\n",
      "    accuracy                           1.00     50410\n",
      "   macro avg       1.00      1.00      1.00     50410\n",
      "weighted avg       1.00      1.00      1.00     50410\n",
      "\n"
     ]
    }
   ],
   "source": [
    "#Elegiremos el modelo LogisticRegression, importando sus \n",
    "#librerías de https://www.geeksforgeeks.org/understanding-logistic-regression/\n",
    "from sklearn.linear_model import LogisticRegression\n",
    "Logistic_regression_Pipeline = Pipeline([\n",
    "    (\"date_features\", DateFeatureExtractor(date_column=\"purchase_date\")),\n",
    "    (\"preprocessor\", preprocessor),\n",
    "    ('clf', LogisticRegression(max_iter=10000, random_state=42))\n",
    "])\n",
    "\n",
    "Logistic_regression_Pipeline.fit(df_train, y_train)\n",
    "y_pred = Logistic_regression_Pipeline.predict(df_valid)\n",
    "\n",
    "print(classification_report(y_valid, y_pred))"
   ]
  },
  {
   "cell_type": "code",
   "execution_count": 30,
   "metadata": {},
   "outputs": [
    {
     "name": "stdout",
     "output_type": "stream",
     "text": [
      "              precision    recall  f1-score   support\n",
      "\n",
      "           0       1.00      1.00      1.00      1299\n",
      "           1       1.00      1.00      1.00     49111\n",
      "\n",
      "    accuracy                           1.00     50410\n",
      "   macro avg       1.00      1.00      1.00     50410\n",
      "weighted avg       1.00      1.00      1.00     50410\n",
      "\n"
     ]
    }
   ],
   "source": [
    "#Elegiremos el modelo XGBoost Classifier, importando sus librerías\n",
    "#de la página https://xgboost.readthedocs.io/en/release_3.0.0/get_started.html\n",
    "from xgboost import XGBClassifier\n",
    "\n",
    "XGB = XGBClassifier(n_estimators=2, max_depth=2, learning_rate=1, objective='binary:logistic')\n",
    "xgb_pipeline = Pipeline([\n",
    "    (\"date_features\", DateFeatureExtractor(date_column=\"purchase_date\")),\n",
    "    (\"preprocessor\", preprocessor),\n",
    "    (\"clf\", XGB)\n",
    "])\n",
    "\n",
    "xgb_pipeline.fit(X_train, y_train)\n",
    "\n",
    "y_pred = xgb_pipeline.predict(X_valid)\n",
    "\n",
    "print(classification_report(y_valid, y_pred))"
   ]
  },
  {
   "cell_type": "code",
   "execution_count": 31,
   "metadata": {},
   "outputs": [
    {
     "name": "stdout",
     "output_type": "stream",
     "text": [
      "              precision    recall  f1-score   support\n",
      "\n",
      "           0       1.00      1.00      1.00      1299\n",
      "           1       1.00      1.00      1.00     49111\n",
      "\n",
      "    accuracy                           1.00     50410\n",
      "   macro avg       1.00      1.00      1.00     50410\n",
      "weighted avg       1.00      1.00      1.00     50410\n",
      "\n"
     ]
    }
   ],
   "source": [
    "#tomamos por ejemplo https://scikit-learn.org/stable/modules/generated/sklearn.tree.DecisionTreeClassifier.html\n",
    "from sklearn.tree import DecisionTreeClassifier\n",
    "\n",
    "DT = DecisionTreeClassifier(criterion='gini', splitter='best', \n",
    "                       max_depth=None, min_samples_split=2, \n",
    "                       min_samples_leaf=1, min_weight_fraction_leaf=0.0, \n",
    "                       max_features=None, random_state=None, max_leaf_nodes=None, \n",
    "                       min_impurity_decrease=0.0, class_weight=None, \n",
    "                       ccp_alpha=0.0, monotonic_cst=None)\n",
    "\n",
    "Decision_Tree_Pipeline = Pipeline([\n",
    "    (\"date_features\", DateFeatureExtractor(date_column=\"purchase_date\")),\n",
    "    (\"preprocessor\", preprocessor),\n",
    "    ('clf', DT)\n",
    "])\n",
    "\n",
    "Decision_Tree_Pipeline.fit(df_train, y_train)\n",
    "y_pred = Decision_Tree_Pipeline.predict(df_valid)\n",
    "\n",
    "print(classification_report(y_valid, y_pred))\n",
    "\n"
   ]
  },
  {
   "cell_type": "markdown",
   "metadata": {},
   "source": [
    "## 📌 Optimización de Hiperparámetros [1.0 puntos]\n",
    "\n",
    "<center>\n",
    "<img src=\"https://media1.giphy.com/media/v1.Y2lkPTc5MGI3NjExcXJkNzdhYjlneHplaGpsbnVkdzh5dnY3Y2VyaTIzamszdGR1czJ2diZlcD12MV9pbnRlcm5hbF9naWZfYnlfaWQmY3Q9Zw/2rqEdFfkMzXmo/giphy.gif\" width=\"300\" height=\"200\">"
   ]
  },
  {
   "cell_type": "markdown",
   "metadata": {},
   "source": [
    "A partir de su análisis anterior, se debe proceder a optimizar el rendimiento del modelo seleccionado mediante la optimización de sus hiperparámetros. Para ello, se espera que implementen `Optuna` para optimizar no solo los hiperparámetros del modelo, sino también los de los preprocesadores utilizados (por ejemplo, OneHot Encoding, Scalers, etc.).\n",
    "\n",
    "Al desarrollar este proceso, deberán responder las siguientes preguntas clave como mínimo:\n",
    "\n",
    "- ¿Qué métrica decidieron optimizar y por qué?\n",
    "\n",
    "- ¿Qué hiperparámetro tuvo un mayor impacto en el rendimiento de su modelo?\n",
    "\n",
    "- ¿Cuánto mejoró el rendimiento del modelo después de la optimización de hiperparámetros?"
   ]
  },
  {
   "cell_type": "code",
   "execution_count": 32,
   "metadata": {},
   "outputs": [],
   "source": [
    "#!pip install optuna"
   ]
  },
  {
   "cell_type": "code",
   "execution_count": null,
   "metadata": {},
   "outputs": [
    {
     "name": "stderr",
     "output_type": "stream",
     "text": [
      "[I 2025-05-12 15:42:43,637] A new study created in memory with name: no-name-d34b1584-1ccc-45fd-b0f5-55873bc0bd43\n",
      "/Users/diegoespinoza/Library/Python/3.9/lib/python/site-packages/xgboost/core.py:158: UserWarning:\n",
      "\n",
      "[15:42:44] WARNING: /Users/runner/work/xgboost/xgboost/src/learner.cc:740: \n",
      "Parameters: { \"use_label_encoder\" } are not used.\n",
      "\n",
      "\n",
      "[I 2025-05-12 15:42:45,504] Trial 0 finished with value: 0.0 and parameters: {'learning_rate': 0.03807947176588889, 'n_estimators': 954, 'max_depth': 8, 'max_leaves': 60, 'min_child_weight': 1, 'reg_alpha': 0.15599452033620265, 'reg_lambda': 0.05808361216819946, 'min_frequency': 0.8661761457749352}. Best is trial 0 with value: 0.0.\n",
      "/Users/diegoespinoza/Library/Python/3.9/lib/python/site-packages/xgboost/core.py:158: UserWarning:\n",
      "\n",
      "[15:42:45] WARNING: /Users/runner/work/xgboost/xgboost/src/learner.cc:740: \n",
      "Parameters: { \"use_label_encoder\" } are not used.\n",
      "\n",
      "\n",
      "[I 2025-05-12 15:42:46,967] Trial 1 finished with value: 0.0 and parameters: {'learning_rate': 0.06051038616257767, 'n_estimators': 723, 'max_depth': 3, 'max_leaves': 97, 'min_child_weight': 5, 'reg_alpha': 0.21233911067827616, 'reg_lambda': 0.18182496720710062, 'min_frequency': 0.18340450985343382}. Best is trial 0 with value: 0.0.\n",
      "/Users/diegoespinoza/Library/Python/3.9/lib/python/site-packages/xgboost/core.py:158: UserWarning:\n",
      "\n",
      "[15:42:47] WARNING: /Users/runner/work/xgboost/xgboost/src/learner.cc:740: \n",
      "Parameters: { \"use_label_encoder\" } are not used.\n",
      "\n",
      "\n",
      "[I 2025-05-12 15:42:48,404] Trial 2 finished with value: 0.0 and parameters: {'learning_rate': 0.031119982052994235, 'n_estimators': 549, 'max_depth': 6, 'max_leaves': 29, 'min_child_weight': 4, 'reg_alpha': 0.13949386065204183, 'reg_lambda': 0.29214464853521815, 'min_frequency': 0.3663618432936917}. Best is trial 0 with value: 0.0.\n",
      "/Users/diegoespinoza/Library/Python/3.9/lib/python/site-packages/xgboost/core.py:158: UserWarning:\n",
      "\n",
      "[15:42:48] WARNING: /Users/runner/work/xgboost/xgboost/src/learner.cc:740: \n",
      "Parameters: { \"use_label_encoder\" } are not used.\n",
      "\n",
      "\n",
      "[I 2025-05-12 15:42:50,121] Trial 3 finished with value: 0.0 and parameters: {'learning_rate': 0.04615092843748656, 'n_estimators': 796, 'max_depth': 4, 'max_leaves': 51, 'min_child_weight': 3, 'reg_alpha': 0.046450412719997725, 'reg_lambda': 0.6075448519014384, 'min_frequency': 0.17052412368729153}. Best is trial 0 with value: 0.0.\n",
      "/Users/diegoespinoza/Library/Python/3.9/lib/python/site-packages/xgboost/core.py:158: UserWarning:\n",
      "\n",
      "[15:42:50] WARNING: /Users/runner/work/xgboost/xgboost/src/learner.cc:740: \n",
      "Parameters: { \"use_label_encoder\" } are not used.\n",
      "\n",
      "\n",
      "[I 2025-05-12 15:42:52,207] Trial 4 finished with value: 0.0 and parameters: {'learning_rate': 0.0074401077055426725, 'n_estimators': 952, 'max_depth': 10, 'max_leaves': 81, 'min_child_weight': 2, 'reg_alpha': 0.09767211400638387, 'reg_lambda': 0.6842330265121569, 'min_frequency': 0.4401524937396013}. Best is trial 0 with value: 0.0.\n",
      "/Users/diegoespinoza/Library/Python/3.9/lib/python/site-packages/xgboost/core.py:158: UserWarning:\n",
      "\n",
      "[15:42:52] WARNING: /Users/runner/work/xgboost/xgboost/src/learner.cc:740: \n",
      "Parameters: { \"use_label_encoder\" } are not used.\n",
      "\n",
      "\n",
      "[I 2025-05-12 15:42:53,654] Trial 5 finished with value: 0.0 and parameters: {'learning_rate': 0.013081785249633104, 'n_estimators': 520, 'max_depth': 3, 'max_leaves': 91, 'min_child_weight': 2, 'reg_alpha': 0.662522284353982, 'reg_lambda': 0.31171107608941095, 'min_frequency': 0.5200680211778108}. Best is trial 0 with value: 0.0.\n",
      "/Users/diegoespinoza/Library/Python/3.9/lib/python/site-packages/xgboost/core.py:158: UserWarning:\n",
      "\n",
      "[15:42:54] WARNING: /Users/runner/work/xgboost/xgboost/src/learner.cc:740: \n",
      "Parameters: { \"use_label_encoder\" } are not used.\n",
      "\n",
      "\n",
      "[I 2025-05-12 15:42:54,564] Trial 6 finished with value: 0.0 and parameters: {'learning_rate': 0.05512431765498469, 'n_estimators': 225, 'max_depth': 10, 'max_leaves': 78, 'min_child_weight': 5, 'reg_alpha': 0.8948273504276488, 'reg_lambda': 0.5978999788110851, 'min_frequency': 0.9218742350231168}. Best is trial 0 with value: 0.0.\n",
      "/Users/diegoespinoza/Library/Python/3.9/lib/python/site-packages/xgboost/core.py:158: UserWarning:\n",
      "\n",
      "[15:42:55] WARNING: /Users/runner/work/xgboost/xgboost/src/learner.cc:740: \n",
      "Parameters: { \"use_label_encoder\" } are not used.\n",
      "\n",
      "\n",
      "[I 2025-05-12 15:42:55,523] Trial 7 finished with value: 0.0 and parameters: {'learning_rate': 0.00976075770314003, 'n_estimators': 236, 'max_depth': 3, 'max_leaves': 32, 'min_child_weight': 2, 'reg_alpha': 0.2713490317738959, 'reg_lambda': 0.8287375091519293, 'min_frequency': 0.3567533266935893}. Best is trial 0 with value: 0.0.\n",
      "/Users/diegoespinoza/Library/Python/3.9/lib/python/site-packages/xgboost/core.py:158: UserWarning:\n",
      "\n",
      "[15:42:55] WARNING: /Users/runner/work/xgboost/xgboost/src/learner.cc:740: \n",
      "Parameters: { \"use_label_encoder\" } are not used.\n",
      "\n",
      "\n",
      "[I 2025-05-12 15:42:56,993] Trial 8 finished with value: 0.0 and parameters: {'learning_rate': 0.028812516459050697, 'n_estimators': 566, 'max_depth': 4, 'max_leaves': 81, 'min_child_weight': 1, 'reg_alpha': 0.9868869366005173, 'reg_lambda': 0.7722447692966574, 'min_frequency': 0.1987156815341724}. Best is trial 0 with value: 0.0.\n",
      "/Users/diegoespinoza/Library/Python/3.9/lib/python/site-packages/xgboost/core.py:158: UserWarning:\n",
      "\n",
      "[15:42:57] WARNING: /Users/runner/work/xgboost/xgboost/src/learner.cc:740: \n",
      "Parameters: { \"use_label_encoder\" } are not used.\n",
      "\n",
      "\n",
      "[I 2025-05-12 15:42:58,912] Trial 9 finished with value: 0.0 and parameters: {'learning_rate': 0.0015466895952366375, 'n_estimators': 825, 'max_depth': 8, 'max_leaves': 73, 'min_child_weight': 4, 'reg_alpha': 0.07404465173409036, 'reg_lambda': 0.3584657285442726, 'min_frequency': 0.11586905952512971}. Best is trial 0 with value: 0.0.\n",
      "/Users/diegoespinoza/Library/Python/3.9/lib/python/site-packages/xgboost/core.py:158: UserWarning:\n",
      "\n",
      "[15:42:59] WARNING: /Users/runner/work/xgboost/xgboost/src/learner.cc:740: \n",
      "Parameters: { \"use_label_encoder\" } are not used.\n",
      "\n",
      "\n",
      "[I 2025-05-12 15:42:59,579] Trial 10 finished with value: 0.038484871795970155 and parameters: {'learning_rate': 0.08962655297687276, 'n_estimators': 55, 'max_depth': 7, 'max_leaves': 1, 'min_child_weight': 1, 'reg_alpha': 0.4380809274618298, 'reg_lambda': 0.015144237102756836, 'min_frequency': 0.9761398998579952}. Best is trial 0 with value: 0.0.\n",
      "/Users/diegoespinoza/Library/Python/3.9/lib/python/site-packages/xgboost/core.py:158: UserWarning:\n",
      "\n",
      "[15:43:00] WARNING: /Users/runner/work/xgboost/xgboost/src/learner.cc:740: \n",
      "Parameters: { \"use_label_encoder\" } are not used.\n",
      "\n",
      "\n",
      "[I 2025-05-12 15:43:01,540] Trial 11 finished with value: 0.0 and parameters: {'learning_rate': 0.06924893586808713, 'n_estimators': 993, 'max_depth': 8, 'max_leaves': 57, 'min_child_weight': 5, 'reg_alpha': 0.3371602411743483, 'reg_lambda': 0.03363260482404265, 'min_frequency': 0.7447500193911581}. Best is trial 0 with value: 0.0.\n",
      "/Users/diegoespinoza/Library/Python/3.9/lib/python/site-packages/xgboost/core.py:158: UserWarning:\n",
      "\n",
      "[15:43:02] WARNING: /Users/runner/work/xgboost/xgboost/src/learner.cc:740: \n",
      "Parameters: { \"use_label_encoder\" } are not used.\n",
      "\n",
      "\n",
      "[I 2025-05-12 15:43:03,132] Trial 12 finished with value: 0.0 and parameters: {'learning_rate': 0.0692991519116195, 'n_estimators': 721, 'max_depth': 6, 'max_leaves': 96, 'min_child_weight': 4, 'reg_alpha': 0.5797119856579274, 'reg_lambda': 0.19755384772878365, 'min_frequency': 0.6768180580956151}. Best is trial 0 with value: 0.0.\n",
      "/Users/diegoespinoza/Library/Python/3.9/lib/python/site-packages/xgboost/core.py:158: UserWarning:\n",
      "\n",
      "[15:43:03] WARNING: /Users/runner/work/xgboost/xgboost/src/learner.cc:740: \n",
      "Parameters: { \"use_label_encoder\" } are not used.\n",
      "\n",
      "\n",
      "[I 2025-05-12 15:43:04,698] Trial 13 finished with value: 0.0 and parameters: {'learning_rate': 0.0471166391373079, 'n_estimators': 678, 'max_depth': 8, 'max_leaves': 65, 'min_child_weight': 3, 'reg_alpha': 0.24446212849587406, 'reg_lambda': 0.9993624386415516, 'min_frequency': 0.005044039296345004}. Best is trial 0 with value: 0.0.\n",
      "/Users/diegoespinoza/Library/Python/3.9/lib/python/site-packages/xgboost/core.py:158: UserWarning:\n",
      "\n",
      "[15:43:05] WARNING: /Users/runner/work/xgboost/xgboost/src/learner.cc:740: \n",
      "Parameters: { \"use_label_encoder\" } are not used.\n",
      "\n",
      "\n",
      "[I 2025-05-12 15:43:06,425] Trial 14 finished with value: 0.0 and parameters: {'learning_rate': 0.06894232821850968, 'n_estimators': 880, 'max_depth': 5, 'max_leaves': 34, 'min_child_weight': 1, 'reg_alpha': 0.3988879757979307, 'reg_lambda': 0.1524416125767201, 'min_frequency': 0.7588898848429501}. Best is trial 0 with value: 0.0.\n",
      "/Users/diegoespinoza/Library/Python/3.9/lib/python/site-packages/xgboost/core.py:158: UserWarning:\n",
      "\n",
      "[15:43:06] WARNING: /Users/runner/work/xgboost/xgboost/src/learner.cc:740: \n",
      "Parameters: { \"use_label_encoder\" } are not used.\n",
      "\n",
      "\n",
      "[I 2025-05-12 15:43:07,842] Trial 15 finished with value: 0.0 and parameters: {'learning_rate': 0.09966082820806024, 'n_estimators': 669, 'max_depth': 9, 'max_leaves': 100, 'min_child_weight': 5, 'reg_alpha': 0.21555410071594078, 'reg_lambda': 0.43896136373293526, 'min_frequency': 0.5513545714159656}. Best is trial 0 with value: 0.0.\n",
      "/Users/diegoespinoza/Library/Python/3.9/lib/python/site-packages/xgboost/core.py:158: UserWarning:\n",
      "\n",
      "[15:43:08] WARNING: /Users/runner/work/xgboost/xgboost/src/learner.cc:740: \n",
      "Parameters: { \"use_label_encoder\" } are not used.\n",
      "\n",
      "\n",
      "[I 2025-05-12 15:43:08,979] Trial 16 finished with value: 0.0 and parameters: {'learning_rate': 0.03196690564117059, 'n_estimators': 384, 'max_depth': 7, 'max_leaves': 43, 'min_child_weight': 3, 'reg_alpha': 0.5825108822440335, 'reg_lambda': 0.16276662881150505, 'min_frequency': 0.8450433473621416}. Best is trial 0 with value: 0.0.\n",
      "/Users/diegoespinoza/Library/Python/3.9/lib/python/site-packages/xgboost/core.py:158: UserWarning:\n",
      "\n",
      "[15:43:09] WARNING: /Users/runner/work/xgboost/xgboost/src/learner.cc:740: \n",
      "Parameters: { \"use_label_encoder\" } are not used.\n",
      "\n",
      "\n",
      "[I 2025-05-12 15:43:10,710] Trial 17 finished with value: 0.0 and parameters: {'learning_rate': 0.05828810235711063, 'n_estimators': 929, 'max_depth': 5, 'max_leaves': 9, 'min_child_weight': 2, 'reg_alpha': 0.7269647517880449, 'reg_lambda': 0.10679607715089298, 'min_frequency': 0.6316543906306129}. Best is trial 0 with value: 0.0.\n",
      "/Users/diegoespinoza/Library/Python/3.9/lib/python/site-packages/xgboost/core.py:158: UserWarning:\n",
      "\n",
      "[15:43:11] WARNING: /Users/runner/work/xgboost/xgboost/src/learner.cc:740: \n",
      "Parameters: { \"use_label_encoder\" } are not used.\n",
      "\n",
      "\n",
      "[I 2025-05-12 15:43:12,409] Trial 18 finished with value: 0.0 and parameters: {'learning_rate': 0.03921114674422773, 'n_estimators': 775, 'max_depth': 9, 'max_leaves': 64, 'min_child_weight': 4, 'reg_alpha': 0.1855358398855404, 'reg_lambda': 0.44954668341925197, 'min_frequency': 0.2683994749657534}. Best is trial 0 with value: 0.0.\n",
      "/Users/diegoespinoza/Library/Python/3.9/lib/python/site-packages/xgboost/core.py:158: UserWarning:\n",
      "\n",
      "[15:43:12] WARNING: /Users/runner/work/xgboost/xgboost/src/learner.cc:740: \n",
      "Parameters: { \"use_label_encoder\" } are not used.\n",
      "\n",
      "\n",
      "[I 2025-05-12 15:43:14,040] Trial 19 finished with value: 0.0 and parameters: {'learning_rate': 0.08282693572841682, 'n_estimators': 855, 'max_depth': 5, 'max_leaves': 86, 'min_child_weight': 3, 'reg_alpha': 0.34910396732929994, 'reg_lambda': 0.2657826831355138, 'min_frequency': 0.07488639833738722}. Best is trial 0 with value: 0.0.\n",
      "/Users/diegoespinoza/Library/Python/3.9/lib/python/site-packages/xgboost/core.py:158: UserWarning:\n",
      "\n",
      "[15:43:14] WARNING: /Users/runner/work/xgboost/xgboost/src/learner.cc:740: \n",
      "Parameters: { \"use_label_encoder\" } are not used.\n",
      "\n",
      "\n",
      "[I 2025-05-12 15:43:15,540] Trial 20 finished with value: 0.0 and parameters: {'learning_rate': 0.019151981950713104, 'n_estimators': 620, 'max_depth': 9, 'max_leaves': 20, 'min_child_weight': 5, 'reg_alpha': 0.4955627110557894, 'reg_lambda': 0.004902901398880888, 'min_frequency': 0.307420634823393}. Best is trial 0 with value: 0.0.\n",
      "/Users/diegoespinoza/Library/Python/3.9/lib/python/site-packages/xgboost/core.py:158: UserWarning:\n",
      "\n",
      "[15:43:16] WARNING: /Users/runner/work/xgboost/xgboost/src/learner.cc:740: \n",
      "Parameters: { \"use_label_encoder\" } are not used.\n",
      "\n",
      "\n",
      "[I 2025-05-12 15:43:16,960] Trial 21 finished with value: 0.0 and parameters: {'learning_rate': 0.028743546545479746, 'n_estimators': 469, 'max_depth': 6, 'max_leaves': 24, 'min_child_weight': 4, 'reg_alpha': 0.003112930704202349, 'reg_lambda': 0.22146768841432815, 'min_frequency': 0.4090010710703237}. Best is trial 0 with value: 0.0.\n",
      "/Users/diegoespinoza/Library/Python/3.9/lib/python/site-packages/xgboost/core.py:158: UserWarning:\n",
      "\n",
      "[15:43:17] WARNING: /Users/runner/work/xgboost/xgboost/src/learner.cc:740: \n",
      "Parameters: { \"use_label_encoder\" } are not used.\n",
      "\n",
      "\n",
      "[I 2025-05-12 15:43:18,199] Trial 22 finished with value: 0.0 and parameters: {'learning_rate': 0.03869510895807804, 'n_estimators': 421, 'max_depth': 7, 'max_leaves': 42, 'min_child_weight': 4, 'reg_alpha': 0.14814667358532652, 'reg_lambda': 0.3400162368991243, 'min_frequency': 0.2423086439044445}. Best is trial 0 with value: 0.0.\n",
      "/Users/diegoespinoza/Library/Python/3.9/lib/python/site-packages/xgboost/core.py:158: UserWarning:\n",
      "\n",
      "[15:43:18] WARNING: /Users/runner/work/xgboost/xgboost/src/learner.cc:740: \n",
      "Parameters: { \"use_label_encoder\" } are not used.\n",
      "\n",
      "\n",
      "[I 2025-05-12 15:43:20,032] Trial 23 finished with value: 0.0 and parameters: {'learning_rate': 0.020812379879004736, 'n_estimators': 743, 'max_depth': 4, 'max_leaves': 16, 'min_child_weight': 5, 'reg_alpha': 0.13608873442560565, 'reg_lambda': 0.08796388409564215, 'min_frequency': 0.366901621298349}. Best is trial 0 with value: 0.0.\n",
      "/Users/diegoespinoza/Library/Python/3.9/lib/python/site-packages/xgboost/core.py:158: UserWarning:\n",
      "\n",
      "[15:43:20] WARNING: /Users/runner/work/xgboost/xgboost/src/learner.cc:740: \n",
      "Parameters: { \"use_label_encoder\" } are not used.\n",
      "\n",
      "\n",
      "[I 2025-05-12 15:43:21,112] Trial 24 finished with value: 0.0 and parameters: {'learning_rate': 0.05672492791422683, 'n_estimators': 333, 'max_depth': 6, 'max_leaves': 28, 'min_child_weight': 4, 'reg_alpha': 0.28881074674503326, 'reg_lambda': 0.38317157072522595, 'min_frequency': 0.46931695718694766}. Best is trial 0 with value: 0.0.\n",
      "/Users/diegoespinoza/Library/Python/3.9/lib/python/site-packages/xgboost/core.py:158: UserWarning:\n",
      "\n",
      "[15:43:21] WARNING: /Users/runner/work/xgboost/xgboost/src/learner.cc:740: \n",
      "Parameters: { \"use_label_encoder\" } are not used.\n",
      "\n",
      "\n",
      "[I 2025-05-12 15:43:22,826] Trial 25 finished with value: 0.0 and parameters: {'learning_rate': 0.03855649236192703, 'n_estimators': 612, 'max_depth': 3, 'max_leaves': 41, 'min_child_weight': 5, 'reg_alpha': 0.17299050575658076, 'reg_lambda': 0.265810726983916, 'min_frequency': 0.6007765329458328}. Best is trial 0 with value: 0.0.\n",
      "/Users/diegoespinoza/Library/Python/3.9/lib/python/site-packages/xgboost/core.py:158: UserWarning:\n",
      "\n",
      "[15:43:23] WARNING: /Users/runner/work/xgboost/xgboost/src/learner.cc:740: \n",
      "Parameters: { \"use_label_encoder\" } are not used.\n",
      "\n",
      "\n",
      "[I 2025-05-12 15:43:24,664] Trial 26 finished with value: 0.0 and parameters: {'learning_rate': 0.06411300082697599, 'n_estimators': 894, 'max_depth': 8, 'max_leaves': 67, 'min_child_weight': 4, 'reg_alpha': 0.022293045694011415, 'reg_lambda': 0.5270496965332079, 'min_frequency': 0.31210509157918476}. Best is trial 0 with value: 0.0.\n",
      "/Users/diegoespinoza/Library/Python/3.9/lib/python/site-packages/xgboost/core.py:158: UserWarning:\n",
      "\n",
      "[15:43:25] WARNING: /Users/runner/work/xgboost/xgboost/src/learner.cc:740: \n",
      "Parameters: { \"use_label_encoder\" } are not used.\n",
      "\n",
      "\n",
      "[I 2025-05-12 15:43:25,984] Trial 27 finished with value: 0.0 and parameters: {'learning_rate': 0.04615221662247846, 'n_estimators': 511, 'max_depth': 7, 'max_leaves': 55, 'min_child_weight': 3, 'reg_alpha': 0.3229163020436372, 'reg_lambda': 0.1018514288941314, 'min_frequency': 0.11653766965047538}. Best is trial 0 with value: 0.0.\n",
      "/Users/diegoespinoza/Library/Python/3.9/lib/python/site-packages/xgboost/core.py:158: UserWarning:\n",
      "\n",
      "[15:43:26] WARNING: /Users/runner/work/xgboost/xgboost/src/learner.cc:740: \n",
      "Parameters: { \"use_label_encoder\" } are not used.\n",
      "\n",
      "\n",
      "[I 2025-05-12 15:43:27,421] Trial 28 finished with value: 0.0 and parameters: {'learning_rate': 0.07722745917272082, 'n_estimators': 586, 'max_depth': 5, 'max_leaves': 10, 'min_child_weight': 5, 'reg_alpha': 0.09894317660609851, 'reg_lambda': 0.22385222076348227, 'min_frequency': 0.8355841097756369}. Best is trial 0 with value: 0.0.\n",
      "/Users/diegoespinoza/Library/Python/3.9/lib/python/site-packages/xgboost/core.py:158: UserWarning:\n",
      "\n",
      "[15:43:27] WARNING: /Users/runner/work/xgboost/xgboost/src/learner.cc:740: \n",
      "Parameters: { \"use_label_encoder\" } are not used.\n",
      "\n",
      "\n",
      "[I 2025-05-12 15:43:29,218] Trial 29 finished with value: 0.0 and parameters: {'learning_rate': 0.02236846649176026, 'n_estimators': 780, 'max_depth': 4, 'max_leaves': 49, 'min_child_weight': 4, 'reg_alpha': 0.42593383010753105, 'reg_lambda': 0.07636287802733824, 'min_frequency': 0.16979493610291463}. Best is trial 0 with value: 0.0.\n",
      "/Users/diegoespinoza/Library/Python/3.9/lib/python/site-packages/xgboost/core.py:158: UserWarning:\n",
      "\n",
      "[15:43:29] WARNING: /Users/runner/work/xgboost/xgboost/src/learner.cc:740: \n",
      "Parameters: { \"use_label_encoder\" } are not used.\n",
      "\n",
      "\n",
      "[I 2025-05-12 15:43:30,682] Trial 30 finished with value: 0.0 and parameters: {'learning_rate': 0.05336719399590065, 'n_estimators': 656, 'max_depth': 6, 'max_leaves': 49, 'min_child_weight': 1, 'reg_alpha': 0.06211946240205263, 'reg_lambda': 0.2742348634374198, 'min_frequency': 0.01872550279227847}. Best is trial 0 with value: 0.0.\n",
      "/Users/diegoespinoza/Library/Python/3.9/lib/python/site-packages/xgboost/core.py:158: UserWarning:\n",
      "\n",
      "[15:43:31] WARNING: /Users/runner/work/xgboost/xgboost/src/learner.cc:740: \n",
      "Parameters: { \"use_label_encoder\" } are not used.\n",
      "\n",
      "\n",
      "[I 2025-05-12 15:43:32,567] Trial 31 finished with value: 0.0 and parameters: {'learning_rate': 0.044867189358704804, 'n_estimators': 974, 'max_depth': 4, 'max_leaves': 59, 'min_child_weight': 3, 'reg_alpha': 0.127587757328101, 'reg_lambda': 0.5848384600361531, 'min_frequency': 0.20040373604976636}. Best is trial 0 with value: 0.0.\n",
      "/Users/diegoespinoza/Library/Python/3.9/lib/python/site-packages/xgboost/core.py:158: UserWarning:\n",
      "\n",
      "[15:43:33] WARNING: /Users/runner/work/xgboost/xgboost/src/learner.cc:740: \n",
      "Parameters: { \"use_label_encoder\" } are not used.\n",
      "\n",
      "\n",
      "[I 2025-05-12 15:43:34,384] Trial 32 finished with value: 0.0 and parameters: {'learning_rate': 0.036023212270231746, 'n_estimators': 825, 'max_depth': 3, 'max_leaves': 41, 'min_child_weight': 2, 'reg_alpha': 0.2145966195611966, 'reg_lambda': 0.764986919979663, 'min_frequency': 0.44084402828485303}. Best is trial 0 with value: 0.0.\n",
      "/Users/diegoespinoza/Library/Python/3.9/lib/python/site-packages/xgboost/core.py:158: UserWarning:\n",
      "\n",
      "[15:43:34] WARNING: /Users/runner/work/xgboost/xgboost/src/learner.cc:740: \n",
      "Parameters: { \"use_label_encoder\" } are not used.\n",
      "\n",
      "\n",
      "[I 2025-05-12 15:43:36,185] Trial 33 finished with value: 0.0 and parameters: {'learning_rate': 0.044586506054464375, 'n_estimators': 911, 'max_depth': 3, 'max_leaves': 87, 'min_child_weight': 3, 'reg_alpha': 0.037455763828527375, 'reg_lambda': 0.6632226976663367, 'min_frequency': 0.12868964042318123}. Best is trial 0 with value: 0.0.\n",
      "/Users/diegoespinoza/Library/Python/3.9/lib/python/site-packages/xgboost/core.py:158: UserWarning:\n",
      "\n",
      "[15:43:36] WARNING: /Users/runner/work/xgboost/xgboost/src/learner.cc:740: \n",
      "Parameters: { \"use_label_encoder\" } are not used.\n",
      "\n",
      "\n",
      "[I 2025-05-12 15:43:37,739] Trial 34 finished with value: 0.0 and parameters: {'learning_rate': 0.0632241625457698, 'n_estimators': 720, 'max_depth': 10, 'max_leaves': 72, 'min_child_weight': 2, 'reg_alpha': 0.10582301350288226, 'reg_lambda': 0.5400864941243405, 'min_frequency': 0.5348517609257674}. Best is trial 0 with value: 0.0.\n",
      "/Users/diegoespinoza/Library/Python/3.9/lib/python/site-packages/xgboost/core.py:158: UserWarning:\n",
      "\n",
      "[15:43:38] WARNING: /Users/runner/work/xgboost/xgboost/src/learner.cc:740: \n",
      "Parameters: { \"use_label_encoder\" } are not used.\n",
      "\n",
      "\n",
      "[I 2025-05-12 15:43:39,415] Trial 35 finished with value: 0.0 and parameters: {'learning_rate': 0.0505995272941944, 'n_estimators': 811, 'max_depth': 4, 'max_leaves': 33, 'min_child_weight': 2, 'reg_alpha': 0.2544708791199721, 'reg_lambda': 0.403373194105228, 'min_frequency': 0.37862222993330297}. Best is trial 0 with value: 0.0.\n",
      "/Users/diegoespinoza/Library/Python/3.9/lib/python/site-packages/xgboost/core.py:158: UserWarning:\n",
      "\n",
      "[15:43:39] WARNING: /Users/runner/work/xgboost/xgboost/src/learner.cc:740: \n",
      "Parameters: { \"use_label_encoder\" } are not used.\n",
      "\n",
      "\n",
      "[I 2025-05-12 15:43:40,784] Trial 36 finished with value: 0.0 and parameters: {'learning_rate': 0.025543668076801414, 'n_estimators': 523, 'max_depth': 3, 'max_leaves': 52, 'min_child_weight': 1, 'reg_alpha': 0.06506017943214486, 'reg_lambda': 0.7106899602442294, 'min_frequency': 0.2530971092491347}. Best is trial 0 with value: 0.0.\n",
      "/Users/diegoespinoza/Library/Python/3.9/lib/python/site-packages/xgboost/core.py:158: UserWarning:\n",
      "\n",
      "[15:43:41] WARNING: /Users/runner/work/xgboost/xgboost/src/learner.cc:740: \n",
      "Parameters: { \"use_label_encoder\" } are not used.\n",
      "\n",
      "\n",
      "[I 2025-05-12 15:43:42,612] Trial 37 finished with value: 0.0 and parameters: {'learning_rate': 0.03351736048815461, 'n_estimators': 941, 'max_depth': 4, 'max_leaves': 37, 'min_child_weight': 4, 'reg_alpha': 0.8401701335874943, 'reg_lambda': 0.8760536111580649, 'min_frequency': 0.3097438803154987}. Best is trial 0 with value: 0.0.\n",
      "/Users/diegoespinoza/Library/Python/3.9/lib/python/site-packages/xgboost/core.py:158: UserWarning:\n",
      "\n",
      "[15:43:43] WARNING: /Users/runner/work/xgboost/xgboost/src/learner.cc:740: \n",
      "Parameters: { \"use_label_encoder\" } are not used.\n",
      "\n",
      "\n",
      "[I 2025-05-12 15:43:44,593] Trial 38 finished with value: 0.0 and parameters: {'learning_rate': 0.014726561563107643, 'n_estimators': 853, 'max_depth': 5, 'max_leaves': 73, 'min_child_weight': 5, 'reg_alpha': 0.17666889977902644, 'reg_lambda': 0.6190327762341511, 'min_frequency': 0.0694658185644943}. Best is trial 0 with value: 0.0.\n",
      "/Users/diegoespinoza/Library/Python/3.9/lib/python/site-packages/xgboost/core.py:158: UserWarning:\n",
      "\n",
      "[15:43:45] WARNING: /Users/runner/work/xgboost/xgboost/src/learner.cc:740: \n",
      "Parameters: { \"use_label_encoder\" } are not used.\n",
      "\n",
      "\n",
      "[I 2025-05-12 15:43:45,334] Trial 39 finished with value: 0.0 and parameters: {'learning_rate': 0.059856597692337185, 'n_estimators': 116, 'max_depth': 3, 'max_leaves': 79, 'min_child_weight': 3, 'reg_alpha': 0.29881543034045166, 'reg_lambda': 0.16805799983513048, 'min_frequency': 0.9995867059762085}. Best is trial 0 with value: 0.0.\n",
      "/Users/diegoespinoza/Library/Python/3.9/lib/python/site-packages/xgboost/core.py:158: UserWarning:\n",
      "\n",
      "[15:43:45] WARNING: /Users/runner/work/xgboost/xgboost/src/learner.cc:740: \n",
      "Parameters: { \"use_label_encoder\" } are not used.\n",
      "\n",
      "\n",
      "[I 2025-05-12 15:43:47,194] Trial 40 finished with value: 0.0 and parameters: {'learning_rate': 0.001422649971539007, 'n_estimators': 771, 'max_depth': 10, 'max_leaves': 92, 'min_child_weight': 1, 'reg_alpha': 0.3782444147929105, 'reg_lambda': 0.3207442587292133, 'min_frequency': 0.202423289865878}. Best is trial 0 with value: 0.0.\n",
      "/Users/diegoespinoza/Library/Python/3.9/lib/python/site-packages/xgboost/core.py:158: UserWarning:\n",
      "\n",
      "[15:43:47] WARNING: /Users/runner/work/xgboost/xgboost/src/learner.cc:740: \n",
      "Parameters: { \"use_label_encoder\" } are not used.\n",
      "\n",
      "\n",
      "[I 2025-05-12 15:43:49,397] Trial 41 finished with value: 0.0 and parameters: {'learning_rate': 0.008633612444165904, 'n_estimators': 995, 'max_depth': 10, 'max_leaves': 86, 'min_child_weight': 2, 'reg_alpha': 0.08259097897292336, 'reg_lambda': 0.6766819858970057, 'min_frequency': 0.5016720133785346}. Best is trial 0 with value: 0.0.\n",
      "/Users/diegoespinoza/Library/Python/3.9/lib/python/site-packages/xgboost/core.py:158: UserWarning:\n",
      "\n",
      "[15:43:49] WARNING: /Users/runner/work/xgboost/xgboost/src/learner.cc:740: \n",
      "Parameters: { \"use_label_encoder\" } are not used.\n",
      "\n",
      "\n",
      "[I 2025-05-12 15:43:51,230] Trial 42 finished with value: 0.0 and parameters: {'learning_rate': 0.05141359548645207, 'n_estimators': 942, 'max_depth': 9, 'max_leaves': 100, 'min_child_weight': 2, 'reg_alpha': 0.24204607386839383, 'reg_lambda': 0.8545374526449827, 'min_frequency': 0.4242179915124563}. Best is trial 0 with value: 0.0.\n",
      "/Users/diegoespinoza/Library/Python/3.9/lib/python/site-packages/xgboost/core.py:158: UserWarning:\n",
      "\n",
      "[15:43:51] WARNING: /Users/runner/work/xgboost/xgboost/src/learner.cc:740: \n",
      "Parameters: { \"use_label_encoder\" } are not used.\n",
      "\n",
      "\n",
      "[I 2025-05-12 15:43:53,207] Trial 43 finished with value: 0.0 and parameters: {'learning_rate': 0.01041594649047729, 'n_estimators': 873, 'max_depth': 8, 'max_leaves': 92, 'min_child_weight': 1, 'reg_alpha': 0.009910964274856715, 'reg_lambda': 0.7524596034144835, 'min_frequency': 0.7125549936582705}. Best is trial 0 with value: 0.0.\n",
      "/Users/diegoespinoza/Library/Python/3.9/lib/python/site-packages/xgboost/core.py:158: UserWarning:\n",
      "\n",
      "[15:43:53] WARNING: /Users/runner/work/xgboost/xgboost/src/learner.cc:740: \n",
      "Parameters: { \"use_label_encoder\" } are not used.\n",
      "\n",
      "\n",
      "[I 2025-05-12 15:43:54,808] Trial 44 finished with value: 0.0 and parameters: {'learning_rate': 0.04263078700089672, 'n_estimators': 693, 'max_depth': 9, 'max_leaves': 80, 'min_child_weight': 3, 'reg_alpha': 0.11408954285716584, 'reg_lambda': 0.4730788118333481, 'min_frequency': 0.9269832534690672}. Best is trial 0 with value: 0.0.\n",
      "/Users/diegoespinoza/Library/Python/3.9/lib/python/site-packages/xgboost/core.py:158: UserWarning:\n",
      "\n",
      "[15:43:55] WARNING: /Users/runner/work/xgboost/xgboost/src/learner.cc:740: \n",
      "Parameters: { \"use_label_encoder\" } are not used.\n",
      "\n",
      "\n",
      "[I 2025-05-12 15:43:55,860] Trial 45 finished with value: 0.0 and parameters: {'learning_rate': 0.006352935736679902, 'n_estimators': 296, 'max_depth': 7, 'max_leaves': 60, 'min_child_weight': 2, 'reg_alpha': 0.15908979511590882, 'reg_lambda': 0.5655166465587151, 'min_frequency': 0.5975449121804206}. Best is trial 0 with value: 0.0.\n",
      "/Users/diegoespinoza/Library/Python/3.9/lib/python/site-packages/xgboost/core.py:158: UserWarning:\n",
      "\n",
      "[15:43:56] WARNING: /Users/runner/work/xgboost/xgboost/src/learner.cc:740: \n",
      "Parameters: { \"use_label_encoder\" } are not used.\n",
      "\n",
      "\n",
      "[I 2025-05-12 15:43:57,584] Trial 46 finished with value: 0.0 and parameters: {'learning_rate': 0.028996516259540493, 'n_estimators': 812, 'max_depth': 8, 'max_leaves': 74, 'min_child_weight': 1, 'reg_alpha': 0.2341372634030095, 'reg_lambda': 0.13998726383089807, 'min_frequency': 0.3546776512909752}. Best is trial 0 with value: 0.0.\n",
      "/Users/diegoespinoza/Library/Python/3.9/lib/python/site-packages/xgboost/core.py:158: UserWarning:\n",
      "\n",
      "[15:43:58] WARNING: /Users/runner/work/xgboost/xgboost/src/learner.cc:740: \n",
      "Parameters: { \"use_label_encoder\" } are not used.\n",
      "\n",
      "\n",
      "[I 2025-05-12 15:43:59,370] Trial 47 finished with value: 0.0 and parameters: {'learning_rate': 0.07511176285569418, 'n_estimators': 966, 'max_depth': 6, 'max_leaves': 96, 'min_child_weight': 3, 'reg_alpha': 0.20039230612984313, 'reg_lambda': 0.6266809004521927, 'min_frequency': 0.1586030571297064}. Best is trial 0 with value: 0.0.\n",
      "/Users/diegoespinoza/Library/Python/3.9/lib/python/site-packages/xgboost/core.py:158: UserWarning:\n",
      "\n",
      "[15:43:59] WARNING: /Users/runner/work/xgboost/xgboost/src/learner.cc:740: \n",
      "Parameters: { \"use_label_encoder\" } are not used.\n",
      "\n",
      "\n",
      "[I 2025-05-12 15:44:00,858] Trial 48 finished with value: 0.0 and parameters: {'learning_rate': 0.016000055745746256, 'n_estimators': 551, 'max_depth': 5, 'max_leaves': 67, 'min_child_weight': 4, 'reg_alpha': 0.6695741427317073, 'reg_lambda': 0.03716830849450514, 'min_frequency': 0.22897011827695918}. Best is trial 0 with value: 0.0.\n",
      "/Users/diegoespinoza/Library/Python/3.9/lib/python/site-packages/xgboost/core.py:158: UserWarning:\n",
      "\n",
      "[15:44:01] WARNING: /Users/runner/work/xgboost/xgboost/src/learner.cc:740: \n",
      "Parameters: { \"use_label_encoder\" } are not used.\n",
      "\n",
      "\n",
      "[I 2025-05-12 15:44:02,413] Trial 49 finished with value: 0.0 and parameters: {'learning_rate': 0.04783725183176483, 'n_estimators': 740, 'max_depth': 10, 'max_leaves': 52, 'min_child_weight': 2, 'reg_alpha': 0.9934822022149359, 'reg_lambda': 0.9774477338758, 'min_frequency': 0.8259623016295501}. Best is trial 0 with value: 0.0.\n",
      "/Users/diegoespinoza/Library/Python/3.9/lib/python/site-packages/xgboost/core.py:158: UserWarning:\n",
      "\n",
      "[15:44:02] WARNING: /Users/runner/work/xgboost/xgboost/src/learner.cc:740: \n",
      "Parameters: { \"use_label_encoder\" } are not used.\n",
      "\n",
      "\n",
      "[I 2025-05-12 15:44:03,726] Trial 50 finished with value: 0.0 and parameters: {'learning_rate': 0.03043421052536493, 'n_estimators': 468, 'max_depth': 9, 'max_leaves': 83, 'min_child_weight': 1, 'reg_alpha': 0.040741155779982025, 'reg_lambda': 0.4939029177167913, 'min_frequency': 0.4595961479533349}. Best is trial 0 with value: 0.0.\n",
      "/Users/diegoespinoza/Library/Python/3.9/lib/python/site-packages/xgboost/core.py:158: UserWarning:\n",
      "\n",
      "[15:44:04] WARNING: /Users/runner/work/xgboost/xgboost/src/learner.cc:740: \n",
      "Parameters: { \"use_label_encoder\" } are not used.\n",
      "\n",
      "\n",
      "[I 2025-05-12 15:44:05,068] Trial 51 finished with value: 0.0 and parameters: {'learning_rate': 0.004543390184435718, 'n_estimators': 482, 'max_depth': 3, 'max_leaves': 93, 'min_child_weight': 2, 'reg_alpha': 0.5836448579533833, 'reg_lambda': 0.2937995652298431, 'min_frequency': 0.790730531637081}. Best is trial 0 with value: 0.0.\n",
      "/Users/diegoespinoza/Library/Python/3.9/lib/python/site-packages/xgboost/core.py:158: UserWarning:\n",
      "\n",
      "[15:44:05] WARNING: /Users/runner/work/xgboost/xgboost/src/learner.cc:740: \n",
      "Parameters: { \"use_label_encoder\" } are not used.\n",
      "\n",
      "\n",
      "[I 2025-05-12 15:44:06,675] Trial 52 finished with value: 0.0 and parameters: {'learning_rate': 0.014716166323311772, 'n_estimators': 618, 'max_depth': 4, 'max_leaves': 89, 'min_child_weight': 3, 'reg_alpha': 0.7136820570451115, 'reg_lambda': 0.2090610777937267, 'min_frequency': 0.29116617407139544}. Best is trial 0 with value: 0.0.\n",
      "/Users/diegoespinoza/Library/Python/3.9/lib/python/site-packages/xgboost/core.py:158: UserWarning:\n",
      "\n",
      "[15:44:07] WARNING: /Users/runner/work/xgboost/xgboost/src/learner.cc:740: \n",
      "Parameters: { \"use_label_encoder\" } are not used.\n",
      "\n",
      "\n",
      "[I 2025-05-12 15:44:07,931] Trial 53 finished with value: 0.0 and parameters: {'learning_rate': 0.02560374953097793, 'n_estimators': 403, 'max_depth': 3, 'max_leaves': 83, 'min_child_weight': 5, 'reg_alpha': 0.8392710410444496, 'reg_lambda': 0.0455114794341101, 'min_frequency': 0.6559618866610654}. Best is trial 0 with value: 0.0.\n",
      "/Users/diegoespinoza/Library/Python/3.9/lib/python/site-packages/xgboost/core.py:158: UserWarning:\n",
      "\n",
      "[15:44:08] WARNING: /Users/runner/work/xgboost/xgboost/src/learner.cc:740: \n",
      "Parameters: { \"use_label_encoder\" } are not used.\n",
      "\n",
      "\n",
      "[I 2025-05-12 15:44:09,605] Trial 54 finished with value: 0.0 and parameters: {'learning_rate': 0.011157366437502309, 'n_estimators': 649, 'max_depth': 4, 'max_leaves': 46, 'min_child_weight': 1, 'reg_alpha': 0.6294439766902422, 'reg_lambda': 0.3973858662878924, 'min_frequency': 0.5249380540141422}. Best is trial 0 with value: 0.0.\n",
      "/Users/diegoespinoza/Library/Python/3.9/lib/python/site-packages/xgboost/core.py:158: UserWarning:\n",
      "\n",
      "[15:44:10] WARNING: /Users/runner/work/xgboost/xgboost/src/learner.cc:740: \n",
      "Parameters: { \"use_label_encoder\" } are not used.\n",
      "\n",
      "\n",
      "[I 2025-05-12 15:44:10,998] Trial 55 finished with value: 0.0 and parameters: {'learning_rate': 0.03965128610895928, 'n_estimators': 568, 'max_depth': 3, 'max_leaves': 100, 'min_child_weight': 4, 'reg_alpha': 0.551364910749385, 'reg_lambda': 0.1770875061863816, 'min_frequency': 0.5722543081439404}. Best is trial 0 with value: 0.0.\n",
      "/Users/diegoespinoza/Library/Python/3.9/lib/python/site-packages/xgboost/core.py:158: UserWarning:\n",
      "\n",
      "[15:44:11] WARNING: /Users/runner/work/xgboost/xgboost/src/learner.cc:740: \n",
      "Parameters: { \"use_label_encoder\" } are not used.\n",
      "\n",
      "\n",
      "[I 2025-05-12 15:44:12,801] Trial 56 finished with value: 0.0 and parameters: {'learning_rate': 0.01855183049999973, 'n_estimators': 851, 'max_depth': 3, 'max_leaves': 96, 'min_child_weight': 3, 'reg_alpha': 0.4687582142139301, 'reg_lambda': 0.11913649434241823, 'min_frequency': 0.3485726790096544}. Best is trial 0 with value: 0.0.\n",
      "/Users/diegoespinoza/Library/Python/3.9/lib/python/site-packages/xgboost/core.py:158: UserWarning:\n",
      "\n",
      "[15:44:13] WARNING: /Users/runner/work/xgboost/xgboost/src/learner.cc:740: \n",
      "Parameters: { \"use_label_encoder\" } are not used.\n",
      "\n",
      "\n",
      "[I 2025-05-12 15:44:13,926] Trial 57 finished with value: 0.0 and parameters: {'learning_rate': 0.034706363332281526, 'n_estimators': 350, 'max_depth': 7, 'max_leaves': 76, 'min_child_weight': 2, 'reg_alpha': 0.930052391163058, 'reg_lambda': 0.24079561276295258, 'min_frequency': 0.9038201503650423}. Best is trial 0 with value: 0.0.\n",
      "/Users/diegoespinoza/Library/Python/3.9/lib/python/site-packages/xgboost/core.py:158: UserWarning:\n",
      "\n",
      "[15:44:14] WARNING: /Users/runner/work/xgboost/xgboost/src/learner.cc:740: \n",
      "Parameters: { \"use_label_encoder\" } are not used.\n",
      "\n",
      "\n",
      "[I 2025-05-12 15:44:15,171] Trial 58 finished with value: 0.0 and parameters: {'learning_rate': 0.02505146811392537, 'n_estimators': 432, 'max_depth': 8, 'max_leaves': 61, 'min_child_weight': 5, 'reg_alpha': 0.14128906659364182, 'reg_lambda': 0.3442546471472775, 'min_frequency': 0.060174428480139985}. Best is trial 0 with value: 0.0.\n",
      "/Users/diegoespinoza/Library/Python/3.9/lib/python/site-packages/xgboost/core.py:158: UserWarning:\n",
      "\n",
      "[15:44:15] WARNING: /Users/runner/work/xgboost/xgboost/src/learner.cc:740: \n",
      "Parameters: { \"use_label_encoder\" } are not used.\n",
      "\n",
      "\n",
      "[I 2025-05-12 15:44:16,919] Trial 59 finished with value: 0.0 and parameters: {'learning_rate': 0.055537251855838785, 'n_estimators': 900, 'max_depth': 5, 'max_leaves': 28, 'min_child_weight': 4, 'reg_alpha': 0.07170376129713624, 'reg_lambda': 0.07192777874953085, 'min_frequency': 0.7077277751560316}. Best is trial 0 with value: 0.0.\n",
      "/Users/diegoespinoza/Library/Python/3.9/lib/python/site-packages/xgboost/core.py:158: UserWarning:\n",
      "\n",
      "[15:44:17] WARNING: /Users/runner/work/xgboost/xgboost/src/learner.cc:740: \n",
      "Parameters: { \"use_label_encoder\" } are not used.\n",
      "\n",
      "\n",
      "[I 2025-05-12 15:44:17,713] Trial 60 finished with value: 0.038484871795970155 and parameters: {'learning_rate': 0.09957694995498315, 'n_estimators': 200, 'max_depth': 6, 'max_leaves': 1, 'min_child_weight': 2, 'reg_alpha': 0.20625788837095305, 'reg_lambda': 0.7170538123646654, 'min_frequency': 0.47956344794874467}. Best is trial 0 with value: 0.0.\n",
      "/Users/diegoespinoza/Library/Python/3.9/lib/python/site-packages/xgboost/core.py:158: UserWarning:\n",
      "\n",
      "[15:44:18] WARNING: /Users/runner/work/xgboost/xgboost/src/learner.cc:740: \n",
      "Parameters: { \"use_label_encoder\" } are not used.\n",
      "\n",
      "\n",
      "[I 2025-05-12 15:44:18,667] Trial 61 finished with value: 0.0 and parameters: {'learning_rate': 0.06239842232062005, 'n_estimators': 280, 'max_depth': 10, 'max_leaves': 55, 'min_child_weight': 5, 'reg_alpha': 0.8166429426246934, 'reg_lambda': 0.8084936804438121, 'min_frequency': 0.8681799064865432}. Best is trial 0 with value: 0.0.\n",
      "/Users/diegoespinoza/Library/Python/3.9/lib/python/site-packages/xgboost/core.py:158: UserWarning:\n",
      "\n",
      "[15:44:19] WARNING: /Users/runner/work/xgboost/xgboost/src/learner.cc:740: \n",
      "Parameters: { \"use_label_encoder\" } are not used.\n",
      "\n",
      "\n",
      "[I 2025-05-12 15:44:20,399] Trial 62 finished with value: 0.0 and parameters: {'learning_rate': 0.06788665781463428, 'n_estimators': 929, 'max_depth': 10, 'max_leaves': 88, 'min_child_weight': 5, 'reg_alpha': 0.9324803718862682, 'reg_lambda': 0.6126410368278852, 'min_frequency': 0.3945253952355899}. Best is trial 0 with value: 0.0.\n",
      "/Users/diegoespinoza/Library/Python/3.9/lib/python/site-packages/xgboost/core.py:158: UserWarning:\n",
      "\n",
      "[15:44:20] WARNING: /Users/runner/work/xgboost/xgboost/src/learner.cc:740: \n",
      "Parameters: { \"use_label_encoder\" } are not used.\n",
      "\n",
      "\n",
      "[I 2025-05-12 15:44:21,291] Trial 63 finished with value: 0.0 and parameters: {'learning_rate': 0.04206458370974339, 'n_estimators': 161, 'max_depth': 9, 'max_leaves': 68, 'min_child_weight': 5, 'reg_alpha': 0.7473362276399274, 'reg_lambda': 0.5795828374254414, 'min_frequency': 0.9544300677624098}. Best is trial 0 with value: 0.0.\n",
      "/Users/diegoespinoza/Library/Python/3.9/lib/python/site-packages/xgboost/core.py:158: UserWarning:\n",
      "\n",
      "[15:44:21] WARNING: /Users/runner/work/xgboost/xgboost/src/learner.cc:740: \n",
      "Parameters: { \"use_label_encoder\" } are not used.\n",
      "\n",
      "\n",
      "[I 2025-05-12 15:44:22,233] Trial 64 finished with value: 0.0 and parameters: {'learning_rate': 0.049404600116074136, 'n_estimators': 238, 'max_depth': 9, 'max_leaves': 78, 'min_child_weight': 5, 'reg_alpha': 0.10129242483655614, 'reg_lambda': 0.6666464361282791, 'min_frequency': 0.7810721595072254}. Best is trial 0 with value: 0.0.\n",
      "/Users/diegoespinoza/Library/Python/3.9/lib/python/site-packages/xgboost/core.py:158: UserWarning:\n",
      "\n",
      "[15:44:22] WARNING: /Users/runner/work/xgboost/xgboost/src/learner.cc:740: \n",
      "Parameters: { \"use_label_encoder\" } are not used.\n",
      "\n",
      "\n",
      "[I 2025-05-12 15:44:22,957] Trial 65 finished with value: 0.0 and parameters: {'learning_rate': 0.05932922252703331, 'n_estimators': 104, 'max_depth': 4, 'max_leaves': 83, 'min_child_weight': 4, 'reg_alpha': 0.7697018761260583, 'reg_lambda': 0.4233308374119329, 'min_frequency': 0.1473726328881027}. Best is trial 0 with value: 0.0.\n",
      "/Users/diegoespinoza/Library/Python/3.9/lib/python/site-packages/xgboost/core.py:158: UserWarning:\n",
      "\n",
      "[15:44:23] WARNING: /Users/runner/work/xgboost/xgboost/src/learner.cc:740: \n",
      "Parameters: { \"use_label_encoder\" } are not used.\n",
      "\n",
      "\n",
      "[I 2025-05-12 15:44:24,574] Trial 66 finished with value: 0.0 and parameters: {'learning_rate': 0.0528260694639196, 'n_estimators': 784, 'max_depth': 10, 'max_leaves': 37, 'min_child_weight': 3, 'reg_alpha': 0.16398854764082552, 'reg_lambda': 0.0006287847153757034, 'min_frequency': 0.8811811697390025}. Best is trial 0 with value: 0.0.\n",
      "/Users/diegoespinoza/Library/Python/3.9/lib/python/site-packages/xgboost/core.py:158: UserWarning:\n",
      "\n",
      "[15:44:25] WARNING: /Users/runner/work/xgboost/xgboost/src/learner.cc:740: \n",
      "Parameters: { \"use_label_encoder\" } are not used.\n",
      "\n",
      "\n",
      "[I 2025-05-12 15:44:26,062] Trial 67 finished with value: 0.0 and parameters: {'learning_rate': 0.07266213332781409, 'n_estimators': 685, 'max_depth': 8, 'max_leaves': 63, 'min_child_weight': 5, 'reg_alpha': 0.5210375097544871, 'reg_lambda': 0.3087423573514471, 'min_frequency': 0.09571513642204282}. Best is trial 0 with value: 0.0.\n",
      "/Users/diegoespinoza/Library/Python/3.9/lib/python/site-packages/xgboost/core.py:158: UserWarning:\n",
      "\n",
      "[15:44:26] WARNING: /Users/runner/work/xgboost/xgboost/src/learner.cc:740: \n",
      "Parameters: { \"use_label_encoder\" } are not used.\n",
      "\n",
      "\n",
      "[I 2025-05-12 15:44:27,677] Trial 68 finished with value: 0.0 and parameters: {'learning_rate': 0.041827746895964156, 'n_estimators': 717, 'max_depth': 3, 'max_leaves': 69, 'min_child_weight': 4, 'reg_alpha': 0.2721297544499061, 'reg_lambda': 0.5216352315761281, 'min_frequency': 0.28237285689863906}. Best is trial 0 with value: 0.0.\n",
      "/Users/diegoespinoza/Library/Python/3.9/lib/python/site-packages/xgboost/core.py:158: UserWarning:\n",
      "\n",
      "[15:44:28] WARNING: /Users/runner/work/xgboost/xgboost/src/learner.cc:740: \n",
      "Parameters: { \"use_label_encoder\" } are not used.\n",
      "\n",
      "\n",
      "[I 2025-05-12 15:44:29,561] Trial 69 finished with value: 0.0 and parameters: {'learning_rate': 0.048271606446058504, 'n_estimators': 972, 'max_depth': 4, 'max_leaves': 56, 'min_child_weight': 1, 'reg_alpha': 0.9482698877725778, 'reg_lambda': 0.2449327797593047, 'min_frequency': 0.3379302072052862}. Best is trial 0 with value: 0.0.\n",
      "/Users/diegoespinoza/Library/Python/3.9/lib/python/site-packages/xgboost/core.py:158: UserWarning:\n",
      "\n",
      "[15:44:30] WARNING: /Users/runner/work/xgboost/xgboost/src/learner.cc:740: \n",
      "Parameters: { \"use_label_encoder\" } are not used.\n",
      "\n",
      "\n",
      "[I 2025-05-12 15:44:31,375] Trial 70 finished with value: 0.0 and parameters: {'learning_rate': 0.03691111823360302, 'n_estimators': 876, 'max_depth': 7, 'max_leaves': 46, 'min_child_weight': 4, 'reg_alpha': 0.055317958823111815, 'reg_lambda': 0.3716406652073124, 'min_frequency': 0.045324903854600085}. Best is trial 0 with value: 0.0.\n",
      "/Users/diegoespinoza/Library/Python/3.9/lib/python/site-packages/xgboost/core.py:158: UserWarning:\n",
      "\n",
      "[15:44:31] WARNING: /Users/runner/work/xgboost/xgboost/src/learner.cc:740: \n",
      "Parameters: { \"use_label_encoder\" } are not used.\n",
      "\n",
      "\n",
      "[I 2025-05-12 15:44:32,313] Trial 71 finished with value: 0.0 and parameters: {'learning_rate': 0.011711921847009418, 'n_estimators': 229, 'max_depth': 3, 'max_leaves': 21, 'min_child_weight': 2, 'reg_alpha': 0.35290457698731753, 'reg_lambda': 0.942105856826328, 'min_frequency': 0.4263573175206809}. Best is trial 0 with value: 0.0.\n",
      "/Users/diegoespinoza/Library/Python/3.9/lib/python/site-packages/xgboost/core.py:158: UserWarning:\n",
      "\n",
      "[15:44:32] WARNING: /Users/runner/work/xgboost/xgboost/src/learner.cc:740: \n",
      "Parameters: { \"use_label_encoder\" } are not used.\n",
      "\n",
      "\n",
      "[I 2025-05-12 15:44:33,468] Trial 72 finished with value: 0.0 and parameters: {'learning_rate': 0.0071303315738447115, 'n_estimators': 368, 'max_depth': 3, 'max_leaves': 27, 'min_child_weight': 2, 'reg_alpha': 0.13290514018009197, 'reg_lambda': 0.8277667082103408, 'min_frequency': 0.20255777200378294}. Best is trial 0 with value: 0.0.\n",
      "/Users/diegoespinoza/Library/Python/3.9/lib/python/site-packages/xgboost/core.py:158: UserWarning:\n",
      "\n",
      "[15:44:33] WARNING: /Users/runner/work/xgboost/xgboost/src/learner.cc:740: \n",
      "Parameters: { \"use_label_encoder\" } are not used.\n",
      "\n",
      "\n",
      "[I 2025-05-12 15:44:34,329] Trial 73 finished with value: 0.0 and parameters: {'learning_rate': 0.004975814607524149, 'n_estimators': 174, 'max_depth': 4, 'max_leaves': 36, 'min_child_weight': 2, 'reg_alpha': 0.4070318271875435, 'reg_lambda': 0.6929179334397286, 'min_frequency': 0.23352505667066514}. Best is trial 0 with value: 0.0.\n",
      "/Users/diegoespinoza/Library/Python/3.9/lib/python/site-packages/xgboost/core.py:158: UserWarning:\n",
      "\n",
      "[15:44:34] WARNING: /Users/runner/work/xgboost/xgboost/src/learner.cc:740: \n",
      "Parameters: { \"use_label_encoder\" } are not used.\n",
      "\n",
      "\n",
      "[I 2025-05-12 15:44:35,475] Trial 74 finished with value: 0.0 and parameters: {'learning_rate': 0.0563683478916532, 'n_estimators': 324, 'max_depth': 3, 'max_leaves': 32, 'min_child_weight': 3, 'reg_alpha': 0.0002741443668089136, 'reg_lambda': 0.645820335841671, 'min_frequency': 0.39337628581554657}. Best is trial 0 with value: 0.0.\n",
      "/Users/diegoespinoza/Library/Python/3.9/lib/python/site-packages/xgboost/core.py:158: UserWarning:\n",
      "\n",
      "[15:44:35] WARNING: /Users/runner/work/xgboost/xgboost/src/learner.cc:740: \n",
      "Parameters: { \"use_label_encoder\" } are not used.\n",
      "\n",
      "\n",
      "[I 2025-05-12 15:44:36,128] Trial 75 finished with value: 0.038484871795970155 and parameters: {'learning_rate': 0.0034650147870161317, 'n_estimators': 61, 'max_depth': 5, 'max_leaves': 18, 'min_child_weight': 2, 'reg_alpha': 0.3020528426077973, 'reg_lambda': 0.748890221633312, 'min_frequency': 0.9500428054728391}. Best is trial 0 with value: 0.0.\n",
      "/Users/diegoespinoza/Library/Python/3.9/lib/python/site-packages/xgboost/core.py:158: UserWarning:\n",
      "\n",
      "[15:44:36] WARNING: /Users/runner/work/xgboost/xgboost/src/learner.cc:740: \n",
      "Parameters: { \"use_label_encoder\" } are not used.\n",
      "\n",
      "\n",
      "[I 2025-05-12 15:44:37,950] Trial 76 finished with value: 0.0 and parameters: {'learning_rate': 0.022089046707156668, 'n_estimators': 834, 'max_depth': 6, 'max_leaves': 12, 'min_child_weight': 1, 'reg_alpha': 0.8802678584198363, 'reg_lambda': 0.9125998476312632, 'min_frequency': 0.31725669249166094}. Best is trial 0 with value: 0.0.\n",
      "/Users/diegoespinoza/Library/Python/3.9/lib/python/site-packages/xgboost/core.py:158: UserWarning:\n",
      "\n",
      "[15:44:38] WARNING: /Users/runner/work/xgboost/xgboost/src/learner.cc:740: \n",
      "Parameters: { \"use_label_encoder\" } are not used.\n",
      "\n",
      "\n",
      "[I 2025-05-12 15:44:38,935] Trial 77 finished with value: 0.0 and parameters: {'learning_rate': 0.017726555663654203, 'n_estimators': 263, 'max_depth': 10, 'max_leaves': 90, 'min_child_weight': 3, 'reg_alpha': 0.1764578926509291, 'reg_lambda': 0.18986249939111666, 'min_frequency': 0.4990048577881371}. Best is trial 0 with value: 0.0.\n",
      "/Users/diegoespinoza/Library/Python/3.9/lib/python/site-packages/xgboost/core.py:158: UserWarning:\n",
      "\n",
      "[15:44:39] WARNING: /Users/runner/work/xgboost/xgboost/src/learner.cc:740: \n",
      "Parameters: { \"use_label_encoder\" } are not used.\n",
      "\n",
      "\n",
      "[I 2025-05-12 15:44:40,551] Trial 78 finished with value: 0.0 and parameters: {'learning_rate': 0.06643270278882282, 'n_estimators': 760, 'max_depth': 3, 'max_leaves': 94, 'min_child_weight': 2, 'reg_alpha': 0.08894989958733399, 'reg_lambda': 0.13507738139744824, 'min_frequency': 0.5542266750439808}. Best is trial 0 with value: 0.0.\n",
      "/Users/diegoespinoza/Library/Python/3.9/lib/python/site-packages/xgboost/core.py:158: UserWarning:\n",
      "\n",
      "[15:44:41] WARNING: /Users/runner/work/xgboost/xgboost/src/learner.cc:740: \n",
      "Parameters: { \"use_label_encoder\" } are not used.\n",
      "\n",
      "\n",
      "[I 2025-05-12 15:44:42,157] Trial 79 finished with value: 0.0 and parameters: {'learning_rate': 0.014324188336452975, 'n_estimators': 642, 'max_depth': 3, 'max_leaves': 6, 'min_child_weight': 5, 'reg_alpha': 0.257614824230306, 'reg_lambda': 0.5984410028152092, 'min_frequency': 0.4515548767363229}. Best is trial 0 with value: 0.0.\n",
      "/Users/diegoespinoza/Library/Python/3.9/lib/python/site-packages/xgboost/core.py:158: UserWarning:\n",
      "\n",
      "[15:44:42] WARNING: /Users/runner/work/xgboost/xgboost/src/learner.cc:740: \n",
      "Parameters: { \"use_label_encoder\" } are not used.\n",
      "\n",
      "\n",
      "[I 2025-05-12 15:44:43,950] Trial 80 finished with value: 0.0 and parameters: {'learning_rate': 0.04509120228788343, 'n_estimators': 950, 'max_depth': 4, 'max_leaves': 24, 'min_child_weight': 1, 'reg_alpha': 0.12351501654133365, 'reg_lambda': 0.5617916561755623, 'min_frequency': 0.1815747192515791}. Best is trial 0 with value: 0.0.\n",
      "/Users/diegoespinoza/Library/Python/3.9/lib/python/site-packages/xgboost/core.py:158: UserWarning:\n",
      "\n",
      "[15:44:44] WARNING: /Users/runner/work/xgboost/xgboost/src/learner.cc:740: \n",
      "Parameters: { \"use_label_encoder\" } are not used.\n",
      "\n",
      "\n",
      "[I 2025-05-12 15:44:45,419] Trial 81 finished with value: 0.0 and parameters: {'learning_rate': 0.026315953220451823, 'n_estimators': 582, 'max_depth': 4, 'max_leaves': 84, 'min_child_weight': 1, 'reg_alpha': 0.9637029667009717, 'reg_lambda': 0.793493957326572, 'min_frequency': 0.25990430164078304}. Best is trial 0 with value: 0.0.\n",
      "/Users/diegoespinoza/Library/Python/3.9/lib/python/site-packages/xgboost/core.py:158: UserWarning:\n",
      "\n",
      "[15:44:45] WARNING: /Users/runner/work/xgboost/xgboost/src/learner.cc:740: \n",
      "Parameters: { \"use_label_encoder\" } are not used.\n",
      "\n",
      "\n",
      "[I 2025-05-12 15:44:46,792] Trial 82 finished with value: 0.0 and parameters: {'learning_rate': 0.03312680362922885, 'n_estimators': 541, 'max_depth': 5, 'max_leaves': 71, 'min_child_weight': 1, 'reg_alpha': 0.9128711489627298, 'reg_lambda': 0.78222895973534, 'min_frequency': 0.14097911412893763}. Best is trial 0 with value: 0.0.\n",
      "/Users/diegoespinoza/Library/Python/3.9/lib/python/site-packages/xgboost/core.py:158: UserWarning:\n",
      "\n",
      "[15:44:47] WARNING: /Users/runner/work/xgboost/xgboost/src/learner.cc:740: \n",
      "Parameters: { \"use_label_encoder\" } are not used.\n",
      "\n",
      "\n",
      "[I 2025-05-12 15:44:48,093] Trial 83 finished with value: 0.0 and parameters: {'learning_rate': 0.037494936727492933, 'n_estimators': 495, 'max_depth': 4, 'max_leaves': 81, 'min_child_weight': 1, 'reg_alpha': 0.8724936053245621, 'reg_lambda': 0.8571460494047689, 'min_frequency': 0.3791721149866163}. Best is trial 0 with value: 0.0.\n",
      "/Users/diegoespinoza/Library/Python/3.9/lib/python/site-packages/xgboost/core.py:158: UserWarning:\n",
      "\n",
      "[15:44:48] WARNING: /Users/runner/work/xgboost/xgboost/src/learner.cc:740: \n",
      "Parameters: { \"use_label_encoder\" } are not used.\n",
      "\n",
      "\n",
      "[I 2025-05-12 15:44:49,457] Trial 84 finished with value: 0.0 and parameters: {'learning_rate': 0.03090912791344506, 'n_estimators': 451, 'max_depth': 3, 'max_leaves': 98, 'min_child_weight': 2, 'reg_alpha': 0.22032379236613842, 'reg_lambda': 0.7303250344163191, 'min_frequency': 0.21934821161337448}. Best is trial 0 with value: 0.0.\n",
      "/Users/diegoespinoza/Library/Python/3.9/lib/python/site-packages/xgboost/core.py:158: UserWarning:\n",
      "\n",
      "[15:44:49] WARNING: /Users/runner/work/xgboost/xgboost/src/learner.cc:740: \n",
      "Parameters: { \"use_label_encoder\" } are not used.\n",
      "\n",
      "\n",
      "[I 2025-05-12 15:44:51,030] Trial 85 finished with value: 0.0 and parameters: {'learning_rate': 0.012902481124855217, 'n_estimators': 618, 'max_depth': 9, 'max_leaves': 76, 'min_child_weight': 1, 'reg_alpha': 0.040157116350437526, 'reg_lambda': 0.6385667702315765, 'min_frequency': 0.11284250931378442}. Best is trial 0 with value: 0.0.\n",
      "/Users/diegoespinoza/Library/Python/3.9/lib/python/site-packages/xgboost/core.py:158: UserWarning:\n",
      "\n",
      "[15:44:51] WARNING: /Users/runner/work/xgboost/xgboost/src/learner.cc:740: \n",
      "Parameters: { \"use_label_encoder\" } are not used.\n",
      "\n",
      "\n",
      "[I 2025-05-12 15:44:53,196] Trial 86 finished with value: 0.0 and parameters: {'learning_rate': 0.008961454462465442, 'n_estimators': 920, 'max_depth': 4, 'max_leaves': 44, 'min_child_weight': 3, 'reg_alpha': 0.1871575599108196, 'reg_lambda': 0.6877656588437653, 'min_frequency': 0.17297650499757097}. Best is trial 0 with value: 0.0.\n",
      "/Users/diegoespinoza/Library/Python/3.9/lib/python/site-packages/xgboost/core.py:158: UserWarning:\n",
      "\n",
      "[15:44:53] WARNING: /Users/runner/work/xgboost/xgboost/src/learner.cc:740: \n",
      "Parameters: { \"use_label_encoder\" } are not used.\n",
      "\n",
      "\n",
      "[I 2025-05-12 15:44:54,480] Trial 87 finished with value: 0.0 and parameters: {'learning_rate': 0.039868401237335524, 'n_estimators': 515, 'max_depth': 7, 'max_leaves': 86, 'min_child_weight': 2, 'reg_alpha': 0.14567185146054362, 'reg_lambda': 0.28152034280220023, 'min_frequency': 0.32784885305815037}. Best is trial 0 with value: 0.0.\n",
      "/Users/diegoespinoza/Library/Python/3.9/lib/python/site-packages/xgboost/core.py:158: UserWarning:\n",
      "\n",
      "[15:44:54] WARNING: /Users/runner/work/xgboost/xgboost/src/learner.cc:740: \n",
      "Parameters: { \"use_label_encoder\" } are not used.\n",
      "\n",
      "\n",
      "[I 2025-05-12 15:44:56,439] Trial 88 finished with value: 0.0 and parameters: {'learning_rate': 0.02070815170557539, 'n_estimators': 997, 'max_depth': 10, 'max_leaves': 52, 'min_child_weight': 4, 'reg_alpha': 0.9831612300845154, 'reg_lambda': 0.4577615502501607, 'min_frequency': 0.2633158392482701}. Best is trial 0 with value: 0.0.\n",
      "/Users/diegoespinoza/Library/Python/3.9/lib/python/site-packages/xgboost/core.py:158: UserWarning:\n",
      "\n",
      "[15:44:56] WARNING: /Users/runner/work/xgboost/xgboost/src/learner.cc:740: \n",
      "Parameters: { \"use_label_encoder\" } are not used.\n",
      "\n",
      "\n",
      "[I 2025-05-12 15:44:58,315] Trial 89 finished with value: 0.0 and parameters: {'learning_rate': 0.001369826978505912, 'n_estimators': 805, 'max_depth': 6, 'max_leaves': 91, 'min_child_weight': 2, 'reg_alpha': 0.6589932829667196, 'reg_lambda': 0.055844778920564386, 'min_frequency': 0.618771683759792}. Best is trial 0 with value: 0.0.\n",
      "/Users/diegoespinoza/Library/Python/3.9/lib/python/site-packages/xgboost/core.py:158: UserWarning:\n",
      "\n",
      "[15:44:58] WARNING: /Users/runner/work/xgboost/xgboost/src/learner.cc:740: \n",
      "Parameters: { \"use_label_encoder\" } are not used.\n",
      "\n",
      "\n",
      "[I 2025-05-12 15:44:59,675] Trial 90 finished with value: 0.0 and parameters: {'learning_rate': 0.027654478993574448, 'n_estimators': 549, 'max_depth': 5, 'max_leaves': 39, 'min_child_weight': 5, 'reg_alpha': 0.8017889848261468, 'reg_lambda': 0.09279331781659399, 'min_frequency': 0.09588850408212847}. Best is trial 0 with value: 0.0.\n",
      "/Users/diegoespinoza/Library/Python/3.9/lib/python/site-packages/xgboost/core.py:158: UserWarning:\n",
      "\n",
      "[15:45:00] WARNING: /Users/runner/work/xgboost/xgboost/src/learner.cc:740: \n",
      "Parameters: { \"use_label_encoder\" } are not used.\n",
      "\n",
      "\n",
      "[I 2025-05-12 15:45:01,352] Trial 91 finished with value: 0.0 and parameters: {'learning_rate': 0.008667069867678458, 'n_estimators': 706, 'max_depth': 8, 'max_leaves': 76, 'min_child_weight': 4, 'reg_alpha': 0.029657709180067476, 'reg_lambda': 0.3514822364515874, 'min_frequency': 0.2903991551815197}. Best is trial 0 with value: 0.0.\n",
      "/Users/diegoespinoza/Library/Python/3.9/lib/python/site-packages/xgboost/core.py:158: UserWarning:\n",
      "\n",
      "[15:45:01] WARNING: /Users/runner/work/xgboost/xgboost/src/learner.cc:740: \n",
      "Parameters: { \"use_label_encoder\" } are not used.\n",
      "\n",
      "\n",
      "[I 2025-05-12 15:45:03,103] Trial 92 finished with value: 0.0 and parameters: {'learning_rate': 0.0031476683544573395, 'n_estimators': 737, 'max_depth': 8, 'max_leaves': 63, 'min_child_weight': 3, 'reg_alpha': 0.10769510533190224, 'reg_lambda': 0.23646410413604096, 'min_frequency': 0.03762422999518565}. Best is trial 0 with value: 0.0.\n",
      "/Users/diegoespinoza/Library/Python/3.9/lib/python/site-packages/xgboost/core.py:158: UserWarning:\n",
      "\n",
      "[15:45:03] WARNING: /Users/runner/work/xgboost/xgboost/src/learner.cc:740: \n",
      "Parameters: { \"use_label_encoder\" } are not used.\n",
      "\n",
      "\n",
      "[I 2025-05-12 15:45:04,824] Trial 93 finished with value: 0.0 and parameters: {'learning_rate': 0.05454789216802411, 'n_estimators': 888, 'max_depth': 9, 'max_leaves': 31, 'min_child_weight': 5, 'reg_alpha': 0.0784886833871769, 'reg_lambda': 0.4296880428903776, 'min_frequency': 0.41630063933528794}. Best is trial 0 with value: 0.0.\n",
      "/Users/diegoespinoza/Library/Python/3.9/lib/python/site-packages/xgboost/core.py:158: UserWarning:\n",
      "\n",
      "[15:45:05] WARNING: /Users/runner/work/xgboost/xgboost/src/learner.cc:740: \n",
      "Parameters: { \"use_label_encoder\" } are not used.\n",
      "\n",
      "\n",
      "[I 2025-05-12 15:45:06,303] Trial 94 finished with value: 0.0 and parameters: {'learning_rate': 0.06220734988041216, 'n_estimators': 600, 'max_depth': 3, 'max_leaves': 71, 'min_child_weight': 1, 'reg_alpha': 0.05922089036442073, 'reg_lambda': 0.5035544923165471, 'min_frequency': 0.18844386434732308}. Best is trial 0 with value: 0.0.\n",
      "/Users/diegoespinoza/Library/Python/3.9/lib/python/site-packages/xgboost/core.py:158: UserWarning:\n",
      "\n",
      "[15:45:06] WARNING: /Users/runner/work/xgboost/xgboost/src/learner.cc:740: \n",
      "Parameters: { \"use_label_encoder\" } are not used.\n",
      "\n",
      "\n",
      "[I 2025-05-12 15:45:08,263] Trial 95 finished with value: 0.0 and parameters: {'learning_rate': 0.0064561815176159155, 'n_estimators': 828, 'max_depth': 7, 'max_leaves': 80, 'min_child_weight': 4, 'reg_alpha': 0.4541263287850263, 'reg_lambda': 0.8322049051959003, 'min_frequency': 0.9832650822862185}. Best is trial 0 with value: 0.0.\n",
      "/Users/diegoespinoza/Library/Python/3.9/lib/python/site-packages/xgboost/core.py:158: UserWarning:\n",
      "\n",
      "[15:45:08] WARNING: /Users/runner/work/xgboost/xgboost/src/learner.cc:740: \n",
      "Parameters: { \"use_label_encoder\" } are not used.\n",
      "\n",
      "\n",
      "[I 2025-05-12 15:45:10,080] Trial 96 finished with value: 0.0 and parameters: {'learning_rate': 0.01627177989803187, 'n_estimators': 795, 'max_depth': 6, 'max_leaves': 85, 'min_child_weight': 5, 'reg_alpha': 0.23031007890145253, 'reg_lambda': 0.5457654402153804, 'min_frequency': 0.09490255730468419}. Best is trial 0 with value: 0.0.\n",
      "/Users/diegoespinoza/Library/Python/3.9/lib/python/site-packages/xgboost/core.py:158: UserWarning:\n",
      "\n",
      "[15:45:10] WARNING: /Users/runner/work/xgboost/xgboost/src/learner.cc:740: \n",
      "Parameters: { \"use_label_encoder\" } are not used.\n",
      "\n",
      "\n",
      "[I 2025-05-12 15:45:11,867] Trial 97 finished with value: 0.0 and parameters: {'learning_rate': 0.02362878960238589, 'n_estimators': 847, 'max_depth': 10, 'max_leaves': 94, 'min_child_weight': 3, 'reg_alpha': 0.1851586662614028, 'reg_lambda': 0.3027065820489933, 'min_frequency': 0.12788678878907347}. Best is trial 0 with value: 0.0.\n",
      "/Users/diegoespinoza/Library/Python/3.9/lib/python/site-packages/xgboost/core.py:158: UserWarning:\n",
      "\n",
      "[15:45:12] WARNING: /Users/runner/work/xgboost/xgboost/src/learner.cc:740: \n",
      "Parameters: { \"use_label_encoder\" } are not used.\n",
      "\n",
      "\n",
      "[I 2025-05-12 15:45:13,308] Trial 98 finished with value: 0.0 and parameters: {'learning_rate': 0.05205384940820814, 'n_estimators': 668, 'max_depth': 9, 'max_leaves': 88, 'min_child_weight': 2, 'reg_alpha': 0.9041080226084824, 'reg_lambda': 0.26721953225917544, 'min_frequency': 0.35774815956154277}. Best is trial 0 with value: 0.0.\n",
      "/Users/diegoespinoza/Library/Python/3.9/lib/python/site-packages/xgboost/core.py:158: UserWarning:\n",
      "\n",
      "[15:45:13] WARNING: /Users/runner/work/xgboost/xgboost/src/learner.cc:740: \n",
      "Parameters: { \"use_label_encoder\" } are not used.\n",
      "\n",
      "\n",
      "[I 2025-05-12 15:45:15,006] Trial 99 finished with value: 0.0 and parameters: {'learning_rate': 0.046463129032115164, 'n_estimators': 869, 'max_depth': 3, 'max_leaves': 58, 'min_child_weight': 5, 'reg_alpha': 0.16343280059379942, 'reg_lambda': 0.3634601434075295, 'min_frequency': 0.014386886700371804}. Best is trial 0 with value: 0.0.\n",
      "/Users/diegoespinoza/Library/Python/3.9/lib/python/site-packages/xgboost/core.py:158: UserWarning:\n",
      "\n",
      "[15:45:15] WARNING: /Users/runner/work/xgboost/xgboost/src/learner.cc:740: \n",
      "Parameters: { \"use_label_encoder\" } are not used.\n",
      "\n",
      "\n",
      "[I 2025-05-12 15:45:16,021] Trial 100 finished with value: 0.0 and parameters: {'learning_rate': 0.05904340837674551, 'n_estimators': 323, 'max_depth': 3, 'max_leaves': 82, 'min_child_weight': 4, 'reg_alpha': 0.7023187569490991, 'reg_lambda': 0.7620397832561915, 'min_frequency': 0.8129762874635685}. Best is trial 0 with value: 0.0.\n",
      "/Users/diegoespinoza/Library/Python/3.9/lib/python/site-packages/xgboost/core.py:158: UserWarning:\n",
      "\n",
      "[15:45:16] WARNING: /Users/runner/work/xgboost/xgboost/src/learner.cc:740: \n",
      "Parameters: { \"use_label_encoder\" } are not used.\n",
      "\n",
      "\n",
      "[I 2025-05-12 15:45:17,817] Trial 101 finished with value: 0.0 and parameters: {'learning_rate': 0.06411030700370393, 'n_estimators': 983, 'max_depth': 8, 'max_leaves': 52, 'min_child_weight': 5, 'reg_alpha': 0.3352290327328839, 'reg_lambda': 0.017045471751893526, 'min_frequency': 0.9236885486357973}. Best is trial 0 with value: 0.0.\n",
      "/Users/diegoespinoza/Library/Python/3.9/lib/python/site-packages/xgboost/core.py:158: UserWarning:\n",
      "\n",
      "[15:45:18] WARNING: /Users/runner/work/xgboost/xgboost/src/learner.cc:740: \n",
      "Parameters: { \"use_label_encoder\" } are not used.\n",
      "\n",
      "\n",
      "[I 2025-05-12 15:45:19,587] Trial 102 finished with value: 0.0 and parameters: {'learning_rate': 0.08336425097241407, 'n_estimators': 948, 'max_depth': 8, 'max_leaves': 49, 'min_child_weight': 5, 'reg_alpha': 0.29697486175464444, 'reg_lambda': 0.3247904811310669, 'min_frequency': 0.7535535720652137}. Best is trial 0 with value: 0.0.\n",
      "/Users/diegoespinoza/Library/Python/3.9/lib/python/site-packages/xgboost/core.py:158: UserWarning:\n",
      "\n",
      "[15:45:20] WARNING: /Users/runner/work/xgboost/xgboost/src/learner.cc:740: \n",
      "Parameters: { \"use_label_encoder\" } are not used.\n",
      "\n",
      "\n",
      "[I 2025-05-12 15:45:21,288] Trial 103 finished with value: 0.0 and parameters: {'learning_rate': 0.079109631216081, 'n_estimators': 901, 'max_depth': 8, 'max_leaves': 75, 'min_child_weight': 5, 'reg_alpha': 0.3615271744909997, 'reg_lambda': 0.10619893610439696, 'min_frequency': 0.8644275210194585}. Best is trial 0 with value: 0.0.\n",
      "/Users/diegoespinoza/Library/Python/3.9/lib/python/site-packages/xgboost/core.py:158: UserWarning:\n",
      "\n",
      "[15:45:21] WARNING: /Users/runner/work/xgboost/xgboost/src/learner.cc:740: \n",
      "Parameters: { \"use_label_encoder\" } are not used.\n",
      "\n",
      "\n",
      "[I 2025-05-12 15:45:23,057] Trial 104 finished with value: 0.0 and parameters: {'learning_rate': 0.07031434465296085, 'n_estimators': 966, 'max_depth': 7, 'max_leaves': 65, 'min_child_weight': 5, 'reg_alpha': 0.19950773259838714, 'reg_lambda': 0.15495787197111321, 'min_frequency': 0.6989062077136545}. Best is trial 0 with value: 0.0.\n",
      "/Users/diegoespinoza/Library/Python/3.9/lib/python/site-packages/xgboost/core.py:158: UserWarning:\n",
      "\n",
      "[15:45:23] WARNING: /Users/runner/work/xgboost/xgboost/src/learner.cc:740: \n",
      "Parameters: { \"use_label_encoder\" } are not used.\n",
      "\n",
      "\n",
      "[I 2025-05-12 15:45:24,196] Trial 105 finished with value: 0.0 and parameters: {'learning_rate': 0.04990055764844628, 'n_estimators': 398, 'max_depth': 8, 'max_leaves': 79, 'min_child_weight': 1, 'reg_alpha': 0.262918904297305, 'reg_lambda': 0.02679632303838253, 'min_frequency': 0.8957733895365487}. Best is trial 0 with value: 0.0.\n",
      "/Users/diegoespinoza/Library/Python/3.9/lib/python/site-packages/xgboost/core.py:158: UserWarning:\n",
      "\n",
      "[15:45:24] WARNING: /Users/runner/work/xgboost/xgboost/src/learner.cc:740: \n",
      "Parameters: { \"use_label_encoder\" } are not used.\n",
      "\n",
      "\n",
      "[I 2025-05-12 15:45:25,986] Trial 106 finished with value: 0.0 and parameters: {'learning_rate': 0.03488766484769288, 'n_estimators': 761, 'max_depth': 10, 'max_leaves': 97, 'min_child_weight': 3, 'reg_alpha': 0.12252905260861985, 'reg_lambda': 0.21540367448686426, 'min_frequency': 0.7547465198715421}. Best is trial 0 with value: 0.0.\n",
      "/Users/diegoespinoza/Library/Python/3.9/lib/python/site-packages/xgboost/core.py:158: UserWarning:\n",
      "\n",
      "[15:45:26] WARNING: /Users/runner/work/xgboost/xgboost/src/learner.cc:740: \n",
      "Parameters: { \"use_label_encoder\" } are not used.\n",
      "\n",
      "\n",
      "[I 2025-05-12 15:45:27,767] Trial 107 finished with value: 0.0 and parameters: {'learning_rate': 0.05766144557652798, 'n_estimators': 935, 'max_depth': 4, 'max_leaves': 57, 'min_child_weight': 5, 'reg_alpha': 0.019655092191724476, 'reg_lambda': 0.06853560913634732, 'min_frequency': 0.21364229103972168}. Best is trial 0 with value: 0.0.\n",
      "/Users/diegoespinoza/Library/Python/3.9/lib/python/site-packages/xgboost/core.py:158: UserWarning:\n",
      "\n",
      "[15:45:28] WARNING: /Users/runner/work/xgboost/xgboost/src/learner.cc:740: \n",
      "Parameters: { \"use_label_encoder\" } are not used.\n",
      "\n",
      "\n",
      "[I 2025-05-12 15:45:28,630] Trial 108 finished with value: 0.0 and parameters: {'learning_rate': 0.060955501810097956, 'n_estimators': 190, 'max_depth': 3, 'max_leaves': 78, 'min_child_weight': 2, 'reg_alpha': 0.6092632555455112, 'reg_lambda': 0.8919040907069329, 'min_frequency': 0.4785835996261133}. Best is trial 0 with value: 0.0.\n",
      "/Users/diegoespinoza/Library/Python/3.9/lib/python/site-packages/xgboost/core.py:158: UserWarning:\n",
      "\n",
      "[15:45:29] WARNING: /Users/runner/work/xgboost/xgboost/src/learner.cc:740: \n",
      "Parameters: { \"use_label_encoder\" } are not used.\n",
      "\n",
      "\n",
      "[I 2025-05-12 15:45:29,421] Trial 109 finished with value: 0.0 and parameters: {'learning_rate': 0.06644082683157591, 'n_estimators': 142, 'max_depth': 9, 'max_leaves': 61, 'min_child_weight': 4, 'reg_alpha': 0.2805690253356268, 'reg_lambda': 0.4008801375567377, 'min_frequency': 0.15987906846220784}. Best is trial 0 with value: 0.0.\n",
      "/Users/diegoespinoza/Library/Python/3.9/lib/python/site-packages/xgboost/core.py:158: UserWarning:\n",
      "\n",
      "[15:45:29] WARNING: /Users/runner/work/xgboost/xgboost/src/learner.cc:740: \n",
      "Parameters: { \"use_label_encoder\" } are not used.\n",
      "\n",
      "\n",
      "[I 2025-05-12 15:45:30,343] Trial 110 finished with value: 0.0 and parameters: {'learning_rate': 0.04343961494910398, 'n_estimators': 225, 'max_depth': 5, 'max_leaves': 73, 'min_child_weight': 5, 'reg_alpha': 0.24373250903420818, 'reg_lambda': 0.7374369773640577, 'min_frequency': 0.8466375920519532}. Best is trial 0 with value: 0.0.\n",
      "/Users/diegoespinoza/Library/Python/3.9/lib/python/site-packages/xgboost/core.py:158: UserWarning:\n",
      "\n",
      "[15:45:30] WARNING: /Users/runner/work/xgboost/xgboost/src/learner.cc:740: \n",
      "Parameters: { \"use_label_encoder\" } are not used.\n",
      "\n",
      "\n",
      "[I 2025-05-12 15:45:31,853] Trial 111 finished with value: 0.0 and parameters: {'learning_rate': 0.07164665378624939, 'n_estimators': 742, 'max_depth': 6, 'max_leaves': 99, 'min_child_weight': 4, 'reg_alpha': 0.539650226497509, 'reg_lambda': 0.18691846027078646, 'min_frequency': 0.4390008357700465}. Best is trial 0 with value: 0.0.\n",
      "/Users/diegoespinoza/Library/Python/3.9/lib/python/site-packages/xgboost/core.py:158: UserWarning:\n",
      "\n",
      "[15:45:32] WARNING: /Users/runner/work/xgboost/xgboost/src/learner.cc:740: \n",
      "Parameters: { \"use_label_encoder\" } are not used.\n",
      "\n",
      "\n",
      "[I 2025-05-12 15:45:33,420] Trial 112 finished with value: 0.0 and parameters: {'learning_rate': 0.00513135454377631, 'n_estimators': 648, 'max_depth': 6, 'max_leaves': 94, 'min_child_weight': 4, 'reg_alpha': 0.0949183604782889, 'reg_lambda': 0.1284672770837176, 'min_frequency': 0.5978257420772485}. Best is trial 0 with value: 0.0.\n",
      "/Users/diegoespinoza/Library/Python/3.9/lib/python/site-packages/xgboost/core.py:158: UserWarning:\n",
      "\n",
      "[15:45:33] WARNING: /Users/runner/work/xgboost/xgboost/src/learner.cc:740: \n",
      "Parameters: { \"use_label_encoder\" } are not used.\n",
      "\n",
      "\n",
      "[I 2025-05-12 15:45:34,892] Trial 113 finished with value: 0.0 and parameters: {'learning_rate': 0.0755482334005909, 'n_estimators': 709, 'max_depth': 5, 'max_leaves': 65, 'min_child_weight': 4, 'reg_alpha': 0.5027598873617201, 'reg_lambda': 0.7095144254674112, 'min_frequency': 0.6897934152563907}. Best is trial 0 with value: 0.0.\n",
      "/Users/diegoespinoza/Library/Python/3.9/lib/python/site-packages/xgboost/core.py:158: UserWarning:\n",
      "\n",
      "[15:45:35] WARNING: /Users/runner/work/xgboost/xgboost/src/learner.cc:740: \n",
      "Parameters: { \"use_label_encoder\" } are not used.\n",
      "\n",
      "\n",
      "[I 2025-05-12 15:45:36,916] Trial 114 finished with value: 0.0 and parameters: {'learning_rate': 0.0010744502136316551, 'n_estimators': 910, 'max_depth': 7, 'max_leaves': 55, 'min_child_weight': 1, 'reg_alpha': 0.6066638896131733, 'reg_lambda': 0.3327081493142173, 'min_frequency': 0.7366120151076929}. Best is trial 0 with value: 0.0.\n",
      "/Users/diegoespinoza/Library/Python/3.9/lib/python/site-packages/xgboost/core.py:158: UserWarning:\n",
      "\n",
      "[15:45:37] WARNING: /Users/runner/work/xgboost/xgboost/src/learner.cc:740: \n",
      "Parameters: { \"use_label_encoder\" } are not used.\n",
      "\n",
      "\n",
      "[I 2025-05-12 15:45:38,877] Trial 115 finished with value: 0.0 and parameters: {'learning_rate': 0.009985436129382763, 'n_estimators': 577, 'max_depth': 6, 'max_leaves': 46, 'min_child_weight': 2, 'reg_alpha': 0.31797506207955833, 'reg_lambda': 0.25051517286362746, 'min_frequency': 0.6515604146390255}. Best is trial 0 with value: 0.0.\n",
      "/Users/diegoespinoza/Library/Python/3.9/lib/python/site-packages/xgboost/core.py:158: UserWarning:\n",
      "\n",
      "[15:45:39] WARNING: /Users/runner/work/xgboost/xgboost/src/learner.cc:740: \n",
      "Parameters: { \"use_label_encoder\" } are not used.\n",
      "\n",
      "\n",
      "[I 2025-05-12 15:45:40,683] Trial 116 finished with value: 0.0 and parameters: {'learning_rate': 0.012770204054936148, 'n_estimators': 672, 'max_depth': 3, 'max_leaves': 96, 'min_child_weight': 4, 'reg_alpha': 0.5734866062226731, 'reg_lambda': 0.16291620361490375, 'min_frequency': 0.5084475072877681}. Best is trial 0 with value: 0.0.\n",
      "/Users/diegoespinoza/Library/Python/3.9/lib/python/site-packages/xgboost/core.py:158: UserWarning:\n",
      "\n",
      "[15:45:41] WARNING: /Users/runner/work/xgboost/xgboost/src/learner.cc:740: \n",
      "Parameters: { \"use_label_encoder\" } are not used.\n",
      "\n",
      "\n",
      "[I 2025-05-12 15:45:41,954] Trial 117 finished with value: 0.0 and parameters: {'learning_rate': 0.06828012494374536, 'n_estimators': 532, 'max_depth': 7, 'max_leaves': 90, 'min_child_weight': 3, 'reg_alpha': 0.05220193572631386, 'reg_lambda': 0.20603995911960982, 'min_frequency': 0.5747179505764131}. Best is trial 0 with value: 0.0.\n",
      "/Users/diegoespinoza/Library/Python/3.9/lib/python/site-packages/xgboost/core.py:158: UserWarning:\n",
      "\n",
      "[15:45:42] WARNING: /Users/runner/work/xgboost/xgboost/src/learner.cc:740: \n",
      "Parameters: { \"use_label_encoder\" } are not used.\n",
      "\n",
      "\n",
      "[I 2025-05-12 15:45:42,943] Trial 118 finished with value: 0.0 and parameters: {'learning_rate': 0.030345921871427213, 'n_estimators': 251, 'max_depth': 10, 'max_leaves': 92, 'min_child_weight': 4, 'reg_alpha': 0.38942273080148065, 'reg_lambda': 0.6429147991396482, 'min_frequency': 0.7898498665262641}. Best is trial 0 with value: 0.0.\n",
      "/Users/diegoespinoza/Library/Python/3.9/lib/python/site-packages/xgboost/core.py:158: UserWarning:\n",
      "\n",
      "[15:45:43] WARNING: /Users/runner/work/xgboost/xgboost/src/learner.cc:740: \n",
      "Parameters: { \"use_label_encoder\" } are not used.\n",
      "\n",
      "\n",
      "[I 2025-05-12 15:45:44,797] Trial 119 finished with value: 0.0 and parameters: {'learning_rate': 0.007446570352168911, 'n_estimators': 782, 'max_depth': 9, 'max_leaves': 25, 'min_child_weight': 5, 'reg_alpha': 0.9998845231148747, 'reg_lambda': 0.7831965389467193, 'min_frequency': 0.9278016163393658}. Best is trial 0 with value: 0.0.\n",
      "/Users/diegoespinoza/Library/Python/3.9/lib/python/site-packages/xgboost/core.py:158: UserWarning:\n",
      "\n",
      "[15:45:45] WARNING: /Users/runner/work/xgboost/xgboost/src/learner.cc:740: \n",
      "Parameters: { \"use_label_encoder\" } are not used.\n",
      "\n",
      "\n",
      "[I 2025-05-12 15:45:46,364] Trial 120 finished with value: 0.0 and parameters: {'learning_rate': 0.03257324634858606, 'n_estimators': 634, 'max_depth': 6, 'max_leaves': 87, 'min_child_weight': 2, 'reg_alpha': 0.1404502413937614, 'reg_lambda': 0.5967462818746676, 'min_frequency': 0.6741979296167082}. Best is trial 0 with value: 0.0.\n",
      "/Users/diegoespinoza/Library/Python/3.9/lib/python/site-packages/xgboost/core.py:158: UserWarning:\n",
      "\n",
      "[15:45:46] WARNING: /Users/runner/work/xgboost/xgboost/src/learner.cc:740: \n",
      "Parameters: { \"use_label_encoder\" } are not used.\n",
      "\n",
      "\n",
      "[I 2025-05-12 15:45:47,913] Trial 121 finished with value: 0.0 and parameters: {'learning_rate': 0.04011935702176964, 'n_estimators': 728, 'max_depth': 8, 'max_leaves': 60, 'min_child_weight': 3, 'reg_alpha': 0.2220679109123681, 'reg_lambda': 0.9581344398592534, 'min_frequency': 0.07795995513690891}. Best is trial 0 with value: 0.0.\n",
      "/Users/diegoespinoza/Library/Python/3.9/lib/python/site-packages/xgboost/core.py:158: UserWarning:\n",
      "\n",
      "[15:45:48] WARNING: /Users/runner/work/xgboost/xgboost/src/learner.cc:740: \n",
      "Parameters: { \"use_label_encoder\" } are not used.\n",
      "\n",
      "\n",
      "[I 2025-05-12 15:45:49,463] Trial 122 finished with value: 0.0 and parameters: {'learning_rate': 0.05128373712516905, 'n_estimators': 695, 'max_depth': 8, 'max_leaves': 69, 'min_child_weight': 3, 'reg_alpha': 0.6627854904747261, 'reg_lambda': 0.07946883564121185, 'min_frequency': 0.047042837861296254}. Best is trial 0 with value: 0.0.\n",
      "/Users/diegoespinoza/Library/Python/3.9/lib/python/site-packages/xgboost/core.py:158: UserWarning:\n",
      "\n",
      "[15:45:49] WARNING: /Users/runner/work/xgboost/xgboost/src/learner.cc:740: \n",
      "Parameters: { \"use_label_encoder\" } are not used.\n",
      "\n",
      "\n",
      "[I 2025-05-12 15:45:50,724] Trial 123 finished with value: 0.0 and parameters: {'learning_rate': 0.054360035717806954, 'n_estimators': 502, 'max_depth': 8, 'max_leaves': 62, 'min_child_weight': 3, 'reg_alpha': 0.4810372444900128, 'reg_lambda': 0.9261991274782893, 'min_frequency': 0.23206085527940712}. Best is trial 0 with value: 0.0.\n",
      "/Users/diegoespinoza/Library/Python/3.9/lib/python/site-packages/xgboost/core.py:158: UserWarning:\n",
      "\n",
      "[15:45:51] WARNING: /Users/runner/work/xgboost/xgboost/src/learner.cc:740: \n",
      "Parameters: { \"use_label_encoder\" } are not used.\n",
      "\n",
      "\n",
      "[I 2025-05-12 15:45:52,216] Trial 124 finished with value: 0.0 and parameters: {'learning_rate': 0.0458847484425008, 'n_estimators': 594, 'max_depth': 4, 'max_leaves': 67, 'min_child_weight': 3, 'reg_alpha': 0.07479250985427896, 'reg_lambda': 0.9882356064748401, 'min_frequency': 0.4004128870173778}. Best is trial 0 with value: 0.0.\n",
      "/Users/diegoespinoza/Library/Python/3.9/lib/python/site-packages/xgboost/core.py:158: UserWarning:\n",
      "\n",
      "[15:45:52] WARNING: /Users/runner/work/xgboost/xgboost/src/learner.cc:740: \n",
      "Parameters: { \"use_label_encoder\" } are not used.\n",
      "\n",
      "\n",
      "[I 2025-05-12 15:45:53,891] Trial 125 finished with value: 0.0 and parameters: {'learning_rate': 0.0415126911284715, 'n_estimators': 768, 'max_depth': 7, 'max_leaves': 50, 'min_child_weight': 3, 'reg_alpha': 0.20285054136209058, 'reg_lambda': 0.6538086587252142, 'min_frequency': 0.7228061207227099}. Best is trial 0 with value: 0.0.\n",
      "/Users/diegoespinoza/Library/Python/3.9/lib/python/site-packages/xgboost/core.py:158: UserWarning:\n",
      "\n",
      "[15:45:54] WARNING: /Users/runner/work/xgboost/xgboost/src/learner.cc:740: \n",
      "Parameters: { \"use_label_encoder\" } are not used.\n",
      "\n",
      "\n",
      "[I 2025-05-12 15:45:55,402] Trial 126 finished with value: 0.0 and parameters: {'learning_rate': 0.003612523431844165, 'n_estimators': 558, 'max_depth': 8, 'max_leaves': 54, 'min_child_weight': 1, 'reg_alpha': 0.9615194362990128, 'reg_lambda': 0.04884864344195493, 'min_frequency': 0.14415417215297113}. Best is trial 0 with value: 0.0.\n",
      "/Users/diegoespinoza/Library/Python/3.9/lib/python/site-packages/xgboost/core.py:158: UserWarning:\n",
      "\n",
      "[15:45:55] WARNING: /Users/runner/work/xgboost/xgboost/src/learner.cc:740: \n",
      "Parameters: { \"use_label_encoder\" } are not used.\n",
      "\n",
      "\n",
      "[I 2025-05-12 15:45:57,482] Trial 127 finished with value: 0.0 and parameters: {'learning_rate': 0.03590148571111129, 'n_estimators': 981, 'max_depth': 3, 'max_leaves': 59, 'min_child_weight': 4, 'reg_alpha': 0.15869491453561918, 'reg_lambda': 0.6163182160447822, 'min_frequency': 0.36850412645075026}. Best is trial 0 with value: 0.0.\n",
      "/Users/diegoespinoza/Library/Python/3.9/lib/python/site-packages/xgboost/core.py:158: UserWarning:\n",
      "\n",
      "[15:45:57] WARNING: /Users/runner/work/xgboost/xgboost/src/learner.cc:740: \n",
      "Parameters: { \"use_label_encoder\" } are not used.\n",
      "\n",
      "\n",
      "[I 2025-05-12 15:45:58,949] Trial 128 finished with value: 0.0 and parameters: {'learning_rate': 0.0485953075321679, 'n_estimators': 678, 'max_depth': 8, 'max_leaves': 30, 'min_child_weight': 1, 'reg_alpha': 0.11741874849902469, 'reg_lambda': 0.6847122885357577, 'min_frequency': 0.5326274254075772}. Best is trial 0 with value: 0.0.\n",
      "/Users/diegoespinoza/Library/Python/3.9/lib/python/site-packages/xgboost/core.py:158: UserWarning:\n",
      "\n",
      "[15:45:59] WARNING: /Users/runner/work/xgboost/xgboost/src/learner.cc:740: \n",
      "Parameters: { \"use_label_encoder\" } are not used.\n",
      "\n",
      "\n",
      "[I 2025-05-12 15:46:00,119] Trial 129 finished with value: 0.0 and parameters: {'learning_rate': 0.07336153210091252, 'n_estimators': 465, 'max_depth': 9, 'max_leaves': 77, 'min_child_weight': 5, 'reg_alpha': 0.24765778253621173, 'reg_lambda': 0.4788166673885973, 'min_frequency': 0.0017335503465353615}. Best is trial 0 with value: 0.0.\n",
      "/Users/diegoespinoza/Library/Python/3.9/lib/python/site-packages/xgboost/core.py:158: UserWarning:\n",
      "\n",
      "[15:46:00] WARNING: /Users/runner/work/xgboost/xgboost/src/learner.cc:740: \n",
      "Parameters: { \"use_label_encoder\" } are not used.\n",
      "\n",
      "\n",
      "[I 2025-05-12 15:46:01,963] Trial 130 finished with value: 0.0 and parameters: {'learning_rate': 0.0655139353695443, 'n_estimators': 1000, 'max_depth': 4, 'max_leaves': 73, 'min_child_weight': 2, 'reg_alpha': 0.31919211050786617, 'reg_lambda': 0.8319153267755823, 'min_frequency': 0.11055940010078731}. Best is trial 0 with value: 0.0.\n",
      "/Users/diegoespinoza/Library/Python/3.9/lib/python/site-packages/xgboost/core.py:158: UserWarning:\n",
      "\n",
      "[15:46:02] WARNING: /Users/runner/work/xgboost/xgboost/src/learner.cc:740: \n",
      "Parameters: { \"use_label_encoder\" } are not used.\n",
      "\n",
      "\n",
      "[I 2025-05-12 15:46:03,686] Trial 131 finished with value: 0.0 and parameters: {'learning_rate': 0.06920811995544691, 'n_estimators': 869, 'max_depth': 5, 'max_leaves': 23, 'min_child_weight': 1, 'reg_alpha': 0.44613414903583093, 'reg_lambda': 0.15262508760340412, 'min_frequency': 0.8315896028796552}. Best is trial 0 with value: 0.0.\n",
      "/Users/diegoespinoza/Library/Python/3.9/lib/python/site-packages/xgboost/core.py:158: UserWarning:\n",
      "\n",
      "[15:46:04] WARNING: /Users/runner/work/xgboost/xgboost/src/learner.cc:740: \n",
      "Parameters: { \"use_label_encoder\" } are not used.\n",
      "\n",
      "\n",
      "[I 2025-05-12 15:46:05,462] Trial 132 finished with value: 0.0 and parameters: {'learning_rate': 0.019724273250962567, 'n_estimators': 838, 'max_depth': 6, 'max_leaves': 29, 'min_child_weight': 1, 'reg_alpha': 0.4181929216359936, 'reg_lambda': 0.11477361796543681, 'min_frequency': 0.7638669690194078}. Best is trial 0 with value: 0.0.\n",
      "/Users/diegoespinoza/Library/Python/3.9/lib/python/site-packages/xgboost/core.py:158: UserWarning:\n",
      "\n",
      "[15:46:05] WARNING: /Users/runner/work/xgboost/xgboost/src/learner.cc:740: \n",
      "Parameters: { \"use_label_encoder\" } are not used.\n",
      "\n",
      "\n",
      "[I 2025-05-12 15:46:07,233] Trial 133 finished with value: 0.0 and parameters: {'learning_rate': 0.07738514563209414, 'n_estimators': 953, 'max_depth': 5, 'max_leaves': 38, 'min_child_weight': 1, 'reg_alpha': 0.36617574360910055, 'reg_lambda': 0.283348746133837, 'min_frequency': 0.814079424369159}. Best is trial 0 with value: 0.0.\n",
      "/Users/diegoespinoza/Library/Python/3.9/lib/python/site-packages/xgboost/core.py:158: UserWarning:\n",
      "\n",
      "[15:46:07] WARNING: /Users/runner/work/xgboost/xgboost/src/learner.cc:740: \n",
      "Parameters: { \"use_label_encoder\" } are not used.\n",
      "\n",
      "\n",
      "[I 2025-05-12 15:46:08,967] Trial 134 finished with value: 0.0 and parameters: {'learning_rate': 0.06150595226028306, 'n_estimators': 818, 'max_depth': 5, 'max_leaves': 33, 'min_child_weight': 1, 'reg_alpha': 0.2688777837995546, 'reg_lambda': 0.18597701222806273, 'min_frequency': 0.9487054496676331}. Best is trial 0 with value: 0.0.\n",
      "/Users/diegoespinoza/Library/Python/3.9/lib/python/site-packages/xgboost/core.py:158: UserWarning:\n",
      "\n",
      "[15:46:09] WARNING: /Users/runner/work/xgboost/xgboost/src/learner.cc:740: \n",
      "Parameters: { \"use_label_encoder\" } are not used.\n",
      "\n",
      "\n",
      "[I 2025-05-12 15:46:10,802] Trial 135 finished with value: 0.0 and parameters: {'learning_rate': 0.05781089261019875, 'n_estimators': 921, 'max_depth': 3, 'max_leaves': 41, 'min_child_weight': 1, 'reg_alpha': 0.3387344498552945, 'reg_lambda': 0.22459374230085388, 'min_frequency': 0.2041312803374445}. Best is trial 0 with value: 0.0.\n",
      "/Users/diegoespinoza/Library/Python/3.9/lib/python/site-packages/xgboost/core.py:158: UserWarning:\n",
      "\n",
      "[15:46:11] WARNING: /Users/runner/work/xgboost/xgboost/src/learner.cc:740: \n",
      "Parameters: { \"use_label_encoder\" } are not used.\n",
      "\n",
      "\n",
      "[I 2025-05-12 15:46:11,757] Trial 136 finished with value: 0.0 and parameters: {'learning_rate': 0.08063053392047474, 'n_estimators': 284, 'max_depth': 6, 'max_leaves': 33, 'min_child_weight': 4, 'reg_alpha': 0.7600435648824646, 'reg_lambda': 0.259390668927378, 'min_frequency': 0.30497836399660017}. Best is trial 0 with value: 0.0.\n",
      "/Users/diegoespinoza/Library/Python/3.9/lib/python/site-packages/xgboost/core.py:158: UserWarning:\n",
      "\n",
      "[15:46:12] WARNING: /Users/runner/work/xgboost/xgboost/src/learner.cc:740: \n",
      "Parameters: { \"use_label_encoder\" } are not used.\n",
      "\n",
      "\n",
      "[I 2025-05-12 15:46:13,478] Trial 137 finished with value: 0.0 and parameters: {'learning_rate': 0.07420809405278184, 'n_estimators': 882, 'max_depth': 10, 'max_leaves': 27, 'min_child_weight': 2, 'reg_alpha': 0.09189064789199175, 'reg_lambda': 0.87083180315572, 'min_frequency': 0.18486820083092798}. Best is trial 0 with value: 0.0.\n",
      "/Users/diegoespinoza/Library/Python/3.9/lib/python/site-packages/xgboost/core.py:158: UserWarning:\n",
      "\n",
      "[15:46:13] WARNING: /Users/runner/work/xgboost/xgboost/src/learner.cc:740: \n",
      "Parameters: { \"use_label_encoder\" } are not used.\n",
      "\n",
      "\n",
      "[I 2025-05-12 15:46:15,113] Trial 138 finished with value: 0.0 and parameters: {'learning_rate': 0.0709276636341963, 'n_estimators': 793, 'max_depth': 4, 'max_leaves': 35, 'min_child_weight': 5, 'reg_alpha': 0.2932876844994311, 'reg_lambda': 0.004208167187262607, 'min_frequency': 0.465691950988808}. Best is trial 0 with value: 0.0.\n",
      "/Users/diegoespinoza/Library/Python/3.9/lib/python/site-packages/xgboost/core.py:158: UserWarning:\n",
      "\n",
      "[15:46:15] WARNING: /Users/runner/work/xgboost/xgboost/src/learner.cc:740: \n",
      "Parameters: { \"use_label_encoder\" } are not used.\n",
      "\n",
      "\n",
      "[I 2025-05-12 15:46:16,791] Trial 139 finished with value: 0.0 and parameters: {'learning_rate': 0.027303202315246418, 'n_estimators': 751, 'max_depth': 3, 'max_leaves': 84, 'min_child_weight': 3, 'reg_alpha': 0.3879383232723713, 'reg_lambda': 0.5623333236634748, 'min_frequency': 0.24083480468155874}. Best is trial 0 with value: 0.0.\n",
      "/Users/diegoespinoza/Library/Python/3.9/lib/python/site-packages/xgboost/core.py:158: UserWarning:\n",
      "\n",
      "[15:46:17] WARNING: /Users/runner/work/xgboost/xgboost/src/learner.cc:740: \n",
      "Parameters: { \"use_label_encoder\" } are not used.\n",
      "\n",
      "\n",
      "[I 2025-05-12 15:46:18,465] Trial 140 finished with value: 0.0 and parameters: {'learning_rate': 0.0650711767693652, 'n_estimators': 862, 'max_depth': 5, 'max_leaves': 70, 'min_child_weight': 2, 'reg_alpha': 0.851898486477063, 'reg_lambda': 0.10011993731833083, 'min_frequency': 0.2747827050431244}. Best is trial 0 with value: 0.0.\n",
      "/Users/diegoespinoza/Library/Python/3.9/lib/python/site-packages/xgboost/core.py:158: UserWarning:\n",
      "\n",
      "[15:46:18] WARNING: /Users/runner/work/xgboost/xgboost/src/learner.cc:740: \n",
      "Parameters: { \"use_label_encoder\" } are not used.\n",
      "\n",
      "\n",
      "[I 2025-05-12 15:46:19,828] Trial 141 finished with value: 0.0 and parameters: {'learning_rate': 0.09783500730161376, 'n_estimators': 628, 'max_depth': 10, 'max_leaves': 96, 'min_child_weight': 5, 'reg_alpha': 0.184438539432136, 'reg_lambda': 0.3849371678155872, 'min_frequency': 0.5672169798094452}. Best is trial 0 with value: 0.0.\n",
      "/Users/diegoespinoza/Library/Python/3.9/lib/python/site-packages/xgboost/core.py:158: UserWarning:\n",
      "\n",
      "[15:46:20] WARNING: /Users/runner/work/xgboost/xgboost/src/learner.cc:740: \n",
      "Parameters: { \"use_label_encoder\" } are not used.\n",
      "\n",
      "\n",
      "[I 2025-05-12 15:46:21,614] Trial 142 finished with value: 0.0 and parameters: {'learning_rate': 0.0377259954021935, 'n_estimators': 806, 'max_depth': 9, 'max_leaves': 97, 'min_child_weight': 5, 'reg_alpha': 0.22986608892671848, 'reg_lambda': 0.4272365969924601, 'min_frequency': 0.5025071490222398}. Best is trial 0 with value: 0.0.\n",
      "/Users/diegoespinoza/Library/Python/3.9/lib/python/site-packages/xgboost/core.py:158: UserWarning:\n",
      "\n",
      "[15:46:22] WARNING: /Users/runner/work/xgboost/xgboost/src/learner.cc:740: \n",
      "Parameters: { \"use_label_encoder\" } are not used.\n",
      "\n",
      "\n",
      "[I 2025-05-12 15:46:23,158] Trial 143 finished with value: 0.0 and parameters: {'learning_rate': 0.0872873989531791, 'n_estimators': 726, 'max_depth': 8, 'max_leaves': 82, 'min_child_weight': 5, 'reg_alpha': 0.15824915678924295, 'reg_lambda': 0.4463905008558244, 'min_frequency': 0.6241089092409318}. Best is trial 0 with value: 0.0.\n",
      "/Users/diegoespinoza/Library/Python/3.9/lib/python/site-packages/xgboost/core.py:158: UserWarning:\n",
      "\n",
      "[15:46:23] WARNING: /Users/runner/work/xgboost/xgboost/src/learner.cc:740: \n",
      "Parameters: { \"use_label_encoder\" } are not used.\n",
      "\n",
      "\n",
      "[I 2025-05-12 15:46:24,666] Trial 144 finished with value: 0.0 and parameters: {'learning_rate': 0.04725452602852819, 'n_estimators': 701, 'max_depth': 10, 'max_leaves': 100, 'min_child_weight': 5, 'reg_alpha': 0.6414150608234599, 'reg_lambda': 0.357252782909775, 'min_frequency': 0.1685982732007964}. Best is trial 0 with value: 0.0.\n",
      "/Users/diegoespinoza/Library/Python/3.9/lib/python/site-packages/xgboost/core.py:158: UserWarning:\n",
      "\n",
      "[15:46:25] WARNING: /Users/runner/work/xgboost/xgboost/src/learner.cc:740: \n",
      "Parameters: { \"use_label_encoder\" } are not used.\n",
      "\n",
      "\n",
      "[I 2025-05-12 15:46:25,700] Trial 145 finished with value: 0.0 and parameters: {'learning_rate': 0.09115141287740496, 'n_estimators': 213, 'max_depth': 8, 'max_leaves': 94, 'min_child_weight': 5, 'reg_alpha': 0.2059718474484686, 'reg_lambda': 0.5075348193973797, 'min_frequency': 0.5491519851358262}. Best is trial 0 with value: 0.0.\n",
      "/Users/diegoespinoza/Library/Python/3.9/lib/python/site-packages/xgboost/core.py:158: UserWarning:\n",
      "\n",
      "[15:46:26] WARNING: /Users/runner/work/xgboost/xgboost/src/learner.cc:740: \n",
      "Parameters: { \"use_label_encoder\" } are not used.\n",
      "\n",
      "\n",
      "[I 2025-05-12 15:46:27,169] Trial 146 finished with value: 0.0 and parameters: {'learning_rate': 0.055802927180894996, 'n_estimators': 660, 'max_depth': 9, 'max_leaves': 99, 'min_child_weight': 4, 'reg_alpha': 0.13888399529276094, 'reg_lambda': 0.3217273587342004, 'min_frequency': 0.43435511805842797}. Best is trial 0 with value: 0.0.\n",
      "/Users/diegoespinoza/Library/Python/3.9/lib/python/site-packages/xgboost/core.py:158: UserWarning:\n",
      "\n",
      "[15:46:27] WARNING: /Users/runner/work/xgboost/xgboost/src/learner.cc:740: \n",
      "Parameters: { \"use_label_encoder\" } are not used.\n",
      "\n",
      "\n",
      "[I 2025-05-12 15:46:28,562] Trial 147 finished with value: 0.0 and parameters: {'learning_rate': 0.09420662658504783, 'n_estimators': 605, 'max_depth': 3, 'max_leaves': 54, 'min_child_weight': 5, 'reg_alpha': 0.10949943831858913, 'reg_lambda': 0.20351033779726657, 'min_frequency': 0.6467484374787179}. Best is trial 0 with value: 0.0.\n",
      "/Users/diegoespinoza/Library/Python/3.9/lib/python/site-packages/xgboost/core.py:158: UserWarning:\n",
      "\n",
      "[15:46:29] WARNING: /Users/runner/work/xgboost/xgboost/src/learner.cc:740: \n",
      "Parameters: { \"use_label_encoder\" } are not used.\n",
      "\n",
      "\n",
      "[I 2025-05-12 15:46:30,487] Trial 148 finished with value: 0.0 and parameters: {'learning_rate': 0.016916899459535374, 'n_estimators': 928, 'max_depth': 10, 'max_leaves': 64, 'min_child_weight': 2, 'reg_alpha': 0.25118202121189387, 'reg_lambda': 0.8113101443631527, 'min_frequency': 0.8619687629645267}. Best is trial 0 with value: 0.0.\n",
      "/Users/diegoespinoza/Library/Python/3.9/lib/python/site-packages/xgboost/core.py:158: UserWarning:\n",
      "\n",
      "[15:46:30] WARNING: /Users/runner/work/xgboost/xgboost/src/learner.cc:740: \n",
      "Parameters: { \"use_label_encoder\" } are not used.\n",
      "\n",
      "\n",
      "[I 2025-05-12 15:46:32,314] Trial 149 finished with value: 0.0 and parameters: {'learning_rate': 0.05290796958068913, 'n_estimators': 968, 'max_depth': 4, 'max_leaves': 89, 'min_child_weight': 1, 'reg_alpha': 0.797142782595458, 'reg_lambda': 0.7126038771074574, 'min_frequency': 0.6842334577239515}. Best is trial 0 with value: 0.0.\n",
      "/Users/diegoespinoza/Library/Python/3.9/lib/python/site-packages/xgboost/core.py:158: UserWarning:\n",
      "\n",
      "[15:46:32] WARNING: /Users/runner/work/xgboost/xgboost/src/learner.cc:740: \n",
      "Parameters: { \"use_label_encoder\" } are not used.\n",
      "\n",
      "\n",
      "[I 2025-05-12 15:46:34,212] Trial 150 finished with value: 0.0 and parameters: {'learning_rate': 0.044015397981540576, 'n_estimators': 952, 'max_depth': 3, 'max_leaves': 74, 'min_child_weight': 3, 'reg_alpha': 0.1793507035244306, 'reg_lambda': 0.9012539549862328, 'min_frequency': 0.8897638072749167}. Best is trial 0 with value: 0.0.\n",
      "/Users/diegoespinoza/Library/Python/3.9/lib/python/site-packages/xgboost/core.py:158: UserWarning:\n",
      "\n",
      "[15:46:34] WARNING: /Users/runner/work/xgboost/xgboost/src/learner.cc:740: \n",
      "Parameters: { \"use_label_encoder\" } are not used.\n",
      "\n",
      "\n",
      "[I 2025-05-12 15:46:35,259] Trial 151 finished with value: 0.0 and parameters: {'learning_rate': 0.030004901988014157, 'n_estimators': 305, 'max_depth': 8, 'max_leaves': 48, 'min_child_weight': 3, 'reg_alpha': 0.5610978131038694, 'reg_lambda': 0.1430964410402002, 'min_frequency': 0.8081992272980887}. Best is trial 0 with value: 0.0.\n",
      "/Users/diegoespinoza/Library/Python/3.9/lib/python/site-packages/xgboost/core.py:158: UserWarning:\n",
      "\n",
      "[15:46:35] WARNING: /Users/runner/work/xgboost/xgboost/src/learner.cc:740: \n",
      "Parameters: { \"use_label_encoder\" } are not used.\n",
      "\n",
      "\n",
      "[I 2025-05-12 15:46:36,572] Trial 152 finished with value: 0.0 and parameters: {'learning_rate': 0.010886605388947698, 'n_estimators': 484, 'max_depth': 7, 'max_leaves': 43, 'min_child_weight': 3, 'reg_alpha': 0.5259032525420104, 'reg_lambda': 0.1658585547930163, 'min_frequency': 0.07386224696827014}. Best is trial 0 with value: 0.0.\n",
      "/Users/diegoespinoza/Library/Python/3.9/lib/python/site-packages/xgboost/core.py:158: UserWarning:\n",
      "\n",
      "[15:46:37] WARNING: /Users/runner/work/xgboost/xgboost/src/learner.cc:740: \n",
      "Parameters: { \"use_label_encoder\" } are not used.\n",
      "\n",
      "\n",
      "[I 2025-05-12 15:46:37,772] Trial 153 finished with value: 0.0 and parameters: {'learning_rate': 0.03171326205102967, 'n_estimators': 433, 'max_depth': 7, 'max_leaves': 35, 'min_child_weight': 3, 'reg_alpha': 0.6868458154660005, 'reg_lambda': 0.23570826263286268, 'min_frequency': 0.3331307985921235}. Best is trial 0 with value: 0.0.\n",
      "/Users/diegoespinoza/Library/Python/3.9/lib/python/site-packages/xgboost/core.py:158: UserWarning:\n",
      "\n",
      "[15:46:38] WARNING: /Users/runner/work/xgboost/xgboost/src/learner.cc:740: \n",
      "Parameters: { \"use_label_encoder\" } are not used.\n",
      "\n",
      "\n",
      "[I 2025-05-12 15:46:39,364] Trial 154 finished with value: 0.0 and parameters: {'learning_rate': 0.006252552501213046, 'n_estimators': 689, 'max_depth': 9, 'max_leaves': 80, 'min_child_weight': 3, 'reg_alpha': 0.6348713110015718, 'reg_lambda': 0.2979179998143656, 'min_frequency': 0.9142860194465618}. Best is trial 0 with value: 0.0.\n",
      "/Users/diegoespinoza/Library/Python/3.9/lib/python/site-packages/xgboost/core.py:158: UserWarning:\n",
      "\n",
      "[15:46:39] WARNING: /Users/runner/work/xgboost/xgboost/src/learner.cc:740: \n",
      "Parameters: { \"use_label_encoder\" } are not used.\n",
      "\n",
      "\n",
      "[I 2025-05-12 15:46:40,669] Trial 155 finished with value: 0.0 and parameters: {'learning_rate': 0.050146524032135764, 'n_estimators': 524, 'max_depth': 6, 'max_leaves': 58, 'min_child_weight': 5, 'reg_alpha': 0.6076521445419447, 'reg_lambda': 0.06052961191351307, 'min_frequency': 0.7734904005855824}. Best is trial 0 with value: 0.0.\n",
      "/Users/diegoespinoza/Library/Python/3.9/lib/python/site-packages/xgboost/core.py:158: UserWarning:\n",
      "\n",
      "[15:46:41] WARNING: /Users/runner/work/xgboost/xgboost/src/learner.cc:740: \n",
      "Parameters: { \"use_label_encoder\" } are not used.\n",
      "\n",
      "\n",
      "[I 2025-05-12 15:46:42,116] Trial 156 finished with value: 0.0 and parameters: {'learning_rate': 0.03409270243743261, 'n_estimators': 567, 'max_depth': 8, 'max_leaves': 93, 'min_child_weight': 3, 'reg_alpha': 0.5023694911859474, 'reg_lambda': 0.04125799970737715, 'min_frequency': 0.8421586610806214}. Best is trial 0 with value: 0.0.\n",
      "/Users/diegoespinoza/Library/Python/3.9/lib/python/site-packages/xgboost/core.py:158: UserWarning:\n",
      "\n",
      "[15:46:42] WARNING: /Users/runner/work/xgboost/xgboost/src/learner.cc:740: \n",
      "Parameters: { \"use_label_encoder\" } are not used.\n",
      "\n",
      "\n",
      "[I 2025-05-12 15:46:43,268] Trial 157 finished with value: 0.0 and parameters: {'learning_rate': 0.023239040578767862, 'n_estimators': 384, 'max_depth': 7, 'max_leaves': 52, 'min_child_weight': 1, 'reg_alpha': 0.590001077232845, 'reg_lambda': 0.5855725817324094, 'min_frequency': 0.5163658062638826}. Best is trial 0 with value: 0.0.\n",
      "/Users/diegoespinoza/Library/Python/3.9/lib/python/site-packages/xgboost/core.py:158: UserWarning:\n",
      "\n",
      "[15:46:43] WARNING: /Users/runner/work/xgboost/xgboost/src/learner.cc:740: \n",
      "Parameters: { \"use_label_encoder\" } are not used.\n",
      "\n",
      "\n",
      "[I 2025-05-12 15:46:44,055] Trial 158 finished with value: 0.0 and parameters: {'learning_rate': 0.08477317174902776, 'n_estimators': 144, 'max_depth': 8, 'max_leaves': 40, 'min_child_weight': 4, 'reg_alpha': 0.06888249857429243, 'reg_lambda': 0.5235733268789851, 'min_frequency': 0.8807691979081225}. Best is trial 0 with value: 0.0.\n",
      "/Users/diegoespinoza/Library/Python/3.9/lib/python/site-packages/xgboost/core.py:158: UserWarning:\n",
      "\n",
      "[15:46:44] WARNING: /Users/runner/work/xgboost/xgboost/src/learner.cc:740: \n",
      "Parameters: { \"use_label_encoder\" } are not used.\n",
      "\n",
      "\n",
      "[I 2025-05-12 15:46:45,055] Trial 159 finished with value: 0.0 and parameters: {'learning_rate': 0.028730793288470273, 'n_estimators': 268, 'max_depth': 6, 'max_leaves': 26, 'min_child_weight': 3, 'reg_alpha': 0.036681256506041655, 'reg_lambda': 0.12866623042314645, 'min_frequency': 0.12245980647580722}. Best is trial 0 with value: 0.0.\n",
      "/Users/diegoespinoza/Library/Python/3.9/lib/python/site-packages/xgboost/core.py:158: UserWarning:\n",
      "\n",
      "[15:46:45] WARNING: /Users/runner/work/xgboost/xgboost/src/learner.cc:740: \n",
      "Parameters: { \"use_label_encoder\" } are not used.\n",
      "\n",
      "\n",
      "[I 2025-05-12 15:46:46,999] Trial 160 finished with value: 0.0 and parameters: {'learning_rate': 0.013760635334943193, 'n_estimators': 904, 'max_depth': 3, 'max_leaves': 98, 'min_child_weight': 2, 'reg_alpha': 0.7416789718121181, 'reg_lambda': 0.17835243167052198, 'min_frequency': 0.7296477126556926}. Best is trial 0 with value: 0.0.\n",
      "/Users/diegoespinoza/Library/Python/3.9/lib/python/site-packages/xgboost/core.py:158: UserWarning:\n",
      "\n",
      "[15:46:47] WARNING: /Users/runner/work/xgboost/xgboost/src/learner.cc:740: \n",
      "Parameters: { \"use_label_encoder\" } are not used.\n",
      "\n",
      "\n",
      "[I 2025-05-12 15:46:48,741] Trial 161 finished with value: 0.0 and parameters: {'learning_rate': 0.05953762062407, 'n_estimators': 890, 'max_depth': 5, 'max_leaves': 44, 'min_child_weight': 2, 'reg_alpha': 0.6954231641148741, 'reg_lambda': 0.08500345390487217, 'min_frequency': 0.6159983058580251}. Best is trial 0 with value: 0.0.\n",
      "/Users/diegoespinoza/Library/Python/3.9/lib/python/site-packages/xgboost/core.py:158: UserWarning:\n",
      "\n",
      "[15:46:49] WARNING: /Users/runner/work/xgboost/xgboost/src/learner.cc:740: \n",
      "Parameters: { \"use_label_encoder\" } are not used.\n",
      "\n",
      "\n",
      "[I 2025-05-12 15:46:50,506] Trial 162 finished with value: 0.0 and parameters: {'learning_rate': 0.057335410405291116, 'n_estimators': 936, 'max_depth': 5, 'max_leaves': 19, 'min_child_weight': 2, 'reg_alpha': 0.7252547712778313, 'reg_lambda': 0.10994571449736999, 'min_frequency': 0.5912093535643984}. Best is trial 0 with value: 0.0.\n",
      "/Users/diegoespinoza/Library/Python/3.9/lib/python/site-packages/xgboost/core.py:158: UserWarning:\n",
      "\n",
      "[15:46:50] WARNING: /Users/runner/work/xgboost/xgboost/src/learner.cc:740: \n",
      "Parameters: { \"use_label_encoder\" } are not used.\n",
      "\n",
      "\n",
      "[I 2025-05-12 15:46:52,322] Trial 163 finished with value: 0.0 and parameters: {'learning_rate': 0.06272511764033939, 'n_estimators': 983, 'max_depth': 6, 'max_leaves': 56, 'min_child_weight': 2, 'reg_alpha': 0.9238985158343622, 'reg_lambda': 0.0845394684899109, 'min_frequency': 0.7436388687987664}. Best is trial 0 with value: 0.0.\n",
      "/Users/diegoespinoza/Library/Python/3.9/lib/python/site-packages/xgboost/core.py:158: UserWarning:\n",
      "\n",
      "[15:46:52] WARNING: /Users/runner/work/xgboost/xgboost/src/learner.cc:740: \n",
      "Parameters: { \"use_label_encoder\" } are not used.\n",
      "\n",
      "\n",
      "[I 2025-05-12 15:46:54,104] Trial 164 finished with value: 0.0 and parameters: {'learning_rate': 0.06730893772237914, 'n_estimators': 952, 'max_depth': 4, 'max_leaves': 22, 'min_child_weight': 2, 'reg_alpha': 0.27989955355727786, 'reg_lambda': 0.025395476047370424, 'min_frequency': 0.48753259758556483}. Best is trial 0 with value: 0.0.\n",
      "/Users/diegoespinoza/Library/Python/3.9/lib/python/site-packages/xgboost/core.py:158: UserWarning:\n",
      "\n",
      "[15:46:54] WARNING: /Users/runner/work/xgboost/xgboost/src/learner.cc:740: \n",
      "Parameters: { \"use_label_encoder\" } are not used.\n",
      "\n",
      "\n",
      "[I 2025-05-12 15:46:54,748] Trial 165 finished with value: 0.038484871795970155 and parameters: {'learning_rate': 0.053002091391552056, 'n_estimators': 71, 'max_depth': 8, 'max_leaves': 1, 'min_child_weight': 5, 'reg_alpha': 0.8780168835402269, 'reg_lambda': 0.14585061429577484, 'min_frequency': 0.7093804241178255}. Best is trial 0 with value: 0.0.\n",
      "/Users/diegoespinoza/Library/Python/3.9/lib/python/site-packages/xgboost/core.py:158: UserWarning:\n",
      "\n",
      "[15:46:55] WARNING: /Users/runner/work/xgboost/xgboost/src/learner.cc:740: \n",
      "Parameters: { \"use_label_encoder\" } are not used.\n",
      "\n",
      "\n",
      "[I 2025-05-12 15:46:55,934] Trial 166 finished with value: 0.0 and parameters: {'learning_rate': 0.007523296759414041, 'n_estimators': 362, 'max_depth': 4, 'max_leaves': 95, 'min_child_weight': 1, 'reg_alpha': 0.9009117390115584, 'reg_lambda': 0.38188753900764144, 'min_frequency': 0.6335479496874379}. Best is trial 0 with value: 0.0.\n",
      "/Users/diegoespinoza/Library/Python/3.9/lib/python/site-packages/xgboost/core.py:158: UserWarning:\n",
      "\n",
      "[15:46:56] WARNING: /Users/runner/work/xgboost/xgboost/src/learner.cc:740: \n",
      "Parameters: { \"use_label_encoder\" } are not used.\n",
      "\n",
      "\n",
      "[I 2025-05-12 15:46:57,705] Trial 167 finished with value: 0.0 and parameters: {'learning_rate': 0.0406817804753996, 'n_estimators': 853, 'max_depth': 10, 'max_leaves': 8, 'min_child_weight': 4, 'reg_alpha': 0.01491954804979416, 'reg_lambda': 0.7628746746098617, 'min_frequency': 0.5471853819665599}. Best is trial 0 with value: 0.0.\n",
      "/Users/diegoespinoza/Library/Python/3.9/lib/python/site-packages/xgboost/core.py:158: UserWarning:\n",
      "\n",
      "[15:46:58] WARNING: /Users/runner/work/xgboost/xgboost/src/learner.cc:740: \n",
      "Parameters: { \"use_label_encoder\" } are not used.\n",
      "\n",
      "\n",
      "[I 2025-05-12 15:46:59,511] Trial 168 finished with value: 0.0 and parameters: {'learning_rate': 0.03633932756976235, 'n_estimators': 912, 'max_depth': 9, 'max_leaves': 15, 'min_child_weight': 2, 'reg_alpha': 0.7835456294611607, 'reg_lambda': 0.5498443257349659, 'min_frequency': 0.6605460448988867}. Best is trial 0 with value: 0.0.\n",
      "/Users/diegoespinoza/Library/Python/3.9/lib/python/site-packages/xgboost/core.py:158: UserWarning:\n",
      "\n",
      "[15:46:59] WARNING: /Users/runner/work/xgboost/xgboost/src/learner.cc:740: \n",
      "Parameters: { \"use_label_encoder\" } are not used.\n",
      "\n",
      "\n",
      "[I 2025-05-12 15:47:01,064] Trial 169 finished with value: 0.0 and parameters: {'learning_rate': 0.025371426521926095, 'n_estimators': 713, 'max_depth': 5, 'max_leaves': 67, 'min_child_weight': 5, 'reg_alpha': 0.6767205017186316, 'reg_lambda': 0.6254408001443101, 'min_frequency': 0.4602431610107212}. Best is trial 0 with value: 0.0.\n",
      "/Users/diegoespinoza/Library/Python/3.9/lib/python/site-packages/xgboost/core.py:158: UserWarning:\n",
      "\n",
      "[15:47:01] WARNING: /Users/runner/work/xgboost/xgboost/src/learner.cc:740: \n",
      "Parameters: { \"use_label_encoder\" } are not used.\n",
      "\n",
      "\n",
      "[I 2025-05-12 15:47:02,663] Trial 170 finished with value: 0.0 and parameters: {'learning_rate': 0.038593282742037806, 'n_estimators': 772, 'max_depth': 3, 'max_leaves': 15, 'min_child_weight': 3, 'reg_alpha': 0.2232135328309277, 'reg_lambda': 0.6717030605799402, 'min_frequency': 0.1540046771801934}. Best is trial 0 with value: 0.0.\n",
      "/Users/diegoespinoza/Library/Python/3.9/lib/python/site-packages/xgboost/core.py:158: UserWarning:\n",
      "\n",
      "[15:47:03] WARNING: /Users/runner/work/xgboost/xgboost/src/learner.cc:740: \n",
      "Parameters: { \"use_label_encoder\" } are not used.\n",
      "\n",
      "\n",
      "[I 2025-05-12 15:47:04,275] Trial 171 finished with value: 0.0 and parameters: {'learning_rate': 0.04463231141951913, 'n_estimators': 740, 'max_depth': 9, 'max_leaves': 60, 'min_child_weight': 4, 'reg_alpha': 0.1945663859671043, 'reg_lambda': 0.4447615526689954, 'min_frequency': 0.2085193459502212}. Best is trial 0 with value: 0.0.\n",
      "/Users/diegoespinoza/Library/Python/3.9/lib/python/site-packages/xgboost/core.py:158: UserWarning:\n",
      "\n",
      "[15:47:04] WARNING: /Users/runner/work/xgboost/xgboost/src/learner.cc:740: \n",
      "Parameters: { \"use_label_encoder\" } are not used.\n",
      "\n",
      "\n",
      "[I 2025-05-12 15:47:06,081] Trial 172 finished with value: 0.0 and parameters: {'learning_rate': 0.0028920225918008663, 'n_estimators': 821, 'max_depth': 7, 'max_leaves': 64, 'min_child_weight': 4, 'reg_alpha': 0.21521470138840562, 'reg_lambda': 0.48351908694335666, 'min_frequency': 0.2591763071690101}. Best is trial 0 with value: 0.0.\n",
      "/Users/diegoespinoza/Library/Python/3.9/lib/python/site-packages/xgboost/core.py:158: UserWarning:\n",
      "\n",
      "[15:47:06] WARNING: /Users/runner/work/xgboost/xgboost/src/learner.cc:740: \n",
      "Parameters: { \"use_label_encoder\" } are not used.\n",
      "\n",
      "\n",
      "[I 2025-05-12 15:47:07,776] Trial 173 finished with value: 0.0 and parameters: {'learning_rate': 0.042127183920574116, 'n_estimators': 756, 'max_depth': 8, 'max_leaves': 77, 'min_child_weight': 4, 'reg_alpha': 0.1620766304983421, 'reg_lambda': 0.46522113724508896, 'min_frequency': 0.3887959529194461}. Best is trial 0 with value: 0.0.\n",
      "/Users/diegoespinoza/Library/Python/3.9/lib/python/site-packages/xgboost/core.py:158: UserWarning:\n",
      "\n",
      "[15:47:08] WARNING: /Users/runner/work/xgboost/xgboost/src/learner.cc:740: \n",
      "Parameters: { \"use_label_encoder\" } are not used.\n",
      "\n",
      "\n",
      "[I 2025-05-12 15:47:09,501] Trial 174 finished with value: 0.0 and parameters: {'learning_rate': 0.03359164353195934, 'n_estimators': 792, 'max_depth': 8, 'max_leaves': 62, 'min_child_weight': 4, 'reg_alpha': 0.14355367253923446, 'reg_lambda': 0.19187023574842285, 'min_frequency': 0.1807400825256692}. Best is trial 0 with value: 0.0.\n",
      "/Users/diegoespinoza/Library/Python/3.9/lib/python/site-packages/xgboost/core.py:158: UserWarning:\n",
      "\n",
      "[15:47:09] WARNING: /Users/runner/work/xgboost/xgboost/src/learner.cc:740: \n",
      "Parameters: { \"use_label_encoder\" } are not used.\n",
      "\n",
      "\n",
      "[I 2025-05-12 15:47:11,030] Trial 175 finished with value: 0.0 and parameters: {'learning_rate': 0.048224198359644734, 'n_estimators': 652, 'max_depth': 10, 'max_leaves': 100, 'min_child_weight': 4, 'reg_alpha': 0.9751174115966257, 'reg_lambda': 0.33949728828216547, 'min_frequency': 0.3072552516474325}. Best is trial 0 with value: 0.0.\n",
      "/Users/diegoespinoza/Library/Python/3.9/lib/python/site-packages/xgboost/core.py:158: UserWarning:\n",
      "\n",
      "[15:47:11] WARNING: /Users/runner/work/xgboost/xgboost/src/learner.cc:740: \n",
      "Parameters: { \"use_label_encoder\" } are not used.\n",
      "\n",
      "\n",
      "[I 2025-05-12 15:47:11,879] Trial 176 finished with value: 0.0 and parameters: {'learning_rate': 0.060325610777009576, 'n_estimators': 178, 'max_depth': 9, 'max_leaves': 91, 'min_child_weight': 1, 'reg_alpha': 0.12446626054927537, 'reg_lambda': 0.3116392873378397, 'min_frequency': 0.24735789345960357}. Best is trial 0 with value: 0.0.\n",
      "/Users/diegoespinoza/Library/Python/3.9/lib/python/site-packages/xgboost/core.py:158: UserWarning:\n",
      "\n",
      "[15:47:12] WARNING: /Users/runner/work/xgboost/xgboost/src/learner.cc:740: \n",
      "Parameters: { \"use_label_encoder\" } are not used.\n",
      "\n",
      "\n",
      "[I 2025-05-12 15:47:13,338] Trial 177 finished with value: 0.0 and parameters: {'learning_rate': 0.05489150559292808, 'n_estimators': 678, 'max_depth': 3, 'max_leaves': 48, 'min_child_weight': 2, 'reg_alpha': 0.9496277276525065, 'reg_lambda': 0.12854944511319505, 'min_frequency': 0.982081451826473}. Best is trial 0 with value: 0.0.\n",
      "/Users/diegoespinoza/Library/Python/3.9/lib/python/site-packages/xgboost/core.py:158: UserWarning:\n",
      "\n",
      "[15:47:13] WARNING: /Users/runner/work/xgboost/xgboost/src/learner.cc:740: \n",
      "Parameters: { \"use_label_encoder\" } are not used.\n",
      "\n",
      "\n",
      "[I 2025-05-12 15:47:14,444] Trial 178 finished with value: 0.0 and parameters: {'learning_rate': 0.009059190466139145, 'n_estimators': 343, 'max_depth': 6, 'max_leaves': 86, 'min_child_weight': 4, 'reg_alpha': 0.30792493274008303, 'reg_lambda': 0.4180164806319622, 'min_frequency': 0.025053586773479516}. Best is trial 0 with value: 0.0.\n",
      "/Users/diegoespinoza/Library/Python/3.9/lib/python/site-packages/xgboost/core.py:158: UserWarning:\n",
      "\n",
      "[15:47:14] WARNING: /Users/runner/work/xgboost/xgboost/src/learner.cc:740: \n",
      "Parameters: { \"use_label_encoder\" } are not used.\n",
      "\n",
      "\n",
      "[I 2025-05-12 15:47:15,807] Trial 179 finished with value: 0.0 and parameters: {'learning_rate': 0.031986407595005185, 'n_estimators': 542, 'max_depth': 10, 'max_leaves': 79, 'min_child_weight': 5, 'reg_alpha': 0.24291519066344702, 'reg_lambda': 0.4118594738414436, 'min_frequency': 0.7955112579616229}. Best is trial 0 with value: 0.0.\n",
      "/Users/diegoespinoza/Library/Python/3.9/lib/python/site-packages/xgboost/core.py:158: UserWarning:\n",
      "\n",
      "[15:47:16] WARNING: /Users/runner/work/xgboost/xgboost/src/learner.cc:740: \n",
      "Parameters: { \"use_label_encoder\" } are not used.\n",
      "\n",
      "\n",
      "[I 2025-05-12 15:47:17,645] Trial 180 finished with value: 0.0 and parameters: {'learning_rate': 0.06967924347824035, 'n_estimators': 969, 'max_depth': 8, 'max_leaves': 72, 'min_child_weight': 1, 'reg_alpha': 0.841239973851676, 'reg_lambda': 0.9717170085900545, 'min_frequency': 0.9353628463665544}. Best is trial 0 with value: 0.0.\n",
      "/Users/diegoespinoza/Library/Python/3.9/lib/python/site-packages/xgboost/core.py:158: UserWarning:\n",
      "\n",
      "[15:47:18] WARNING: /Users/runner/work/xgboost/xgboost/src/learner.cc:740: \n",
      "Parameters: { \"use_label_encoder\" } are not used.\n",
      "\n",
      "\n",
      "[I 2025-05-12 15:47:19,255] Trial 181 finished with value: 0.0 and parameters: {'learning_rate': 0.09402603305476648, 'n_estimators': 822, 'max_depth': 5, 'max_leaves': 87, 'min_child_weight': 3, 'reg_alpha': 0.35737310261260663, 'reg_lambda': 0.2167927785967513, 'min_frequency': 0.08530375635315722}. Best is trial 0 with value: 0.0.\n",
      "/Users/diegoespinoza/Library/Python/3.9/lib/python/site-packages/xgboost/core.py:158: UserWarning:\n",
      "\n",
      "[15:47:19] WARNING: /Users/runner/work/xgboost/xgboost/src/learner.cc:740: \n",
      "Parameters: { \"use_label_encoder\" } are not used.\n",
      "\n",
      "\n",
      "[I 2025-05-12 15:47:20,917] Trial 182 finished with value: 0.0 and parameters: {'learning_rate': 0.06416900572863826, 'n_estimators': 847, 'max_depth': 5, 'max_leaves': 82, 'min_child_weight': 3, 'reg_alpha': 0.33556927792473906, 'reg_lambda': 0.28246276156730266, 'min_frequency': 0.054825422895507486}. Best is trial 0 with value: 0.0.\n",
      "/Users/diegoespinoza/Library/Python/3.9/lib/python/site-packages/xgboost/core.py:158: UserWarning:\n",
      "\n",
      "[15:47:21] WARNING: /Users/runner/work/xgboost/xgboost/src/learner.cc:740: \n",
      "Parameters: { \"use_label_encoder\" } are not used.\n",
      "\n",
      "\n",
      "[I 2025-05-12 15:47:22,592] Trial 183 finished with value: 0.0 and parameters: {'learning_rate': 0.0810736220896296, 'n_estimators': 881, 'max_depth': 5, 'max_leaves': 85, 'min_child_weight': 2, 'reg_alpha': 0.4293679904488378, 'reg_lambda': 0.26486079861619183, 'min_frequency': 0.418634234141427}. Best is trial 0 with value: 0.0.\n",
      "/Users/diegoespinoza/Library/Python/3.9/lib/python/site-packages/xgboost/core.py:158: UserWarning:\n",
      "\n",
      "[15:47:23] WARNING: /Users/runner/work/xgboost/xgboost/src/learner.cc:740: \n",
      "Parameters: { \"use_label_encoder\" } are not used.\n",
      "\n",
      "\n",
      "[I 2025-05-12 15:47:24,089] Trial 184 finished with value: 0.0 and parameters: {'learning_rate': 0.08685573262563138, 'n_estimators': 727, 'max_depth': 5, 'max_leaves': 12, 'min_child_weight': 4, 'reg_alpha': 0.4723081584829403, 'reg_lambda': 0.7300698074619503, 'min_frequency': 0.13169377823563824}. Best is trial 0 with value: 0.0.\n",
      "/Users/diegoespinoza/Library/Python/3.9/lib/python/site-packages/xgboost/core.py:158: UserWarning:\n",
      "\n",
      "[15:47:24] WARNING: /Users/runner/work/xgboost/xgboost/src/learner.cc:740: \n",
      "Parameters: { \"use_label_encoder\" } are not used.\n",
      "\n",
      "\n",
      "[I 2025-05-12 15:47:25,001] Trial 185 finished with value: 0.0 and parameters: {'learning_rate': 0.07210430636112775, 'n_estimators': 245, 'max_depth': 4, 'max_leaves': 31, 'min_child_weight': 5, 'reg_alpha': 0.5487666148714239, 'reg_lambda': 0.2509588935166449, 'min_frequency': 0.35754652764158307}. Best is trial 0 with value: 0.0.\n",
      "/Users/diegoespinoza/Library/Python/3.9/lib/python/site-packages/xgboost/core.py:158: UserWarning:\n",
      "\n",
      "[15:47:25] WARNING: /Users/runner/work/xgboost/xgboost/src/learner.cc:740: \n",
      "Parameters: { \"use_label_encoder\" } are not used.\n",
      "\n",
      "\n",
      "[I 2025-05-12 15:47:26,614] Trial 186 finished with value: 0.0 and parameters: {'learning_rate': 0.09941992690619758, 'n_estimators': 776, 'max_depth': 6, 'max_leaves': 67, 'min_child_weight': 3, 'reg_alpha': 0.17602544470235562, 'reg_lambda': 0.1577856167376233, 'min_frequency': 0.001850223989632662}. Best is trial 0 with value: 0.0.\n",
      "/Users/diegoespinoza/Library/Python/3.9/lib/python/site-packages/xgboost/core.py:158: UserWarning:\n",
      "\n",
      "[15:47:27] WARNING: /Users/runner/work/xgboost/xgboost/src/learner.cc:740: \n",
      "Parameters: { \"use_label_encoder\" } are not used.\n",
      "\n",
      "\n",
      "[I 2025-05-12 15:47:28,659] Trial 187 finished with value: 0.0 and parameters: {'learning_rate': 0.011811732839506393, 'n_estimators': 925, 'max_depth': 3, 'max_leaves': 89, 'min_child_weight': 4, 'reg_alpha': 0.6505183435101165, 'reg_lambda': 0.3039170080310177, 'min_frequency': 0.10816409662974993}. Best is trial 0 with value: 0.0.\n",
      "/Users/diegoespinoza/Library/Python/3.9/lib/python/site-packages/xgboost/core.py:158: UserWarning:\n",
      "\n",
      "[15:47:29] WARNING: /Users/runner/work/xgboost/xgboost/src/learner.cc:740: \n",
      "Parameters: { \"use_label_encoder\" } are not used.\n",
      "\n",
      "\n",
      "[I 2025-05-12 15:47:30,295] Trial 188 finished with value: 0.0 and parameters: {'learning_rate': 0.05029837030908376, 'n_estimators': 805, 'max_depth': 8, 'max_leaves': 37, 'min_child_weight': 1, 'reg_alpha': 0.07632330302087002, 'reg_lambda': 0.19991333285515392, 'min_frequency': 0.19473192266569428}. Best is trial 0 with value: 0.0.\n",
      "/Users/diegoespinoza/Library/Python/3.9/lib/python/site-packages/xgboost/core.py:158: UserWarning:\n",
      "\n",
      "[15:47:30] WARNING: /Users/runner/work/xgboost/xgboost/src/learner.cc:740: \n",
      "Parameters: { \"use_label_encoder\" } are not used.\n",
      "\n",
      "\n",
      "[I 2025-05-12 15:47:31,417] Trial 189 finished with value: 0.0 and parameters: {'learning_rate': 0.07610393987847597, 'n_estimators': 417, 'max_depth': 9, 'max_leaves': 83, 'min_child_weight': 3, 'reg_alpha': 0.6230662551884776, 'reg_lambda': 0.06660169225833135, 'min_frequency': 0.5245045628960231}. Best is trial 0 with value: 0.0.\n",
      "/Users/diegoespinoza/Library/Python/3.9/lib/python/site-packages/xgboost/core.py:158: UserWarning:\n",
      "\n",
      "[15:47:31] WARNING: /Users/runner/work/xgboost/xgboost/src/learner.cc:740: \n",
      "Parameters: { \"use_label_encoder\" } are not used.\n",
      "\n",
      "\n",
      "[I 2025-05-12 15:47:33,108] Trial 190 finished with value: 0.0 and parameters: {'learning_rate': 0.046601283619613534, 'n_estimators': 836, 'max_depth': 5, 'max_leaves': 92, 'min_child_weight': 2, 'reg_alpha': 0.3837194771331236, 'reg_lambda': 0.10859910283030848, 'min_frequency': 0.6718580091037353}. Best is trial 0 with value: 0.0.\n",
      "/Users/diegoespinoza/Library/Python/3.9/lib/python/site-packages/xgboost/core.py:158: UserWarning:\n",
      "\n",
      "[15:47:33] WARNING: /Users/runner/work/xgboost/xgboost/src/learner.cc:740: \n",
      "Parameters: { \"use_label_encoder\" } are not used.\n",
      "\n",
      "\n",
      "[I 2025-05-12 15:47:34,561] Trial 191 finished with value: 0.0 and parameters: {'learning_rate': 0.021817049569301222, 'n_estimators': 614, 'max_depth': 9, 'max_leaves': 28, 'min_child_weight': 5, 'reg_alpha': 0.5838064950134354, 'reg_lambda': 0.027762005029744765, 'min_frequency': 0.32610320204311977}. Best is trial 0 with value: 0.0.\n",
      "/Users/diegoespinoza/Library/Python/3.9/lib/python/site-packages/xgboost/core.py:158: UserWarning:\n",
      "\n",
      "[15:47:35] WARNING: /Users/runner/work/xgboost/xgboost/src/learner.cc:740: \n",
      "Parameters: { \"use_label_encoder\" } are not used.\n",
      "\n",
      "\n",
      "[I 2025-05-12 15:47:36,247] Trial 192 finished with value: 0.0 and parameters: {'learning_rate': 0.014737002830618812, 'n_estimators': 666, 'max_depth': 9, 'max_leaves': 58, 'min_child_weight': 5, 'reg_alpha': 0.10151499307125637, 'reg_lambda': 0.051985338124034705, 'min_frequency': 0.28947686129426925}. Best is trial 0 with value: 0.0.\n",
      "/Users/diegoespinoza/Library/Python/3.9/lib/python/site-packages/xgboost/core.py:158: UserWarning:\n",
      "\n",
      "[15:47:36] WARNING: /Users/runner/work/xgboost/xgboost/src/learner.cc:740: \n",
      "Parameters: { \"use_label_encoder\" } are not used.\n",
      "\n",
      "\n",
      "[I 2025-05-12 15:47:37,796] Trial 193 finished with value: 0.0 and parameters: {'learning_rate': 0.018294128573309486, 'n_estimators': 570, 'max_depth': 9, 'max_leaves': 20, 'min_child_weight': 5, 'reg_alpha': 0.05393757086499991, 'reg_lambda': 0.17370832484451618, 'min_frequency': 0.35935087884722133}. Best is trial 0 with value: 0.0.\n",
      "/Users/diegoespinoza/Library/Python/3.9/lib/python/site-packages/xgboost/core.py:158: UserWarning:\n",
      "\n",
      "[15:47:38] WARNING: /Users/runner/work/xgboost/xgboost/src/learner.cc:740: \n",
      "Parameters: { \"use_label_encoder\" } are not used.\n",
      "\n",
      "\n",
      "[I 2025-05-12 15:47:39,319] Trial 194 finished with value: 0.0 and parameters: {'learning_rate': 0.004847343916333678, 'n_estimators': 598, 'max_depth': 10, 'max_leaves': 97, 'min_child_weight': 5, 'reg_alpha': 0.5198000216442177, 'reg_lambda': 0.6988435494376393, 'min_frequency': 0.22092929335986367}. Best is trial 0 with value: 0.0.\n",
      "/Users/diegoespinoza/Library/Python/3.9/lib/python/site-packages/xgboost/core.py:158: UserWarning:\n",
      "\n",
      "[15:47:39] WARNING: /Users/runner/work/xgboost/xgboost/src/learner.cc:740: \n",
      "Parameters: { \"use_label_encoder\" } are not used.\n",
      "\n",
      "\n",
      "[I 2025-05-12 15:47:41,388] Trial 195 finished with value: 0.0 and parameters: {'learning_rate': 0.028417355545482983, 'n_estimators': 996, 'max_depth': 6, 'max_leaves': 81, 'min_child_weight': 5, 'reg_alpha': 0.20572812641179292, 'reg_lambda': 0.03567939075915923, 'min_frequency': 0.1575324958708557}. Best is trial 0 with value: 0.0.\n",
      "/Users/diegoespinoza/Library/Python/3.9/lib/python/site-packages/xgboost/core.py:158: UserWarning:\n",
      "\n",
      "[15:47:41] WARNING: /Users/runner/work/xgboost/xgboost/src/learner.cc:740: \n",
      "Parameters: { \"use_label_encoder\" } are not used.\n",
      "\n",
      "\n",
      "[I 2025-05-12 15:47:42,964] Trial 196 finished with value: 0.0 and parameters: {'learning_rate': 0.03515182576232824, 'n_estimators': 624, 'max_depth': 7, 'max_leaves': 33, 'min_child_weight': 5, 'reg_alpha': 0.263524675204084, 'reg_lambda': 0.018620233059757026, 'min_frequency': 0.029711941516744854}. Best is trial 0 with value: 0.0.\n",
      "/Users/diegoespinoza/Library/Python/3.9/lib/python/site-packages/xgboost/core.py:158: UserWarning:\n",
      "\n",
      "[15:47:43] WARNING: /Users/runner/work/xgboost/xgboost/src/learner.cc:740: \n",
      "Parameters: { \"use_label_encoder\" } are not used.\n",
      "\n",
      "\n",
      "[I 2025-05-12 15:47:44,386] Trial 197 finished with value: 0.0 and parameters: {'learning_rate': 0.0571865148002062, 'n_estimators': 643, 'max_depth': 3, 'max_leaves': 6, 'min_child_weight': 2, 'reg_alpha': 0.39802655628773786, 'reg_lambda': 0.3572155944264088, 'min_frequency': 0.8554048689163634}. Best is trial 0 with value: 0.0.\n"
     ]
    },
    {
     "name": "stdout",
     "output_type": "stream",
     "text": [
      "N° de trials: 198\n",
      "Mejor F1-score: 1.000\n",
      "Mejores hiperparámetros:\n",
      "   - learning_rate: 0.03807947176588889\n",
      "   - n_estimators: 954\n",
      "   - max_depth: 8\n",
      "   - max_leaves: 60\n",
      "   - min_child_weight: 1\n",
      "   - reg_alpha: 0.15599452033620265\n",
      "   - reg_lambda: 0.05808361216819946\n",
      "   - min_frequency: 0.8661761457749352\n"
     ]
    }
   ],
   "source": [
    "import optuna\n",
    "from optuna.samplers import TPESampler\n",
    "from sklearn.preprocessing import FunctionTransformer\n",
    "from sklearn.compose import ColumnTransformer\n",
    "from sklearn.pipeline import Pipeline\n",
    "from sklearn.metrics import f1_score\n",
    "from sklearn.preprocessing import OneHotEncoder\n",
    "from xgboost import XGBClassifier\n",
    "\n",
    "RANDOM_STATE = 42\n",
    "\n",
    "def extract_date_parts(df):\n",
    "    df = df.copy()\n",
    "    df[\"day\"] = df[\"date\"].dt.day.astype(\"category\")\n",
    "    df[\"month\"] = df[\"date\"].dt.month.astype(\"category\")\n",
    "    df[\"year\"] = df[\"date\"].dt.year.astype(\"category\")\n",
    "    return df.drop(columns=[\"date\"])\n",
    "\n",
    "date_transformer = FunctionTransformer(extract_date_parts)\n",
    "\n",
    "categoricas = categorical_cols\n",
    "numericas = numerical_cols\n",
    "\n",
    "def objective(trial):\n",
    "    learning_rate    = trial.suggest_float(\"learning_rate\", 0.001, 0.1)\n",
    "    n_estimators     = trial.suggest_int(\"n_estimators\", 50, 1000)\n",
    "    max_depth        = trial.suggest_int(\"max_depth\", 3, 10)\n",
    "    max_leaves       = trial.suggest_int(\"max_leaves\", 0, 100)\n",
    "    min_child_weight = trial.suggest_int(\"min_child_weight\", 1, 5)\n",
    "    reg_alpha        = trial.suggest_float(\"reg_alpha\", 0.0, 1.0)\n",
    "    reg_lambda       = trial.suggest_float(\"reg_lambda\", 0.0, 1.0)\n",
    "    min_freq         = trial.suggest_float(\"min_frequency\", 0.0, 1.0)\n",
    "\n",
    "    ohe = OneHotEncoder(handle_unknown=\"ignore\", sparse_output=False, min_frequency=min_freq)\n",
    "    numeric_transformer = Pipeline(steps=[\n",
    "        (\"imputer\", SimpleImputer(strategy=\"median\")),\n",
    "        (\"scaler\", StandardScaler())])\n",
    "\n",
    "    categorical_transformer = Pipeline(steps=[\n",
    "        (\"imputer\", SimpleImputer(strategy=\"most_frequent\")),\n",
    "        (\"encoder\", ohe)])\n",
    "\n",
    "    preprocessor = ColumnTransformer(transformers=[\n",
    "        (\"num\", numeric_transformer, numerical_cols),\n",
    "        (\"cat\", categorical_transformer, categorical_cols)])\n",
    "\n",
    "    xgb_model = XGBClassifier(\n",
    "        learning_rate=learning_rate,\n",
    "        n_estimators=n_estimators,\n",
    "        max_depth=max_depth,\n",
    "        max_leaves=max_leaves,\n",
    "        min_child_weight=min_child_weight,\n",
    "        reg_alpha=reg_alpha,\n",
    "        reg_lambda=reg_lambda,\n",
    "        use_label_encoder=False,\n",
    "        eval_metric='logloss',\n",
    "        random_state=RANDOM_STATE,\n",
    "        n_jobs=-1\n",
    "    )\n",
    "\n",
    "    pipeline = Pipeline([\n",
    "        (\"date_features\", DateFeatureExtractor(date_column=\"purchase_date\")),\n",
    "        (\"preprocessor\", preprocessor),\n",
    "        (\"xgb\", xgb_model)\n",
    "    ])\n",
    "\n",
    "    pipeline.fit(X_train, y_train)\n",
    "    y_pred = pipeline.predict(X_valid)\n",
    "    score = f1_score(y_valid, y_pred, average=\"weighted\")\n",
    "\n",
    "    trial.set_user_attr(\"best_pipeline\", pipeline)\n",
    "    return 1 - score\n",
    "\n",
    "sampler = TPESampler(seed=RANDOM_STATE)\n",
    "\n",
    "study = optuna.create_study(\n",
    "    direction=\"minimize\",\n",
    "    sampler=sampler\n",
    ")\n",
    "\n",
    "study.optimize(objective, timeout=60 * 5)\n",
    "\n",
    "print(f\"N° de trials: {len(study.trials)}\")\n",
    "print(f\"Mejor F1-score: {1 - study.best_value:.3f}\")\n",
    "print(\"Mejores hiperparámetros:\")\n",
    "for k, v in study.best_params.items():\n",
    "    print(f\"   - {k}: {v}\")"
   ]
  },
  {
   "cell_type": "code",
   "execution_count": 38,
   "metadata": {},
   "outputs": [
    {
     "name": "stderr",
     "output_type": "stream",
     "text": [
      "/var/folders/09/2_xdwnnx5rqgtl8vh2vwkdmc0000gn/T/ipykernel_1538/4233908302.py:9: ExperimentalWarning:\n",
      "\n",
      "plot_param_importances is experimental (supported from v2.2.0). The interface can change in the future.\n",
      "\n"
     ]
    },
    {
     "data": {
      "text/plain": [
       "<Figure size 1000x600 with 0 Axes>"
      ]
     },
     "metadata": {},
     "output_type": "display_data"
    },
    {
     "data": {
      "image/png": "[encoded data removed]",
      "text/plain": [
       "<Figure size 640x480 with 1 Axes>"
      ]
     },
     "metadata": {},
     "output_type": "display_data"
    }
   ],
   "source": [
    "import matplotlib.pyplot as plt\n",
    "from optuna.visualization.matplotlib import (\n",
    "    plot_optimization_history,\n",
    "    plot_parallel_coordinate,\n",
    "    plot_param_importances,\n",
    ")\n",
    "def plots(estudio):\n",
    "    plt.figure(figsize=(10, 6))\n",
    "    plot_param_importances(estudio)\n",
    "    plt.show()\n",
    "    \n",
    "plots(study)"
   ]
  },
  {
   "cell_type": "markdown",
   "metadata": {},
   "source": [
    "## 📌 Interpretabilidad [1.0 puntos]\n",
    "\n",
    "En esta sección, deben explicar el funcionamiento de su modelo utilizando las técnicas de interpretabilidad vistas en clase, como `SHAP`. Se espera que sean capaces de descomponer las predicciones y evaluar la importancia de los atributos y las interacciones entre ellos, con el fin de obtener una comprensión más profunda de cómo el modelo toma decisiones. \n",
    "\n",
    "Al desarrollar esta parte, deberán responder las siguientes preguntas clave como mínimo:\n",
    "\n",
    "- ¿Podría explicar el funcionamiento de su modelo para una predicción en particular? Si es así, proporcione al menos tres ejemplos específicos, describiendo cómo el modelo llegó a sus decisiones y qué factores fueron más relevantes en cada caso.\n",
    "\n",
    "- ¿Qué atributo tiene una mayor importancia en la salida de su modelo? Analice si esto tiene sentido con el problema planteado y justifique la relevancia de dicho atributo en el contexto de las predicciones que se realizan.\n",
    "\n",
    "- ¿Existe alguna interacción entre atributos que sea relevante para el modelo? Investigue si la combinación de ciertos atributos tiene un impacto significativo en las predicciones y explíquela en **detalle**.\n",
    "\n",
    "- ¿Podría existir sesgo hacia algún atributo en particular? Reflexione sobre la posibilidad de que el modelo esté favoreciendo ciertos atributos. Si es así, ¿cuál podría ser la causa y qué impacto podría tener esto en la predicción?"
   ]
  },
  {
   "cell_type": "code",
   "execution_count": null,
   "metadata": {},
   "outputs": [],
   "source": [
    "# Desarrolle aquí su código"
   ]
  },
  {
   "cell_type": "markdown",
   "metadata": {},
   "source": [
    "## 📌 Resultados y Conclusiones [1.0 puntos]\n",
    "\n",
    "Para finalizar, se deben explicar los desarrollos y resultados obtenidos a lo largo de todo el proceso, desde la selección de las variables hasta la optimización de hiperparámetros e interpretación. Se espera una reflexión crítica sobre el desempeño de los modelos entrenados y una comparación entre los diferentes enfoques. Además, deberán abordar los siguientes puntos clave:\n",
    "\n",
    "- **Análisis de métricas**: Comenten sobre las métricas obtenidas en cada etapa del modelo, destacando las más relevantes como precisión, recall, F1-score, etc. ¿Cuáles fueron los modelos más efectivos? ¿Qué diferencias notables encontró entre ellos?\n",
    "\n",
    "- **Impacto de las decisiones tomadas**: Reflexionen sobre cómo las decisiones relacionadas con el preprocesamiento, selección de atributos y optimización de hiperparámetros influyeron en los resultados finales. ¿Hubo alguna decisión que haya tenido un impacto notable en el rendimiento?\n",
    "\n",
    "- **Lecciones aprendidas**: Concluyan sobre las lecciones más importantes que aprendieron durante el proceso y cómo estas pueden influir en futuras iteraciones del modelo. ¿Qué se podría mejorar si se repitiera el proceso? Si tuvieran más recursos y tiempo, ¿qué otras técnicas/herramientas habrían utilizado?"
   ]
  },
  {
   "cell_type": "markdown",
   "metadata": {},
   "source": [
    "> [Escriba aquí sus resultados]"
   ]
  },
  {
   "cell_type": "markdown",
   "metadata": {},
   "source": [
    "Mucho éxito!\n",
    "\n",
    "<center>\n",
    "<img src=\"https://media3.giphy.com/media/v1.Y2lkPTc5MGI3NjExaHpvOTY5Z3hpdHI3aDBpdGRueXRqamZncXp2emFrbjJ5M2s5eTR1dSZlcD12MV9pbnRlcm5hbF9naWZfYnlfaWQmY3Q9Zw/1PMVNNKVIL8Ig/giphy.gif\" width=\"300\" height=\"200\">\n"
   ]
  }
 ],
 "metadata": {
  "kernelspec": {
   "display_name": "Python 3",
   "language": "python",
   "name": "python3"
  },
  "language_info": {
   "codemirror_mode": {
    "name": "ipython",
    "version": 3
   },
   "file_extension": ".py",
   "mimetype": "text/x-python",
   "name": "python",
   "nbconvert_exporter": "python",
   "pygments_lexer": "ipython3",
   "version": "3.9.6"
  }
 },
 "nbformat": 4,
 "nbformat_minor": 2
}
