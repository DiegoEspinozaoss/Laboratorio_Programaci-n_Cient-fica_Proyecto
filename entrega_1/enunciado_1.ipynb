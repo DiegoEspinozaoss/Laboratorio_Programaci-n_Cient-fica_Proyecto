{
 "cells": [
  {
   "cell_type": "markdown",
   "metadata": {},
   "source": [
    "![](https://www.dii.uchile.cl/wp-content/uploads/2021/06/Magi%CC%81ster-en-Ciencia-de-Datos.png)"
   ]
  },
  {
   "cell_type": "markdown",
   "metadata": {},
   "source": [
    "**MDS7202: Laboratorio de Programación Científica para Ciencia de Datos**\n",
    "\n",
    "### 👨‍🏫👩‍🏫 Cuerpo Docente:\n",
    "\n",
    "- Profesor: Sebastián Tinoco, Stefano Schiappacasse\n",
    "- Auxiliar: Melanie Peña Torres, Valentina Rojas Osorio\n",
    "- Ayudante: Valentina Zuñiga, Ángelo Muñoz \n",
    "\n",
    "### 👨‍💻👩‍💻 Estudiantes:\n",
    "- Estudiante n°1: *Juan Miño*\n",
    "- Estudiante n°2: *Diego Espinoza Núñez*\n",
    "\n",
    "_Por favor, lean detalladamente las instrucciones de la tarea antes de empezar a escribir._\n",
    "\n",
    "---"
   ]
  },
  {
   "cell_type": "markdown",
   "metadata": {},
   "source": [
    "---\n",
    "\n",
    "## 📖 Enunciado "
   ]
  },
  {
   "cell_type": "markdown",
   "metadata": {},
   "source": [
    "<div align=\"center\">\n",
    "    <img src='https://github.com/MDS7202/MDS7202/blob/main/recursos/2025-01/proyecto/proyecto.png?raw=true' style=\"border-radius: 12px\"> \n",
    "</div>"
   ]
  },
  {
   "cell_type": "markdown",
   "metadata": {},
   "source": [
    "En el competitivo universo de las bebidas gaseosas, la empresa **SodAI Drinks 🥤** ha logrado destacarse por su creatividad, diversidad de productos y enfoque centrado en el cliente. Ofrece una extensa gama de bebidas carbonatadas que abarca distintos segmentos del mercado: desde productos premium en presentaciones sofisticadas, hasta gaseosas accesibles para el consumo masivo, disponibles en diversos tamaños y tipos de envases. \n",
    "\n",
    "La compañía opera en múltiples regiones y zonas, sirviendo a una variedad de puntos de venta que incluyen desde tiendas de conveniencia y minimarkets hasta el canal frío tradicional. Cada tipo de cliente tiene sus particularidades: algunos reciben entregas hasta 4 veces por semana, mientras que otros son visitados por la fuerza de ventas solo una vez semanalmente. Esta diversidad de perfiles representa tanto una oportunidad como un desafío comercial: ¿cómo saber qué productos tienen más chances de ser comprados por cada cliente en un momento dado?\n",
    "\n",
    "Con el objetivo de aumentar la facturación de forma inteligente y mejorar la eficiencia de su estrategia de ventas, **SodAI Drinks** decide crear una nueva célula interna de innovación: el equipo **Deep Drinkers 🤖**, cuyo propósito es aplicar ciencia de datos para anticiparse a las necesidades del cliente y potenciar el negocio desde una perspectiva basada en información.\n",
    "\n",
    "El corazón de esta iniciativa es el desarrollo de un sistema predictivo personalizado para cada cliente. Para ello, **Deep Drinkers** convoca a un equipo de Data Scientists y especialistas en *machine learning* con una misión clara: construir un modelo predictivo que, cada semana, pueda estimar la probabilidad de compra de cada producto del portafolio para cada cliente activo.\n",
    "\n",
    "El modelo deberá tener en cuenta múltiples factores, incluyendo:\n",
    "- **Tipo de cliente**, ej. \"TIENDA DE CONVENIENCIA\", \"MINIMARKET\".\n",
    "- **Frecuencia de entregas y visitas**, indicadores del nivel de actividad comercial.\n",
    "- **Ubicación geográfica** (por región y zona).\n",
    "- **Preferencias históricas de consumo**, inferidas por patrones de compra anteriores.\n",
    "- **Características del producto**, como marca, categoría, segmento, tipo de envase y tamaño\n",
    "\n",
    "El objetivo final es que, **cada semana**, se genere una tabla de productos priorizados: para cada cliente, un listado de productos ordenado por su probabilidad estimada de compra. Esta información será enviada al equipo comercial, que podrá usarla en call center, para incrementar las chances de concretar ventas al ofrecer justo lo que el cliente probablemente quiere comprar.\n",
    "\n",
    "Este proyecto representa un cambio de paradigma en la forma en que **SodAI Drinks** gestiona su fuerza de ventas: de un enfoque reactivo y generalista, a uno proactivo, basado en datos y profundamente personalizado. Así, la empresa no solo espera aumentar su rentabilidad, sino también construir relaciones más sólidas con sus clientes, ofreciéndoles recomendaciones más relevantes y oportunas.\n",
    "\n",
    "Para lograr lo anterior, el equipo **Deep Drinkers** contará con los siguientes conjuntos de datos, junto a sus respectivos atributos:\n",
    "\n",
    "- **Datos transaccionales** (`transacciones.parquet`): contiene el historial de compras realizadas por los clientes.\n",
    "\t- `customer_id`: identificador único del cliente que realizó la compra.\n",
    "\t- `product_id`: identificador único del producto comprado.\n",
    "\t- `purchase_date`: fecha en que se realizó la transacción.\n",
    "\t- `order_id`: identificar de la orden de su pedido.\n",
    "\t- `payment`\tmonto total pagado por la transacción.\n",
    "\n",
    "- **Datos de clientes** (`clientes.parquet`): incluye las características de cada cliente.\n",
    "\t- `customer_id`: identificador único del cliente.\n",
    "\t- `region_id`: identificador de la región geográfica donde se encuentra el cliente.\n",
    "\t- `customer_type`: tipo de cliente según el canal comercial, por ejemplo, “TIENDA DE CONVENIENCIA”.\n",
    "\t- `Y`: coordenada geográfica de latitud.\n",
    "\t- `X`: coordenada geográfica de longitud.\n",
    "\t- `num_deliver_per_week`: cantidad de entregas semanales que recibe el cliente.\n",
    "\t- `num_visit_per_week`: frecuencia de visitas de la fuerza de ventas por semana.\n",
    "\n",
    "- **Datos de productos** (`productos.parquet`): describe las características de los productos del portafolio.\n",
    "\t- `product_id`: identificador único del producto.\n",
    "\t- `brand`: marca comercial del producto.\n",
    "\t- `category`: categoría general del producto, como “BEBIDAS CARBONATADAS”.\n",
    "\t- `sub_category`: subcategoría dentro de la categoría principal, por ejemplo, “GASEOSAS”.\n",
    "\t- `segment`: segmento de mercado al que pertenece el producto, como “PREMIUM”.\n",
    "\t- `package`: tipo de envase del producto.\n",
    "\t- `size`: tamaño del producto en litros."
   ]
  },
  {
   "cell_type": "markdown",
   "metadata": {},
   "source": [
    "## 📚 Reglas"
   ]
  },
  {
   "cell_type": "markdown",
   "metadata": {},
   "source": [
    "<center>\n",
    "<img src=\"https://media1.tenor.com/m/0Qtv_cQ4ITsAAAAd/necohaus-grey-name.gif\" width=\"450\">"
   ]
  },
  {
   "cell_type": "markdown",
   "metadata": {},
   "source": [
    "\n",
    "\n",
    "El proyecto consta de **dos entregas parciales** y una **entrega final** en donde la primera entrega la idea es poder reflejar lo aprendido durante la primera mitad del curso, que será sobre los contenidos relacionados a *machine learning*, la segunda será sobre los contenidos de la segunda mitad del curso relacionados a *MLOps* y por último la entrega final constará de dos partes, donde la primera será relacionada con experimentación sobre nuevos datasets que serán disponibilizados durante las últimas semanas del curso de manera incremental y una segunda parte que será el informe final escrito que deberá explicar el desarrollo del proyecto completo, como tambien los resultados y análisis de los experimentos realizados sobre los datasets incrementales. La idea es que todo el código esté desarrollado durante las primeras dos entregas y luego en la entrega final sólo se ejecute el código sobre nuevos conjuntos de datos.\n",
    "\n",
    "La idea de generar el proyecto por etapas es poder aliviar la carga de trabajo en las últimas semanas del semestre donde sabemos que están muy cargado con entregas, pruebas y exámenes de otros ramos, y así garantizamos que habiendo la desarrollado las dos primeras entregas parciales, tendrán el grueso del proyecto listo para luego experimentar y documentar.\n",
    "\n",
    "---\n",
    "### **Fechas de entrega**\n",
    "- **Entrega parcial 1**: 14 de Mayo\n",
    "- **Entrega parcial 2**: Por definir\n",
    "- **Entrega final**: Por definir\n",
    "\n",
    "---\n",
    "\n",
    "### **Requisitos del proyecto**\n",
    "- **Grupos**: Formar equipos de **2 personas**. No se aceptarán trabajos individuales o grupos con más integrantes.\n",
    "- **Consultas**: Cualquier duda fuera del horario de clases debe ser planteada en el foro correspondiente. Los mensajes enviados al equipo docente serán respondidos únicamente por este medio. Por favor, revisen las respuestas anteriores en el foro antes de realizar nuevas consultas.\n",
    "- **Plagio**: La copia o reutilización no autorizada de trabajos de otros grupos está **estrictamente prohibida**. El incumplimiento de esta norma implicará la anulación inmediata del proyecto y una posible sanción académica.\n",
    "- **Material permitido**: Pueden usar cualquier material del curso, ya sea notas, lecturas, códigos, o referencias proporcionadas por los docentes, que consideren útil para el desarrollo del proyecto.\n",
    "\n",
    "---\n",
    "\n",
    "### **Entregables y etapas**\n",
    "\n",
    "#### **1. Entrega Parcial 1**  \n",
    "- Dispondrán de los archivos de datos **productos.parquet**, **clientes.parquet** y **transacciones.parquet** para el modelamiento inicial.  \n",
    "- Utilizarán estos archivos para desarrollar lo solicitado para la entrega 1. \n",
    "- En esta etapa, se espera que apliquen todos los conocimientos aprendidos durante la primera parte del curso relacionados con *machine learning*.\n",
    "- **Informe**: No se exige un avance del informe en esta etapa, sólo un notebook con su desarrollo actual, pero se **recomienda comenzar** a redactar el informe final en paralelo para disminuir la carga académica en las etapas posteriores.  \n",
    "\n",
    "#### **2. Entrega Parcial 2**  \n",
    "- En esta entrega, deberán aplicar los conocimientos aprendidos durante la segunda mitad del curso sobre *MLOps*  \n",
    "- Se espera que implementen estos conocimientos para desplegar su modelo elegido en la primera entrega y crear *pipelines* automatizados que simulen un entorno productivo.\n",
    "- **Informe**: similar a la primera etapa, no se exige un avance del informe, pero se **recomienda avanzar con su redacción** para evitar una acumulación de trabajo en la etapa final.  \n",
    "\n",
    "#### **3. Entrega Final**  \n",
    "- En la entrega final, deberán realizar dos etapas:\n",
    "\t- La primera etapa es sobre experimentación utilizando datasets incrementales que se irán disponibilizando de manera parcial, para que vayan generando predicciones con su modelo ya desplegado. El objetivo de esta etapa es poder testear su solución *end-to-end* y que vayan analizando los resultados obtenidos a medida que se van agregando más datos.\n",
    "\t- La segunda etapa consiste en redactar un informe final que deberá explicar el desarrollo completo de tu proyecto y un análisis profundo de sus resultados de experimentación. Este informe debera incluir a lo menos las siguientes secciones:\n",
    "\t\t- Análisis exploratorio de datos  \n",
    "\t\t- Metodología aplicada  \n",
    "\t\t- Selección y entrenamiento de modelos  \n",
    "\t\t- Evaluación de resultados  \n",
    "\t\t- Optimización de modelos\n",
    "\t\t- Interpretabilidad\n",
    "\t\t- Re-entrenamiento\n",
    "\t\t- Tracking con MLFlow\n",
    "\t\t- Creación de la aplicación web con Gradio y FastAPI\n",
    "\n",
    "Es **altamente recomendable** ir redactando el informe en paralelo al desarrollo de los modelos para garantizar que toda la información relevante quede documentada adecuadamente.  \n",
    "\n",
    "### Nota Final\n",
    "\n",
    "La calificación final de su proyecto se calculará utilizando la siguiente ponderación: \n",
    "\n",
    "$$Nota Final = 0.30 * EntregaParcial1 + 0.40 * EntregaParcial2 + 0.30 * EntregaFinal$$\n",
    "\n",
    "---\n",
    "\n",
    "### **Instrucciones importantes**\n",
    "\n",
    "1. **Formato del informe**:  \n",
    "   - El informe debe estar integrado dentro de un **Jupyter Notebook**. No es necesario subirlo a una plataforma externa, pero debe cumplir con los siguientes requisitos:  \n",
    "     - Estructura clara y ordenada.  \n",
    "     - Código acompañado de explicaciones detalladas.  \n",
    "     - Resultados presentados de forma visual y analítica.  \n",
    "\n",
    "2. **Descuento por informes deficientes**:  \n",
    "   - Cualquier sección del informe que no tenga una explicación adecuada o no respete el formato será penalizada con un descuento en la nota. Esto incluye código sin comentarios o análisis que no sean coherentes con los resultados presentados.\n",
    "   - Comentarios sin formatear de ChatGPT o herramientas similares serán penalizados (e.g: \"Inserta tu modelo acá\", etc.)"
   ]
  },
  {
   "cell_type": "markdown",
   "metadata": {},
   "source": [
    "# 📬 Entrega Parcial 1 (30% del Proyecto)"
   ]
  },
  {
   "cell_type": "markdown",
   "metadata": {},
   "source": [
    "### 📪 Fecha de Entrega: 14 de Mayo"
   ]
  },
  {
   "cell_type": "markdown",
   "metadata": {},
   "source": [
    "## 📌 Abstract [0.25 puntos]\n",
    "\n",
    "<center>\n",
    "<img src=\"https://i.redd.it/h5ptnsyabqvd1.gif\" width=\"400\" height=\"300\">"
   ]
  },
  {
   "cell_type": "markdown",
   "metadata": {},
   "source": [
    "En esta sección, deben redactar un Abstract claro y conciso para su proyecto. El Abstract debe responder a las siguientes preguntas clave:\n",
    "\n",
    "- **Descripción del problema**: ¿Cuál es el objetivo del proyecto? ¿Qué se intenta predecir o analizar?\n",
    "- **Datos de entrada**: ¿Qué datos tienen disponibles? ¿Cuáles son sus principales características?\n",
    "- **Métrica de evaluación**: ¿Cómo medirán el desempeño de sus modelos? Expliquen por qué eligieron esta métrica basándose en el análisis exploratorio de los datos.\n",
    "- **Modelos y transformaciones**: ¿Qué modelos utilizarán y por qué? ¿Qué transformaciones o preprocesamientos aplicaron a los datos?\n",
    "- **Resultados generales**: ¿El modelo final cumplió con los objetivos del proyecto? ¿Cuáles fueron las conclusiones más importantes?\n",
    "\n",
    "**Importante**: Escriban esto despues de haber resuelto el resto de la tarea."
   ]
  },
  {
   "cell_type": "markdown",
   "metadata": {},
   "source": [
    "> [Escriba aquí su Abstract]"
   ]
  },
  {
   "cell_type": "markdown",
   "metadata": {},
   "source": [
    "## 📌 Pre-procesamiento [0.5 puntos]\n",
    "\n",
    "<center>\n",
    "<img src=\"https://media0.giphy.com/media/10zsjaH4g0GgmY/giphy.gif?cid=6c09b9523xtlunksc9amikw09zk1bmiqwjqnt70ae82rk877&ep=v1_gifs_search&rid=giphy.gif&ct=g\" width=\"400\" height=\"300\">"
   ]
  },
  {
   "cell_type": "markdown",
   "metadata": {},
   "source": [
    "Tal como en muchos otros problemas de negocio, los datos probablemente deben ser pre procesados antes de aplicar cualquier técnica de analítica. Bajo esa premisa, en esta sección deben desarrollar código que les permita **preparar los datos** de tal forma que les permita resolver el problema planteado. Para esto, pueden aplicar procesamientos como:\n",
    "\n",
    "- Transformaciones de tipo de dato (str, int, etc)\n",
    "- Cruce de información\n",
    "- Eliminación de duplicados\n",
    "- Filtros de fila y/o columnas\n",
    "\n",
    "*Hint: ¿Qué forma debería tener la data para resolver un problema de aprendizaje supervisado?*\n",
    "\n",
    "Todo proceso llevado a cabo debe estar bien documentado y justificado en el informe, explicando el por qué se decidió realizar en funcion de los datos presentados y los objetivos planteados del proyecto."
   ]
  },
  {
   "cell_type": "code",
   "execution_count": 102,
   "metadata": {},
   "outputs": [
    {
     "name": "stdout",
     "output_type": "stream",
     "text": [
      "Defaulting to user installation because normal site-packages is not writeable\n",
      "Requirement already satisfied: pyarrow in /Users/diegoespinoza/Library/Python/3.9/lib/python/site-packages (20.0.0)\n"
     ]
    }
   ],
   "source": [
    "!pip install pyarrow"
   ]
  },
  {
   "cell_type": "code",
   "execution_count": 103,
   "metadata": {},
   "outputs": [],
   "source": [
    "import pandas as pd\n",
    "\n",
    "clientes = pd.read_parquet('clientes.parquet')\n",
    "productos = pd.read_parquet('productos.parquet')\n",
    "transacciones = pd.read_parquet('transacciones.parquet')"
   ]
  },
  {
   "cell_type": "code",
   "execution_count": 104,
   "metadata": {},
   "outputs": [],
   "source": [
    "def identificar_columnas(df):\n",
    "    numericas = df.select_dtypes(include=['number']).columns.tolist()\n",
    "    categoricas = df.select_dtypes(include=['object', 'category']).columns.tolist()\n",
    "    todas = set(df.columns)\n",
    "    otras = list(todas - set(numericas) - set(categoricas))\n",
    "    return numericas, categoricas, otras"
   ]
  },
  {
   "cell_type": "code",
   "execution_count": 105,
   "metadata": {},
   "outputs": [
    {
     "name": "stdout",
     "output_type": "stream",
     "text": [
      " - Folder Dataset: clientes\n",
      " - Filas        : 1,569\n",
      " - Numéricas    : ['customer_id', 'region_id', 'zone_id', 'Y', 'X', 'num_deliver_per_week', 'num_visit_per_week']\n",
      " - Categóricas  : ['customer_type']\n",
      " - Otras        : []\n",
      " - Folder Dataset: productos\n",
      " - Filas        : 971\n",
      " - Numéricas    : ['product_id', 'size']\n",
      " - Categóricas  : ['brand', 'category', 'sub_category', 'segment', 'package']\n",
      " - Otras        : []\n",
      " - Folder Dataset: transacciones\n",
      " - Filas        : 254,936\n",
      " - Numéricas    : ['customer_id', 'product_id', 'order_id', 'items']\n",
      " - Categóricas  : []\n",
      " - Otras        : ['purchase_date']\n"
     ]
    }
   ],
   "source": [
    "archivos = [clientes, productos, transacciones]\n",
    "nombres = ['clientes', 'productos', 'transacciones']\n",
    "\n",
    "for nombre, df in zip(nombres, archivos):\n",
    "    numericas, categoricas, otras = identificar_columnas(df)\n",
    "    print(f\" - Folder Dataset: {nombre}\")\n",
    "    print(f\" - Filas        : {len(df):,}\")\n",
    "    print(f\" - Numéricas    : {numericas}\")\n",
    "    print(f\" - Categóricas  : {categoricas}\")\n",
    "    print(f\" - Otras        : {otras}\")\n"
   ]
  },
  {
   "cell_type": "code",
   "execution_count": 106,
   "metadata": {},
   "outputs": [
    {
     "data": {
      "text/html": [
       "<div>\n",
       "<style scoped>\n",
       "    .dataframe tbody tr th:only-of-type {\n",
       "        vertical-align: middle;\n",
       "    }\n",
       "\n",
       "    .dataframe tbody tr th {\n",
       "        vertical-align: top;\n",
       "    }\n",
       "\n",
       "    .dataframe thead th {\n",
       "        text-align: right;\n",
       "    }\n",
       "</style>\n",
       "<table border=\"1\" class=\"dataframe\">\n",
       "  <thead>\n",
       "    <tr style=\"text-align: right;\">\n",
       "      <th></th>\n",
       "      <th>customer_id</th>\n",
       "      <th>region_id</th>\n",
       "      <th>zone_id</th>\n",
       "      <th>customer_type</th>\n",
       "      <th>Y</th>\n",
       "      <th>X</th>\n",
       "      <th>num_deliver_per_week</th>\n",
       "      <th>num_visit_per_week</th>\n",
       "    </tr>\n",
       "  </thead>\n",
       "  <tbody>\n",
       "    <tr>\n",
       "      <th>10705</th>\n",
       "      <td>256017</td>\n",
       "      <td>80</td>\n",
       "      <td>5148</td>\n",
       "      <td>ABARROTES</td>\n",
       "      <td>-46.474800</td>\n",
       "      <td>-108.045140</td>\n",
       "      <td>1</td>\n",
       "      <td>1</td>\n",
       "    </tr>\n",
       "    <tr>\n",
       "      <th>10706</th>\n",
       "      <td>255780</td>\n",
       "      <td>80</td>\n",
       "      <td>5148</td>\n",
       "      <td>ABARROTES</td>\n",
       "      <td>-46.520282</td>\n",
       "      <td>-107.961052</td>\n",
       "      <td>1</td>\n",
       "      <td>1</td>\n",
       "    </tr>\n",
       "    <tr>\n",
       "      <th>10707</th>\n",
       "      <td>254655</td>\n",
       "      <td>80</td>\n",
       "      <td>5148</td>\n",
       "      <td>ABARROTES</td>\n",
       "      <td>-46.537640</td>\n",
       "      <td>-107.909280</td>\n",
       "      <td>1</td>\n",
       "      <td>1</td>\n",
       "    </tr>\n",
       "    <tr>\n",
       "      <th>10708</th>\n",
       "      <td>254445</td>\n",
       "      <td>80</td>\n",
       "      <td>5148</td>\n",
       "      <td>ABARROTES</td>\n",
       "      <td>-46.543526</td>\n",
       "      <td>-107.917954</td>\n",
       "      <td>2</td>\n",
       "      <td>1</td>\n",
       "    </tr>\n",
       "    <tr>\n",
       "      <th>10709</th>\n",
       "      <td>254403</td>\n",
       "      <td>80</td>\n",
       "      <td>5148</td>\n",
       "      <td>ABARROTES</td>\n",
       "      <td>-46.540856</td>\n",
       "      <td>-107.905792</td>\n",
       "      <td>3</td>\n",
       "      <td>1</td>\n",
       "    </tr>\n",
       "  </tbody>\n",
       "</table>\n",
       "</div>"
      ],
      "text/plain": [
       "       customer_id  region_id  zone_id customer_type          Y           X  \\\n",
       "10705       256017         80     5148     ABARROTES -46.474800 -108.045140   \n",
       "10706       255780         80     5148     ABARROTES -46.520282 -107.961052   \n",
       "10707       254655         80     5148     ABARROTES -46.537640 -107.909280   \n",
       "10708       254445         80     5148     ABARROTES -46.543526 -107.917954   \n",
       "10709       254403         80     5148     ABARROTES -46.540856 -107.905792   \n",
       "\n",
       "       num_deliver_per_week  num_visit_per_week  \n",
       "10705                     1                   1  \n",
       "10706                     1                   1  \n",
       "10707                     1                   1  \n",
       "10708                     2                   1  \n",
       "10709                     3                   1  "
      ]
     },
     "execution_count": 106,
     "metadata": {},
     "output_type": "execute_result"
    }
   ],
   "source": [
    "clientes.head()"
   ]
  },
  {
   "cell_type": "code",
   "execution_count": 107,
   "metadata": {},
   "outputs": [
    {
     "data": {
      "text/html": [
       "<div>\n",
       "<style scoped>\n",
       "    .dataframe tbody tr th:only-of-type {\n",
       "        vertical-align: middle;\n",
       "    }\n",
       "\n",
       "    .dataframe tbody tr th {\n",
       "        vertical-align: top;\n",
       "    }\n",
       "\n",
       "    .dataframe thead th {\n",
       "        text-align: right;\n",
       "    }\n",
       "</style>\n",
       "<table border=\"1\" class=\"dataframe\">\n",
       "  <thead>\n",
       "    <tr style=\"text-align: right;\">\n",
       "      <th></th>\n",
       "      <th>product_id</th>\n",
       "      <th>brand</th>\n",
       "      <th>category</th>\n",
       "      <th>sub_category</th>\n",
       "      <th>segment</th>\n",
       "      <th>package</th>\n",
       "      <th>size</th>\n",
       "    </tr>\n",
       "  </thead>\n",
       "  <tbody>\n",
       "    <tr>\n",
       "      <th>0</th>\n",
       "      <td>34092</td>\n",
       "      <td>Brand 31</td>\n",
       "      <td>BEBIDAS CARBONATADAS</td>\n",
       "      <td>GASEOSAS</td>\n",
       "      <td>PREMIUM</td>\n",
       "      <td>BOTELLA</td>\n",
       "      <td>0.66</td>\n",
       "    </tr>\n",
       "    <tr>\n",
       "      <th>1</th>\n",
       "      <td>57290</td>\n",
       "      <td>Brand 31</td>\n",
       "      <td>BEBIDAS CARBONATADAS</td>\n",
       "      <td>GASEOSAS</td>\n",
       "      <td>PREMIUM</td>\n",
       "      <td>BOTELLA</td>\n",
       "      <td>0.66</td>\n",
       "    </tr>\n",
       "    <tr>\n",
       "      <th>2</th>\n",
       "      <td>56714</td>\n",
       "      <td>Brand 31</td>\n",
       "      <td>BEBIDAS CARBONATADAS</td>\n",
       "      <td>GASEOSAS</td>\n",
       "      <td>PREMIUM</td>\n",
       "      <td>BOTELLA</td>\n",
       "      <td>0.66</td>\n",
       "    </tr>\n",
       "    <tr>\n",
       "      <th>3</th>\n",
       "      <td>296616</td>\n",
       "      <td>Brand 31</td>\n",
       "      <td>BEBIDAS CARBONATADAS</td>\n",
       "      <td>GASEOSAS</td>\n",
       "      <td>PREMIUM</td>\n",
       "      <td>BOTELLA</td>\n",
       "      <td>0.66</td>\n",
       "    </tr>\n",
       "    <tr>\n",
       "      <th>4</th>\n",
       "      <td>60854</td>\n",
       "      <td>Brand 31</td>\n",
       "      <td>BEBIDAS CARBONATADAS</td>\n",
       "      <td>GASEOSAS</td>\n",
       "      <td>PREMIUM</td>\n",
       "      <td>BOTELLA</td>\n",
       "      <td>0.25</td>\n",
       "    </tr>\n",
       "  </tbody>\n",
       "</table>\n",
       "</div>"
      ],
      "text/plain": [
       "   product_id     brand              category sub_category  segment  package  \\\n",
       "0       34092  Brand 31  BEBIDAS CARBONATADAS     GASEOSAS  PREMIUM  BOTELLA   \n",
       "1       57290  Brand 31  BEBIDAS CARBONATADAS     GASEOSAS  PREMIUM  BOTELLA   \n",
       "2       56714  Brand 31  BEBIDAS CARBONATADAS     GASEOSAS  PREMIUM  BOTELLA   \n",
       "3      296616  Brand 31  BEBIDAS CARBONATADAS     GASEOSAS  PREMIUM  BOTELLA   \n",
       "4       60854  Brand 31  BEBIDAS CARBONATADAS     GASEOSAS  PREMIUM  BOTELLA   \n",
       "\n",
       "   size  \n",
       "0  0.66  \n",
       "1  0.66  \n",
       "2  0.66  \n",
       "3  0.66  \n",
       "4  0.25  "
      ]
     },
     "execution_count": 107,
     "metadata": {},
     "output_type": "execute_result"
    }
   ],
   "source": [
    "productos.head()"
   ]
  },
  {
   "cell_type": "code",
   "execution_count": 108,
   "metadata": {},
   "outputs": [
    {
     "data": {
      "text/html": [
       "<div>\n",
       "<style scoped>\n",
       "    .dataframe tbody tr th:only-of-type {\n",
       "        vertical-align: middle;\n",
       "    }\n",
       "\n",
       "    .dataframe tbody tr th {\n",
       "        vertical-align: top;\n",
       "    }\n",
       "\n",
       "    .dataframe thead th {\n",
       "        text-align: right;\n",
       "    }\n",
       "</style>\n",
       "<table border=\"1\" class=\"dataframe\">\n",
       "  <thead>\n",
       "    <tr style=\"text-align: right;\">\n",
       "      <th></th>\n",
       "      <th>customer_id</th>\n",
       "      <th>product_id</th>\n",
       "      <th>order_id</th>\n",
       "      <th>purchase_date</th>\n",
       "      <th>items</th>\n",
       "    </tr>\n",
       "  </thead>\n",
       "  <tbody>\n",
       "    <tr>\n",
       "      <th>124</th>\n",
       "      <td>61353</td>\n",
       "      <td>61364</td>\n",
       "      <td>411145</td>\n",
       "      <td>2024-04-27</td>\n",
       "      <td>-0.333333</td>\n",
       "    </tr>\n",
       "    <tr>\n",
       "      <th>127</th>\n",
       "      <td>61899</td>\n",
       "      <td>1370</td>\n",
       "      <td>411156</td>\n",
       "      <td>2024-04-27</td>\n",
       "      <td>3.666667</td>\n",
       "    </tr>\n",
       "    <tr>\n",
       "      <th>344</th>\n",
       "      <td>154077</td>\n",
       "      <td>30500</td>\n",
       "      <td>417911</td>\n",
       "      <td>2024-04-29</td>\n",
       "      <td>2.333333</td>\n",
       "    </tr>\n",
       "    <tr>\n",
       "      <th>349</th>\n",
       "      <td>164337</td>\n",
       "      <td>56714</td>\n",
       "      <td>418100</td>\n",
       "      <td>2024-04-29</td>\n",
       "      <td>-2.333333</td>\n",
       "    </tr>\n",
       "    <tr>\n",
       "      <th>354</th>\n",
       "      <td>172056</td>\n",
       "      <td>61672</td>\n",
       "      <td>407162</td>\n",
       "      <td>2024-04-26</td>\n",
       "      <td>1.000000</td>\n",
       "    </tr>\n",
       "  </tbody>\n",
       "</table>\n",
       "</div>"
      ],
      "text/plain": [
       "     customer_id  product_id  order_id purchase_date     items\n",
       "124        61353       61364    411145    2024-04-27 -0.333333\n",
       "127        61899        1370    411156    2024-04-27  3.666667\n",
       "344       154077       30500    417911    2024-04-29  2.333333\n",
       "349       164337       56714    418100    2024-04-29 -2.333333\n",
       "354       172056       61672    407162    2024-04-26  1.000000"
      ]
     },
     "execution_count": 108,
     "metadata": {},
     "output_type": "execute_result"
    }
   ],
   "source": [
    "transacciones.head()"
   ]
  },
  {
   "cell_type": "code",
   "execution_count": 109,
   "metadata": {},
   "outputs": [],
   "source": [
    "df = pd.merge(\n",
    "    transacciones,\n",
    "    clientes,\n",
    "    on='customer_id',\n",
    "    how='left'\n",
    ")\n",
    "\n",
    "df = pd.merge(\n",
    "    df,\n",
    "    productos,\n",
    "    on='product_id',\n",
    "    how='left'\n",
    ")\n",
    "\n",
    "df['purchase_date'] = pd.to_datetime(df['purchase_date'])"
   ]
  },
  {
   "cell_type": "code",
   "execution_count": 110,
   "metadata": {},
   "outputs": [
    {
     "data": {
      "text/plain": [
       "Index(['customer_id', 'product_id', 'order_id', 'purchase_date', 'items',\n",
       "       'region_id', 'zone_id', 'customer_type', 'Y', 'X',\n",
       "       'num_deliver_per_week', 'num_visit_per_week', 'brand', 'category',\n",
       "       'sub_category', 'segment', 'package', 'size'],\n",
       "      dtype='object')"
      ]
     },
     "execution_count": 110,
     "metadata": {},
     "output_type": "execute_result"
    }
   ],
   "source": [
    "df.columns"
   ]
  },
  {
   "cell_type": "markdown",
   "metadata": {},
   "source": [
    "*Esto agrega a cada transacción los datos del cliente: región, zona, tipo de cliente, coordenadas y frecuencia de entrega/visita.*\n",
    "\n",
    "*Y luego también la info del producto: marca, categoría, tamaño, etc.*\n",
    "\n",
    "*La cantidad de filas de **df** es la misma que la cantidad de transacciones en la tabla transacciones.*"
   ]
  },
  {
   "cell_type": "markdown",
   "metadata": {},
   "source": [
    "## 📌 EDA [0.5 puntos]\n",
    "\n",
    "<center>\n",
    "<img src=\"https://media3.giphy.com/media/v1.Y2lkPTc5MGI3NjExbHZ6aGdkd21tYTI3cW8zYWhyYW5wdGlyb2s3MmRzeTV0dzQ1NWlueiZlcD12MV9pbnRlcm5hbF9naWZfYnlfaWQmY3Q9Zw/3k1hJubTtOAKPKx4k3/giphy.gif\" width=\"400\" height=\"200\">"
   ]
  },
  {
   "cell_type": "markdown",
   "metadata": {},
   "source": [
    "En esta sección, se debe realizar un análisis exploratorio de los datos para comprender su estructura, detectar posibles problemas y obtener información relevante para el entrenamiento de los modelos. La idea es que puedan detectar **patrones en los datos** que les permitan resolver el problema con mayor facilidad.\n",
    "\n",
    "Se deben responder preguntas a partir de lo que puedan visualizar/obtener, por ejemplo:\n",
    "\n",
    "- Clientes y productos\n",
    "\n",
    "    - ¿Cuántos clientes únicos hay en el dataset?\n",
    "\n",
    "    - ¿Cuántos productos únicos se encuentran en los datos?\n",
    "\n",
    "- Periodo y frecuencia\n",
    "\n",
    "    - ¿De qué periodo es la información disponible?\n",
    "\n",
    "    - ¿Cuál es la frecuencia de los registros (diaria, semanal, mensual, etc.)?\n",
    "\n",
    "- Calidad de los datos\n",
    "\n",
    "    - ¿Existen valores nulos en el dataset? ¿Cuántos? ¿Cómo se pueden tratar?\n",
    "\n",
    "    - ¿Hay datos raros, como cantidades negativas o inconsistencias? Genere tests de validación para identificar estos problemas.\n",
    "\n",
    "- Patrones de compra\n",
    "\n",
    "    - ¿Cuántos productos compra en promedio cada cliente semana a semana?\n",
    "\n",
    "    - ¿Cuántas transacciones ha realizado cada cliente?\n",
    "\n",
    "    - ¿Cuál es el periodo de recompra promedio de cada SKU?"
   ]
  },
  {
   "cell_type": "markdown",
   "metadata": {},
   "source": [
    "**Clientes y productos**"
   ]
  },
  {
   "cell_type": "code",
   "execution_count": 111,
   "metadata": {},
   "outputs": [
    {
     "name": "stdout",
     "output_type": "stream",
     "text": [
      " Número de clientes únicos: 1569\n",
      " Número de clientes únicos en merged table: 1490\n"
     ]
    }
   ],
   "source": [
    "print(f\" Número de clientes únicos: {clientes['customer_id'].nunique()}\")\n",
    "print(f\" Número de clientes únicos en merged table: {df['customer_id'].nunique()}\")"
   ]
  },
  {
   "cell_type": "code",
   "execution_count": 112,
   "metadata": {},
   "outputs": [
    {
     "name": "stdout",
     "output_type": "stream",
     "text": [
      " Número de productos únicos: 971\n",
      " Número de productos únicos en merged table: 114\n"
     ]
    }
   ],
   "source": [
    "print(f\" Número de productos únicos: {productos['product_id'].nunique()}\")\n",
    "print(f\" Número de productos únicos en merged table: {df['product_id'].nunique()}\")"
   ]
  },
  {
   "cell_type": "markdown",
   "metadata": {},
   "source": [
    "**Periodo y frecuencia**"
   ]
  },
  {
   "cell_type": "code",
   "execution_count": 113,
   "metadata": {},
   "outputs": [
    {
     "name": "stdout",
     "output_type": "stream",
     "text": [
      " Nombre de la columa fecha: Index(['purchase_date'], dtype='object')\n"
     ]
    }
   ],
   "source": [
    "print(f\" Nombre de la columa fecha: {df.select_dtypes(include=['datetime']).columns}\")"
   ]
  },
  {
   "cell_type": "code",
   "execution_count": 114,
   "metadata": {},
   "outputs": [
    {
     "data": {
      "application/vnd.plotly.v1+json": {
       "config": {
        "plotlyServerURL": "https://plot.ly"
       },
       "data": [
        {
         "hovertemplate": "Fecha=%{x}<br>Número de Transacciones=%{y}<extra></extra>",
         "legendgroup": "",
         "line": {
          "color": "#636efa",
          "dash": "solid"
         },
         "marker": {
          "symbol": "circle"
         },
         "mode": "lines+markers",
         "name": "",
         "orientation": "v",
         "showlegend": false,
         "type": "scatter",
         "x": [
          "2024-01-31T00:00:00.000000000",
          "2024-02-29T00:00:00.000000000",
          "2024-03-31T00:00:00.000000000",
          "2024-04-30T00:00:00.000000000",
          "2024-05-31T00:00:00.000000000",
          "2024-06-30T00:00:00.000000000",
          "2024-07-31T00:00:00.000000000",
          "2024-08-31T00:00:00.000000000",
          "2024-09-30T00:00:00.000000000",
          "2024-10-31T00:00:00.000000000",
          "2024-11-30T00:00:00.000000000",
          "2024-12-31T00:00:00.000000000"
         ],
         "xaxis": "x",
         "y": {
          "bdata": "71mSVX9VvUs1NXJFJDx+S+dWQ1xHYmF7",
          "dtype": "i2"
         },
         "yaxis": "y"
        }
       ],
       "layout": {
        "legend": {
         "tracegroupgap": 0
        },
        "template": {
         "data": {
          "bar": [
           {
            "error_x": {
             "color": "#2a3f5f"
            },
            "error_y": {
             "color": "#2a3f5f"
            },
            "marker": {
             "line": {
              "color": "white",
              "width": 0.5
             },
             "pattern": {
              "fillmode": "overlay",
              "size": 10,
              "solidity": 0.2
             }
            },
            "type": "bar"
           }
          ],
          "barpolar": [
           {
            "marker": {
             "line": {
              "color": "white",
              "width": 0.5
             },
             "pattern": {
              "fillmode": "overlay",
              "size": 10,
              "solidity": 0.2
             }
            },
            "type": "barpolar"
           }
          ],
          "carpet": [
           {
            "aaxis": {
             "endlinecolor": "#2a3f5f",
             "gridcolor": "#C8D4E3",
             "linecolor": "#C8D4E3",
             "minorgridcolor": "#C8D4E3",
             "startlinecolor": "#2a3f5f"
            },
            "baxis": {
             "endlinecolor": "#2a3f5f",
             "gridcolor": "#C8D4E3",
             "linecolor": "#C8D4E3",
             "minorgridcolor": "#C8D4E3",
             "startlinecolor": "#2a3f5f"
            },
            "type": "carpet"
           }
          ],
          "choropleth": [
           {
            "colorbar": {
             "outlinewidth": 0,
             "ticks": ""
            },
            "type": "choropleth"
           }
          ],
          "contour": [
           {
            "colorbar": {
             "outlinewidth": 0,
             "ticks": ""
            },
            "colorscale": [
             [
              0,
              "#0d0887"
             ],
             [
              0.1111111111111111,
              "#46039f"
             ],
             [
              0.2222222222222222,
              "#7201a8"
             ],
             [
              0.3333333333333333,
              "#9c179e"
             ],
             [
              0.4444444444444444,
              "#bd3786"
             ],
             [
              0.5555555555555556,
              "#d8576b"
             ],
             [
              0.6666666666666666,
              "#ed7953"
             ],
             [
              0.7777777777777778,
              "#fb9f3a"
             ],
             [
              0.8888888888888888,
              "#fdca26"
             ],
             [
              1,
              "#f0f921"
             ]
            ],
            "type": "contour"
           }
          ],
          "contourcarpet": [
           {
            "colorbar": {
             "outlinewidth": 0,
             "ticks": ""
            },
            "type": "contourcarpet"
           }
          ],
          "heatmap": [
           {
            "colorbar": {
             "outlinewidth": 0,
             "ticks": ""
            },
            "colorscale": [
             [
              0,
              "#0d0887"
             ],
             [
              0.1111111111111111,
              "#46039f"
             ],
             [
              0.2222222222222222,
              "#7201a8"
             ],
             [
              0.3333333333333333,
              "#9c179e"
             ],
             [
              0.4444444444444444,
              "#bd3786"
             ],
             [
              0.5555555555555556,
              "#d8576b"
             ],
             [
              0.6666666666666666,
              "#ed7953"
             ],
             [
              0.7777777777777778,
              "#fb9f3a"
             ],
             [
              0.8888888888888888,
              "#fdca26"
             ],
             [
              1,
              "#f0f921"
             ]
            ],
            "type": "heatmap"
           }
          ],
          "histogram": [
           {
            "marker": {
             "pattern": {
              "fillmode": "overlay",
              "size": 10,
              "solidity": 0.2
             }
            },
            "type": "histogram"
           }
          ],
          "histogram2d": [
           {
            "colorbar": {
             "outlinewidth": 0,
             "ticks": ""
            },
            "colorscale": [
             [
              0,
              "#0d0887"
             ],
             [
              0.1111111111111111,
              "#46039f"
             ],
             [
              0.2222222222222222,
              "#7201a8"
             ],
             [
              0.3333333333333333,
              "#9c179e"
             ],
             [
              0.4444444444444444,
              "#bd3786"
             ],
             [
              0.5555555555555556,
              "#d8576b"
             ],
             [
              0.6666666666666666,
              "#ed7953"
             ],
             [
              0.7777777777777778,
              "#fb9f3a"
             ],
             [
              0.8888888888888888,
              "#fdca26"
             ],
             [
              1,
              "#f0f921"
             ]
            ],
            "type": "histogram2d"
           }
          ],
          "histogram2dcontour": [
           {
            "colorbar": {
             "outlinewidth": 0,
             "ticks": ""
            },
            "colorscale": [
             [
              0,
              "#0d0887"
             ],
             [
              0.1111111111111111,
              "#46039f"
             ],
             [
              0.2222222222222222,
              "#7201a8"
             ],
             [
              0.3333333333333333,
              "#9c179e"
             ],
             [
              0.4444444444444444,
              "#bd3786"
             ],
             [
              0.5555555555555556,
              "#d8576b"
             ],
             [
              0.6666666666666666,
              "#ed7953"
             ],
             [
              0.7777777777777778,
              "#fb9f3a"
             ],
             [
              0.8888888888888888,
              "#fdca26"
             ],
             [
              1,
              "#f0f921"
             ]
            ],
            "type": "histogram2dcontour"
           }
          ],
          "mesh3d": [
           {
            "colorbar": {
             "outlinewidth": 0,
             "ticks": ""
            },
            "type": "mesh3d"
           }
          ],
          "parcoords": [
           {
            "line": {
             "colorbar": {
              "outlinewidth": 0,
              "ticks": ""
             }
            },
            "type": "parcoords"
           }
          ],
          "pie": [
           {
            "automargin": true,
            "type": "pie"
           }
          ],
          "scatter": [
           {
            "fillpattern": {
             "fillmode": "overlay",
             "size": 10,
             "solidity": 0.2
            },
            "type": "scatter"
           }
          ],
          "scatter3d": [
           {
            "line": {
             "colorbar": {
              "outlinewidth": 0,
              "ticks": ""
             }
            },
            "marker": {
             "colorbar": {
              "outlinewidth": 0,
              "ticks": ""
             }
            },
            "type": "scatter3d"
           }
          ],
          "scattercarpet": [
           {
            "marker": {
             "colorbar": {
              "outlinewidth": 0,
              "ticks": ""
             }
            },
            "type": "scattercarpet"
           }
          ],
          "scattergeo": [
           {
            "marker": {
             "colorbar": {
              "outlinewidth": 0,
              "ticks": ""
             }
            },
            "type": "scattergeo"
           }
          ],
          "scattergl": [
           {
            "marker": {
             "colorbar": {
              "outlinewidth": 0,
              "ticks": ""
             }
            },
            "type": "scattergl"
           }
          ],
          "scattermap": [
           {
            "marker": {
             "colorbar": {
              "outlinewidth": 0,
              "ticks": ""
             }
            },
            "type": "scattermap"
           }
          ],
          "scattermapbox": [
           {
            "marker": {
             "colorbar": {
              "outlinewidth": 0,
              "ticks": ""
             }
            },
            "type": "scattermapbox"
           }
          ],
          "scatterpolar": [
           {
            "marker": {
             "colorbar": {
              "outlinewidth": 0,
              "ticks": ""
             }
            },
            "type": "scatterpolar"
           }
          ],
          "scatterpolargl": [
           {
            "marker": {
             "colorbar": {
              "outlinewidth": 0,
              "ticks": ""
             }
            },
            "type": "scatterpolargl"
           }
          ],
          "scatterternary": [
           {
            "marker": {
             "colorbar": {
              "outlinewidth": 0,
              "ticks": ""
             }
            },
            "type": "scatterternary"
           }
          ],
          "surface": [
           {
            "colorbar": {
             "outlinewidth": 0,
             "ticks": ""
            },
            "colorscale": [
             [
              0,
              "#0d0887"
             ],
             [
              0.1111111111111111,
              "#46039f"
             ],
             [
              0.2222222222222222,
              "#7201a8"
             ],
             [
              0.3333333333333333,
              "#9c179e"
             ],
             [
              0.4444444444444444,
              "#bd3786"
             ],
             [
              0.5555555555555556,
              "#d8576b"
             ],
             [
              0.6666666666666666,
              "#ed7953"
             ],
             [
              0.7777777777777778,
              "#fb9f3a"
             ],
             [
              0.8888888888888888,
              "#fdca26"
             ],
             [
              1,
              "#f0f921"
             ]
            ],
            "type": "surface"
           }
          ],
          "table": [
           {
            "cells": {
             "fill": {
              "color": "#EBF0F8"
             },
             "line": {
              "color": "white"
             }
            },
            "header": {
             "fill": {
              "color": "#C8D4E3"
             },
             "line": {
              "color": "white"
             }
            },
            "type": "table"
           }
          ]
         },
         "layout": {
          "annotationdefaults": {
           "arrowcolor": "#2a3f5f",
           "arrowhead": 0,
           "arrowwidth": 1
          },
          "autotypenumbers": "strict",
          "coloraxis": {
           "colorbar": {
            "outlinewidth": 0,
            "ticks": ""
           }
          },
          "colorscale": {
           "diverging": [
            [
             0,
             "#8e0152"
            ],
            [
             0.1,
             "#c51b7d"
            ],
            [
             0.2,
             "#de77ae"
            ],
            [
             0.3,
             "#f1b6da"
            ],
            [
             0.4,
             "#fde0ef"
            ],
            [
             0.5,
             "#f7f7f7"
            ],
            [
             0.6,
             "#e6f5d0"
            ],
            [
             0.7,
             "#b8e186"
            ],
            [
             0.8,
             "#7fbc41"
            ],
            [
             0.9,
             "#4d9221"
            ],
            [
             1,
             "#276419"
            ]
           ],
           "sequential": [
            [
             0,
             "#0d0887"
            ],
            [
             0.1111111111111111,
             "#46039f"
            ],
            [
             0.2222222222222222,
             "#7201a8"
            ],
            [
             0.3333333333333333,
             "#9c179e"
            ],
            [
             0.4444444444444444,
             "#bd3786"
            ],
            [
             0.5555555555555556,
             "#d8576b"
            ],
            [
             0.6666666666666666,
             "#ed7953"
            ],
            [
             0.7777777777777778,
             "#fb9f3a"
            ],
            [
             0.8888888888888888,
             "#fdca26"
            ],
            [
             1,
             "#f0f921"
            ]
           ],
           "sequentialminus": [
            [
             0,
             "#0d0887"
            ],
            [
             0.1111111111111111,
             "#46039f"
            ],
            [
             0.2222222222222222,
             "#7201a8"
            ],
            [
             0.3333333333333333,
             "#9c179e"
            ],
            [
             0.4444444444444444,
             "#bd3786"
            ],
            [
             0.5555555555555556,
             "#d8576b"
            ],
            [
             0.6666666666666666,
             "#ed7953"
            ],
            [
             0.7777777777777778,
             "#fb9f3a"
            ],
            [
             0.8888888888888888,
             "#fdca26"
            ],
            [
             1,
             "#f0f921"
            ]
           ]
          },
          "colorway": [
           "#636efa",
           "#EF553B",
           "#00cc96",
           "#ab63fa",
           "#FFA15A",
           "#19d3f3",
           "#FF6692",
           "#B6E880",
           "#FF97FF",
           "#FECB52"
          ],
          "font": {
           "color": "#2a3f5f"
          },
          "geo": {
           "bgcolor": "white",
           "lakecolor": "white",
           "landcolor": "white",
           "showlakes": true,
           "showland": true,
           "subunitcolor": "#C8D4E3"
          },
          "hoverlabel": {
           "align": "left"
          },
          "hovermode": "closest",
          "mapbox": {
           "style": "light"
          },
          "paper_bgcolor": "white",
          "plot_bgcolor": "white",
          "polar": {
           "angularaxis": {
            "gridcolor": "#EBF0F8",
            "linecolor": "#EBF0F8",
            "ticks": ""
           },
           "bgcolor": "white",
           "radialaxis": {
            "gridcolor": "#EBF0F8",
            "linecolor": "#EBF0F8",
            "ticks": ""
           }
          },
          "scene": {
           "xaxis": {
            "backgroundcolor": "white",
            "gridcolor": "#DFE8F3",
            "gridwidth": 2,
            "linecolor": "#EBF0F8",
            "showbackground": true,
            "ticks": "",
            "zerolinecolor": "#EBF0F8"
           },
           "yaxis": {
            "backgroundcolor": "white",
            "gridcolor": "#DFE8F3",
            "gridwidth": 2,
            "linecolor": "#EBF0F8",
            "showbackground": true,
            "ticks": "",
            "zerolinecolor": "#EBF0F8"
           },
           "zaxis": {
            "backgroundcolor": "white",
            "gridcolor": "#DFE8F3",
            "gridwidth": 2,
            "linecolor": "#EBF0F8",
            "showbackground": true,
            "ticks": "",
            "zerolinecolor": "#EBF0F8"
           }
          },
          "shapedefaults": {
           "line": {
            "color": "#2a3f5f"
           }
          },
          "ternary": {
           "aaxis": {
            "gridcolor": "#DFE8F3",
            "linecolor": "#A2B1C6",
            "ticks": ""
           },
           "baxis": {
            "gridcolor": "#DFE8F3",
            "linecolor": "#A2B1C6",
            "ticks": ""
           },
           "bgcolor": "white",
           "caxis": {
            "gridcolor": "#DFE8F3",
            "linecolor": "#A2B1C6",
            "ticks": ""
           }
          },
          "title": {
           "x": 0.05
          },
          "xaxis": {
           "automargin": true,
           "gridcolor": "#EBF0F8",
           "linecolor": "#EBF0F8",
           "ticks": "",
           "title": {
            "standoff": 15
           },
           "zerolinecolor": "#EBF0F8",
           "zerolinewidth": 2
          },
          "yaxis": {
           "automargin": true,
           "gridcolor": "#EBF0F8",
           "linecolor": "#EBF0F8",
           "ticks": "",
           "title": {
            "standoff": 15
           },
           "zerolinecolor": "#EBF0F8",
           "zerolinewidth": 2
          }
         }
        },
        "title": {
         "font": {
          "size": 20
         },
         "text": " Frecuencia Mensual de Transacciones"
        },
        "xaxis": {
         "anchor": "y",
         "domain": [
          0,
          1
         ],
         "title": {
          "font": {
           "size": 14
          },
          "text": "Fecha"
         }
        },
        "yaxis": {
         "anchor": "x",
         "domain": [
          0,
          1
         ],
         "title": {
          "font": {
           "size": 14
          },
          "text": "Número de Transacciones"
         }
        }
       }
      }
     },
     "metadata": {},
     "output_type": "display_data"
    }
   ],
   "source": [
    "import plotly.express as px\n",
    "import pandas as pd\n",
    "\n",
    "transacciones_mensuales = (\n",
    "    df\n",
    "    .set_index('purchase_date')\n",
    "    .resample('ME')['order_id']\n",
    "    .count()\n",
    "    .reset_index()\n",
    "    .rename(columns={'order_id': 'transacciones'})\n",
    ")\n",
    "\n",
    "fig = px.line(\n",
    "    transacciones_mensuales,\n",
    "    x='purchase_date',\n",
    "    y='transacciones',\n",
    "    title=' Frecuencia Mensual de Transacciones',\n",
    "    labels={'purchase_date': 'Fecha', 'transacciones': 'Número de Transacciones'},\n",
    "    markers=True\n",
    ")\n",
    "\n",
    "fig.update_layout(\n",
    "    title_font_size=20,\n",
    "    xaxis_title_font_size=14,\n",
    "    yaxis_title_font_size=14,\n",
    "    template='plotly_white'\n",
    ")\n",
    "\n",
    "fig.show()\n"
   ]
  },
  {
   "cell_type": "markdown",
   "metadata": {},
   "source": [
    "**Calidad de los datos**"
   ]
  },
  {
   "cell_type": "code",
   "execution_count": 115,
   "metadata": {},
   "outputs": [
    {
     "name": "stdout",
     "output_type": "stream",
     "text": [
      "Nulos Pre Join:\n",
      "\n",
      "Folder Clientes:\n",
      "customer_id             0\n",
      "region_id               0\n",
      "zone_id                 0\n",
      "customer_type           0\n",
      "Y                       0\n",
      "X                       1\n",
      "num_deliver_per_week    0\n",
      "num_visit_per_week      0\n",
      "dtype: int64\n",
      "Folder Productos:\n",
      "product_id      0\n",
      "brand           0\n",
      "category        0\n",
      "sub_category    0\n",
      "segment         0\n",
      "package         0\n",
      "size            0\n",
      "dtype: int64\n",
      "Folder Transacciones:\n",
      "customer_id      0\n",
      "product_id       0\n",
      "order_id         0\n",
      "purchase_date    0\n",
      "items            0\n",
      "dtype: int64\n"
     ]
    }
   ],
   "source": [
    "print(\"Nulos Pre Join:\\n\")\n",
    "print(\"Folder Clientes:\")\n",
    "print(clientes.isnull().sum())\n",
    "print(\"Folder Productos:\")\n",
    "print(productos.isnull().sum())\n",
    "print(\"Folder Transacciones:\")\n",
    "print(transacciones.isnull().sum())"
   ]
  },
  {
   "cell_type": "code",
   "execution_count": 116,
   "metadata": {},
   "outputs": [
    {
     "name": "stdout",
     "output_type": "stream",
     "text": [
      " Nulos POST Join:\n",
      "\n",
      "customer_id             0\n",
      "product_id              0\n",
      "order_id                0\n",
      "purchase_date           0\n",
      "items                   0\n",
      "region_id               0\n",
      "zone_id                 0\n",
      "customer_type           0\n",
      "Y                       0\n",
      "X                       0\n",
      "num_deliver_per_week    0\n",
      "num_visit_per_week      0\n",
      "brand                   0\n",
      "category                0\n",
      "sub_category            0\n",
      "segment                 0\n",
      "package                 0\n",
      "size                    0\n",
      "dtype: int64\n"
     ]
    }
   ],
   "source": [
    "print(\" Nulos POST Join:\\n\")\n",
    "print(df.isnull().sum())"
   ]
  },
  {
   "cell_type": "markdown",
   "metadata": {},
   "source": [
    "**Patrones de compra**"
   ]
  },
  {
   "cell_type": "code",
   "execution_count": 117,
   "metadata": {},
   "outputs": [
    {
     "name": "stdout",
     "output_type": "stream",
     "text": [
      "   customer_id  avg_items_per_week\n",
      "0        25734           13.200000\n",
      "1        25743           79.051282\n",
      "2        25749          106.115385\n",
      "3        56868            6.045455\n",
      "4        56871            5.607843\n"
     ]
    }
   ],
   "source": [
    "# Aseguramos columna de semana y de año. Isocalendar lo que hace es \n",
    "# retorna3 un DataFrame temporal con tres columnas: year, week, day del calendario ISO 8601, mientras que \n",
    "# el comando .dt accede a atributos de fechas en pandas (year, month, etc).\n",
    "df['week'] = df['purchase_date'].dt.isocalendar().week\n",
    "df['year'] = df['purchase_date'].dt.isocalendar().year\n",
    "\n",
    "#Agrupamos por cliente, año y semana para contar productos comprados, donde cada producto\n",
    "#comprado tiene que er con el ['items']\n",
    "productos_por_semana = df.groupby(['customer_id', 'year', 'week'])['items'].sum().reset_index()\n",
    "\n",
    "#agrupando según customer_id (cada cliente único con groupby) y luego calculando el promedio con .mean()\n",
    "promedio_semanal = productos_por_semana.groupby('customer_id')['items'].mean().reset_index(name='avg_items_per_week')\n",
    "\n",
    "print(promedio_semanal.head())"
   ]
  },
  {
   "cell_type": "code",
   "execution_count": 118,
   "metadata": {},
   "outputs": [
    {
     "name": "stdout",
     "output_type": "stream",
     "text": [
      "   customer_id  num_transacciones\n",
      "0        25734                 15\n",
      "1        25743                121\n",
      "2        25749                107\n",
      "3        56868                 25\n",
      "4        56871                 36\n"
     ]
    }
   ],
   "source": [
    "#para todos los clientes únicos de la columna customer_id, vemos todas sus órdenes\n",
    "#o transacciones (si se puede decir así), donde el nunique() lo que hace es obtener\n",
    "#todas las órdenes únicas para cada cliente. Por último, se convierte customer_id en \n",
    "#una columna normal, y la columna que contiene el número de órdenes por cliente se \n",
    "#llama num_transacciones.\n",
    "transacciones_por_cliente = df.groupby('customer_id')['order_id'].nunique().reset_index(name='num_transacciones')\n",
    "\n",
    "print(transacciones_por_cliente.head())"
   ]
  },
  {
   "cell_type": "code",
   "execution_count": 119,
   "metadata": {},
   "outputs": [
    {
     "name": "stdout",
     "output_type": "stream",
     "text": [
      "   product_id  avg_days_between_purchases\n",
      "0          60                    0.596059\n",
      "1         124                    0.276596\n",
      "2        1206                  112.500000\n",
      "3        1304                    0.016644\n",
      "4        1370                    0.009679\n"
     ]
    }
   ],
   "source": [
    "#primero que todo ordenamos por el identificador del producto\n",
    "#y luego por la fecha de compra.\n",
    "df_sorted = df.sort_values(by=['product_id', 'purchase_date'])\n",
    "\n",
    "#ahora creamos una columna que se llama days_between, que corresponde o \n",
    "#es el tiempo entre compras para cada SKU por cliente. Lo que hace shift es darnos\n",
    "#la fecha de la compra anterior del mismo producto para esa fila.\n",
    "df_sorted['prev_date'] = df_sorted.groupby('product_id')['purchase_date'].shift(1)\n",
    "df_sorted['days_between'] = (df_sorted['purchase_date'] - df_sorted['prev_date']).dt.days\n",
    "\n",
    "#Por último calculamos el promedio de días entre compras por SKU, para un mismo producto.\n",
    "recompra_promedio = df_sorted.groupby('product_id')['days_between'].mean().reset_index(name='avg_days_between_purchases')\n",
    "\n",
    "print(recompra_promedio.head())"
   ]
  },
  {
   "cell_type": "code",
   "execution_count": 120,
   "metadata": {},
   "outputs": [],
   "source": [
    "df = df.merge(promedio_semanal, on='customer_id', how='left')\n",
    "df = df.merge(transacciones_por_cliente, on='customer_id', how='left')\n",
    "df = df.merge(recompra_promedio, on='product_id', how='left')"
   ]
  },
  {
   "cell_type": "markdown",
   "metadata": {},
   "source": [
    "## 📌 Holdout [0.25 puntos]\n",
    "\n",
    "Para evaluar correctamente el modelo y garantizar su capacidad de generalización, se deben dividir los datos en tres conjuntos: \n",
    "- `Entrenamiento` : Para ajustar los parámetros.\n",
    "- `Validación`: Para optimizar hiperparámetros y seleccionar el mejor modelo.\n",
    "- `Prueba` : Para evaluar el rendimiento final en datos no vistos.\n",
    "\n",
    "👀 **Hint**: *Recuerde que los datos tienen una temporalidad que debe considerarse al momento de separarlos, para evitar fugas de información. Es importante justificar la estrategia de partición elegida y visualizar la distribución temporal de los conjuntos generados*"
   ]
  },
  {
   "cell_type": "code",
   "execution_count": 121,
   "metadata": {},
   "outputs": [
    {
     "data": {
      "text/plain": [
       "(Timestamp('2024-01-01 00:00:00'), Timestamp('2024-12-31 00:00:00'))"
      ]
     },
     "execution_count": 121,
     "metadata": {},
     "output_type": "execute_result"
    }
   ],
   "source": [
    "min_date = df['purchase_date'].min()\n",
    "max_date = df['purchase_date'].max()\n",
    "\n",
    "min_date, max_date"
   ]
  },
  {
   "cell_type": "code",
   "execution_count": null,
   "metadata": {},
   "outputs": [
    {
     "name": "stdout",
     "output_type": "stream",
     "text": [
      "Fecha mínima: 2024-01-01 00:00:00\n",
      "Fecha máxima: 2024-12-31 00:00:00\n",
      "Fecha corte de entrenamiento (cutoff_train): 2024-08-07 00:00:00\n",
      "Fecha corte de validación (cutoff_valid): 2024-10-19 00:00:00\n",
      "Tamaño df_train: (137808, 23)\n",
      "Tamaño df_valid: (50410, 23)\n",
      "Tamaño df_test: (66718, 23)\n"
     ]
    },
    {
     "data": {
      "image/png": "[encoded data removed]",
      "text/plain": [
       "<Figure size 1200x400 with 1 Axes>"
      ]
     },
     "metadata": {},
     "output_type": "display_data"
    },
    {
     "name": "stdout",
     "output_type": "stream",
     "text": [
      "Registros antes del corte de entrenamiento: 137808\n",
      "Registros entre el corte de entrenamiento y el corte de validación: 50410\n",
      "Registros después del corte de validación: 66718\n",
      "Columnas en df_train: Index(['customer_id', 'product_id', 'order_id', 'purchase_date', 'items',\n",
      "       'region_id', 'zone_id', 'customer_type', 'Y', 'X',\n",
      "       'num_deliver_per_week', 'num_visit_per_week', 'brand', 'category',\n",
      "       'sub_category', 'segment', 'package', 'size', 'week', 'year',\n",
      "       'avg_items_per_week', 'num_transacciones',\n",
      "       'avg_days_between_purchases'],\n",
      "      dtype='object')\n",
      "Columnas en df_valid: Index(['customer_id', 'product_id', 'order_id', 'purchase_date', 'items',\n",
      "       'region_id', 'zone_id', 'customer_type', 'Y', 'X',\n",
      "       'num_deliver_per_week', 'num_visit_per_week', 'brand', 'category',\n",
      "       'sub_category', 'segment', 'package', 'size', 'week', 'year',\n",
      "       'avg_items_per_week', 'num_transacciones',\n",
      "       'avg_days_between_purchases'],\n",
      "      dtype='object')\n"
     ]
    }
   ],
   "source": [
    "from datetime import timedelta\n",
    "import matplotlib.pyplot as plt\n",
    "\n",
    "min_date = df['purchase_date'].min()\n",
    "max_date = df['purchase_date'].max()\n",
    "total_days = (max_date - min_date).days\n",
    "\n",
    "cutoff_train = min_date + timedelta(days=int(total_days * 0.6))  # ~Agosto 5\n",
    "cutoff_valid = min_date + timedelta(days=int(total_days * 0.8))  # ~Octubre 27\n",
    "\n",
    "df_train = df[df['purchase_date'] <= cutoff_train]\n",
    "df_valid = df[(df['purchase_date'] > cutoff_train) & (df['purchase_date'] <= cutoff_valid)]\n",
    "df_test  = df[df['purchase_date'] > cutoff_valid]\n",
    "\n",
    "\n",
    "plt.figure(figsize=(12, 4))\n",
    "plt.hist(df_train['purchase_date'], bins=50, label='Train', alpha=0.6)\n",
    "plt.hist(df_valid['purchase_date'], bins=50, label='Valid', alpha=0.6)\n",
    "plt.hist(df_test['purchase_date'], bins=50, label='Test', alpha=0.6)\n",
    "plt.axvline(cutoff_train, color='black', linestyle='--', label='cutoff_train')\n",
    "plt.axvline(cutoff_valid, color='gray', linestyle='--', label='cutoff_valid')\n",
    "plt.legend()\n",
    "plt.title(\"Distribución temporal de los conjuntos (por fecha)\")\n",
    "plt.xlabel(\"Fecha de compra\")\n",
    "plt.ylabel(\"Cantidad de registros\")\n",
    "plt.tight_layout()\n",
    "plt.show()\n",
    "\n",
    "cutoff_train, cutoff_valid"
   ]
  },
  {
   "cell_type": "code",
   "execution_count": 160,
   "metadata": {},
   "outputs": [
    {
     "name": "stdout",
     "output_type": "stream",
     "text": [
      "['customer_type', 'brand', 'category', 'sub_category', 'segment', 'package']\n",
      "['customer_id', 'product_id', 'order_id', 'items', 'region_id', 'zone_id', 'Y', 'X', 'num_deliver_per_week', 'num_visit_per_week', 'size', 'week', 'year', 'avg_items_per_week', 'num_transacciones', 'avg_days_between_purchases']\n",
      "['purchase_date']\n"
     ]
    }
   ],
   "source": [
    "#ahora imprimimos las columnas categóricas, numéricas y la que contiene las fechas.\n",
    "categorical_cols = df.select_dtypes(include=['object', 'category']).columns.tolist()\n",
    "print(categorical_cols)\n",
    "numerical_cols = df.select_dtypes(include=['number']).columns.tolist()\n",
    "print(numerical_cols)\n",
    "date_cols = ['purchase_date']\n",
    "print(date_cols)\n",
    "\n",
    "numerical_cols += [\"dayofweek\", \"month\", \"week\"]\n",
    "\n",
    "if 'items' in numerical_cols:\n",
    "    numerical_cols.remove('items')"
   ]
  },
  {
   "cell_type": "markdown",
   "metadata": {},
   "source": [
    "## 📌 Feature Engineering [0.5 puntos]\n",
    "\n",
    "<center>\n",
    "<img src=\"https://i.imgur.com/CmXZSSC.gif\" width=\"300\" height=\"200\">"
   ]
  },
  {
   "cell_type": "markdown",
   "metadata": {},
   "source": [
    "En esta sección, se deben construir pipelines para automatizar el preprocesamiento de los datos, lo cual garantizará que el flujo de trabajo sea reproducible y eficiente para esta entrega y las futuras. El objetivo es aplicar una serie de transformaciones en un orden definido para asegurar que los datos estén listos para los modelos a entrenar. El pipeline final debe incluir las técnicas de pre-procesamiento que se deben aplicar a los distintos datos (según lo que consideren necesario para el problema). Por ejemplo:\n",
    "\n",
    "- **Imputación de valores nulos**: Manejo de datos faltantes mediante estrategias adecuadas (media, mediana, moda, interpolación, etc.). \n",
    "\n",
    "- **Transformaciones personalizadas**: Uso de ColumnTransformer para aplicar diferentes transformaciones a columnas específicas.\n",
    "\n",
    "- **Codificación de variables categóricas**: Convertir datos categóricos a un formato numérico adecuado (One-Hot Encoding, Label Encoding, etc.).\n",
    "\n",
    "- **Discretización de variables**: Conversión de variables numéricas continuas en categorías si son relevantes para el desempeño del modelo a entrenar.\n",
    "\n",
    "- **Estandarización o normalización** : Ajustar la escala de los datos para mejorar el rendimiento de los algoritmos sensibles a la magnitud de las variables.\n",
    "\n",
    "- **Eliminación o transformación de valores atípicos**: Identificar y tratar con datos outliers para mejorar la robustez del modelo.\n",
    "\n",
    "- **Nuevas características** : Creación de variables adicionales que puedan aportar información relevante al modelo.\n",
    "\n",
    "Cada una de estas transformaciones debe ser justificada en función de su relevancia para el problema y los datos, y es importante evaluar su impacto en el rendimiento del modelo. Además, el pipeline debe ser flexible y modular para poder probar diferentes configuraciones de preprocesamiento."
   ]
  },
  {
   "cell_type": "code",
   "execution_count": 124,
   "metadata": {},
   "outputs": [],
   "source": [
    "from sklearn.pipeline import Pipeline\n",
    "from sklearn.compose import ColumnTransformer\n",
    "from sklearn.impute import SimpleImputer\n",
    "from sklearn.preprocessing import OneHotEncoder, StandardScaler\n",
    "from sklearn.base import BaseEstimator, TransformerMixin\n",
    "from sklearn.ensemble import RandomForestClassifier\n",
    "from sklearn.metrics import classification_report\n",
    "import pandas as pd\n",
    "\n",
    "class DateFeatureExtractor(BaseEstimator, TransformerMixin):\n",
    "    \"\"\"En esta clase lo que hacemos es definir las funciones fit y \n",
    "    transform para poder convertir los datos\"\"\"\n",
    "    def __init__(self, date_column=\"purchase_date\"):\n",
    "        self.date_column = date_column\n",
    "\n",
    "    def fit(self, X, y=None):\n",
    "        return self\n",
    "\n",
    "    def transform(self, X):\n",
    "        X = X.copy()\n",
    "        X[self.date_column] = pd.to_datetime(X[self.date_column])\n",
    "        X[\"dayofweek\"] = X[self.date_column].dt.dayofweek\n",
    "        X[\"month\"] = X[self.date_column].dt.month\n",
    "        X[\"week\"] = X[self.date_column].dt.isocalendar().week.astype(int)\n",
    "        return X.drop(columns=[self.date_column])\n",
    "\n",
    "#ahora definimos un pipeline para el transformer de cada uno de los tipos de columna\n",
    "#de nuestro dataset original.\n",
    "numeric_transformer = Pipeline(steps=[\n",
    "    (\"imputer\", SimpleImputer(strategy=\"median\")),\n",
    "    (\"scaler\", StandardScaler())\n",
    "])\n",
    "\n",
    "categorical_transformer = Pipeline(steps=[\n",
    "    (\"imputer\", SimpleImputer(strategy=\"most_frequent\")),\n",
    "    (\"encoder\", OneHotEncoder(handle_unknown=\"ignore\", sparse_output=False))\n",
    "])\n",
    "\n",
    "preprocessor = ColumnTransformer(transformers=[\n",
    "    (\"num\", numeric_transformer, numerical_cols),\n",
    "    (\"cat\", categorical_transformer, categorical_cols)\n",
    "])"
   ]
  },
  {
   "cell_type": "markdown",
   "metadata": {},
   "source": [
    "## 📌 Baseline [0.25 puntos]\n",
    "\n",
    "<center>\n",
    "<img src=\"https://media1.giphy.com/media/v1.Y2lkPTc5MGI3NjExN3lzeGFqZmU3NzJrZHllNjRmaHVzczJpZ29rdHdlMzVpZnQwNXo1diZlcD12MV9pbnRlcm5hbF9naWZfYnlfaWQmY3Q9Zw/qAtZM2gvjWhPjmclZE/giphy.gif\" width=\"300\" height=\"200\">"
   ]
  },
  {
   "cell_type": "markdown",
   "metadata": {},
   "source": [
    "En esta sección se debe construir el modelo más sencillo posible que pueda resolver el problema planteado, conocido como **Modelo baseline**. Su propósito es servir como referencia para comparar el rendimiento de los modelos más avanzados desarrollados en etapas posteriores.  \n",
    "\n",
    "Pasos requeridos:  \n",
    "- Implemente, entrene y evalúe un modelo básico utilizando un pipeline.  \n",
    "- Asegúrese de incluir en el pipeline las transformaciones del preprocesamiento realizadas previamente junto con un clasificador básico.  \n",
    "- Evalúe el modelo y presente el informe de métricas utilizando **`classification_report`**.  \n",
    "\n",
    "Documente claramente cómo se creó el modelo, las decisiones tomadas y los resultados obtenidos. Este modelo será la base comparativa en las secciones posteriores."
   ]
  },
  {
   "cell_type": "code",
   "execution_count": 171,
   "metadata": {},
   "outputs": [
    {
     "name": "stdout",
     "output_type": "stream",
     "text": [
      "Reporte de clasificación: \n",
      "              precision    recall  f1-score   support\n",
      "\n",
      "           0       0.00      0.00      0.00      1299\n",
      "           1       0.97      1.00      0.99     49111\n",
      "\n",
      "    accuracy                           0.97     50410\n",
      "   macro avg       0.49      0.50      0.49     50410\n",
      "weighted avg       0.95      0.97      0.96     50410\n",
      "\n"
     ]
    }
   ],
   "source": [
    "import pandas as pd\n",
    "import numpy as np\n",
    "from sklearn.pipeline import Pipeline\n",
    "from sklearn.preprocessing import StandardScaler\n",
    "from sklearn.impute import SimpleImputer\n",
    "from sklearn.ensemble import RandomForestClassifier\n",
    "from sklearn.metrics import classification_report\n",
    "\n",
    "\n",
    "try:\n",
    "    df['purchase_date'] = pd.to_datetime(df['purchase_date'], errors='raise')\n",
    "except Exception as e:\n",
    "    print(\" Error al convertir 'purchase_date':\", e)\n",
    "    raise\n",
    "\n",
    "X_train = df_train.drop(columns=['items'])\n",
    "\n",
    "X_valid = df_valid.drop(columns=['items'])\n",
    "y_train = (df_train['items'] > 0).astype(int)\n",
    "y_valid = (df_valid['items'] > 0).astype(int)\n",
    "\n",
    "RFC = RandomForestClassifier(n_estimators=100, random_state=42, class_weight='balanced')\n",
    "\n",
    "rf_pipeline = Pipeline([\n",
    "    (\"date_features\", DateFeatureExtractor(date_column='purchase_date')),\n",
    "    (\"preprocessor\", preprocessor),\n",
    "    (\"classifier\", RFC)\n",
    "])\n",
    "\n",
    "rf_pipeline.fit(X_train, y_train)\n",
    "\n",
    "y_pred = rf_pipeline.predict(X_valid)\n",
    "\n",
    "print(\"Reporte de clasificación: \")\n",
    "print(classification_report(y_valid, y_pred))\n"
   ]
  },
  {
   "cell_type": "markdown",
   "metadata": {},
   "source": [
    "Para recomendar productos con alta probabilidad de compra, el modelo sirve.\n",
    "\n",
    "***recall = 1.00*** (captura los positivos reales)\n",
    "\n",
    "No predice correctamente la clase 0.\n",
    "\n",
    "¿Cómo podría usarse este código? Por ejemplo, añadiendo un top 5 de productos que el cliente probablemente (prob_compra > 0.8) comprará"
   ]
  },
  {
   "cell_type": "code",
   "execution_count": null,
   "metadata": {},
   "outputs": [],
   "source": [
    "# #Cóomo podría usarse este código ??? Añadiendo un top 5 de productos que el cliente probablemente (>0.8) comprará\n",
    "# por ejemplo.\n",
    "\n",
    "# y_proba = rf_pipeline.predict_proba(df_valid)[:, 1]\n",
    "\n",
    "# df_valid_results = df_valid.copy()\n",
    "# df_valid_results[\"prob_compra\"] = y_proba\n",
    "# df_valid_results[\"prediccion\"] = y_pred\n",
    "# df_valid_results[\"real\"] = y_valid.values\n",
    "\n",
    "# top_recomendaciones = (\n",
    "#     df_valid_results[df_valid_results[\"prob_compra\"] > 0.8]\n",
    "#     .sort_values(\"prob_compra\", ascending=False)\n",
    "#     .groupby(\"customer_id\")\n",
    "#     .head(5)\n",
    "# )\n",
    "# top_recomendaciones"
   ]
  },
  {
   "cell_type": "markdown",
   "metadata": {},
   "source": [
    "## 📌 Elección de modelo [0.75 puntos]\n",
    "\n",
    "En esta sección deben escoger un modelo que se adapte a las necesidades del negocio. Para esto, pruebe al menos 3 modelos y desarrolle los siguientes aspectos para cada uno:\n",
    "\n",
    "- **Estructura y diferencias entre los modelos**: Explicar brevemente cada uno y sus hipérparámetros de mayor importancia.\n",
    "- **Clasificadores recomendados**:\n",
    "  - `LogisticRegression`\n",
    "  - `KNeighborsClassifier`\n",
    "  - `DecisionTreeClassifier`\n",
    "  - `SVC`\n",
    "  - `RandomForestClassifier`\n",
    "  - `LightGBMClassifier` (del paquete `lightgbm`)\n",
    "  - `XGBClassifier` (del paquete `xgboost`)\n",
    "  - Otro (según lo que se estime adecuado)\n",
    "  \n",
    "- **Evaluación de resultados**: Se utilizará el **`classification_report`** para evaluar el rendimiento de cada modelo, destacando métricas clave como precisión, recall y F1-score. **Importante: No optimicen hiperparámetros, la idea es hacer una selección rápida del modelo.**\n",
    "\n",
    "**Nota:** Pueden ocupar mas de 1 **instancia** de modelo para resolver el problema (e.g: (modelo_1, grupo_1), (modelo_2, grupo_2), ...).\n",
    "  \n",
    "A continuación, se deben responder las siguientes preguntas para evaluar el rendimiento de los modelos entrenados:\n",
    "\n",
    "1. ¿Hay algún clasificador que supere al modelo baseline?  \n",
    "2. ¿Cuál es el mejor clasificador entrenado y por qué?  \n",
    "3. ¿Qué factores hacen que el mejor clasificador sea superior a los otros?  \n",
    "4. En términos de `tiempo de entrenamiento`, ¿Qué modelo considera más adecuado para experimentar con grillas de optimización?"
   ]
  },
  {
   "cell_type": "markdown",
   "metadata": {},
   "source": [
    "### Modelos que elegiremos para el estudio c/r al Baseline: Regresión Logística, XGBoost Classifier y Decision Tree"
   ]
  },
  {
   "cell_type": "markdown",
   "metadata": {},
   "source": [
    "1. La [Regresión Logística](https://www.geeksforgeeks.org/understanding-logistic-regression/) es un modelo lineal para clasificación binaria y estima la probabilidad de pertenencia a una clase usando una función sigmoide sobre una combinación lineal de las variables. En suma, es un modelo lineal, interpretable, eficiente para datos donde las clases son separables linealmente.\n",
    "\n",
    "    - max_iter: número máximo de iteraciones para que el solver converja (útil en datasets grandes o con muchas variables).\n",
    "    - random_state: fija la semilla para resultados reproducibles.\n",
    "    - class_weight: permite ponderar clases desbalanceadas. \"balanced\" ajusta automáticamente los pesos en función de la frecuencia.\n",
    "    - C (por defecto = 1.0): inverso de la regularización L2. Valores bajos imponen más regularización (evitan overfitting).\n",
    "    - solver: algoritmo de optimización. Ej: 'liblinear', 'lbfgs', 'saga'. Algunos permiten L1 o ElasticNet."
   ]
  },
  {
   "cell_type": "code",
   "execution_count": 196,
   "metadata": {},
   "outputs": [
    {
     "name": "stdout",
     "output_type": "stream",
     "text": [
      "              precision    recall  f1-score   support\n",
      "\n",
      "           0       0.05      0.21      0.08      1299\n",
      "           1       0.98      0.89      0.93     49111\n",
      "\n",
      "    accuracy                           0.87     50410\n",
      "   macro avg       0.51      0.55      0.50     50410\n",
      "weighted avg       0.95      0.87      0.91     50410\n",
      "\n"
     ]
    }
   ],
   "source": [
    "from sklearn.linear_model import LogisticRegression\n",
    "RANDOM_STATE = 42\n",
    "Logistic_regression_Pipeline = Pipeline([\n",
    "    (\"date_features\", DateFeatureExtractor(date_column=\"purchase_date\")),\n",
    "    (\"preprocessor\", preprocessor),\n",
    "    (\"clf\", LogisticRegression(max_iter=10000, random_state=RANDOM_STATE, class_weight=\"balanced\"))\n",
    "])\n",
    "\n",
    "\n",
    "Logistic_regression_Pipeline.fit(df_train, y_train)\n",
    "y_pred_logistic = Logistic_regression_Pipeline.predict(df_valid)\n",
    "\n",
    "print(classification_report(y_valid, y_pred_logistic))"
   ]
  },
  {
   "cell_type": "markdown",
   "metadata": {},
   "source": [
    "2. El [XGBoost Classifier](https://xgboost.readthedocs.io/en/release_3.0.0/get_started.html) es un algoritmo de ensamble basado en árboles de decisión, que implementa boosting: cada árbol nuevo corrige errores del anterior. Muy eficiente para clasificación binaria y multiclase. Por lo que resulta ser un modelo no lineal, potente, ideal para conjuntos de datos con patrones complejos y relaciones no lineales entre variables.\n",
    "\n",
    "    - n_estimators: número de árboles en el ensamble.\n",
    "    - max_depth: profundidad máxima de cada árbol (controla complejidad).\n",
    "    - learning_rate: qué tanto contribuye cada árbol nuevo (trade-off bias/varianza).\n",
    "    - objective='binary:logistic': función objetivo para clasificación binaria.\n",
    "    - scale_pos_weight: ajusta el peso relativo de las clases. Es crucial en datasets desbalanceados. Se calcula como #neg / #pos.\n",
    "    - eval_metric: métrica usada para evaluar durante el entrenamiento (ej: 'logloss', 'auc')."
   ]
  },
  {
   "cell_type": "code",
   "execution_count": 197,
   "metadata": {},
   "outputs": [
    {
     "name": "stdout",
     "output_type": "stream",
     "text": [
      "scale_pos_weight: 0.04\n",
      "              precision    recall  f1-score   support\n",
      "\n",
      "           0       0.05      0.12      0.07      1299\n",
      "           1       0.98      0.94      0.96     49111\n",
      "\n",
      "    accuracy                           0.92     50410\n",
      "   macro avg       0.51      0.53      0.52     50410\n",
      "weighted avg       0.95      0.92      0.94     50410\n",
      "\n"
     ]
    }
   ],
   "source": [
    "from xgboost import XGBClassifier\n",
    "from collections import Counter\n",
    "\n",
    "counter = Counter(y_train)\n",
    "neg, pos = counter[0], counter[1]\n",
    "scale_pos_weight = neg / pos\n",
    "print(f\"scale_pos_weight: {scale_pos_weight:.2f}\")\n",
    "\n",
    "XGB = XGBClassifier(\n",
    "    n_estimators=100,    \n",
    "    max_depth=5,         \n",
    "    learning_rate=0.1,\n",
    "    objective='binary:logistic',\n",
    "    scale_pos_weight=scale_pos_weight,\n",
    "    eval_metric='logloss', \n",
    "    random_state=RANDOM_STATE\n",
    ")\n",
    "xgb_pipeline = Pipeline([\n",
    "    (\"date_features\", DateFeatureExtractor(date_column=\"purchase_date\")),\n",
    "    (\"preprocessor\", preprocessor),\n",
    "    (\"clf\", XGB)\n",
    "])\n",
    "\n",
    "xgb_pipeline.fit(X_train, y_train)\n",
    "\n",
    "y_pred_xgb = xgb_pipeline.predict(X_valid)\n",
    "\n",
    "print(classification_report(y_valid, y_pred_xgb))"
   ]
  },
  {
   "cell_type": "markdown",
   "metadata": {},
   "source": [
    "3. El modelo [Decision Tree Classifier](https://scikit-learn.org/stable/modules/generated/sklearn.tree.DecisionTreeClassifier.html) es un modelo no paramétrico que particiona recursivamente el espacio de atributos para tomar decisiones y resulta ser fácil de interpretar. Por lo demás, es no lineal, interpretable pero propenso al sobreajuste si no se poda correctamente. A menudo se usa como base para modelos como Random Forest o XGBoost.\n",
    "\n",
    "    - criterion: mide la calidad de una partición ('gini' o 'entropy').\n",
    "    - max_depth: profundidad máxima del árbol (control de complejidad).\n",
    "    - min_samples_split: número mínimo de muestras para dividir un nodo.\n",
    "    - min_samples_leaf: número mínimo de muestras en una hoja.\n",
    "    - class_weight='balanced': ajusta los pesos de clases automáticamente según su frecuencia.\n",
    "    - max_features: número máximo de features a considerar en cada división.\n",
    "    - ccp_alpha: parámetro de poda para reducir el sobreajuste."
   ]
  },
  {
   "cell_type": "code",
   "execution_count": 198,
   "metadata": {},
   "outputs": [
    {
     "name": "stdout",
     "output_type": "stream",
     "text": [
      "              precision    recall  f1-score   support\n",
      "\n",
      "           0       0.03      0.04      0.04      1299\n",
      "           1       0.97      0.97      0.97     49111\n",
      "\n",
      "    accuracy                           0.95     50410\n",
      "   macro avg       0.50      0.50      0.50     50410\n",
      "weighted avg       0.95      0.95      0.95     50410\n",
      "\n"
     ]
    }
   ],
   "source": [
    "from sklearn.tree import DecisionTreeClassifier\n",
    "\n",
    "DT = DecisionTreeClassifier(criterion='gini', splitter='best', \n",
    "                       max_depth=None, min_samples_split=2, \n",
    "                       min_samples_leaf=1, min_weight_fraction_leaf=0.0, \n",
    "                       max_features=None, random_state=RANDOM_STATE, max_leaf_nodes=None, \n",
    "                       min_impurity_decrease=0.0, class_weight='balanced', \n",
    "                       ccp_alpha=0.0, monotonic_cst=None)\n",
    "\n",
    "Decision_Tree_Pipeline = Pipeline([\n",
    "    (\"date_features\", DateFeatureExtractor(date_column=\"purchase_date\")),\n",
    "    (\"preprocessor\", preprocessor),\n",
    "    ('clf', DT)\n",
    "])\n",
    "\n",
    "Decision_Tree_Pipeline.fit(df_train, y_train)\n",
    "y_pred_dt = Decision_Tree_Pipeline.predict(df_valid)\n",
    "\n",
    "print(classification_report(y_valid, y_pred_dt))"
   ]
  },
  {
   "cell_type": "code",
   "execution_count": 199,
   "metadata": {},
   "outputs": [
    {
     "data": {
      "text/html": [
       "<div>\n",
       "<style scoped>\n",
       "    .dataframe tbody tr th:only-of-type {\n",
       "        vertical-align: middle;\n",
       "    }\n",
       "\n",
       "    .dataframe tbody tr th {\n",
       "        vertical-align: top;\n",
       "    }\n",
       "\n",
       "    .dataframe thead th {\n",
       "        text-align: right;\n",
       "    }\n",
       "</style>\n",
       "<table border=\"1\" class=\"dataframe\">\n",
       "  <thead>\n",
       "    <tr style=\"text-align: right;\">\n",
       "      <th></th>\n",
       "      <th>Modelo</th>\n",
       "      <th>Accuracy</th>\n",
       "      <th>Precision</th>\n",
       "      <th>Recall</th>\n",
       "      <th>F1-score</th>\n",
       "    </tr>\n",
       "  </thead>\n",
       "  <tbody>\n",
       "    <tr>\n",
       "      <th>0</th>\n",
       "      <td>Árbol de Decisión</td>\n",
       "      <td>0.947867</td>\n",
       "      <td>0.974462</td>\n",
       "      <td>0.971961</td>\n",
       "      <td>0.973210</td>\n",
       "    </tr>\n",
       "    <tr>\n",
       "      <th>1</th>\n",
       "      <td>XGBoost</td>\n",
       "      <td>0.920631</td>\n",
       "      <td>0.976005</td>\n",
       "      <td>0.941683</td>\n",
       "      <td>0.958537</td>\n",
       "    </tr>\n",
       "    <tr>\n",
       "      <th>2</th>\n",
       "      <td>Regresión Logística</td>\n",
       "      <td>0.869391</td>\n",
       "      <td>0.976878</td>\n",
       "      <td>0.886930</td>\n",
       "      <td>0.929733</td>\n",
       "    </tr>\n",
       "  </tbody>\n",
       "</table>\n",
       "</div>"
      ],
      "text/plain": [
       "                Modelo  Accuracy  Precision    Recall  F1-score\n",
       "0    Árbol de Decisión  0.947867   0.974462  0.971961  0.973210\n",
       "1              XGBoost  0.920631   0.976005  0.941683  0.958537\n",
       "2  Regresión Logística  0.869391   0.976878  0.886930  0.929733"
      ]
     },
     "execution_count": 199,
     "metadata": {},
     "output_type": "execute_result"
    }
   ],
   "source": [
    "from sklearn.metrics import accuracy_score, precision_score, recall_score, f1_score\n",
    "\n",
    "y_pred_dt = Decision_Tree_Pipeline.predict(df_valid)\n",
    "acc_dt = accuracy_score(y_valid, y_pred_dt)\n",
    "f1_dt = f1_score(y_valid, y_pred_dt)\n",
    "recall_dt = recall_score(y_valid, y_pred_dt)\n",
    "precision_dt = precision_score(y_valid, y_pred_dt)\n",
    "\n",
    "y_pred_xgb = xgb_pipeline.predict(X_valid)\n",
    "acc_xgb = accuracy_score(y_valid, y_pred_xgb)\n",
    "f1_xgb = f1_score(y_valid, y_pred_xgb)\n",
    "recall_xgb = recall_score(y_valid, y_pred_xgb)\n",
    "precision_xgb = precision_score(y_valid, y_pred_xgb)\n",
    "\n",
    "y_pred_lr = Logistic_regression_Pipeline.predict(df_valid)\n",
    "acc_lr = accuracy_score(y_valid, y_pred_lr)\n",
    "f1_lr = f1_score(y_valid, y_pred_lr)\n",
    "recall_lr = recall_score(y_valid, y_pred_lr)\n",
    "precision_lr = precision_score(y_valid, y_pred_lr)\n",
    "\n",
    "results = pd.DataFrame({\n",
    "    \"Modelo\": [\"Árbol de Decisión\", \"XGBoost\", \"Regresión Logística\"],\n",
    "    \"Accuracy\": [acc_dt, acc_xgb, acc_lr],\n",
    "    \"Precision\": [precision_dt, precision_xgb, precision_lr],\n",
    "    \"Recall\": [recall_dt, recall_xgb, recall_lr],\n",
    "    \"F1-score\": [f1_dt, f1_xgb, f1_lr]\n",
    "})\n",
    "\n",
    "results\n"
   ]
  },
  {
   "cell_type": "markdown",
   "metadata": {},
   "source": [
    "1. ¿Hay algún clasificador que supere al modelo baseline?  \n",
    "Respuesta:  En general, los tres modelos superan al modelo baseline, porque todos tienen una precisión, recall y f1-score distinto de cero para la clase 0 (que es la minoritaria)."
   ]
  },
  {
   "cell_type": "markdown",
   "metadata": {},
   "source": [
    "2. ¿Cuál es el mejor clasificador entrenado y por qué?  \n",
    "Respuesta: Dado que nuestras clases están desbalanceadas, queremos enfocarnos en f1-score, precision y recall. El que tiene mejor métricas en las tres es el modelo Árbol de Decisión. Entre los modelos evaluados (Árbol de Decisión, XGBoost y Regresión Logística), el Árbol de Decisión mostró el mayor rendimiento en el conjunto de validación, alcanzando el valor más alto de F1-score (0.975). Este indicador balancea precisión y exhaustividad, y es especialmente útil cuando queremos evitar tanto falsos positivos como falsos negativos.\n",
    "Además, este modelo tiene la ventaja de ser más interpretable, lo cual es importante en contextos donde se requiere explicar decisiones. "
   ]
  },
  {
   "cell_type": "markdown",
   "metadata": {},
   "source": [
    "3. ¿Qué factores hacen que el mejor clasificador sea superior a los otros?  \n",
    "Respuesta: El hecho de que se haya entrenado con class_weight=\"balanced\" también ayuda a mitigar el desbalance en las clases (que en nuestro caso tiene que ver la clase 0 como muy desbalanceada c/r a la clase 1). Además, los árboles de decisión son robustos a outliers, y aunque puede sobreajustar, el árbol tiene hiperparámetros muy intuitivos para controlarlo:\n",
    "\n",
    "    - max_depth: limita la profundidad.\n",
    "    - min_samples_split y min_samples_leaf: controlan el tamaño mínimo de los nodos.\n",
    "    - ccp_alpha: poda el árbol automáticamente."
   ]
  },
  {
   "cell_type": "markdown",
   "metadata": {},
   "source": [
    "4. En términos de `tiempo de entrenamiento`, ¿Qué modelo considera más adecuado para experimentar con grillas de optimización?           \n",
    "Respuesta: En términos de tiempo de entrenamiento, la Regresión Logística es la más adecuada para experimentar con grillas de optimización, porque entrena muy rápido (incluso con muchas interaciones), tiene pocos hiperparámetros relevantes para optimizar (C, penalty y solver). En cambio los otros dos tipos de modelo tienen más hiperparámetros que optimizar, que ralentizarían la optimización. "
   ]
  },
  {
   "cell_type": "markdown",
   "metadata": {},
   "source": [
    "## 📌 Optimización de Hiperparámetros [1.0 puntos]\n",
    "\n",
    "<center>\n",
    "<img src=\"https://media1.giphy.com/media/v1.Y2lkPTc5MGI3NjExcXJkNzdhYjlneHplaGpsbnVkdzh5dnY3Y2VyaTIzamszdGR1czJ2diZlcD12MV9pbnRlcm5hbF9naWZfYnlfaWQmY3Q9Zw/2rqEdFfkMzXmo/giphy.gif\" width=\"300\" height=\"200\">"
   ]
  },
  {
   "cell_type": "markdown",
   "metadata": {},
   "source": [
    "A partir de su análisis anterior, se debe proceder a optimizar el rendimiento del modelo seleccionado mediante la optimización de sus hiperparámetros. Para ello, se espera que implementen `Optuna` para optimizar no solo los hiperparámetros del modelo, sino también los de los preprocesadores utilizados (por ejemplo, OneHot Encoding, Scalers, etc.).\n",
    "\n",
    "Al desarrollar este proceso, deberán responder las siguientes preguntas clave como mínimo:\n",
    "\n",
    "- ¿Qué métrica decidieron optimizar y por qué?\n",
    "\n",
    "- ¿Qué hiperparámetro tuvo un mayor impacto en el rendimiento de su modelo?\n",
    "\n",
    "- ¿Cuánto mejoró el rendimiento del modelo después de la optimización de hiperparámetros?"
   ]
  },
  {
   "cell_type": "code",
   "execution_count": null,
   "metadata": {},
   "outputs": [],
   "source": [
    "#!pip install optuna"
   ]
  },
  {
   "cell_type": "code",
   "execution_count": 195,
   "metadata": {},
   "outputs": [
    {
     "name": "stderr",
     "output_type": "stream",
     "text": [
      "[I 2025-05-13 03:39:51,548] A new study created in memory with name: no-name-3dfa55a9-71fd-4d71-a599-5c91f010d6fe\n",
      "[I 2025-05-13 03:39:52,274] Trial 0 finished with value: 0.038484871795970155 and parameters: {'criterion': 'entropy', 'splitter': 'best', 'max_depth': 7, 'min_samples_split': 19, 'min_samples_leaf': 2, 'min_weight_fraction_leaf': 0.0979914312095726, 'max_features': 'log2', 'max_leaf_nodes': 9, 'min_impurity_decrease': 0.008061064362700222, 'class_weight': 'balanced', 'ccp_alpha': 0.031670187825521175, 'monotonic_cst': None, 'imputer_strategy_num': 'mean', 'imputer_strategy_cat': 'constant', 'scaler': 'robust', 'min_frequency': 0.3180034749718639}. Best is trial 0 with value: 0.038484871795970155.\n",
      "[I 2025-05-13 03:39:52,901] Trial 1 finished with value: 0.038484871795970155 and parameters: {'criterion': 'log_loss', 'splitter': 'random', 'max_depth': 27, 'min_samples_split': 19, 'min_samples_leaf': 3, 'min_weight_fraction_leaf': 0.17053317552512925, 'max_features': 'sqrt', 'max_leaf_nodes': 43, 'min_impurity_decrease': 0.009762149389902226, 'class_weight': 'balanced', 'ccp_alpha': 0.001215798321572692, 'monotonic_cst': None, 'imputer_strategy_num': 'mean', 'imputer_strategy_cat': 'constant', 'scaler': 'standard', 'min_frequency': 0.9283185625877254}. Best is trial 0 with value: 0.038484871795970155.\n",
      "[I 2025-05-13 03:39:53,540] Trial 2 finished with value: 0.038484871795970155 and parameters: {'criterion': 'entropy', 'splitter': 'best', 'max_depth': 11, 'min_samples_split': 12, 'min_samples_leaf': 11, 'min_weight_fraction_leaf': 0.3187149507491033, 'max_features': 'sqrt', 'max_leaf_nodes': 7, 'min_impurity_decrease': 0.029288779063673165, 'class_weight': 'balanced', 'ccp_alpha': 0.019408496310326095, 'monotonic_cst': None, 'imputer_strategy_num': 'mean', 'imputer_strategy_cat': 'constant', 'scaler': 'minmax', 'min_frequency': 0.19579113478929644}. Best is trial 0 with value: 0.038484871795970155.\n",
      "[I 2025-05-13 03:39:54,294] Trial 3 finished with value: 0.038484871795970155 and parameters: {'criterion': 'entropy', 'splitter': 'random', 'max_depth': 17, 'min_samples_split': 3, 'min_samples_leaf': 11, 'min_weight_fraction_leaf': 0.2207652506866885, 'max_features': None, 'max_leaf_nodes': 46, 'min_impurity_decrease': 0.03146993190676313, 'class_weight': 'balanced', 'ccp_alpha': 0.03137790400420317, 'monotonic_cst': None, 'imputer_strategy_num': 'median', 'imputer_strategy_cat': 'constant', 'scaler': 'standard', 'min_frequency': 0.6201325978015367}. Best is trial 0 with value: 0.038484871795970155.\n",
      "[I 2025-05-13 03:39:55,047] Trial 4 finished with value: 0.038484871795970155 and parameters: {'criterion': 'log_loss', 'splitter': 'random', 'max_depth': 35, 'min_samples_split': 14, 'min_samples_leaf': 11, 'min_weight_fraction_leaf': 0.38615919586781966, 'max_features': 'sqrt', 'max_leaf_nodes': 29, 'min_impurity_decrease': 0.004435126687852781, 'class_weight': None, 'ccp_alpha': 0.010316685920289627, 'monotonic_cst': None, 'imputer_strategy_num': 'median', 'imputer_strategy_cat': 'most_frequent', 'scaler': 'standard', 'min_frequency': 0.8735786241067772}. Best is trial 0 with value: 0.038484871795970155.\n",
      "[I 2025-05-13 03:39:55,804] Trial 5 finished with value: 0.038484871795970155 and parameters: {'criterion': 'gini', 'splitter': 'best', 'max_depth': 42, 'min_samples_split': 5, 'min_samples_leaf': 18, 'min_weight_fraction_leaf': 0.040116872830821104, 'max_features': 'log2', 'max_leaf_nodes': 30, 'min_impurity_decrease': 0.006988618831314475, 'class_weight': 'balanced', 'ccp_alpha': 0.008182797143285226, 'monotonic_cst': None, 'imputer_strategy_num': 'median', 'imputer_strategy_cat': 'most_frequent', 'scaler': 'minmax', 'min_frequency': 0.8165994394715771}. Best is trial 0 with value: 0.038484871795970155.\n",
      "[I 2025-05-13 03:39:56,459] Trial 6 finished with value: 0.038484871795970155 and parameters: {'criterion': 'log_loss', 'splitter': 'random', 'max_depth': 47, 'min_samples_split': 13, 'min_samples_leaf': 1, 'min_weight_fraction_leaf': 0.43606195447207574, 'max_features': None, 'max_leaf_nodes': 49, 'min_impurity_decrease': 0.02976925086600219, 'class_weight': None, 'ccp_alpha': 0.01049527965477929, 'monotonic_cst': None, 'imputer_strategy_num': 'mean', 'imputer_strategy_cat': 'most_frequent', 'scaler': 'minmax', 'min_frequency': 0.7755276166950106}. Best is trial 0 with value: 0.038484871795970155.\n",
      "[I 2025-05-13 03:39:57,089] Trial 7 finished with value: 0.038484871795970155 and parameters: {'criterion': 'entropy', 'splitter': 'random', 'max_depth': 4, 'min_samples_split': 7, 'min_samples_leaf': 19, 'min_weight_fraction_leaf': 0.3818028970798804, 'max_features': 'sqrt', 'max_leaf_nodes': 11, 'min_impurity_decrease': 0.03662860486051252, 'class_weight': 'balanced', 'ccp_alpha': 0.013113202214991255, 'monotonic_cst': None, 'imputer_strategy_num': 'mean', 'imputer_strategy_cat': 'constant', 'scaler': 'minmax', 'min_frequency': 0.07513778173580876}. Best is trial 0 with value: 0.038484871795970155.\n",
      "[I 2025-05-13 03:39:57,754] Trial 8 finished with value: 0.038484871795970155 and parameters: {'criterion': 'gini', 'splitter': 'best', 'max_depth': 23, 'min_samples_split': 7, 'min_samples_leaf': 11, 'min_weight_fraction_leaf': 0.39536158241948177, 'max_features': 'log2', 'max_leaf_nodes': 10, 'min_impurity_decrease': 0.008826401600275414, 'class_weight': 'balanced', 'ccp_alpha': 0.03897922367833767, 'monotonic_cst': None, 'imputer_strategy_num': 'mean', 'imputer_strategy_cat': 'most_frequent', 'scaler': 'minmax', 'min_frequency': 0.39624201890265875}. Best is trial 0 with value: 0.038484871795970155.\n",
      "[I 2025-05-13 03:39:58,521] Trial 9 finished with value: 0.038484871795970155 and parameters: {'criterion': 'gini', 'splitter': 'best', 'max_depth': 10, 'min_samples_split': 8, 'min_samples_leaf': 15, 'min_weight_fraction_leaf': 0.0803799480241541, 'max_features': 'sqrt', 'max_leaf_nodes': 42, 'min_impurity_decrease': 0.032725560714056766, 'class_weight': None, 'ccp_alpha': 0.007552894589045012, 'monotonic_cst': None, 'imputer_strategy_num': 'median', 'imputer_strategy_cat': 'constant', 'scaler': 'robust', 'min_frequency': 0.409334006315043}. Best is trial 0 with value: 0.038484871795970155.\n",
      "[I 2025-05-13 03:39:59,305] Trial 10 finished with value: 0.038484871795970155 and parameters: {'criterion': 'entropy', 'splitter': 'best', 'max_depth': 7, 'min_samples_split': 20, 'min_samples_leaf': 5, 'min_weight_fraction_leaf': 0.14481412494387902, 'max_features': 'log2', 'max_leaf_nodes': 9, 'min_impurity_decrease': 0.04734809381950747, 'class_weight': None, 'ccp_alpha': 0.04920757609474302, 'monotonic_cst': None, 'imputer_strategy_num': 'mean', 'imputer_strategy_cat': 'constant', 'scaler': 'robust', 'min_frequency': 0.23675097396734202}. Best is trial 0 with value: 0.038484871795970155.\n",
      "[I 2025-05-13 03:39:59,980] Trial 11 finished with value: 0.038484871795970155 and parameters: {'criterion': 'log_loss', 'splitter': 'random', 'max_depth': 27, 'min_samples_split': 20, 'min_samples_leaf': 1, 'min_weight_fraction_leaf': 0.1821182076450776, 'max_features': 'log2', 'max_leaf_nodes': 40, 'min_impurity_decrease': 0.01694228793288321, 'class_weight': 'balanced', 'ccp_alpha': 0.02760990042327524, 'monotonic_cst': None, 'imputer_strategy_num': 'mean', 'imputer_strategy_cat': 'constant', 'scaler': 'standard', 'min_frequency': 0.5513779655941824}. Best is trial 0 with value: 0.038484871795970155.\n",
      "[I 2025-05-13 03:40:00,668] Trial 12 finished with value: 0.038484871795970155 and parameters: {'criterion': 'log_loss', 'splitter': 'random', 'max_depth': 16, 'min_samples_split': 17, 'min_samples_leaf': 5, 'min_weight_fraction_leaf': 0.11198686295234256, 'max_features': 'sqrt', 'max_leaf_nodes': 48, 'min_impurity_decrease': 0.018439149692109136, 'class_weight': 'balanced', 'ccp_alpha': 0.03768203617395953, 'monotonic_cst': None, 'imputer_strategy_num': 'mean', 'imputer_strategy_cat': 'constant', 'scaler': 'robust', 'min_frequency': 0.7049270826015106}. Best is trial 0 with value: 0.038484871795970155.\n",
      "[I 2025-05-13 03:40:01,401] Trial 13 finished with value: 0.038484871795970155 and parameters: {'criterion': 'log_loss', 'splitter': 'best', 'max_depth': 14, 'min_samples_split': 16, 'min_samples_leaf': 6, 'min_weight_fraction_leaf': 0.2745842772119992, 'max_features': 'log2', 'max_leaf_nodes': 43, 'min_impurity_decrease': 0.01585469066675219, 'class_weight': 'balanced', 'ccp_alpha': 0.0010456783241701954, 'monotonic_cst': None, 'imputer_strategy_num': 'mean', 'imputer_strategy_cat': 'constant', 'scaler': 'robust', 'min_frequency': 0.9468049264135636}. Best is trial 0 with value: 0.038484871795970155.\n",
      "[I 2025-05-13 03:40:02,135] Trial 14 finished with value: 0.038484871795970155 and parameters: {'criterion': 'entropy', 'splitter': 'random', 'max_depth': 34, 'min_samples_split': 17, 'min_samples_leaf': 7, 'min_weight_fraction_leaf': 0.011847705752916049, 'max_features': None, 'max_leaf_nodes': 20, 'min_impurity_decrease': 0.0018191578976453227, 'class_weight': 'balanced', 'ccp_alpha': 0.02237872934342736, 'monotonic_cst': None, 'imputer_strategy_num': 'mean', 'imputer_strategy_cat': 'constant', 'scaler': 'standard', 'min_frequency': 0.37699597076637836}. Best is trial 0 with value: 0.038484871795970155.\n",
      "[I 2025-05-13 03:40:02,827] Trial 15 finished with value: 0.038484871795970155 and parameters: {'criterion': 'entropy', 'splitter': 'best', 'max_depth': 18, 'min_samples_split': 19, 'min_samples_leaf': 3, 'min_weight_fraction_leaf': 0.17525734202128088, 'max_features': 'sqrt', 'max_leaf_nodes': 31, 'min_impurity_decrease': 0.011635548477588416, 'class_weight': 'balanced', 'ccp_alpha': 0.035436536905741355, 'monotonic_cst': None, 'imputer_strategy_num': 'mean', 'imputer_strategy_cat': 'constant', 'scaler': 'robust', 'min_frequency': 0.9826099093114827}. Best is trial 0 with value: 0.038484871795970155.\n",
      "[I 2025-05-13 03:40:03,493] Trial 16 finished with value: 0.038484871795970155 and parameters: {'criterion': 'log_loss', 'splitter': 'best', 'max_depth': 7, 'min_samples_split': 15, 'min_samples_leaf': 8, 'min_weight_fraction_leaf': 0.07506657711993772, 'max_features': 'log2', 'max_leaf_nodes': 14, 'min_impurity_decrease': 0.022319938141008563, 'class_weight': 'balanced', 'ccp_alpha': 0.04750866147991148, 'monotonic_cst': None, 'imputer_strategy_num': 'mean', 'imputer_strategy_cat': 'constant', 'scaler': 'standard', 'min_frequency': 0.26647901490569825}. Best is trial 0 with value: 0.038484871795970155.\n",
      "[I 2025-05-13 03:40:04,172] Trial 17 finished with value: 0.038484871795970155 and parameters: {'criterion': 'log_loss', 'splitter': 'random', 'max_depth': 30, 'min_samples_split': 10, 'min_samples_leaf': 3, 'min_weight_fraction_leaf': 0.294607919973996, 'max_features': 'sqrt', 'max_leaf_nodes': 13, 'min_impurity_decrease': 0.012339825707836871, 'class_weight': 'balanced', 'ccp_alpha': 0.017641676793105233, 'monotonic_cst': None, 'imputer_strategy_num': 'mean', 'imputer_strategy_cat': 'constant', 'scaler': 'standard', 'min_frequency': 0.041994011296772715}. Best is trial 0 with value: 0.038484871795970155.\n",
      "[I 2025-05-13 03:40:04,983] Trial 18 finished with value: 0.038484871795970155 and parameters: {'criterion': 'entropy', 'splitter': 'random', 'max_depth': 8, 'min_samples_split': 17, 'min_samples_leaf': 8, 'min_weight_fraction_leaf': 0.21972017852091563, 'max_features': 'log2', 'max_leaf_nodes': 3, 'min_impurity_decrease': 0.0006178738604679527, 'class_weight': None, 'ccp_alpha': 0.02658833590823037, 'monotonic_cst': None, 'imputer_strategy_num': 'median', 'imputer_strategy_cat': 'most_frequent', 'scaler': 'robust', 'min_frequency': 0.5074349496747115}. Best is trial 0 with value: 0.038484871795970155.\n",
      "[I 2025-05-13 03:40:05,684] Trial 19 finished with value: 0.038484871795970155 and parameters: {'criterion': 'gini', 'splitter': 'best', 'max_depth': 27, 'min_samples_split': 18, 'min_samples_leaf': 14, 'min_weight_fraction_leaf': 0.12157473119232962, 'max_features': None, 'max_leaf_nodes': 9, 'min_impurity_decrease': 0.02418727061431844, 'class_weight': 'balanced', 'ccp_alpha': 1.3105615235646517e-05, 'monotonic_cst': None, 'imputer_strategy_num': 'mean', 'imputer_strategy_cat': 'constant', 'scaler': 'standard', 'min_frequency': 0.6828431881166039}. Best is trial 0 with value: 0.038484871795970155.\n",
      "[I 2025-05-13 03:40:06,425] Trial 20 finished with value: 0.038484871795970155 and parameters: {'criterion': 'log_loss', 'splitter': 'best', 'max_depth': 26, 'min_samples_split': 10, 'min_samples_leaf': 3, 'min_weight_fraction_leaf': 0.23735365079248763, 'max_features': 'log2', 'max_leaf_nodes': 37, 'min_impurity_decrease': 0.01095772409201366, 'class_weight': 'balanced', 'ccp_alpha': 0.04165824541847289, 'monotonic_cst': None, 'imputer_strategy_num': 'mean', 'imputer_strategy_cat': 'constant', 'scaler': 'robust', 'min_frequency': 0.3201732901808012}. Best is trial 0 with value: 0.038484871795970155.\n",
      "[I 2025-05-13 03:40:07,097] Trial 21 finished with value: 0.038484871795970155 and parameters: {'criterion': 'entropy', 'splitter': 'best', 'max_depth': 11, 'min_samples_split': 12, 'min_samples_leaf': 15, 'min_weight_fraction_leaf': 0.32474622812405096, 'max_features': 'sqrt', 'max_leaf_nodes': 7, 'min_impurity_decrease': 0.040686917278609666, 'class_weight': 'balanced', 'ccp_alpha': 0.02024602306598168, 'monotonic_cst': None, 'imputer_strategy_num': 'mean', 'imputer_strategy_cat': 'constant', 'scaler': 'minmax', 'min_frequency': 0.192373043549693}. Best is trial 0 with value: 0.038484871795970155.\n",
      "[I 2025-05-13 03:40:07,768] Trial 22 finished with value: 0.038484871795970155 and parameters: {'criterion': 'entropy', 'splitter': 'best', 'max_depth': 2, 'min_samples_split': 15, 'min_samples_leaf': 9, 'min_weight_fraction_leaf': 0.48514205377459685, 'max_features': 'sqrt', 'max_leaf_nodes': 25, 'min_impurity_decrease': 0.020825126070781335, 'class_weight': 'balanced', 'ccp_alpha': 0.03268447503238017, 'monotonic_cst': None, 'imputer_strategy_num': 'mean', 'imputer_strategy_cat': 'constant', 'scaler': 'minmax', 'min_frequency': 0.1572098784358595}. Best is trial 0 with value: 0.038484871795970155.\n",
      "[I 2025-05-13 03:40:08,438] Trial 23 finished with value: 0.038484871795970155 and parameters: {'criterion': 'entropy', 'splitter': 'best', 'max_depth': 15, 'min_samples_split': 19, 'min_samples_leaf': 13, 'min_weight_fraction_leaf': 0.3218612772779878, 'max_features': 'sqrt', 'max_leaf_nodes': 38, 'min_impurity_decrease': 0.02703347328258919, 'class_weight': 'balanced', 'ccp_alpha': 0.01586115346001577, 'monotonic_cst': None, 'imputer_strategy_num': 'mean', 'imputer_strategy_cat': 'constant', 'scaler': 'minmax', 'min_frequency': 0.15557064891052663}. Best is trial 0 with value: 0.038484871795970155.\n",
      "[I 2025-05-13 03:40:09,091] Trial 24 finished with value: 0.038484871795970155 and parameters: {'criterion': 'entropy', 'splitter': 'best', 'max_depth': 13, 'min_samples_split': 2, 'min_samples_leaf': 4, 'min_weight_fraction_leaf': 0.17149832830546996, 'max_features': 'sqrt', 'max_leaf_nodes': 34, 'min_impurity_decrease': 0.014042756881086594, 'class_weight': 'balanced', 'ccp_alpha': 0.00484115546855831, 'monotonic_cst': None, 'imputer_strategy_num': 'mean', 'imputer_strategy_cat': 'constant', 'scaler': 'minmax', 'min_frequency': 0.44526928310699254}. Best is trial 0 with value: 0.038484871795970155.\n",
      "[I 2025-05-13 03:40:09,733] Trial 25 finished with value: 0.038484871795970155 and parameters: {'criterion': 'entropy', 'splitter': 'best', 'max_depth': 29, 'min_samples_split': 12, 'min_samples_leaf': 1, 'min_weight_fraction_leaf': 0.07643820409025377, 'max_features': 'sqrt', 'max_leaf_nodes': 17, 'min_impurity_decrease': 0.005697342523002183, 'class_weight': 'balanced', 'ccp_alpha': 0.022690155346252773, 'monotonic_cst': None, 'imputer_strategy_num': 'mean', 'imputer_strategy_cat': 'constant', 'scaler': 'standard', 'min_frequency': 0.33507465597666486}. Best is trial 0 with value: 0.038484871795970155.\n",
      "[I 2025-05-13 03:40:10,668] Trial 26 finished with value: 0.038484871795970155 and parameters: {'criterion': 'entropy', 'splitter': 'random', 'max_depth': 50, 'min_samples_split': 14, 'min_samples_leaf': 9, 'min_weight_fraction_leaf': 0.2643105292368908, 'max_features': 'sqrt', 'max_leaf_nodes': 23, 'min_impurity_decrease': 0.03572906393500376, 'class_weight': None, 'ccp_alpha': 0.030124465958194846, 'monotonic_cst': None, 'imputer_strategy_num': 'median', 'imputer_strategy_cat': 'most_frequent', 'scaler': 'robust', 'min_frequency': 0.08807963583614761}. Best is trial 0 with value: 0.038484871795970155.\n",
      "[I 2025-05-13 03:40:11,376] Trial 27 finished with value: 0.038484871795970155 and parameters: {'criterion': 'entropy', 'splitter': 'best', 'max_depth': 38, 'min_samples_split': 18, 'min_samples_leaf': 13, 'min_weight_fraction_leaf': 0.3355643630349244, 'max_features': 'sqrt', 'max_leaf_nodes': 7, 'min_impurity_decrease': 0.027962747225005403, 'class_weight': 'balanced', 'ccp_alpha': 0.04472058311651464, 'monotonic_cst': None, 'imputer_strategy_num': 'mean', 'imputer_strategy_cat': 'constant', 'scaler': 'robust', 'min_frequency': 0.2728248766174711}. Best is trial 0 with value: 0.038484871795970155.\n",
      "[I 2025-05-13 03:40:12,025] Trial 28 finished with value: 0.038484871795970155 and parameters: {'criterion': 'gini', 'splitter': 'random', 'max_depth': 25, 'min_samples_split': 9, 'min_samples_leaf': 6, 'min_weight_fraction_leaf': 0.2040871708767109, 'max_features': 'log2', 'max_leaf_nodes': 35, 'min_impurity_decrease': 0.01982083630988478, 'class_weight': 'balanced', 'ccp_alpha': 0.01768667596741334, 'monotonic_cst': None, 'imputer_strategy_num': 'mean', 'imputer_strategy_cat': 'constant', 'scaler': 'standard', 'min_frequency': 0.48944482405675815}. Best is trial 0 with value: 0.038484871795970155.\n",
      "[I 2025-05-13 03:40:12,783] Trial 29 finished with value: 0.038484871795970155 and parameters: {'criterion': 'log_loss', 'splitter': 'random', 'max_depth': 45, 'min_samples_split': 4, 'min_samples_leaf': 17, 'min_weight_fraction_leaf': 0.10327211168403162, 'max_features': None, 'max_leaf_nodes': 2, 'min_impurity_decrease': 0.04094172964834367, 'class_weight': 'balanced', 'ccp_alpha': 0.03276189760250964, 'monotonic_cst': None, 'imputer_strategy_num': 'median', 'imputer_strategy_cat': 'constant', 'scaler': 'minmax', 'min_frequency': 0.6258365550575583}. Best is trial 0 with value: 0.038484871795970155.\n",
      "[I 2025-05-13 03:40:13,513] Trial 30 finished with value: 0.038484871795970155 and parameters: {'criterion': 'entropy', 'splitter': 'best', 'max_depth': 40, 'min_samples_split': 20, 'min_samples_leaf': 10, 'min_weight_fraction_leaf': 0.1495438567271081, 'max_features': None, 'max_leaf_nodes': 27, 'min_impurity_decrease': 0.02536876946530351, 'class_weight': 'balanced', 'ccp_alpha': 0.0037036421417710463, 'monotonic_cst': None, 'imputer_strategy_num': 'mean', 'imputer_strategy_cat': 'constant', 'scaler': 'standard', 'min_frequency': 0.017334780859167315}. Best is trial 0 with value: 0.038484871795970155.\n",
      "[I 2025-05-13 03:40:14,266] Trial 31 finished with value: 0.038484871795970155 and parameters: {'criterion': 'entropy', 'splitter': 'random', 'max_depth': 48, 'min_samples_split': 2, 'min_samples_leaf': 12, 'min_weight_fraction_leaf': 0.2339643289218374, 'max_features': None, 'max_leaf_nodes': 41, 'min_impurity_decrease': 0.03115133055362174, 'class_weight': 'balanced', 'ccp_alpha': 0.029758283130387007, 'monotonic_cst': None, 'imputer_strategy_num': 'median', 'imputer_strategy_cat': 'constant', 'scaler': 'standard', 'min_frequency': 0.8857373363160179}. Best is trial 0 with value: 0.038484871795970155.\n",
      "[I 2025-05-13 03:40:15,105] Trial 32 finished with value: 0.038484871795970155 and parameters: {'criterion': 'entropy', 'splitter': 'random', 'max_depth': 39, 'min_samples_split': 4, 'min_samples_leaf': 10, 'min_weight_fraction_leaf': 0.21092347184640867, 'max_features': None, 'max_leaf_nodes': 46, 'min_impurity_decrease': 0.03401505446391011, 'class_weight': 'balanced', 'ccp_alpha': 0.03450415074653683, 'monotonic_cst': None, 'imputer_strategy_num': 'median', 'imputer_strategy_cat': 'most_frequent', 'scaler': 'standard', 'min_frequency': 0.5977953017433254}. Best is trial 0 with value: 0.038484871795970155.\n",
      "[I 2025-05-13 03:40:15,920] Trial 33 finished with value: 0.038484871795970155 and parameters: {'criterion': 'entropy', 'splitter': 'random', 'max_depth': 5, 'min_samples_split': 5, 'min_samples_leaf': 12, 'min_weight_fraction_leaf': 0.3686697371673977, 'max_features': None, 'max_leaf_nodes': 32, 'min_impurity_decrease': 0.03970022325067681, 'class_weight': None, 'ccp_alpha': 0.02426726893497229, 'monotonic_cst': None, 'imputer_strategy_num': 'median', 'imputer_strategy_cat': 'constant', 'scaler': 'standard', 'min_frequency': 0.8052006430952376}. Best is trial 0 with value: 0.038484871795970155.\n",
      "[I 2025-05-13 03:40:16,731] Trial 34 finished with value: 0.038484871795970155 and parameters: {'criterion': 'log_loss', 'splitter': 'random', 'max_depth': 17, 'min_samples_split': 13, 'min_samples_leaf': 2, 'min_weight_fraction_leaf': 0.28660952593007305, 'max_features': None, 'max_leaf_nodes': 24, 'min_impurity_decrease': 0.003297568481377181, 'class_weight': 'balanced', 'ccp_alpha': 0.011165445151430626, 'monotonic_cst': None, 'imputer_strategy_num': 'median', 'imputer_strategy_cat': 'most_frequent', 'scaler': 'standard', 'min_frequency': 0.8798622851083935}. Best is trial 0 with value: 0.038484871795970155.\n",
      "[I 2025-05-13 03:40:17,477] Trial 35 finished with value: 0.038484871795970155 and parameters: {'criterion': 'entropy', 'splitter': 'random', 'max_depth': 43, 'min_samples_split': 11, 'min_samples_leaf': 11, 'min_weight_fraction_leaf': 0.04349561295104053, 'max_features': 'sqrt', 'max_leaf_nodes': None, 'min_impurity_decrease': 0.007625081187398133, 'class_weight': 'balanced', 'ccp_alpha': 0.029056991404541134, 'monotonic_cst': None, 'imputer_strategy_num': 'median', 'imputer_strategy_cat': 'constant', 'scaler': 'minmax', 'min_frequency': 0.7322266335988294}. Best is trial 0 with value: 0.038484871795970155.\n",
      "[I 2025-05-13 03:40:18,245] Trial 36 finished with value: 0.038484871795970155 and parameters: {'criterion': 'gini', 'splitter': 'random', 'max_depth': 44, 'min_samples_split': 7, 'min_samples_leaf': 17, 'min_weight_fraction_leaf': 0.4187388064873787, 'max_features': 'log2', 'max_leaf_nodes': 28, 'min_impurity_decrease': 0.04590502441283073, 'class_weight': None, 'ccp_alpha': 0.03989825525428068, 'monotonic_cst': None, 'imputer_strategy_num': 'median', 'imputer_strategy_cat': 'most_frequent', 'scaler': 'minmax', 'min_frequency': 0.2050737973884155}. Best is trial 0 with value: 0.038484871795970155.\n",
      "[I 2025-05-13 03:40:19,015] Trial 37 finished with value: 0.038484871795970155 and parameters: {'criterion': 'entropy', 'splitter': 'best', 'max_depth': 9, 'min_samples_split': 6, 'min_samples_leaf': 9, 'min_weight_fraction_leaf': 0.3600471193558823, 'max_features': 'sqrt', 'max_leaf_nodes': 4, 'min_impurity_decrease': 0.028402797013125064, 'class_weight': 'balanced', 'ccp_alpha': 0.013716522738771643, 'monotonic_cst': None, 'imputer_strategy_num': 'median', 'imputer_strategy_cat': 'constant', 'scaler': 'standard', 'min_frequency': 0.11837178362367554}. Best is trial 0 with value: 0.038484871795970155.\n",
      "[I 2025-05-13 03:40:19,672] Trial 38 finished with value: 0.038484871795970155 and parameters: {'criterion': 'log_loss', 'splitter': 'random', 'max_depth': 46, 'min_samples_split': 15, 'min_samples_leaf': 7, 'min_weight_fraction_leaf': 0.14475352748691395, 'max_features': None, 'max_leaf_nodes': 8, 'min_impurity_decrease': 0.03151994567757887, 'class_weight': 'balanced', 'ccp_alpha': 0.007674570278514436, 'monotonic_cst': None, 'imputer_strategy_num': 'mean', 'imputer_strategy_cat': 'constant', 'scaler': 'minmax', 'min_frequency': 0.3107898337971851}. Best is trial 0 with value: 0.038484871795970155.\n",
      "[I 2025-05-13 03:40:20,346] Trial 39 finished with value: 0.038484871795970155 and parameters: {'criterion': 'gini', 'splitter': 'best', 'max_depth': 28, 'min_samples_split': 8, 'min_samples_leaf': 4, 'min_weight_fraction_leaf': 0.25224011298174276, 'max_features': 'log2', 'max_leaf_nodes': 18, 'min_impurity_decrease': 0.03816783998926049, 'class_weight': None, 'ccp_alpha': 0.025795197516951012, 'monotonic_cst': None, 'imputer_strategy_num': 'mean', 'imputer_strategy_cat': 'constant', 'scaler': 'robust', 'min_frequency': 0.4352934886783895}. Best is trial 0 with value: 0.038484871795970155.\n",
      "[I 2025-05-13 03:40:21,013] Trial 40 finished with value: 0.038484871795970155 and parameters: {'criterion': 'entropy', 'splitter': 'random', 'max_depth': 33, 'min_samples_split': 19, 'min_samples_leaf': 20, 'min_weight_fraction_leaf': 0.025296736988865337, 'max_features': 'sqrt', 'max_leaf_nodes': 5, 'min_impurity_decrease': 0.04408134118892587, 'class_weight': 'balanced', 'ccp_alpha': 0.036178057386049595, 'monotonic_cst': None, 'imputer_strategy_num': 'mean', 'imputer_strategy_cat': 'most_frequent', 'scaler': 'standard', 'min_frequency': 0.7597381985003937}. Best is trial 0 with value: 0.038484871795970155.\n",
      "[I 2025-05-13 03:40:21,782] Trial 41 finished with value: 0.038484871795970155 and parameters: {'criterion': 'log_loss', 'splitter': 'random', 'max_depth': 31, 'min_samples_split': 13, 'min_samples_leaf': 12, 'min_weight_fraction_leaf': 0.3918910390400324, 'max_features': 'sqrt', 'max_leaf_nodes': 43, 'min_impurity_decrease': 0.004586626005323728, 'class_weight': None, 'ccp_alpha': 0.004950754810123452, 'monotonic_cst': None, 'imputer_strategy_num': 'median', 'imputer_strategy_cat': 'most_frequent', 'scaler': 'standard', 'min_frequency': 0.9261509373648616}. Best is trial 0 with value: 0.038484871795970155.\n",
      "[I 2025-05-13 03:40:22,548] Trial 42 finished with value: 0.038484871795970155 and parameters: {'criterion': 'log_loss', 'splitter': 'random', 'max_depth': 36, 'min_samples_split': 16, 'min_samples_leaf': 11, 'min_weight_fraction_leaf': 0.493524528236974, 'max_features': 'sqrt', 'max_leaf_nodes': 29, 'min_impurity_decrease': 0.00949675017649253, 'class_weight': None, 'ccp_alpha': 0.01194966737690777, 'monotonic_cst': None, 'imputer_strategy_num': 'median', 'imputer_strategy_cat': 'most_frequent', 'scaler': 'standard', 'min_frequency': 0.881941219291248}. Best is trial 0 with value: 0.038484871795970155.\n",
      "[I 2025-05-13 03:40:23,318] Trial 43 finished with value: 0.038484871795970155 and parameters: {'criterion': 'log_loss', 'splitter': 'random', 'max_depth': 35, 'min_samples_split': 11, 'min_samples_leaf': 14, 'min_weight_fraction_leaf': 0.44147743508587023, 'max_features': 'sqrt', 'max_leaf_nodes': 36, 'min_impurity_decrease': 0.007185658167633905, 'class_weight': None, 'ccp_alpha': 0.008556508815097546, 'monotonic_cst': None, 'imputer_strategy_num': 'median', 'imputer_strategy_cat': 'most_frequent', 'scaler': 'standard', 'min_frequency': 0.8398847875299852}. Best is trial 0 with value: 0.038484871795970155.\n",
      "[I 2025-05-13 03:40:24,110] Trial 44 finished with value: 0.038484871795970155 and parameters: {'criterion': 'log_loss', 'splitter': 'random', 'max_depth': 24, 'min_samples_split': 18, 'min_samples_leaf': 10, 'min_weight_fraction_leaf': 0.19146360517094005, 'max_features': 'log2', 'max_leaf_nodes': 16, 'min_impurity_decrease': 0.014534152274603602, 'class_weight': None, 'ccp_alpha': 0.0027228350586818648, 'monotonic_cst': None, 'imputer_strategy_num': 'median', 'imputer_strategy_cat': 'most_frequent', 'scaler': 'robust', 'min_frequency': 0.9934164684133531}. Best is trial 0 with value: 0.038484871795970155.\n",
      "[I 2025-05-13 03:40:24,872] Trial 45 finished with value: 0.038484871795970155 and parameters: {'criterion': 'log_loss', 'splitter': 'best', 'max_depth': 19, 'min_samples_split': 14, 'min_samples_leaf': 1, 'min_weight_fraction_leaf': 0.30892316320233165, 'max_features': 'sqrt', 'max_leaf_nodes': 19, 'min_impurity_decrease': 0.004263841659554269, 'class_weight': None, 'ccp_alpha': 0.01890064213110824, 'monotonic_cst': None, 'imputer_strategy_num': 'mean', 'imputer_strategy_cat': 'constant', 'scaler': 'standard', 'min_frequency': 0.6560348348105608}. Best is trial 0 with value: 0.038484871795970155.\n",
      "[I 2025-05-13 03:40:25,686] Trial 46 finished with value: 0.038484871795970155 and parameters: {'criterion': 'log_loss', 'splitter': 'random', 'max_depth': 49, 'min_samples_split': 16, 'min_samples_leaf': 8, 'min_weight_fraction_leaf': 0.41728551856566165, 'max_features': 'log2', 'max_leaf_nodes': 47, 'min_impurity_decrease': 0.0176640720793893, 'class_weight': 'balanced', 'ccp_alpha': 0.00886949206248104, 'monotonic_cst': None, 'imputer_strategy_num': 'median', 'imputer_strategy_cat': 'constant', 'scaler': 'robust', 'min_frequency': 0.8255532331401353}. Best is trial 0 with value: 0.038484871795970155.\n",
      "[I 2025-05-13 03:40:26,367] Trial 47 finished with value: 0.038484871795970155 and parameters: {'criterion': 'entropy', 'splitter': 'best', 'max_depth': 20, 'min_samples_split': 10, 'min_samples_leaf': 5, 'min_weight_fraction_leaf': 0.15443580169093155, 'max_features': 'sqrt', 'max_leaf_nodes': 45, 'min_impurity_decrease': 0.0016529394305298001, 'class_weight': 'balanced', 'ccp_alpha': 0.014987634576795833, 'monotonic_cst': None, 'imputer_strategy_num': 'mean', 'imputer_strategy_cat': 'constant', 'scaler': 'standard', 'min_frequency': 0.5578678043178522}. Best is trial 0 with value: 0.038484871795970155.\n",
      "[I 2025-05-13 03:40:27,041] Trial 48 finished with value: 0.038484871795970155 and parameters: {'criterion': 'gini', 'splitter': 'random', 'max_depth': 3, 'min_samples_split': 12, 'min_samples_leaf': 2, 'min_weight_fraction_leaf': 0.05840116513432779, 'max_features': None, 'max_leaf_nodes': 44, 'min_impurity_decrease': 0.009287528178314375, 'class_weight': 'balanced', 'ccp_alpha': 0.03198464565473386, 'monotonic_cst': None, 'imputer_strategy_num': 'mean', 'imputer_strategy_cat': 'most_frequent', 'scaler': 'minmax', 'min_frequency': 0.9377620409365971}. Best is trial 0 with value: 0.038484871795970155.\n",
      "[I 2025-05-13 03:40:27,845] Trial 49 finished with value: 0.038484871795970155 and parameters: {'criterion': 'log_loss', 'splitter': 'best', 'max_depth': None, 'min_samples_split': 17, 'min_samples_leaf': 13, 'min_weight_fraction_leaf': 0.10607456632658374, 'max_features': 'log2', 'max_leaf_nodes': 22, 'min_impurity_decrease': 0.022815704469113532, 'class_weight': None, 'ccp_alpha': 0.021213358507305997, 'monotonic_cst': None, 'imputer_strategy_num': 'median', 'imputer_strategy_cat': 'constant', 'scaler': 'robust', 'min_frequency': 0.7832051678133777}. Best is trial 0 with value: 0.038484871795970155.\n",
      "[I 2025-05-13 03:40:28,493] Trial 50 finished with value: 0.038484871795970155 and parameters: {'criterion': 'entropy', 'splitter': 'random', 'max_depth': 37, 'min_samples_split': 14, 'min_samples_leaf': 15, 'min_weight_fraction_leaf': 0.3518435238500981, 'max_features': 'sqrt', 'max_leaf_nodes': 15, 'min_impurity_decrease': 1.013788666893306e-05, 'class_weight': 'balanced', 'ccp_alpha': 0.02315037635211371, 'monotonic_cst': None, 'imputer_strategy_num': 'mean', 'imputer_strategy_cat': 'constant', 'scaler': 'standard', 'min_frequency': 0.3861441015646918}. Best is trial 0 with value: 0.038484871795970155.\n",
      "[I 2025-05-13 03:40:29,274] Trial 51 finished with value: 0.038484871795970155 and parameters: {'criterion': 'gini', 'splitter': 'best', 'max_depth': 42, 'min_samples_split': 4, 'min_samples_leaf': 17, 'min_weight_fraction_leaf': 0.12571551810663525, 'max_features': 'log2', 'max_leaf_nodes': 30, 'min_impurity_decrease': 0.011874074734281464, 'class_weight': 'balanced', 'ccp_alpha': 0.0009355775644391464, 'monotonic_cst': None, 'imputer_strategy_num': 'median', 'imputer_strategy_cat': 'most_frequent', 'scaler': 'minmax', 'min_frequency': 0.7362177971274394}. Best is trial 0 with value: 0.038484871795970155.\n",
      "[I 2025-05-13 03:40:30,075] Trial 52 finished with value: 0.038484871795970155 and parameters: {'criterion': 'gini', 'splitter': 'best', 'max_depth': 7, 'min_samples_split': 20, 'min_samples_leaf': 18, 'min_weight_fraction_leaf': 0.010348497879007025, 'max_features': 'log2', 'max_leaf_nodes': 21, 'min_impurity_decrease': 0.006540678715958519, 'class_weight': 'balanced', 'ccp_alpha': 0.0052665717954644906, 'monotonic_cst': None, 'imputer_strategy_num': 'median', 'imputer_strategy_cat': 'most_frequent', 'scaler': 'minmax', 'min_frequency': 0.8642247970269255}. Best is trial 0 with value: 0.038484871795970155.\n",
      "[I 2025-05-13 03:40:30,872] Trial 53 finished with value: 0.038484871795970155 and parameters: {'criterion': 'gini', 'splitter': 'best', 'max_depth': 11, 'min_samples_split': 3, 'min_samples_leaf': 16, 'min_weight_fraction_leaf': 0.052252816245090566, 'max_features': 'log2', 'max_leaf_nodes': 33, 'min_impurity_decrease': 0.0028606504206052236, 'class_weight': 'balanced', 'ccp_alpha': 0.010098183780175038, 'monotonic_cst': None, 'imputer_strategy_num': 'median', 'imputer_strategy_cat': 'most_frequent', 'scaler': 'minmax', 'min_frequency': 0.950028384919545}. Best is trial 0 with value: 0.038484871795970155.\n",
      "[I 2025-05-13 03:40:31,551] Trial 54 finished with value: 0.038484871795970155 and parameters: {'criterion': 'gini', 'splitter': 'best', 'max_depth': 21, 'min_samples_split': 3, 'min_samples_leaf': 2, 'min_weight_fraction_leaf': 0.4531957994206052, 'max_features': 'log2', 'max_leaf_nodes': 12, 'min_impurity_decrease': 0.00997068101470202, 'class_weight': 'balanced', 'ccp_alpha': 0.006096827607529144, 'monotonic_cst': None, 'imputer_strategy_num': 'mean', 'imputer_strategy_cat': 'most_frequent', 'scaler': 'minmax', 'min_frequency': 0.697916935903845}. Best is trial 0 with value: 0.038484871795970155.\n",
      "[I 2025-05-13 03:40:32,318] Trial 55 finished with value: 0.038484871795970155 and parameters: {'criterion': 'entropy', 'splitter': 'best', 'max_depth': 6, 'min_samples_split': 6, 'min_samples_leaf': 20, 'min_weight_fraction_leaf': 0.09199186109006699, 'max_features': 'sqrt', 'max_leaf_nodes': 9, 'min_impurity_decrease': 0.03462271350667097, 'class_weight': 'balanced', 'ccp_alpha': 0.027821153943280545, 'monotonic_cst': None, 'imputer_strategy_num': 'median', 'imputer_strategy_cat': 'constant', 'scaler': 'minmax', 'min_frequency': 0.24675548027007838}. Best is trial 0 with value: 0.038484871795970155.\n",
      "[I 2025-05-13 03:40:33,008] Trial 56 finished with value: 0.038484871795970155 and parameters: {'criterion': 'log_loss', 'splitter': 'best', 'max_depth': 12, 'min_samples_split': 19, 'min_samples_leaf': 4, 'min_weight_fraction_leaf': 0.03634395298059803, 'max_features': 'log2', 'max_leaf_nodes': 6, 'min_impurity_decrease': 0.02567879536902213, 'class_weight': 'balanced', 'ccp_alpha': 0.0030241514205391444, 'monotonic_cst': None, 'imputer_strategy_num': 'mean', 'imputer_strategy_cat': 'constant', 'scaler': 'robust', 'min_frequency': 0.9132394847931223}. Best is trial 0 with value: 0.038484871795970155.\n",
      "[I 2025-05-13 03:40:33,708] Trial 57 finished with value: 0.038484871795970155 and parameters: {'criterion': 'entropy', 'splitter': 'best', 'max_depth': 27, 'min_samples_split': 9, 'min_samples_leaf': 14, 'min_weight_fraction_leaf': 0.06695214841228952, 'max_features': 'sqrt', 'max_leaf_nodes': 39, 'min_impurity_decrease': 0.013759344902715402, 'class_weight': 'balanced', 'ccp_alpha': 0.013164450421080973, 'monotonic_cst': None, 'imputer_strategy_num': 'mean', 'imputer_strategy_cat': 'most_frequent', 'scaler': 'standard', 'min_frequency': 0.5501333128503708}. Best is trial 0 with value: 0.038484871795970155.\n",
      "[I 2025-05-13 03:40:34,506] Trial 58 finished with value: 0.038484871795970155 and parameters: {'criterion': 'gini', 'splitter': 'random', 'max_depth': 41, 'min_samples_split': 18, 'min_samples_leaf': 6, 'min_weight_fraction_leaf': 0.23365934116452491, 'max_features': None, 'max_leaf_nodes': 49, 'min_impurity_decrease': 0.030606026053138117, 'class_weight': 'balanced', 'ccp_alpha': 0.016224261708928666, 'monotonic_cst': None, 'imputer_strategy_num': 'median', 'imputer_strategy_cat': 'constant', 'scaler': 'minmax', 'min_frequency': 0.35403032094414694}. Best is trial 0 with value: 0.038484871795970155.\n",
      "[I 2025-05-13 03:40:35,190] Trial 59 finished with value: 0.038484871795970155 and parameters: {'criterion': 'entropy', 'splitter': 'best', 'max_depth': 47, 'min_samples_split': 5, 'min_samples_leaf': 11, 'min_weight_fraction_leaf': 0.12791657014222418, 'max_features': 'sqrt', 'max_leaf_nodes': 29, 'min_impurity_decrease': 0.02916038899248977, 'class_weight': 'balanced', 'ccp_alpha': 0.006926764652686126, 'monotonic_cst': None, 'imputer_strategy_num': 'mean', 'imputer_strategy_cat': 'constant', 'scaler': 'robust', 'min_frequency': 0.29056525417039414}. Best is trial 0 with value: 0.038484871795970155.\n",
      "[I 2025-05-13 03:40:35,840] Trial 60 finished with value: 0.038484871795970155 and parameters: {'criterion': 'log_loss', 'splitter': 'random', 'max_depth': 32, 'min_samples_split': 3, 'min_samples_leaf': 7, 'min_weight_fraction_leaf': 0.26973153140151623, 'max_features': 'log2', 'max_leaf_nodes': 50, 'min_impurity_decrease': 0.005598377475871594, 'class_weight': None, 'ccp_alpha': 0.03431855428375872, 'monotonic_cst': None, 'imputer_strategy_num': 'mean', 'imputer_strategy_cat': 'constant', 'scaler': 'standard', 'min_frequency': 0.2065703335647707}. Best is trial 0 with value: 0.038484871795970155.\n",
      "[I 2025-05-13 03:40:36,635] Trial 61 finished with value: 0.038484871795970155 and parameters: {'criterion': 'log_loss', 'splitter': 'random', 'max_depth': 23, 'min_samples_split': 13, 'min_samples_leaf': 3, 'min_weight_fraction_leaf': 0.4035786104178971, 'max_features': None, 'max_leaf_nodes': 26, 'min_impurity_decrease': 0.02978340276897357, 'class_weight': None, 'ccp_alpha': 0.011563666271637381, 'monotonic_cst': None, 'imputer_strategy_num': 'mean', 'imputer_strategy_cat': 'most_frequent', 'scaler': 'minmax', 'min_frequency': 0.8086378895159839}. Best is trial 0 with value: 0.038484871795970155.\n",
      "[I 2025-05-13 03:40:37,313] Trial 62 finished with value: 0.038484871795970155 and parameters: {'criterion': 'log_loss', 'splitter': 'random', 'max_depth': 17, 'min_samples_split': 12, 'min_samples_leaf': 1, 'min_weight_fraction_leaf': 0.471677876967763, 'max_features': None, 'max_leaf_nodes': 42, 'min_impurity_decrease': 0.03275782750572631, 'class_weight': None, 'ccp_alpha': 0.0024014294596317667, 'monotonic_cst': None, 'imputer_strategy_num': 'mean', 'imputer_strategy_cat': 'most_frequent', 'scaler': 'minmax', 'min_frequency': 0.6506188827690359}. Best is trial 0 with value: 0.038484871795970155.\n",
      "[I 2025-05-13 03:40:37,983] Trial 63 finished with value: 0.038484871795970155 and parameters: {'criterion': 'log_loss', 'splitter': 'random', 'max_depth': 22, 'min_samples_split': 16, 'min_samples_leaf': 2, 'min_weight_fraction_leaf': 0.1868117823852779, 'max_features': None, 'max_leaf_nodes': 46, 'min_impurity_decrease': 0.023377987775876196, 'class_weight': None, 'ccp_alpha': 0.009654116763385255, 'monotonic_cst': None, 'imputer_strategy_num': 'mean', 'imputer_strategy_cat': 'most_frequent', 'scaler': 'minmax', 'min_frequency': 0.9653475092774942}. Best is trial 0 with value: 0.038484871795970155.\n",
      "[I 2025-05-13 03:40:38,659] Trial 64 finished with value: 0.038484871795970155 and parameters: {'criterion': 'entropy', 'splitter': 'random', 'max_depth': 47, 'min_samples_split': 15, 'min_samples_leaf': 3, 'min_weight_fraction_leaf': 0.3425477661282057, 'max_features': None, 'max_leaf_nodes': 30, 'min_impurity_decrease': 0.026052331960446675, 'class_weight': None, 'ccp_alpha': 0.031201342333312346, 'monotonic_cst': None, 'imputer_strategy_num': 'mean', 'imputer_strategy_cat': 'most_frequent', 'scaler': 'minmax', 'min_frequency': 0.7738027436904674}. Best is trial 0 with value: 0.038484871795970155.\n",
      "[I 2025-05-13 03:40:39,516] Trial 65 finished with value: 0.038484871795970155 and parameters: {'criterion': 'log_loss', 'splitter': 'best', 'max_depth': 10, 'min_samples_split': 13, 'min_samples_leaf': 1, 'min_weight_fraction_leaf': 0.30204936142289973, 'max_features': None, 'max_leaf_nodes': 49, 'min_impurity_decrease': 0.007954566707922004, 'class_weight': 'balanced', 'ccp_alpha': 0.019919832057664826, 'monotonic_cst': None, 'imputer_strategy_num': 'median', 'imputer_strategy_cat': 'most_frequent', 'scaler': 'standard', 'min_frequency': 0.8437353578270933}. Best is trial 0 with value: 0.038484871795970155.\n",
      "[I 2025-05-13 03:40:40,165] Trial 66 finished with value: 0.038484871795970155 and parameters: {'criterion': 'entropy', 'splitter': 'random', 'max_depth': 4, 'min_samples_split': 10, 'min_samples_leaf': 12, 'min_weight_fraction_leaf': 0.3809226956107654, 'max_features': 'sqrt', 'max_leaf_nodes': 11, 'min_impurity_decrease': 0.02033622237864642, 'class_weight': 'balanced', 'ccp_alpha': 0.03715330542764726, 'monotonic_cst': None, 'imputer_strategy_num': 'mean', 'imputer_strategy_cat': 'constant', 'scaler': 'minmax', 'min_frequency': 0.9039841980002897}. Best is trial 0 with value: 0.038484871795970155.\n",
      "[I 2025-05-13 03:40:40,883] Trial 67 finished with value: 0.038484871795970155 and parameters: {'criterion': 'log_loss', 'splitter': 'random', 'max_depth': 42, 'min_samples_split': 2, 'min_samples_leaf': 5, 'min_weight_fraction_leaf': 0.16410305476810058, 'max_features': None, 'max_leaf_nodes': 10, 'min_impurity_decrease': 0.03257982281559016, 'class_weight': 'balanced', 'ccp_alpha': 0.01468879163452067, 'monotonic_cst': None, 'imputer_strategy_num': 'mean', 'imputer_strategy_cat': 'constant', 'scaler': 'robust', 'min_frequency': 0.13087637289693588}. Best is trial 0 with value: 0.038484871795970155.\n",
      "[I 2025-05-13 03:40:41,670] Trial 68 finished with value: 0.038484871795970155 and parameters: {'criterion': 'entropy', 'splitter': 'best', 'max_depth': 35, 'min_samples_split': 11, 'min_samples_leaf': 8, 'min_weight_fraction_leaf': 0.09165370780562741, 'max_features': 'sqrt', 'max_leaf_nodes': 7, 'min_impurity_decrease': 0.03553724363117654, 'class_weight': None, 'ccp_alpha': 0.03907658356662897, 'monotonic_cst': None, 'imputer_strategy_num': 'median', 'imputer_strategy_cat': 'most_frequent', 'scaler': 'standard', 'min_frequency': 0.7218926445473736}. Best is trial 0 with value: 0.038484871795970155.\n",
      "[I 2025-05-13 03:40:42,331] Trial 69 finished with value: 0.038484871795970155 and parameters: {'criterion': 'gini', 'splitter': 'random', 'max_depth': 14, 'min_samples_split': 9, 'min_samples_leaf': 9, 'min_weight_fraction_leaf': 0.43580709063684586, 'max_features': 'log2', 'max_leaf_nodes': 48, 'min_impurity_decrease': 0.02713307961309679, 'class_weight': 'balanced', 'ccp_alpha': 0.02710007411057326, 'monotonic_cst': None, 'imputer_strategy_num': 'mean', 'imputer_strategy_cat': 'constant', 'scaler': 'minmax', 'min_frequency': 0.8607229020022057}. Best is trial 0 with value: 0.038484871795970155.\n",
      "[I 2025-05-13 03:40:43,140] Trial 70 finished with value: 0.038484871795970155 and parameters: {'criterion': 'entropy', 'splitter': 'best', 'max_depth': 34, 'min_samples_split': 14, 'min_samples_leaf': 19, 'min_weight_fraction_leaf': 0.28480828365515365, 'max_features': 'sqrt', 'max_leaf_nodes': 13, 'min_impurity_decrease': 0.012768367386828246, 'class_weight': 'balanced', 'ccp_alpha': 0.02486925986907974, 'monotonic_cst': None, 'imputer_strategy_num': 'median', 'imputer_strategy_cat': 'most_frequent', 'scaler': 'standard', 'min_frequency': 0.4826231314270914}. Best is trial 0 with value: 0.038484871795970155.\n",
      "[I 2025-05-13 03:40:43,801] Trial 71 finished with value: 0.038484871795970155 and parameters: {'criterion': 'entropy', 'splitter': 'random', 'max_depth': 16, 'min_samples_split': 5, 'min_samples_leaf': 10, 'min_weight_fraction_leaf': 0.3706434357752516, 'max_features': 'sqrt', 'max_leaf_nodes': 43, 'min_impurity_decrease': 0.03219325651937515, 'class_weight': 'balanced', 'ccp_alpha': 0.012874113178101427, 'monotonic_cst': None, 'imputer_strategy_num': 'mean', 'imputer_strategy_cat': 'constant', 'scaler': 'minmax', 'min_frequency': 0.19020024335931804}. Best is trial 0 with value: 0.038484871795970155.\n",
      "[I 2025-05-13 03:40:44,466] Trial 72 finished with value: 0.038484871795970155 and parameters: {'criterion': 'entropy', 'splitter': 'random', 'max_depth': 4, 'min_samples_split': 7, 'min_samples_leaf': 19, 'min_weight_fraction_leaf': 0.4121623246780833, 'max_features': 'sqrt', 'max_leaf_nodes': 40, 'min_impurity_decrease': 0.04301098439114322, 'class_weight': 'balanced', 'ccp_alpha': 0.017263636353578422, 'monotonic_cst': None, 'imputer_strategy_num': 'mean', 'imputer_strategy_cat': 'constant', 'scaler': 'minmax', 'min_frequency': 0.04277974639073476}. Best is trial 0 with value: 0.038484871795970155.\n",
      "[I 2025-05-13 03:40:45,137] Trial 73 finished with value: 0.038484871795970155 and parameters: {'criterion': 'entropy', 'splitter': 'random', 'max_depth': 8, 'min_samples_split': 17, 'min_samples_leaf': 18, 'min_weight_fraction_leaf': 0.31874320810457996, 'max_features': 'sqrt', 'max_leaf_nodes': 20, 'min_impurity_decrease': 0.037205829040921096, 'class_weight': 'balanced', 'ccp_alpha': 0.01051088956355368, 'monotonic_cst': None, 'imputer_strategy_num': 'mean', 'imputer_strategy_cat': 'constant', 'scaler': 'minmax', 'min_frequency': 0.11011822345483939}. Best is trial 0 with value: 0.038484871795970155.\n",
      "[I 2025-05-13 03:40:45,813] Trial 74 finished with value: 0.038484871795970155 and parameters: {'criterion': 'entropy', 'splitter': 'random', 'max_depth': 18, 'min_samples_split': 6, 'min_samples_leaf': 19, 'min_weight_fraction_leaf': 0.39324137884051213, 'max_features': 'sqrt', 'max_leaf_nodes': 11, 'min_impurity_decrease': 0.037777995235113604, 'class_weight': 'balanced', 'ccp_alpha': 0.008785954645858851, 'monotonic_cst': None, 'imputer_strategy_num': 'mean', 'imputer_strategy_cat': 'constant', 'scaler': 'minmax', 'min_frequency': 0.0722589558470331}. Best is trial 0 with value: 0.038484871795970155.\n",
      "[I 2025-05-13 03:40:46,488] Trial 75 finished with value: 0.038484871795970155 and parameters: {'criterion': 'log_loss', 'splitter': 'random', 'max_depth': 30, 'min_samples_split': 8, 'min_samples_leaf': 13, 'min_weight_fraction_leaf': 0.25391693528444476, 'max_features': None, 'max_leaf_nodes': 3, 'min_impurity_decrease': 0.015661782943438063, 'class_weight': None, 'ccp_alpha': 0.04247864376665837, 'monotonic_cst': None, 'imputer_strategy_num': 'mean', 'imputer_strategy_cat': 'constant', 'scaler': 'standard', 'min_frequency': 0.05791318199291514}. Best is trial 0 with value: 0.038484871795970155.\n",
      "[I 2025-05-13 03:40:47,283] Trial 76 finished with value: 0.038484871795970155 and parameters: {'criterion': 'entropy', 'splitter': 'random', 'max_depth': 7, 'min_samples_split': 20, 'min_samples_leaf': 11, 'min_weight_fraction_leaf': 0.21750229022293346, 'max_features': 'sqrt', 'max_leaf_nodes': 31, 'min_impurity_decrease': 0.001979773994981085, 'class_weight': 'balanced', 'ccp_alpha': 0.006787681301189964, 'monotonic_cst': None, 'imputer_strategy_num': 'median', 'imputer_strategy_cat': 'constant', 'scaler': 'robust', 'min_frequency': 0.41542404032539015}. Best is trial 0 with value: 0.038484871795970155.\n",
      "[I 2025-05-13 03:40:47,960] Trial 77 finished with value: 0.038484871795970155 and parameters: {'criterion': 'log_loss', 'splitter': 'best', 'max_depth': 11, 'min_samples_split': 4, 'min_samples_leaf': 16, 'min_weight_fraction_leaf': 0.4294401316019144, 'max_features': 'log2', 'max_leaf_nodes': 38, 'min_impurity_decrease': 0.005283423622245192, 'class_weight': 'balanced', 'ccp_alpha': 0.004144135149890181, 'monotonic_cst': None, 'imputer_strategy_num': 'mean', 'imputer_strategy_cat': 'constant', 'scaler': 'minmax', 'min_frequency': 0.008135115649670732}. Best is trial 0 with value: 0.038484871795970155.\n",
      "[I 2025-05-13 03:40:48,898] Trial 78 finished with value: 0.038484871795970155 and parameters: {'criterion': 'entropy', 'splitter': 'random', 'max_depth': 27, 'min_samples_split': 12, 'min_samples_leaf': 2, 'min_weight_fraction_leaf': 0.46156283667620507, 'max_features': 'sqrt', 'max_leaf_nodes': 14, 'min_impurity_decrease': 0.04881035390533968, 'class_weight': None, 'ccp_alpha': 0.028547673221753382, 'monotonic_cst': None, 'imputer_strategy_num': 'median', 'imputer_strategy_cat': 'most_frequent', 'scaler': 'standard', 'min_frequency': 0.5902766831196149}. Best is trial 0 with value: 0.038484871795970155.\n",
      "[I 2025-05-13 03:40:49,601] Trial 79 finished with value: 0.038484871795970155 and parameters: {'criterion': 'log_loss', 'splitter': 'random', 'max_depth': 2, 'min_samples_split': 19, 'min_samples_leaf': 3, 'min_weight_fraction_leaf': 0.003101593572064465, 'max_features': None, 'max_leaf_nodes': 37, 'min_impurity_decrease': 0.01022454368738256, 'class_weight': 'balanced', 'ccp_alpha': 4.5257496618064316e-05, 'monotonic_cst': None, 'imputer_strategy_num': 'mean', 'imputer_strategy_cat': 'constant', 'scaler': 'minmax', 'min_frequency': 0.14801621680375257}. Best is trial 0 with value: 0.038484871795970155.\n",
      "[I 2025-05-13 03:40:50,384] Trial 80 finished with value: 0.038484871795970155 and parameters: {'criterion': 'gini', 'splitter': 'best', 'max_depth': 15, 'min_samples_split': 11, 'min_samples_leaf': 4, 'min_weight_fraction_leaf': 0.2054562873841308, 'max_features': 'log2', 'max_leaf_nodes': 9, 'min_impurity_decrease': 0.03352048433058852, 'class_weight': 'balanced', 'ccp_alpha': 0.014071590771634924, 'monotonic_cst': None, 'imputer_strategy_num': 'median', 'imputer_strategy_cat': 'constant', 'scaler': 'standard', 'min_frequency': 0.7996473438675974}. Best is trial 0 with value: 0.038484871795970155.\n",
      "[I 2025-05-13 03:40:51,075] Trial 81 finished with value: 0.038484871795970155 and parameters: {'criterion': 'gini', 'splitter': 'best', 'max_depth': 23, 'min_samples_split': 7, 'min_samples_leaf': 12, 'min_weight_fraction_leaf': 0.38612987131544246, 'max_features': 'log2', 'max_leaf_nodes': 10, 'min_impurity_decrease': 0.008689936176260064, 'class_weight': 'balanced', 'ccp_alpha': 0.04918759934126907, 'monotonic_cst': None, 'imputer_strategy_num': 'mean', 'imputer_strategy_cat': 'most_frequent', 'scaler': 'minmax', 'min_frequency': 0.3458813010730043}. Best is trial 0 with value: 0.038484871795970155.\n",
      "[I 2025-05-13 03:40:51,770] Trial 82 finished with value: 0.038484871795970155 and parameters: {'criterion': 'gini', 'splitter': 'best', 'max_depth': 13, 'min_samples_split': 5, 'min_samples_leaf': 10, 'min_weight_fraction_leaf': 0.3401290897878148, 'max_features': 'log2', 'max_leaf_nodes': 25, 'min_impurity_decrease': 0.006882057369241099, 'class_weight': 'balanced', 'ccp_alpha': 0.04489228353468031, 'monotonic_cst': None, 'imputer_strategy_num': 'mean', 'imputer_strategy_cat': 'most_frequent', 'scaler': 'minmax', 'min_frequency': 0.3122800073012947}. Best is trial 0 with value: 0.038484871795970155.\n",
      "[I 2025-05-13 03:40:52,470] Trial 83 finished with value: 0.038484871795970155 and parameters: {'criterion': 'gini', 'splitter': 'best', 'max_depth': 29, 'min_samples_split': 8, 'min_samples_leaf': 11, 'min_weight_fraction_leaf': 0.3719130669616111, 'max_features': 'log2', 'max_leaf_nodes': 35, 'min_impurity_decrease': 0.010975070455782571, 'class_weight': 'balanced', 'ccp_alpha': 0.00793976869467262, 'monotonic_cst': None, 'imputer_strategy_num': 'mean', 'imputer_strategy_cat': 'most_frequent', 'scaler': 'minmax', 'min_frequency': 0.4590807519573372}. Best is trial 0 with value: 0.038484871795970155.\n",
      "[I 2025-05-13 03:40:53,199] Trial 84 finished with value: 0.038484871795970155 and parameters: {'criterion': 'gini', 'splitter': 'best', 'max_depth': 26, 'min_samples_split': 18, 'min_samples_leaf': 14, 'min_weight_fraction_leaf': 0.39728383904272224, 'max_features': 'log2', 'max_leaf_nodes': 23, 'min_impurity_decrease': 0.0036326859917631925, 'class_weight': 'balanced', 'ccp_alpha': 0.03344380782249525, 'monotonic_cst': None, 'imputer_strategy_num': 'mean', 'imputer_strategy_cat': 'most_frequent', 'scaler': 'robust', 'min_frequency': 0.5235269943498883}. Best is trial 0 with value: 0.038484871795970155.\n",
      "[I 2025-05-13 03:40:53,884] Trial 85 finished with value: 0.038484871795970155 and parameters: {'criterion': 'entropy', 'splitter': 'best', 'max_depth': 50, 'min_samples_split': 6, 'min_samples_leaf': 13, 'min_weight_fraction_leaf': 0.3582164458550947, 'max_features': 'sqrt', 'max_leaf_nodes': 34, 'min_impurity_decrease': 0.029973533162489692, 'class_weight': 'balanced', 'ccp_alpha': 0.011803670315105382, 'monotonic_cst': None, 'imputer_strategy_num': 'mean', 'imputer_strategy_cat': 'most_frequent', 'scaler': 'minmax', 'min_frequency': 0.23643375128173016}. Best is trial 0 with value: 0.038484871795970155.\n",
      "[I 2025-05-13 03:40:54,561] Trial 86 finished with value: 0.038484871795970155 and parameters: {'criterion': 'log_loss', 'splitter': 'random', 'max_depth': 25, 'min_samples_split': 3, 'min_samples_leaf': 9, 'min_weight_fraction_leaf': 0.026581324115605154, 'max_features': 'log2', 'max_leaf_nodes': 46, 'min_impurity_decrease': 0.028268099421507344, 'class_weight': None, 'ccp_alpha': 0.021595895625847898, 'monotonic_cst': None, 'imputer_strategy_num': 'mean', 'imputer_strategy_cat': 'most_frequent', 'scaler': 'minmax', 'min_frequency': 0.3818612388085244}. Best is trial 0 with value: 0.038484871795970155.\n",
      "[I 2025-05-13 03:40:55,343] Trial 87 finished with value: 0.038484871795970155 and parameters: {'criterion': 'gini', 'splitter': 'best', 'max_depth': 38, 'min_samples_split': 14, 'min_samples_leaf': 12, 'min_weight_fraction_leaf': 0.44970626466119923, 'max_features': 'sqrt', 'max_leaf_nodes': 41, 'min_impurity_decrease': 0.036201345453265005, 'class_weight': 'balanced', 'ccp_alpha': 0.018801633923400313, 'monotonic_cst': None, 'imputer_strategy_num': 'median', 'imputer_strategy_cat': 'constant', 'scaler': 'standard', 'min_frequency': 0.9011082019197006}. Best is trial 0 with value: 0.038484871795970155.\n",
      "[I 2025-05-13 03:40:56,000] Trial 88 finished with value: 0.038484871795970155 and parameters: {'criterion': 'entropy', 'splitter': 'random', 'max_depth': 40, 'min_samples_split': 10, 'min_samples_leaf': 18, 'min_weight_fraction_leaf': 0.4236213004281944, 'max_features': None, 'max_leaf_nodes': 17, 'min_impurity_decrease': 0.03910696641600857, 'class_weight': 'balanced', 'ccp_alpha': 0.015915647567434913, 'monotonic_cst': None, 'imputer_strategy_num': 'mean', 'imputer_strategy_cat': 'constant', 'scaler': 'minmax', 'min_frequency': 0.9983985500599968}. Best is trial 0 with value: 0.038484871795970155.\n",
      "[I 2025-05-13 03:40:56,820] Trial 89 finished with value: 0.038484871795970155 and parameters: {'criterion': 'log_loss', 'splitter': 'best', 'max_depth': 39, 'min_samples_split': 13, 'min_samples_leaf': 11, 'min_weight_fraction_leaf': 0.1372794700999302, 'max_features': 'log2', 'max_leaf_nodes': 27, 'min_impurity_decrease': 0.008267221666802986, 'class_weight': None, 'ccp_alpha': 0.03582068678945144, 'monotonic_cst': None, 'imputer_strategy_num': 'median', 'imputer_strategy_cat': 'most_frequent', 'scaler': 'robust', 'min_frequency': 0.7493685499606778}. Best is trial 0 with value: 0.038484871795970155.\n",
      "[I 2025-05-13 03:40:57,488] Trial 90 finished with value: 0.038484871795970155 and parameters: {'criterion': 'entropy', 'splitter': 'random', 'max_depth': 5, 'min_samples_split': 7, 'min_samples_leaf': 1, 'min_weight_fraction_leaf': 0.24015057099719309, 'max_features': 'sqrt', 'max_leaf_nodes': 29, 'min_impurity_decrease': 0.006531876781960868, 'class_weight': 'balanced', 'ccp_alpha': 0.03037807883735127, 'monotonic_cst': None, 'imputer_strategy_num': 'mean', 'imputer_strategy_cat': 'constant', 'scaler': 'standard', 'min_frequency': 0.25208995619301205}. Best is trial 0 with value: 0.038484871795970155.\n",
      "[I 2025-05-13 03:40:58,301] Trial 91 finished with value: 0.038484871795970155 and parameters: {'criterion': 'gini', 'splitter': 'best', 'max_depth': 45, 'min_samples_split': 8, 'min_samples_leaf': 15, 'min_weight_fraction_leaf': 0.11627457996653107, 'max_features': 'sqrt', 'max_leaf_nodes': 42, 'min_impurity_decrease': 0.034032218186012854, 'class_weight': None, 'ccp_alpha': 0.010206931778472969, 'monotonic_cst': None, 'imputer_strategy_num': 'median', 'imputer_strategy_cat': 'constant', 'scaler': 'robust', 'min_frequency': 0.39297041288413204}. Best is trial 0 with value: 0.038484871795970155.\n",
      "[I 2025-05-13 03:40:59,110] Trial 92 finished with value: 0.038484871795970155 and parameters: {'criterion': 'gini', 'splitter': 'best', 'max_depth': 10, 'min_samples_split': 9, 'min_samples_leaf': 20, 'min_weight_fraction_leaf': 0.0836611810304792, 'max_features': 'sqrt', 'max_leaf_nodes': 32, 'min_impurity_decrease': 0.03141207589243923, 'class_weight': None, 'ccp_alpha': 0.005449082223903311, 'monotonic_cst': None, 'imputer_strategy_num': 'median', 'imputer_strategy_cat': 'constant', 'scaler': 'robust', 'min_frequency': 0.41999478514434374}. Best is trial 0 with value: 0.038484871795970155.\n",
      "[I 2025-05-13 03:40:59,925] Trial 93 finished with value: 0.038484871795970155 and parameters: {'criterion': 'gini', 'splitter': 'best', 'max_depth': 17, 'min_samples_split': 7, 'min_samples_leaf': 17, 'min_weight_fraction_leaf': 0.06656989030752565, 'max_features': 'sqrt', 'max_leaf_nodes': 2, 'min_impurity_decrease': 0.0046834994257403785, 'class_weight': None, 'ccp_alpha': 0.0066447940228550805, 'monotonic_cst': None, 'imputer_strategy_num': 'median', 'imputer_strategy_cat': 'constant', 'scaler': 'robust', 'min_frequency': 0.45741962003763004}. Best is trial 0 with value: 0.038484871795970155.\n",
      "[I 2025-05-13 03:41:00,728] Trial 94 finished with value: 0.038484871795970155 and parameters: {'criterion': 'gini', 'splitter': 'best', 'max_depth': 47, 'min_samples_split': 6, 'min_samples_leaf': 16, 'min_weight_fraction_leaf': 0.03582983949627707, 'max_features': 'sqrt', 'max_leaf_nodes': 24, 'min_impurity_decrease': 0.021649962926066656, 'class_weight': None, 'ccp_alpha': 0.001745888404397667, 'monotonic_cst': None, 'imputer_strategy_num': 'median', 'imputer_strategy_cat': 'constant', 'scaler': 'robust', 'min_frequency': 0.3276618258758811}. Best is trial 0 with value: 0.038484871795970155.\n",
      "[I 2025-05-13 03:41:01,521] Trial 95 finished with value: 0.038484871795970155 and parameters: {'criterion': 'gini', 'splitter': 'best', 'max_depth': 9, 'min_samples_split': 4, 'min_samples_leaf': 12, 'min_weight_fraction_leaf': 0.40819879142605675, 'max_features': 'sqrt', 'max_leaf_nodes': 7, 'min_impurity_decrease': 0.026981553708497582, 'class_weight': None, 'ccp_alpha': 0.012382254871064856, 'monotonic_cst': None, 'imputer_strategy_num': 'median', 'imputer_strategy_cat': 'most_frequent', 'scaler': 'minmax', 'min_frequency': 0.2904384685043395}. Best is trial 0 with value: 0.038484871795970155.\n",
      "[I 2025-05-13 03:41:02,198] Trial 96 finished with value: 0.134879938049978 and parameters: {'criterion': 'log_loss', 'splitter': 'random', 'max_depth': 48, 'min_samples_split': 12, 'min_samples_leaf': 2, 'min_weight_fraction_leaf': 0.10076291776904245, 'max_features': None, 'max_leaf_nodes': 4, 'min_impurity_decrease': 0.0010825448782395067, 'class_weight': 'balanced', 'ccp_alpha': 0.004055878591377207, 'monotonic_cst': None, 'imputer_strategy_num': 'mean', 'imputer_strategy_cat': 'constant', 'scaler': 'standard', 'min_frequency': 0.9713299080369998}. Best is trial 0 with value: 0.038484871795970155.\n",
      "[I 2025-05-13 03:41:03,127] Trial 97 finished with value: 0.038484871795970155 and parameters: {'criterion': 'entropy', 'splitter': 'best', 'max_depth': 28, 'min_samples_split': 15, 'min_samples_leaf': 10, 'min_weight_fraction_leaf': 0.04595496775215782, 'max_features': 'log2', 'max_leaf_nodes': 30, 'min_impurity_decrease': 0.03500548291720186, 'class_weight': 'balanced', 'ccp_alpha': 0.00924375478341997, 'monotonic_cst': None, 'imputer_strategy_num': 'median', 'imputer_strategy_cat': 'constant', 'scaler': 'robust', 'min_frequency': 0.8462014650387505}. Best is trial 0 with value: 0.038484871795970155.\n",
      "[I 2025-05-13 03:41:03,804] Trial 98 finished with value: 0.038484871795970155 and parameters: {'criterion': 'gini', 'splitter': 'random', 'max_depth': 43, 'min_samples_split': 5, 'min_samples_leaf': 18, 'min_weight_fraction_leaf': 0.1763151874498134, 'max_features': 'sqrt', 'max_leaf_nodes': None, 'min_impurity_decrease': 0.029210690164846606, 'class_weight': None, 'ccp_alpha': 0.0386406082269047, 'monotonic_cst': None, 'imputer_strategy_num': 'mean', 'imputer_strategy_cat': 'most_frequent', 'scaler': 'minmax', 'min_frequency': 0.828526838296257}. Best is trial 0 with value: 0.038484871795970155.\n",
      "[I 2025-05-13 03:41:04,659] Trial 99 finished with value: 0.038484871795970155 and parameters: {'criterion': 'log_loss', 'splitter': 'best', 'max_depth': 44, 'min_samples_split': 11, 'min_samples_leaf': 9, 'min_weight_fraction_leaf': 0.06973807560005688, 'max_features': None, 'max_leaf_nodes': 43, 'min_impurity_decrease': 0.03630789158632902, 'class_weight': 'balanced', 'ccp_alpha': 0.04146725264160234, 'monotonic_cst': None, 'imputer_strategy_num': 'median', 'imputer_strategy_cat': 'constant', 'scaler': 'standard', 'min_frequency': 0.36103230361278366}. Best is trial 0 with value: 0.038484871795970155.\n",
      "[I 2025-05-13 03:41:05,356] Trial 100 finished with value: 0.038484871795970155 and parameters: {'criterion': 'entropy', 'splitter': 'random', 'max_depth': 46, 'min_samples_split': 20, 'min_samples_leaf': 15, 'min_weight_fraction_leaf': 0.1920290464243065, 'max_features': 'log2', 'max_leaf_nodes': 8, 'min_impurity_decrease': 0.024574003677058275, 'class_weight': 'balanced', 'ccp_alpha': 0.010893888510978143, 'monotonic_cst': None, 'imputer_strategy_num': 'mean', 'imputer_strategy_cat': 'most_frequent', 'scaler': 'minmax', 'min_frequency': 0.689202938677256}. Best is trial 0 with value: 0.038484871795970155.\n",
      "[I 2025-05-13 03:41:06,059] Trial 101 finished with value: 0.038484871795970155 and parameters: {'criterion': 'entropy', 'splitter': 'best', 'max_depth': 7, 'min_samples_split': 19, 'min_samples_leaf': 5, 'min_weight_fraction_leaf': 0.15402153522925827, 'max_features': 'log2', 'max_leaf_nodes': 9, 'min_impurity_decrease': 0.04334422300024997, 'class_weight': None, 'ccp_alpha': 0.02381023884616349, 'monotonic_cst': None, 'imputer_strategy_num': 'mean', 'imputer_strategy_cat': 'constant', 'scaler': 'robust', 'min_frequency': 0.1747225753025511}. Best is trial 0 with value: 0.038484871795970155.\n",
      "[I 2025-05-13 03:41:06,773] Trial 102 finished with value: 0.038484871795970155 and parameters: {'criterion': 'entropy', 'splitter': 'best', 'max_depth': 35, 'min_samples_split': 19, 'min_samples_leaf': 3, 'min_weight_fraction_leaf': 0.1667156026036745, 'max_features': 'log2', 'max_leaf_nodes': 36, 'min_impurity_decrease': 0.0477598869965732, 'class_weight': None, 'ccp_alpha': 0.046420357530037835, 'monotonic_cst': None, 'imputer_strategy_num': 'mean', 'imputer_strategy_cat': 'constant', 'scaler': 'robust', 'min_frequency': 0.6534125203817821}. Best is trial 0 with value: 0.038484871795970155.\n",
      "[I 2025-05-13 03:41:07,463] Trial 103 finished with value: 0.038484871795970155 and parameters: {'criterion': 'entropy', 'splitter': 'best', 'max_depth': 42, 'min_samples_split': 18, 'min_samples_leaf': 1, 'min_weight_fraction_leaf': 0.32944443053861777, 'max_features': 'log2', 'max_leaf_nodes': 5, 'min_impurity_decrease': 0.01907761572690815, 'class_weight': None, 'ccp_alpha': 0.007771135458609597, 'monotonic_cst': None, 'imputer_strategy_num': 'mean', 'imputer_strategy_cat': 'constant', 'scaler': 'robust', 'min_frequency': 0.23151846937608794}. Best is trial 0 with value: 0.038484871795970155.\n",
      "[I 2025-05-13 03:41:08,161] Trial 104 finished with value: 0.038484871795970155 and parameters: {'criterion': 'entropy', 'splitter': 'best', 'max_depth': 7, 'min_samples_split': 20, 'min_samples_leaf': 7, 'min_weight_fraction_leaf': 0.13991089977197793, 'max_features': 'log2', 'max_leaf_nodes': 18, 'min_impurity_decrease': 0.04559294762431372, 'class_weight': None, 'ccp_alpha': 0.02615668383220856, 'monotonic_cst': None, 'imputer_strategy_num': 'mean', 'imputer_strategy_cat': 'constant', 'scaler': 'robust', 'min_frequency': 0.27674802088728734}. Best is trial 0 with value: 0.038484871795970155.\n",
      "[I 2025-05-13 03:41:08,861] Trial 105 finished with value: 0.038484871795970155 and parameters: {'criterion': 'entropy', 'splitter': 'best', 'max_depth': 33, 'min_samples_split': 2, 'min_samples_leaf': 11, 'min_weight_fraction_leaf': 0.10960013092234572, 'max_features': 'sqrt', 'max_leaf_nodes': 49, 'min_impurity_decrease': 0.012559512843176425, 'class_weight': None, 'ccp_alpha': 0.04281364851738699, 'monotonic_cst': None, 'imputer_strategy_num': 'mean', 'imputer_strategy_cat': 'constant', 'scaler': 'robust', 'min_frequency': 0.21445708050839546}. Best is trial 0 with value: 0.038484871795970155.\n",
      "[I 2025-05-13 03:41:09,695] Trial 106 finished with value: 0.038484871795970155 and parameters: {'criterion': 'log_loss', 'splitter': 'random', 'max_depth': 31, 'min_samples_split': 8, 'min_samples_leaf': 13, 'min_weight_fraction_leaf': 0.08281714566402337, 'max_features': 'sqrt', 'max_leaf_nodes': 9, 'min_impurity_decrease': 0.0027261879732817847, 'class_weight': 'balanced', 'ccp_alpha': 0.013669964195083206, 'monotonic_cst': None, 'imputer_strategy_num': 'median', 'imputer_strategy_cat': 'constant', 'scaler': 'standard', 'min_frequency': 0.8776510130834756}. Best is trial 0 with value: 0.038484871795970155.\n",
      "[I 2025-05-13 03:41:10,460] Trial 107 finished with value: 0.038484871795970155 and parameters: {'criterion': 'entropy', 'splitter': 'best', 'max_depth': 49, 'min_samples_split': 17, 'min_samples_leaf': 2, 'min_weight_fraction_leaf': 0.3810500894371684, 'max_features': None, 'max_leaf_nodes': 22, 'min_impurity_decrease': 0.03117192863473922, 'class_weight': None, 'ccp_alpha': 0.04768392724214103, 'monotonic_cst': None, 'imputer_strategy_num': 'mean', 'imputer_strategy_cat': 'most_frequent', 'scaler': 'minmax', 'min_frequency': 0.09374473539902055}. Best is trial 0 with value: 0.038484871795970155.\n",
      "[I 2025-05-13 03:41:11,126] Trial 108 finished with value: 0.038484871795970155 and parameters: {'criterion': 'gini', 'splitter': 'random', 'max_depth': 36, 'min_samples_split': 20, 'min_samples_leaf': 4, 'min_weight_fraction_leaf': 0.13138375022109558, 'max_features': 'log2', 'max_leaf_nodes': 28, 'min_impurity_decrease': 0.04137862597062639, 'class_weight': 'balanced', 'ccp_alpha': 0.014759968798663134, 'monotonic_cst': None, 'imputer_strategy_num': 'mean', 'imputer_strategy_cat': 'constant', 'scaler': 'minmax', 'min_frequency': 0.3989859700990625}. Best is trial 0 with value: 0.038484871795970155.\n",
      "[I 2025-05-13 03:41:11,918] Trial 109 finished with value: 0.038484871795970155 and parameters: {'criterion': 'log_loss', 'splitter': 'best', 'max_depth': 4, 'min_samples_split': 13, 'min_samples_leaf': 19, 'min_weight_fraction_leaf': 0.2281563328877808, 'max_features': 'sqrt', 'max_leaf_nodes': 16, 'min_impurity_decrease': 0.027416533966462445, 'class_weight': 'balanced', 'ccp_alpha': 0.03664023852285809, 'monotonic_cst': None, 'imputer_strategy_num': 'median', 'imputer_strategy_cat': 'constant', 'scaler': 'standard', 'min_frequency': 0.9399817535158471}. Best is trial 0 with value: 0.038484871795970155.\n",
      "[I 2025-05-13 03:41:12,634] Trial 110 finished with value: 0.038484871795970155 and parameters: {'criterion': 'entropy', 'splitter': 'random', 'max_depth': 24, 'min_samples_split': 7, 'min_samples_leaf': 8, 'min_weight_fraction_leaf': 0.47562590768356217, 'max_features': 'log2', 'max_leaf_nodes': 19, 'min_impurity_decrease': 0.0333071156967058, 'class_weight': None, 'ccp_alpha': 0.00578798254810348, 'monotonic_cst': None, 'imputer_strategy_num': 'mean', 'imputer_strategy_cat': 'most_frequent', 'scaler': 'robust', 'min_frequency': 0.5084248612745129}. Best is trial 0 with value: 0.038484871795970155.\n",
      "[I 2025-05-13 03:41:13,304] Trial 111 finished with value: 0.038484871795970155 and parameters: {'criterion': 'log_loss', 'splitter': 'random', 'max_depth': 19, 'min_samples_split': 19, 'min_samples_leaf': 1, 'min_weight_fraction_leaf': 0.19716551746895186, 'max_features': 'log2', 'max_leaf_nodes': 40, 'min_impurity_decrease': 0.010746773126951992, 'class_weight': 'balanced', 'ccp_alpha': 0.03167802877527057, 'monotonic_cst': None, 'imputer_strategy_num': 'mean', 'imputer_strategy_cat': 'constant', 'scaler': 'standard', 'min_frequency': 0.5947819456124595}. Best is trial 0 with value: 0.038484871795970155.\n",
      "[I 2025-05-13 03:41:13,974] Trial 112 finished with value: 0.038484871795970155 and parameters: {'criterion': 'log_loss', 'splitter': 'random', 'max_depth': 27, 'min_samples_split': 20, 'min_samples_leaf': 2, 'min_weight_fraction_leaf': 0.16123319833859637, 'max_features': 'log2', 'max_leaf_nodes': 11, 'min_impurity_decrease': 0.016320162439816096, 'class_weight': 'balanced', 'ccp_alpha': 0.02740796919202365, 'monotonic_cst': None, 'imputer_strategy_num': 'mean', 'imputer_strategy_cat': 'constant', 'scaler': 'standard', 'min_frequency': 0.5595006817138397}. Best is trial 0 with value: 0.038484871795970155.\n",
      "[I 2025-05-13 03:41:14,637] Trial 113 finished with value: 0.038484871795970155 and parameters: {'criterion': 'log_loss', 'splitter': 'random', 'max_depth': 11, 'min_samples_split': 19, 'min_samples_leaf': 1, 'min_weight_fraction_leaf': 0.18509283537926033, 'max_features': 'log2', 'max_leaf_nodes': 10, 'min_impurity_decrease': 0.0066804684740947844, 'class_weight': 'balanced', 'ccp_alpha': 0.02898141327351106, 'monotonic_cst': None, 'imputer_strategy_num': 'mean', 'imputer_strategy_cat': 'constant', 'scaler': 'standard', 'min_frequency': 0.4789396510560418}. Best is trial 0 with value: 0.038484871795970155.\n",
      "[I 2025-05-13 03:41:15,294] Trial 114 finished with value: 0.038484871795970155 and parameters: {'criterion': 'log_loss', 'splitter': 'random', 'max_depth': 23, 'min_samples_split': 18, 'min_samples_leaf': 3, 'min_weight_fraction_leaf': 0.17969094781270825, 'max_features': 'log2', 'max_leaf_nodes': 47, 'min_impurity_decrease': 0.017338332080391705, 'class_weight': 'balanced', 'ccp_alpha': 0.034796685099911774, 'monotonic_cst': None, 'imputer_strategy_num': 'mean', 'imputer_strategy_cat': 'constant', 'scaler': 'standard', 'min_frequency': 0.5218504720589696}. Best is trial 0 with value: 0.038484871795970155.\n",
      "[I 2025-05-13 03:41:15,954] Trial 115 finished with value: 0.038484871795970155 and parameters: {'criterion': 'log_loss', 'splitter': 'random', 'max_depth': 27, 'min_samples_split': 12, 'min_samples_leaf': 10, 'min_weight_fraction_leaf': 0.1475852299354219, 'max_features': None, 'max_leaf_nodes': 45, 'min_impurity_decrease': 0.008762862819444647, 'class_weight': 'balanced', 'ccp_alpha': 0.03314018668716764, 'monotonic_cst': None, 'imputer_strategy_num': 'mean', 'imputer_strategy_cat': 'constant', 'scaler': 'minmax', 'min_frequency': 0.7933235450124619}. Best is trial 0 with value: 0.038484871795970155.\n",
      "[I 2025-05-13 03:41:16,910] Trial 116 finished with value: 0.038484871795970155 and parameters: {'criterion': 'entropy', 'splitter': 'best', 'max_depth': 3, 'min_samples_split': 6, 'min_samples_leaf': 2, 'min_weight_fraction_leaf': 0.21813615008990056, 'max_features': 'sqrt', 'max_leaf_nodes': 44, 'min_impurity_decrease': 0.030321495514656592, 'class_weight': 'balanced', 'ccp_alpha': 0.03085668419602425, 'monotonic_cst': None, 'imputer_strategy_num': 'median', 'imputer_strategy_cat': 'most_frequent', 'scaler': 'standard', 'min_frequency': 0.3624477582547509}. Best is trial 0 with value: 0.038484871795970155.\n",
      "[I 2025-05-13 03:41:17,586] Trial 117 finished with value: 0.038484871795970155 and parameters: {'criterion': 'gini', 'splitter': 'random', 'max_depth': 20, 'min_samples_split': 20, 'min_samples_leaf': 6, 'min_weight_fraction_leaf': 0.31244573066590503, 'max_features': 'log2', 'max_leaf_nodes': 12, 'min_impurity_decrease': 0.005838460967371235, 'class_weight': 'balanced', 'ccp_alpha': 0.029776452904350312, 'monotonic_cst': None, 'imputer_strategy_num': 'mean', 'imputer_strategy_cat': 'constant', 'scaler': 'minmax', 'min_frequency': 0.7731773735404607}. Best is trial 0 with value: 0.038484871795970155.\n",
      "[I 2025-05-13 03:41:18,313] Trial 118 finished with value: 0.038484871795970155 and parameters: {'criterion': 'log_loss', 'splitter': 'best', 'max_depth': None, 'min_samples_split': 9, 'min_samples_leaf': 20, 'min_weight_fraction_leaf': 0.3484017539743317, 'max_features': 'sqrt', 'max_leaf_nodes': 21, 'min_impurity_decrease': 0.013757208399206057, 'class_weight': 'balanced', 'ccp_alpha': 0.02535386847010322, 'monotonic_cst': None, 'imputer_strategy_num': 'mean', 'imputer_strategy_cat': 'constant', 'scaler': 'standard', 'min_frequency': 0.5741233079842949}. Best is trial 0 with value: 0.038484871795970155.\n",
      "[I 2025-05-13 03:41:19,221] Trial 119 finished with value: 0.038484871795970155 and parameters: {'criterion': 'entropy', 'splitter': 'random', 'max_depth': 37, 'min_samples_split': 4, 'min_samples_leaf': 1, 'min_weight_fraction_leaf': 0.05753408631689392, 'max_features': None, 'max_leaf_nodes': 15, 'min_impurity_decrease': 0.009318124941210483, 'class_weight': None, 'ccp_alpha': 0.02293122789013176, 'monotonic_cst': None, 'imputer_strategy_num': 'median', 'imputer_strategy_cat': 'most_frequent', 'scaler': 'minmax', 'min_frequency': 0.9163305547626777}. Best is trial 0 with value: 0.038484871795970155.\n",
      "[I 2025-05-13 03:41:19,973] Trial 120 finished with value: 0.038484871795970155 and parameters: {'criterion': 'gini', 'splitter': 'best', 'max_depth': 10, 'min_samples_split': 19, 'min_samples_leaf': 11, 'min_weight_fraction_leaf': 0.40113981319139297, 'max_features': 'log2', 'max_leaf_nodes': 42, 'min_impurity_decrease': 0.007625020360968595, 'class_weight': 'balanced', 'ccp_alpha': 0.04072852754483738, 'monotonic_cst': None, 'imputer_strategy_num': 'mean', 'imputer_strategy_cat': 'constant', 'scaler': 'robust', 'min_frequency': 0.2973652980178508}. Best is trial 0 with value: 0.038484871795970155.\n",
      "[I 2025-05-13 03:41:20,703] Trial 121 finished with value: 0.038484871795970155 and parameters: {'criterion': 'log_loss', 'splitter': 'random', 'max_depth': 6, 'min_samples_split': 18, 'min_samples_leaf': 3, 'min_weight_fraction_leaf': 0.11750685306011954, 'max_features': 'sqrt', 'max_leaf_nodes': 48, 'min_impurity_decrease': 0.023657246672215297, 'class_weight': 'balanced', 'ccp_alpha': 0.0381273799085462, 'monotonic_cst': None, 'imputer_strategy_num': 'mean', 'imputer_strategy_cat': 'constant', 'scaler': 'robust', 'min_frequency': 0.7180682011007279}. Best is trial 0 with value: 0.038484871795970155.\n",
      "[I 2025-05-13 03:41:21,420] Trial 122 finished with value: 0.038484871795970155 and parameters: {'criterion': 'log_loss', 'splitter': 'random', 'max_depth': 32, 'min_samples_split': 16, 'min_samples_leaf': 12, 'min_weight_fraction_leaf': 0.09102315829052943, 'max_features': 'sqrt', 'max_leaf_nodes': 6, 'min_impurity_decrease': 0.018755821372388334, 'class_weight': 'balanced', 'ccp_alpha': 0.044804859919725326, 'monotonic_cst': None, 'imputer_strategy_num': 'mean', 'imputer_strategy_cat': 'constant', 'scaler': 'robust', 'min_frequency': 0.6138600513161873}. Best is trial 0 with value: 0.038484871795970155.\n",
      "[I 2025-05-13 03:41:22,197] Trial 123 finished with value: 0.038484871795970155 and parameters: {'criterion': 'log_loss', 'splitter': 'random', 'max_depth': 16, 'min_samples_split': 17, 'min_samples_leaf': 4, 'min_weight_fraction_leaf': 0.283439453231133, 'max_features': 'sqrt', 'max_leaf_nodes': 33, 'min_impurity_decrease': 0.03199356584800948, 'class_weight': 'balanced', 'ccp_alpha': 0.049817741266702506, 'monotonic_cst': None, 'imputer_strategy_num': 'mean', 'imputer_strategy_cat': 'constant', 'scaler': 'robust', 'min_frequency': 0.6713568988544487}. Best is trial 0 with value: 0.038484871795970155.\n",
      "[I 2025-05-13 03:41:22,875] Trial 124 finished with value: 0.038484871795970155 and parameters: {'criterion': 'log_loss', 'splitter': 'random', 'max_depth': 12, 'min_samples_split': 14, 'min_samples_leaf': 5, 'min_weight_fraction_leaf': 0.09789076594909682, 'max_features': 'sqrt', 'max_leaf_nodes': 40, 'min_impurity_decrease': 0.022059946842649558, 'class_weight': 'balanced', 'ccp_alpha': 0.03257478760638613, 'monotonic_cst': None, 'imputer_strategy_num': 'mean', 'imputer_strategy_cat': 'constant', 'scaler': 'robust', 'min_frequency': 0.8204708522165247}. Best is trial 0 with value: 0.038484871795970155.\n",
      "[I 2025-05-13 03:41:23,545] Trial 125 finished with value: 0.038484871795970155 and parameters: {'criterion': 'log_loss', 'splitter': 'random', 'max_depth': 14, 'min_samples_split': 20, 'min_samples_leaf': 6, 'min_weight_fraction_leaf': 0.36112333437626304, 'max_features': 'sqrt', 'max_leaf_nodes': 39, 'min_impurity_decrease': 0.028518998084729755, 'class_weight': 'balanced', 'ccp_alpha': 0.03745986577581098, 'monotonic_cst': None, 'imputer_strategy_num': 'mean', 'imputer_strategy_cat': 'most_frequent', 'scaler': 'minmax', 'min_frequency': 0.6260172966616984}. Best is trial 0 with value: 0.038484871795970155.\n",
      "[I 2025-05-13 03:41:24,291] Trial 126 finished with value: 0.038484871795970155 and parameters: {'criterion': 'entropy', 'splitter': 'random', 'max_depth': 21, 'min_samples_split': 19, 'min_samples_leaf': 19, 'min_weight_fraction_leaf': 0.43974979170044826, 'max_features': 'sqrt', 'max_leaf_nodes': 48, 'min_impurity_decrease': 0.026453923293578062, 'class_weight': None, 'ccp_alpha': 0.03466467153318121, 'monotonic_cst': None, 'imputer_strategy_num': 'median', 'imputer_strategy_cat': 'constant', 'scaler': 'standard', 'min_frequency': 0.7100968700415379}. Best is trial 0 with value: 0.038484871795970155.\n",
      "[I 2025-05-13 03:41:24,968] Trial 127 finished with value: 0.038484871795970155 and parameters: {'criterion': 'gini', 'splitter': 'best', 'max_depth': 17, 'min_samples_split': 13, 'min_samples_leaf': 14, 'min_weight_fraction_leaf': 0.12644752521943464, 'max_features': 'log2', 'max_leaf_nodes': 46, 'min_impurity_decrease': 0.015014513114224533, 'class_weight': 'balanced', 'ccp_alpha': 0.028327544979140598, 'monotonic_cst': None, 'imputer_strategy_num': 'mean', 'imputer_strategy_cat': 'constant', 'scaler': 'robust', 'min_frequency': 0.7453134559924361}. Best is trial 0 with value: 0.038484871795970155.\n",
      "[I 2025-05-13 03:41:25,761] Trial 128 finished with value: 0.038484871795970155 and parameters: {'criterion': 'log_loss', 'splitter': 'random', 'max_depth': 34, 'min_samples_split': 5, 'min_samples_leaf': 2, 'min_weight_fraction_leaf': 0.424570698271879, 'max_features': None, 'max_leaf_nodes': 50, 'min_impurity_decrease': 0.02517446870824147, 'class_weight': 'balanced', 'ccp_alpha': 0.01719756467596692, 'monotonic_cst': None, 'imputer_strategy_num': 'median', 'imputer_strategy_cat': 'most_frequent', 'scaler': 'minmax', 'min_frequency': 0.4359345309394311}. Best is trial 0 with value: 0.038484871795970155.\n",
      "[I 2025-05-13 03:41:26,406] Trial 129 finished with value: 0.038484871795970155 and parameters: {'criterion': 'entropy', 'splitter': 'best', 'max_depth': 16, 'min_samples_split': 12, 'min_samples_leaf': 10, 'min_weight_fraction_leaf': 0.11163404647449021, 'max_features': 'sqrt', 'max_leaf_nodes': 29, 'min_impurity_decrease': 0.004934651384582697, 'class_weight': None, 'ccp_alpha': 0.04327354288160057, 'monotonic_cst': None, 'imputer_strategy_num': 'mean', 'imputer_strategy_cat': 'constant', 'scaler': 'standard', 'min_frequency': 0.8921077362897415}. Best is trial 0 with value: 0.038484871795970155.\n",
      "[I 2025-05-13 03:41:27,081] Trial 130 finished with value: 0.038484871795970155 and parameters: {'criterion': 'entropy', 'splitter': 'random', 'max_depth': 41, 'min_samples_split': 3, 'min_samples_leaf': 17, 'min_weight_fraction_leaf': 0.49460238667888395, 'max_features': 'log2', 'max_leaf_nodes': 26, 'min_impurity_decrease': 0.004081590651486432, 'class_weight': 'balanced', 'ccp_alpha': 0.011399174620361696, 'monotonic_cst': None, 'imputer_strategy_num': 'mean', 'imputer_strategy_cat': 'most_frequent', 'scaler': 'minmax', 'min_frequency': 0.17415723701877914}. Best is trial 0 with value: 0.038484871795970155.\n",
      "[I 2025-05-13 03:41:27,760] Trial 131 finished with value: 0.038484871795970155 and parameters: {'criterion': 'log_loss', 'splitter': 'best', 'max_depth': 14, 'min_samples_split': 16, 'min_samples_leaf': 7, 'min_weight_fraction_leaf': 0.2738539825667516, 'max_features': 'log2', 'max_leaf_nodes': 43, 'min_impurity_decrease': 0.011864779445503466, 'class_weight': 'balanced', 'ccp_alpha': 0.0008777666912872154, 'monotonic_cst': None, 'imputer_strategy_num': 'mean', 'imputer_strategy_cat': 'constant', 'scaler': 'robust', 'min_frequency': 0.9622454566610817}. Best is trial 0 with value: 0.038484871795970155.\n",
      "[I 2025-05-13 03:41:28,441] Trial 132 finished with value: 0.038484871795970155 and parameters: {'criterion': 'log_loss', 'splitter': 'best', 'max_depth': 22, 'min_samples_split': 15, 'min_samples_leaf': 6, 'min_weight_fraction_leaf': 0.2597363501250283, 'max_features': 'log2', 'max_leaf_nodes': 43, 'min_impurity_decrease': 0.016413157676493272, 'class_weight': 'balanced', 'ccp_alpha': 0.0037550305783371207, 'monotonic_cst': None, 'imputer_strategy_num': 'mean', 'imputer_strategy_cat': 'constant', 'scaler': 'robust', 'min_frequency': 0.8669171501521394}. Best is trial 0 with value: 0.038484871795970155.\n",
      "[I 2025-05-13 03:41:29,285] Trial 133 finished with value: 0.038484871795970155 and parameters: {'criterion': 'log_loss', 'splitter': 'best', 'max_depth': 7, 'min_samples_split': 10, 'min_samples_leaf': 5, 'min_weight_fraction_leaf': 0.0212255612904306, 'max_features': 'log2', 'max_leaf_nodes': 7, 'min_impurity_decrease': 0.017939228803826066, 'class_weight': 'balanced', 'ccp_alpha': 0.009507953472435517, 'monotonic_cst': None, 'imputer_strategy_num': 'mean', 'imputer_strategy_cat': 'constant', 'scaler': 'robust', 'min_frequency': 0.9346022063655479}. Best is trial 0 with value: 0.038484871795970155.\n",
      "[I 2025-05-13 03:41:29,979] Trial 134 finished with value: 0.038484871795970155 and parameters: {'criterion': 'log_loss', 'splitter': 'best', 'max_depth': 35, 'min_samples_split': 15, 'min_samples_leaf': 4, 'min_weight_fraction_leaf': 0.24424810608796121, 'max_features': 'log2', 'max_leaf_nodes': 20, 'min_impurity_decrease': 0.021067430947457125, 'class_weight': 'balanced', 'ccp_alpha': 0.0021768207891234336, 'monotonic_cst': None, 'imputer_strategy_num': 'mean', 'imputer_strategy_cat': 'constant', 'scaler': 'robust', 'min_frequency': 0.25878557561957216}. Best is trial 0 with value: 0.038484871795970155.\n",
      "[I 2025-05-13 03:41:30,819] Trial 135 finished with value: 0.038484871795970155 and parameters: {'criterion': 'gini', 'splitter': 'best', 'max_depth': 47, 'min_samples_split': 14, 'min_samples_leaf': 11, 'min_weight_fraction_leaf': 0.30018361963106094, 'max_features': 'sqrt', 'max_leaf_nodes': 30, 'min_impurity_decrease': 0.013417950762914325, 'class_weight': 'balanced', 'ccp_alpha': 0.007847622777899714, 'monotonic_cst': None, 'imputer_strategy_num': 'median', 'imputer_strategy_cat': 'constant', 'scaler': 'robust', 'min_frequency': 0.32445565620861466}. Best is trial 0 with value: 0.038484871795970155.\n",
      "[I 2025-05-13 03:41:31,502] Trial 136 finished with value: 0.038484871795970155 and parameters: {'criterion': 'log_loss', 'splitter': 'best', 'max_depth': 42, 'min_samples_split': 18, 'min_samples_leaf': 5, 'min_weight_fraction_leaf': 0.20958087018917965, 'max_features': 'log2', 'max_leaf_nodes': 49, 'min_impurity_decrease': 0.010017487223107423, 'class_weight': None, 'ccp_alpha': 0.039487833648275336, 'monotonic_cst': None, 'imputer_strategy_num': 'mean', 'imputer_strategy_cat': 'constant', 'scaler': 'standard', 'min_frequency': 0.8506099508504515}. Best is trial 0 with value: 0.038484871795970155.\n",
      "[I 2025-05-13 03:41:32,206] Trial 137 finished with value: 0.038484871795970155 and parameters: {'criterion': 'entropy', 'splitter': 'random', 'max_depth': 30, 'min_samples_split': 16, 'min_samples_leaf': 1, 'min_weight_fraction_leaf': 0.07485515635374237, 'max_features': None, 'max_leaf_nodes': 9, 'min_impurity_decrease': 0.007737730964001209, 'class_weight': 'balanced', 'ccp_alpha': 0.01968980415660453, 'monotonic_cst': None, 'imputer_strategy_num': 'mean', 'imputer_strategy_cat': 'most_frequent', 'scaler': 'minmax', 'min_frequency': 0.1349262704400821}. Best is trial 0 with value: 0.038484871795970155.\n",
      "[I 2025-05-13 03:41:33,031] Trial 138 finished with value: 0.038484871795970155 and parameters: {'criterion': 'log_loss', 'splitter': 'best', 'max_depth': 18, 'min_samples_split': 17, 'min_samples_leaf': 13, 'min_weight_fraction_leaf': 0.17233463380434277, 'max_features': 'sqrt', 'max_leaf_nodes': 31, 'min_impurity_decrease': 0.011143918857163194, 'class_weight': 'balanced', 'ccp_alpha': 0.0005500540824500669, 'monotonic_cst': None, 'imputer_strategy_num': 'median', 'imputer_strategy_cat': 'constant', 'scaler': 'robust', 'min_frequency': 0.5415011187649843}. Best is trial 0 with value: 0.038484871795970155.\n",
      "[I 2025-05-13 03:41:33,671] Trial 139 finished with value: 0.038484871795970155 and parameters: {'criterion': 'gini', 'splitter': 'random', 'max_depth': 8, 'min_samples_split': 7, 'min_samples_leaf': 12, 'min_weight_fraction_leaf': 0.22750221710457977, 'max_features': 'log2', 'max_leaf_nodes': 10, 'min_impurity_decrease': 0.029015398139384405, 'class_weight': None, 'ccp_alpha': 0.021710289897640674, 'monotonic_cst': None, 'imputer_strategy_num': 'mean', 'imputer_strategy_cat': 'constant', 'scaler': 'minmax', 'min_frequency': 0.913227696720137}. Best is trial 0 with value: 0.038484871795970155.\n",
      "[I 2025-05-13 03:41:34,373] Trial 140 finished with value: 0.038484871795970155 and parameters: {'criterion': 'entropy', 'splitter': 'best', 'max_depth': 2, 'min_samples_split': 20, 'min_samples_leaf': 8, 'min_weight_fraction_leaf': 0.4139318986271794, 'max_features': 'sqrt', 'max_leaf_nodes': 13, 'min_impurity_decrease': 0.03956189661164578, 'class_weight': 'balanced', 'ccp_alpha': 0.004550765024369185, 'monotonic_cst': None, 'imputer_strategy_num': 'mean', 'imputer_strategy_cat': 'most_frequent', 'scaler': 'standard', 'min_frequency': 0.03378191242051537}. Best is trial 0 with value: 0.038484871795970155.\n",
      "[I 2025-05-13 03:41:35,068] Trial 141 finished with value: 0.038484871795970155 and parameters: {'criterion': 'entropy', 'splitter': 'random', 'max_depth': 34, 'min_samples_split': 17, 'min_samples_leaf': 6, 'min_weight_fraction_leaf': 0.3759882153927438, 'max_features': None, 'max_leaf_nodes': 20, 'min_impurity_decrease': 0.0030751078755279705, 'class_weight': 'balanced', 'ccp_alpha': 0.023778106154759955, 'monotonic_cst': None, 'imputer_strategy_num': 'mean', 'imputer_strategy_cat': 'constant', 'scaler': 'standard', 'min_frequency': 0.3402833727541373}. Best is trial 0 with value: 0.038484871795970155.\n",
      "[I 2025-05-13 03:41:35,774] Trial 142 finished with value: 0.038484871795970155 and parameters: {'criterion': 'entropy', 'splitter': 'random', 'max_depth': 4, 'min_samples_split': 19, 'min_samples_leaf': 7, 'min_weight_fraction_leaf': 0.022699364355795875, 'max_features': None, 'max_leaf_nodes': 3, 'min_impurity_decrease': 0.00019205502699384705, 'class_weight': 'balanced', 'ccp_alpha': 0.026894295615049055, 'monotonic_cst': None, 'imputer_strategy_num': 'mean', 'imputer_strategy_cat': 'constant', 'scaler': 'standard', 'min_frequency': 0.41107068786239753}. Best is trial 0 with value: 0.038484871795970155.\n",
      "[I 2025-05-13 03:41:36,443] Trial 143 finished with value: 0.038484871795970155 and parameters: {'criterion': 'entropy', 'splitter': 'random', 'max_depth': 27, 'min_samples_split': 18, 'min_samples_leaf': 6, 'min_weight_fraction_leaf': 0.3929968144414469, 'max_features': None, 'max_leaf_nodes': 38, 'min_impurity_decrease': 0.0015734188804284082, 'class_weight': 'balanced', 'ccp_alpha': 0.012745070651021472, 'monotonic_cst': None, 'imputer_strategy_num': 'mean', 'imputer_strategy_cat': 'constant', 'scaler': 'standard', 'min_frequency': 0.3659897602303404}. Best is trial 0 with value: 0.038484871795970155.\n",
      "[I 2025-05-13 03:41:37,140] Trial 144 finished with value: 0.06613281961159612 and parameters: {'criterion': 'entropy', 'splitter': 'random', 'max_depth': 23, 'min_samples_split': 8, 'min_samples_leaf': 9, 'min_weight_fraction_leaf': 0.045618638856933215, 'max_features': None, 'max_leaf_nodes': 25, 'min_impurity_decrease': 0.002302779504434524, 'class_weight': 'balanced', 'ccp_alpha': 0.003132938025740317, 'monotonic_cst': None, 'imputer_strategy_num': 'mean', 'imputer_strategy_cat': 'constant', 'scaler': 'standard', 'min_frequency': 0.38091437114734267}. Best is trial 0 with value: 0.038484871795970155.\n",
      "[I 2025-05-13 03:41:37,940] Trial 145 finished with value: 0.038484871795970155 and parameters: {'criterion': 'entropy', 'splitter': 'random', 'max_depth': 11, 'min_samples_split': 17, 'min_samples_leaf': 2, 'min_weight_fraction_leaf': 0.015894672059574712, 'max_features': None, 'max_leaf_nodes': 14, 'min_impurity_decrease': 0.006159179747094264, 'class_weight': 'balanced', 'ccp_alpha': 0.018226682928591843, 'monotonic_cst': None, 'imputer_strategy_num': 'median', 'imputer_strategy_cat': 'constant', 'scaler': 'robust', 'min_frequency': 0.4598265793433708}. Best is trial 0 with value: 0.038484871795970155.\n",
      "[I 2025-05-13 03:41:38,582] Trial 146 finished with value: 0.038484871795970155 and parameters: {'criterion': 'log_loss', 'splitter': 'best', 'max_depth': 15, 'min_samples_split': 6, 'min_samples_leaf': 5, 'min_weight_fraction_leaf': 0.030707201744144538, 'max_features': 'log2', 'max_leaf_nodes': 37, 'min_impurity_decrease': 0.01964670553407427, 'class_weight': None, 'ccp_alpha': 0.020696030566468633, 'monotonic_cst': None, 'imputer_strategy_num': 'mean', 'imputer_strategy_cat': 'constant', 'scaler': 'standard', 'min_frequency': 0.6310983092183037}. Best is trial 0 with value: 0.038484871795970155.\n",
      "[I 2025-05-13 03:41:39,222] Trial 147 finished with value: 0.038484871795970155 and parameters: {'criterion': 'gini', 'splitter': 'random', 'max_depth': 26, 'min_samples_split': 13, 'min_samples_leaf': 11, 'min_weight_fraction_leaf': 0.0008015210753227545, 'max_features': 'sqrt', 'max_leaf_nodes': 23, 'min_impurity_decrease': 0.034199912002306, 'class_weight': 'balanced', 'ccp_alpha': 0.0248212633480121, 'monotonic_cst': None, 'imputer_strategy_num': 'mean', 'imputer_strategy_cat': 'constant', 'scaler': 'minmax', 'min_frequency': 0.8047864972562755}. Best is trial 0 with value: 0.038484871795970155.\n",
      "[I 2025-05-13 03:41:40,035] Trial 148 finished with value: 0.038484871795970155 and parameters: {'criterion': 'entropy', 'splitter': 'best', 'max_depth': 13, 'min_samples_split': 11, 'min_samples_leaf': 4, 'min_weight_fraction_leaf': 0.15631096073089135, 'max_features': 'log2', 'max_leaf_nodes': 11, 'min_impurity_decrease': 0.03072777705590747, 'class_weight': 'balanced', 'ccp_alpha': 0.00685807571667036, 'monotonic_cst': None, 'imputer_strategy_num': 'median', 'imputer_strategy_cat': 'most_frequent', 'scaler': 'robust', 'min_frequency': 0.7682615339300479}. Best is trial 0 with value: 0.038484871795970155.\n",
      "[I 2025-05-13 03:41:40,687] Trial 149 finished with value: 0.038484871795970155 and parameters: {'criterion': 'log_loss', 'splitter': 'random', 'max_depth': 29, 'min_samples_split': 19, 'min_samples_leaf': 18, 'min_weight_fraction_leaf': 0.14218652663708506, 'max_features': None, 'max_leaf_nodes': 35, 'min_impurity_decrease': 0.0038347008577806234, 'class_weight': None, 'ccp_alpha': 0.02258401174116962, 'monotonic_cst': None, 'imputer_strategy_num': 'mean', 'imputer_strategy_cat': 'constant', 'scaler': 'minmax', 'min_frequency': 0.275144322117539}. Best is trial 0 with value: 0.038484871795970155.\n",
      "[I 2025-05-13 03:41:41,335] Trial 150 finished with value: 0.038484871795970155 and parameters: {'criterion': 'entropy', 'splitter': 'best', 'max_depth': 50, 'min_samples_split': 3, 'min_samples_leaf': 3, 'min_weight_fraction_leaf': 0.33127575776069557, 'max_features': 'sqrt', 'max_leaf_nodes': 34, 'min_impurity_decrease': 0.04085961438912689, 'class_weight': 'balanced', 'ccp_alpha': 0.010087484022373276, 'monotonic_cst': None, 'imputer_strategy_num': 'mean', 'imputer_strategy_cat': 'constant', 'scaler': 'standard', 'min_frequency': 0.953226935802608}. Best is trial 0 with value: 0.038484871795970155.\n",
      "[I 2025-05-13 03:41:42,010] Trial 151 finished with value: 0.038484871795970155 and parameters: {'criterion': 'entropy', 'splitter': 'best', 'max_depth': 18, 'min_samples_split': 20, 'min_samples_leaf': 16, 'min_weight_fraction_leaf': 0.1948326330255695, 'max_features': 'sqrt', 'max_leaf_nodes': 42, 'min_impurity_decrease': 0.014585158959457098, 'class_weight': 'balanced', 'ccp_alpha': 0.03582970090473451, 'monotonic_cst': None, 'imputer_strategy_num': 'mean', 'imputer_strategy_cat': 'constant', 'scaler': 'robust', 'min_frequency': 0.9808323698773767}. Best is trial 0 with value: 0.038484871795970155.\n",
      "[I 2025-05-13 03:41:42,809] Trial 152 finished with value: 0.038484871795970155 and parameters: {'criterion': 'entropy', 'splitter': 'best', 'max_depth': 10, 'min_samples_split': 19, 'min_samples_leaf': 3, 'min_weight_fraction_leaf': 0.1687257314765146, 'max_features': 'sqrt', 'max_leaf_nodes': 31, 'min_impurity_decrease': 0.01202706826730694, 'class_weight': 'balanced', 'ccp_alpha': 0.03198705927967716, 'monotonic_cst': None, 'imputer_strategy_num': 'mean', 'imputer_strategy_cat': 'constant', 'scaler': 'robust', 'min_frequency': 0.9871358782482798}. Best is trial 0 with value: 0.038484871795970155.\n",
      "[I 2025-05-13 03:41:43,489] Trial 153 finished with value: 0.038484871795970155 and parameters: {'criterion': 'entropy', 'splitter': 'best', 'max_depth': 25, 'min_samples_split': 18, 'min_samples_leaf': 1, 'min_weight_fraction_leaf': 0.19833339636138517, 'max_features': 'sqrt', 'max_leaf_nodes': 9, 'min_impurity_decrease': 0.007825197330859072, 'class_weight': 'balanced', 'ccp_alpha': 0.040560696101794205, 'monotonic_cst': None, 'imputer_strategy_num': 'mean', 'imputer_strategy_cat': 'constant', 'scaler': 'robust', 'min_frequency': 0.9224251557677337}. Best is trial 0 with value: 0.038484871795970155.\n",
      "[I 2025-05-13 03:41:44,168] Trial 154 finished with value: 0.038484871795970155 and parameters: {'criterion': 'entropy', 'splitter': 'best', 'max_depth': 7, 'min_samples_split': 16, 'min_samples_leaf': 4, 'min_weight_fraction_leaf': 0.18067344075875438, 'max_features': 'sqrt', 'max_leaf_nodes': 17, 'min_impurity_decrease': 0.009907563776306937, 'class_weight': 'balanced', 'ccp_alpha': 0.008453318646689294, 'monotonic_cst': None, 'imputer_strategy_num': 'mean', 'imputer_strategy_cat': 'constant', 'scaler': 'robust', 'min_frequency': 0.8777487553209198}. Best is trial 0 with value: 0.038484871795970155.\n",
      "[I 2025-05-13 03:41:44,981] Trial 155 finished with value: 0.038484871795970155 and parameters: {'criterion': 'gini', 'splitter': 'random', 'max_depth': 38, 'min_samples_split': 20, 'min_samples_leaf': 7, 'min_weight_fraction_leaf': 0.05865266467029776, 'max_features': 'sqrt', 'max_leaf_nodes': 7, 'min_impurity_decrease': 0.015804567278519314, 'class_weight': 'balanced', 'ccp_alpha': 0.03393485651001322, 'monotonic_cst': None, 'imputer_strategy_num': 'median', 'imputer_strategy_cat': 'most_frequent', 'scaler': 'robust', 'min_frequency': 0.22534633153818928}. Best is trial 0 with value: 0.038484871795970155.\n",
      "[I 2025-05-13 03:41:45,654] Trial 156 finished with value: 0.038484871795970155 and parameters: {'criterion': 'log_loss', 'splitter': 'best', 'max_depth': 40, 'min_samples_split': 4, 'min_samples_leaf': 2, 'min_weight_fraction_leaf': 0.1359829718400871, 'max_features': 'log2', 'max_leaf_nodes': 46, 'min_impurity_decrease': 0.03276263018178627, 'class_weight': None, 'ccp_alpha': 0.01094484846509431, 'monotonic_cst': None, 'imputer_strategy_num': 'mean', 'imputer_strategy_cat': 'constant', 'scaler': 'minmax', 'min_frequency': 0.9515035570869882}. Best is trial 0 with value: 0.038484871795970155.\n",
      "[I 2025-05-13 03:41:46,365] Trial 157 finished with value: 0.038484871795970155 and parameters: {'criterion': 'entropy', 'splitter': 'random', 'max_depth': 5, 'min_samples_split': 18, 'min_samples_leaf': 3, 'min_weight_fraction_leaf': 0.45920572053398145, 'max_features': 'sqrt', 'max_leaf_nodes': 43, 'min_impurity_decrease': 0.008613753365733898, 'class_weight': 'balanced', 'ccp_alpha': 0.03523560045701423, 'monotonic_cst': None, 'imputer_strategy_num': 'mean', 'imputer_strategy_cat': 'constant', 'scaler': 'standard', 'min_frequency': 0.8990221374885917}. Best is trial 0 with value: 0.038484871795970155.\n",
      "[I 2025-05-13 03:41:47,196] Trial 158 finished with value: 0.038484871795970155 and parameters: {'criterion': 'log_loss', 'splitter': 'best', 'max_depth': 39, 'min_samples_split': 12, 'min_samples_leaf': 10, 'min_weight_fraction_leaf': 0.3666848800632046, 'max_features': 'log2', 'max_leaf_nodes': 29, 'min_impurity_decrease': 0.04633514983635746, 'class_weight': 'balanced', 'ccp_alpha': 0.030408226559310008, 'monotonic_cst': None, 'imputer_strategy_num': 'median', 'imputer_strategy_cat': 'most_frequent', 'scaler': 'robust', 'min_frequency': 0.3079897970330099}. Best is trial 0 with value: 0.038484871795970155.\n",
      "[W 2025-05-13 03:41:47,788] Trial 159 failed with parameters: {'criterion': 'gini', 'splitter': 'random', 'max_depth': 43, 'min_samples_split': 19, 'min_samples_leaf': 2, 'min_weight_fraction_leaf': 0.08417137816676329, 'max_features': None, 'max_leaf_nodes': 41, 'min_impurity_decrease': 0.011347258780675286, 'class_weight': None, 'ccp_alpha': 0.029415430172400593, 'monotonic_cst': None, 'imputer_strategy_num': 'mean', 'imputer_strategy_cat': 'constant', 'scaler': 'minmax', 'min_frequency': 0.4173826660862707} because of the following error: KeyboardInterrupt().\n",
      "Traceback (most recent call last):\n",
      "  File \"/Library/Developer/CommandLineTools/Library/Frameworks/Python3.framework/Versions/3.9/lib/python3.9/warnings.py\", line 186, in _add_filter\n",
      "    filters.remove(item)\n",
      "ValueError: list.remove(x): x not in list\n",
      "\n",
      "During handling of the above exception, another exception occurred:\n",
      "\n",
      "Traceback (most recent call last):\n",
      "  File \"/Users/diegoespinoza/Library/Python/3.9/lib/python/site-packages/optuna/study/_optimize.py\", line 197, in _run_trial\n",
      "    value_or_values = func(trial)\n",
      "  File \"/var/folders/09/2_xdwnnx5rqgtl8vh2vwkdmc0000gn/T/ipykernel_1538/496528212.py\", line 88, in objective\n",
      "    pipeline.fit(X_train, y_train)\n",
      "  File \"/Users/diegoespinoza/Library/Python/3.9/lib/python/site-packages/sklearn/base.py\", line 1389, in wrapper\n",
      "    return fit_method(estimator, *args, **kwargs)\n",
      "  File \"/Users/diegoespinoza/Library/Python/3.9/lib/python/site-packages/sklearn/pipeline.py\", line 662, in fit\n",
      "    self._final_estimator.fit(Xt, y, **last_step_params[\"fit\"])\n",
      "  File \"/Users/diegoespinoza/Library/Python/3.9/lib/python/site-packages/sklearn/base.py\", line 1389, in wrapper\n",
      "    return fit_method(estimator, *args, **kwargs)\n",
      "  File \"/Users/diegoespinoza/Library/Python/3.9/lib/python/site-packages/sklearn/tree/_classes.py\", line 1024, in fit\n",
      "    super()._fit(\n",
      "  File \"/Users/diegoespinoza/Library/Python/3.9/lib/python/site-packages/sklearn/tree/_classes.py\", line 294, in _fit\n",
      "    check_classification_targets(y)\n",
      "  File \"/Users/diegoespinoza/Library/Python/3.9/lib/python/site-packages/sklearn/utils/multiclass.py\", line 214, in check_classification_targets\n",
      "    y_type = type_of_target(y, input_name=\"y\")\n",
      "  File \"/Users/diegoespinoza/Library/Python/3.9/lib/python/site-packages/sklearn/utils/multiclass.py\", line 333, in type_of_target\n",
      "    if is_multilabel(y):\n",
      "  File \"/Users/diegoespinoza/Library/Python/3.9/lib/python/site-packages/sklearn/utils/multiclass.py\", line 170, in is_multilabel\n",
      "    warnings.simplefilter(\"error\", VisibleDeprecationWarning)\n",
      "  File \"/Library/Developer/CommandLineTools/Library/Frameworks/Python3.framework/Versions/3.9/lib/python3.9/warnings.py\", line 179, in simplefilter\n",
      "    _add_filter(action, None, category, None, lineno, append=append)\n",
      "  File \"/Library/Developer/CommandLineTools/Library/Frameworks/Python3.framework/Versions/3.9/lib/python3.9/warnings.py\", line 186, in _add_filter\n",
      "    filters.remove(item)\n",
      "KeyboardInterrupt\n",
      "[W 2025-05-13 03:41:47,794] Trial 159 failed with value None.\n"
     ]
    },
    {
     "ename": "KeyboardInterrupt",
     "evalue": "",
     "output_type": "error",
     "traceback": [
      "\u001b[0;31m---------------------------------------------------------------------------\u001b[0m",
      "\u001b[0;31mValueError\u001b[0m                                Traceback (most recent call last)",
      "File \u001b[0;32m/Library/Developer/CommandLineTools/Library/Frameworks/Python3.framework/Versions/3.9/lib/python3.9/warnings.py:186\u001b[0m, in \u001b[0;36m_add_filter\u001b[0;34m(append, *item)\u001b[0m\n\u001b[1;32m    185\u001b[0m \u001b[38;5;28;01mtry\u001b[39;00m:\n\u001b[0;32m--> 186\u001b[0m     \u001b[43mfilters\u001b[49m\u001b[38;5;241;43m.\u001b[39;49m\u001b[43mremove\u001b[49m\u001b[43m(\u001b[49m\u001b[43mitem\u001b[49m\u001b[43m)\u001b[49m\n\u001b[1;32m    187\u001b[0m \u001b[38;5;28;01mexcept\u001b[39;00m \u001b[38;5;167;01mValueError\u001b[39;00m:\n",
      "\u001b[0;31mValueError\u001b[0m: list.remove(x): x not in list",
      "\nDuring handling of the above exception, another exception occurred:\n",
      "\u001b[0;31mKeyboardInterrupt\u001b[0m                         Traceback (most recent call last)",
      "Cell \u001b[0;32mIn[195], line 101\u001b[0m\n\u001b[1;32m     99\u001b[0m seconds \u001b[38;5;241m=\u001b[39m minutes \u001b[38;5;241m*\u001b[39m \u001b[38;5;241m60\u001b[39m\n\u001b[1;32m    100\u001b[0m study \u001b[38;5;241m=\u001b[39m optuna\u001b[38;5;241m.\u001b[39mcreate_study(direction\u001b[38;5;241m=\u001b[39m\u001b[38;5;124m\"\u001b[39m\u001b[38;5;124mminimize\u001b[39m\u001b[38;5;124m\"\u001b[39m, sampler\u001b[38;5;241m=\u001b[39msampler)\n\u001b[0;32m--> 101\u001b[0m \u001b[43mstudy\u001b[49m\u001b[38;5;241;43m.\u001b[39;49m\u001b[43moptimize\u001b[49m\u001b[43m(\u001b[49m\u001b[43mobjective\u001b[49m\u001b[43m,\u001b[49m\u001b[43m \u001b[49m\u001b[43mtimeout\u001b[49m\u001b[38;5;241;43m=\u001b[39;49m\u001b[43mseconds\u001b[49m\u001b[43m)\u001b[49m  \n\u001b[1;32m    104\u001b[0m \u001b[38;5;28mprint\u001b[39m(\u001b[38;5;124mf\u001b[39m\u001b[38;5;124m\"\u001b[39m\u001b[38;5;124mN° de trials: \u001b[39m\u001b[38;5;132;01m{\u001b[39;00m\u001b[38;5;28mlen\u001b[39m(study\u001b[38;5;241m.\u001b[39mtrials)\u001b[38;5;132;01m}\u001b[39;00m\u001b[38;5;124m\"\u001b[39m)\n\u001b[1;32m    105\u001b[0m \u001b[38;5;28mprint\u001b[39m(\u001b[38;5;124mf\u001b[39m\u001b[38;5;124m\"\u001b[39m\u001b[38;5;124mMejor F1-score: \u001b[39m\u001b[38;5;132;01m{\u001b[39;00m\u001b[38;5;241m1\u001b[39m\u001b[38;5;250m \u001b[39m\u001b[38;5;241m-\u001b[39m\u001b[38;5;250m \u001b[39mstudy\u001b[38;5;241m.\u001b[39mbest_value\u001b[38;5;132;01m:\u001b[39;00m\u001b[38;5;124m.3f\u001b[39m\u001b[38;5;132;01m}\u001b[39;00m\u001b[38;5;124m\"\u001b[39m)\n",
      "File \u001b[0;32m~/Library/Python/3.9/lib/python/site-packages/optuna/study/study.py:475\u001b[0m, in \u001b[0;36mStudy.optimize\u001b[0;34m(self, func, n_trials, timeout, n_jobs, catch, callbacks, gc_after_trial, show_progress_bar)\u001b[0m\n\u001b[1;32m    373\u001b[0m \u001b[38;5;28;01mdef\u001b[39;00m\u001b[38;5;250m \u001b[39m\u001b[38;5;21moptimize\u001b[39m(\n\u001b[1;32m    374\u001b[0m     \u001b[38;5;28mself\u001b[39m,\n\u001b[1;32m    375\u001b[0m     func: ObjectiveFuncType,\n\u001b[0;32m   (...)\u001b[0m\n\u001b[1;32m    382\u001b[0m     show_progress_bar: \u001b[38;5;28mbool\u001b[39m \u001b[38;5;241m=\u001b[39m \u001b[38;5;28;01mFalse\u001b[39;00m,\n\u001b[1;32m    383\u001b[0m ) \u001b[38;5;241m-\u001b[39m\u001b[38;5;241m>\u001b[39m \u001b[38;5;28;01mNone\u001b[39;00m:\n\u001b[1;32m    384\u001b[0m \u001b[38;5;250m    \u001b[39m\u001b[38;5;124;03m\"\"\"Optimize an objective function.\u001b[39;00m\n\u001b[1;32m    385\u001b[0m \n\u001b[1;32m    386\u001b[0m \u001b[38;5;124;03m    Optimization is done by choosing a suitable set of hyperparameter values from a given\u001b[39;00m\n\u001b[0;32m   (...)\u001b[0m\n\u001b[1;32m    473\u001b[0m \u001b[38;5;124;03m            If nested invocation of this method occurs.\u001b[39;00m\n\u001b[1;32m    474\u001b[0m \u001b[38;5;124;03m    \"\"\"\u001b[39;00m\n\u001b[0;32m--> 475\u001b[0m     \u001b[43m_optimize\u001b[49m\u001b[43m(\u001b[49m\n\u001b[1;32m    476\u001b[0m \u001b[43m        \u001b[49m\u001b[43mstudy\u001b[49m\u001b[38;5;241;43m=\u001b[39;49m\u001b[38;5;28;43mself\u001b[39;49m\u001b[43m,\u001b[49m\n\u001b[1;32m    477\u001b[0m \u001b[43m        \u001b[49m\u001b[43mfunc\u001b[49m\u001b[38;5;241;43m=\u001b[39;49m\u001b[43mfunc\u001b[49m\u001b[43m,\u001b[49m\n\u001b[1;32m    478\u001b[0m \u001b[43m        \u001b[49m\u001b[43mn_trials\u001b[49m\u001b[38;5;241;43m=\u001b[39;49m\u001b[43mn_trials\u001b[49m\u001b[43m,\u001b[49m\n\u001b[1;32m    479\u001b[0m \u001b[43m        \u001b[49m\u001b[43mtimeout\u001b[49m\u001b[38;5;241;43m=\u001b[39;49m\u001b[43mtimeout\u001b[49m\u001b[43m,\u001b[49m\n\u001b[1;32m    480\u001b[0m \u001b[43m        \u001b[49m\u001b[43mn_jobs\u001b[49m\u001b[38;5;241;43m=\u001b[39;49m\u001b[43mn_jobs\u001b[49m\u001b[43m,\u001b[49m\n\u001b[1;32m    481\u001b[0m \u001b[43m        \u001b[49m\u001b[43mcatch\u001b[49m\u001b[38;5;241;43m=\u001b[39;49m\u001b[38;5;28;43mtuple\u001b[39;49m\u001b[43m(\u001b[49m\u001b[43mcatch\u001b[49m\u001b[43m)\u001b[49m\u001b[43m \u001b[49m\u001b[38;5;28;43;01mif\u001b[39;49;00m\u001b[43m \u001b[49m\u001b[38;5;28;43misinstance\u001b[39;49m\u001b[43m(\u001b[49m\u001b[43mcatch\u001b[49m\u001b[43m,\u001b[49m\u001b[43m \u001b[49m\u001b[43mIterable\u001b[49m\u001b[43m)\u001b[49m\u001b[43m \u001b[49m\u001b[38;5;28;43;01melse\u001b[39;49;00m\u001b[43m \u001b[49m\u001b[43m(\u001b[49m\u001b[43mcatch\u001b[49m\u001b[43m,\u001b[49m\u001b[43m)\u001b[49m\u001b[43m,\u001b[49m\n\u001b[1;32m    482\u001b[0m \u001b[43m        \u001b[49m\u001b[43mcallbacks\u001b[49m\u001b[38;5;241;43m=\u001b[39;49m\u001b[43mcallbacks\u001b[49m\u001b[43m,\u001b[49m\n\u001b[1;32m    483\u001b[0m \u001b[43m        \u001b[49m\u001b[43mgc_after_trial\u001b[49m\u001b[38;5;241;43m=\u001b[39;49m\u001b[43mgc_after_trial\u001b[49m\u001b[43m,\u001b[49m\n\u001b[1;32m    484\u001b[0m \u001b[43m        \u001b[49m\u001b[43mshow_progress_bar\u001b[49m\u001b[38;5;241;43m=\u001b[39;49m\u001b[43mshow_progress_bar\u001b[49m\u001b[43m,\u001b[49m\n\u001b[1;32m    485\u001b[0m \u001b[43m    \u001b[49m\u001b[43m)\u001b[49m\n",
      "File \u001b[0;32m~/Library/Python/3.9/lib/python/site-packages/optuna/study/_optimize.py:63\u001b[0m, in \u001b[0;36m_optimize\u001b[0;34m(study, func, n_trials, timeout, n_jobs, catch, callbacks, gc_after_trial, show_progress_bar)\u001b[0m\n\u001b[1;32m     61\u001b[0m \u001b[38;5;28;01mtry\u001b[39;00m:\n\u001b[1;32m     62\u001b[0m     \u001b[38;5;28;01mif\u001b[39;00m n_jobs \u001b[38;5;241m==\u001b[39m \u001b[38;5;241m1\u001b[39m:\n\u001b[0;32m---> 63\u001b[0m         \u001b[43m_optimize_sequential\u001b[49m\u001b[43m(\u001b[49m\n\u001b[1;32m     64\u001b[0m \u001b[43m            \u001b[49m\u001b[43mstudy\u001b[49m\u001b[43m,\u001b[49m\n\u001b[1;32m     65\u001b[0m \u001b[43m            \u001b[49m\u001b[43mfunc\u001b[49m\u001b[43m,\u001b[49m\n\u001b[1;32m     66\u001b[0m \u001b[43m            \u001b[49m\u001b[43mn_trials\u001b[49m\u001b[43m,\u001b[49m\n\u001b[1;32m     67\u001b[0m \u001b[43m            \u001b[49m\u001b[43mtimeout\u001b[49m\u001b[43m,\u001b[49m\n\u001b[1;32m     68\u001b[0m \u001b[43m            \u001b[49m\u001b[43mcatch\u001b[49m\u001b[43m,\u001b[49m\n\u001b[1;32m     69\u001b[0m \u001b[43m            \u001b[49m\u001b[43mcallbacks\u001b[49m\u001b[43m,\u001b[49m\n\u001b[1;32m     70\u001b[0m \u001b[43m            \u001b[49m\u001b[43mgc_after_trial\u001b[49m\u001b[43m,\u001b[49m\n\u001b[1;32m     71\u001b[0m \u001b[43m            \u001b[49m\u001b[43mreseed_sampler_rng\u001b[49m\u001b[38;5;241;43m=\u001b[39;49m\u001b[38;5;28;43;01mFalse\u001b[39;49;00m\u001b[43m,\u001b[49m\n\u001b[1;32m     72\u001b[0m \u001b[43m            \u001b[49m\u001b[43mtime_start\u001b[49m\u001b[38;5;241;43m=\u001b[39;49m\u001b[38;5;28;43;01mNone\u001b[39;49;00m\u001b[43m,\u001b[49m\n\u001b[1;32m     73\u001b[0m \u001b[43m            \u001b[49m\u001b[43mprogress_bar\u001b[49m\u001b[38;5;241;43m=\u001b[39;49m\u001b[43mprogress_bar\u001b[49m\u001b[43m,\u001b[49m\n\u001b[1;32m     74\u001b[0m \u001b[43m        \u001b[49m\u001b[43m)\u001b[49m\n\u001b[1;32m     75\u001b[0m     \u001b[38;5;28;01melse\u001b[39;00m:\n\u001b[1;32m     76\u001b[0m         \u001b[38;5;28;01mif\u001b[39;00m n_jobs \u001b[38;5;241m==\u001b[39m \u001b[38;5;241m-\u001b[39m\u001b[38;5;241m1\u001b[39m:\n",
      "File \u001b[0;32m~/Library/Python/3.9/lib/python/site-packages/optuna/study/_optimize.py:160\u001b[0m, in \u001b[0;36m_optimize_sequential\u001b[0;34m(study, func, n_trials, timeout, catch, callbacks, gc_after_trial, reseed_sampler_rng, time_start, progress_bar)\u001b[0m\n\u001b[1;32m    157\u001b[0m         \u001b[38;5;28;01mbreak\u001b[39;00m\n\u001b[1;32m    159\u001b[0m \u001b[38;5;28;01mtry\u001b[39;00m:\n\u001b[0;32m--> 160\u001b[0m     frozen_trial \u001b[38;5;241m=\u001b[39m \u001b[43m_run_trial\u001b[49m\u001b[43m(\u001b[49m\u001b[43mstudy\u001b[49m\u001b[43m,\u001b[49m\u001b[43m \u001b[49m\u001b[43mfunc\u001b[49m\u001b[43m,\u001b[49m\u001b[43m \u001b[49m\u001b[43mcatch\u001b[49m\u001b[43m)\u001b[49m\n\u001b[1;32m    161\u001b[0m \u001b[38;5;28;01mfinally\u001b[39;00m:\n\u001b[1;32m    162\u001b[0m     \u001b[38;5;66;03m# The following line mitigates memory problems that can be occurred in some\u001b[39;00m\n\u001b[1;32m    163\u001b[0m     \u001b[38;5;66;03m# environments (e.g., services that use computing containers such as GitHub Actions).\u001b[39;00m\n\u001b[1;32m    164\u001b[0m     \u001b[38;5;66;03m# Please refer to the following PR for further details:\u001b[39;00m\n\u001b[1;32m    165\u001b[0m     \u001b[38;5;66;03m# https://github.com/optuna/optuna/pull/325.\u001b[39;00m\n\u001b[1;32m    166\u001b[0m     \u001b[38;5;28;01mif\u001b[39;00m gc_after_trial:\n",
      "File \u001b[0;32m~/Library/Python/3.9/lib/python/site-packages/optuna/study/_optimize.py:248\u001b[0m, in \u001b[0;36m_run_trial\u001b[0;34m(study, func, catch)\u001b[0m\n\u001b[1;32m    241\u001b[0m         \u001b[38;5;28;01massert\u001b[39;00m \u001b[38;5;28;01mFalse\u001b[39;00m, \u001b[38;5;124m\"\u001b[39m\u001b[38;5;124mShould not reach.\u001b[39m\u001b[38;5;124m\"\u001b[39m\n\u001b[1;32m    243\u001b[0m \u001b[38;5;28;01mif\u001b[39;00m (\n\u001b[1;32m    244\u001b[0m     frozen_trial\u001b[38;5;241m.\u001b[39mstate \u001b[38;5;241m==\u001b[39m TrialState\u001b[38;5;241m.\u001b[39mFAIL\n\u001b[1;32m    245\u001b[0m     \u001b[38;5;129;01mand\u001b[39;00m func_err \u001b[38;5;129;01mis\u001b[39;00m \u001b[38;5;129;01mnot\u001b[39;00m \u001b[38;5;28;01mNone\u001b[39;00m\n\u001b[1;32m    246\u001b[0m     \u001b[38;5;129;01mand\u001b[39;00m \u001b[38;5;129;01mnot\u001b[39;00m \u001b[38;5;28misinstance\u001b[39m(func_err, catch)\n\u001b[1;32m    247\u001b[0m ):\n\u001b[0;32m--> 248\u001b[0m     \u001b[38;5;28;01mraise\u001b[39;00m func_err\n\u001b[1;32m    249\u001b[0m \u001b[38;5;28;01mreturn\u001b[39;00m frozen_trial\n",
      "File \u001b[0;32m~/Library/Python/3.9/lib/python/site-packages/optuna/study/_optimize.py:197\u001b[0m, in \u001b[0;36m_run_trial\u001b[0;34m(study, func, catch)\u001b[0m\n\u001b[1;32m    195\u001b[0m \u001b[38;5;28;01mwith\u001b[39;00m get_heartbeat_thread(trial\u001b[38;5;241m.\u001b[39m_trial_id, study\u001b[38;5;241m.\u001b[39m_storage):\n\u001b[1;32m    196\u001b[0m     \u001b[38;5;28;01mtry\u001b[39;00m:\n\u001b[0;32m--> 197\u001b[0m         value_or_values \u001b[38;5;241m=\u001b[39m \u001b[43mfunc\u001b[49m\u001b[43m(\u001b[49m\u001b[43mtrial\u001b[49m\u001b[43m)\u001b[49m\n\u001b[1;32m    198\u001b[0m     \u001b[38;5;28;01mexcept\u001b[39;00m exceptions\u001b[38;5;241m.\u001b[39mTrialPruned \u001b[38;5;28;01mas\u001b[39;00m e:\n\u001b[1;32m    199\u001b[0m         \u001b[38;5;66;03m# TODO(mamu): Handle multi-objective cases.\u001b[39;00m\n\u001b[1;32m    200\u001b[0m         state \u001b[38;5;241m=\u001b[39m TrialState\u001b[38;5;241m.\u001b[39mPRUNED\n",
      "Cell \u001b[0;32mIn[195], line 88\u001b[0m, in \u001b[0;36mobjective\u001b[0;34m(trial)\u001b[0m\n\u001b[1;32m     64\u001b[0m model \u001b[38;5;241m=\u001b[39m DecisionTreeClassifier(\n\u001b[1;32m     65\u001b[0m     criterion\u001b[38;5;241m=\u001b[39mcriterion,\n\u001b[1;32m     66\u001b[0m     splitter\u001b[38;5;241m=\u001b[39msplitter,\n\u001b[0;32m   (...)\u001b[0m\n\u001b[1;32m     77\u001b[0m     monotonic_cst\u001b[38;5;241m=\u001b[39mmonotonic_cst\n\u001b[1;32m     78\u001b[0m )\n\u001b[1;32m     81\u001b[0m pipeline \u001b[38;5;241m=\u001b[39m Pipeline([\n\u001b[1;32m     82\u001b[0m     (\u001b[38;5;124m\"\u001b[39m\u001b[38;5;124mdate_features\u001b[39m\u001b[38;5;124m\"\u001b[39m, DateFeatureExtractor(date_column\u001b[38;5;241m=\u001b[39m\u001b[38;5;124m\"\u001b[39m\u001b[38;5;124mpurchase_date\u001b[39m\u001b[38;5;124m\"\u001b[39m)),\n\u001b[1;32m     83\u001b[0m     (\u001b[38;5;124m\"\u001b[39m\u001b[38;5;124mpreprocessor\u001b[39m\u001b[38;5;124m\"\u001b[39m, preprocessor),\n\u001b[1;32m     84\u001b[0m     (\u001b[38;5;124m\"\u001b[39m\u001b[38;5;124mmodel\u001b[39m\u001b[38;5;124m\"\u001b[39m, model)\n\u001b[1;32m     85\u001b[0m ])\n\u001b[0;32m---> 88\u001b[0m \u001b[43mpipeline\u001b[49m\u001b[38;5;241;43m.\u001b[39;49m\u001b[43mfit\u001b[49m\u001b[43m(\u001b[49m\u001b[43mX_train\u001b[49m\u001b[43m,\u001b[49m\u001b[43m \u001b[49m\u001b[43my_train\u001b[49m\u001b[43m)\u001b[49m\n\u001b[1;32m     89\u001b[0m y_pred \u001b[38;5;241m=\u001b[39m pipeline\u001b[38;5;241m.\u001b[39mpredict(X_valid)\n\u001b[1;32m     90\u001b[0m score \u001b[38;5;241m=\u001b[39m f1_score(y_valid, y_pred, average\u001b[38;5;241m=\u001b[39m\u001b[38;5;124m\"\u001b[39m\u001b[38;5;124mweighted\u001b[39m\u001b[38;5;124m\"\u001b[39m)\n",
      "File \u001b[0;32m~/Library/Python/3.9/lib/python/site-packages/sklearn/base.py:1389\u001b[0m, in \u001b[0;36m_fit_context.<locals>.decorator.<locals>.wrapper\u001b[0;34m(estimator, *args, **kwargs)\u001b[0m\n\u001b[1;32m   1382\u001b[0m     estimator\u001b[38;5;241m.\u001b[39m_validate_params()\n\u001b[1;32m   1384\u001b[0m \u001b[38;5;28;01mwith\u001b[39;00m config_context(\n\u001b[1;32m   1385\u001b[0m     skip_parameter_validation\u001b[38;5;241m=\u001b[39m(\n\u001b[1;32m   1386\u001b[0m         prefer_skip_nested_validation \u001b[38;5;129;01mor\u001b[39;00m global_skip_validation\n\u001b[1;32m   1387\u001b[0m     )\n\u001b[1;32m   1388\u001b[0m ):\n\u001b[0;32m-> 1389\u001b[0m     \u001b[38;5;28;01mreturn\u001b[39;00m \u001b[43mfit_method\u001b[49m\u001b[43m(\u001b[49m\u001b[43mestimator\u001b[49m\u001b[43m,\u001b[49m\u001b[43m \u001b[49m\u001b[38;5;241;43m*\u001b[39;49m\u001b[43margs\u001b[49m\u001b[43m,\u001b[49m\u001b[43m \u001b[49m\u001b[38;5;241;43m*\u001b[39;49m\u001b[38;5;241;43m*\u001b[39;49m\u001b[43mkwargs\u001b[49m\u001b[43m)\u001b[49m\n",
      "File \u001b[0;32m~/Library/Python/3.9/lib/python/site-packages/sklearn/pipeline.py:662\u001b[0m, in \u001b[0;36mPipeline.fit\u001b[0;34m(self, X, y, **params)\u001b[0m\n\u001b[1;32m    656\u001b[0m     \u001b[38;5;28;01mif\u001b[39;00m \u001b[38;5;28mself\u001b[39m\u001b[38;5;241m.\u001b[39m_final_estimator \u001b[38;5;241m!=\u001b[39m \u001b[38;5;124m\"\u001b[39m\u001b[38;5;124mpassthrough\u001b[39m\u001b[38;5;124m\"\u001b[39m:\n\u001b[1;32m    657\u001b[0m         last_step_params \u001b[38;5;241m=\u001b[39m \u001b[38;5;28mself\u001b[39m\u001b[38;5;241m.\u001b[39m_get_metadata_for_step(\n\u001b[1;32m    658\u001b[0m             step_idx\u001b[38;5;241m=\u001b[39m\u001b[38;5;28mlen\u001b[39m(\u001b[38;5;28mself\u001b[39m) \u001b[38;5;241m-\u001b[39m \u001b[38;5;241m1\u001b[39m,\n\u001b[1;32m    659\u001b[0m             step_params\u001b[38;5;241m=\u001b[39mrouted_params[\u001b[38;5;28mself\u001b[39m\u001b[38;5;241m.\u001b[39msteps[\u001b[38;5;241m-\u001b[39m\u001b[38;5;241m1\u001b[39m][\u001b[38;5;241m0\u001b[39m]],\n\u001b[1;32m    660\u001b[0m             all_params\u001b[38;5;241m=\u001b[39mparams,\n\u001b[1;32m    661\u001b[0m         )\n\u001b[0;32m--> 662\u001b[0m         \u001b[38;5;28;43mself\u001b[39;49m\u001b[38;5;241;43m.\u001b[39;49m\u001b[43m_final_estimator\u001b[49m\u001b[38;5;241;43m.\u001b[39;49m\u001b[43mfit\u001b[49m\u001b[43m(\u001b[49m\u001b[43mXt\u001b[49m\u001b[43m,\u001b[49m\u001b[43m \u001b[49m\u001b[43my\u001b[49m\u001b[43m,\u001b[49m\u001b[43m \u001b[49m\u001b[38;5;241;43m*\u001b[39;49m\u001b[38;5;241;43m*\u001b[39;49m\u001b[43mlast_step_params\u001b[49m\u001b[43m[\u001b[49m\u001b[38;5;124;43m\"\u001b[39;49m\u001b[38;5;124;43mfit\u001b[39;49m\u001b[38;5;124;43m\"\u001b[39;49m\u001b[43m]\u001b[49m\u001b[43m)\u001b[49m\n\u001b[1;32m    664\u001b[0m \u001b[38;5;28;01mreturn\u001b[39;00m \u001b[38;5;28mself\u001b[39m\n",
      "File \u001b[0;32m~/Library/Python/3.9/lib/python/site-packages/sklearn/base.py:1389\u001b[0m, in \u001b[0;36m_fit_context.<locals>.decorator.<locals>.wrapper\u001b[0;34m(estimator, *args, **kwargs)\u001b[0m\n\u001b[1;32m   1382\u001b[0m     estimator\u001b[38;5;241m.\u001b[39m_validate_params()\n\u001b[1;32m   1384\u001b[0m \u001b[38;5;28;01mwith\u001b[39;00m config_context(\n\u001b[1;32m   1385\u001b[0m     skip_parameter_validation\u001b[38;5;241m=\u001b[39m(\n\u001b[1;32m   1386\u001b[0m         prefer_skip_nested_validation \u001b[38;5;129;01mor\u001b[39;00m global_skip_validation\n\u001b[1;32m   1387\u001b[0m     )\n\u001b[1;32m   1388\u001b[0m ):\n\u001b[0;32m-> 1389\u001b[0m     \u001b[38;5;28;01mreturn\u001b[39;00m \u001b[43mfit_method\u001b[49m\u001b[43m(\u001b[49m\u001b[43mestimator\u001b[49m\u001b[43m,\u001b[49m\u001b[43m \u001b[49m\u001b[38;5;241;43m*\u001b[39;49m\u001b[43margs\u001b[49m\u001b[43m,\u001b[49m\u001b[43m \u001b[49m\u001b[38;5;241;43m*\u001b[39;49m\u001b[38;5;241;43m*\u001b[39;49m\u001b[43mkwargs\u001b[49m\u001b[43m)\u001b[49m\n",
      "File \u001b[0;32m~/Library/Python/3.9/lib/python/site-packages/sklearn/tree/_classes.py:1024\u001b[0m, in \u001b[0;36mDecisionTreeClassifier.fit\u001b[0;34m(self, X, y, sample_weight, check_input)\u001b[0m\n\u001b[1;32m    993\u001b[0m \u001b[38;5;129m@_fit_context\u001b[39m(prefer_skip_nested_validation\u001b[38;5;241m=\u001b[39m\u001b[38;5;28;01mTrue\u001b[39;00m)\n\u001b[1;32m    994\u001b[0m \u001b[38;5;28;01mdef\u001b[39;00m\u001b[38;5;250m \u001b[39m\u001b[38;5;21mfit\u001b[39m(\u001b[38;5;28mself\u001b[39m, X, y, sample_weight\u001b[38;5;241m=\u001b[39m\u001b[38;5;28;01mNone\u001b[39;00m, check_input\u001b[38;5;241m=\u001b[39m\u001b[38;5;28;01mTrue\u001b[39;00m):\n\u001b[1;32m    995\u001b[0m \u001b[38;5;250m    \u001b[39m\u001b[38;5;124;03m\"\"\"Build a decision tree classifier from the training set (X, y).\u001b[39;00m\n\u001b[1;32m    996\u001b[0m \n\u001b[1;32m    997\u001b[0m \u001b[38;5;124;03m    Parameters\u001b[39;00m\n\u001b[0;32m   (...)\u001b[0m\n\u001b[1;32m   1021\u001b[0m \u001b[38;5;124;03m        Fitted estimator.\u001b[39;00m\n\u001b[1;32m   1022\u001b[0m \u001b[38;5;124;03m    \"\"\"\u001b[39;00m\n\u001b[0;32m-> 1024\u001b[0m     \u001b[38;5;28;43msuper\u001b[39;49m\u001b[43m(\u001b[49m\u001b[43m)\u001b[49m\u001b[38;5;241;43m.\u001b[39;49m\u001b[43m_fit\u001b[49m\u001b[43m(\u001b[49m\n\u001b[1;32m   1025\u001b[0m \u001b[43m        \u001b[49m\u001b[43mX\u001b[49m\u001b[43m,\u001b[49m\n\u001b[1;32m   1026\u001b[0m \u001b[43m        \u001b[49m\u001b[43my\u001b[49m\u001b[43m,\u001b[49m\n\u001b[1;32m   1027\u001b[0m \u001b[43m        \u001b[49m\u001b[43msample_weight\u001b[49m\u001b[38;5;241;43m=\u001b[39;49m\u001b[43msample_weight\u001b[49m\u001b[43m,\u001b[49m\n\u001b[1;32m   1028\u001b[0m \u001b[43m        \u001b[49m\u001b[43mcheck_input\u001b[49m\u001b[38;5;241;43m=\u001b[39;49m\u001b[43mcheck_input\u001b[49m\u001b[43m,\u001b[49m\n\u001b[1;32m   1029\u001b[0m \u001b[43m    \u001b[49m\u001b[43m)\u001b[49m\n\u001b[1;32m   1030\u001b[0m     \u001b[38;5;28;01mreturn\u001b[39;00m \u001b[38;5;28mself\u001b[39m\n",
      "File \u001b[0;32m~/Library/Python/3.9/lib/python/site-packages/sklearn/tree/_classes.py:294\u001b[0m, in \u001b[0;36mBaseDecisionTree._fit\u001b[0;34m(self, X, y, sample_weight, check_input, missing_values_in_feature_mask)\u001b[0m\n\u001b[1;32m    291\u001b[0m \u001b[38;5;28mself\u001b[39m\u001b[38;5;241m.\u001b[39mn_outputs_ \u001b[38;5;241m=\u001b[39m y\u001b[38;5;241m.\u001b[39mshape[\u001b[38;5;241m1\u001b[39m]\n\u001b[1;32m    293\u001b[0m \u001b[38;5;28;01mif\u001b[39;00m is_classification:\n\u001b[0;32m--> 294\u001b[0m     \u001b[43mcheck_classification_targets\u001b[49m\u001b[43m(\u001b[49m\u001b[43my\u001b[49m\u001b[43m)\u001b[49m\n\u001b[1;32m    295\u001b[0m     y \u001b[38;5;241m=\u001b[39m np\u001b[38;5;241m.\u001b[39mcopy(y)\n\u001b[1;32m    297\u001b[0m     \u001b[38;5;28mself\u001b[39m\u001b[38;5;241m.\u001b[39mclasses_ \u001b[38;5;241m=\u001b[39m []\n",
      "File \u001b[0;32m~/Library/Python/3.9/lib/python/site-packages/sklearn/utils/multiclass.py:214\u001b[0m, in \u001b[0;36mcheck_classification_targets\u001b[0;34m(y)\u001b[0m\n\u001b[1;32m    202\u001b[0m \u001b[38;5;28;01mdef\u001b[39;00m\u001b[38;5;250m \u001b[39m\u001b[38;5;21mcheck_classification_targets\u001b[39m(y):\n\u001b[1;32m    203\u001b[0m \u001b[38;5;250m    \u001b[39m\u001b[38;5;124;03m\"\"\"Ensure that target y is of a non-regression type.\u001b[39;00m\n\u001b[1;32m    204\u001b[0m \n\u001b[1;32m    205\u001b[0m \u001b[38;5;124;03m    Only the following target types (as defined in type_of_target) are allowed:\u001b[39;00m\n\u001b[0;32m   (...)\u001b[0m\n\u001b[1;32m    212\u001b[0m \u001b[38;5;124;03m        Target values.\u001b[39;00m\n\u001b[1;32m    213\u001b[0m \u001b[38;5;124;03m    \"\"\"\u001b[39;00m\n\u001b[0;32m--> 214\u001b[0m     y_type \u001b[38;5;241m=\u001b[39m \u001b[43mtype_of_target\u001b[49m\u001b[43m(\u001b[49m\u001b[43my\u001b[49m\u001b[43m,\u001b[49m\u001b[43m \u001b[49m\u001b[43minput_name\u001b[49m\u001b[38;5;241;43m=\u001b[39;49m\u001b[38;5;124;43m\"\u001b[39;49m\u001b[38;5;124;43my\u001b[39;49m\u001b[38;5;124;43m\"\u001b[39;49m\u001b[43m)\u001b[49m\n\u001b[1;32m    215\u001b[0m     \u001b[38;5;28;01mif\u001b[39;00m y_type \u001b[38;5;129;01mnot\u001b[39;00m \u001b[38;5;129;01min\u001b[39;00m [\n\u001b[1;32m    216\u001b[0m         \u001b[38;5;124m\"\u001b[39m\u001b[38;5;124mbinary\u001b[39m\u001b[38;5;124m\"\u001b[39m,\n\u001b[1;32m    217\u001b[0m         \u001b[38;5;124m\"\u001b[39m\u001b[38;5;124mmulticlass\u001b[39m\u001b[38;5;124m\"\u001b[39m,\n\u001b[0;32m   (...)\u001b[0m\n\u001b[1;32m    220\u001b[0m         \u001b[38;5;124m\"\u001b[39m\u001b[38;5;124mmultilabel-sequences\u001b[39m\u001b[38;5;124m\"\u001b[39m,\n\u001b[1;32m    221\u001b[0m     ]:\n\u001b[1;32m    222\u001b[0m         \u001b[38;5;28;01mraise\u001b[39;00m \u001b[38;5;167;01mValueError\u001b[39;00m(\n\u001b[1;32m    223\u001b[0m             \u001b[38;5;124mf\u001b[39m\u001b[38;5;124m\"\u001b[39m\u001b[38;5;124mUnknown label type: \u001b[39m\u001b[38;5;132;01m{\u001b[39;00my_type\u001b[38;5;132;01m}\u001b[39;00m\u001b[38;5;124m. Maybe you are trying to fit a \u001b[39m\u001b[38;5;124m\"\u001b[39m\n\u001b[1;32m    224\u001b[0m             \u001b[38;5;124m\"\u001b[39m\u001b[38;5;124mclassifier, which expects discrete classes on a \u001b[39m\u001b[38;5;124m\"\u001b[39m\n\u001b[1;32m    225\u001b[0m             \u001b[38;5;124m\"\u001b[39m\u001b[38;5;124mregression target with continuous values.\u001b[39m\u001b[38;5;124m\"\u001b[39m\n\u001b[1;32m    226\u001b[0m         )\n",
      "File \u001b[0;32m~/Library/Python/3.9/lib/python/site-packages/sklearn/utils/multiclass.py:333\u001b[0m, in \u001b[0;36mtype_of_target\u001b[0;34m(y, input_name, raise_unknown)\u001b[0m\n\u001b[1;32m    330\u001b[0m \u001b[38;5;28;01mif\u001b[39;00m sparse_pandas:\n\u001b[1;32m    331\u001b[0m     \u001b[38;5;28;01mraise\u001b[39;00m \u001b[38;5;167;01mValueError\u001b[39;00m(\u001b[38;5;124m\"\u001b[39m\u001b[38;5;124my cannot be class \u001b[39m\u001b[38;5;124m'\u001b[39m\u001b[38;5;124mSparseSeries\u001b[39m\u001b[38;5;124m'\u001b[39m\u001b[38;5;124m or \u001b[39m\u001b[38;5;124m'\u001b[39m\u001b[38;5;124mSparseArray\u001b[39m\u001b[38;5;124m'\u001b[39m\u001b[38;5;124m\"\u001b[39m)\n\u001b[0;32m--> 333\u001b[0m \u001b[38;5;28;01mif\u001b[39;00m \u001b[43mis_multilabel\u001b[49m\u001b[43m(\u001b[49m\u001b[43my\u001b[49m\u001b[43m)\u001b[49m:\n\u001b[1;32m    334\u001b[0m     \u001b[38;5;28;01mreturn\u001b[39;00m \u001b[38;5;124m\"\u001b[39m\u001b[38;5;124mmultilabel-indicator\u001b[39m\u001b[38;5;124m\"\u001b[39m\n\u001b[1;32m    336\u001b[0m \u001b[38;5;66;03m# DeprecationWarning will be replaced by ValueError, see NEP 34\u001b[39;00m\n\u001b[1;32m    337\u001b[0m \u001b[38;5;66;03m# https://numpy.org/neps/nep-0034-infer-dtype-is-object.html\u001b[39;00m\n\u001b[1;32m    338\u001b[0m \u001b[38;5;66;03m# We therefore catch both deprecation (NumPy < 1.24) warning and\u001b[39;00m\n\u001b[1;32m    339\u001b[0m \u001b[38;5;66;03m# value error (NumPy >= 1.24).\u001b[39;00m\n",
      "File \u001b[0;32m~/Library/Python/3.9/lib/python/site-packages/sklearn/utils/multiclass.py:170\u001b[0m, in \u001b[0;36mis_multilabel\u001b[0;34m(y)\u001b[0m\n\u001b[1;32m    161\u001b[0m check_y_kwargs \u001b[38;5;241m=\u001b[39m \u001b[38;5;28mdict\u001b[39m(\n\u001b[1;32m    162\u001b[0m     accept_sparse\u001b[38;5;241m=\u001b[39m\u001b[38;5;28;01mTrue\u001b[39;00m,\n\u001b[1;32m    163\u001b[0m     allow_nd\u001b[38;5;241m=\u001b[39m\u001b[38;5;28;01mTrue\u001b[39;00m,\n\u001b[0;32m   (...)\u001b[0m\n\u001b[1;32m    167\u001b[0m     ensure_min_features\u001b[38;5;241m=\u001b[39m\u001b[38;5;241m0\u001b[39m,\n\u001b[1;32m    168\u001b[0m )\n\u001b[1;32m    169\u001b[0m \u001b[38;5;28;01mwith\u001b[39;00m warnings\u001b[38;5;241m.\u001b[39mcatch_warnings():\n\u001b[0;32m--> 170\u001b[0m     \u001b[43mwarnings\u001b[49m\u001b[38;5;241;43m.\u001b[39;49m\u001b[43msimplefilter\u001b[49m\u001b[43m(\u001b[49m\u001b[38;5;124;43m\"\u001b[39;49m\u001b[38;5;124;43merror\u001b[39;49m\u001b[38;5;124;43m\"\u001b[39;49m\u001b[43m,\u001b[49m\u001b[43m \u001b[49m\u001b[43mVisibleDeprecationWarning\u001b[49m\u001b[43m)\u001b[49m\n\u001b[1;32m    171\u001b[0m     \u001b[38;5;28;01mtry\u001b[39;00m:\n\u001b[1;32m    172\u001b[0m         y \u001b[38;5;241m=\u001b[39m check_array(y, dtype\u001b[38;5;241m=\u001b[39m\u001b[38;5;28;01mNone\u001b[39;00m, \u001b[38;5;241m*\u001b[39m\u001b[38;5;241m*\u001b[39mcheck_y_kwargs)\n",
      "File \u001b[0;32m/Library/Developer/CommandLineTools/Library/Frameworks/Python3.framework/Versions/3.9/lib/python3.9/warnings.py:179\u001b[0m, in \u001b[0;36msimplefilter\u001b[0;34m(action, category, lineno, append)\u001b[0m\n\u001b[1;32m    175\u001b[0m \u001b[38;5;28;01massert\u001b[39;00m action \u001b[38;5;129;01min\u001b[39;00m (\u001b[38;5;124m\"\u001b[39m\u001b[38;5;124merror\u001b[39m\u001b[38;5;124m\"\u001b[39m, \u001b[38;5;124m\"\u001b[39m\u001b[38;5;124mignore\u001b[39m\u001b[38;5;124m\"\u001b[39m, \u001b[38;5;124m\"\u001b[39m\u001b[38;5;124malways\u001b[39m\u001b[38;5;124m\"\u001b[39m, \u001b[38;5;124m\"\u001b[39m\u001b[38;5;124mdefault\u001b[39m\u001b[38;5;124m\"\u001b[39m, \u001b[38;5;124m\"\u001b[39m\u001b[38;5;124mmodule\u001b[39m\u001b[38;5;124m\"\u001b[39m,\n\u001b[1;32m    176\u001b[0m                   \u001b[38;5;124m\"\u001b[39m\u001b[38;5;124monce\u001b[39m\u001b[38;5;124m\"\u001b[39m), \u001b[38;5;124m\"\u001b[39m\u001b[38;5;124minvalid action: \u001b[39m\u001b[38;5;132;01m%r\u001b[39;00m\u001b[38;5;124m\"\u001b[39m \u001b[38;5;241m%\u001b[39m (action,)\n\u001b[1;32m    177\u001b[0m \u001b[38;5;28;01massert\u001b[39;00m \u001b[38;5;28misinstance\u001b[39m(lineno, \u001b[38;5;28mint\u001b[39m) \u001b[38;5;129;01mand\u001b[39;00m lineno \u001b[38;5;241m>\u001b[39m\u001b[38;5;241m=\u001b[39m \u001b[38;5;241m0\u001b[39m, \\\n\u001b[1;32m    178\u001b[0m        \u001b[38;5;124m\"\u001b[39m\u001b[38;5;124mlineno must be an int >= 0\u001b[39m\u001b[38;5;124m\"\u001b[39m\n\u001b[0;32m--> 179\u001b[0m \u001b[43m_add_filter\u001b[49m\u001b[43m(\u001b[49m\u001b[43maction\u001b[49m\u001b[43m,\u001b[49m\u001b[43m \u001b[49m\u001b[38;5;28;43;01mNone\u001b[39;49;00m\u001b[43m,\u001b[49m\u001b[43m \u001b[49m\u001b[43mcategory\u001b[49m\u001b[43m,\u001b[49m\u001b[43m \u001b[49m\u001b[38;5;28;43;01mNone\u001b[39;49;00m\u001b[43m,\u001b[49m\u001b[43m \u001b[49m\u001b[43mlineno\u001b[49m\u001b[43m,\u001b[49m\u001b[43m \u001b[49m\u001b[43mappend\u001b[49m\u001b[38;5;241;43m=\u001b[39;49m\u001b[43mappend\u001b[49m\u001b[43m)\u001b[49m\n",
      "File \u001b[0;32m/Library/Developer/CommandLineTools/Library/Frameworks/Python3.framework/Versions/3.9/lib/python3.9/warnings.py:186\u001b[0m, in \u001b[0;36m_add_filter\u001b[0;34m(append, *item)\u001b[0m\n\u001b[1;32m    184\u001b[0m \u001b[38;5;28;01mif\u001b[39;00m \u001b[38;5;129;01mnot\u001b[39;00m append:\n\u001b[1;32m    185\u001b[0m     \u001b[38;5;28;01mtry\u001b[39;00m:\n\u001b[0;32m--> 186\u001b[0m         \u001b[43mfilters\u001b[49m\u001b[38;5;241;43m.\u001b[39;49m\u001b[43mremove\u001b[49m\u001b[43m(\u001b[49m\u001b[43mitem\u001b[49m\u001b[43m)\u001b[49m\n\u001b[1;32m    187\u001b[0m     \u001b[38;5;28;01mexcept\u001b[39;00m \u001b[38;5;167;01mValueError\u001b[39;00m:\n\u001b[1;32m    188\u001b[0m         \u001b[38;5;28;01mpass\u001b[39;00m\n",
      "\u001b[0;31mKeyboardInterrupt\u001b[0m: "
     ]
    }
   ],
   "source": [
    "import optuna\n",
    "from optuna.samplers import TPESampler\n",
    "from sklearn.pipeline import Pipeline\n",
    "from sklearn.metrics import f1_score\n",
    "from sklearn.compose import ColumnTransformer\n",
    "from sklearn.preprocessing import (\n",
    "    OneHotEncoder, StandardScaler, MinMaxScaler, RobustScaler\n",
    ")\n",
    "from sklearn.impute import SimpleImputer\n",
    "from sklearn.tree import DecisionTreeClassifier\n",
    "\n",
    "RANDOM_STATE = 42\n",
    "\n",
    "def objective(trial):\n",
    "    \n",
    "    criterion = trial.suggest_categorical(\"criterion\", [\"gini\", \"entropy\", \"log_loss\"])\n",
    "    splitter = trial.suggest_categorical(\"splitter\", [\"best\", \"random\"])\n",
    "    max_depth = trial.suggest_categorical(\"max_depth\", [None] + list(range(2, 51)))\n",
    "\n",
    "    min_samples_split = trial.suggest_int(\"min_samples_split\", 2, 20)\n",
    "    min_samples_leaf = trial.suggest_int(\"min_samples_leaf\", 1, 20)\n",
    "    min_weight_fraction_leaf = trial.suggest_float(\"min_weight_fraction_leaf\", 0.0, 0.5)\n",
    "    max_features = trial.suggest_categorical(\"max_features\", [None, \"sqrt\", \"log2\"])\n",
    "    max_leaf_nodes = trial.suggest_categorical(\"max_leaf_nodes\", [None] + list(range(2, 51)))\n",
    "\n",
    "    min_impurity_decrease = trial.suggest_float(\"min_impurity_decrease\", 0.0, 0.05)\n",
    "    class_weight = trial.suggest_categorical(\"class_weight\", [\"balanced\", None])\n",
    "    ccp_alpha = trial.suggest_float(\"ccp_alpha\", 0.0, 0.05)\n",
    "    monotonic_cst = trial.suggest_categorical(\"monotonic_cst\", [None])\n",
    "\n",
    "    \n",
    "    imputer_strategy_num = trial.suggest_categorical(\"imputer_strategy_num\", [\"mean\", \"median\"])\n",
    "    imputer_strategy_cat = trial.suggest_categorical(\"imputer_strategy_cat\", [\"most_frequent\", \"constant\"])\n",
    "    scaler_type = trial.suggest_categorical(\"scaler\", [\"standard\", \"minmax\", \"robust\"])\n",
    "    min_freq = trial.suggest_float(\"min_frequency\", 0.0, 1.0)\n",
    "\n",
    "    \n",
    "    if scaler_type == \"standard\":\n",
    "        scaler = StandardScaler()\n",
    "    elif scaler_type == \"minmax\":\n",
    "        scaler = MinMaxScaler()\n",
    "    else:\n",
    "        scaler = RobustScaler()\n",
    "\n",
    "    \n",
    "    numeric_transformer = Pipeline(steps=[\n",
    "        (\"imputer\", SimpleImputer(strategy=imputer_strategy_num)),\n",
    "        (\"scaler\", scaler)\n",
    "    ])\n",
    "\n",
    "    \n",
    "    ohe = OneHotEncoder(handle_unknown=\"ignore\", sparse_output=False, min_frequency=min_freq)\n",
    "    categorical_transformer = Pipeline(steps=[\n",
    "        (\"imputer\", SimpleImputer(strategy=imputer_strategy_cat)),\n",
    "        (\"encoder\", ohe)\n",
    "    ])\n",
    "\n",
    "    preprocessor = ColumnTransformer(transformers=[\n",
    "        (\"num\", numeric_transformer, numerical_cols),\n",
    "        (\"cat\", categorical_transformer, categorical_cols)\n",
    "    ])\n",
    "\n",
    "    \n",
    "    model = DecisionTreeClassifier(\n",
    "        criterion=criterion,\n",
    "        splitter=splitter,\n",
    "        max_depth=max_depth,\n",
    "        min_samples_split=min_samples_split,\n",
    "        min_samples_leaf=min_samples_leaf,\n",
    "        min_weight_fraction_leaf=min_weight_fraction_leaf,\n",
    "        max_features=max_features,\n",
    "        random_state=RANDOM_STATE,\n",
    "        max_leaf_nodes=max_leaf_nodes,\n",
    "        min_impurity_decrease=min_impurity_decrease,\n",
    "        class_weight=class_weight,\n",
    "        ccp_alpha=ccp_alpha,\n",
    "        monotonic_cst=monotonic_cst\n",
    "    )\n",
    "\n",
    "    \n",
    "    pipeline = Pipeline([\n",
    "        (\"date_features\", DateFeatureExtractor(date_column=\"purchase_date\")),\n",
    "        (\"preprocessor\", preprocessor),\n",
    "        (\"model\", model)\n",
    "    ])\n",
    "\n",
    "    \n",
    "    pipeline.fit(X_train, y_train)\n",
    "    y_pred = pipeline.predict(X_valid)\n",
    "    score = f1_score(y_valid, y_pred, average=\"weighted\")\n",
    "\n",
    "    trial.set_user_attr(\"best_pipeline\", pipeline)\n",
    "    return 1 - score  \n",
    "\n",
    "\n",
    "sampler = TPESampler(seed=RANDOM_STATE)\n",
    "\n",
    "minutes = 5\n",
    "seconds = minutes * 60\n",
    "study = optuna.create_study(direction=\"minimize\", sampler=sampler)\n",
    "study.optimize(objective, timeout=seconds)  \n",
    "\n",
    "\n",
    "print(f\"N° de trials: {len(study.trials)}\")\n",
    "print(f\"Mejor F1-score: {1 - study.best_value:.3f}\")\n",
    "print(\"Mejores hiperparámetros:\")\n",
    "for k, v in study.best_params.items():\n",
    "    print(f\"   - {k}: {v}\")\n"
   ]
  },
  {
   "cell_type": "code",
   "execution_count": null,
   "metadata": {},
   "outputs": [],
   "source": []
  },
  {
   "cell_type": "code",
   "execution_count": null,
   "metadata": {},
   "outputs": [],
   "source": []
  },
  {
   "cell_type": "markdown",
   "metadata": {},
   "source": [
    "- ¿Qué métrica decidieron optimizar y por qué?\n",
    "\n",
    "    Respuesta: La métrica que decidimos optimizar (minimizar en este caso fue el complemento de f1-score) fue f1-score que es representativa de la calidad o robustez del modelo (es una combinación de dos métricas importantes).\n",
    "\n",
    "- ¿Qué hiperparámetro tuvo un mayor impacto en el rendimiento de su modelo?\n",
    "\n",
    "    Respuesta: el hiperparámetro que tuvo más impacto en el rendimiento del modelo fue max_depth y max_leaf_nodes\n",
    "        \n",
    "- ¿Cuánto mejoró el rendimiento del modelo después de la optimización de hiperparámetros?\n",
    "\n",
    "    Respuesta:"
   ]
  },
  {
   "cell_type": "code",
   "execution_count": 200,
   "metadata": {},
   "outputs": [
    {
     "name": "stderr",
     "output_type": "stream",
     "text": [
      "/var/folders/09/2_xdwnnx5rqgtl8vh2vwkdmc0000gn/T/ipykernel_1538/1223260867.py:5: ExperimentalWarning:\n",
      "\n",
      "plot_param_importances is experimental (supported from v2.2.0). The interface can change in the future.\n",
      "\n"
     ]
    },
    {
     "data": {
      "text/plain": [
       "<Figure size 1000x600 with 0 Axes>"
      ]
     },
     "metadata": {},
     "output_type": "display_data"
    },
    {
     "data": {
      "image/png": "[encoded data removed]",
      "text/plain": [
       "<Figure size 640x480 with 1 Axes>"
      ]
     },
     "metadata": {},
     "output_type": "display_data"
    }
   ],
   "source": [
    "import matplotlib.pyplot as plt\n",
    "from optuna.visualization.matplotlib import plot_param_importances\n",
    "def plots(estudio):\n",
    "    plt.figure(figsize=(10, 6))\n",
    "    plot_param_importances(estudio)\n",
    "    plt.show()\n",
    "    \n",
    "plots(study)"
   ]
  },
  {
   "cell_type": "markdown",
   "metadata": {},
   "source": [
    "## 📌 Interpretabilidad [1.0 puntos]\n",
    "\n",
    "En esta sección, deben explicar el funcionamiento de su modelo utilizando las técnicas de interpretabilidad vistas en clase, como `SHAP`. Se espera que sean capaces de descomponer las predicciones y evaluar la importancia de los atributos y las interacciones entre ellos, con el fin de obtener una comprensión más profunda de cómo el modelo toma decisiones. \n",
    "\n",
    "Al desarrollar esta parte, deberán responder las siguientes preguntas clave como mínimo:\n",
    "\n",
    "- ¿Podría explicar el funcionamiento de su modelo para una predicción en particular? Si es así, proporcione al menos tres ejemplos específicos, describiendo cómo el modelo llegó a sus decisiones y qué factores fueron más relevantes en cada caso.\n",
    "\n",
    "- ¿Qué atributo tiene una mayor importancia en la salida de su modelo? Analice si esto tiene sentido con el problema planteado y justifique la relevancia de dicho atributo en el contexto de las predicciones que se realizan.\n",
    "\n",
    "- ¿Existe alguna interacción entre atributos que sea relevante para el modelo? Investigue si la combinación de ciertos atributos tiene un impacto significativo en las predicciones y explíquela en **detalle**.\n",
    "\n",
    "- ¿Podría existir sesgo hacia algún atributo en particular? Reflexione sobre la posibilidad de que el modelo esté favoreciendo ciertos atributos. Si es así, ¿cuál podría ser la causa y qué impacto podría tener esto en la predicción?"
   ]
  },
  {
   "cell_type": "code",
   "execution_count": null,
   "metadata": {},
   "outputs": [],
   "source": [
    "# Desarrolle aquí su código"
   ]
  },
  {
   "cell_type": "markdown",
   "metadata": {},
   "source": [
    "## 📌 Resultados y Conclusiones [1.0 puntos]\n",
    "\n",
    "Para finalizar, se deben explicar los desarrollos y resultados obtenidos a lo largo de todo el proceso, desde la selección de las variables hasta la optimización de hiperparámetros e interpretación. Se espera una reflexión crítica sobre el desempeño de los modelos entrenados y una comparación entre los diferentes enfoques. Además, deberán abordar los siguientes puntos clave:\n",
    "\n",
    "- **Análisis de métricas**: Comenten sobre las métricas obtenidas en cada etapa del modelo, destacando las más relevantes como precisión, recall, F1-score, etc. ¿Cuáles fueron los modelos más efectivos? ¿Qué diferencias notables encontró entre ellos?\n",
    "\n",
    "- **Impacto de las decisiones tomadas**: Reflexionen sobre cómo las decisiones relacionadas con el preprocesamiento, selección de atributos y optimización de hiperparámetros influyeron en los resultados finales. ¿Hubo alguna decisión que haya tenido un impacto notable en el rendimiento?\n",
    "\n",
    "- **Lecciones aprendidas**: Concluyan sobre las lecciones más importantes que aprendieron durante el proceso y cómo estas pueden influir en futuras iteraciones del modelo. ¿Qué se podría mejorar si se repitiera el proceso? Si tuvieran más recursos y tiempo, ¿qué otras técnicas/herramientas habrían utilizado?"
   ]
  },
  {
   "cell_type": "markdown",
   "metadata": {},
   "source": [
    "> [Escriba aquí sus resultados]"
   ]
  },
  {
   "cell_type": "markdown",
   "metadata": {},
   "source": [
    "Mucho éxito!\n",
    "\n",
    "<center>\n",
    "<img src=\"https://media3.giphy.com/media/v1.Y2lkPTc5MGI3NjExaHpvOTY5Z3hpdHI3aDBpdGRueXRqamZncXp2emFrbjJ5M2s5eTR1dSZlcD12MV9pbnRlcm5hbF9naWZfYnlfaWQmY3Q9Zw/1PMVNNKVIL8Ig/giphy.gif\" width=\"300\" height=\"200\">\n"
   ]
  }
 ],
 "metadata": {
  "kernelspec": {
   "display_name": "Python 3",
   "language": "python",
   "name": "python3"
  },
  "language_info": {
   "codemirror_mode": {
    "name": "ipython",
    "version": 3
   },
   "file_extension": ".py",
   "mimetype": "text/x-python",
   "name": "python",
   "nbconvert_exporter": "python",
   "pygments_lexer": "ipython3",
   "version": "3.9.6"
  }
 },
 "nbformat": 4,
 "nbformat_minor": 2
}
