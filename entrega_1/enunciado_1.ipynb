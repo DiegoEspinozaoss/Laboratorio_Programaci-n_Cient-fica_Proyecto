{
 "cells": [
  {
   "cell_type": "markdown",
   "metadata": {},
   "source": [
    "![](https://www.dii.uchile.cl/wp-content/uploads/2021/06/Magi%CC%81ster-en-Ciencia-de-Datos.png)"
   ]
  },
  {
   "cell_type": "markdown",
   "metadata": {},
   "source": [
    "**MDS7202: Laboratorio de Programación Científica para Ciencia de Datos**\n",
    "\n",
    "### 👨‍🏫👩‍🏫 Cuerpo Docente:\n",
    "\n",
    "- Profesor: Sebastián Tinoco, Stefano Schiappacasse\n",
    "- Auxiliar: Melanie Peña Torres, Valentina Rojas Osorio\n",
    "- Ayudante: Valentina Zuñiga, Ángelo Muñoz \n",
    "\n",
    "### 👨‍💻👩‍💻 Estudiantes:\n",
    "- Estudiante n°1: *Juan Miño*\n",
    "- Estudiante n°2: *Diego Espinoza Núñez*\n",
    "\n",
    "_Por favor, lean detalladamente las instrucciones de la tarea antes de empezar a escribir._\n",
    "\n",
    "---"
   ]
  },
  {
   "cell_type": "markdown",
   "metadata": {},
   "source": [
    "---\n",
    "\n",
    "## 📖 Enunciado "
   ]
  },
  {
   "cell_type": "markdown",
   "metadata": {},
   "source": [
    "<div align=\"center\">\n",
    "    <img src='https://github.com/MDS7202/MDS7202/blob/main/recursos/2025-01/proyecto/proyecto.png?raw=true' style=\"border-radius: 12px\"> \n",
    "</div>"
   ]
  },
  {
   "cell_type": "markdown",
   "metadata": {},
   "source": [
    "En el competitivo universo de las bebidas gaseosas, la empresa **SodAI Drinks 🥤** ha logrado destacarse por su creatividad, diversidad de productos y enfoque centrado en el cliente. Ofrece una extensa gama de bebidas carbonatadas que abarca distintos segmentos del mercado: desde productos premium en presentaciones sofisticadas, hasta gaseosas accesibles para el consumo masivo, disponibles en diversos tamaños y tipos de envases. \n",
    "\n",
    "La compañía opera en múltiples regiones y zonas, sirviendo a una variedad de puntos de venta que incluyen desde tiendas de conveniencia y minimarkets hasta el canal frío tradicional. Cada tipo de cliente tiene sus particularidades: algunos reciben entregas hasta 4 veces por semana, mientras que otros son visitados por la fuerza de ventas solo una vez semanalmente. Esta diversidad de perfiles representa tanto una oportunidad como un desafío comercial: ¿cómo saber qué productos tienen más chances de ser comprados por cada cliente en un momento dado?\n",
    "\n",
    "Con el objetivo de aumentar la facturación de forma inteligente y mejorar la eficiencia de su estrategia de ventas, **SodAI Drinks** decide crear una nueva célula interna de innovación: el equipo **Deep Drinkers 🤖**, cuyo propósito es aplicar ciencia de datos para anticiparse a las necesidades del cliente y potenciar el negocio desde una perspectiva basada en información.\n",
    "\n",
    "El corazón de esta iniciativa es el desarrollo de un sistema predictivo personalizado para cada cliente. Para ello, **Deep Drinkers** convoca a un equipo de Data Scientists y especialistas en *machine learning* con una misión clara: construir un modelo predictivo que, cada semana, pueda estimar la probabilidad de compra de cada producto del portafolio para cada cliente activo.\n",
    "\n",
    "El modelo deberá tener en cuenta múltiples factores, incluyendo:\n",
    "- **Tipo de cliente**, ej. \"TIENDA DE CONVENIENCIA\", \"MINIMARKET\".\n",
    "- **Frecuencia de entregas y visitas**, indicadores del nivel de actividad comercial.\n",
    "- **Ubicación geográfica** (por región y zona).\n",
    "- **Preferencias históricas de consumo**, inferidas por patrones de compra anteriores.\n",
    "- **Características del producto**, como marca, categoría, segmento, tipo de envase y tamaño\n",
    "\n",
    "El objetivo final es que, **cada semana**, se genere una tabla de productos priorizados: para cada cliente, un listado de productos ordenado por su probabilidad estimada de compra. Esta información será enviada al equipo comercial, que podrá usarla en call center, para incrementar las chances de concretar ventas al ofrecer justo lo que el cliente probablemente quiere comprar.\n",
    "\n",
    "Este proyecto representa un cambio de paradigma en la forma en que **SodAI Drinks** gestiona su fuerza de ventas: de un enfoque reactivo y generalista, a uno proactivo, basado en datos y profundamente personalizado. Así, la empresa no solo espera aumentar su rentabilidad, sino también construir relaciones más sólidas con sus clientes, ofreciéndoles recomendaciones más relevantes y oportunas.\n",
    "\n",
    "Para lograr lo anterior, el equipo **Deep Drinkers** contará con los siguientes conjuntos de datos, junto a sus respectivos atributos:\n",
    "\n",
    "- **Datos transaccionales** (`transacciones.parquet`): contiene el historial de compras realizadas por los clientes.\n",
    "\t- `customer_id`: identificador único del cliente que realizó la compra.\n",
    "\t- `product_id`: identificador único del producto comprado.\n",
    "\t- `purchase_date`: fecha en que se realizó la transacción.\n",
    "\t- `order_id`: identificar de la orden de su pedido.\n",
    "\t- `payment`\tmonto total pagado por la transacción.\n",
    "\n",
    "- **Datos de clientes** (`clientes.parquet`): incluye las características de cada cliente.\n",
    "\t- `customer_id`: identificador único del cliente.\n",
    "\t- `region_id`: identificador de la región geográfica donde se encuentra el cliente.\n",
    "\t- `customer_type`: tipo de cliente según el canal comercial, por ejemplo, “TIENDA DE CONVENIENCIA”.\n",
    "\t- `Y`: coordenada geográfica de latitud.\n",
    "\t- `X`: coordenada geográfica de longitud.\n",
    "\t- `num_deliver_per_week`: cantidad de entregas semanales que recibe el cliente.\n",
    "\t- `num_visit_per_week`: frecuencia de visitas de la fuerza de ventas por semana.\n",
    "\n",
    "- **Datos de productos** (`productos.parquet`): describe las características de los productos del portafolio.\n",
    "\t- `product_id`: identificador único del producto.\n",
    "\t- `brand`: marca comercial del producto.\n",
    "\t- `category`: categoría general del producto, como “BEBIDAS CARBONATADAS”.\n",
    "\t- `sub_category`: subcategoría dentro de la categoría principal, por ejemplo, “GASEOSAS”.\n",
    "\t- `segment`: segmento de mercado al que pertenece el producto, como “PREMIUM”.\n",
    "\t- `package`: tipo de envase del producto.\n",
    "\t- `size`: tamaño del producto en litros."
   ]
  },
  {
   "cell_type": "markdown",
   "metadata": {},
   "source": [
    "## 📚 Reglas"
   ]
  },
  {
   "cell_type": "markdown",
   "metadata": {},
   "source": [
    "<center>\n",
    "<img src=\"https://media1.tenor.com/m/0Qtv_cQ4ITsAAAAd/necohaus-grey-name.gif\" width=\"450\">"
   ]
  },
  {
   "cell_type": "markdown",
   "metadata": {},
   "source": [
    "\n",
    "\n",
    "El proyecto consta de **dos entregas parciales** y una **entrega final** en donde la primera entrega la idea es poder reflejar lo aprendido durante la primera mitad del curso, que será sobre los contenidos relacionados a *machine learning*, la segunda será sobre los contenidos de la segunda mitad del curso relacionados a *MLOps* y por último la entrega final constará de dos partes, donde la primera será relacionada con experimentación sobre nuevos datasets que serán disponibilizados durante las últimas semanas del curso de manera incremental y una segunda parte que será el informe final escrito que deberá explicar el desarrollo del proyecto completo, como tambien los resultados y análisis de los experimentos realizados sobre los datasets incrementales. La idea es que todo el código esté desarrollado durante las primeras dos entregas y luego en la entrega final sólo se ejecute el código sobre nuevos conjuntos de datos.\n",
    "\n",
    "La idea de generar el proyecto por etapas es poder aliviar la carga de trabajo en las últimas semanas del semestre donde sabemos que están muy cargado con entregas, pruebas y exámenes de otros ramos, y así garantizamos que habiendo la desarrollado las dos primeras entregas parciales, tendrán el grueso del proyecto listo para luego experimentar y documentar.\n",
    "\n",
    "---\n",
    "### **Fechas de entrega**\n",
    "- **Entrega parcial 1**: 14 de Mayo\n",
    "- **Entrega parcial 2**: Por definir\n",
    "- **Entrega final**: Por definir\n",
    "\n",
    "---\n",
    "\n",
    "### **Requisitos del proyecto**\n",
    "- **Grupos**: Formar equipos de **2 personas**. No se aceptarán trabajos individuales o grupos con más integrantes.\n",
    "- **Consultas**: Cualquier duda fuera del horario de clases debe ser planteada en el foro correspondiente. Los mensajes enviados al equipo docente serán respondidos únicamente por este medio. Por favor, revisen las respuestas anteriores en el foro antes de realizar nuevas consultas.\n",
    "- **Plagio**: La copia o reutilización no autorizada de trabajos de otros grupos está **estrictamente prohibida**. El incumplimiento de esta norma implicará la anulación inmediata del proyecto y una posible sanción académica.\n",
    "- **Material permitido**: Pueden usar cualquier material del curso, ya sea notas, lecturas, códigos, o referencias proporcionadas por los docentes, que consideren útil para el desarrollo del proyecto.\n",
    "\n",
    "---\n",
    "\n",
    "### **Entregables y etapas**\n",
    "\n",
    "#### **1. Entrega Parcial 1**  \n",
    "- Dispondrán de los archivos de datos **productos.parquet**, **clientes.parquet** y **transacciones.parquet** para el modelamiento inicial.  \n",
    "- Utilizarán estos archivos para desarrollar lo solicitado para la entrega 1. \n",
    "- En esta etapa, se espera que apliquen todos los conocimientos aprendidos durante la primera parte del curso relacionados con *machine learning*.\n",
    "- **Informe**: No se exige un avance del informe en esta etapa, sólo un notebook con su desarrollo actual, pero se **recomienda comenzar** a redactar el informe final en paralelo para disminuir la carga académica en las etapas posteriores.  \n",
    "\n",
    "#### **2. Entrega Parcial 2**  \n",
    "- En esta entrega, deberán aplicar los conocimientos aprendidos durante la segunda mitad del curso sobre *MLOps*  \n",
    "- Se espera que implementen estos conocimientos para desplegar su modelo elegido en la primera entrega y crear *pipelines* automatizados que simulen un entorno productivo.\n",
    "- **Informe**: similar a la primera etapa, no se exige un avance del informe, pero se **recomienda avanzar con su redacción** para evitar una acumulación de trabajo en la etapa final.  \n",
    "\n",
    "#### **3. Entrega Final**  \n",
    "- En la entrega final, deberán realizar dos etapas:\n",
    "\t- La primera etapa es sobre experimentación utilizando datasets incrementales que se irán disponibilizando de manera parcial, para que vayan generando predicciones con su modelo ya desplegado. El objetivo de esta etapa es poder testear su solución *end-to-end* y que vayan analizando los resultados obtenidos a medida que se van agregando más datos.\n",
    "\t- La segunda etapa consiste en redactar un informe final que deberá explicar el desarrollo completo de tu proyecto y un análisis profundo de sus resultados de experimentación. Este informe debera incluir a lo menos las siguientes secciones:\n",
    "\t\t- Análisis exploratorio de datos  \n",
    "\t\t- Metodología aplicada  \n",
    "\t\t- Selección y entrenamiento de modelos  \n",
    "\t\t- Evaluación de resultados  \n",
    "\t\t- Optimización de modelos\n",
    "\t\t- Interpretabilidad\n",
    "\t\t- Re-entrenamiento\n",
    "\t\t- Tracking con MLFlow\n",
    "\t\t- Creación de la aplicación web con Gradio y FastAPI\n",
    "\n",
    "Es **altamente recomendable** ir redactando el informe en paralelo al desarrollo de los modelos para garantizar que toda la información relevante quede documentada adecuadamente.  \n",
    "\n",
    "### Nota Final\n",
    "\n",
    "La calificación final de su proyecto se calculará utilizando la siguiente ponderación: \n",
    "\n",
    "$$Nota Final = 0.30 * EntregaParcial1 + 0.40 * EntregaParcial2 + 0.30 * EntregaFinal$$\n",
    "\n",
    "---\n",
    "\n",
    "### **Instrucciones importantes**\n",
    "\n",
    "1. **Formato del informe**:  \n",
    "   - El informe debe estar integrado dentro de un **Jupyter Notebook**. No es necesario subirlo a una plataforma externa, pero debe cumplir con los siguientes requisitos:  \n",
    "     - Estructura clara y ordenada.  \n",
    "     - Código acompañado de explicaciones detalladas.  \n",
    "     - Resultados presentados de forma visual y analítica.  \n",
    "\n",
    "2. **Descuento por informes deficientes**:  \n",
    "   - Cualquier sección del informe que no tenga una explicación adecuada o no respete el formato será penalizada con un descuento en la nota. Esto incluye código sin comentarios o análisis que no sean coherentes con los resultados presentados.\n",
    "   - Comentarios sin formatear de ChatGPT o herramientas similares serán penalizados (e.g: \"Inserta tu modelo acá\", etc.)"
   ]
  },
  {
   "cell_type": "markdown",
   "metadata": {},
   "source": [
    "# 📬 Entrega Parcial 1 (30% del Proyecto)"
   ]
  },
  {
   "cell_type": "markdown",
   "metadata": {},
   "source": [
    "### 📪 Fecha de Entrega: 14 de Mayo"
   ]
  },
  {
   "cell_type": "markdown",
   "metadata": {},
   "source": [
    "## 📌 Abstract [0.25 puntos]\n",
    "\n",
    "<center>\n",
    "<img src=\"https://i.redd.it/h5ptnsyabqvd1.gif\" width=\"400\" height=\"300\">"
   ]
  },
  {
   "cell_type": "markdown",
   "metadata": {},
   "source": [
    "En esta sección, deben redactar un Abstract claro y conciso para su proyecto. El Abstract debe responder a las siguientes preguntas clave:\n",
    "\n",
    "- **Descripción del problema**: ¿Cuál es el objetivo del proyecto? ¿Qué se intenta predecir o analizar?\n",
    "- **Datos de entrada**: ¿Qué datos tienen disponibles? ¿Cuáles son sus principales características?\n",
    "- **Métrica de evaluación**: ¿Cómo medirán el desempeño de sus modelos? Expliquen por qué eligieron esta métrica basándose en el análisis exploratorio de los datos.\n",
    "- **Modelos y transformaciones**: ¿Qué modelos utilizarán y por qué? ¿Qué transformaciones o preprocesamientos aplicaron a los datos?\n",
    "- **Resultados generales**: ¿El modelo final cumplió con los objetivos del proyecto? ¿Cuáles fueron las conclusiones más importantes?\n",
    "\n",
    "**Importante**: Escriban esto despues de haber resuelto el resto de la tarea."
   ]
  },
  {
   "cell_type": "markdown",
   "metadata": {},
   "source": [
    "> [Escriba aquí su Abstract]\n",
    "\n",
    "El objetivo del proyecto es entrenar uno o más modelos (uno superior al anterior), intentando predecir si una persona comprará uno o más productos, y para todos los productos, y estos modelos son específicamene clasificadores de esas dos instancias. \n",
    "\n",
    "Los datos disponibles o de los que disponemos son aquellos que consisten en tres bases de datos: en primer lugar las personas con sus transacciones y los productos que cada una de ellas compró.\n",
    "\n",
    "La métrica que elejimos para medir el desempeño de nuestros modelos será el F1-score weighted debido a que como veremos adelante, nuestras clases 0 y 1 (no compradores y compradores) están desbalanceadas, por lo que el f1-score viene bien al ser un balance adecuado del recall y la precisión. \n",
    "\n",
    "Los modelos que utilizaremos será un Baseline (que es un Dummy Classifier que asigna aleatoria y uniformemente la clase), una Regresión Logística, un XGBoost y un Árbol de Decisión. Elejimos un baseline como el modelo más empobrecido para tener una idea de comparación, y elejimos una regresión Logística por su simplicidad, así como el XGBoost y el Decision Tree por la capacidad de generalizar bien. A estos tres modelos le aplicamos lo siguiente. A sus variables numéricas le aplicamos un imputador con la mediana y standardscaler, mientras que para las columnas categóricas le aplicamos el SimpleImputer cuya estrategia fue most_frequent, y también le aplicamos OneHotEncoder, y a la variable date_purchase que es la fecha de compra, la convertimos en tres nuevas columnas que son los dias, meses o años. También, a dicha fecha debimos convertirla a un formato adecuado de fechas.\n",
    "\n",
    "El modelo que después optimizamos fue el de Decision Tree con al menos 12 hiperparámetros utilizando Optuna. En general, podemos decir que el modelo cumplió con los objetivos del proyecto. Las conclusiones: es importante evitar los sesgos, analizar cuál atributo es más importante en cuanto a la interpretabilidad, como también conocer el hiperparámetro más importante en la optimización. En cuanto a las probabilidades, podemos decir que el Modelo Decision Tree de clasificación es muy bueno y robusto, al utilizar un atributo de balanceo de clases. Además, es importante tener en cuenta librerías como SHAP para analizar sesgos e interpretabilidad (local vs global). "
   ]
  },
  {
   "cell_type": "markdown",
   "metadata": {},
   "source": [
    "## 📌 Pre-procesamiento [0.5 puntos]\n",
    "\n",
    "<center>\n",
    "<img src=\"https://media0.giphy.com/media/10zsjaH4g0GgmY/giphy.gif?cid=6c09b9523xtlunksc9amikw09zk1bmiqwjqnt70ae82rk877&ep=v1_gifs_search&rid=giphy.gif&ct=g\" width=\"400\" height=\"300\">"
   ]
  },
  {
   "cell_type": "markdown",
   "metadata": {},
   "source": [
    "Tal como en muchos otros problemas de negocio, los datos probablemente deben ser pre procesados antes de aplicar cualquier técnica de analítica. Bajo esa premisa, en esta sección deben desarrollar código que les permita **preparar los datos** de tal forma que les permita resolver el problema planteado. Para esto, pueden aplicar procesamientos como:\n",
    "\n",
    "- Transformaciones de tipo de dato (str, int, etc)\n",
    "- Cruce de información\n",
    "- Eliminación de duplicados\n",
    "- Filtros de fila y/o columnas\n",
    "\n",
    "*Hint: ¿Qué forma debería tener la data para resolver un problema de aprendizaje supervisado?*\n",
    "\n",
    "Todo proceso llevado a cabo debe estar bien documentado y justificado en el informe, explicando el por qué se decidió realizar en funcion de los datos presentados y los objetivos planteados del proyecto."
   ]
  },
  {
   "cell_type": "code",
   "execution_count": 1,
   "metadata": {},
   "outputs": [
    {
     "name": "stdout",
     "output_type": "stream",
     "text": [
      "Defaulting to user installation because normal site-packages is not writeable\n",
      "Requirement already satisfied: pyarrow in /Users/diegoespinoza/Library/Python/3.9/lib/python/site-packages (20.0.0)\n"
     ]
    }
   ],
   "source": [
    "!pip install pyarrow"
   ]
  },
  {
   "cell_type": "code",
   "execution_count": 2,
   "metadata": {},
   "outputs": [],
   "source": [
    "import pandas as pd\n",
    "\n",
    "clientes = pd.read_parquet('clientes.parquet')\n",
    "productos = pd.read_parquet('productos.parquet')\n",
    "transacciones = pd.read_parquet('transacciones.parquet')"
   ]
  },
  {
   "cell_type": "code",
   "execution_count": 3,
   "metadata": {},
   "outputs": [],
   "source": [
    "def identificar_columnas(df):\n",
    "    numericas = df.select_dtypes(include=['number']).columns.tolist()\n",
    "    categoricas = df.select_dtypes(include=['object', 'category']).columns.tolist()\n",
    "    todas = set(df.columns)\n",
    "    otras = list(todas - set(numericas) - set(categoricas))\n",
    "    return numericas, categoricas, otras"
   ]
  },
  {
   "cell_type": "code",
   "execution_count": 4,
   "metadata": {},
   "outputs": [
    {
     "name": "stdout",
     "output_type": "stream",
     "text": [
      " - Folder Dataset: clientes\n",
      " - Filas        : 1,569\n",
      " - Numéricas    : ['customer_id', 'region_id', 'zone_id', 'Y', 'X', 'num_deliver_per_week', 'num_visit_per_week']\n",
      " - Categóricas  : ['customer_type']\n",
      " - Otras        : []\n",
      " - Folder Dataset: productos\n",
      " - Filas        : 971\n",
      " - Numéricas    : ['product_id', 'size']\n",
      " - Categóricas  : ['brand', 'category', 'sub_category', 'segment', 'package']\n",
      " - Otras        : []\n",
      " - Folder Dataset: transacciones\n",
      " - Filas        : 254,936\n",
      " - Numéricas    : ['customer_id', 'product_id', 'order_id', 'items']\n",
      " - Categóricas  : []\n",
      " - Otras        : ['purchase_date']\n"
     ]
    }
   ],
   "source": [
    "archivos = [clientes, productos, transacciones]\n",
    "nombres = ['clientes', 'productos', 'transacciones']\n",
    "\n",
    "for nombre, df in zip(nombres, archivos):\n",
    "    numericas, categoricas, otras = identificar_columnas(df)\n",
    "    print(f\" - Folder Dataset: {nombre}\")\n",
    "    print(f\" - Filas        : {len(df):,}\")\n",
    "    print(f\" - Numéricas    : {numericas}\")\n",
    "    print(f\" - Categóricas  : {categoricas}\")\n",
    "    print(f\" - Otras        : {otras}\")\n"
   ]
  },
  {
   "cell_type": "code",
   "execution_count": 5,
   "metadata": {},
   "outputs": [
    {
     "data": {
      "text/html": [
       "<div>\n",
       "<style scoped>\n",
       "    .dataframe tbody tr th:only-of-type {\n",
       "        vertical-align: middle;\n",
       "    }\n",
       "\n",
       "    .dataframe tbody tr th {\n",
       "        vertical-align: top;\n",
       "    }\n",
       "\n",
       "    .dataframe thead th {\n",
       "        text-align: right;\n",
       "    }\n",
       "</style>\n",
       "<table border=\"1\" class=\"dataframe\">\n",
       "  <thead>\n",
       "    <tr style=\"text-align: right;\">\n",
       "      <th></th>\n",
       "      <th>customer_id</th>\n",
       "      <th>region_id</th>\n",
       "      <th>zone_id</th>\n",
       "      <th>customer_type</th>\n",
       "      <th>Y</th>\n",
       "      <th>X</th>\n",
       "      <th>num_deliver_per_week</th>\n",
       "      <th>num_visit_per_week</th>\n",
       "    </tr>\n",
       "  </thead>\n",
       "  <tbody>\n",
       "    <tr>\n",
       "      <th>10705</th>\n",
       "      <td>256017</td>\n",
       "      <td>80</td>\n",
       "      <td>5148</td>\n",
       "      <td>ABARROTES</td>\n",
       "      <td>-46.474800</td>\n",
       "      <td>-108.045140</td>\n",
       "      <td>1</td>\n",
       "      <td>1</td>\n",
       "    </tr>\n",
       "    <tr>\n",
       "      <th>10706</th>\n",
       "      <td>255780</td>\n",
       "      <td>80</td>\n",
       "      <td>5148</td>\n",
       "      <td>ABARROTES</td>\n",
       "      <td>-46.520282</td>\n",
       "      <td>-107.961052</td>\n",
       "      <td>1</td>\n",
       "      <td>1</td>\n",
       "    </tr>\n",
       "    <tr>\n",
       "      <th>10707</th>\n",
       "      <td>254655</td>\n",
       "      <td>80</td>\n",
       "      <td>5148</td>\n",
       "      <td>ABARROTES</td>\n",
       "      <td>-46.537640</td>\n",
       "      <td>-107.909280</td>\n",
       "      <td>1</td>\n",
       "      <td>1</td>\n",
       "    </tr>\n",
       "    <tr>\n",
       "      <th>10708</th>\n",
       "      <td>254445</td>\n",
       "      <td>80</td>\n",
       "      <td>5148</td>\n",
       "      <td>ABARROTES</td>\n",
       "      <td>-46.543526</td>\n",
       "      <td>-107.917954</td>\n",
       "      <td>2</td>\n",
       "      <td>1</td>\n",
       "    </tr>\n",
       "    <tr>\n",
       "      <th>10709</th>\n",
       "      <td>254403</td>\n",
       "      <td>80</td>\n",
       "      <td>5148</td>\n",
       "      <td>ABARROTES</td>\n",
       "      <td>-46.540856</td>\n",
       "      <td>-107.905792</td>\n",
       "      <td>3</td>\n",
       "      <td>1</td>\n",
       "    </tr>\n",
       "  </tbody>\n",
       "</table>\n",
       "</div>"
      ],
      "text/plain": [
       "       customer_id  region_id  zone_id customer_type          Y           X  \\\n",
       "10705       256017         80     5148     ABARROTES -46.474800 -108.045140   \n",
       "10706       255780         80     5148     ABARROTES -46.520282 -107.961052   \n",
       "10707       254655         80     5148     ABARROTES -46.537640 -107.909280   \n",
       "10708       254445         80     5148     ABARROTES -46.543526 -107.917954   \n",
       "10709       254403         80     5148     ABARROTES -46.540856 -107.905792   \n",
       "\n",
       "       num_deliver_per_week  num_visit_per_week  \n",
       "10705                     1                   1  \n",
       "10706                     1                   1  \n",
       "10707                     1                   1  \n",
       "10708                     2                   1  \n",
       "10709                     3                   1  "
      ]
     },
     "execution_count": 5,
     "metadata": {},
     "output_type": "execute_result"
    }
   ],
   "source": [
    "clientes.head()"
   ]
  },
  {
   "cell_type": "code",
   "execution_count": 6,
   "metadata": {},
   "outputs": [
    {
     "data": {
      "text/html": [
       "<div>\n",
       "<style scoped>\n",
       "    .dataframe tbody tr th:only-of-type {\n",
       "        vertical-align: middle;\n",
       "    }\n",
       "\n",
       "    .dataframe tbody tr th {\n",
       "        vertical-align: top;\n",
       "    }\n",
       "\n",
       "    .dataframe thead th {\n",
       "        text-align: right;\n",
       "    }\n",
       "</style>\n",
       "<table border=\"1\" class=\"dataframe\">\n",
       "  <thead>\n",
       "    <tr style=\"text-align: right;\">\n",
       "      <th></th>\n",
       "      <th>product_id</th>\n",
       "      <th>brand</th>\n",
       "      <th>category</th>\n",
       "      <th>sub_category</th>\n",
       "      <th>segment</th>\n",
       "      <th>package</th>\n",
       "      <th>size</th>\n",
       "    </tr>\n",
       "  </thead>\n",
       "  <tbody>\n",
       "    <tr>\n",
       "      <th>0</th>\n",
       "      <td>34092</td>\n",
       "      <td>Brand 31</td>\n",
       "      <td>BEBIDAS CARBONATADAS</td>\n",
       "      <td>GASEOSAS</td>\n",
       "      <td>PREMIUM</td>\n",
       "      <td>BOTELLA</td>\n",
       "      <td>0.66</td>\n",
       "    </tr>\n",
       "    <tr>\n",
       "      <th>1</th>\n",
       "      <td>57290</td>\n",
       "      <td>Brand 31</td>\n",
       "      <td>BEBIDAS CARBONATADAS</td>\n",
       "      <td>GASEOSAS</td>\n",
       "      <td>PREMIUM</td>\n",
       "      <td>BOTELLA</td>\n",
       "      <td>0.66</td>\n",
       "    </tr>\n",
       "    <tr>\n",
       "      <th>2</th>\n",
       "      <td>56714</td>\n",
       "      <td>Brand 31</td>\n",
       "      <td>BEBIDAS CARBONATADAS</td>\n",
       "      <td>GASEOSAS</td>\n",
       "      <td>PREMIUM</td>\n",
       "      <td>BOTELLA</td>\n",
       "      <td>0.66</td>\n",
       "    </tr>\n",
       "    <tr>\n",
       "      <th>3</th>\n",
       "      <td>296616</td>\n",
       "      <td>Brand 31</td>\n",
       "      <td>BEBIDAS CARBONATADAS</td>\n",
       "      <td>GASEOSAS</td>\n",
       "      <td>PREMIUM</td>\n",
       "      <td>BOTELLA</td>\n",
       "      <td>0.66</td>\n",
       "    </tr>\n",
       "    <tr>\n",
       "      <th>4</th>\n",
       "      <td>60854</td>\n",
       "      <td>Brand 31</td>\n",
       "      <td>BEBIDAS CARBONATADAS</td>\n",
       "      <td>GASEOSAS</td>\n",
       "      <td>PREMIUM</td>\n",
       "      <td>BOTELLA</td>\n",
       "      <td>0.25</td>\n",
       "    </tr>\n",
       "  </tbody>\n",
       "</table>\n",
       "</div>"
      ],
      "text/plain": [
       "   product_id     brand              category sub_category  segment  package  \\\n",
       "0       34092  Brand 31  BEBIDAS CARBONATADAS     GASEOSAS  PREMIUM  BOTELLA   \n",
       "1       57290  Brand 31  BEBIDAS CARBONATADAS     GASEOSAS  PREMIUM  BOTELLA   \n",
       "2       56714  Brand 31  BEBIDAS CARBONATADAS     GASEOSAS  PREMIUM  BOTELLA   \n",
       "3      296616  Brand 31  BEBIDAS CARBONATADAS     GASEOSAS  PREMIUM  BOTELLA   \n",
       "4       60854  Brand 31  BEBIDAS CARBONATADAS     GASEOSAS  PREMIUM  BOTELLA   \n",
       "\n",
       "   size  \n",
       "0  0.66  \n",
       "1  0.66  \n",
       "2  0.66  \n",
       "3  0.66  \n",
       "4  0.25  "
      ]
     },
     "execution_count": 6,
     "metadata": {},
     "output_type": "execute_result"
    }
   ],
   "source": [
    "productos.head()"
   ]
  },
  {
   "cell_type": "code",
   "execution_count": 7,
   "metadata": {},
   "outputs": [
    {
     "data": {
      "text/html": [
       "<div>\n",
       "<style scoped>\n",
       "    .dataframe tbody tr th:only-of-type {\n",
       "        vertical-align: middle;\n",
       "    }\n",
       "\n",
       "    .dataframe tbody tr th {\n",
       "        vertical-align: top;\n",
       "    }\n",
       "\n",
       "    .dataframe thead th {\n",
       "        text-align: right;\n",
       "    }\n",
       "</style>\n",
       "<table border=\"1\" class=\"dataframe\">\n",
       "  <thead>\n",
       "    <tr style=\"text-align: right;\">\n",
       "      <th></th>\n",
       "      <th>customer_id</th>\n",
       "      <th>product_id</th>\n",
       "      <th>order_id</th>\n",
       "      <th>purchase_date</th>\n",
       "      <th>items</th>\n",
       "    </tr>\n",
       "  </thead>\n",
       "  <tbody>\n",
       "    <tr>\n",
       "      <th>124</th>\n",
       "      <td>61353</td>\n",
       "      <td>61364</td>\n",
       "      <td>411145</td>\n",
       "      <td>2024-04-27</td>\n",
       "      <td>-0.333333</td>\n",
       "    </tr>\n",
       "    <tr>\n",
       "      <th>127</th>\n",
       "      <td>61899</td>\n",
       "      <td>1370</td>\n",
       "      <td>411156</td>\n",
       "      <td>2024-04-27</td>\n",
       "      <td>3.666667</td>\n",
       "    </tr>\n",
       "    <tr>\n",
       "      <th>344</th>\n",
       "      <td>154077</td>\n",
       "      <td>30500</td>\n",
       "      <td>417911</td>\n",
       "      <td>2024-04-29</td>\n",
       "      <td>2.333333</td>\n",
       "    </tr>\n",
       "    <tr>\n",
       "      <th>349</th>\n",
       "      <td>164337</td>\n",
       "      <td>56714</td>\n",
       "      <td>418100</td>\n",
       "      <td>2024-04-29</td>\n",
       "      <td>-2.333333</td>\n",
       "    </tr>\n",
       "    <tr>\n",
       "      <th>354</th>\n",
       "      <td>172056</td>\n",
       "      <td>61672</td>\n",
       "      <td>407162</td>\n",
       "      <td>2024-04-26</td>\n",
       "      <td>1.000000</td>\n",
       "    </tr>\n",
       "  </tbody>\n",
       "</table>\n",
       "</div>"
      ],
      "text/plain": [
       "     customer_id  product_id  order_id purchase_date     items\n",
       "124        61353       61364    411145    2024-04-27 -0.333333\n",
       "127        61899        1370    411156    2024-04-27  3.666667\n",
       "344       154077       30500    417911    2024-04-29  2.333333\n",
       "349       164337       56714    418100    2024-04-29 -2.333333\n",
       "354       172056       61672    407162    2024-04-26  1.000000"
      ]
     },
     "execution_count": 7,
     "metadata": {},
     "output_type": "execute_result"
    }
   ],
   "source": [
    "transacciones.head()"
   ]
  },
  {
   "cell_type": "code",
   "execution_count": 8,
   "metadata": {},
   "outputs": [],
   "source": [
    "df = pd.merge(\n",
    "    transacciones,\n",
    "    clientes,\n",
    "    on='customer_id',\n",
    "    how='left'\n",
    ")\n",
    "\n",
    "df = pd.merge(\n",
    "    df,\n",
    "    productos,\n",
    "    on='product_id',\n",
    "    how='left'\n",
    ")\n",
    "\n",
    "df['purchase_date'] = pd.to_datetime(df['purchase_date'])"
   ]
  },
  {
   "cell_type": "code",
   "execution_count": 9,
   "metadata": {},
   "outputs": [
    {
     "data": {
      "text/plain": [
       "Index(['customer_id', 'product_id', 'order_id', 'purchase_date', 'items',\n",
       "       'region_id', 'zone_id', 'customer_type', 'Y', 'X',\n",
       "       'num_deliver_per_week', 'num_visit_per_week', 'brand', 'category',\n",
       "       'sub_category', 'segment', 'package', 'size'],\n",
       "      dtype='object')"
      ]
     },
     "execution_count": 9,
     "metadata": {},
     "output_type": "execute_result"
    }
   ],
   "source": [
    "df.columns"
   ]
  },
  {
   "cell_type": "markdown",
   "metadata": {},
   "source": [
    "*Esto agrega a cada transacción los datos del cliente: región, zona, tipo de cliente, coordenadas y frecuencia de entrega/visita.*\n",
    "\n",
    "*Y luego también la info del producto: marca, categoría, tamaño, etc.*\n",
    "\n",
    "*La cantidad de filas de **df** es la misma que la cantidad de transacciones en la tabla transacciones.*"
   ]
  },
  {
   "cell_type": "markdown",
   "metadata": {},
   "source": [
    "## 📌 EDA [0.5 puntos]\n",
    "\n",
    "<center>\n",
    "<img src=\"https://media3.giphy.com/media/v1.Y2lkPTc5MGI3NjExbHZ6aGdkd21tYTI3cW8zYWhyYW5wdGlyb2s3MmRzeTV0dzQ1NWlueiZlcD12MV9pbnRlcm5hbF9naWZfYnlfaWQmY3Q9Zw/3k1hJubTtOAKPKx4k3/giphy.gif\" width=\"400\" height=\"200\">"
   ]
  },
  {
   "cell_type": "markdown",
   "metadata": {},
   "source": [
    "En esta sección, se debe realizar un análisis exploratorio de los datos para comprender su estructura, detectar posibles problemas y obtener información relevante para el entrenamiento de los modelos. La idea es que puedan detectar **patrones en los datos** que les permitan resolver el problema con mayor facilidad.\n",
    "\n",
    "Se deben responder preguntas a partir de lo que puedan visualizar/obtener, por ejemplo:\n",
    "\n",
    "- Clientes y productos\n",
    "\n",
    "    - ¿Cuántos clientes únicos hay en el dataset?\n",
    "\n",
    "    - ¿Cuántos productos únicos se encuentran en los datos?\n",
    "\n",
    "- Periodo y frecuencia\n",
    "\n",
    "    - ¿De qué periodo es la información disponible?\n",
    "\n",
    "    - ¿Cuál es la frecuencia de los registros (diaria, semanal, mensual, etc.)?\n",
    "\n",
    "- Calidad de los datos\n",
    "\n",
    "    - ¿Existen valores nulos en el dataset? ¿Cuántos? ¿Cómo se pueden tratar?\n",
    "\n",
    "    - ¿Hay datos raros, como cantidades negativas o inconsistencias? Genere tests de validación para identificar estos problemas.\n",
    "\n",
    "- Patrones de compra\n",
    "\n",
    "    - ¿Cuántos productos compra en promedio cada cliente semana a semana?\n",
    "\n",
    "    - ¿Cuántas transacciones ha realizado cada cliente?\n",
    "\n",
    "    - ¿Cuál es el periodo de recompra promedio de cada SKU?"
   ]
  },
  {
   "cell_type": "markdown",
   "metadata": {},
   "source": [
    "**Clientes y productos**"
   ]
  },
  {
   "cell_type": "code",
   "execution_count": 10,
   "metadata": {},
   "outputs": [
    {
     "name": "stdout",
     "output_type": "stream",
     "text": [
      " Número de clientes únicos: 1569\n",
      " Número de clientes únicos en merged table: 1490\n"
     ]
    }
   ],
   "source": [
    "print(f\" Número de clientes únicos: {clientes['customer_id'].nunique()}\")\n",
    "print(f\" Número de clientes únicos en merged table: {df['customer_id'].nunique()}\")"
   ]
  },
  {
   "cell_type": "code",
   "execution_count": 11,
   "metadata": {},
   "outputs": [
    {
     "name": "stdout",
     "output_type": "stream",
     "text": [
      " Número de productos únicos: 971\n",
      " Número de productos únicos en merged table: 114\n"
     ]
    }
   ],
   "source": [
    "print(f\" Número de productos únicos: {productos['product_id'].nunique()}\")\n",
    "print(f\" Número de productos únicos en merged table: {df['product_id'].nunique()}\")"
   ]
  },
  {
   "cell_type": "markdown",
   "metadata": {},
   "source": [
    "- Clientes y productos\n",
    "\n",
    "    - ¿Cuántos clientes únicos hay en el dataset? Hay 1569 clientes únicos en el dataset clientes, mientras que en la tabla que es el merge entre las tres, solo hay 1490, lo que indica que solo 1490 de 1569 personas han comprado alguna vez o realizado una transacción.\n",
    "\n",
    "    - ¿Cuántos productos únicos se encuentran en los datos? Hay 971 productos, de los cuales solo se han involucrado en una transacción 114, lo que indica que la cantidad de productos es casi del 10% (la mayoría de los productos no se compran nunca!)."
   ]
  },
  {
   "cell_type": "markdown",
   "metadata": {},
   "source": [
    "**Periodo y frecuencia**"
   ]
  },
  {
   "cell_type": "code",
   "execution_count": 12,
   "metadata": {},
   "outputs": [
    {
     "name": "stdout",
     "output_type": "stream",
     "text": [
      " Nombre de la columa fecha: Index(['purchase_date'], dtype='object')\n"
     ]
    }
   ],
   "source": [
    "print(f\" Nombre de la columa fecha: {df.select_dtypes(include=['datetime']).columns}\")"
   ]
  },
  {
   "cell_type": "code",
   "execution_count": 126,
   "metadata": {},
   "outputs": [
    {
     "data": {
      "application/vnd.plotly.v1+json": {
       "config": {
        "plotlyServerURL": "https://plot.ly"
       },
       "data": [
        {
         "hovertemplate": "Fecha=%{x}<br>Número de Transacciones=%{y}<extra></extra>",
         "legendgroup": "",
         "line": {
          "color": "#636efa",
          "dash": "solid"
         },
         "marker": {
          "symbol": "circle"
         },
         "mode": "lines+markers",
         "name": "",
         "orientation": "v",
         "showlegend": false,
         "type": "scatter",
         "x": [
          "2024-01-01T00:00:00.000000000",
          "2024-01-02T00:00:00.000000000",
          "2024-01-03T00:00:00.000000000",
          "2024-01-04T00:00:00.000000000",
          "2024-01-05T00:00:00.000000000",
          "2024-01-06T00:00:00.000000000",
          "2024-01-07T00:00:00.000000000",
          "2024-01-08T00:00:00.000000000",
          "2024-01-09T00:00:00.000000000",
          "2024-01-10T00:00:00.000000000",
          "2024-01-11T00:00:00.000000000",
          "2024-01-12T00:00:00.000000000",
          "2024-01-13T00:00:00.000000000",
          "2024-01-14T00:00:00.000000000",
          "2024-01-15T00:00:00.000000000",
          "2024-01-16T00:00:00.000000000",
          "2024-01-17T00:00:00.000000000",
          "2024-01-18T00:00:00.000000000",
          "2024-01-19T00:00:00.000000000",
          "2024-01-20T00:00:00.000000000",
          "2024-01-21T00:00:00.000000000",
          "2024-01-22T00:00:00.000000000",
          "2024-01-23T00:00:00.000000000",
          "2024-01-24T00:00:00.000000000",
          "2024-01-25T00:00:00.000000000",
          "2024-01-26T00:00:00.000000000",
          "2024-01-27T00:00:00.000000000",
          "2024-01-28T00:00:00.000000000",
          "2024-01-29T00:00:00.000000000",
          "2024-01-30T00:00:00.000000000",
          "2024-01-31T00:00:00.000000000",
          "2024-02-01T00:00:00.000000000",
          "2024-02-02T00:00:00.000000000",
          "2024-02-03T00:00:00.000000000",
          "2024-02-04T00:00:00.000000000",
          "2024-02-05T00:00:00.000000000",
          "2024-02-06T00:00:00.000000000",
          "2024-02-07T00:00:00.000000000",
          "2024-02-08T00:00:00.000000000",
          "2024-02-09T00:00:00.000000000",
          "2024-02-10T00:00:00.000000000",
          "2024-02-11T00:00:00.000000000",
          "2024-02-12T00:00:00.000000000",
          "2024-02-13T00:00:00.000000000",
          "2024-02-14T00:00:00.000000000",
          "2024-02-15T00:00:00.000000000",
          "2024-02-16T00:00:00.000000000",
          "2024-02-17T00:00:00.000000000",
          "2024-02-18T00:00:00.000000000",
          "2024-02-19T00:00:00.000000000",
          "2024-02-20T00:00:00.000000000",
          "2024-02-21T00:00:00.000000000",
          "2024-02-22T00:00:00.000000000",
          "2024-02-23T00:00:00.000000000",
          "2024-02-24T00:00:00.000000000",
          "2024-02-25T00:00:00.000000000",
          "2024-02-26T00:00:00.000000000",
          "2024-02-27T00:00:00.000000000",
          "2024-02-28T00:00:00.000000000",
          "2024-02-29T00:00:00.000000000",
          "2024-03-01T00:00:00.000000000",
          "2024-03-02T00:00:00.000000000",
          "2024-03-03T00:00:00.000000000",
          "2024-03-04T00:00:00.000000000",
          "2024-03-05T00:00:00.000000000",
          "2024-03-06T00:00:00.000000000",
          "2024-03-07T00:00:00.000000000",
          "2024-03-08T00:00:00.000000000",
          "2024-03-09T00:00:00.000000000",
          "2024-03-10T00:00:00.000000000",
          "2024-03-11T00:00:00.000000000",
          "2024-03-12T00:00:00.000000000",
          "2024-03-13T00:00:00.000000000",
          "2024-03-14T00:00:00.000000000",
          "2024-03-15T00:00:00.000000000",
          "2024-03-16T00:00:00.000000000",
          "2024-03-17T00:00:00.000000000",
          "2024-03-18T00:00:00.000000000",
          "2024-03-19T00:00:00.000000000",
          "2024-03-20T00:00:00.000000000",
          "2024-03-21T00:00:00.000000000",
          "2024-03-22T00:00:00.000000000",
          "2024-03-23T00:00:00.000000000",
          "2024-03-24T00:00:00.000000000",
          "2024-03-25T00:00:00.000000000",
          "2024-03-26T00:00:00.000000000",
          "2024-03-27T00:00:00.000000000",
          "2024-03-28T00:00:00.000000000",
          "2024-03-29T00:00:00.000000000",
          "2024-03-30T00:00:00.000000000",
          "2024-03-31T00:00:00.000000000",
          "2024-04-01T00:00:00.000000000",
          "2024-04-02T00:00:00.000000000",
          "2024-04-03T00:00:00.000000000",
          "2024-04-04T00:00:00.000000000",
          "2024-04-05T00:00:00.000000000",
          "2024-04-06T00:00:00.000000000",
          "2024-04-07T00:00:00.000000000",
          "2024-04-08T00:00:00.000000000",
          "2024-04-09T00:00:00.000000000",
          "2024-04-10T00:00:00.000000000",
          "2024-04-11T00:00:00.000000000",
          "2024-04-12T00:00:00.000000000",
          "2024-04-13T00:00:00.000000000",
          "2024-04-14T00:00:00.000000000",
          "2024-04-15T00:00:00.000000000",
          "2024-04-16T00:00:00.000000000",
          "2024-04-17T00:00:00.000000000",
          "2024-04-18T00:00:00.000000000",
          "2024-04-19T00:00:00.000000000",
          "2024-04-20T00:00:00.000000000",
          "2024-04-21T00:00:00.000000000",
          "2024-04-22T00:00:00.000000000",
          "2024-04-23T00:00:00.000000000",
          "2024-04-24T00:00:00.000000000",
          "2024-04-25T00:00:00.000000000",
          "2024-04-26T00:00:00.000000000",
          "2024-04-27T00:00:00.000000000",
          "2024-04-28T00:00:00.000000000",
          "2024-04-29T00:00:00.000000000",
          "2024-04-30T00:00:00.000000000",
          "2024-05-01T00:00:00.000000000",
          "2024-05-02T00:00:00.000000000",
          "2024-05-03T00:00:00.000000000",
          "2024-05-04T00:00:00.000000000",
          "2024-05-05T00:00:00.000000000",
          "2024-05-06T00:00:00.000000000",
          "2024-05-07T00:00:00.000000000",
          "2024-05-08T00:00:00.000000000",
          "2024-05-09T00:00:00.000000000",
          "2024-05-10T00:00:00.000000000",
          "2024-05-11T00:00:00.000000000",
          "2024-05-12T00:00:00.000000000",
          "2024-05-13T00:00:00.000000000",
          "2024-05-14T00:00:00.000000000",
          "2024-05-15T00:00:00.000000000",
          "2024-05-16T00:00:00.000000000",
          "2024-05-17T00:00:00.000000000",
          "2024-05-18T00:00:00.000000000",
          "2024-05-19T00:00:00.000000000",
          "2024-05-20T00:00:00.000000000",
          "2024-05-21T00:00:00.000000000",
          "2024-05-22T00:00:00.000000000",
          "2024-05-23T00:00:00.000000000",
          "2024-05-24T00:00:00.000000000",
          "2024-05-25T00:00:00.000000000",
          "2024-05-26T00:00:00.000000000",
          "2024-05-27T00:00:00.000000000",
          "2024-05-28T00:00:00.000000000",
          "2024-05-29T00:00:00.000000000",
          "2024-05-30T00:00:00.000000000",
          "2024-05-31T00:00:00.000000000",
          "2024-06-01T00:00:00.000000000",
          "2024-06-02T00:00:00.000000000",
          "2024-06-03T00:00:00.000000000",
          "2024-06-04T00:00:00.000000000",
          "2024-06-05T00:00:00.000000000",
          "2024-06-06T00:00:00.000000000",
          "2024-06-07T00:00:00.000000000",
          "2024-06-08T00:00:00.000000000",
          "2024-06-09T00:00:00.000000000",
          "2024-06-10T00:00:00.000000000",
          "2024-06-11T00:00:00.000000000",
          "2024-06-12T00:00:00.000000000",
          "2024-06-13T00:00:00.000000000",
          "2024-06-14T00:00:00.000000000",
          "2024-06-15T00:00:00.000000000",
          "2024-06-16T00:00:00.000000000",
          "2024-06-17T00:00:00.000000000",
          "2024-06-18T00:00:00.000000000",
          "2024-06-19T00:00:00.000000000",
          "2024-06-20T00:00:00.000000000",
          "2024-06-21T00:00:00.000000000",
          "2024-06-22T00:00:00.000000000",
          "2024-06-23T00:00:00.000000000",
          "2024-06-24T00:00:00.000000000",
          "2024-06-25T00:00:00.000000000",
          "2024-06-26T00:00:00.000000000",
          "2024-06-27T00:00:00.000000000",
          "2024-06-28T00:00:00.000000000",
          "2024-06-29T00:00:00.000000000",
          "2024-06-30T00:00:00.000000000",
          "2024-07-01T00:00:00.000000000",
          "2024-07-02T00:00:00.000000000",
          "2024-07-03T00:00:00.000000000",
          "2024-07-04T00:00:00.000000000",
          "2024-07-05T00:00:00.000000000",
          "2024-07-06T00:00:00.000000000",
          "2024-07-07T00:00:00.000000000",
          "2024-07-08T00:00:00.000000000",
          "2024-07-09T00:00:00.000000000",
          "2024-07-10T00:00:00.000000000",
          "2024-07-11T00:00:00.000000000",
          "2024-07-12T00:00:00.000000000",
          "2024-07-13T00:00:00.000000000",
          "2024-07-14T00:00:00.000000000",
          "2024-07-15T00:00:00.000000000",
          "2024-07-16T00:00:00.000000000",
          "2024-07-17T00:00:00.000000000",
          "2024-07-18T00:00:00.000000000",
          "2024-07-19T00:00:00.000000000",
          "2024-07-20T00:00:00.000000000",
          "2024-07-21T00:00:00.000000000",
          "2024-07-22T00:00:00.000000000",
          "2024-07-23T00:00:00.000000000",
          "2024-07-24T00:00:00.000000000",
          "2024-07-25T00:00:00.000000000",
          "2024-07-26T00:00:00.000000000",
          "2024-07-27T00:00:00.000000000",
          "2024-07-28T00:00:00.000000000",
          "2024-07-29T00:00:00.000000000",
          "2024-07-30T00:00:00.000000000",
          "2024-07-31T00:00:00.000000000",
          "2024-08-01T00:00:00.000000000",
          "2024-08-02T00:00:00.000000000",
          "2024-08-03T00:00:00.000000000",
          "2024-08-04T00:00:00.000000000",
          "2024-08-05T00:00:00.000000000",
          "2024-08-06T00:00:00.000000000",
          "2024-08-07T00:00:00.000000000",
          "2024-08-08T00:00:00.000000000",
          "2024-08-09T00:00:00.000000000",
          "2024-08-10T00:00:00.000000000",
          "2024-08-11T00:00:00.000000000",
          "2024-08-12T00:00:00.000000000",
          "2024-08-13T00:00:00.000000000",
          "2024-08-14T00:00:00.000000000",
          "2024-08-15T00:00:00.000000000",
          "2024-08-16T00:00:00.000000000",
          "2024-08-17T00:00:00.000000000",
          "2024-08-18T00:00:00.000000000",
          "2024-08-19T00:00:00.000000000",
          "2024-08-20T00:00:00.000000000",
          "2024-08-21T00:00:00.000000000",
          "2024-08-22T00:00:00.000000000",
          "2024-08-23T00:00:00.000000000",
          "2024-08-24T00:00:00.000000000",
          "2024-08-25T00:00:00.000000000",
          "2024-08-26T00:00:00.000000000",
          "2024-08-27T00:00:00.000000000",
          "2024-08-28T00:00:00.000000000",
          "2024-08-29T00:00:00.000000000",
          "2024-08-30T00:00:00.000000000",
          "2024-08-31T00:00:00.000000000",
          "2024-09-01T00:00:00.000000000",
          "2024-09-02T00:00:00.000000000",
          "2024-09-03T00:00:00.000000000",
          "2024-09-04T00:00:00.000000000",
          "2024-09-05T00:00:00.000000000",
          "2024-09-06T00:00:00.000000000",
          "2024-09-07T00:00:00.000000000",
          "2024-09-08T00:00:00.000000000",
          "2024-09-09T00:00:00.000000000",
          "2024-09-10T00:00:00.000000000",
          "2024-09-11T00:00:00.000000000",
          "2024-09-12T00:00:00.000000000",
          "2024-09-13T00:00:00.000000000",
          "2024-09-14T00:00:00.000000000",
          "2024-09-15T00:00:00.000000000",
          "2024-09-16T00:00:00.000000000",
          "2024-09-17T00:00:00.000000000",
          "2024-09-18T00:00:00.000000000",
          "2024-09-19T00:00:00.000000000",
          "2024-09-20T00:00:00.000000000",
          "2024-09-21T00:00:00.000000000",
          "2024-09-22T00:00:00.000000000",
          "2024-09-23T00:00:00.000000000",
          "2024-09-24T00:00:00.000000000",
          "2024-09-25T00:00:00.000000000",
          "2024-09-26T00:00:00.000000000",
          "2024-09-27T00:00:00.000000000",
          "2024-09-28T00:00:00.000000000",
          "2024-09-29T00:00:00.000000000",
          "2024-09-30T00:00:00.000000000",
          "2024-10-01T00:00:00.000000000",
          "2024-10-02T00:00:00.000000000",
          "2024-10-03T00:00:00.000000000",
          "2024-10-04T00:00:00.000000000",
          "2024-10-05T00:00:00.000000000",
          "2024-10-06T00:00:00.000000000",
          "2024-10-07T00:00:00.000000000",
          "2024-10-08T00:00:00.000000000",
          "2024-10-09T00:00:00.000000000",
          "2024-10-10T00:00:00.000000000",
          "2024-10-11T00:00:00.000000000",
          "2024-10-12T00:00:00.000000000",
          "2024-10-13T00:00:00.000000000",
          "2024-10-14T00:00:00.000000000",
          "2024-10-15T00:00:00.000000000",
          "2024-10-16T00:00:00.000000000",
          "2024-10-17T00:00:00.000000000",
          "2024-10-18T00:00:00.000000000",
          "2024-10-19T00:00:00.000000000",
          "2024-10-20T00:00:00.000000000",
          "2024-10-21T00:00:00.000000000",
          "2024-10-22T00:00:00.000000000",
          "2024-10-23T00:00:00.000000000",
          "2024-10-24T00:00:00.000000000",
          "2024-10-25T00:00:00.000000000",
          "2024-10-26T00:00:00.000000000",
          "2024-10-27T00:00:00.000000000",
          "2024-10-28T00:00:00.000000000",
          "2024-10-29T00:00:00.000000000",
          "2024-10-30T00:00:00.000000000",
          "2024-10-31T00:00:00.000000000",
          "2024-11-01T00:00:00.000000000",
          "2024-11-02T00:00:00.000000000",
          "2024-11-03T00:00:00.000000000",
          "2024-11-04T00:00:00.000000000",
          "2024-11-05T00:00:00.000000000",
          "2024-11-06T00:00:00.000000000",
          "2024-11-07T00:00:00.000000000",
          "2024-11-08T00:00:00.000000000",
          "2024-11-09T00:00:00.000000000",
          "2024-11-10T00:00:00.000000000",
          "2024-11-11T00:00:00.000000000",
          "2024-11-12T00:00:00.000000000",
          "2024-11-13T00:00:00.000000000",
          "2024-11-14T00:00:00.000000000",
          "2024-11-15T00:00:00.000000000",
          "2024-11-16T00:00:00.000000000",
          "2024-11-17T00:00:00.000000000",
          "2024-11-18T00:00:00.000000000",
          "2024-11-19T00:00:00.000000000",
          "2024-11-20T00:00:00.000000000",
          "2024-11-21T00:00:00.000000000",
          "2024-11-22T00:00:00.000000000",
          "2024-11-23T00:00:00.000000000",
          "2024-11-24T00:00:00.000000000",
          "2024-11-25T00:00:00.000000000",
          "2024-11-26T00:00:00.000000000",
          "2024-11-27T00:00:00.000000000",
          "2024-11-28T00:00:00.000000000",
          "2024-11-29T00:00:00.000000000",
          "2024-11-30T00:00:00.000000000",
          "2024-12-01T00:00:00.000000000",
          "2024-12-02T00:00:00.000000000",
          "2024-12-03T00:00:00.000000000",
          "2024-12-04T00:00:00.000000000",
          "2024-12-05T00:00:00.000000000",
          "2024-12-06T00:00:00.000000000",
          "2024-12-07T00:00:00.000000000",
          "2024-12-08T00:00:00.000000000",
          "2024-12-09T00:00:00.000000000",
          "2024-12-10T00:00:00.000000000",
          "2024-12-11T00:00:00.000000000",
          "2024-12-12T00:00:00.000000000",
          "2024-12-13T00:00:00.000000000",
          "2024-12-14T00:00:00.000000000",
          "2024-12-15T00:00:00.000000000",
          "2024-12-16T00:00:00.000000000",
          "2024-12-17T00:00:00.000000000",
          "2024-12-18T00:00:00.000000000",
          "2024-12-19T00:00:00.000000000",
          "2024-12-20T00:00:00.000000000",
          "2024-12-21T00:00:00.000000000",
          "2024-12-22T00:00:00.000000000",
          "2024-12-23T00:00:00.000000000",
          "2024-12-24T00:00:00.000000000",
          "2024-12-25T00:00:00.000000000",
          "2024-12-26T00:00:00.000000000",
          "2024-12-27T00:00:00.000000000",
          "2024-12-28T00:00:00.000000000",
          "2024-12-29T00:00:00.000000000",
          "2024-12-30T00:00:00.000000000",
          "2024-12-31T00:00:00.000000000"
         ],
         "xaxis": "x",
         "y": {
          "bdata": "pgBmBAQDMQSbA6EBWACvBLQDLQT8AloDTAFmAL4EfgM7A5IEtQOmAUMAHQQPA6QC/ATFAz8BOACmA40DoAKzBPgDXQGOAFsE6APkAocEcgReAYEAdAQBA1cCHgMzA5QBTwAZBP0CrQLyA8sDlAFXAKgE2wMmBOkCZQGCAUMArwOSA2sCJwNpAzYBmwDQBIID3QJEBHAEWwFlAPMDfAPjAn8D2QObAl4CdwXwBPgC5QI8AP4ChACaBIwDFwNTBH0BOQFpAEcD/AIrApACzAI5AUYA2AGvASkCzgLmAv4ASgDYAicC+gFJA0gE6wKDAXEIsAHyAKwFxwIHAWQAiQPqAsAC0AK1AyUDiQBcAusAVAAlAlkBiAASAHUBNgHWAfIBVAG+ABAASAEGAf4AUAIbAdkAOADLAl4CeAKwA50DgQHOAOcDfwNaA+oERwTnADEArwKjAu8C4QM4A1cBWQDdArYCJAJ2AkICfgAkAJQBuQEsAgcD9QGaACIAhgEWAVsBGwEcAVYAGgB7AYIB7AEqAyoEYQF8AK4EZAMQA14EqgNRAUkAzwIiAoYCkANNBCsBWgAdBEMDBgK+AnYC5QAiAEwCWQK7ArQDKAQRAW0AIwUsA6kCQQJvAvsAOwB0Aj4CogKYBNYDIQFDAJ0CPQOEAuUDMAOgAWwA3QTHA2YDggOfAjYBQQBaA74C1wOCBIQDWgFcAP4E9gQvBFoEFQQ/AuQBIwP9A9ECswMvBKYBXwAOBCAD3gK9AgEDhgGTAFIDtQIFA5IErgNpAYMAjgQZA5ADtAQfBRMBRwHCA8EDcgMaBBUEUwGHAPkDxgMKA7ADHARUAZMApQSvAigDzwOhBMwBpwBQBZcD/ANbBfYE4wKxAbMEuwP4A3EEWgSEAe8AiAQNBI0DOwQ/BToBdACiAoMCxgP4BNEDqQEtAj4F9gQrBNoFoAevBNMGeQaQAQsBowdEBrgEZQQYBRMB",
          "dtype": "i2"
         },
         "yaxis": "y"
        }
       ],
       "layout": {
        "legend": {
         "tracegroupgap": 0
        },
        "template": {
         "data": {
          "bar": [
           {
            "error_x": {
             "color": "#2a3f5f"
            },
            "error_y": {
             "color": "#2a3f5f"
            },
            "marker": {
             "line": {
              "color": "white",
              "width": 0.5
             },
             "pattern": {
              "fillmode": "overlay",
              "size": 10,
              "solidity": 0.2
             }
            },
            "type": "bar"
           }
          ],
          "barpolar": [
           {
            "marker": {
             "line": {
              "color": "white",
              "width": 0.5
             },
             "pattern": {
              "fillmode": "overlay",
              "size": 10,
              "solidity": 0.2
             }
            },
            "type": "barpolar"
           }
          ],
          "carpet": [
           {
            "aaxis": {
             "endlinecolor": "#2a3f5f",
             "gridcolor": "#C8D4E3",
             "linecolor": "#C8D4E3",
             "minorgridcolor": "#C8D4E3",
             "startlinecolor": "#2a3f5f"
            },
            "baxis": {
             "endlinecolor": "#2a3f5f",
             "gridcolor": "#C8D4E3",
             "linecolor": "#C8D4E3",
             "minorgridcolor": "#C8D4E3",
             "startlinecolor": "#2a3f5f"
            },
            "type": "carpet"
           }
          ],
          "choropleth": [
           {
            "colorbar": {
             "outlinewidth": 0,
             "ticks": ""
            },
            "type": "choropleth"
           }
          ],
          "contour": [
           {
            "colorbar": {
             "outlinewidth": 0,
             "ticks": ""
            },
            "colorscale": [
             [
              0,
              "#0d0887"
             ],
             [
              0.1111111111111111,
              "#46039f"
             ],
             [
              0.2222222222222222,
              "#7201a8"
             ],
             [
              0.3333333333333333,
              "#9c179e"
             ],
             [
              0.4444444444444444,
              "#bd3786"
             ],
             [
              0.5555555555555556,
              "#d8576b"
             ],
             [
              0.6666666666666666,
              "#ed7953"
             ],
             [
              0.7777777777777778,
              "#fb9f3a"
             ],
             [
              0.8888888888888888,
              "#fdca26"
             ],
             [
              1,
              "#f0f921"
             ]
            ],
            "type": "contour"
           }
          ],
          "contourcarpet": [
           {
            "colorbar": {
             "outlinewidth": 0,
             "ticks": ""
            },
            "type": "contourcarpet"
           }
          ],
          "heatmap": [
           {
            "colorbar": {
             "outlinewidth": 0,
             "ticks": ""
            },
            "colorscale": [
             [
              0,
              "#0d0887"
             ],
             [
              0.1111111111111111,
              "#46039f"
             ],
             [
              0.2222222222222222,
              "#7201a8"
             ],
             [
              0.3333333333333333,
              "#9c179e"
             ],
             [
              0.4444444444444444,
              "#bd3786"
             ],
             [
              0.5555555555555556,
              "#d8576b"
             ],
             [
              0.6666666666666666,
              "#ed7953"
             ],
             [
              0.7777777777777778,
              "#fb9f3a"
             ],
             [
              0.8888888888888888,
              "#fdca26"
             ],
             [
              1,
              "#f0f921"
             ]
            ],
            "type": "heatmap"
           }
          ],
          "histogram": [
           {
            "marker": {
             "pattern": {
              "fillmode": "overlay",
              "size": 10,
              "solidity": 0.2
             }
            },
            "type": "histogram"
           }
          ],
          "histogram2d": [
           {
            "colorbar": {
             "outlinewidth": 0,
             "ticks": ""
            },
            "colorscale": [
             [
              0,
              "#0d0887"
             ],
             [
              0.1111111111111111,
              "#46039f"
             ],
             [
              0.2222222222222222,
              "#7201a8"
             ],
             [
              0.3333333333333333,
              "#9c179e"
             ],
             [
              0.4444444444444444,
              "#bd3786"
             ],
             [
              0.5555555555555556,
              "#d8576b"
             ],
             [
              0.6666666666666666,
              "#ed7953"
             ],
             [
              0.7777777777777778,
              "#fb9f3a"
             ],
             [
              0.8888888888888888,
              "#fdca26"
             ],
             [
              1,
              "#f0f921"
             ]
            ],
            "type": "histogram2d"
           }
          ],
          "histogram2dcontour": [
           {
            "colorbar": {
             "outlinewidth": 0,
             "ticks": ""
            },
            "colorscale": [
             [
              0,
              "#0d0887"
             ],
             [
              0.1111111111111111,
              "#46039f"
             ],
             [
              0.2222222222222222,
              "#7201a8"
             ],
             [
              0.3333333333333333,
              "#9c179e"
             ],
             [
              0.4444444444444444,
              "#bd3786"
             ],
             [
              0.5555555555555556,
              "#d8576b"
             ],
             [
              0.6666666666666666,
              "#ed7953"
             ],
             [
              0.7777777777777778,
              "#fb9f3a"
             ],
             [
              0.8888888888888888,
              "#fdca26"
             ],
             [
              1,
              "#f0f921"
             ]
            ],
            "type": "histogram2dcontour"
           }
          ],
          "mesh3d": [
           {
            "colorbar": {
             "outlinewidth": 0,
             "ticks": ""
            },
            "type": "mesh3d"
           }
          ],
          "parcoords": [
           {
            "line": {
             "colorbar": {
              "outlinewidth": 0,
              "ticks": ""
             }
            },
            "type": "parcoords"
           }
          ],
          "pie": [
           {
            "automargin": true,
            "type": "pie"
           }
          ],
          "scatter": [
           {
            "fillpattern": {
             "fillmode": "overlay",
             "size": 10,
             "solidity": 0.2
            },
            "type": "scatter"
           }
          ],
          "scatter3d": [
           {
            "line": {
             "colorbar": {
              "outlinewidth": 0,
              "ticks": ""
             }
            },
            "marker": {
             "colorbar": {
              "outlinewidth": 0,
              "ticks": ""
             }
            },
            "type": "scatter3d"
           }
          ],
          "scattercarpet": [
           {
            "marker": {
             "colorbar": {
              "outlinewidth": 0,
              "ticks": ""
             }
            },
            "type": "scattercarpet"
           }
          ],
          "scattergeo": [
           {
            "marker": {
             "colorbar": {
              "outlinewidth": 0,
              "ticks": ""
             }
            },
            "type": "scattergeo"
           }
          ],
          "scattergl": [
           {
            "marker": {
             "colorbar": {
              "outlinewidth": 0,
              "ticks": ""
             }
            },
            "type": "scattergl"
           }
          ],
          "scattermap": [
           {
            "marker": {
             "colorbar": {
              "outlinewidth": 0,
              "ticks": ""
             }
            },
            "type": "scattermap"
           }
          ],
          "scattermapbox": [
           {
            "marker": {
             "colorbar": {
              "outlinewidth": 0,
              "ticks": ""
             }
            },
            "type": "scattermapbox"
           }
          ],
          "scatterpolar": [
           {
            "marker": {
             "colorbar": {
              "outlinewidth": 0,
              "ticks": ""
             }
            },
            "type": "scatterpolar"
           }
          ],
          "scatterpolargl": [
           {
            "marker": {
             "colorbar": {
              "outlinewidth": 0,
              "ticks": ""
             }
            },
            "type": "scatterpolargl"
           }
          ],
          "scatterternary": [
           {
            "marker": {
             "colorbar": {
              "outlinewidth": 0,
              "ticks": ""
             }
            },
            "type": "scatterternary"
           }
          ],
          "surface": [
           {
            "colorbar": {
             "outlinewidth": 0,
             "ticks": ""
            },
            "colorscale": [
             [
              0,
              "#0d0887"
             ],
             [
              0.1111111111111111,
              "#46039f"
             ],
             [
              0.2222222222222222,
              "#7201a8"
             ],
             [
              0.3333333333333333,
              "#9c179e"
             ],
             [
              0.4444444444444444,
              "#bd3786"
             ],
             [
              0.5555555555555556,
              "#d8576b"
             ],
             [
              0.6666666666666666,
              "#ed7953"
             ],
             [
              0.7777777777777778,
              "#fb9f3a"
             ],
             [
              0.8888888888888888,
              "#fdca26"
             ],
             [
              1,
              "#f0f921"
             ]
            ],
            "type": "surface"
           }
          ],
          "table": [
           {
            "cells": {
             "fill": {
              "color": "#EBF0F8"
             },
             "line": {
              "color": "white"
             }
            },
            "header": {
             "fill": {
              "color": "#C8D4E3"
             },
             "line": {
              "color": "white"
             }
            },
            "type": "table"
           }
          ]
         },
         "layout": {
          "annotationdefaults": {
           "arrowcolor": "#2a3f5f",
           "arrowhead": 0,
           "arrowwidth": 1
          },
          "autotypenumbers": "strict",
          "coloraxis": {
           "colorbar": {
            "outlinewidth": 0,
            "ticks": ""
           }
          },
          "colorscale": {
           "diverging": [
            [
             0,
             "#8e0152"
            ],
            [
             0.1,
             "#c51b7d"
            ],
            [
             0.2,
             "#de77ae"
            ],
            [
             0.3,
             "#f1b6da"
            ],
            [
             0.4,
             "#fde0ef"
            ],
            [
             0.5,
             "#f7f7f7"
            ],
            [
             0.6,
             "#e6f5d0"
            ],
            [
             0.7,
             "#b8e186"
            ],
            [
             0.8,
             "#7fbc41"
            ],
            [
             0.9,
             "#4d9221"
            ],
            [
             1,
             "#276419"
            ]
           ],
           "sequential": [
            [
             0,
             "#0d0887"
            ],
            [
             0.1111111111111111,
             "#46039f"
            ],
            [
             0.2222222222222222,
             "#7201a8"
            ],
            [
             0.3333333333333333,
             "#9c179e"
            ],
            [
             0.4444444444444444,
             "#bd3786"
            ],
            [
             0.5555555555555556,
             "#d8576b"
            ],
            [
             0.6666666666666666,
             "#ed7953"
            ],
            [
             0.7777777777777778,
             "#fb9f3a"
            ],
            [
             0.8888888888888888,
             "#fdca26"
            ],
            [
             1,
             "#f0f921"
            ]
           ],
           "sequentialminus": [
            [
             0,
             "#0d0887"
            ],
            [
             0.1111111111111111,
             "#46039f"
            ],
            [
             0.2222222222222222,
             "#7201a8"
            ],
            [
             0.3333333333333333,
             "#9c179e"
            ],
            [
             0.4444444444444444,
             "#bd3786"
            ],
            [
             0.5555555555555556,
             "#d8576b"
            ],
            [
             0.6666666666666666,
             "#ed7953"
            ],
            [
             0.7777777777777778,
             "#fb9f3a"
            ],
            [
             0.8888888888888888,
             "#fdca26"
            ],
            [
             1,
             "#f0f921"
            ]
           ]
          },
          "colorway": [
           "#636efa",
           "#EF553B",
           "#00cc96",
           "#ab63fa",
           "#FFA15A",
           "#19d3f3",
           "#FF6692",
           "#B6E880",
           "#FF97FF",
           "#FECB52"
          ],
          "font": {
           "color": "#2a3f5f"
          },
          "geo": {
           "bgcolor": "white",
           "lakecolor": "white",
           "landcolor": "white",
           "showlakes": true,
           "showland": true,
           "subunitcolor": "#C8D4E3"
          },
          "hoverlabel": {
           "align": "left"
          },
          "hovermode": "closest",
          "mapbox": {
           "style": "light"
          },
          "paper_bgcolor": "white",
          "plot_bgcolor": "white",
          "polar": {
           "angularaxis": {
            "gridcolor": "#EBF0F8",
            "linecolor": "#EBF0F8",
            "ticks": ""
           },
           "bgcolor": "white",
           "radialaxis": {
            "gridcolor": "#EBF0F8",
            "linecolor": "#EBF0F8",
            "ticks": ""
           }
          },
          "scene": {
           "xaxis": {
            "backgroundcolor": "white",
            "gridcolor": "#DFE8F3",
            "gridwidth": 2,
            "linecolor": "#EBF0F8",
            "showbackground": true,
            "ticks": "",
            "zerolinecolor": "#EBF0F8"
           },
           "yaxis": {
            "backgroundcolor": "white",
            "gridcolor": "#DFE8F3",
            "gridwidth": 2,
            "linecolor": "#EBF0F8",
            "showbackground": true,
            "ticks": "",
            "zerolinecolor": "#EBF0F8"
           },
           "zaxis": {
            "backgroundcolor": "white",
            "gridcolor": "#DFE8F3",
            "gridwidth": 2,
            "linecolor": "#EBF0F8",
            "showbackground": true,
            "ticks": "",
            "zerolinecolor": "#EBF0F8"
           }
          },
          "shapedefaults": {
           "line": {
            "color": "#2a3f5f"
           }
          },
          "ternary": {
           "aaxis": {
            "gridcolor": "#DFE8F3",
            "linecolor": "#A2B1C6",
            "ticks": ""
           },
           "baxis": {
            "gridcolor": "#DFE8F3",
            "linecolor": "#A2B1C6",
            "ticks": ""
           },
           "bgcolor": "white",
           "caxis": {
            "gridcolor": "#DFE8F3",
            "linecolor": "#A2B1C6",
            "ticks": ""
           }
          },
          "title": {
           "x": 0.05
          },
          "xaxis": {
           "automargin": true,
           "gridcolor": "#EBF0F8",
           "linecolor": "#EBF0F8",
           "ticks": "",
           "title": {
            "standoff": 15
           },
           "zerolinecolor": "#EBF0F8",
           "zerolinewidth": 2
          },
          "yaxis": {
           "automargin": true,
           "gridcolor": "#EBF0F8",
           "linecolor": "#EBF0F8",
           "ticks": "",
           "title": {
            "standoff": 15
           },
           "zerolinecolor": "#EBF0F8",
           "zerolinewidth": 2
          }
         }
        },
        "title": {
         "font": {
          "size": 20
         },
         "text": " Frecuencia Mensual de Transacciones"
        },
        "xaxis": {
         "anchor": "y",
         "domain": [
          0,
          1
         ],
         "title": {
          "font": {
           "size": 14
          },
          "text": "Fecha"
         }
        },
        "yaxis": {
         "anchor": "x",
         "domain": [
          0,
          1
         ],
         "title": {
          "font": {
           "size": 14
          },
          "text": "Número de Transacciones"
         }
        }
       }
      }
     },
     "metadata": {},
     "output_type": "display_data"
    }
   ],
   "source": [
    "import plotly.express as px\n",
    "import pandas as pd\n",
    "\n",
    "transacciones = (\n",
    "    df\n",
    "    .set_index('purchase_date')\n",
    "    .resample('D')['order_id']\n",
    "    .count()\n",
    "    .reset_index()\n",
    "    .rename(columns={'order_id': 'transacciones'})\n",
    ")\n",
    "\n",
    "fig = px.line(\n",
    "    transacciones,\n",
    "    x='purchase_date',\n",
    "    y='transacciones',\n",
    "    title=' Frecuencia Mensual de Transacciones',\n",
    "    labels={'purchase_date': 'Fecha', 'transacciones': 'Número de Transacciones'},\n",
    "    markers=True\n",
    ")\n",
    "\n",
    "fig.update_layout(\n",
    "    title_font_size=20,\n",
    "    xaxis_title_font_size=14,\n",
    "    yaxis_title_font_size=14,\n",
    "    template='plotly_white'\n",
    ")\n",
    "\n",
    "fig.show()\n"
   ]
  },
  {
   "cell_type": "markdown",
   "metadata": {},
   "source": [
    "- Periodo y frecuencia\n",
    "\n",
    "    - ¿De qué periodo es la información disponible? La información disponible es desde el mes de Marzo de 2024 hasta el mes de Enero de 2025.\n",
    "\n",
    "    - ¿Cuál es la frecuencia de los registros (diaria, semanal, mensual, etc.)? La frecuencia de los registros en el caso del gráfico es diaria (aunque se puede ver por mes, año, etc)."
   ]
  },
  {
   "cell_type": "markdown",
   "metadata": {},
   "source": [
    "**Calidad de los datos**"
   ]
  },
  {
   "cell_type": "code",
   "execution_count": 14,
   "metadata": {},
   "outputs": [
    {
     "name": "stdout",
     "output_type": "stream",
     "text": [
      "Nulos Pre Join:\n",
      "\n",
      "Folder Clientes:\n",
      "customer_id             0\n",
      "region_id               0\n",
      "zone_id                 0\n",
      "customer_type           0\n",
      "Y                       0\n",
      "X                       1\n",
      "num_deliver_per_week    0\n",
      "num_visit_per_week      0\n",
      "dtype: int64\n",
      "Folder Productos:\n",
      "product_id      0\n",
      "brand           0\n",
      "category        0\n",
      "sub_category    0\n",
      "segment         0\n",
      "package         0\n",
      "size            0\n",
      "dtype: int64\n",
      "Folder Transacciones:\n",
      "customer_id      0\n",
      "product_id       0\n",
      "order_id         0\n",
      "purchase_date    0\n",
      "items            0\n",
      "dtype: int64\n"
     ]
    }
   ],
   "source": [
    "print(\"Nulos Pre Join:\\n\")\n",
    "print(\"Folder Clientes:\")\n",
    "print(clientes.isnull().sum())\n",
    "print(\"Folder Productos:\")\n",
    "print(productos.isnull().sum())\n",
    "print(\"Folder Transacciones:\")\n",
    "print(transacciones.isnull().sum())"
   ]
  },
  {
   "cell_type": "code",
   "execution_count": 15,
   "metadata": {},
   "outputs": [
    {
     "name": "stdout",
     "output_type": "stream",
     "text": [
      " Nulos POST Join:\n",
      "\n",
      "customer_id             0\n",
      "product_id              0\n",
      "order_id                0\n",
      "purchase_date           0\n",
      "items                   0\n",
      "region_id               0\n",
      "zone_id                 0\n",
      "customer_type           0\n",
      "Y                       0\n",
      "X                       0\n",
      "num_deliver_per_week    0\n",
      "num_visit_per_week      0\n",
      "brand                   0\n",
      "category                0\n",
      "sub_category            0\n",
      "segment                 0\n",
      "package                 0\n",
      "size                    0\n",
      "dtype: int64\n"
     ]
    }
   ],
   "source": [
    "print(\" Nulos POST Join:\\n\")\n",
    "print(df.isnull().sum())"
   ]
  },
  {
   "cell_type": "code",
   "execution_count": 131,
   "metadata": {},
   "outputs": [
    {
     "name": "stdout",
     "output_type": "stream",
     "text": [
      "Dataset: Clientes\n",
      "  Columna 'customer_id' sin valores negativos.\n",
      "  Columna 'region_id' sin valores negativos.\n",
      "  Columna 'zone_id' sin valores negativos.\n",
      "  Columna 'Y' tiene 1569 valores negativos.\n",
      "  Columna 'X' tiene 1568 valores negativos.\n",
      "  Columna 'num_deliver_per_week' sin valores negativos.\n",
      "  Columna 'num_visit_per_week' sin valores negativos.\n",
      "Dataset: Productos\n",
      "  Columna 'product_id' sin valores negativos.\n",
      "  Columna 'size' sin valores negativos.\n",
      "Dataset: Transacciones\n",
      "  Columna 'transacciones' sin valores negativos.\n"
     ]
    }
   ],
   "source": [
    "import pandas as pd\n",
    "\n",
    "dataframes = {\n",
    "    \"Clientes\": clientes,\n",
    "    \"Productos\": productos,\n",
    "    \"Transacciones\": transacciones\n",
    "}\n",
    "#revisamos para cada una de las columnas de los tres\n",
    "#dataframes si hay valores negativos, como lo sugiere\n",
    "#el análisis exploratorio de datos. \n",
    "for nombre_df, df in dataframes.items():\n",
    "    print(f\"Dataset: {nombre_df}\")\n",
    "    columnas_numericas = df.select_dtypes(include=[\"number\"]).columns\n",
    "    \n",
    "    if len(columnas_numericas) == 0:\n",
    "        print(\"No hay columnas numéricas.\")\n",
    "        continue\n",
    "\n",
    "    for col in columnas_numericas:\n",
    "        negativos = (df[col] < 0).sum()\n",
    "        if negativos > 0:\n",
    "            print(f\"  Columna '{col}' tiene {negativos} valores negativos.\")\n",
    "        else:\n",
    "            print(f\"  Columna '{col}' sin valores negativos.\")"
   ]
  },
  {
   "cell_type": "markdown",
   "metadata": {},
   "source": [
    "- Calidad de los datos\n",
    "\n",
    "    - ¿Existen valores nulos en el dataset? ¿Cuántos? ¿Cómo se pueden tratar? Existe solo un valor nulo en la variable o columna X, pero es insignificante por lo que podemos asumir que es un error de tipeo o de registro en el dataset, por lo que lo ignoraremos. (tendría sentido hacer un imputador en el caso de los nulos solamente si fueran muchos, usando SimpleImputer, KNNImputer, MICE, etc).\n",
    "\n",
    "    - ¿Hay datos raros, como cantidades negativas o inconsistencias? Genere tests de validación para identificar estos problemas. Las únicas variables que tienen valores negativos son las X e Y, que son coordenadas de latitud y longitud, por lo que no hay problema, por la definición o naturaleza de las mismas. "
   ]
  },
  {
   "cell_type": "markdown",
   "metadata": {},
   "source": [
    "**Patrones de compra**"
   ]
  },
  {
   "cell_type": "code",
   "execution_count": 16,
   "metadata": {},
   "outputs": [
    {
     "name": "stdout",
     "output_type": "stream",
     "text": [
      "   customer_id  avg_items_per_week\n",
      "0        25734           13.200000\n",
      "1        25743           79.051282\n",
      "2        25749          106.115385\n",
      "3        56868            6.045455\n",
      "4        56871            5.607843\n"
     ]
    }
   ],
   "source": [
    "# Aseguramos columna de semana y de año. Isocalendar lo que hace es \n",
    "# retorna3 un DataFrame temporal con tres columnas: year, week, day del calendario ISO 8601, mientras que \n",
    "# el comando .dt accede a atributos de fechas en pandas (year, month, etc).\n",
    "df['week'] = df['purchase_date'].dt.isocalendar().week\n",
    "df['year'] = df['purchase_date'].dt.isocalendar().year\n",
    "\n",
    "#Agrupamos por cliente, año y semana para contar productos comprados, donde cada producto\n",
    "#comprado tiene que er con el ['items']\n",
    "productos_por_semana = df.groupby(['customer_id', 'year', 'week'])['items'].sum().reset_index()\n",
    "\n",
    "#agrupando según customer_id (cada cliente único con groupby) y luego calculando el promedio con .mean()\n",
    "promedio_semanal = productos_por_semana.groupby('customer_id')['items'].mean().reset_index(name='avg_items_per_week')\n",
    "\n",
    "print(promedio_semanal.head())"
   ]
  },
  {
   "cell_type": "code",
   "execution_count": 17,
   "metadata": {},
   "outputs": [
    {
     "name": "stdout",
     "output_type": "stream",
     "text": [
      "   customer_id  num_transacciones\n",
      "0        25734                 15\n",
      "1        25743                121\n",
      "2        25749                107\n",
      "3        56868                 25\n",
      "4        56871                 36\n"
     ]
    }
   ],
   "source": [
    "#para todos los clientes únicos de la columna customer_id, vemos todas sus órdenes\n",
    "#o transacciones (si se puede decir así), donde el nunique() lo que hace es obtener\n",
    "#todas las órdenes únicas para cada cliente. Por último, se convierte customer_id en \n",
    "#una columna normal, y la columna que contiene el número de órdenes por cliente se \n",
    "#llama num_transacciones.\n",
    "transacciones_por_cliente = df.groupby('customer_id')['order_id'].nunique().reset_index(name='num_transacciones')\n",
    "\n",
    "print(transacciones_por_cliente.head())"
   ]
  },
  {
   "cell_type": "code",
   "execution_count": 18,
   "metadata": {},
   "outputs": [
    {
     "name": "stdout",
     "output_type": "stream",
     "text": [
      "   product_id  avg_days_between_purchases\n",
      "0          60                    0.596059\n",
      "1         124                    0.276596\n",
      "2        1206                  112.500000\n",
      "3        1304                    0.016644\n",
      "4        1370                    0.009679\n"
     ]
    }
   ],
   "source": [
    "#primero que todo ordenamos por el identificador del producto\n",
    "#y luego por la fecha de compra.\n",
    "df_sorted = df.sort_values(by=['product_id', 'purchase_date'])\n",
    "\n",
    "#ahora creamos una columna que se llama days_between, que corresponde o \n",
    "#es el tiempo entre compras para cada SKU por cliente. Lo que hace shift es darnos\n",
    "#la fecha de la compra anterior del mismo producto para esa fila.\n",
    "df_sorted['prev_date'] = df_sorted.groupby('product_id')['purchase_date'].shift(1)\n",
    "df_sorted['days_between'] = (df_sorted['purchase_date'] - df_sorted['prev_date']).dt.days\n",
    "\n",
    "#Por último calculamos el promedio de días entre compras por SKU, para un mismo producto.\n",
    "recompra_promedio = df_sorted.groupby('product_id')['days_between'].mean().reset_index(name='avg_days_between_purchases')\n",
    "\n",
    "print(recompra_promedio.head())"
   ]
  },
  {
   "cell_type": "code",
   "execution_count": 19,
   "metadata": {},
   "outputs": [],
   "source": [
    "df = df.merge(promedio_semanal, on='customer_id', how='left')\n",
    "df = df.merge(transacciones_por_cliente, on='customer_id', how='left')\n",
    "df = df.merge(recompra_promedio, on='product_id', how='left')"
   ]
  },
  {
   "cell_type": "markdown",
   "metadata": {},
   "source": [
    "## 📌 Holdout [0.25 puntos]\n",
    "\n",
    "Para evaluar correctamente el modelo y garantizar su capacidad de generalización, se deben dividir los datos en tres conjuntos: \n",
    "- `Entrenamiento` : Para ajustar los parámetros.\n",
    "- `Validación`: Para optimizar hiperparámetros y seleccionar el mejor modelo.\n",
    "- `Prueba` : Para evaluar el rendimiento final en datos no vistos.\n",
    "\n",
    "👀 **Hint**: *Recuerde que los datos tienen una temporalidad que debe considerarse al momento de separarlos, para evitar fugas de información. Es importante justificar la estrategia de partición elegida y visualizar la distribución temporal de los conjuntos generados*"
   ]
  },
  {
   "cell_type": "markdown",
   "metadata": {},
   "source": [
    "Aquí dividimos el dataset mergeado en train/test/validation. Además, desde cierto punto de vista podemos sugerir hacer este split debido a que es un enfoque muy fácil y simple de hacer, y lo que es simple en ocasiones indica menor complejidad. Dividir el dataset respetando la variable temporal asegura que el modelo no tenga acceso a información del futuro durante el entrenamiento (se evita el data leakage). Mientras que si mezcláramos aleatoriamente los datos, el modelo podría \"ver\" patrones posteriores en el tiempo, lo que daría lugar a una estimación demasiado optimista de su desempeño. Además,aseguramos poder tener una evaluación realista del modelo y respetar así la naturaleza secuencial de los datos (por ejemplo, esperamos que el dataset de test sea el último porque es la información del futuro, que en ocasiones en series de tiempo nos interesa predecir). Los cortes se realizaron en los percentiles 60% y 80% del intervalo temporal total. Este porcentaje porque por lo general se espera que el train set sea un 60-70%, el validation set un 10-20% y el test set un 10-20% ([según esta pagina](https://stackoverflow.com/questions/54413160/training-validation-testing-batch-size-ratio), donde se dice además que la división Train/Test es generalmente 80%/20%, y dado que el validation es \"parte\" del train, debe ocupar el train un poco menos de 80 y el validation casi lo mismo que el Test set). La limitación: puede haber una instancia o variable que no podamos predecir y que esté presente solamente en el conjunto de test. "
   ]
  },
  {
   "cell_type": "code",
   "execution_count": 20,
   "metadata": {},
   "outputs": [
    {
     "data": {
      "text/plain": [
       "(Timestamp('2024-01-01 00:00:00'), Timestamp('2024-12-31 00:00:00'))"
      ]
     },
     "execution_count": 20,
     "metadata": {},
     "output_type": "execute_result"
    }
   ],
   "source": [
    "min_date = df['purchase_date'].min()\n",
    "max_date = df['purchase_date'].max()\n",
    "\n",
    "min_date, max_date"
   ]
  },
  {
   "cell_type": "code",
   "execution_count": 21,
   "metadata": {},
   "outputs": [
    {
     "data": {
      "image/png": "[encoded data removed]",
      "text/plain": [
       "<Figure size 1200x400 with 1 Axes>"
      ]
     },
     "metadata": {},
     "output_type": "display_data"
    },
    {
     "data": {
      "text/plain": [
       "(Timestamp('2024-08-07 00:00:00'), Timestamp('2024-10-19 00:00:00'))"
      ]
     },
     "execution_count": 21,
     "metadata": {},
     "output_type": "execute_result"
    }
   ],
   "source": [
    "from datetime import timedelta\n",
    "import matplotlib.pyplot as plt\n",
    "\n",
    "min_date = df['purchase_date'].min()\n",
    "max_date = df['purchase_date'].max()\n",
    "total_days = (max_date - min_date).days\n",
    "\n",
    "cutoff_train = min_date + timedelta(days=int(total_days * 0.6))  # ~Agosto 5\n",
    "cutoff_valid = min_date + timedelta(days=int(total_days * 0.8))  # ~Octubre 27\n",
    "\n",
    "df_train = df[df['purchase_date'] <= cutoff_train]\n",
    "df_valid = df[(df['purchase_date'] > cutoff_train) & (df['purchase_date'] <= cutoff_valid)]\n",
    "df_test  = df[df['purchase_date'] > cutoff_valid]\n",
    "\n",
    "\n",
    "plt.figure(figsize=(12, 4))\n",
    "plt.hist(df_train['purchase_date'], bins=50, label='Train', alpha=0.6)\n",
    "plt.hist(df_valid['purchase_date'], bins=50, label='Valid', alpha=0.6)\n",
    "plt.hist(df_test['purchase_date'], bins=50, label='Test', alpha=0.6)\n",
    "plt.axvline(cutoff_train, color='black', linestyle='--', label='cutoff_train')\n",
    "plt.axvline(cutoff_valid, color='gray', linestyle='--', label='cutoff_valid')\n",
    "plt.legend()\n",
    "plt.title(\"Distribución temporal de los conjuntos (por fecha)\")\n",
    "plt.xlabel(\"Fecha de compra\")\n",
    "plt.ylabel(\"Cantidad de registros\")\n",
    "plt.tight_layout()\n",
    "plt.show()\n",
    "\n",
    "cutoff_train, cutoff_valid"
   ]
  },
  {
   "cell_type": "code",
   "execution_count": 22,
   "metadata": {},
   "outputs": [
    {
     "name": "stdout",
     "output_type": "stream",
     "text": [
      "['customer_type', 'brand', 'category', 'sub_category', 'segment', 'package']\n",
      "['customer_id', 'product_id', 'order_id', 'items', 'region_id', 'zone_id', 'Y', 'X', 'num_deliver_per_week', 'num_visit_per_week', 'size', 'week', 'year', 'avg_items_per_week', 'num_transacciones', 'avg_days_between_purchases']\n",
      "['purchase_date']\n"
     ]
    }
   ],
   "source": [
    "#ahora imprimimos las columnas categóricas, numéricas y la que contiene las fechas.\n",
    "categorical_cols = df.select_dtypes(include=['object', 'category']).columns.tolist()\n",
    "print(categorical_cols)\n",
    "numerical_cols = df.select_dtypes(include=['number']).columns.tolist()\n",
    "print(numerical_cols)\n",
    "date_cols = ['purchase_date']\n",
    "print(date_cols)\n",
    "\n",
    "numerical_cols += [\"dayofweek\", \"month\", \"week\"]\n",
    "\n",
    "if 'items' in numerical_cols:\n",
    "    numerical_cols.remove('items')"
   ]
  },
  {
   "cell_type": "markdown",
   "metadata": {},
   "source": [
    "## 📌 Feature Engineering [0.5 puntos]\n",
    "\n",
    "<center>\n",
    "<img src=\"https://i.imgur.com/CmXZSSC.gif\" width=\"300\" height=\"200\">"
   ]
  },
  {
   "cell_type": "markdown",
   "metadata": {},
   "source": [
    "En esta sección, se deben construir pipelines para automatizar el preprocesamiento de los datos, lo cual garantizará que el flujo de trabajo sea reproducible y eficiente para esta entrega y las futuras. El objetivo es aplicar una serie de transformaciones en un orden definido para asegurar que los datos estén listos para los modelos a entrenar. El pipeline final debe incluir las técnicas de pre-procesamiento que se deben aplicar a los distintos datos (según lo que consideren necesario para el problema). Por ejemplo:\n",
    "\n",
    "- **Imputación de valores nulos**: Manejo de datos faltantes mediante estrategias adecuadas (media, mediana, moda, interpolación, etc.). \n",
    "\n",
    "- **Transformaciones personalizadas**: Uso de ColumnTransformer para aplicar diferentes transformaciones a columnas específicas.\n",
    "\n",
    "- **Codificación de variables categóricas**: Convertir datos categóricos a un formato numérico adecuado (One-Hot Encoding, Label Encoding, etc.).\n",
    "\n",
    "- **Discretización de variables**: Conversión de variables numéricas continuas en categorías si son relevantes para el desempeño del modelo a entrenar.\n",
    "\n",
    "- **Estandarización o normalización** : Ajustar la escala de los datos para mejorar el rendimiento de los algoritmos sensibles a la magnitud de las variables.\n",
    "\n",
    "- **Eliminación o transformación de valores atípicos**: Identificar y tratar con datos outliers para mejorar la robustez del modelo.\n",
    "\n",
    "- **Nuevas características** : Creación de variables adicionales que puedan aportar información relevante al modelo.\n",
    "\n",
    "Cada una de estas transformaciones debe ser justificada en función de su relevancia para el problema y los datos, y es importante evaluar su impacto en el rendimiento del modelo. Además, el pipeline debe ser flexible y modular para poder probar diferentes configuraciones de preprocesamiento."
   ]
  },
  {
   "cell_type": "markdown",
   "metadata": {},
   "source": [
    "Implementamos un transformador personalizado (o función DateFeatureExtractor) que descompone la variable temporal purchase_date en nuevas características derivadas: día de la semana, mes y número de semana del año. Esta transformación busca capturar patrones temporales relevantes que puedan influir en el comportamiento de compra, como estacionalidad o efectos de fin de semana (estacionalidad es el efecto casi periódico de aumento y disminución de alguna cantidad debido a vacaciones, fechas especiales, etc). Incorporar estas variables permite enriquecer el espacio de representación del modelo con información contextual. También aplicamos transformaciones diferenciadas según el tipo de variable. Para las variables numéricas utilizamos imputación por mediana seguida de estandarización mediante StandardScaler, lo que asegura que las variables estén en una misma escala sin ser afectadas por valores atípicos. En el caso de las variables categóricas, imputamos con la moda (por simplicidad y porque estamos recién en el Baseline, y porque luego nos fijaremos en la optimización) y luego se codificaron mediante OneHotEncoder, permitiendo convertirlas en una representación numérica adecuada para los algoritmos de aprendizaje supervisado (que en nuestro caso serán Dummy Classifier, Decision Tree, etc)."
   ]
  },
  {
   "cell_type": "code",
   "execution_count": null,
   "metadata": {},
   "outputs": [],
   "source": [
    "from sklearn.pipeline import Pipeline\n",
    "from sklearn.compose import ColumnTransformer\n",
    "from sklearn.impute import SimpleImputer\n",
    "from sklearn.preprocessing import OneHotEncoder, StandardScaler\n",
    "from sklearn.base import BaseEstimator, TransformerMixin\n",
    "import pandas as pd\n",
    "\n",
    "class DateFeatureExtractor(BaseEstimator, TransformerMixin):\n",
    "    \"\"\"En esta clase lo que hacemos es definir las funciones fit y \n",
    "    transform para poder convertir los datos\"\"\"\n",
    "    def __init__(self, date_column=\"purchase_date\"):\n",
    "        self.date_column = date_column\n",
    "\n",
    "    def fit(self, X, y=None):\n",
    "        return self\n",
    "\n",
    "    def transform(self, X):\n",
    "        X = X.copy()\n",
    "        X[self.date_column] = pd.to_datetime(X[self.date_column])\n",
    "        X[\"dayofweek\"] = X[self.date_column].dt.dayofweek\n",
    "        X[\"month\"] = X[self.date_column].dt.month\n",
    "        X[\"week\"] = X[self.date_column].dt.isocalendar().week.astype(int)\n",
    "        return X.drop(columns=[self.date_column])\n",
    "\n",
    "#ahora definimos un pipeline para el transformer de cada uno de los tipos de columna\n",
    "#de nuestro dataset original (este pipeline solo lo usaremos para el entrenamiento de \n",
    "#4 modelos: baseline + 3 modelos).\n",
    "numeric_transformer = Pipeline(steps=[\n",
    "    (\"imputer\", SimpleImputer(strategy=\"median\")),\n",
    "    (\"scaler\", StandardScaler())\n",
    "])\n",
    "\n",
    "categorical_transformer = Pipeline(steps=[\n",
    "    (\"imputer\", SimpleImputer(strategy=\"most_frequent\")),\n",
    "    (\"encoder\", OneHotEncoder(handle_unknown=\"ignore\", sparse_output=False))\n",
    "])\n",
    "\n",
    "preprocessor = ColumnTransformer(transformers=[\n",
    "    (\"num\", numeric_transformer, numerical_cols),\n",
    "    (\"cat\", categorical_transformer, categorical_cols)\n",
    "])"
   ]
  },
  {
   "cell_type": "markdown",
   "metadata": {},
   "source": [
    "## 📌 Baseline [0.25 puntos]\n",
    "\n",
    "<center>\n",
    "<img src=\"https://media1.giphy.com/media/v1.Y2lkPTc5MGI3NjExN3lzeGFqZmU3NzJrZHllNjRmaHVzczJpZ29rdHdlMzVpZnQwNXo1diZlcD12MV9pbnRlcm5hbF9naWZfYnlfaWQmY3Q9Zw/qAtZM2gvjWhPjmclZE/giphy.gif\" width=\"300\" height=\"200\">"
   ]
  },
  {
   "cell_type": "markdown",
   "metadata": {},
   "source": [
    "En esta sección se debe construir el modelo más sencillo posible que pueda resolver el problema planteado, conocido como **Modelo baseline**. Su propósito es servir como referencia para comparar el rendimiento de los modelos más avanzados desarrollados en etapas posteriores.  \n",
    "\n",
    "Pasos requeridos:  \n",
    "- Implemente, entrene y evalúe un modelo básico utilizando un pipeline.  \n",
    "- Asegúrese de incluir en el pipeline las transformaciones del preprocesamiento realizadas previamente junto con un clasificador básico.  \n",
    "- Evalúe el modelo y presente el informe de métricas utilizando **`classification_report`**.  \n",
    "\n",
    "Documente claramente cómo se creó el modelo, las decisiones tomadas y los resultados obtenidos. Este modelo será la base comparativa en las secciones posteriores."
   ]
  },
  {
   "cell_type": "code",
   "execution_count": 57,
   "metadata": {},
   "outputs": [
    {
     "name": "stdout",
     "output_type": "stream",
     "text": [
      "Reporte de clasificación: \n",
      "              precision    recall  f1-score   support\n",
      "\n",
      "           0       0.03      0.52      0.05      1299\n",
      "           1       0.98      0.50      0.66     49111\n",
      "\n",
      "    accuracy                           0.50     50410\n",
      "   macro avg       0.50      0.51      0.36     50410\n",
      "weighted avg       0.95      0.50      0.64     50410\n",
      "\n",
      "F1-Score ponderado: 0.6447745473557699\n"
     ]
    }
   ],
   "source": [
    "import pandas as pd\n",
    "import numpy as np\n",
    "from sklearn.pipeline import Pipeline\n",
    "from sklearn.metrics import classification_report\n",
    "from sklearn.metrics import f1_score\n",
    "from sklearn.dummy import DummyClassifier\n",
    "\n",
    "\n",
    "try:\n",
    "    df['purchase_date'] = pd.to_datetime(df['purchase_date'], errors='raise')\n",
    "except Exception as e:\n",
    "    print(\" Error al convertir 'purchase_date':\", e)\n",
    "    raise\n",
    "\n",
    "X_train = df_train.drop(columns=['items'])\n",
    "X_valid = df_valid.drop(columns=['items'])\n",
    "y_train = (df_train['items'] > 0).astype(int)\n",
    "y_valid = (df_valid['items'] > 0).astype(int)\n",
    "X_test = df_test.drop(columns=['items'])\n",
    "y_test = (df_test['items'] > 0).astype(int)\n",
    "dummy_clf = DummyClassifier(strategy='uniform', random_state=42)\n",
    "\n",
    "dummy_pipeline = Pipeline([\n",
    "    (\"date_features\", DateFeatureExtractor(date_column='purchase_date')),\n",
    "    (\"preprocessor\", preprocessor),\n",
    "    (\"classifier\", dummy_clf)\n",
    "])\n",
    "\n",
    "dummy_pipeline.fit(X_train, y_train)\n",
    "\n",
    "y_pred_dummy = dummy_pipeline.predict(X_valid)\n",
    "\n",
    "print(\"Reporte de clasificación: \")\n",
    "print(classification_report(y_valid, y_pred_dummy))\n",
    "\n",
    "f1_weighted_dummy = f1_score(y_valid, y_pred_dummy, average='weighted')\n",
    "print(f\"F1-Score ponderado: {f1_weighted_dummy}\")\n"
   ]
  },
  {
   "cell_type": "markdown",
   "metadata": {},
   "source": [
    "Nos agarramos de [esta referencia](https://medium.com/@preethi_prakash/understanding-baseline-models-in-machine-learning-3ed94f03d645), que describe que podemos crear un modelo Dummy Classifier con estrategia \"stratified\", \"most_frequent\", \"uniform\" o bien \"constant\". En nuestro caso elejimos el \"uniform\", que asigna clases aleatoria y uniformemente, sin considerar la distribución de clases en los datos de entrenamiento. Provee un nivel de desarrollo/performance basado en la clase más común, sin conisderar las características de input (como lo puede ser las variables categóricas o numéricas). La precisión alta y el recall bajo se ven reflejados en un f1-score intermedio o aceptable. Adempás, el f1-score weighted es intermedio también, por lo que nos servirá como un modelo malísimo (relativamente) para poder compararlo con otros modelos mejores (antes habíamos utilizado como baseline un Random Forest Classifier pero nos daba un f1-score de 0.961, que era casi insuperable para el fin del baseline). Como asigna aleatoriamente, podemos decir que eso se ve reflejado en el recall de 0.53 para ambas clases (porque la probabilidad es uniforme sobre las dos clases).\n",
    "\n",
    "Recordemos por otro lado que df_train['items]>0 devuelve una serie booleana con True si la persona compró al menos un ítem, y False si no compró ninguno, por lo que al hacer df_train['items]>0 .astype(int) obtendremos la clase 1 como la que compró (True) y la clase 0 como la que no compró (False). Es decir, al final del día lo que nos interesa es hacer un clasificador binario que a partir de dicho Label 0 o 1, clasifique (valga la redundancia) las dos instancias (con principal énfasis en las personas que sí compraron un ítem, porque queremos saber la probabilidad de que una persona sí compre un item o producto).\n",
    "\n",
    "A continuación el codigo, por ejemplo, se puede usar añadiendo un top 5 de productos que el cliente probablemente (prob_compra > 0.8) comprará"
   ]
  },
  {
   "cell_type": "code",
   "execution_count": 132,
   "metadata": {},
   "outputs": [],
   "source": [
    "# y_proba = rf_pipeline.predict_proba(df_valid)[:, 1]\n",
    "\n",
    "# df_valid_results = df_valid.copy()\n",
    "# df_valid_results[\"prob_compra\"] = y_proba\n",
    "# df_valid_results[\"prediccion\"] = y_pred\n",
    "# df_valid_results[\"real\"] = y_valid.values\n",
    "\n",
    "# top_recomendaciones = (\n",
    "#     df_valid_results[df_valid_results[\"prob_compra\"] > 0.8]\n",
    "#     .sort_values(\"prob_compra\", ascending=False)\n",
    "#     .groupby(\"customer_id\")\n",
    "#     .head(5)\n",
    "# )\n",
    "# top_recomendaciones"
   ]
  },
  {
   "cell_type": "markdown",
   "metadata": {},
   "source": [
    "## 📌 Elección de modelo [0.75 puntos]\n",
    "\n",
    "En esta sección deben escoger un modelo que se adapte a las necesidades del negocio. Para esto, pruebe al menos 3 modelos y desarrolle los siguientes aspectos para cada uno:\n",
    "\n",
    "- **Estructura y diferencias entre los modelos**: Explicar brevemente cada uno y sus hipérparámetros de mayor importancia.\n",
    "- **Clasificadores recomendados**:\n",
    "  - `LogisticRegression`\n",
    "  - `KNeighborsClassifier`\n",
    "  - `DecisionTreeClassifier`\n",
    "  - `SVC`\n",
    "  - `RandomForestClassifier`\n",
    "  - `LightGBMClassifier` (del paquete `lightgbm`)\n",
    "  - `XGBClassifier` (del paquete `xgboost`)\n",
    "  - Otro (según lo que se estime adecuado)\n",
    "  \n",
    "- **Evaluación de resultados**: Se utilizará el **`classification_report`** para evaluar el rendimiento de cada modelo, destacando métricas clave como precisión, recall y F1-score. **Importante: No optimicen hiperparámetros, la idea es hacer una selección rápida del modelo.**\n",
    "\n",
    "**Nota:** Pueden ocupar mas de 1 **instancia** de modelo para resolver el problema (e.g: (modelo_1, grupo_1), (modelo_2, grupo_2), ...).\n",
    "  \n",
    "A continuación, se deben responder las siguientes preguntas para evaluar el rendimiento de los modelos entrenados:\n",
    "\n",
    "1. ¿Hay algún clasificador que supere al modelo baseline?  \n",
    "2. ¿Cuál es el mejor clasificador entrenado y por qué?  \n",
    "3. ¿Qué factores hacen que el mejor clasificador sea superior a los otros?  \n",
    "4. En términos de `tiempo de entrenamiento`, ¿Qué modelo considera más adecuado para experimentar con grillas de optimización?"
   ]
  },
  {
   "cell_type": "markdown",
   "metadata": {},
   "source": [
    "### Modelos que elegiremos para el estudio c/r al Baseline: Regresión Logística, XGBoost Classifier y Decision Tree"
   ]
  },
  {
   "cell_type": "markdown",
   "metadata": {},
   "source": [
    "1. La [Regresión Logística](https://www.geeksforgeeks.org/understanding-logistic-regression/) es un modelo lineal para clasificación binaria y estima la probabilidad de pertenencia a una clase usando una función sigmoide sobre una combinación lineal de las variables. En suma, es un modelo lineal, interpretable, eficiente para datos donde las clases son separables linealmente.\n",
    "\n",
    "    - max_iter: número máximo de iteraciones para que el solver converja (útil en datasets grandes o con muchas variables).\n",
    "    - random_state: fija la semilla para resultados reproducibles.\n",
    "    - class_weight: permite ponderar clases desbalanceadas. \"balanced\" ajusta automáticamente los pesos en función de la frecuencia.\n",
    "    - C (por defecto = 1.0): inverso de la regularización L2. Valores bajos imponen más regularización (evitan overfitting).\n",
    "    - solver: algoritmo de optimización. Ej: 'liblinear', 'lbfgs', 'saga'. Algunos permiten L1 o ElasticNet."
   ]
  },
  {
   "cell_type": "code",
   "execution_count": 26,
   "metadata": {},
   "outputs": [
    {
     "name": "stdout",
     "output_type": "stream",
     "text": [
      "              precision    recall  f1-score   support\n",
      "\n",
      "           0       0.05      0.21      0.08      1299\n",
      "           1       0.98      0.89      0.93     49111\n",
      "\n",
      "    accuracy                           0.87     50410\n",
      "   macro avg       0.51      0.55      0.50     50410\n",
      "weighted avg       0.95      0.87      0.91     50410\n",
      "\n",
      "F1-Score ponderado: 0.9076580651183015\n"
     ]
    }
   ],
   "source": [
    "from sklearn.linear_model import LogisticRegression\n",
    "from sklearn.metrics import f1_score\n",
    "\n",
    "RANDOM_STATE = 42\n",
    "Logistic_regression_Pipeline = Pipeline([\n",
    "    (\"date_features\", DateFeatureExtractor(date_column=\"purchase_date\")),\n",
    "    (\"preprocessor\", preprocessor),\n",
    "    (\"clf\", LogisticRegression(max_iter=10000, random_state=RANDOM_STATE, class_weight=\"balanced\"))\n",
    "])\n",
    "\n",
    "\n",
    "Logistic_regression_Pipeline.fit(df_train, y_train)\n",
    "y_pred_logistic = Logistic_regression_Pipeline.predict(df_valid)\n",
    "\n",
    "print(classification_report(y_valid, y_pred_logistic))\n",
    "f1_weighted_logistic = f1_score(y_valid, y_pred_logistic, average='weighted')\n",
    "print(f\"F1-Score ponderado: {f1_weighted_logistic}\")"
   ]
  },
  {
   "cell_type": "markdown",
   "metadata": {},
   "source": [
    "2. El [XGBoost Classifier](https://xgboost.readthedocs.io/en/release_3.0.0/get_started.html) es un algoritmo de ensamble basado en árboles de decisión, que implementa boosting: cada árbol nuevo corrige errores del anterior. Muy eficiente para clasificación binaria y multiclase. Por lo que resulta ser un modelo no lineal, potente, ideal para conjuntos de datos con patrones complejos y relaciones no lineales entre variables.\n",
    "\n",
    "    - n_estimators: número de árboles en el ensamble.\n",
    "    - max_depth: profundidad máxima de cada árbol (controla complejidad).\n",
    "    - learning_rate: qué tanto contribuye cada árbol nuevo (trade-off bias/varianza).\n",
    "    - objective='binary:logistic': función objetivo para clasificación binaria.\n",
    "    - scale_pos_weight: ajusta el peso relativo de las clases. Es crucial en datasets desbalanceados. Se calcula como #neg / #pos.\n",
    "    - eval_metric: métrica usada para evaluar durante el entrenamiento (ej: 'logloss', 'auc')."
   ]
  },
  {
   "cell_type": "code",
   "execution_count": 27,
   "metadata": {},
   "outputs": [
    {
     "name": "stdout",
     "output_type": "stream",
     "text": [
      "scale_pos_weight: 0.04\n",
      "              precision    recall  f1-score   support\n",
      "\n",
      "           0       0.05      0.12      0.07      1299\n",
      "           1       0.98      0.94      0.96     49111\n",
      "\n",
      "    accuracy                           0.92     50410\n",
      "   macro avg       0.51      0.53      0.52     50410\n",
      "weighted avg       0.95      0.92      0.94     50410\n",
      "\n",
      "F1-Score ponderado: 0.9357668879296864\n"
     ]
    }
   ],
   "source": [
    "from xgboost import XGBClassifier\n",
    "from collections import Counter\n",
    "from sklearn.metrics import f1_score\n",
    "\n",
    "\n",
    "counter = Counter(y_train)\n",
    "neg, pos = counter[0], counter[1]\n",
    "scale_pos_weight = neg / pos\n",
    "print(f\"scale_pos_weight: {scale_pos_weight:.2f}\")\n",
    "\n",
    "XGB = XGBClassifier(\n",
    "    n_estimators=100,    \n",
    "    max_depth=5,         \n",
    "    learning_rate=0.1,\n",
    "    objective='binary:logistic',\n",
    "    scale_pos_weight=scale_pos_weight,\n",
    "    eval_metric='logloss', \n",
    "    random_state=RANDOM_STATE\n",
    ")\n",
    "xgb_pipeline = Pipeline([\n",
    "    (\"date_features\", DateFeatureExtractor(date_column=\"purchase_date\")),\n",
    "    (\"preprocessor\", preprocessor),\n",
    "    (\"clf\", XGB)\n",
    "])\n",
    "\n",
    "xgb_pipeline.fit(X_train, y_train)\n",
    "\n",
    "y_pred_xgb = xgb_pipeline.predict(X_valid)\n",
    "\n",
    "print(classification_report(y_valid, y_pred_xgb))\n",
    "f1_weighted = f1_score(y_valid, y_pred_xgb, average='weighted')\n",
    "print(f\"F1-Score ponderado: {f1_weighted}\")"
   ]
  },
  {
   "cell_type": "markdown",
   "metadata": {},
   "source": [
    "3. El modelo [Decision Tree Classifier](https://scikit-learn.org/stable/modules/generated/sklearn.tree.DecisionTreeClassifier.html) es un modelo no paramétrico que particiona recursivamente el espacio de atributos para tomar decisiones y resulta ser fácil de interpretar. Por lo demás, es no lineal, interpretable pero propenso al sobreajuste si no se poda correctamente. A menudo se usa como base para modelos como Random Forest o XGBoost.\n",
    "\n",
    "    - criterion: mide la calidad de una partición ('gini' o 'entropy').\n",
    "    - max_depth: profundidad máxima del árbol (control de complejidad).\n",
    "    - min_samples_split: número mínimo de muestras para dividir un nodo.\n",
    "    - min_samples_leaf: número mínimo de muestras en una hoja.\n",
    "    - class_weight='balanced': ajusta los pesos de clases automáticamente según su frecuencia.\n",
    "    - max_features: número máximo de features a considerar en cada división.\n",
    "    - ccp_alpha: parámetro de poda para reducir el sobreajuste."
   ]
  },
  {
   "cell_type": "code",
   "execution_count": 28,
   "metadata": {},
   "outputs": [
    {
     "name": "stdout",
     "output_type": "stream",
     "text": [
      "              precision    recall  f1-score   support\n",
      "\n",
      "           0       0.03      0.04      0.04      1299\n",
      "           1       0.97      0.97      0.97     49111\n",
      "\n",
      "    accuracy                           0.95     50410\n",
      "   macro avg       0.50      0.50      0.50     50410\n",
      "weighted avg       0.95      0.95      0.95     50410\n",
      "\n",
      "F1-Score ponderado: 0.9490397135576718\n"
     ]
    }
   ],
   "source": [
    "from sklearn.tree import DecisionTreeClassifier\n",
    "\n",
    "DT = DecisionTreeClassifier(criterion='gini', splitter='best', \n",
    "                       max_depth=None, min_samples_split=2, \n",
    "                       min_samples_leaf=1, min_weight_fraction_leaf=0.0, \n",
    "                       max_features=None, random_state=RANDOM_STATE, max_leaf_nodes=None, \n",
    "                       min_impurity_decrease=0.0, class_weight='balanced', \n",
    "                       ccp_alpha=0.0)\n",
    "\n",
    "Decision_Tree_Pipeline = Pipeline([\n",
    "    (\"date_features\", DateFeatureExtractor(date_column=\"purchase_date\")),\n",
    "    (\"preprocessor\", preprocessor),\n",
    "    ('clf', DT)\n",
    "])\n",
    "\n",
    "Decision_Tree_Pipeline.fit(df_train, y_train)\n",
    "y_pred_dt = Decision_Tree_Pipeline.predict(df_valid)\n",
    "\n",
    "print(classification_report(y_valid, y_pred_dt))\n",
    "f1_weighted_dt = f1_score(y_valid, y_pred_dt, average='weighted')\n",
    "print(f\"F1-Score ponderado: {f1_weighted_dt}\")"
   ]
  },
  {
   "cell_type": "code",
   "execution_count": 29,
   "metadata": {},
   "outputs": [
    {
     "data": {
      "text/html": [
       "<div>\n",
       "<style scoped>\n",
       "    .dataframe tbody tr th:only-of-type {\n",
       "        vertical-align: middle;\n",
       "    }\n",
       "\n",
       "    .dataframe tbody tr th {\n",
       "        vertical-align: top;\n",
       "    }\n",
       "\n",
       "    .dataframe thead th {\n",
       "        text-align: right;\n",
       "    }\n",
       "</style>\n",
       "<table border=\"1\" class=\"dataframe\">\n",
       "  <thead>\n",
       "    <tr style=\"text-align: right;\">\n",
       "      <th></th>\n",
       "      <th>Modelo</th>\n",
       "      <th>Accuracy</th>\n",
       "      <th>Precision</th>\n",
       "      <th>Recall</th>\n",
       "      <th>F1-score</th>\n",
       "    </tr>\n",
       "  </thead>\n",
       "  <tbody>\n",
       "    <tr>\n",
       "      <th>0</th>\n",
       "      <td>Árbol de Decisión</td>\n",
       "      <td>0.947867</td>\n",
       "      <td>0.974462</td>\n",
       "      <td>0.971961</td>\n",
       "      <td>0.973210</td>\n",
       "    </tr>\n",
       "    <tr>\n",
       "      <th>1</th>\n",
       "      <td>XGBoost</td>\n",
       "      <td>0.920631</td>\n",
       "      <td>0.976005</td>\n",
       "      <td>0.941683</td>\n",
       "      <td>0.958537</td>\n",
       "    </tr>\n",
       "    <tr>\n",
       "      <th>2</th>\n",
       "      <td>Regresión Logística</td>\n",
       "      <td>0.869292</td>\n",
       "      <td>0.976875</td>\n",
       "      <td>0.886828</td>\n",
       "      <td>0.929676</td>\n",
       "    </tr>\n",
       "  </tbody>\n",
       "</table>\n",
       "</div>"
      ],
      "text/plain": [
       "                Modelo  Accuracy  Precision    Recall  F1-score\n",
       "0    Árbol de Decisión  0.947867   0.974462  0.971961  0.973210\n",
       "1              XGBoost  0.920631   0.976005  0.941683  0.958537\n",
       "2  Regresión Logística  0.869292   0.976875  0.886828  0.929676"
      ]
     },
     "execution_count": 29,
     "metadata": {},
     "output_type": "execute_result"
    }
   ],
   "source": [
    "from sklearn.metrics import accuracy_score, precision_score, recall_score, f1_score\n",
    "\n",
    "y_pred_dt = Decision_Tree_Pipeline.predict(df_valid)\n",
    "acc_dt = accuracy_score(y_valid, y_pred_dt)\n",
    "f1_dt = f1_score(y_valid, y_pred_dt)\n",
    "recall_dt = recall_score(y_valid, y_pred_dt)\n",
    "precision_dt = precision_score(y_valid, y_pred_dt)\n",
    "\n",
    "y_pred_xgb = xgb_pipeline.predict(X_valid)\n",
    "acc_xgb = accuracy_score(y_valid, y_pred_xgb)\n",
    "f1_xgb = f1_score(y_valid, y_pred_xgb)\n",
    "recall_xgb = recall_score(y_valid, y_pred_xgb)\n",
    "precision_xgb = precision_score(y_valid, y_pred_xgb)\n",
    "\n",
    "y_pred_lr = Logistic_regression_Pipeline.predict(df_valid)\n",
    "acc_lr = accuracy_score(y_valid, y_pred_lr)\n",
    "f1_lr = f1_score(y_valid, y_pred_lr)\n",
    "recall_lr = recall_score(y_valid, y_pred_lr)\n",
    "precision_lr = precision_score(y_valid, y_pred_lr)\n",
    "\n",
    "results = pd.DataFrame({\n",
    "    \"Modelo\": [\"Árbol de Decisión\", \"XGBoost\", \"Regresión Logística\"],\n",
    "    \"Accuracy\": [acc_dt, acc_xgb, acc_lr],\n",
    "    \"Precision\": [precision_dt, precision_xgb, precision_lr],\n",
    "    \"Recall\": [recall_dt, recall_xgb, recall_lr],\n",
    "    \"F1-score\": [f1_dt, f1_xgb, f1_lr]\n",
    "})\n",
    "\n",
    "results\n"
   ]
  },
  {
   "cell_type": "markdown",
   "metadata": {},
   "source": [
    "1. ¿Hay algún clasificador que supere al modelo baseline?  \n",
    "Respuesta:  En general, los tres modelos superan al modelo baseline, porque todos tienen una precisión, recall y f1-score distinto de cero para la clase 0 (que es la minoritaria). Específicamente, el F1-score weighted del Decision Tree, XGBoost Classifier y el Logistic Regression, tienen valores de 0.949, 0.935 y 0.907 respectivamente, mientras que el Baseline tenía un F1-score weighted de 0.64 (que recordemos que asigna aleatoria y uniformemente clases)."
   ]
  },
  {
   "cell_type": "markdown",
   "metadata": {},
   "source": [
    "2. ¿Cuál es el mejor clasificador entrenado y por qué?  \n",
    "Respuesta: Dado que nuestras clases están desbalanceadas, queremos enfocarnos en f1-score, precision y recall. El que tiene mejor métricas en las tres es el modelo Árbol de Decisión. Entre los modelos evaluados (Árbol de Decisión, XGBoost y Regresión Logística), el Árbol de Decisión mostró el mayor rendimiento en el conjunto de validación, alcanzando el valor más alto de F1-score weighted (0.949). Este indicador balancea precisión y exhaustividad, y es especialmente útil cuando queremos evitar tanto falsos positivos como falsos negativos (y en nuestro caso queremos sí o sí tener en cuenta el desbalance de clases).\n",
    "Además, este modelo tiene la ventaja de ser más interpretable, lo cual es importante en contextos donde se requiere explicar decisiones. Y es mejor entrenado simplemente porque le dimos más hiperparámetros (y por ende puede alcanzar un mejor tradeoff entre complejidad y ajuste a los datos). \n",
    "Por otro lado, recordemos que un DecisionTreeClassifier aprende bien reglas del tipo \"si la persona hizo X, y además Y, entonces probablemente compre un producto dado\", como puede ser \"Si el tiempo desde la última compra es menor a 7 días y el usuario ha comprado antes, entonces comprará\", lo que no lo hace tan bien la regresión logística ni el XGBoost. Por otro lado, el XGBoost no estaba tuneado (necesita un buen seteo de n_estimators, learning_rate, etc para funcionar bien en cuanto a sobreajuste) y la regresión logística quizás tenía variables irrelevantes o correlacionadas (mientras que un árbol de decisión no requiere escalado de variables ni se ve afectado tanto por multicolinealidad)."
   ]
  },
  {
   "cell_type": "markdown",
   "metadata": {},
   "source": [
    "3. ¿Qué factores hacen que el mejor clasificador sea superior a los otros?  \n",
    "Respuesta: El hecho de que se haya entrenado con class_weight=\"balanced\" también ayuda a mitigar el desbalance en las clases (que en nuestro caso tiene que ver la clase 0 como muy desbalanceada c/r a la clase 1). Además, los árboles de decisión son robustos a outliers, y aunque puede sobreajustar, el árbol tiene hiperparámetros muy intuitivos para controlarlo:\n",
    "\n",
    "    - max_depth: limita la profundidad.\n",
    "    - min_samples_split y min_samples_leaf: controlan el tamaño mínimo de los nodos.\n",
    "    - ccp_alpha: poda el árbol automáticamente."
   ]
  },
  {
   "cell_type": "markdown",
   "metadata": {},
   "source": [
    "4. En términos de `tiempo de entrenamiento`, ¿Qué modelo considera más adecuado para experimentar con grillas de optimización?           \n",
    "Respuesta: En términos de tiempo de entrenamiento, la Regresión Logística es la más adecuada para experimentar con grillas de optimización, porque entrena muy rápido (incluso con muchas interaciones), tiene pocos hiperparámetros relevantes para optimizar (C, penalty y solver). En cambio los otros dos tipos de modelo tienen más hiperparámetros que optimizar, que ralentizarían la optimización. Sin embargo, elegiremos Decision Tree para usar Optuna porque tiene más hiperparámetros y porque a priori ya vimos que nuestro Árbol de Decisión es mejor que nuestra Regresión Logística. "
   ]
  },
  {
   "cell_type": "markdown",
   "metadata": {},
   "source": [
    "## 📌 Optimización de Hiperparámetros [1.0 puntos]\n",
    "\n",
    "<center>\n",
    "<img src=\"https://media1.giphy.com/media/v1.Y2lkPTc5MGI3NjExcXJkNzdhYjlneHplaGpsbnVkdzh5dnY3Y2VyaTIzamszdGR1czJ2diZlcD12MV9pbnRlcm5hbF9naWZfYnlfaWQmY3Q9Zw/2rqEdFfkMzXmo/giphy.gif\" width=\"300\" height=\"200\">"
   ]
  },
  {
   "cell_type": "markdown",
   "metadata": {},
   "source": [
    "A partir de su análisis anterior, se debe proceder a optimizar el rendimiento del modelo seleccionado mediante la optimización de sus hiperparámetros. Para ello, se espera que implementen `Optuna` para optimizar no solo los hiperparámetros del modelo, sino también los de los preprocesadores utilizados (por ejemplo, OneHot Encoding, Scalers, etc.).\n",
    "\n",
    "Al desarrollar este proceso, deberán responder las siguientes preguntas clave como mínimo:\n",
    "\n",
    "- ¿Qué métrica decidieron optimizar y por qué?\n",
    "\n",
    "- ¿Qué hiperparámetro tuvo un mayor impacto en el rendimiento de su modelo?\n",
    "\n",
    "- ¿Cuánto mejoró el rendimiento del modelo después de la optimización de hiperparámetros?"
   ]
  },
  {
   "cell_type": "code",
   "execution_count": 30,
   "metadata": {},
   "outputs": [],
   "source": [
    "#!pip install optuna"
   ]
  },
  {
   "cell_type": "code",
   "execution_count": 31,
   "metadata": {},
   "outputs": [
    {
     "name": "stderr",
     "output_type": "stream",
     "text": [
      "[I 2025-05-14 16:41:00,260] A new study created in memory with name: no-name-c903ca15-c871-4a7d-aa4a-88f98149b8c9\n",
      "[I 2025-05-14 16:41:01,008] Trial 0 finished with value: 0.038484871795970155 and parameters: {'criterion': 'entropy', 'splitter': 'best', 'max_depth': 7, 'min_samples_split': 19, 'min_samples_leaf': 2, 'min_weight_fraction_leaf': 0.0979914312095726, 'max_features': 'log2', 'max_leaf_nodes': 9, 'min_impurity_decrease': 0.008061064362700222, 'class_weight': 'balanced', 'ccp_alpha': 0.031670187825521175, 'imputer_strategy_num': 'mean', 'imputer_strategy_cat': 'constant', 'scaler': 'robust', 'min_frequency': 0.3180034749718639}. Best is trial 0 with value: 0.038484871795970155.\n",
      "[I 2025-05-14 16:41:01,662] Trial 1 finished with value: 0.038484871795970155 and parameters: {'criterion': 'log_loss', 'splitter': 'random', 'max_depth': 27, 'min_samples_split': 19, 'min_samples_leaf': 3, 'min_weight_fraction_leaf': 0.17053317552512925, 'max_features': 'sqrt', 'max_leaf_nodes': 43, 'min_impurity_decrease': 0.009762149389902226, 'class_weight': 'balanced', 'ccp_alpha': 0.001215798321572692, 'imputer_strategy_num': 'mean', 'imputer_strategy_cat': 'constant', 'scaler': 'standard', 'min_frequency': 0.9283185625877254}. Best is trial 0 with value: 0.038484871795970155.\n",
      "[I 2025-05-14 16:41:02,318] Trial 2 finished with value: 0.038484871795970155 and parameters: {'criterion': 'entropy', 'splitter': 'best', 'max_depth': 11, 'min_samples_split': 12, 'min_samples_leaf': 11, 'min_weight_fraction_leaf': 0.3187149507491033, 'max_features': 'sqrt', 'max_leaf_nodes': 7, 'min_impurity_decrease': 0.029288779063673165, 'class_weight': 'balanced', 'ccp_alpha': 0.019408496310326095, 'imputer_strategy_num': 'mean', 'imputer_strategy_cat': 'constant', 'scaler': 'minmax', 'min_frequency': 0.19579113478929644}. Best is trial 0 with value: 0.038484871795970155.\n",
      "[I 2025-05-14 16:41:03,214] Trial 3 finished with value: 0.038484871795970155 and parameters: {'criterion': 'entropy', 'splitter': 'random', 'max_depth': 17, 'min_samples_split': 3, 'min_samples_leaf': 11, 'min_weight_fraction_leaf': 0.2207652506866885, 'max_features': None, 'max_leaf_nodes': 46, 'min_impurity_decrease': 0.03146993190676313, 'class_weight': 'balanced', 'ccp_alpha': 0.03137790400420317, 'imputer_strategy_num': 'median', 'imputer_strategy_cat': 'constant', 'scaler': 'standard', 'min_frequency': 0.6201325978015367}. Best is trial 0 with value: 0.038484871795970155.\n",
      "[I 2025-05-14 16:41:04,000] Trial 4 finished with value: 0.038484871795970155 and parameters: {'criterion': 'log_loss', 'splitter': 'random', 'max_depth': 35, 'min_samples_split': 14, 'min_samples_leaf': 11, 'min_weight_fraction_leaf': 0.38615919586781966, 'max_features': 'sqrt', 'max_leaf_nodes': 29, 'min_impurity_decrease': 0.004435126687852781, 'class_weight': None, 'ccp_alpha': 0.010316685920289627, 'imputer_strategy_num': 'median', 'imputer_strategy_cat': 'most_frequent', 'scaler': 'standard', 'min_frequency': 0.8735786241067772}. Best is trial 0 with value: 0.038484871795970155.\n",
      "[I 2025-05-14 16:41:04,937] Trial 5 finished with value: 0.038484871795970155 and parameters: {'criterion': 'gini', 'splitter': 'best', 'max_depth': 42, 'min_samples_split': 5, 'min_samples_leaf': 18, 'min_weight_fraction_leaf': 0.040116872830821104, 'max_features': 'log2', 'max_leaf_nodes': 30, 'min_impurity_decrease': 0.006988618831314475, 'class_weight': 'balanced', 'ccp_alpha': 0.008182797143285226, 'imputer_strategy_num': 'median', 'imputer_strategy_cat': 'most_frequent', 'scaler': 'minmax', 'min_frequency': 0.8165994394715771}. Best is trial 0 with value: 0.038484871795970155.\n",
      "[I 2025-05-14 16:41:05,619] Trial 6 finished with value: 0.038484871795970155 and parameters: {'criterion': 'log_loss', 'splitter': 'random', 'max_depth': 47, 'min_samples_split': 13, 'min_samples_leaf': 1, 'min_weight_fraction_leaf': 0.43606195447207574, 'max_features': None, 'max_leaf_nodes': 49, 'min_impurity_decrease': 0.02976925086600219, 'class_weight': None, 'ccp_alpha': 0.01049527965477929, 'imputer_strategy_num': 'mean', 'imputer_strategy_cat': 'most_frequent', 'scaler': 'minmax', 'min_frequency': 0.7755276166950106}. Best is trial 0 with value: 0.038484871795970155.\n",
      "[I 2025-05-14 16:41:06,304] Trial 7 finished with value: 0.038484871795970155 and parameters: {'criterion': 'entropy', 'splitter': 'random', 'max_depth': 4, 'min_samples_split': 7, 'min_samples_leaf': 19, 'min_weight_fraction_leaf': 0.3818028970798804, 'max_features': 'sqrt', 'max_leaf_nodes': 11, 'min_impurity_decrease': 0.03662860486051252, 'class_weight': 'balanced', 'ccp_alpha': 0.013113202214991255, 'imputer_strategy_num': 'mean', 'imputer_strategy_cat': 'constant', 'scaler': 'minmax', 'min_frequency': 0.07513778173580876}. Best is trial 0 with value: 0.038484871795970155.\n",
      "[I 2025-05-14 16:41:07,008] Trial 8 finished with value: 0.038484871795970155 and parameters: {'criterion': 'gini', 'splitter': 'best', 'max_depth': 23, 'min_samples_split': 7, 'min_samples_leaf': 11, 'min_weight_fraction_leaf': 0.39536158241948177, 'max_features': 'log2', 'max_leaf_nodes': 10, 'min_impurity_decrease': 0.008826401600275414, 'class_weight': 'balanced', 'ccp_alpha': 0.03897922367833767, 'imputer_strategy_num': 'mean', 'imputer_strategy_cat': 'most_frequent', 'scaler': 'minmax', 'min_frequency': 0.39624201890265875}. Best is trial 0 with value: 0.038484871795970155.\n",
      "[I 2025-05-14 16:41:07,815] Trial 9 finished with value: 0.038484871795970155 and parameters: {'criterion': 'gini', 'splitter': 'best', 'max_depth': 10, 'min_samples_split': 8, 'min_samples_leaf': 15, 'min_weight_fraction_leaf': 0.0803799480241541, 'max_features': 'sqrt', 'max_leaf_nodes': 42, 'min_impurity_decrease': 0.032725560714056766, 'class_weight': None, 'ccp_alpha': 0.007552894589045012, 'imputer_strategy_num': 'median', 'imputer_strategy_cat': 'constant', 'scaler': 'robust', 'min_frequency': 0.409334006315043}. Best is trial 0 with value: 0.038484871795970155.\n",
      "[I 2025-05-14 16:41:08,609] Trial 10 finished with value: 0.038484871795970155 and parameters: {'criterion': 'entropy', 'splitter': 'best', 'max_depth': 7, 'min_samples_split': 20, 'min_samples_leaf': 5, 'min_weight_fraction_leaf': 0.14481412494387902, 'max_features': 'log2', 'max_leaf_nodes': 9, 'min_impurity_decrease': 0.04734809381950747, 'class_weight': None, 'ccp_alpha': 0.04920757609474302, 'imputer_strategy_num': 'mean', 'imputer_strategy_cat': 'constant', 'scaler': 'robust', 'min_frequency': 0.23675097396734202}. Best is trial 0 with value: 0.038484871795970155.\n",
      "[I 2025-05-14 16:41:09,357] Trial 11 finished with value: 0.038484871795970155 and parameters: {'criterion': 'log_loss', 'splitter': 'random', 'max_depth': 27, 'min_samples_split': 20, 'min_samples_leaf': 1, 'min_weight_fraction_leaf': 0.1821182076450776, 'max_features': 'log2', 'max_leaf_nodes': 40, 'min_impurity_decrease': 0.01694228793288321, 'class_weight': 'balanced', 'ccp_alpha': 0.02760990042327524, 'imputer_strategy_num': 'mean', 'imputer_strategy_cat': 'constant', 'scaler': 'standard', 'min_frequency': 0.5513779655941824}. Best is trial 0 with value: 0.038484871795970155.\n",
      "[I 2025-05-14 16:41:10,069] Trial 12 finished with value: 0.038484871795970155 and parameters: {'criterion': 'log_loss', 'splitter': 'random', 'max_depth': 16, 'min_samples_split': 17, 'min_samples_leaf': 5, 'min_weight_fraction_leaf': 0.11198686295234256, 'max_features': 'sqrt', 'max_leaf_nodes': 48, 'min_impurity_decrease': 0.018439149692109136, 'class_weight': 'balanced', 'ccp_alpha': 0.03768203617395953, 'imputer_strategy_num': 'mean', 'imputer_strategy_cat': 'constant', 'scaler': 'robust', 'min_frequency': 0.7049270826015106}. Best is trial 0 with value: 0.038484871795970155.\n",
      "[I 2025-05-14 16:41:10,782] Trial 13 finished with value: 0.038484871795970155 and parameters: {'criterion': 'log_loss', 'splitter': 'best', 'max_depth': 14, 'min_samples_split': 16, 'min_samples_leaf': 6, 'min_weight_fraction_leaf': 0.2745842772119992, 'max_features': 'log2', 'max_leaf_nodes': 43, 'min_impurity_decrease': 0.01585469066675219, 'class_weight': 'balanced', 'ccp_alpha': 0.0010456783241701954, 'imputer_strategy_num': 'mean', 'imputer_strategy_cat': 'constant', 'scaler': 'robust', 'min_frequency': 0.9468049264135636}. Best is trial 0 with value: 0.038484871795970155.\n",
      "[I 2025-05-14 16:41:11,508] Trial 14 finished with value: 0.038484871795970155 and parameters: {'criterion': 'entropy', 'splitter': 'random', 'max_depth': 34, 'min_samples_split': 17, 'min_samples_leaf': 7, 'min_weight_fraction_leaf': 0.011847705752916049, 'max_features': None, 'max_leaf_nodes': 20, 'min_impurity_decrease': 0.0018191578976453227, 'class_weight': 'balanced', 'ccp_alpha': 0.02237872934342736, 'imputer_strategy_num': 'mean', 'imputer_strategy_cat': 'constant', 'scaler': 'standard', 'min_frequency': 0.37699597076637836}. Best is trial 0 with value: 0.038484871795970155.\n",
      "[I 2025-05-14 16:41:12,216] Trial 15 finished with value: 0.038484871795970155 and parameters: {'criterion': 'entropy', 'splitter': 'best', 'max_depth': 18, 'min_samples_split': 19, 'min_samples_leaf': 3, 'min_weight_fraction_leaf': 0.17525734202128088, 'max_features': 'sqrt', 'max_leaf_nodes': 31, 'min_impurity_decrease': 0.011635548477588416, 'class_weight': 'balanced', 'ccp_alpha': 0.035436536905741355, 'imputer_strategy_num': 'mean', 'imputer_strategy_cat': 'constant', 'scaler': 'robust', 'min_frequency': 0.9826099093114827}. Best is trial 0 with value: 0.038484871795970155.\n",
      "[I 2025-05-14 16:41:12,932] Trial 16 finished with value: 0.038484871795970155 and parameters: {'criterion': 'log_loss', 'splitter': 'best', 'max_depth': 7, 'min_samples_split': 15, 'min_samples_leaf': 8, 'min_weight_fraction_leaf': 0.07506657711993772, 'max_features': 'log2', 'max_leaf_nodes': 14, 'min_impurity_decrease': 0.022319938141008563, 'class_weight': 'balanced', 'ccp_alpha': 0.04750866147991148, 'imputer_strategy_num': 'mean', 'imputer_strategy_cat': 'constant', 'scaler': 'standard', 'min_frequency': 0.26647901490569825}. Best is trial 0 with value: 0.038484871795970155.\n",
      "[I 2025-05-14 16:41:13,663] Trial 17 finished with value: 0.038484871795970155 and parameters: {'criterion': 'log_loss', 'splitter': 'random', 'max_depth': 30, 'min_samples_split': 10, 'min_samples_leaf': 3, 'min_weight_fraction_leaf': 0.294607919973996, 'max_features': 'sqrt', 'max_leaf_nodes': 13, 'min_impurity_decrease': 0.012339825707836871, 'class_weight': 'balanced', 'ccp_alpha': 0.017641676793105233, 'imputer_strategy_num': 'mean', 'imputer_strategy_cat': 'constant', 'scaler': 'standard', 'min_frequency': 0.041994011296772715}. Best is trial 0 with value: 0.038484871795970155.\n",
      "[I 2025-05-14 16:41:14,499] Trial 18 finished with value: 0.038484871795970155 and parameters: {'criterion': 'entropy', 'splitter': 'random', 'max_depth': 8, 'min_samples_split': 17, 'min_samples_leaf': 8, 'min_weight_fraction_leaf': 0.21972017852091563, 'max_features': 'log2', 'max_leaf_nodes': 3, 'min_impurity_decrease': 0.0006178738604679527, 'class_weight': None, 'ccp_alpha': 0.02658833590823037, 'imputer_strategy_num': 'median', 'imputer_strategy_cat': 'most_frequent', 'scaler': 'robust', 'min_frequency': 0.5074349496747115}. Best is trial 0 with value: 0.038484871795970155.\n",
      "[I 2025-05-14 16:41:15,241] Trial 19 finished with value: 0.038484871795970155 and parameters: {'criterion': 'gini', 'splitter': 'best', 'max_depth': 27, 'min_samples_split': 18, 'min_samples_leaf': 14, 'min_weight_fraction_leaf': 0.12157473119232962, 'max_features': None, 'max_leaf_nodes': 9, 'min_impurity_decrease': 0.02418727061431844, 'class_weight': 'balanced', 'ccp_alpha': 1.3105615235646517e-05, 'imputer_strategy_num': 'mean', 'imputer_strategy_cat': 'constant', 'scaler': 'standard', 'min_frequency': 0.6828431881166039}. Best is trial 0 with value: 0.038484871795970155.\n",
      "[I 2025-05-14 16:41:15,962] Trial 20 finished with value: 0.038484871795970155 and parameters: {'criterion': 'log_loss', 'splitter': 'best', 'max_depth': 26, 'min_samples_split': 10, 'min_samples_leaf': 3, 'min_weight_fraction_leaf': 0.23735365079248763, 'max_features': 'log2', 'max_leaf_nodes': 37, 'min_impurity_decrease': 0.01095772409201366, 'class_weight': 'balanced', 'ccp_alpha': 0.04165824541847289, 'imputer_strategy_num': 'mean', 'imputer_strategy_cat': 'constant', 'scaler': 'robust', 'min_frequency': 0.3201732901808012}. Best is trial 0 with value: 0.038484871795970155.\n",
      "[I 2025-05-14 16:41:16,625] Trial 21 finished with value: 0.038484871795970155 and parameters: {'criterion': 'entropy', 'splitter': 'best', 'max_depth': 11, 'min_samples_split': 12, 'min_samples_leaf': 15, 'min_weight_fraction_leaf': 0.32474622812405096, 'max_features': 'sqrt', 'max_leaf_nodes': 7, 'min_impurity_decrease': 0.040686917278609666, 'class_weight': 'balanced', 'ccp_alpha': 0.02024602306598168, 'imputer_strategy_num': 'mean', 'imputer_strategy_cat': 'constant', 'scaler': 'minmax', 'min_frequency': 0.192373043549693}. Best is trial 0 with value: 0.038484871795970155.\n",
      "[I 2025-05-14 16:41:17,306] Trial 22 finished with value: 0.038484871795970155 and parameters: {'criterion': 'entropy', 'splitter': 'best', 'max_depth': 2, 'min_samples_split': 15, 'min_samples_leaf': 9, 'min_weight_fraction_leaf': 0.48514205377459685, 'max_features': 'sqrt', 'max_leaf_nodes': 25, 'min_impurity_decrease': 0.020825126070781335, 'class_weight': 'balanced', 'ccp_alpha': 0.03268447503238017, 'imputer_strategy_num': 'mean', 'imputer_strategy_cat': 'constant', 'scaler': 'minmax', 'min_frequency': 0.1572098784358595}. Best is trial 0 with value: 0.038484871795970155.\n",
      "[I 2025-05-14 16:41:18,028] Trial 23 finished with value: 0.038484871795970155 and parameters: {'criterion': 'entropy', 'splitter': 'best', 'max_depth': 15, 'min_samples_split': 19, 'min_samples_leaf': 13, 'min_weight_fraction_leaf': 0.3218612772779878, 'max_features': 'sqrt', 'max_leaf_nodes': 38, 'min_impurity_decrease': 0.02703347328258919, 'class_weight': 'balanced', 'ccp_alpha': 0.01586115346001577, 'imputer_strategy_num': 'mean', 'imputer_strategy_cat': 'constant', 'scaler': 'minmax', 'min_frequency': 0.15557064891052663}. Best is trial 0 with value: 0.038484871795970155.\n",
      "[I 2025-05-14 16:41:18,701] Trial 24 finished with value: 0.038484871795970155 and parameters: {'criterion': 'entropy', 'splitter': 'best', 'max_depth': 13, 'min_samples_split': 2, 'min_samples_leaf': 4, 'min_weight_fraction_leaf': 0.17149832830546996, 'max_features': 'sqrt', 'max_leaf_nodes': 34, 'min_impurity_decrease': 0.014042756881086594, 'class_weight': 'balanced', 'ccp_alpha': 0.00484115546855831, 'imputer_strategy_num': 'mean', 'imputer_strategy_cat': 'constant', 'scaler': 'minmax', 'min_frequency': 0.44526928310699254}. Best is trial 0 with value: 0.038484871795970155.\n",
      "[I 2025-05-14 16:41:19,368] Trial 25 finished with value: 0.038484871795970155 and parameters: {'criterion': 'entropy', 'splitter': 'best', 'max_depth': 29, 'min_samples_split': 12, 'min_samples_leaf': 1, 'min_weight_fraction_leaf': 0.07643820409025377, 'max_features': 'sqrt', 'max_leaf_nodes': 17, 'min_impurity_decrease': 0.005697342523002183, 'class_weight': 'balanced', 'ccp_alpha': 0.022690155346252773, 'imputer_strategy_num': 'mean', 'imputer_strategy_cat': 'constant', 'scaler': 'standard', 'min_frequency': 0.33507465597666486}. Best is trial 0 with value: 0.038484871795970155.\n",
      "[I 2025-05-14 16:41:20,206] Trial 26 finished with value: 0.038484871795970155 and parameters: {'criterion': 'entropy', 'splitter': 'random', 'max_depth': 50, 'min_samples_split': 14, 'min_samples_leaf': 9, 'min_weight_fraction_leaf': 0.2643105292368908, 'max_features': 'sqrt', 'max_leaf_nodes': 23, 'min_impurity_decrease': 0.03572906393500376, 'class_weight': None, 'ccp_alpha': 0.030124465958194846, 'imputer_strategy_num': 'median', 'imputer_strategy_cat': 'most_frequent', 'scaler': 'robust', 'min_frequency': 0.08807963583614761}. Best is trial 0 with value: 0.038484871795970155.\n",
      "[I 2025-05-14 16:41:20,921] Trial 27 finished with value: 0.038484871795970155 and parameters: {'criterion': 'entropy', 'splitter': 'best', 'max_depth': 38, 'min_samples_split': 18, 'min_samples_leaf': 13, 'min_weight_fraction_leaf': 0.3355643630349244, 'max_features': 'sqrt', 'max_leaf_nodes': 7, 'min_impurity_decrease': 0.027962747225005403, 'class_weight': 'balanced', 'ccp_alpha': 0.04472058311651464, 'imputer_strategy_num': 'mean', 'imputer_strategy_cat': 'constant', 'scaler': 'robust', 'min_frequency': 0.2728248766174711}. Best is trial 0 with value: 0.038484871795970155.\n",
      "[I 2025-05-14 16:41:21,582] Trial 28 finished with value: 0.038484871795970155 and parameters: {'criterion': 'gini', 'splitter': 'random', 'max_depth': 25, 'min_samples_split': 9, 'min_samples_leaf': 6, 'min_weight_fraction_leaf': 0.2040871708767109, 'max_features': 'log2', 'max_leaf_nodes': 35, 'min_impurity_decrease': 0.01982083630988478, 'class_weight': 'balanced', 'ccp_alpha': 0.01768667596741334, 'imputer_strategy_num': 'mean', 'imputer_strategy_cat': 'constant', 'scaler': 'standard', 'min_frequency': 0.48944482405675815}. Best is trial 0 with value: 0.038484871795970155.\n",
      "[I 2025-05-14 16:41:22,396] Trial 29 finished with value: 0.038484871795970155 and parameters: {'criterion': 'log_loss', 'splitter': 'random', 'max_depth': 45, 'min_samples_split': 4, 'min_samples_leaf': 17, 'min_weight_fraction_leaf': 0.10327211168403162, 'max_features': None, 'max_leaf_nodes': 2, 'min_impurity_decrease': 0.04094172964834367, 'class_weight': 'balanced', 'ccp_alpha': 0.03276189760250964, 'imputer_strategy_num': 'median', 'imputer_strategy_cat': 'constant', 'scaler': 'minmax', 'min_frequency': 0.6258365550575583}. Best is trial 0 with value: 0.038484871795970155.\n",
      "[I 2025-05-14 16:41:23,143] Trial 30 finished with value: 0.038484871795970155 and parameters: {'criterion': 'entropy', 'splitter': 'best', 'max_depth': 40, 'min_samples_split': 20, 'min_samples_leaf': 10, 'min_weight_fraction_leaf': 0.1495438567271081, 'max_features': None, 'max_leaf_nodes': 27, 'min_impurity_decrease': 0.02536876946530351, 'class_weight': 'balanced', 'ccp_alpha': 0.0037036421417710463, 'imputer_strategy_num': 'mean', 'imputer_strategy_cat': 'constant', 'scaler': 'standard', 'min_frequency': 0.017334780859167315}. Best is trial 0 with value: 0.038484871795970155.\n",
      "[I 2025-05-14 16:41:23,938] Trial 31 finished with value: 0.038484871795970155 and parameters: {'criterion': 'entropy', 'splitter': 'random', 'max_depth': 48, 'min_samples_split': 2, 'min_samples_leaf': 12, 'min_weight_fraction_leaf': 0.2339643289218374, 'max_features': None, 'max_leaf_nodes': 41, 'min_impurity_decrease': 0.03115133055362174, 'class_weight': 'balanced', 'ccp_alpha': 0.029758283130387007, 'imputer_strategy_num': 'median', 'imputer_strategy_cat': 'constant', 'scaler': 'standard', 'min_frequency': 0.8857373363160179}. Best is trial 0 with value: 0.038484871795970155.\n",
      "[I 2025-05-14 16:41:24,743] Trial 32 finished with value: 0.038484871795970155 and parameters: {'criterion': 'entropy', 'splitter': 'random', 'max_depth': 39, 'min_samples_split': 4, 'min_samples_leaf': 10, 'min_weight_fraction_leaf': 0.21092347184640867, 'max_features': None, 'max_leaf_nodes': 46, 'min_impurity_decrease': 0.03401505446391011, 'class_weight': 'balanced', 'ccp_alpha': 0.03450415074653683, 'imputer_strategy_num': 'median', 'imputer_strategy_cat': 'most_frequent', 'scaler': 'standard', 'min_frequency': 0.5977953017433254}. Best is trial 0 with value: 0.038484871795970155.\n",
      "[I 2025-05-14 16:41:25,591] Trial 33 finished with value: 0.038484871795970155 and parameters: {'criterion': 'entropy', 'splitter': 'random', 'max_depth': 5, 'min_samples_split': 5, 'min_samples_leaf': 12, 'min_weight_fraction_leaf': 0.3686697371673977, 'max_features': None, 'max_leaf_nodes': 32, 'min_impurity_decrease': 0.03970022325067681, 'class_weight': None, 'ccp_alpha': 0.02426726893497229, 'imputer_strategy_num': 'median', 'imputer_strategy_cat': 'constant', 'scaler': 'standard', 'min_frequency': 0.8052006430952376}. Best is trial 0 with value: 0.038484871795970155.\n",
      "[I 2025-05-14 16:41:26,413] Trial 34 finished with value: 0.038484871795970155 and parameters: {'criterion': 'log_loss', 'splitter': 'random', 'max_depth': 17, 'min_samples_split': 13, 'min_samples_leaf': 2, 'min_weight_fraction_leaf': 0.28660952593007305, 'max_features': None, 'max_leaf_nodes': 24, 'min_impurity_decrease': 0.003297568481377181, 'class_weight': 'balanced', 'ccp_alpha': 0.011165445151430626, 'imputer_strategy_num': 'median', 'imputer_strategy_cat': 'most_frequent', 'scaler': 'standard', 'min_frequency': 0.8798622851083935}. Best is trial 0 with value: 0.038484871795970155.\n",
      "[I 2025-05-14 16:41:27,214] Trial 35 finished with value: 0.038484871795970155 and parameters: {'criterion': 'entropy', 'splitter': 'random', 'max_depth': 43, 'min_samples_split': 11, 'min_samples_leaf': 11, 'min_weight_fraction_leaf': 0.04349561295104053, 'max_features': 'sqrt', 'max_leaf_nodes': None, 'min_impurity_decrease': 0.007625081187398133, 'class_weight': 'balanced', 'ccp_alpha': 0.029056991404541134, 'imputer_strategy_num': 'median', 'imputer_strategy_cat': 'constant', 'scaler': 'minmax', 'min_frequency': 0.7322266335988294}. Best is trial 0 with value: 0.038484871795970155.\n",
      "[I 2025-05-14 16:41:28,038] Trial 36 finished with value: 0.038484871795970155 and parameters: {'criterion': 'gini', 'splitter': 'random', 'max_depth': 44, 'min_samples_split': 7, 'min_samples_leaf': 17, 'min_weight_fraction_leaf': 0.4187388064873787, 'max_features': 'log2', 'max_leaf_nodes': 28, 'min_impurity_decrease': 0.04590502441283073, 'class_weight': None, 'ccp_alpha': 0.03989825525428068, 'imputer_strategy_num': 'median', 'imputer_strategy_cat': 'most_frequent', 'scaler': 'minmax', 'min_frequency': 0.2050737973884155}. Best is trial 0 with value: 0.038484871795970155.\n",
      "[I 2025-05-14 16:41:28,833] Trial 37 finished with value: 0.038484871795970155 and parameters: {'criterion': 'entropy', 'splitter': 'best', 'max_depth': 9, 'min_samples_split': 6, 'min_samples_leaf': 9, 'min_weight_fraction_leaf': 0.3600471193558823, 'max_features': 'sqrt', 'max_leaf_nodes': 4, 'min_impurity_decrease': 0.028402797013125064, 'class_weight': 'balanced', 'ccp_alpha': 0.013716522738771643, 'imputer_strategy_num': 'median', 'imputer_strategy_cat': 'constant', 'scaler': 'standard', 'min_frequency': 0.11837178362367554}. Best is trial 0 with value: 0.038484871795970155.\n",
      "[I 2025-05-14 16:41:29,504] Trial 38 finished with value: 0.038484871795970155 and parameters: {'criterion': 'log_loss', 'splitter': 'random', 'max_depth': 46, 'min_samples_split': 15, 'min_samples_leaf': 7, 'min_weight_fraction_leaf': 0.14475352748691395, 'max_features': None, 'max_leaf_nodes': 8, 'min_impurity_decrease': 0.03151994567757887, 'class_weight': 'balanced', 'ccp_alpha': 0.007674570278514436, 'imputer_strategy_num': 'mean', 'imputer_strategy_cat': 'constant', 'scaler': 'minmax', 'min_frequency': 0.3107898337971851}. Best is trial 0 with value: 0.038484871795970155.\n",
      "[I 2025-05-14 16:41:30,223] Trial 39 finished with value: 0.038484871795970155 and parameters: {'criterion': 'gini', 'splitter': 'best', 'max_depth': 28, 'min_samples_split': 8, 'min_samples_leaf': 4, 'min_weight_fraction_leaf': 0.25224011298174276, 'max_features': 'log2', 'max_leaf_nodes': 18, 'min_impurity_decrease': 0.03816783998926049, 'class_weight': None, 'ccp_alpha': 0.025795197516951012, 'imputer_strategy_num': 'mean', 'imputer_strategy_cat': 'constant', 'scaler': 'robust', 'min_frequency': 0.4352934886783895}. Best is trial 0 with value: 0.038484871795970155.\n",
      "[I 2025-05-14 16:41:30,947] Trial 40 finished with value: 0.038484871795970155 and parameters: {'criterion': 'entropy', 'splitter': 'random', 'max_depth': 33, 'min_samples_split': 19, 'min_samples_leaf': 20, 'min_weight_fraction_leaf': 0.025296736988865337, 'max_features': 'sqrt', 'max_leaf_nodes': 5, 'min_impurity_decrease': 0.04408134118892587, 'class_weight': 'balanced', 'ccp_alpha': 0.036178057386049595, 'imputer_strategy_num': 'mean', 'imputer_strategy_cat': 'most_frequent', 'scaler': 'standard', 'min_frequency': 0.7597381985003937}. Best is trial 0 with value: 0.038484871795970155.\n",
      "[I 2025-05-14 16:41:31,771] Trial 41 finished with value: 0.038484871795970155 and parameters: {'criterion': 'log_loss', 'splitter': 'random', 'max_depth': 31, 'min_samples_split': 13, 'min_samples_leaf': 12, 'min_weight_fraction_leaf': 0.3918910390400324, 'max_features': 'sqrt', 'max_leaf_nodes': 43, 'min_impurity_decrease': 0.004586626005323728, 'class_weight': None, 'ccp_alpha': 0.004950754810123452, 'imputer_strategy_num': 'median', 'imputer_strategy_cat': 'most_frequent', 'scaler': 'standard', 'min_frequency': 0.9261509373648616}. Best is trial 0 with value: 0.038484871795970155.\n",
      "[I 2025-05-14 16:41:32,595] Trial 42 finished with value: 0.038484871795970155 and parameters: {'criterion': 'log_loss', 'splitter': 'random', 'max_depth': 36, 'min_samples_split': 16, 'min_samples_leaf': 11, 'min_weight_fraction_leaf': 0.493524528236974, 'max_features': 'sqrt', 'max_leaf_nodes': 29, 'min_impurity_decrease': 0.00949675017649253, 'class_weight': None, 'ccp_alpha': 0.01194966737690777, 'imputer_strategy_num': 'median', 'imputer_strategy_cat': 'most_frequent', 'scaler': 'standard', 'min_frequency': 0.881941219291248}. Best is trial 0 with value: 0.038484871795970155.\n",
      "[I 2025-05-14 16:41:33,392] Trial 43 finished with value: 0.038484871795970155 and parameters: {'criterion': 'log_loss', 'splitter': 'random', 'max_depth': 35, 'min_samples_split': 11, 'min_samples_leaf': 14, 'min_weight_fraction_leaf': 0.44147743508587023, 'max_features': 'sqrt', 'max_leaf_nodes': 36, 'min_impurity_decrease': 0.007185658167633905, 'class_weight': None, 'ccp_alpha': 0.008556508815097546, 'imputer_strategy_num': 'median', 'imputer_strategy_cat': 'most_frequent', 'scaler': 'standard', 'min_frequency': 0.8398847875299852}. Best is trial 0 with value: 0.038484871795970155.\n",
      "[I 2025-05-14 16:41:34,222] Trial 44 finished with value: 0.038484871795970155 and parameters: {'criterion': 'log_loss', 'splitter': 'random', 'max_depth': 24, 'min_samples_split': 18, 'min_samples_leaf': 10, 'min_weight_fraction_leaf': 0.19146360517094005, 'max_features': 'log2', 'max_leaf_nodes': 16, 'min_impurity_decrease': 0.014534152274603602, 'class_weight': None, 'ccp_alpha': 0.0027228350586818648, 'imputer_strategy_num': 'median', 'imputer_strategy_cat': 'most_frequent', 'scaler': 'robust', 'min_frequency': 0.9934164684133531}. Best is trial 0 with value: 0.038484871795970155.\n",
      "[I 2025-05-14 16:41:34,880] Trial 45 finished with value: 0.038484871795970155 and parameters: {'criterion': 'log_loss', 'splitter': 'best', 'max_depth': 19, 'min_samples_split': 14, 'min_samples_leaf': 1, 'min_weight_fraction_leaf': 0.30892316320233165, 'max_features': 'sqrt', 'max_leaf_nodes': 19, 'min_impurity_decrease': 0.004263841659554269, 'class_weight': None, 'ccp_alpha': 0.01890064213110824, 'imputer_strategy_num': 'mean', 'imputer_strategy_cat': 'constant', 'scaler': 'standard', 'min_frequency': 0.6560348348105608}. Best is trial 0 with value: 0.038484871795970155.\n",
      "[I 2025-05-14 16:41:35,704] Trial 46 finished with value: 0.038484871795970155 and parameters: {'criterion': 'log_loss', 'splitter': 'random', 'max_depth': 49, 'min_samples_split': 16, 'min_samples_leaf': 8, 'min_weight_fraction_leaf': 0.41728551856566165, 'max_features': 'log2', 'max_leaf_nodes': 47, 'min_impurity_decrease': 0.0176640720793893, 'class_weight': 'balanced', 'ccp_alpha': 0.00886949206248104, 'imputer_strategy_num': 'median', 'imputer_strategy_cat': 'constant', 'scaler': 'robust', 'min_frequency': 0.8255532331401353}. Best is trial 0 with value: 0.038484871795970155.\n",
      "[I 2025-05-14 16:41:36,403] Trial 47 finished with value: 0.038484871795970155 and parameters: {'criterion': 'entropy', 'splitter': 'best', 'max_depth': 20, 'min_samples_split': 10, 'min_samples_leaf': 5, 'min_weight_fraction_leaf': 0.15443580169093155, 'max_features': 'sqrt', 'max_leaf_nodes': 45, 'min_impurity_decrease': 0.0016529394305298001, 'class_weight': 'balanced', 'ccp_alpha': 0.014987634576795833, 'imputer_strategy_num': 'mean', 'imputer_strategy_cat': 'constant', 'scaler': 'standard', 'min_frequency': 0.5578678043178522}. Best is trial 0 with value: 0.038484871795970155.\n",
      "[I 2025-05-14 16:41:37,136] Trial 48 finished with value: 0.038484871795970155 and parameters: {'criterion': 'gini', 'splitter': 'random', 'max_depth': 3, 'min_samples_split': 12, 'min_samples_leaf': 2, 'min_weight_fraction_leaf': 0.05840116513432779, 'max_features': None, 'max_leaf_nodes': 44, 'min_impurity_decrease': 0.009287528178314375, 'class_weight': 'balanced', 'ccp_alpha': 0.03198464565473386, 'imputer_strategy_num': 'mean', 'imputer_strategy_cat': 'most_frequent', 'scaler': 'minmax', 'min_frequency': 0.9377620409365971}. Best is trial 0 with value: 0.038484871795970155.\n",
      "[I 2025-05-14 16:41:37,948] Trial 49 finished with value: 0.038484871795970155 and parameters: {'criterion': 'log_loss', 'splitter': 'best', 'max_depth': None, 'min_samples_split': 17, 'min_samples_leaf': 13, 'min_weight_fraction_leaf': 0.10607456632658374, 'max_features': 'log2', 'max_leaf_nodes': 22, 'min_impurity_decrease': 0.022815704469113532, 'class_weight': None, 'ccp_alpha': 0.021213358507305997, 'imputer_strategy_num': 'median', 'imputer_strategy_cat': 'constant', 'scaler': 'robust', 'min_frequency': 0.7832051678133777}. Best is trial 0 with value: 0.038484871795970155.\n",
      "[I 2025-05-14 16:41:38,619] Trial 50 finished with value: 0.038484871795970155 and parameters: {'criterion': 'entropy', 'splitter': 'random', 'max_depth': 37, 'min_samples_split': 14, 'min_samples_leaf': 15, 'min_weight_fraction_leaf': 0.3518435238500981, 'max_features': 'sqrt', 'max_leaf_nodes': 15, 'min_impurity_decrease': 1.013788666893306e-05, 'class_weight': 'balanced', 'ccp_alpha': 0.02315037635211371, 'imputer_strategy_num': 'mean', 'imputer_strategy_cat': 'constant', 'scaler': 'standard', 'min_frequency': 0.3861441015646918}. Best is trial 0 with value: 0.038484871795970155.\n",
      "[I 2025-05-14 16:41:39,416] Trial 51 finished with value: 0.038484871795970155 and parameters: {'criterion': 'gini', 'splitter': 'best', 'max_depth': 42, 'min_samples_split': 4, 'min_samples_leaf': 17, 'min_weight_fraction_leaf': 0.12571551810663525, 'max_features': 'log2', 'max_leaf_nodes': 30, 'min_impurity_decrease': 0.011874074734281464, 'class_weight': 'balanced', 'ccp_alpha': 0.0009355775644391464, 'imputer_strategy_num': 'median', 'imputer_strategy_cat': 'most_frequent', 'scaler': 'minmax', 'min_frequency': 0.7362177971274394}. Best is trial 0 with value: 0.038484871795970155.\n",
      "[I 2025-05-14 16:41:40,214] Trial 52 finished with value: 0.038484871795970155 and parameters: {'criterion': 'gini', 'splitter': 'best', 'max_depth': 7, 'min_samples_split': 20, 'min_samples_leaf': 18, 'min_weight_fraction_leaf': 0.010348497879007025, 'max_features': 'log2', 'max_leaf_nodes': 21, 'min_impurity_decrease': 0.006540678715958519, 'class_weight': 'balanced', 'ccp_alpha': 0.0052665717954644906, 'imputer_strategy_num': 'median', 'imputer_strategy_cat': 'most_frequent', 'scaler': 'minmax', 'min_frequency': 0.8642247970269255}. Best is trial 0 with value: 0.038484871795970155.\n",
      "[I 2025-05-14 16:41:41,063] Trial 53 finished with value: 0.038484871795970155 and parameters: {'criterion': 'gini', 'splitter': 'best', 'max_depth': 11, 'min_samples_split': 3, 'min_samples_leaf': 16, 'min_weight_fraction_leaf': 0.052252816245090566, 'max_features': 'log2', 'max_leaf_nodes': 33, 'min_impurity_decrease': 0.0028606504206052236, 'class_weight': 'balanced', 'ccp_alpha': 0.010098183780175038, 'imputer_strategy_num': 'median', 'imputer_strategy_cat': 'most_frequent', 'scaler': 'minmax', 'min_frequency': 0.950028384919545}. Best is trial 0 with value: 0.038484871795970155.\n",
      "[I 2025-05-14 16:41:41,796] Trial 54 finished with value: 0.038484871795970155 and parameters: {'criterion': 'gini', 'splitter': 'best', 'max_depth': 21, 'min_samples_split': 3, 'min_samples_leaf': 2, 'min_weight_fraction_leaf': 0.4531957994206052, 'max_features': 'log2', 'max_leaf_nodes': 12, 'min_impurity_decrease': 0.00997068101470202, 'class_weight': 'balanced', 'ccp_alpha': 0.006096827607529144, 'imputer_strategy_num': 'mean', 'imputer_strategy_cat': 'most_frequent', 'scaler': 'minmax', 'min_frequency': 0.697916935903845}. Best is trial 0 with value: 0.038484871795970155.\n",
      "[I 2025-05-14 16:41:42,563] Trial 55 finished with value: 0.038484871795970155 and parameters: {'criterion': 'entropy', 'splitter': 'best', 'max_depth': 6, 'min_samples_split': 6, 'min_samples_leaf': 20, 'min_weight_fraction_leaf': 0.09199186109006699, 'max_features': 'sqrt', 'max_leaf_nodes': 9, 'min_impurity_decrease': 0.03462271350667097, 'class_weight': 'balanced', 'ccp_alpha': 0.027821153943280545, 'imputer_strategy_num': 'median', 'imputer_strategy_cat': 'constant', 'scaler': 'minmax', 'min_frequency': 0.24675548027007838}. Best is trial 0 with value: 0.038484871795970155.\n",
      "[I 2025-05-14 16:41:43,276] Trial 56 finished with value: 0.038484871795970155 and parameters: {'criterion': 'log_loss', 'splitter': 'best', 'max_depth': 12, 'min_samples_split': 19, 'min_samples_leaf': 4, 'min_weight_fraction_leaf': 0.03634395298059803, 'max_features': 'log2', 'max_leaf_nodes': 6, 'min_impurity_decrease': 0.02567879536902213, 'class_weight': 'balanced', 'ccp_alpha': 0.0030241514205391444, 'imputer_strategy_num': 'mean', 'imputer_strategy_cat': 'constant', 'scaler': 'robust', 'min_frequency': 0.9132394847931223}. Best is trial 0 with value: 0.038484871795970155.\n",
      "[I 2025-05-14 16:41:44,020] Trial 57 finished with value: 0.038484871795970155 and parameters: {'criterion': 'entropy', 'splitter': 'best', 'max_depth': 27, 'min_samples_split': 9, 'min_samples_leaf': 14, 'min_weight_fraction_leaf': 0.06695214841228952, 'max_features': 'sqrt', 'max_leaf_nodes': 39, 'min_impurity_decrease': 0.013759344902715402, 'class_weight': 'balanced', 'ccp_alpha': 0.013164450421080973, 'imputer_strategy_num': 'mean', 'imputer_strategy_cat': 'most_frequent', 'scaler': 'standard', 'min_frequency': 0.5501333128503708}. Best is trial 0 with value: 0.038484871795970155.\n",
      "[I 2025-05-14 16:41:44,806] Trial 58 finished with value: 0.038484871795970155 and parameters: {'criterion': 'gini', 'splitter': 'random', 'max_depth': 41, 'min_samples_split': 18, 'min_samples_leaf': 6, 'min_weight_fraction_leaf': 0.23365934116452491, 'max_features': None, 'max_leaf_nodes': 49, 'min_impurity_decrease': 0.030606026053138117, 'class_weight': 'balanced', 'ccp_alpha': 0.016224261708928666, 'imputer_strategy_num': 'median', 'imputer_strategy_cat': 'constant', 'scaler': 'minmax', 'min_frequency': 0.35403032094414694}. Best is trial 0 with value: 0.038484871795970155.\n",
      "[I 2025-05-14 16:41:45,538] Trial 59 finished with value: 0.038484871795970155 and parameters: {'criterion': 'entropy', 'splitter': 'best', 'max_depth': 47, 'min_samples_split': 5, 'min_samples_leaf': 11, 'min_weight_fraction_leaf': 0.12791657014222418, 'max_features': 'sqrt', 'max_leaf_nodes': 29, 'min_impurity_decrease': 0.02916038899248977, 'class_weight': 'balanced', 'ccp_alpha': 0.006926764652686126, 'imputer_strategy_num': 'mean', 'imputer_strategy_cat': 'constant', 'scaler': 'robust', 'min_frequency': 0.29056525417039414}. Best is trial 0 with value: 0.038484871795970155.\n",
      "[I 2025-05-14 16:41:46,256] Trial 60 finished with value: 0.038484871795970155 and parameters: {'criterion': 'log_loss', 'splitter': 'random', 'max_depth': 32, 'min_samples_split': 3, 'min_samples_leaf': 7, 'min_weight_fraction_leaf': 0.26973153140151623, 'max_features': 'log2', 'max_leaf_nodes': 50, 'min_impurity_decrease': 0.005598377475871594, 'class_weight': None, 'ccp_alpha': 0.03431855428375872, 'imputer_strategy_num': 'mean', 'imputer_strategy_cat': 'constant', 'scaler': 'standard', 'min_frequency': 0.2065703335647707}. Best is trial 0 with value: 0.038484871795970155.\n",
      "[I 2025-05-14 16:41:46,954] Trial 61 finished with value: 0.038484871795970155 and parameters: {'criterion': 'log_loss', 'splitter': 'random', 'max_depth': 23, 'min_samples_split': 13, 'min_samples_leaf': 3, 'min_weight_fraction_leaf': 0.4035786104178971, 'max_features': None, 'max_leaf_nodes': 26, 'min_impurity_decrease': 0.02978340276897357, 'class_weight': None, 'ccp_alpha': 0.011563666271637381, 'imputer_strategy_num': 'mean', 'imputer_strategy_cat': 'most_frequent', 'scaler': 'minmax', 'min_frequency': 0.8086378895159839}. Best is trial 0 with value: 0.038484871795970155.\n",
      "[I 2025-05-14 16:41:47,651] Trial 62 finished with value: 0.038484871795970155 and parameters: {'criterion': 'log_loss', 'splitter': 'random', 'max_depth': 17, 'min_samples_split': 12, 'min_samples_leaf': 1, 'min_weight_fraction_leaf': 0.471677876967763, 'max_features': None, 'max_leaf_nodes': 42, 'min_impurity_decrease': 0.03275782750572631, 'class_weight': None, 'ccp_alpha': 0.0024014294596317667, 'imputer_strategy_num': 'mean', 'imputer_strategy_cat': 'most_frequent', 'scaler': 'minmax', 'min_frequency': 0.6506188827690359}. Best is trial 0 with value: 0.038484871795970155.\n",
      "[I 2025-05-14 16:41:48,365] Trial 63 finished with value: 0.038484871795970155 and parameters: {'criterion': 'log_loss', 'splitter': 'random', 'max_depth': 22, 'min_samples_split': 16, 'min_samples_leaf': 2, 'min_weight_fraction_leaf': 0.1868117823852779, 'max_features': None, 'max_leaf_nodes': 46, 'min_impurity_decrease': 0.023377987775876196, 'class_weight': None, 'ccp_alpha': 0.009654116763385255, 'imputer_strategy_num': 'mean', 'imputer_strategy_cat': 'most_frequent', 'scaler': 'minmax', 'min_frequency': 0.9653475092774942}. Best is trial 0 with value: 0.038484871795970155.\n",
      "[I 2025-05-14 16:41:49,078] Trial 64 finished with value: 0.038484871795970155 and parameters: {'criterion': 'entropy', 'splitter': 'random', 'max_depth': 47, 'min_samples_split': 15, 'min_samples_leaf': 3, 'min_weight_fraction_leaf': 0.3425477661282057, 'max_features': None, 'max_leaf_nodes': 30, 'min_impurity_decrease': 0.026052331960446675, 'class_weight': None, 'ccp_alpha': 0.031201342333312346, 'imputer_strategy_num': 'mean', 'imputer_strategy_cat': 'most_frequent', 'scaler': 'minmax', 'min_frequency': 0.7738027436904674}. Best is trial 0 with value: 0.038484871795970155.\n",
      "[I 2025-05-14 16:41:49,932] Trial 65 finished with value: 0.038484871795970155 and parameters: {'criterion': 'log_loss', 'splitter': 'best', 'max_depth': 10, 'min_samples_split': 13, 'min_samples_leaf': 1, 'min_weight_fraction_leaf': 0.30204936142289973, 'max_features': None, 'max_leaf_nodes': 49, 'min_impurity_decrease': 0.007954566707922004, 'class_weight': 'balanced', 'ccp_alpha': 0.019919832057664826, 'imputer_strategy_num': 'median', 'imputer_strategy_cat': 'most_frequent', 'scaler': 'standard', 'min_frequency': 0.8437353578270933}. Best is trial 0 with value: 0.038484871795970155.\n",
      "[I 2025-05-14 16:41:50,613] Trial 66 finished with value: 0.038484871795970155 and parameters: {'criterion': 'entropy', 'splitter': 'random', 'max_depth': 4, 'min_samples_split': 10, 'min_samples_leaf': 12, 'min_weight_fraction_leaf': 0.3809226956107654, 'max_features': 'sqrt', 'max_leaf_nodes': 11, 'min_impurity_decrease': 0.02033622237864642, 'class_weight': 'balanced', 'ccp_alpha': 0.03715330542764726, 'imputer_strategy_num': 'mean', 'imputer_strategy_cat': 'constant', 'scaler': 'minmax', 'min_frequency': 0.9039841980002897}. Best is trial 0 with value: 0.038484871795970155.\n",
      "[I 2025-05-14 16:41:51,399] Trial 67 finished with value: 0.038484871795970155 and parameters: {'criterion': 'log_loss', 'splitter': 'random', 'max_depth': 42, 'min_samples_split': 2, 'min_samples_leaf': 5, 'min_weight_fraction_leaf': 0.16410305476810058, 'max_features': None, 'max_leaf_nodes': 10, 'min_impurity_decrease': 0.03257982281559016, 'class_weight': 'balanced', 'ccp_alpha': 0.01468879163452067, 'imputer_strategy_num': 'mean', 'imputer_strategy_cat': 'constant', 'scaler': 'robust', 'min_frequency': 0.13087637289693588}. Best is trial 0 with value: 0.038484871795970155.\n",
      "[I 2025-05-14 16:41:52,197] Trial 68 finished with value: 0.038484871795970155 and parameters: {'criterion': 'entropy', 'splitter': 'best', 'max_depth': 35, 'min_samples_split': 11, 'min_samples_leaf': 8, 'min_weight_fraction_leaf': 0.09165370780562741, 'max_features': 'sqrt', 'max_leaf_nodes': 7, 'min_impurity_decrease': 0.03553724363117654, 'class_weight': None, 'ccp_alpha': 0.03907658356662897, 'imputer_strategy_num': 'median', 'imputer_strategy_cat': 'most_frequent', 'scaler': 'standard', 'min_frequency': 0.7218926445473736}. Best is trial 0 with value: 0.038484871795970155.\n",
      "[I 2025-05-14 16:41:52,878] Trial 69 finished with value: 0.038484871795970155 and parameters: {'criterion': 'gini', 'splitter': 'random', 'max_depth': 14, 'min_samples_split': 9, 'min_samples_leaf': 9, 'min_weight_fraction_leaf': 0.43580709063684586, 'max_features': 'log2', 'max_leaf_nodes': 48, 'min_impurity_decrease': 0.02713307961309679, 'class_weight': 'balanced', 'ccp_alpha': 0.02710007411057326, 'imputer_strategy_num': 'mean', 'imputer_strategy_cat': 'constant', 'scaler': 'minmax', 'min_frequency': 0.8607229020022057}. Best is trial 0 with value: 0.038484871795970155.\n",
      "[I 2025-05-14 16:41:53,726] Trial 70 finished with value: 0.038484871795970155 and parameters: {'criterion': 'entropy', 'splitter': 'best', 'max_depth': 34, 'min_samples_split': 14, 'min_samples_leaf': 19, 'min_weight_fraction_leaf': 0.28480828365515365, 'max_features': 'sqrt', 'max_leaf_nodes': 13, 'min_impurity_decrease': 0.012768367386828246, 'class_weight': 'balanced', 'ccp_alpha': 0.02486925986907974, 'imputer_strategy_num': 'median', 'imputer_strategy_cat': 'most_frequent', 'scaler': 'standard', 'min_frequency': 0.4826231314270914}. Best is trial 0 with value: 0.038484871795970155.\n",
      "[I 2025-05-14 16:41:54,499] Trial 71 finished with value: 0.038484871795970155 and parameters: {'criterion': 'entropy', 'splitter': 'random', 'max_depth': 16, 'min_samples_split': 5, 'min_samples_leaf': 10, 'min_weight_fraction_leaf': 0.3706434357752516, 'max_features': 'sqrt', 'max_leaf_nodes': 43, 'min_impurity_decrease': 0.03219325651937515, 'class_weight': 'balanced', 'ccp_alpha': 0.012874113178101427, 'imputer_strategy_num': 'mean', 'imputer_strategy_cat': 'constant', 'scaler': 'minmax', 'min_frequency': 0.19020024335931804}. Best is trial 0 with value: 0.038484871795970155.\n",
      "[I 2025-05-14 16:41:55,188] Trial 72 finished with value: 0.038484871795970155 and parameters: {'criterion': 'entropy', 'splitter': 'random', 'max_depth': 4, 'min_samples_split': 7, 'min_samples_leaf': 19, 'min_weight_fraction_leaf': 0.4121623246780833, 'max_features': 'sqrt', 'max_leaf_nodes': 40, 'min_impurity_decrease': 0.04301098439114322, 'class_weight': 'balanced', 'ccp_alpha': 0.017263636353578422, 'imputer_strategy_num': 'mean', 'imputer_strategy_cat': 'constant', 'scaler': 'minmax', 'min_frequency': 0.04277974639073476}. Best is trial 0 with value: 0.038484871795970155.\n",
      "[I 2025-05-14 16:41:55,899] Trial 73 finished with value: 0.038484871795970155 and parameters: {'criterion': 'entropy', 'splitter': 'random', 'max_depth': 8, 'min_samples_split': 17, 'min_samples_leaf': 18, 'min_weight_fraction_leaf': 0.31874320810457996, 'max_features': 'sqrt', 'max_leaf_nodes': 20, 'min_impurity_decrease': 0.037205829040921096, 'class_weight': 'balanced', 'ccp_alpha': 0.01051088956355368, 'imputer_strategy_num': 'mean', 'imputer_strategy_cat': 'constant', 'scaler': 'minmax', 'min_frequency': 0.11011822345483939}. Best is trial 0 with value: 0.038484871795970155.\n",
      "[I 2025-05-14 16:41:56,577] Trial 74 finished with value: 0.038484871795970155 and parameters: {'criterion': 'entropy', 'splitter': 'random', 'max_depth': 18, 'min_samples_split': 6, 'min_samples_leaf': 19, 'min_weight_fraction_leaf': 0.39324137884051213, 'max_features': 'sqrt', 'max_leaf_nodes': 11, 'min_impurity_decrease': 0.037777995235113604, 'class_weight': 'balanced', 'ccp_alpha': 0.008785954645858851, 'imputer_strategy_num': 'mean', 'imputer_strategy_cat': 'constant', 'scaler': 'minmax', 'min_frequency': 0.0722589558470331}. Best is trial 0 with value: 0.038484871795970155.\n",
      "[I 2025-05-14 16:41:57,263] Trial 75 finished with value: 0.038484871795970155 and parameters: {'criterion': 'log_loss', 'splitter': 'random', 'max_depth': 30, 'min_samples_split': 8, 'min_samples_leaf': 13, 'min_weight_fraction_leaf': 0.25391693528444476, 'max_features': None, 'max_leaf_nodes': 3, 'min_impurity_decrease': 0.015661782943438063, 'class_weight': None, 'ccp_alpha': 0.04247864376665837, 'imputer_strategy_num': 'mean', 'imputer_strategy_cat': 'constant', 'scaler': 'standard', 'min_frequency': 0.05791318199291514}. Best is trial 0 with value: 0.038484871795970155.\n",
      "[I 2025-05-14 16:41:58,107] Trial 76 finished with value: 0.038484871795970155 and parameters: {'criterion': 'entropy', 'splitter': 'random', 'max_depth': 7, 'min_samples_split': 20, 'min_samples_leaf': 11, 'min_weight_fraction_leaf': 0.21750229022293346, 'max_features': 'sqrt', 'max_leaf_nodes': 31, 'min_impurity_decrease': 0.001979773994981085, 'class_weight': 'balanced', 'ccp_alpha': 0.006787681301189964, 'imputer_strategy_num': 'median', 'imputer_strategy_cat': 'constant', 'scaler': 'robust', 'min_frequency': 0.41542404032539015}. Best is trial 0 with value: 0.038484871795970155.\n",
      "[I 2025-05-14 16:41:58,783] Trial 77 finished with value: 0.038484871795970155 and parameters: {'criterion': 'log_loss', 'splitter': 'best', 'max_depth': 11, 'min_samples_split': 4, 'min_samples_leaf': 16, 'min_weight_fraction_leaf': 0.4294401316019144, 'max_features': 'log2', 'max_leaf_nodes': 38, 'min_impurity_decrease': 0.005283423622245192, 'class_weight': 'balanced', 'ccp_alpha': 0.004144135149890181, 'imputer_strategy_num': 'mean', 'imputer_strategy_cat': 'constant', 'scaler': 'minmax', 'min_frequency': 0.008135115649670732}. Best is trial 0 with value: 0.038484871795970155.\n",
      "[I 2025-05-14 16:41:59,583] Trial 78 finished with value: 0.038484871795970155 and parameters: {'criterion': 'entropy', 'splitter': 'random', 'max_depth': 27, 'min_samples_split': 12, 'min_samples_leaf': 2, 'min_weight_fraction_leaf': 0.46156283667620507, 'max_features': 'sqrt', 'max_leaf_nodes': 14, 'min_impurity_decrease': 0.04881035390533968, 'class_weight': None, 'ccp_alpha': 0.028547673221753382, 'imputer_strategy_num': 'median', 'imputer_strategy_cat': 'most_frequent', 'scaler': 'standard', 'min_frequency': 0.5902766831196149}. Best is trial 0 with value: 0.038484871795970155.\n",
      "[I 2025-05-14 16:42:00,313] Trial 79 finished with value: 0.038484871795970155 and parameters: {'criterion': 'log_loss', 'splitter': 'random', 'max_depth': 2, 'min_samples_split': 19, 'min_samples_leaf': 3, 'min_weight_fraction_leaf': 0.003101593572064465, 'max_features': None, 'max_leaf_nodes': 37, 'min_impurity_decrease': 0.01022454368738256, 'class_weight': 'balanced', 'ccp_alpha': 4.5257496618064316e-05, 'imputer_strategy_num': 'mean', 'imputer_strategy_cat': 'constant', 'scaler': 'minmax', 'min_frequency': 0.14801621680375257}. Best is trial 0 with value: 0.038484871795970155.\n",
      "[I 2025-05-14 16:42:01,092] Trial 80 finished with value: 0.038484871795970155 and parameters: {'criterion': 'gini', 'splitter': 'best', 'max_depth': 15, 'min_samples_split': 11, 'min_samples_leaf': 4, 'min_weight_fraction_leaf': 0.2054562873841308, 'max_features': 'log2', 'max_leaf_nodes': 9, 'min_impurity_decrease': 0.03352048433058852, 'class_weight': 'balanced', 'ccp_alpha': 0.014071590771634924, 'imputer_strategy_num': 'median', 'imputer_strategy_cat': 'constant', 'scaler': 'standard', 'min_frequency': 0.7996473438675974}. Best is trial 0 with value: 0.038484871795970155.\n",
      "[I 2025-05-14 16:42:01,784] Trial 81 finished with value: 0.038484871795970155 and parameters: {'criterion': 'gini', 'splitter': 'best', 'max_depth': 23, 'min_samples_split': 7, 'min_samples_leaf': 12, 'min_weight_fraction_leaf': 0.38612987131544246, 'max_features': 'log2', 'max_leaf_nodes': 10, 'min_impurity_decrease': 0.008689936176260064, 'class_weight': 'balanced', 'ccp_alpha': 0.04918759934126907, 'imputer_strategy_num': 'mean', 'imputer_strategy_cat': 'most_frequent', 'scaler': 'minmax', 'min_frequency': 0.3458813010730043}. Best is trial 0 with value: 0.038484871795970155.\n",
      "[I 2025-05-14 16:42:02,492] Trial 82 finished with value: 0.038484871795970155 and parameters: {'criterion': 'gini', 'splitter': 'best', 'max_depth': 13, 'min_samples_split': 5, 'min_samples_leaf': 10, 'min_weight_fraction_leaf': 0.3401290897878148, 'max_features': 'log2', 'max_leaf_nodes': 25, 'min_impurity_decrease': 0.006882057369241099, 'class_weight': 'balanced', 'ccp_alpha': 0.04489228353468031, 'imputer_strategy_num': 'mean', 'imputer_strategy_cat': 'most_frequent', 'scaler': 'minmax', 'min_frequency': 0.3122800073012947}. Best is trial 0 with value: 0.038484871795970155.\n",
      "[I 2025-05-14 16:42:03,206] Trial 83 finished with value: 0.038484871795970155 and parameters: {'criterion': 'gini', 'splitter': 'best', 'max_depth': 29, 'min_samples_split': 8, 'min_samples_leaf': 11, 'min_weight_fraction_leaf': 0.3719130669616111, 'max_features': 'log2', 'max_leaf_nodes': 35, 'min_impurity_decrease': 0.010975070455782571, 'class_weight': 'balanced', 'ccp_alpha': 0.00793976869467262, 'imputer_strategy_num': 'mean', 'imputer_strategy_cat': 'most_frequent', 'scaler': 'minmax', 'min_frequency': 0.4590807519573372}. Best is trial 0 with value: 0.038484871795970155.\n",
      "[I 2025-05-14 16:42:03,959] Trial 84 finished with value: 0.038484871795970155 and parameters: {'criterion': 'gini', 'splitter': 'best', 'max_depth': 26, 'min_samples_split': 18, 'min_samples_leaf': 14, 'min_weight_fraction_leaf': 0.39728383904272224, 'max_features': 'log2', 'max_leaf_nodes': 23, 'min_impurity_decrease': 0.0036326859917631925, 'class_weight': 'balanced', 'ccp_alpha': 0.03344380782249525, 'imputer_strategy_num': 'mean', 'imputer_strategy_cat': 'most_frequent', 'scaler': 'robust', 'min_frequency': 0.5235269943498883}. Best is trial 0 with value: 0.038484871795970155.\n",
      "[I 2025-05-14 16:42:04,687] Trial 85 finished with value: 0.038484871795970155 and parameters: {'criterion': 'entropy', 'splitter': 'best', 'max_depth': 50, 'min_samples_split': 6, 'min_samples_leaf': 13, 'min_weight_fraction_leaf': 0.3582164458550947, 'max_features': 'sqrt', 'max_leaf_nodes': 34, 'min_impurity_decrease': 0.029973533162489692, 'class_weight': 'balanced', 'ccp_alpha': 0.011803670315105382, 'imputer_strategy_num': 'mean', 'imputer_strategy_cat': 'most_frequent', 'scaler': 'minmax', 'min_frequency': 0.23643375128173016}. Best is trial 0 with value: 0.038484871795970155.\n",
      "[I 2025-05-14 16:42:05,363] Trial 86 finished with value: 0.038484871795970155 and parameters: {'criterion': 'log_loss', 'splitter': 'random', 'max_depth': 25, 'min_samples_split': 3, 'min_samples_leaf': 9, 'min_weight_fraction_leaf': 0.026581324115605154, 'max_features': 'log2', 'max_leaf_nodes': 46, 'min_impurity_decrease': 0.028268099421507344, 'class_weight': None, 'ccp_alpha': 0.021595895625847898, 'imputer_strategy_num': 'mean', 'imputer_strategy_cat': 'most_frequent', 'scaler': 'minmax', 'min_frequency': 0.3818612388085244}. Best is trial 0 with value: 0.038484871795970155.\n",
      "[I 2025-05-14 16:42:06,138] Trial 87 finished with value: 0.038484871795970155 and parameters: {'criterion': 'gini', 'splitter': 'best', 'max_depth': 38, 'min_samples_split': 14, 'min_samples_leaf': 12, 'min_weight_fraction_leaf': 0.44970626466119923, 'max_features': 'sqrt', 'max_leaf_nodes': 41, 'min_impurity_decrease': 0.036201345453265005, 'class_weight': 'balanced', 'ccp_alpha': 0.018801633923400313, 'imputer_strategy_num': 'median', 'imputer_strategy_cat': 'constant', 'scaler': 'standard', 'min_frequency': 0.9011082019197006}. Best is trial 0 with value: 0.038484871795970155.\n",
      "[I 2025-05-14 16:42:06,852] Trial 88 finished with value: 0.038484871795970155 and parameters: {'criterion': 'entropy', 'splitter': 'random', 'max_depth': 40, 'min_samples_split': 10, 'min_samples_leaf': 18, 'min_weight_fraction_leaf': 0.4236213004281944, 'max_features': None, 'max_leaf_nodes': 17, 'min_impurity_decrease': 0.03910696641600857, 'class_weight': 'balanced', 'ccp_alpha': 0.015915647567434913, 'imputer_strategy_num': 'mean', 'imputer_strategy_cat': 'constant', 'scaler': 'minmax', 'min_frequency': 0.9983985500599968}. Best is trial 0 with value: 0.038484871795970155.\n",
      "[I 2025-05-14 16:42:07,689] Trial 89 finished with value: 0.038484871795970155 and parameters: {'criterion': 'log_loss', 'splitter': 'best', 'max_depth': 39, 'min_samples_split': 13, 'min_samples_leaf': 11, 'min_weight_fraction_leaf': 0.1372794700999302, 'max_features': 'log2', 'max_leaf_nodes': 27, 'min_impurity_decrease': 0.008267221666802986, 'class_weight': None, 'ccp_alpha': 0.03582068678945144, 'imputer_strategy_num': 'median', 'imputer_strategy_cat': 'most_frequent', 'scaler': 'robust', 'min_frequency': 0.7493685499606778}. Best is trial 0 with value: 0.038484871795970155.\n",
      "[I 2025-05-14 16:42:08,359] Trial 90 finished with value: 0.038484871795970155 and parameters: {'criterion': 'entropy', 'splitter': 'random', 'max_depth': 5, 'min_samples_split': 7, 'min_samples_leaf': 1, 'min_weight_fraction_leaf': 0.24015057099719309, 'max_features': 'sqrt', 'max_leaf_nodes': 29, 'min_impurity_decrease': 0.006531876781960868, 'class_weight': 'balanced', 'ccp_alpha': 0.03037807883735127, 'imputer_strategy_num': 'mean', 'imputer_strategy_cat': 'constant', 'scaler': 'standard', 'min_frequency': 0.25208995619301205}. Best is trial 0 with value: 0.038484871795970155.\n",
      "[I 2025-05-14 16:42:09,171] Trial 91 finished with value: 0.038484871795970155 and parameters: {'criterion': 'gini', 'splitter': 'best', 'max_depth': 45, 'min_samples_split': 8, 'min_samples_leaf': 15, 'min_weight_fraction_leaf': 0.11627457996653107, 'max_features': 'sqrt', 'max_leaf_nodes': 42, 'min_impurity_decrease': 0.034032218186012854, 'class_weight': None, 'ccp_alpha': 0.010206931778472969, 'imputer_strategy_num': 'median', 'imputer_strategy_cat': 'constant', 'scaler': 'robust', 'min_frequency': 0.39297041288413204}. Best is trial 0 with value: 0.038484871795970155.\n",
      "[I 2025-05-14 16:42:10,023] Trial 92 finished with value: 0.038484871795970155 and parameters: {'criterion': 'gini', 'splitter': 'best', 'max_depth': 10, 'min_samples_split': 9, 'min_samples_leaf': 20, 'min_weight_fraction_leaf': 0.0836611810304792, 'max_features': 'sqrt', 'max_leaf_nodes': 32, 'min_impurity_decrease': 0.03141207589243923, 'class_weight': None, 'ccp_alpha': 0.005449082223903311, 'imputer_strategy_num': 'median', 'imputer_strategy_cat': 'constant', 'scaler': 'robust', 'min_frequency': 0.41999478514434374}. Best is trial 0 with value: 0.038484871795970155.\n",
      "[I 2025-05-14 16:42:10,844] Trial 93 finished with value: 0.038484871795970155 and parameters: {'criterion': 'gini', 'splitter': 'best', 'max_depth': 17, 'min_samples_split': 7, 'min_samples_leaf': 17, 'min_weight_fraction_leaf': 0.06656989030752565, 'max_features': 'sqrt', 'max_leaf_nodes': 2, 'min_impurity_decrease': 0.0046834994257403785, 'class_weight': None, 'ccp_alpha': 0.0066447940228550805, 'imputer_strategy_num': 'median', 'imputer_strategy_cat': 'constant', 'scaler': 'robust', 'min_frequency': 0.45741962003763004}. Best is trial 0 with value: 0.038484871795970155.\n",
      "[I 2025-05-14 16:42:11,658] Trial 94 finished with value: 0.038484871795970155 and parameters: {'criterion': 'gini', 'splitter': 'best', 'max_depth': 47, 'min_samples_split': 6, 'min_samples_leaf': 16, 'min_weight_fraction_leaf': 0.03582983949627707, 'max_features': 'sqrt', 'max_leaf_nodes': 24, 'min_impurity_decrease': 0.021649962926066656, 'class_weight': None, 'ccp_alpha': 0.001745888404397667, 'imputer_strategy_num': 'median', 'imputer_strategy_cat': 'constant', 'scaler': 'robust', 'min_frequency': 0.3276618258758811}. Best is trial 0 with value: 0.038484871795970155.\n",
      "[I 2025-05-14 16:42:12,493] Trial 95 finished with value: 0.038484871795970155 and parameters: {'criterion': 'gini', 'splitter': 'best', 'max_depth': 9, 'min_samples_split': 4, 'min_samples_leaf': 12, 'min_weight_fraction_leaf': 0.40819879142605675, 'max_features': 'sqrt', 'max_leaf_nodes': 7, 'min_impurity_decrease': 0.026981553708497582, 'class_weight': None, 'ccp_alpha': 0.012382254871064856, 'imputer_strategy_num': 'median', 'imputer_strategy_cat': 'most_frequent', 'scaler': 'minmax', 'min_frequency': 0.2904384685043395}. Best is trial 0 with value: 0.038484871795970155.\n",
      "[I 2025-05-14 16:42:13,198] Trial 96 finished with value: 0.134879938049978 and parameters: {'criterion': 'log_loss', 'splitter': 'random', 'max_depth': 48, 'min_samples_split': 12, 'min_samples_leaf': 2, 'min_weight_fraction_leaf': 0.10076291776904245, 'max_features': None, 'max_leaf_nodes': 4, 'min_impurity_decrease': 0.0010825448782395067, 'class_weight': 'balanced', 'ccp_alpha': 0.004055878591377207, 'imputer_strategy_num': 'mean', 'imputer_strategy_cat': 'constant', 'scaler': 'standard', 'min_frequency': 0.9713299080369998}. Best is trial 0 with value: 0.038484871795970155.\n",
      "[I 2025-05-14 16:42:14,037] Trial 97 finished with value: 0.038484871795970155 and parameters: {'criterion': 'entropy', 'splitter': 'best', 'max_depth': 28, 'min_samples_split': 15, 'min_samples_leaf': 10, 'min_weight_fraction_leaf': 0.04595496775215782, 'max_features': 'log2', 'max_leaf_nodes': 30, 'min_impurity_decrease': 0.03500548291720186, 'class_weight': 'balanced', 'ccp_alpha': 0.00924375478341997, 'imputer_strategy_num': 'median', 'imputer_strategy_cat': 'constant', 'scaler': 'robust', 'min_frequency': 0.8462014650387505}. Best is trial 0 with value: 0.038484871795970155.\n",
      "[I 2025-05-14 16:42:14,783] Trial 98 finished with value: 0.038484871795970155 and parameters: {'criterion': 'gini', 'splitter': 'random', 'max_depth': 43, 'min_samples_split': 5, 'min_samples_leaf': 18, 'min_weight_fraction_leaf': 0.1763151874498134, 'max_features': 'sqrt', 'max_leaf_nodes': None, 'min_impurity_decrease': 0.029210690164846606, 'class_weight': None, 'ccp_alpha': 0.0386406082269047, 'imputer_strategy_num': 'mean', 'imputer_strategy_cat': 'most_frequent', 'scaler': 'minmax', 'min_frequency': 0.828526838296257}. Best is trial 0 with value: 0.038484871795970155.\n",
      "[I 2025-05-14 16:42:15,624] Trial 99 finished with value: 0.038484871795970155 and parameters: {'criterion': 'log_loss', 'splitter': 'best', 'max_depth': 44, 'min_samples_split': 11, 'min_samples_leaf': 9, 'min_weight_fraction_leaf': 0.06973807560005688, 'max_features': None, 'max_leaf_nodes': 43, 'min_impurity_decrease': 0.03630789158632902, 'class_weight': 'balanced', 'ccp_alpha': 0.04146725264160234, 'imputer_strategy_num': 'median', 'imputer_strategy_cat': 'constant', 'scaler': 'standard', 'min_frequency': 0.36103230361278366}. Best is trial 0 with value: 0.038484871795970155.\n",
      "[I 2025-05-14 16:42:16,321] Trial 100 finished with value: 0.038484871795970155 and parameters: {'criterion': 'entropy', 'splitter': 'random', 'max_depth': 46, 'min_samples_split': 20, 'min_samples_leaf': 15, 'min_weight_fraction_leaf': 0.1920290464243065, 'max_features': 'log2', 'max_leaf_nodes': 8, 'min_impurity_decrease': 0.024574003677058275, 'class_weight': 'balanced', 'ccp_alpha': 0.010893888510978143, 'imputer_strategy_num': 'mean', 'imputer_strategy_cat': 'most_frequent', 'scaler': 'minmax', 'min_frequency': 0.689202938677256}. Best is trial 0 with value: 0.038484871795970155.\n",
      "[I 2025-05-14 16:42:17,031] Trial 101 finished with value: 0.038484871795970155 and parameters: {'criterion': 'entropy', 'splitter': 'best', 'max_depth': 7, 'min_samples_split': 19, 'min_samples_leaf': 5, 'min_weight_fraction_leaf': 0.15402153522925827, 'max_features': 'log2', 'max_leaf_nodes': 9, 'min_impurity_decrease': 0.04334422300024997, 'class_weight': None, 'ccp_alpha': 0.02381023884616349, 'imputer_strategy_num': 'mean', 'imputer_strategy_cat': 'constant', 'scaler': 'robust', 'min_frequency': 0.1747225753025511}. Best is trial 0 with value: 0.038484871795970155.\n",
      "[I 2025-05-14 16:42:17,733] Trial 102 finished with value: 0.038484871795970155 and parameters: {'criterion': 'entropy', 'splitter': 'best', 'max_depth': 35, 'min_samples_split': 19, 'min_samples_leaf': 3, 'min_weight_fraction_leaf': 0.1667156026036745, 'max_features': 'log2', 'max_leaf_nodes': 36, 'min_impurity_decrease': 0.0477598869965732, 'class_weight': None, 'ccp_alpha': 0.046420357530037835, 'imputer_strategy_num': 'mean', 'imputer_strategy_cat': 'constant', 'scaler': 'robust', 'min_frequency': 0.6534125203817821}. Best is trial 0 with value: 0.038484871795970155.\n",
      "[I 2025-05-14 16:42:18,442] Trial 103 finished with value: 0.038484871795970155 and parameters: {'criterion': 'entropy', 'splitter': 'best', 'max_depth': 42, 'min_samples_split': 18, 'min_samples_leaf': 1, 'min_weight_fraction_leaf': 0.32944443053861777, 'max_features': 'log2', 'max_leaf_nodes': 5, 'min_impurity_decrease': 0.01907761572690815, 'class_weight': None, 'ccp_alpha': 0.007771135458609597, 'imputer_strategy_num': 'mean', 'imputer_strategy_cat': 'constant', 'scaler': 'robust', 'min_frequency': 0.23151846937608794}. Best is trial 0 with value: 0.038484871795970155.\n",
      "[I 2025-05-14 16:42:19,203] Trial 104 finished with value: 0.038484871795970155 and parameters: {'criterion': 'entropy', 'splitter': 'best', 'max_depth': 7, 'min_samples_split': 20, 'min_samples_leaf': 7, 'min_weight_fraction_leaf': 0.13991089977197793, 'max_features': 'log2', 'max_leaf_nodes': 18, 'min_impurity_decrease': 0.04559294762431372, 'class_weight': None, 'ccp_alpha': 0.02615668383220856, 'imputer_strategy_num': 'mean', 'imputer_strategy_cat': 'constant', 'scaler': 'robust', 'min_frequency': 0.27674802088728734}. Best is trial 0 with value: 0.038484871795970155.\n",
      "[I 2025-05-14 16:42:19,998] Trial 105 finished with value: 0.038484871795970155 and parameters: {'criterion': 'entropy', 'splitter': 'best', 'max_depth': 33, 'min_samples_split': 2, 'min_samples_leaf': 11, 'min_weight_fraction_leaf': 0.10960013092234572, 'max_features': 'sqrt', 'max_leaf_nodes': 49, 'min_impurity_decrease': 0.012559512843176425, 'class_weight': None, 'ccp_alpha': 0.04281364851738699, 'imputer_strategy_num': 'mean', 'imputer_strategy_cat': 'constant', 'scaler': 'robust', 'min_frequency': 0.21445708050839546}. Best is trial 0 with value: 0.038484871795970155.\n",
      "[I 2025-05-14 16:42:20,765] Trial 106 finished with value: 0.038484871795970155 and parameters: {'criterion': 'log_loss', 'splitter': 'random', 'max_depth': 31, 'min_samples_split': 8, 'min_samples_leaf': 13, 'min_weight_fraction_leaf': 0.08281714566402337, 'max_features': 'sqrt', 'max_leaf_nodes': 9, 'min_impurity_decrease': 0.0027261879732817847, 'class_weight': 'balanced', 'ccp_alpha': 0.013669964195083206, 'imputer_strategy_num': 'median', 'imputer_strategy_cat': 'constant', 'scaler': 'standard', 'min_frequency': 0.8776510130834756}. Best is trial 0 with value: 0.038484871795970155.\n",
      "[I 2025-05-14 16:42:21,606] Trial 107 finished with value: 0.038484871795970155 and parameters: {'criterion': 'entropy', 'splitter': 'best', 'max_depth': 49, 'min_samples_split': 17, 'min_samples_leaf': 2, 'min_weight_fraction_leaf': 0.3810500894371684, 'max_features': None, 'max_leaf_nodes': 22, 'min_impurity_decrease': 0.03117192863473922, 'class_weight': None, 'ccp_alpha': 0.04768392724214103, 'imputer_strategy_num': 'mean', 'imputer_strategy_cat': 'most_frequent', 'scaler': 'minmax', 'min_frequency': 0.09374473539902055}. Best is trial 0 with value: 0.038484871795970155.\n",
      "[I 2025-05-14 16:42:22,291] Trial 108 finished with value: 0.038484871795970155 and parameters: {'criterion': 'gini', 'splitter': 'random', 'max_depth': 36, 'min_samples_split': 20, 'min_samples_leaf': 4, 'min_weight_fraction_leaf': 0.13138375022109558, 'max_features': 'log2', 'max_leaf_nodes': 28, 'min_impurity_decrease': 0.04137862597062639, 'class_weight': 'balanced', 'ccp_alpha': 0.014759968798663134, 'imputer_strategy_num': 'mean', 'imputer_strategy_cat': 'constant', 'scaler': 'minmax', 'min_frequency': 0.3989859700990625}. Best is trial 0 with value: 0.038484871795970155.\n",
      "[I 2025-05-14 16:42:23,124] Trial 109 finished with value: 0.038484871795970155 and parameters: {'criterion': 'log_loss', 'splitter': 'best', 'max_depth': 4, 'min_samples_split': 13, 'min_samples_leaf': 19, 'min_weight_fraction_leaf': 0.2281563328877808, 'max_features': 'sqrt', 'max_leaf_nodes': 16, 'min_impurity_decrease': 0.027416533966462445, 'class_weight': 'balanced', 'ccp_alpha': 0.03664023852285809, 'imputer_strategy_num': 'median', 'imputer_strategy_cat': 'constant', 'scaler': 'standard', 'min_frequency': 0.9399817535158471}. Best is trial 0 with value: 0.038484871795970155.\n",
      "[I 2025-05-14 16:42:23,933] Trial 110 finished with value: 0.038484871795970155 and parameters: {'criterion': 'entropy', 'splitter': 'random', 'max_depth': 24, 'min_samples_split': 7, 'min_samples_leaf': 8, 'min_weight_fraction_leaf': 0.47562590768356217, 'max_features': 'log2', 'max_leaf_nodes': 19, 'min_impurity_decrease': 0.0333071156967058, 'class_weight': None, 'ccp_alpha': 0.00578798254810348, 'imputer_strategy_num': 'mean', 'imputer_strategy_cat': 'most_frequent', 'scaler': 'robust', 'min_frequency': 0.5084248612745129}. Best is trial 0 with value: 0.038484871795970155.\n",
      "[I 2025-05-14 16:42:24,603] Trial 111 finished with value: 0.038484871795970155 and parameters: {'criterion': 'log_loss', 'splitter': 'random', 'max_depth': 19, 'min_samples_split': 19, 'min_samples_leaf': 1, 'min_weight_fraction_leaf': 0.19716551746895186, 'max_features': 'log2', 'max_leaf_nodes': 40, 'min_impurity_decrease': 0.010746773126951992, 'class_weight': 'balanced', 'ccp_alpha': 0.03167802877527057, 'imputer_strategy_num': 'mean', 'imputer_strategy_cat': 'constant', 'scaler': 'standard', 'min_frequency': 0.5947819456124595}. Best is trial 0 with value: 0.038484871795970155.\n",
      "[I 2025-05-14 16:42:25,279] Trial 112 finished with value: 0.038484871795970155 and parameters: {'criterion': 'log_loss', 'splitter': 'random', 'max_depth': 27, 'min_samples_split': 20, 'min_samples_leaf': 2, 'min_weight_fraction_leaf': 0.16123319833859637, 'max_features': 'log2', 'max_leaf_nodes': 11, 'min_impurity_decrease': 0.016320162439816096, 'class_weight': 'balanced', 'ccp_alpha': 0.02740796919202365, 'imputer_strategy_num': 'mean', 'imputer_strategy_cat': 'constant', 'scaler': 'standard', 'min_frequency': 0.5595006817138397}. Best is trial 0 with value: 0.038484871795970155.\n",
      "[I 2025-05-14 16:42:25,957] Trial 113 finished with value: 0.038484871795970155 and parameters: {'criterion': 'log_loss', 'splitter': 'random', 'max_depth': 11, 'min_samples_split': 19, 'min_samples_leaf': 1, 'min_weight_fraction_leaf': 0.18509283537926033, 'max_features': 'log2', 'max_leaf_nodes': 10, 'min_impurity_decrease': 0.0066804684740947844, 'class_weight': 'balanced', 'ccp_alpha': 0.02898141327351106, 'imputer_strategy_num': 'mean', 'imputer_strategy_cat': 'constant', 'scaler': 'standard', 'min_frequency': 0.4789396510560418}. Best is trial 0 with value: 0.038484871795970155.\n",
      "[I 2025-05-14 16:42:26,629] Trial 114 finished with value: 0.038484871795970155 and parameters: {'criterion': 'log_loss', 'splitter': 'random', 'max_depth': 23, 'min_samples_split': 18, 'min_samples_leaf': 3, 'min_weight_fraction_leaf': 0.17969094781270825, 'max_features': 'log2', 'max_leaf_nodes': 47, 'min_impurity_decrease': 0.017338332080391705, 'class_weight': 'balanced', 'ccp_alpha': 0.034796685099911774, 'imputer_strategy_num': 'mean', 'imputer_strategy_cat': 'constant', 'scaler': 'standard', 'min_frequency': 0.5218504720589696}. Best is trial 0 with value: 0.038484871795970155.\n",
      "[I 2025-05-14 16:42:27,294] Trial 115 finished with value: 0.038484871795970155 and parameters: {'criterion': 'log_loss', 'splitter': 'random', 'max_depth': 27, 'min_samples_split': 12, 'min_samples_leaf': 10, 'min_weight_fraction_leaf': 0.1475852299354219, 'max_features': None, 'max_leaf_nodes': 45, 'min_impurity_decrease': 0.008762862819444647, 'class_weight': 'balanced', 'ccp_alpha': 0.03314018668716764, 'imputer_strategy_num': 'mean', 'imputer_strategy_cat': 'constant', 'scaler': 'minmax', 'min_frequency': 0.7933235450124619}. Best is trial 0 with value: 0.038484871795970155.\n",
      "[I 2025-05-14 16:42:28,110] Trial 116 finished with value: 0.038484871795970155 and parameters: {'criterion': 'entropy', 'splitter': 'best', 'max_depth': 3, 'min_samples_split': 6, 'min_samples_leaf': 2, 'min_weight_fraction_leaf': 0.21813615008990056, 'max_features': 'sqrt', 'max_leaf_nodes': 44, 'min_impurity_decrease': 0.030321495514656592, 'class_weight': 'balanced', 'ccp_alpha': 0.03085668419602425, 'imputer_strategy_num': 'median', 'imputer_strategy_cat': 'most_frequent', 'scaler': 'standard', 'min_frequency': 0.3624477582547509}. Best is trial 0 with value: 0.038484871795970155.\n",
      "[I 2025-05-14 16:42:28,816] Trial 117 finished with value: 0.038484871795970155 and parameters: {'criterion': 'gini', 'splitter': 'random', 'max_depth': 20, 'min_samples_split': 20, 'min_samples_leaf': 6, 'min_weight_fraction_leaf': 0.31244573066590503, 'max_features': 'log2', 'max_leaf_nodes': 12, 'min_impurity_decrease': 0.005838460967371235, 'class_weight': 'balanced', 'ccp_alpha': 0.029776452904350312, 'imputer_strategy_num': 'mean', 'imputer_strategy_cat': 'constant', 'scaler': 'minmax', 'min_frequency': 0.7731773735404607}. Best is trial 0 with value: 0.038484871795970155.\n",
      "[I 2025-05-14 16:42:29,511] Trial 118 finished with value: 0.038484871795970155 and parameters: {'criterion': 'log_loss', 'splitter': 'best', 'max_depth': None, 'min_samples_split': 9, 'min_samples_leaf': 20, 'min_weight_fraction_leaf': 0.3484017539743317, 'max_features': 'sqrt', 'max_leaf_nodes': 21, 'min_impurity_decrease': 0.013757208399206057, 'class_weight': 'balanced', 'ccp_alpha': 0.02535386847010322, 'imputer_strategy_num': 'mean', 'imputer_strategy_cat': 'constant', 'scaler': 'standard', 'min_frequency': 0.5741233079842949}. Best is trial 0 with value: 0.038484871795970155.\n",
      "[I 2025-05-14 16:42:30,308] Trial 119 finished with value: 0.038484871795970155 and parameters: {'criterion': 'entropy', 'splitter': 'random', 'max_depth': 37, 'min_samples_split': 4, 'min_samples_leaf': 1, 'min_weight_fraction_leaf': 0.05753408631689392, 'max_features': None, 'max_leaf_nodes': 15, 'min_impurity_decrease': 0.009318124941210483, 'class_weight': None, 'ccp_alpha': 0.02293122789013176, 'imputer_strategy_num': 'median', 'imputer_strategy_cat': 'most_frequent', 'scaler': 'minmax', 'min_frequency': 0.9163305547626777}. Best is trial 0 with value: 0.038484871795970155.\n",
      "[I 2025-05-14 16:42:31,040] Trial 120 finished with value: 0.038484871795970155 and parameters: {'criterion': 'gini', 'splitter': 'best', 'max_depth': 10, 'min_samples_split': 19, 'min_samples_leaf': 11, 'min_weight_fraction_leaf': 0.40113981319139297, 'max_features': 'log2', 'max_leaf_nodes': 42, 'min_impurity_decrease': 0.007625020360968595, 'class_weight': 'balanced', 'ccp_alpha': 0.04072852754483738, 'imputer_strategy_num': 'mean', 'imputer_strategy_cat': 'constant', 'scaler': 'robust', 'min_frequency': 0.2973652980178508}. Best is trial 0 with value: 0.038484871795970155.\n",
      "[I 2025-05-14 16:42:31,763] Trial 121 finished with value: 0.038484871795970155 and parameters: {'criterion': 'log_loss', 'splitter': 'random', 'max_depth': 6, 'min_samples_split': 18, 'min_samples_leaf': 3, 'min_weight_fraction_leaf': 0.11750685306011954, 'max_features': 'sqrt', 'max_leaf_nodes': 48, 'min_impurity_decrease': 0.023657246672215297, 'class_weight': 'balanced', 'ccp_alpha': 0.0381273799085462, 'imputer_strategy_num': 'mean', 'imputer_strategy_cat': 'constant', 'scaler': 'robust', 'min_frequency': 0.7180682011007279}. Best is trial 0 with value: 0.038484871795970155.\n",
      "[I 2025-05-14 16:42:32,481] Trial 122 finished with value: 0.038484871795970155 and parameters: {'criterion': 'log_loss', 'splitter': 'random', 'max_depth': 32, 'min_samples_split': 16, 'min_samples_leaf': 12, 'min_weight_fraction_leaf': 0.09102315829052943, 'max_features': 'sqrt', 'max_leaf_nodes': 6, 'min_impurity_decrease': 0.018755821372388334, 'class_weight': 'balanced', 'ccp_alpha': 0.044804859919725326, 'imputer_strategy_num': 'mean', 'imputer_strategy_cat': 'constant', 'scaler': 'robust', 'min_frequency': 0.6138600513161873}. Best is trial 0 with value: 0.038484871795970155.\n",
      "[I 2025-05-14 16:42:33,230] Trial 123 finished with value: 0.038484871795970155 and parameters: {'criterion': 'log_loss', 'splitter': 'random', 'max_depth': 16, 'min_samples_split': 17, 'min_samples_leaf': 4, 'min_weight_fraction_leaf': 0.283439453231133, 'max_features': 'sqrt', 'max_leaf_nodes': 33, 'min_impurity_decrease': 0.03199356584800948, 'class_weight': 'balanced', 'ccp_alpha': 0.049817741266702506, 'imputer_strategy_num': 'mean', 'imputer_strategy_cat': 'constant', 'scaler': 'robust', 'min_frequency': 0.6713568988544487}. Best is trial 0 with value: 0.038484871795970155.\n",
      "[I 2025-05-14 16:42:33,943] Trial 124 finished with value: 0.038484871795970155 and parameters: {'criterion': 'log_loss', 'splitter': 'random', 'max_depth': 12, 'min_samples_split': 14, 'min_samples_leaf': 5, 'min_weight_fraction_leaf': 0.09789076594909682, 'max_features': 'sqrt', 'max_leaf_nodes': 40, 'min_impurity_decrease': 0.022059946842649558, 'class_weight': 'balanced', 'ccp_alpha': 0.03257478760638613, 'imputer_strategy_num': 'mean', 'imputer_strategy_cat': 'constant', 'scaler': 'robust', 'min_frequency': 0.8204708522165247}. Best is trial 0 with value: 0.038484871795970155.\n",
      "[I 2025-05-14 16:42:34,624] Trial 125 finished with value: 0.038484871795970155 and parameters: {'criterion': 'log_loss', 'splitter': 'random', 'max_depth': 14, 'min_samples_split': 20, 'min_samples_leaf': 6, 'min_weight_fraction_leaf': 0.36112333437626304, 'max_features': 'sqrt', 'max_leaf_nodes': 39, 'min_impurity_decrease': 0.028518998084729755, 'class_weight': 'balanced', 'ccp_alpha': 0.03745986577581098, 'imputer_strategy_num': 'mean', 'imputer_strategy_cat': 'most_frequent', 'scaler': 'minmax', 'min_frequency': 0.6260172966616984}. Best is trial 0 with value: 0.038484871795970155.\n",
      "[I 2025-05-14 16:42:35,373] Trial 126 finished with value: 0.038484871795970155 and parameters: {'criterion': 'entropy', 'splitter': 'random', 'max_depth': 21, 'min_samples_split': 19, 'min_samples_leaf': 19, 'min_weight_fraction_leaf': 0.43974979170044826, 'max_features': 'sqrt', 'max_leaf_nodes': 48, 'min_impurity_decrease': 0.026453923293578062, 'class_weight': None, 'ccp_alpha': 0.03466467153318121, 'imputer_strategy_num': 'median', 'imputer_strategy_cat': 'constant', 'scaler': 'standard', 'min_frequency': 0.7100968700415379}. Best is trial 0 with value: 0.038484871795970155.\n",
      "[I 2025-05-14 16:42:36,089] Trial 127 finished with value: 0.038484871795970155 and parameters: {'criterion': 'gini', 'splitter': 'best', 'max_depth': 17, 'min_samples_split': 13, 'min_samples_leaf': 14, 'min_weight_fraction_leaf': 0.12644752521943464, 'max_features': 'log2', 'max_leaf_nodes': 46, 'min_impurity_decrease': 0.015014513114224533, 'class_weight': 'balanced', 'ccp_alpha': 0.028327544979140598, 'imputer_strategy_num': 'mean', 'imputer_strategy_cat': 'constant', 'scaler': 'robust', 'min_frequency': 0.7453134559924361}. Best is trial 0 with value: 0.038484871795970155.\n",
      "[I 2025-05-14 16:42:36,891] Trial 128 finished with value: 0.038484871795970155 and parameters: {'criterion': 'log_loss', 'splitter': 'random', 'max_depth': 34, 'min_samples_split': 5, 'min_samples_leaf': 2, 'min_weight_fraction_leaf': 0.424570698271879, 'max_features': None, 'max_leaf_nodes': 50, 'min_impurity_decrease': 0.02517446870824147, 'class_weight': 'balanced', 'ccp_alpha': 0.01719756467596692, 'imputer_strategy_num': 'median', 'imputer_strategy_cat': 'most_frequent', 'scaler': 'minmax', 'min_frequency': 0.4359345309394311}. Best is trial 0 with value: 0.038484871795970155.\n",
      "[I 2025-05-14 16:42:37,589] Trial 129 finished with value: 0.038484871795970155 and parameters: {'criterion': 'entropy', 'splitter': 'best', 'max_depth': 16, 'min_samples_split': 12, 'min_samples_leaf': 10, 'min_weight_fraction_leaf': 0.11163404647449021, 'max_features': 'sqrt', 'max_leaf_nodes': 29, 'min_impurity_decrease': 0.004934651384582697, 'class_weight': None, 'ccp_alpha': 0.04327354288160057, 'imputer_strategy_num': 'mean', 'imputer_strategy_cat': 'constant', 'scaler': 'standard', 'min_frequency': 0.8921077362897415}. Best is trial 0 with value: 0.038484871795970155.\n",
      "[I 2025-05-14 16:42:38,279] Trial 130 finished with value: 0.038484871795970155 and parameters: {'criterion': 'entropy', 'splitter': 'random', 'max_depth': 41, 'min_samples_split': 3, 'min_samples_leaf': 17, 'min_weight_fraction_leaf': 0.49460238667888395, 'max_features': 'log2', 'max_leaf_nodes': 26, 'min_impurity_decrease': 0.004081590651486432, 'class_weight': 'balanced', 'ccp_alpha': 0.011399174620361696, 'imputer_strategy_num': 'mean', 'imputer_strategy_cat': 'most_frequent', 'scaler': 'minmax', 'min_frequency': 0.17415723701877914}. Best is trial 0 with value: 0.038484871795970155.\n",
      "[I 2025-05-14 16:42:38,988] Trial 131 finished with value: 0.038484871795970155 and parameters: {'criterion': 'log_loss', 'splitter': 'best', 'max_depth': 14, 'min_samples_split': 16, 'min_samples_leaf': 7, 'min_weight_fraction_leaf': 0.2738539825667516, 'max_features': 'log2', 'max_leaf_nodes': 43, 'min_impurity_decrease': 0.011864779445503466, 'class_weight': 'balanced', 'ccp_alpha': 0.0008777666912872154, 'imputer_strategy_num': 'mean', 'imputer_strategy_cat': 'constant', 'scaler': 'robust', 'min_frequency': 0.9622454566610817}. Best is trial 0 with value: 0.038484871795970155.\n",
      "[I 2025-05-14 16:42:39,696] Trial 132 finished with value: 0.038484871795970155 and parameters: {'criterion': 'log_loss', 'splitter': 'best', 'max_depth': 22, 'min_samples_split': 15, 'min_samples_leaf': 6, 'min_weight_fraction_leaf': 0.2597363501250283, 'max_features': 'log2', 'max_leaf_nodes': 43, 'min_impurity_decrease': 0.016413157676493272, 'class_weight': 'balanced', 'ccp_alpha': 0.0037550305783371207, 'imputer_strategy_num': 'mean', 'imputer_strategy_cat': 'constant', 'scaler': 'robust', 'min_frequency': 0.8669171501521394}. Best is trial 0 with value: 0.038484871795970155.\n",
      "[I 2025-05-14 16:42:40,405] Trial 133 finished with value: 0.038484871795970155 and parameters: {'criterion': 'log_loss', 'splitter': 'best', 'max_depth': 7, 'min_samples_split': 10, 'min_samples_leaf': 5, 'min_weight_fraction_leaf': 0.0212255612904306, 'max_features': 'log2', 'max_leaf_nodes': 7, 'min_impurity_decrease': 0.017939228803826066, 'class_weight': 'balanced', 'ccp_alpha': 0.009507953472435517, 'imputer_strategy_num': 'mean', 'imputer_strategy_cat': 'constant', 'scaler': 'robust', 'min_frequency': 0.9346022063655479}. Best is trial 0 with value: 0.038484871795970155.\n",
      "[I 2025-05-14 16:42:41,115] Trial 134 finished with value: 0.038484871795970155 and parameters: {'criterion': 'log_loss', 'splitter': 'best', 'max_depth': 35, 'min_samples_split': 15, 'min_samples_leaf': 4, 'min_weight_fraction_leaf': 0.24424810608796121, 'max_features': 'log2', 'max_leaf_nodes': 20, 'min_impurity_decrease': 0.021067430947457125, 'class_weight': 'balanced', 'ccp_alpha': 0.0021768207891234336, 'imputer_strategy_num': 'mean', 'imputer_strategy_cat': 'constant', 'scaler': 'robust', 'min_frequency': 0.25878557561957216}. Best is trial 0 with value: 0.038484871795970155.\n",
      "[I 2025-05-14 16:42:41,974] Trial 135 finished with value: 0.038484871795970155 and parameters: {'criterion': 'gini', 'splitter': 'best', 'max_depth': 47, 'min_samples_split': 14, 'min_samples_leaf': 11, 'min_weight_fraction_leaf': 0.30018361963106094, 'max_features': 'sqrt', 'max_leaf_nodes': 30, 'min_impurity_decrease': 0.013417950762914325, 'class_weight': 'balanced', 'ccp_alpha': 0.007847622777899714, 'imputer_strategy_num': 'median', 'imputer_strategy_cat': 'constant', 'scaler': 'robust', 'min_frequency': 0.32445565620861466}. Best is trial 0 with value: 0.038484871795970155.\n",
      "[I 2025-05-14 16:42:42,636] Trial 136 finished with value: 0.038484871795970155 and parameters: {'criterion': 'log_loss', 'splitter': 'best', 'max_depth': 42, 'min_samples_split': 18, 'min_samples_leaf': 5, 'min_weight_fraction_leaf': 0.20958087018917965, 'max_features': 'log2', 'max_leaf_nodes': 49, 'min_impurity_decrease': 0.010017487223107423, 'class_weight': None, 'ccp_alpha': 0.039487833648275336, 'imputer_strategy_num': 'mean', 'imputer_strategy_cat': 'constant', 'scaler': 'standard', 'min_frequency': 0.8506099508504515}. Best is trial 0 with value: 0.038484871795970155.\n",
      "[I 2025-05-14 16:42:43,351] Trial 137 finished with value: 0.038484871795970155 and parameters: {'criterion': 'entropy', 'splitter': 'random', 'max_depth': 30, 'min_samples_split': 16, 'min_samples_leaf': 1, 'min_weight_fraction_leaf': 0.07485515635374237, 'max_features': None, 'max_leaf_nodes': 9, 'min_impurity_decrease': 0.007737730964001209, 'class_weight': 'balanced', 'ccp_alpha': 0.01968980415660453, 'imputer_strategy_num': 'mean', 'imputer_strategy_cat': 'most_frequent', 'scaler': 'minmax', 'min_frequency': 0.1349262704400821}. Best is trial 0 with value: 0.038484871795970155.\n",
      "[I 2025-05-14 16:42:44,184] Trial 138 finished with value: 0.038484871795970155 and parameters: {'criterion': 'log_loss', 'splitter': 'best', 'max_depth': 18, 'min_samples_split': 17, 'min_samples_leaf': 13, 'min_weight_fraction_leaf': 0.17233463380434277, 'max_features': 'sqrt', 'max_leaf_nodes': 31, 'min_impurity_decrease': 0.011143918857163194, 'class_weight': 'balanced', 'ccp_alpha': 0.0005500540824500669, 'imputer_strategy_num': 'median', 'imputer_strategy_cat': 'constant', 'scaler': 'robust', 'min_frequency': 0.5415011187649843}. Best is trial 0 with value: 0.038484871795970155.\n",
      "[I 2025-05-14 16:42:44,834] Trial 139 finished with value: 0.038484871795970155 and parameters: {'criterion': 'gini', 'splitter': 'random', 'max_depth': 8, 'min_samples_split': 7, 'min_samples_leaf': 12, 'min_weight_fraction_leaf': 0.22750221710457977, 'max_features': 'log2', 'max_leaf_nodes': 10, 'min_impurity_decrease': 0.029015398139384405, 'class_weight': None, 'ccp_alpha': 0.021710289897640674, 'imputer_strategy_num': 'mean', 'imputer_strategy_cat': 'constant', 'scaler': 'minmax', 'min_frequency': 0.913227696720137}. Best is trial 0 with value: 0.038484871795970155.\n",
      "[I 2025-05-14 16:42:45,543] Trial 140 finished with value: 0.038484871795970155 and parameters: {'criterion': 'entropy', 'splitter': 'best', 'max_depth': 2, 'min_samples_split': 20, 'min_samples_leaf': 8, 'min_weight_fraction_leaf': 0.4139318986271794, 'max_features': 'sqrt', 'max_leaf_nodes': 13, 'min_impurity_decrease': 0.03956189661164578, 'class_weight': 'balanced', 'ccp_alpha': 0.004550765024369185, 'imputer_strategy_num': 'mean', 'imputer_strategy_cat': 'most_frequent', 'scaler': 'standard', 'min_frequency': 0.03378191242051537}. Best is trial 0 with value: 0.038484871795970155.\n",
      "[I 2025-05-14 16:42:46,224] Trial 141 finished with value: 0.038484871795970155 and parameters: {'criterion': 'entropy', 'splitter': 'random', 'max_depth': 34, 'min_samples_split': 17, 'min_samples_leaf': 6, 'min_weight_fraction_leaf': 0.3759882153927438, 'max_features': None, 'max_leaf_nodes': 20, 'min_impurity_decrease': 0.0030751078755279705, 'class_weight': 'balanced', 'ccp_alpha': 0.023778106154759955, 'imputer_strategy_num': 'mean', 'imputer_strategy_cat': 'constant', 'scaler': 'standard', 'min_frequency': 0.3402833727541373}. Best is trial 0 with value: 0.038484871795970155.\n",
      "[I 2025-05-14 16:42:46,970] Trial 142 finished with value: 0.038484871795970155 and parameters: {'criterion': 'entropy', 'splitter': 'random', 'max_depth': 4, 'min_samples_split': 19, 'min_samples_leaf': 7, 'min_weight_fraction_leaf': 0.022699364355795875, 'max_features': None, 'max_leaf_nodes': 3, 'min_impurity_decrease': 0.00019205502699384705, 'class_weight': 'balanced', 'ccp_alpha': 0.026894295615049055, 'imputer_strategy_num': 'mean', 'imputer_strategy_cat': 'constant', 'scaler': 'standard', 'min_frequency': 0.41107068786239753}. Best is trial 0 with value: 0.038484871795970155.\n",
      "[I 2025-05-14 16:42:47,654] Trial 143 finished with value: 0.038484871795970155 and parameters: {'criterion': 'entropy', 'splitter': 'random', 'max_depth': 27, 'min_samples_split': 18, 'min_samples_leaf': 6, 'min_weight_fraction_leaf': 0.3929968144414469, 'max_features': None, 'max_leaf_nodes': 38, 'min_impurity_decrease': 0.0015734188804284082, 'class_weight': 'balanced', 'ccp_alpha': 0.012745070651021472, 'imputer_strategy_num': 'mean', 'imputer_strategy_cat': 'constant', 'scaler': 'standard', 'min_frequency': 0.3659897602303404}. Best is trial 0 with value: 0.038484871795970155.\n",
      "[I 2025-05-14 16:42:48,370] Trial 144 finished with value: 0.06613281961159612 and parameters: {'criterion': 'entropy', 'splitter': 'random', 'max_depth': 23, 'min_samples_split': 8, 'min_samples_leaf': 9, 'min_weight_fraction_leaf': 0.045618638856933215, 'max_features': None, 'max_leaf_nodes': 25, 'min_impurity_decrease': 0.002302779504434524, 'class_weight': 'balanced', 'ccp_alpha': 0.003132938025740317, 'imputer_strategy_num': 'mean', 'imputer_strategy_cat': 'constant', 'scaler': 'standard', 'min_frequency': 0.38091437114734267}. Best is trial 0 with value: 0.038484871795970155.\n",
      "[I 2025-05-14 16:42:49,199] Trial 145 finished with value: 0.038484871795970155 and parameters: {'criterion': 'entropy', 'splitter': 'random', 'max_depth': 11, 'min_samples_split': 17, 'min_samples_leaf': 2, 'min_weight_fraction_leaf': 0.015894672059574712, 'max_features': None, 'max_leaf_nodes': 14, 'min_impurity_decrease': 0.006159179747094264, 'class_weight': 'balanced', 'ccp_alpha': 0.018226682928591843, 'imputer_strategy_num': 'median', 'imputer_strategy_cat': 'constant', 'scaler': 'robust', 'min_frequency': 0.4598265793433708}. Best is trial 0 with value: 0.038484871795970155.\n",
      "[I 2025-05-14 16:42:49,857] Trial 146 finished with value: 0.038484871795970155 and parameters: {'criterion': 'log_loss', 'splitter': 'best', 'max_depth': 15, 'min_samples_split': 6, 'min_samples_leaf': 5, 'min_weight_fraction_leaf': 0.030707201744144538, 'max_features': 'log2', 'max_leaf_nodes': 37, 'min_impurity_decrease': 0.01964670553407427, 'class_weight': None, 'ccp_alpha': 0.020696030566468633, 'imputer_strategy_num': 'mean', 'imputer_strategy_cat': 'constant', 'scaler': 'standard', 'min_frequency': 0.6310983092183037}. Best is trial 0 with value: 0.038484871795970155.\n",
      "[I 2025-05-14 16:42:50,516] Trial 147 finished with value: 0.038484871795970155 and parameters: {'criterion': 'gini', 'splitter': 'random', 'max_depth': 26, 'min_samples_split': 13, 'min_samples_leaf': 11, 'min_weight_fraction_leaf': 0.0008015210753227545, 'max_features': 'sqrt', 'max_leaf_nodes': 23, 'min_impurity_decrease': 0.034199912002306, 'class_weight': 'balanced', 'ccp_alpha': 0.0248212633480121, 'imputer_strategy_num': 'mean', 'imputer_strategy_cat': 'constant', 'scaler': 'minmax', 'min_frequency': 0.8047864972562755}. Best is trial 0 with value: 0.038484871795970155.\n",
      "[I 2025-05-14 16:42:51,399] Trial 148 finished with value: 0.038484871795970155 and parameters: {'criterion': 'entropy', 'splitter': 'best', 'max_depth': 13, 'min_samples_split': 11, 'min_samples_leaf': 4, 'min_weight_fraction_leaf': 0.15631096073089135, 'max_features': 'log2', 'max_leaf_nodes': 11, 'min_impurity_decrease': 0.03072777705590747, 'class_weight': 'balanced', 'ccp_alpha': 0.00685807571667036, 'imputer_strategy_num': 'median', 'imputer_strategy_cat': 'most_frequent', 'scaler': 'robust', 'min_frequency': 0.7682615339300479}. Best is trial 0 with value: 0.038484871795970155.\n",
      "[I 2025-05-14 16:42:52,068] Trial 149 finished with value: 0.038484871795970155 and parameters: {'criterion': 'log_loss', 'splitter': 'random', 'max_depth': 29, 'min_samples_split': 19, 'min_samples_leaf': 18, 'min_weight_fraction_leaf': 0.14218652663708506, 'max_features': None, 'max_leaf_nodes': 35, 'min_impurity_decrease': 0.0038347008577806234, 'class_weight': None, 'ccp_alpha': 0.02258401174116962, 'imputer_strategy_num': 'mean', 'imputer_strategy_cat': 'constant', 'scaler': 'minmax', 'min_frequency': 0.275144322117539}. Best is trial 0 with value: 0.038484871795970155.\n",
      "[I 2025-05-14 16:42:52,732] Trial 150 finished with value: 0.038484871795970155 and parameters: {'criterion': 'entropy', 'splitter': 'best', 'max_depth': 50, 'min_samples_split': 3, 'min_samples_leaf': 3, 'min_weight_fraction_leaf': 0.33127575776069557, 'max_features': 'sqrt', 'max_leaf_nodes': 34, 'min_impurity_decrease': 0.04085961438912689, 'class_weight': 'balanced', 'ccp_alpha': 0.010087484022373276, 'imputer_strategy_num': 'mean', 'imputer_strategy_cat': 'constant', 'scaler': 'standard', 'min_frequency': 0.953226935802608}. Best is trial 0 with value: 0.038484871795970155.\n",
      "[I 2025-05-14 16:42:53,470] Trial 151 finished with value: 0.038484871795970155 and parameters: {'criterion': 'entropy', 'splitter': 'best', 'max_depth': 18, 'min_samples_split': 20, 'min_samples_leaf': 16, 'min_weight_fraction_leaf': 0.1948326330255695, 'max_features': 'sqrt', 'max_leaf_nodes': 42, 'min_impurity_decrease': 0.014585158959457098, 'class_weight': 'balanced', 'ccp_alpha': 0.03582970090473451, 'imputer_strategy_num': 'mean', 'imputer_strategy_cat': 'constant', 'scaler': 'robust', 'min_frequency': 0.9808323698773767}. Best is trial 0 with value: 0.038484871795970155.\n",
      "[I 2025-05-14 16:42:54,184] Trial 152 finished with value: 0.038484871795970155 and parameters: {'criterion': 'entropy', 'splitter': 'best', 'max_depth': 10, 'min_samples_split': 19, 'min_samples_leaf': 3, 'min_weight_fraction_leaf': 0.1687257314765146, 'max_features': 'sqrt', 'max_leaf_nodes': 31, 'min_impurity_decrease': 0.01202706826730694, 'class_weight': 'balanced', 'ccp_alpha': 0.03198705927967716, 'imputer_strategy_num': 'mean', 'imputer_strategy_cat': 'constant', 'scaler': 'robust', 'min_frequency': 0.9871358782482798}. Best is trial 0 with value: 0.038484871795970155.\n",
      "[I 2025-05-14 16:42:54,894] Trial 153 finished with value: 0.038484871795970155 and parameters: {'criterion': 'entropy', 'splitter': 'best', 'max_depth': 25, 'min_samples_split': 18, 'min_samples_leaf': 1, 'min_weight_fraction_leaf': 0.19833339636138517, 'max_features': 'sqrt', 'max_leaf_nodes': 9, 'min_impurity_decrease': 0.007825197330859072, 'class_weight': 'balanced', 'ccp_alpha': 0.040560696101794205, 'imputer_strategy_num': 'mean', 'imputer_strategy_cat': 'constant', 'scaler': 'robust', 'min_frequency': 0.9224251557677337}. Best is trial 0 with value: 0.038484871795970155.\n",
      "[I 2025-05-14 16:42:55,656] Trial 154 finished with value: 0.038484871795970155 and parameters: {'criterion': 'entropy', 'splitter': 'best', 'max_depth': 7, 'min_samples_split': 16, 'min_samples_leaf': 4, 'min_weight_fraction_leaf': 0.18067344075875438, 'max_features': 'sqrt', 'max_leaf_nodes': 17, 'min_impurity_decrease': 0.009907563776306937, 'class_weight': 'balanced', 'ccp_alpha': 0.008453318646689294, 'imputer_strategy_num': 'mean', 'imputer_strategy_cat': 'constant', 'scaler': 'robust', 'min_frequency': 0.8777487553209198}. Best is trial 0 with value: 0.038484871795970155.\n",
      "[I 2025-05-14 16:42:56,497] Trial 155 finished with value: 0.038484871795970155 and parameters: {'criterion': 'gini', 'splitter': 'random', 'max_depth': 38, 'min_samples_split': 20, 'min_samples_leaf': 7, 'min_weight_fraction_leaf': 0.05865266467029776, 'max_features': 'sqrt', 'max_leaf_nodes': 7, 'min_impurity_decrease': 0.015804567278519314, 'class_weight': 'balanced', 'ccp_alpha': 0.03393485651001322, 'imputer_strategy_num': 'median', 'imputer_strategy_cat': 'most_frequent', 'scaler': 'robust', 'min_frequency': 0.22534633153818928}. Best is trial 0 with value: 0.038484871795970155.\n",
      "[I 2025-05-14 16:42:57,151] Trial 156 finished with value: 0.038484871795970155 and parameters: {'criterion': 'log_loss', 'splitter': 'best', 'max_depth': 40, 'min_samples_split': 4, 'min_samples_leaf': 2, 'min_weight_fraction_leaf': 0.1359829718400871, 'max_features': 'log2', 'max_leaf_nodes': 46, 'min_impurity_decrease': 0.03276263018178627, 'class_weight': None, 'ccp_alpha': 0.01094484846509431, 'imputer_strategy_num': 'mean', 'imputer_strategy_cat': 'constant', 'scaler': 'minmax', 'min_frequency': 0.9515035570869882}. Best is trial 0 with value: 0.038484871795970155.\n",
      "[I 2025-05-14 16:42:57,814] Trial 157 finished with value: 0.038484871795970155 and parameters: {'criterion': 'entropy', 'splitter': 'random', 'max_depth': 5, 'min_samples_split': 18, 'min_samples_leaf': 3, 'min_weight_fraction_leaf': 0.45920572053398145, 'max_features': 'sqrt', 'max_leaf_nodes': 43, 'min_impurity_decrease': 0.008613753365733898, 'class_weight': 'balanced', 'ccp_alpha': 0.03523560045701423, 'imputer_strategy_num': 'mean', 'imputer_strategy_cat': 'constant', 'scaler': 'standard', 'min_frequency': 0.8990221374885917}. Best is trial 0 with value: 0.038484871795970155.\n",
      "[I 2025-05-14 16:42:58,669] Trial 158 finished with value: 0.038484871795970155 and parameters: {'criterion': 'log_loss', 'splitter': 'best', 'max_depth': 39, 'min_samples_split': 12, 'min_samples_leaf': 10, 'min_weight_fraction_leaf': 0.3666848800632046, 'max_features': 'log2', 'max_leaf_nodes': 29, 'min_impurity_decrease': 0.04633514983635746, 'class_weight': 'balanced', 'ccp_alpha': 0.030408226559310008, 'imputer_strategy_num': 'median', 'imputer_strategy_cat': 'most_frequent', 'scaler': 'robust', 'min_frequency': 0.3079897970330099}. Best is trial 0 with value: 0.038484871795970155.\n",
      "[I 2025-05-14 16:42:59,337] Trial 159 finished with value: 0.038484871795970155 and parameters: {'criterion': 'gini', 'splitter': 'random', 'max_depth': 43, 'min_samples_split': 19, 'min_samples_leaf': 2, 'min_weight_fraction_leaf': 0.08417137816676329, 'max_features': None, 'max_leaf_nodes': 41, 'min_impurity_decrease': 0.011347258780675286, 'class_weight': None, 'ccp_alpha': 0.029415430172400593, 'imputer_strategy_num': 'mean', 'imputer_strategy_cat': 'constant', 'scaler': 'minmax', 'min_frequency': 0.4173826660862707}. Best is trial 0 with value: 0.038484871795970155.\n",
      "[I 2025-05-14 16:43:00,052] Trial 160 finished with value: 0.038484871795970155 and parameters: {'criterion': 'entropy', 'splitter': 'best', 'max_depth': 27, 'min_samples_split': 15, 'min_samples_leaf': 11, 'min_weight_fraction_leaf': 0.12055474717441081, 'max_features': 'sqrt', 'max_leaf_nodes': 40, 'min_impurity_decrease': 0.012879421359129303, 'class_weight': 'balanced', 'ccp_alpha': 0.0013564667003236827, 'imputer_strategy_num': 'mean', 'imputer_strategy_cat': 'constant', 'scaler': 'standard', 'min_frequency': 0.6785688942807016}. Best is trial 0 with value: 0.038484871795970155.\n",
      "[I 2025-05-14 16:43:00,722] Trial 161 finished with value: 0.038484871795970155 and parameters: {'criterion': 'log_loss', 'splitter': 'best', 'max_depth': 7, 'min_samples_split': 14, 'min_samples_leaf': 8, 'min_weight_fraction_leaf': 0.06301173742042704, 'max_features': 'log2', 'max_leaf_nodes': 14, 'min_impurity_decrease': 0.017314681935390493, 'class_weight': 'balanced', 'ccp_alpha': 0.0482969970281036, 'imputer_strategy_num': 'mean', 'imputer_strategy_cat': 'constant', 'scaler': 'standard', 'min_frequency': 0.19886387915010095}. Best is trial 0 with value: 0.038484871795970155.\n",
      "[I 2025-05-14 16:43:01,389] Trial 162 finished with value: 0.038484871795970155 and parameters: {'criterion': 'log_loss', 'splitter': 'best', 'max_depth': 17, 'min_samples_split': 16, 'min_samples_leaf': 7, 'min_weight_fraction_leaf': 0.09722205750956635, 'max_features': 'log2', 'max_leaf_nodes': 32, 'min_impurity_decrease': 0.020304600268891186, 'class_weight': 'balanced', 'ccp_alpha': 0.04626263585796798, 'imputer_strategy_num': 'mean', 'imputer_strategy_cat': 'constant', 'scaler': 'standard', 'min_frequency': 0.2664511343483856}. Best is trial 0 with value: 0.038484871795970155.\n",
      "[I 2025-05-14 16:43:02,060] Trial 163 finished with value: 0.038484871795970155 and parameters: {'criterion': 'log_loss', 'splitter': 'best', 'max_depth': 48, 'min_samples_split': 15, 'min_samples_leaf': 6, 'min_weight_fraction_leaf': 0.07622177822456357, 'max_features': 'log2', 'max_leaf_nodes': 4, 'min_impurity_decrease': 0.01837466840481717, 'class_weight': 'balanced', 'ccp_alpha': 0.03720643076414306, 'imputer_strategy_num': 'mean', 'imputer_strategy_cat': 'constant', 'scaler': 'standard', 'min_frequency': 0.24197031717052395}. Best is trial 0 with value: 0.038484871795970155.\n",
      "[I 2025-05-14 16:43:02,732] Trial 164 finished with value: 0.038484871795970155 and parameters: {'criterion': 'log_loss', 'splitter': 'best', 'max_depth': 28, 'min_samples_split': 2, 'min_samples_leaf': 1, 'min_weight_fraction_leaf': 0.04021260704259121, 'max_features': 'log2', 'max_leaf_nodes': 24, 'min_impurity_decrease': 0.006824832077132742, 'class_weight': 'balanced', 'ccp_alpha': 0.04891227262565343, 'imputer_strategy_num': 'mean', 'imputer_strategy_cat': 'constant', 'scaler': 'standard', 'min_frequency': 0.9979469869731454}. Best is trial 0 with value: 0.038484871795970155.\n",
      "[I 2025-05-14 16:43:03,473] Trial 165 finished with value: 0.038484871795970155 and parameters: {'criterion': 'log_loss', 'splitter': 'random', 'max_depth': 45, 'min_samples_split': 14, 'min_samples_leaf': 5, 'min_weight_fraction_leaf': 0.10700408242023074, 'max_features': 'log2', 'max_leaf_nodes': 48, 'min_impurity_decrease': 0.02296096764002411, 'class_weight': 'balanced', 'ccp_alpha': 0.047031632139173725, 'imputer_strategy_num': 'mean', 'imputer_strategy_cat': 'most_frequent', 'scaler': 'robust', 'min_frequency': 0.29082957275649923}. Best is trial 0 with value: 0.038484871795970155.\n",
      "[I 2025-05-14 16:43:04,248] Trial 166 finished with value: 0.038484871795970155 and parameters: {'criterion': 'log_loss', 'splitter': 'best', 'max_depth': 14, 'min_samples_split': 13, 'min_samples_leaf': 6, 'min_weight_fraction_leaf': 0.1477633907148618, 'max_features': 'log2', 'max_leaf_nodes': 27, 'min_impurity_decrease': 0.029571053408166424, 'class_weight': 'balanced', 'ccp_alpha': 0.012209030660248435, 'imputer_strategy_num': 'median', 'imputer_strategy_cat': 'constant', 'scaler': 'minmax', 'min_frequency': 0.17297832850203154}. Best is trial 0 with value: 0.038484871795970155.\n",
      "[I 2025-05-14 16:43:04,947] Trial 167 finished with value: 0.038484871795970155 and parameters: {'criterion': 'entropy', 'splitter': 'random', 'max_depth': 7, 'min_samples_split': 16, 'min_samples_leaf': 19, 'min_weight_fraction_leaf': 0.29281752095089286, 'max_features': 'sqrt', 'max_leaf_nodes': None, 'min_impurity_decrease': 0.037225079185054244, 'class_weight': None, 'ccp_alpha': 0.008732543971382324, 'imputer_strategy_num': 'mean', 'imputer_strategy_cat': 'constant', 'scaler': 'standard', 'min_frequency': 0.341318149731397}. Best is trial 0 with value: 0.038484871795970155.\n",
      "[I 2025-05-14 16:43:05,726] Trial 168 finished with value: 0.038484871795970155 and parameters: {'criterion': 'gini', 'splitter': 'best', 'max_depth': 44, 'min_samples_split': 5, 'min_samples_leaf': 12, 'min_weight_fraction_leaf': 0.16179287227952716, 'max_features': None, 'max_leaf_nodes': 30, 'min_impurity_decrease': 0.027820168648831425, 'class_weight': 'balanced', 'ccp_alpha': 4.1960028471258945e-05, 'imputer_strategy_num': 'mean', 'imputer_strategy_cat': 'constant', 'scaler': 'robust', 'min_frequency': 0.49918075236977516}. Best is trial 0 with value: 0.038484871795970155.\n",
      "[I 2025-05-14 16:43:06,528] Trial 169 finished with value: 0.038484871795970155 and parameters: {'criterion': 'log_loss', 'splitter': 'random', 'max_depth': 46, 'min_samples_split': 15, 'min_samples_leaf': 8, 'min_weight_fraction_leaf': 0.4333707220868502, 'max_features': 'log2', 'max_leaf_nodes': 49, 'min_impurity_decrease': 0.008856804605756937, 'class_weight': 'balanced', 'ccp_alpha': 0.03810469734873667, 'imputer_strategy_num': 'median', 'imputer_strategy_cat': 'most_frequent', 'scaler': 'minmax', 'min_frequency': 0.3726728153613264}. Best is trial 0 with value: 0.038484871795970155.\n",
      "[I 2025-05-14 16:43:07,189] Trial 170 finished with value: 0.038484871795970155 and parameters: {'criterion': 'entropy', 'splitter': 'best', 'max_depth': 35, 'min_samples_split': 20, 'min_samples_leaf': 20, 'min_weight_fraction_leaf': 0.053066984709303704, 'max_features': 'sqrt', 'max_leaf_nodes': 20, 'min_impurity_decrease': 0.03140297145365438, 'class_weight': None, 'ccp_alpha': 0.0328253803299875, 'imputer_strategy_num': 'mean', 'imputer_strategy_cat': 'constant', 'scaler': 'standard', 'min_frequency': 0.8351772140459108}. Best is trial 0 with value: 0.038484871795970155.\n",
      "[I 2025-05-14 16:43:07,863] Trial 171 finished with value: 0.038484871795970155 and parameters: {'criterion': 'log_loss', 'splitter': 'random', 'max_depth': 9, 'min_samples_split': 7, 'min_samples_leaf': 4, 'min_weight_fraction_leaf': 0.2764762922613708, 'max_features': 'sqrt', 'max_leaf_nodes': 2, 'min_impurity_decrease': 0.015249002625330995, 'class_weight': 'balanced', 'ccp_alpha': 0.01929909516473958, 'imputer_strategy_num': 'mean', 'imputer_strategy_cat': 'constant', 'scaler': 'standard', 'min_frequency': 0.03861554993932115}. Best is trial 0 with value: 0.038484871795970155.\n",
      "[I 2025-05-14 16:43:08,544] Trial 172 finished with value: 0.038484871795970155 and parameters: {'criterion': 'log_loss', 'splitter': 'random', 'max_depth': 30, 'min_samples_split': 6, 'min_samples_leaf': 2, 'min_weight_fraction_leaf': 0.08936683826186022, 'max_features': 'sqrt', 'max_leaf_nodes': 18, 'min_impurity_decrease': 0.017125015902349428, 'class_weight': 'balanced', 'ccp_alpha': 0.017333528480451305, 'imputer_strategy_num': 'mean', 'imputer_strategy_cat': 'constant', 'scaler': 'standard', 'min_frequency': 0.00018247879970834102}. Best is trial 0 with value: 0.038484871795970155.\n",
      "[I 2025-05-14 16:43:09,263] Trial 173 finished with value: 0.038484871795970155 and parameters: {'criterion': 'log_loss', 'splitter': 'random', 'max_depth': 16, 'min_samples_split': 14, 'min_samples_leaf': 7, 'min_weight_fraction_leaf': 0.31323048427746414, 'max_features': 'sqrt', 'max_leaf_nodes': 36, 'min_impurity_decrease': 0.013969530991622849, 'class_weight': 'balanced', 'ccp_alpha': 0.016530320254199957, 'imputer_strategy_num': 'mean', 'imputer_strategy_cat': 'constant', 'scaler': 'standard', 'min_frequency': 0.01736488752367822}. Best is trial 0 with value: 0.038484871795970155.\n",
      "[I 2025-05-14 16:43:09,928] Trial 174 finished with value: 0.038484871795970155 and parameters: {'criterion': 'log_loss', 'splitter': 'random', 'max_depth': 47, 'min_samples_split': 10, 'min_samples_leaf': 3, 'min_weight_fraction_leaf': 0.2631717072601862, 'max_features': 'sqrt', 'max_leaf_nodes': 13, 'min_impurity_decrease': 0.009962790997619477, 'class_weight': 'balanced', 'ccp_alpha': 0.01447613135774047, 'imputer_strategy_num': 'mean', 'imputer_strategy_cat': 'constant', 'scaler': 'standard', 'min_frequency': 0.31523565860944025}. Best is trial 0 with value: 0.038484871795970155.\n",
      "[I 2025-05-14 16:43:10,639] Trial 175 finished with value: 0.038484871795970155 and parameters: {'criterion': 'log_loss', 'splitter': 'random', 'max_depth': 34, 'min_samples_split': 13, 'min_samples_leaf': 3, 'min_weight_fraction_leaf': 0.2912951029302971, 'max_features': 'sqrt', 'max_leaf_nodes': 5, 'min_impurity_decrease': 0.004711836529774589, 'class_weight': 'balanced', 'ccp_alpha': 0.015339205965213359, 'imputer_strategy_num': 'mean', 'imputer_strategy_cat': 'constant', 'scaler': 'robust', 'min_frequency': 0.9305315925689357}. Best is trial 0 with value: 0.038484871795970155.\n",
      "[I 2025-05-14 16:43:11,380] Trial 176 finished with value: 0.038484871795970155 and parameters: {'criterion': 'entropy', 'splitter': 'best', 'max_depth': 42, 'min_samples_split': 9, 'min_samples_leaf': 10, 'min_weight_fraction_leaf': 0.008331867608336666, 'max_features': 'log2', 'max_leaf_nodes': 13, 'min_impurity_decrease': 0.049579964087596975, 'class_weight': 'balanced', 'ccp_alpha': 0.013339366672773923, 'imputer_strategy_num': 'mean', 'imputer_strategy_cat': 'most_frequent', 'scaler': 'minmax', 'min_frequency': 0.0890855418912977}. Best is trial 0 with value: 0.038484871795970155.\n",
      "[I 2025-05-14 16:43:12,207] Trial 177 finished with value: 0.038484871795970155 and parameters: {'criterion': 'gini', 'splitter': 'random', 'max_depth': 33, 'min_samples_split': 8, 'min_samples_leaf': 1, 'min_weight_fraction_leaf': 0.2528555353984636, 'max_features': None, 'max_leaf_nodes': 28, 'min_impurity_decrease': 0.010937028885388826, 'class_weight': 'balanced', 'ccp_alpha': 0.009638442241733559, 'imputer_strategy_num': 'median', 'imputer_strategy_cat': 'constant', 'scaler': 'standard', 'min_frequency': 0.06479439103394569}. Best is trial 0 with value: 0.038484871795970155.\n",
      "[I 2025-05-14 16:43:12,925] Trial 178 finished with value: 0.038484871795970155 and parameters: {'criterion': 'log_loss', 'splitter': 'best', 'max_depth': 18, 'min_samples_split': 17, 'min_samples_leaf': 5, 'min_weight_fraction_leaf': 0.39072287493369773, 'max_features': 'sqrt', 'max_leaf_nodes': 31, 'min_impurity_decrease': 0.005906614241013615, 'class_weight': None, 'ccp_alpha': 0.0211557234992816, 'imputer_strategy_num': 'mean', 'imputer_strategy_cat': 'constant', 'scaler': 'robust', 'min_frequency': 0.09851395919201736}. Best is trial 0 with value: 0.038484871795970155.\n",
      "[I 2025-05-14 16:43:13,637] Trial 179 finished with value: 0.038484871795970155 and parameters: {'criterion': 'entropy', 'splitter': 'random', 'max_depth': 31, 'min_samples_split': 11, 'min_samples_leaf': 11, 'min_weight_fraction_leaf': 0.3239091644106148, 'max_features': 'log2', 'max_leaf_nodes': 8, 'min_impurity_decrease': 0.04202375642387791, 'class_weight': 'balanced', 'ccp_alpha': 0.04373007208876342, 'imputer_strategy_num': 'mean', 'imputer_strategy_cat': 'constant', 'scaler': 'standard', 'min_frequency': 0.3988853127134601}. Best is trial 0 with value: 0.038484871795970155.\n",
      "[I 2025-05-14 16:43:14,428] Trial 180 finished with value: 0.038484871795970155 and parameters: {'criterion': 'log_loss', 'splitter': 'random', 'max_depth': 30, 'min_samples_split': 7, 'min_samples_leaf': 2, 'min_weight_fraction_leaf': 0.21462248320764685, 'max_features': 'sqrt', 'max_leaf_nodes': 16, 'min_impurity_decrease': 0.035126639395785926, 'class_weight': 'balanced', 'ccp_alpha': 0.022072565745512238, 'imputer_strategy_num': 'median', 'imputer_strategy_cat': 'most_frequent', 'scaler': 'minmax', 'min_frequency': 0.5721179825977666}. Best is trial 0 with value: 0.038484871795970155.\n",
      "[I 2025-05-14 16:43:15,297] Trial 181 finished with value: 0.038484871795970155 and parameters: {'criterion': 'entropy', 'splitter': 'random', 'max_depth': 11, 'min_samples_split': 17, 'min_samples_leaf': 9, 'min_weight_fraction_leaf': 0.22601909756002883, 'max_features': 'log2', 'max_leaf_nodes': 3, 'min_impurity_decrease': 0.001496560731651348, 'class_weight': None, 'ccp_alpha': 0.026412046302904155, 'imputer_strategy_num': 'median', 'imputer_strategy_cat': 'most_frequent', 'scaler': 'robust', 'min_frequency': 0.4445513000208072}. Best is trial 0 with value: 0.038484871795970155.\n",
      "[I 2025-05-14 16:43:16,147] Trial 182 finished with value: 0.038484871795970155 and parameters: {'criterion': 'entropy', 'splitter': 'random', 'max_depth': 8, 'min_samples_split': 17, 'min_samples_leaf': 8, 'min_weight_fraction_leaf': 0.20448244870832902, 'max_features': 'log2', 'max_leaf_nodes': 3, 'min_impurity_decrease': 0.0007436893722714423, 'class_weight': None, 'ccp_alpha': 0.023687149182809356, 'imputer_strategy_num': 'median', 'imputer_strategy_cat': 'most_frequent', 'scaler': 'robust', 'min_frequency': 0.5300065230298348}. Best is trial 0 with value: 0.038484871795970155.\n",
      "[I 2025-05-14 16:43:16,993] Trial 183 finished with value: 0.038484871795970155 and parameters: {'criterion': 'entropy', 'splitter': 'random', 'max_depth': 36, 'min_samples_split': 16, 'min_samples_leaf': 9, 'min_weight_fraction_leaf': 0.40559388303234395, 'max_features': 'log2', 'max_leaf_nodes': 43, 'min_impurity_decrease': 0.0027499708025606412, 'class_weight': None, 'ccp_alpha': 0.02840591017143341, 'imputer_strategy_num': 'median', 'imputer_strategy_cat': 'most_frequent', 'scaler': 'robust', 'min_frequency': 0.5111482178030036}. Best is trial 0 with value: 0.038484871795970155.\n",
      "[I 2025-05-14 16:43:17,829] Trial 184 finished with value: 0.038484871795970155 and parameters: {'criterion': 'entropy', 'splitter': 'random', 'max_depth': 8, 'min_samples_split': 18, 'min_samples_leaf': 12, 'min_weight_fraction_leaf': 0.30134339986302694, 'max_features': 'log2', 'max_leaf_nodes': 10, 'min_impurity_decrease': 0.0002812980338621603, 'class_weight': None, 'ccp_alpha': 0.025452923329534437, 'imputer_strategy_num': 'median', 'imputer_strategy_cat': 'most_frequent', 'scaler': 'robust', 'min_frequency': 0.4682733577687097}. Best is trial 0 with value: 0.038484871795970155.\n",
      "[I 2025-05-14 16:43:18,573] Trial 185 finished with value: 0.038484871795970155 and parameters: {'criterion': 'entropy', 'splitter': 'best', 'max_depth': 23, 'min_samples_split': 19, 'min_samples_leaf': 7, 'min_weight_fraction_leaf': 0.18835127177874433, 'max_features': 'log2', 'max_leaf_nodes': 9, 'min_impurity_decrease': 0.009270601780837414, 'class_weight': None, 'ccp_alpha': 0.005873048381891392, 'imputer_strategy_num': 'mean', 'imputer_strategy_cat': 'constant', 'scaler': 'robust', 'min_frequency': 0.9744779211385505}. Best is trial 0 with value: 0.038484871795970155.\n",
      "[I 2025-05-14 16:43:19,381] Trial 186 finished with value: 0.038484871795970155 and parameters: {'criterion': 'gini', 'splitter': 'random', 'max_depth': 3, 'min_samples_split': 20, 'min_samples_leaf': 3, 'min_weight_fraction_leaf': 0.23579616081239704, 'max_features': None, 'max_leaf_nodes': 11, 'min_impurity_decrease': 0.021783082606434346, 'class_weight': 'balanced', 'ccp_alpha': 0.018184334214576416, 'imputer_strategy_num': 'median', 'imputer_strategy_cat': 'most_frequent', 'scaler': 'minmax', 'min_frequency': 0.4937013336947067}. Best is trial 0 with value: 0.038484871795970155.\n",
      "[I 2025-05-14 16:43:20,104] Trial 187 finished with value: 0.038484871795970155 and parameters: {'criterion': 'entropy', 'splitter': 'best', 'max_depth': 4, 'min_samples_split': 18, 'min_samples_leaf': 4, 'min_weight_fraction_leaf': 0.17405044208073825, 'max_features': 'sqrt', 'max_leaf_nodes': 21, 'min_impurity_decrease': 0.01239876199441465, 'class_weight': 'balanced', 'ccp_alpha': 0.036337500590224385, 'imputer_strategy_num': 'mean', 'imputer_strategy_cat': 'constant', 'scaler': 'standard', 'min_frequency': 0.7852817636177121}. Best is trial 0 with value: 0.038484871795970155.\n",
      "[I 2025-05-14 16:43:20,818] Trial 188 finished with value: 0.038484871795970155 and parameters: {'criterion': 'log_loss', 'splitter': 'random', 'max_depth': 49, 'min_samples_split': 9, 'min_samples_leaf': 18, 'min_weight_fraction_leaf': 0.2430628762242139, 'max_features': 'log2', 'max_leaf_nodes': 22, 'min_impurity_decrease': 0.026160299615431263, 'class_weight': None, 'ccp_alpha': 0.04944477630282682, 'imputer_strategy_num': 'mean', 'imputer_strategy_cat': 'constant', 'scaler': 'robust', 'min_frequency': 0.21547509837688156}. Best is trial 0 with value: 0.038484871795970155.\n",
      "[I 2025-05-14 16:43:21,521] Trial 189 finished with value: 0.038484871795970155 and parameters: {'criterion': 'entropy', 'splitter': 'best', 'max_depth': 24, 'min_samples_split': 19, 'min_samples_leaf': 1, 'min_weight_fraction_leaf': 0.27113846379277073, 'max_features': 'sqrt', 'max_leaf_nodes': 45, 'min_impurity_decrease': 0.0322053790614926, 'class_weight': 'balanced', 'ccp_alpha': 0.02439647353913094, 'imputer_strategy_num': 'mean', 'imputer_strategy_cat': 'most_frequent', 'scaler': 'standard', 'min_frequency': 0.8147180769675559}. Best is trial 0 with value: 0.038484871795970155.\n",
      "[I 2025-05-14 16:43:22,293] Trial 190 finished with value: 0.038484871795970155 and parameters: {'criterion': 'log_loss', 'splitter': 'random', 'max_depth': 7, 'min_samples_split': 15, 'min_samples_leaf': 15, 'min_weight_fraction_leaf': 0.38206316041240723, 'max_features': 'log2', 'max_leaf_nodes': 15, 'min_impurity_decrease': 0.00719754172556279, 'class_weight': 'balanced', 'ccp_alpha': 0.027505554408874793, 'imputer_strategy_num': 'median', 'imputer_strategy_cat': 'constant', 'scaler': 'minmax', 'min_frequency': 0.25395649537944265}. Best is trial 0 with value: 0.038484871795970155.\n",
      "[I 2025-05-14 16:43:23,017] Trial 191 finished with value: 0.038484871795970155 and parameters: {'criterion': 'gini', 'splitter': 'best', 'max_depth': 27, 'min_samples_split': 17, 'min_samples_leaf': 16, 'min_weight_fraction_leaf': 0.12762582745301868, 'max_features': None, 'max_leaf_nodes': 9, 'min_impurity_decrease': 0.02376540170924067, 'class_weight': 'balanced', 'ccp_alpha': 0.001920149388657456, 'imputer_strategy_num': 'mean', 'imputer_strategy_cat': 'constant', 'scaler': 'standard', 'min_frequency': 0.7329931639266585}. Best is trial 0 with value: 0.038484871795970155.\n",
      "[I 2025-05-14 16:43:23,787] Trial 192 finished with value: 0.038484871795970155 and parameters: {'criterion': 'gini', 'splitter': 'best', 'max_depth': 19, 'min_samples_split': 18, 'min_samples_leaf': 14, 'min_weight_fraction_leaf': 0.10957656961152125, 'max_features': None, 'max_leaf_nodes': 19, 'min_impurity_decrease': 0.030251239734093587, 'class_weight': 'balanced', 'ccp_alpha': 0.0008872436303336353, 'imputer_strategy_num': 'mean', 'imputer_strategy_cat': 'constant', 'scaler': 'standard', 'min_frequency': 0.959636973210426}. Best is trial 0 with value: 0.038484871795970155.\n",
      "[I 2025-05-14 16:43:24,518] Trial 193 finished with value: 0.038484871795970155 and parameters: {'criterion': 'gini', 'splitter': 'best', 'max_depth': 27, 'min_samples_split': 12, 'min_samples_leaf': 6, 'min_weight_fraction_leaf': 0.10197074823681582, 'max_features': None, 'max_leaf_nodes': 9, 'min_impurity_decrease': 0.024688350948139294, 'class_weight': 'balanced', 'ccp_alpha': 0.002688077325390316, 'imputer_strategy_num': 'mean', 'imputer_strategy_cat': 'constant', 'scaler': 'standard', 'min_frequency': 0.6543143128632861}. Best is trial 0 with value: 0.038484871795970155.\n",
      "[I 2025-05-14 16:43:25,269] Trial 194 finished with value: 0.038484871795970155 and parameters: {'criterion': 'gini', 'splitter': 'best', 'max_depth': 20, 'min_samples_split': 19, 'min_samples_leaf': 17, 'min_weight_fraction_leaf': 0.2821036444996155, 'max_features': None, 'max_leaf_nodes': 14, 'min_impurity_decrease': 0.024059585615385647, 'class_weight': 'balanced', 'ccp_alpha': 0.007508787135146322, 'imputer_strategy_num': 'mean', 'imputer_strategy_cat': 'constant', 'scaler': 'standard', 'min_frequency': 0.6961349640219096}. Best is trial 0 with value: 0.038484871795970155.\n",
      "[I 2025-05-14 16:43:26,045] Trial 195 finished with value: 0.038484871795970155 and parameters: {'criterion': 'gini', 'splitter': 'best', 'max_depth': 10, 'min_samples_split': 17, 'min_samples_leaf': 11, 'min_weight_fraction_leaf': 0.44553156993075543, 'max_features': None, 'max_leaf_nodes': 47, 'min_impurity_decrease': 0.01649518657966706, 'class_weight': 'balanced', 'ccp_alpha': 0.03128784375929219, 'imputer_strategy_num': 'mean', 'imputer_strategy_cat': 'constant', 'scaler': 'robust', 'min_frequency': 0.7604942781725204}. Best is trial 0 with value: 0.038484871795970155.\n",
      "[I 2025-05-14 16:43:26,724] Trial 196 finished with value: 0.038484871795970155 and parameters: {'criterion': 'entropy', 'splitter': 'best', 'max_depth': 37, 'min_samples_split': 8, 'min_samples_leaf': 8, 'min_weight_fraction_leaf': 0.15803954554147445, 'max_features': 'sqrt', 'max_leaf_nodes': 12, 'min_impurity_decrease': 0.02245706113640049, 'class_weight': None, 'ccp_alpha': 0.010910237378053004, 'imputer_strategy_num': 'mean', 'imputer_strategy_cat': 'constant', 'scaler': 'standard', 'min_frequency': 0.6174685556341128}. Best is trial 0 with value: 0.038484871795970155.\n",
      "[I 2025-05-14 16:43:27,388] Trial 197 finished with value: 0.038484871795970155 and parameters: {'criterion': 'log_loss', 'splitter': 'random', 'max_depth': None, 'min_samples_split': 18, 'min_samples_leaf': 10, 'min_weight_fraction_leaf': 0.07232118705262632, 'max_features': 'log2', 'max_leaf_nodes': 6, 'min_impurity_decrease': 0.04472778100923437, 'class_weight': 'balanced', 'ccp_alpha': 0.03964816212517436, 'imputer_strategy_num': 'mean', 'imputer_strategy_cat': 'constant', 'scaler': 'minmax', 'min_frequency': 0.7154122108285097}. Best is trial 0 with value: 0.038484871795970155.\n",
      "[I 2025-05-14 16:43:28,354] Trial 198 finished with value: 0.038484871795970155 and parameters: {'criterion': 'gini', 'splitter': 'best', 'max_depth': 21, 'min_samples_split': 19, 'min_samples_leaf': 13, 'min_weight_fraction_leaf': 0.1215545698030749, 'max_features': None, 'max_leaf_nodes': 44, 'min_impurity_decrease': 0.038314389789360886, 'class_weight': 'balanced', 'ccp_alpha': 0.0032257530801097075, 'imputer_strategy_num': 'median', 'imputer_strategy_cat': 'most_frequent', 'scaler': 'robust', 'min_frequency': 0.11767509217613564}. Best is trial 0 with value: 0.038484871795970155.\n",
      "[I 2025-05-14 16:43:29,047] Trial 199 finished with value: 0.038484871795970155 and parameters: {'criterion': 'entropy', 'splitter': 'random', 'max_depth': 27, 'min_samples_split': 16, 'min_samples_leaf': 5, 'min_weight_fraction_leaf': 0.35254853714060047, 'max_features': 'sqrt', 'max_leaf_nodes': 42, 'min_impurity_decrease': 0.0036087907489025916, 'class_weight': 'balanced', 'ccp_alpha': 0.020366884358277836, 'imputer_strategy_num': 'mean', 'imputer_strategy_cat': 'constant', 'scaler': 'standard', 'min_frequency': 0.542360370733416}. Best is trial 0 with value: 0.038484871795970155.\n",
      "[I 2025-05-14 16:43:29,772] Trial 200 finished with value: 0.038484871795970155 and parameters: {'criterion': 'log_loss', 'splitter': 'best', 'max_depth': 12, 'min_samples_split': 20, 'min_samples_leaf': 2, 'min_weight_fraction_leaf': 0.13635202618172185, 'max_features': 'log2', 'max_leaf_nodes': 46, 'min_impurity_decrease': 0.028541946373606193, 'class_weight': None, 'ccp_alpha': 0.04810543827307939, 'imputer_strategy_num': 'mean', 'imputer_strategy_cat': 'constant', 'scaler': 'robust', 'min_frequency': 0.5994803896074021}. Best is trial 0 with value: 0.038484871795970155.\n",
      "[I 2025-05-14 16:43:30,488] Trial 201 finished with value: 0.038484871795970155 and parameters: {'criterion': 'log_loss', 'splitter': 'best', 'max_depth': 6, 'min_samples_split': 10, 'min_samples_leaf': 3, 'min_weight_fraction_leaf': 0.22142595941731968, 'max_features': 'log2', 'max_leaf_nodes': 33, 'min_impurity_decrease': 0.010229458188809519, 'class_weight': 'balanced', 'ccp_alpha': 0.0014641796253327018, 'imputer_strategy_num': 'mean', 'imputer_strategy_cat': 'constant', 'scaler': 'robust', 'min_frequency': 0.6421960837496099}. Best is trial 0 with value: 0.038484871795970155.\n",
      "[I 2025-05-14 16:43:31,209] Trial 202 finished with value: 0.038484871795970155 and parameters: {'criterion': 'log_loss', 'splitter': 'best', 'max_depth': 26, 'min_samples_split': 10, 'min_samples_leaf': 4, 'min_weight_fraction_leaf': 0.24917414847692188, 'max_features': 'log2', 'max_leaf_nodes': 40, 'min_impurity_decrease': 0.013280482541361948, 'class_weight': 'balanced', 'ccp_alpha': 0.04039199695803822, 'imputer_strategy_num': 'mean', 'imputer_strategy_cat': 'constant', 'scaler': 'robust', 'min_frequency': 0.34942360522964944}. Best is trial 0 with value: 0.038484871795970155.\n",
      "[I 2025-05-14 16:43:31,929] Trial 203 finished with value: 0.038484871795970155 and parameters: {'criterion': 'log_loss', 'splitter': 'best', 'max_depth': 26, 'min_samples_split': 12, 'min_samples_leaf': 2, 'min_weight_fraction_leaf': 0.4731899790885091, 'max_features': 'log2', 'max_leaf_nodes': 50, 'min_impurity_decrease': 0.00838819883405856, 'class_weight': 'balanced', 'ccp_alpha': 0.041419330661816633, 'imputer_strategy_num': 'mean', 'imputer_strategy_cat': 'constant', 'scaler': 'robust', 'min_frequency': 0.325066278298302}. Best is trial 0 with value: 0.038484871795970155.\n",
      "[I 2025-05-14 16:43:32,694] Trial 204 finished with value: 0.038484871795970155 and parameters: {'criterion': 'log_loss', 'splitter': 'best', 'max_depth': 17, 'min_samples_split': 17, 'min_samples_leaf': 11, 'min_weight_fraction_leaf': 0.0911233623452091, 'max_features': 'log2', 'max_leaf_nodes': 37, 'min_impurity_decrease': 0.012028948963264873, 'class_weight': 'balanced', 'ccp_alpha': 0.039060460568882766, 'imputer_strategy_num': 'mean', 'imputer_strategy_cat': 'constant', 'scaler': 'robust', 'min_frequency': 0.3023689357968938}. Best is trial 0 with value: 0.038484871795970155.\n",
      "[I 2025-05-14 16:43:33,369] Trial 205 finished with value: 0.038484871795970155 and parameters: {'criterion': 'log_loss', 'splitter': 'random', 'max_depth': 32, 'min_samples_split': 6, 'min_samples_leaf': 3, 'min_weight_fraction_leaf': 0.23745637714776865, 'max_features': 'sqrt', 'max_leaf_nodes': 37, 'min_impurity_decrease': 0.019671666516503164, 'class_weight': 'balanced', 'ccp_alpha': 0.038042590738920586, 'imputer_strategy_num': 'mean', 'imputer_strategy_cat': 'constant', 'scaler': 'minmax', 'min_frequency': 0.4317611402955713}. Best is trial 0 with value: 0.038484871795970155.\n",
      "[I 2025-05-14 16:43:34,182] Trial 206 finished with value: 0.038484871795970155 and parameters: {'criterion': 'entropy', 'splitter': 'best', 'max_depth': 14, 'min_samples_split': 11, 'min_samples_leaf': 7, 'min_weight_fraction_leaf': 0.20665482208192196, 'max_features': 'log2', 'max_leaf_nodes': 39, 'min_impurity_decrease': 0.009284656113682037, 'class_weight': 'balanced', 'ccp_alpha': 0.04207559880069385, 'imputer_strategy_num': 'median', 'imputer_strategy_cat': 'most_frequent', 'scaler': 'standard', 'min_frequency': 0.38619916483437067}. Best is trial 0 with value: 0.038484871795970155.\n",
      "[I 2025-05-14 16:43:34,925] Trial 207 finished with value: 0.038484871795970155 and parameters: {'criterion': 'gini', 'splitter': 'random', 'max_depth': 16, 'min_samples_split': 7, 'min_samples_leaf': 19, 'min_weight_fraction_leaf': 0.26678802909288557, 'max_features': None, 'max_leaf_nodes': 7, 'min_impurity_decrease': 0.01109216916816198, 'class_weight': 'balanced', 'ccp_alpha': 5.890372599215346e-05, 'imputer_strategy_num': 'mean', 'imputer_strategy_cat': 'constant', 'scaler': 'robust', 'min_frequency': 0.15503958617555083}. Best is trial 0 with value: 0.038484871795970155.\n",
      "[I 2025-05-14 16:43:35,613] Trial 208 finished with value: 0.038484871795970155 and parameters: {'criterion': 'log_loss', 'splitter': 'best', 'max_depth': 47, 'min_samples_split': 9, 'min_samples_leaf': 12, 'min_weight_fraction_leaf': 0.07901479458830576, 'max_features': 'sqrt', 'max_leaf_nodes': 43, 'min_impurity_decrease': 0.021088884499254175, 'class_weight': None, 'ccp_alpha': 0.04582376441989788, 'imputer_strategy_num': 'mean', 'imputer_strategy_cat': 'constant', 'scaler': 'standard', 'min_frequency': 0.07044884173860376}. Best is trial 0 with value: 0.038484871795970155.\n",
      "[I 2025-05-14 16:43:36,284] Trial 209 finished with value: 0.038484871795970155 and parameters: {'criterion': 'entropy', 'splitter': 'random', 'max_depth': 7, 'min_samples_split': 5, 'min_samples_leaf': 4, 'min_weight_fraction_leaf': 0.1148604117375428, 'max_features': 'log2', 'max_leaf_nodes': 48, 'min_impurity_decrease': 0.03342986065588624, 'class_weight': 'balanced', 'ccp_alpha': 0.03378222405582477, 'imputer_strategy_num': 'mean', 'imputer_strategy_cat': 'constant', 'scaler': 'minmax', 'min_frequency': 0.28252215039097384}. Best is trial 0 with value: 0.038484871795970155.\n",
      "[I 2025-05-14 16:43:37,175] Trial 210 finished with value: 0.038484871795970155 and parameters: {'criterion': 'log_loss', 'splitter': 'best', 'max_depth': 41, 'min_samples_split': 20, 'min_samples_leaf': 15, 'min_weight_fraction_leaf': 0.1469880111444668, 'max_features': 'sqrt', 'max_leaf_nodes': 20, 'min_impurity_decrease': 0.02694652365056057, 'class_weight': 'balanced', 'ccp_alpha': 0.004858096188064917, 'imputer_strategy_num': 'median', 'imputer_strategy_cat': 'most_frequent', 'scaler': 'robust', 'min_frequency': 0.9437117444953078}. Best is trial 0 with value: 0.038484871795970155.\n",
      "[I 2025-05-14 16:43:37,845] Trial 211 finished with value: 0.038484871795970155 and parameters: {'criterion': 'entropy', 'splitter': 'best', 'max_depth': 11, 'min_samples_split': 13, 'min_samples_leaf': 14, 'min_weight_fraction_leaf': 0.3015014154427402, 'max_features': 'sqrt', 'max_leaf_nodes': 26, 'min_impurity_decrease': 0.038731158174070135, 'class_weight': 'balanced', 'ccp_alpha': 0.018928329246552085, 'imputer_strategy_num': 'mean', 'imputer_strategy_cat': 'constant', 'scaler': 'minmax', 'min_frequency': 0.2511173299246353}. Best is trial 0 with value: 0.038484871795970155.\n",
      "[I 2025-05-14 16:43:38,526] Trial 212 finished with value: 0.038484871795970155 and parameters: {'criterion': 'entropy', 'splitter': 'best', 'max_depth': 11, 'min_samples_split': 11, 'min_samples_leaf': 16, 'min_weight_fraction_leaf': 0.3094099575025893, 'max_features': 'sqrt', 'max_leaf_nodes': 7, 'min_impurity_decrease': 0.0017913734881391398, 'class_weight': 'balanced', 'ccp_alpha': 0.035173019629220585, 'imputer_strategy_num': 'mean', 'imputer_strategy_cat': 'constant', 'scaler': 'minmax', 'min_frequency': 0.19089653366476872}. Best is trial 0 with value: 0.038484871795970155.\n",
      "[I 2025-05-14 16:43:39,198] Trial 213 finished with value: 0.038484871795970155 and parameters: {'criterion': 'entropy', 'splitter': 'best', 'max_depth': 22, 'min_samples_split': 11, 'min_samples_leaf': 15, 'min_weight_fraction_leaf': 0.3672883555414509, 'max_features': 'sqrt', 'max_leaf_nodes': 9, 'min_impurity_decrease': 0.03566785659801035, 'class_weight': 'balanced', 'ccp_alpha': 0.03684369399561014, 'imputer_strategy_num': 'mean', 'imputer_strategy_cat': 'constant', 'scaler': 'minmax', 'min_frequency': 0.22992798982611706}. Best is trial 0 with value: 0.038484871795970155.\n",
      "[I 2025-05-14 16:43:39,885] Trial 214 finished with value: 0.038484871795970155 and parameters: {'criterion': 'entropy', 'splitter': 'best', 'max_depth': 35, 'min_samples_split': 16, 'min_samples_leaf': 11, 'min_weight_fraction_leaf': 0.33477338051869576, 'max_features': 'sqrt', 'max_leaf_nodes': 30, 'min_impurity_decrease': 0.025431979172998123, 'class_weight': 'balanced', 'ccp_alpha': 0.020397036967744506, 'imputer_strategy_num': 'mean', 'imputer_strategy_cat': 'constant', 'scaler': 'minmax', 'min_frequency': 0.8668988878996048}. Best is trial 0 with value: 0.038484871795970155.\n",
      "[I 2025-05-14 16:43:40,562] Trial 215 finished with value: 0.038484871795970155 and parameters: {'criterion': 'entropy', 'splitter': 'best', 'max_depth': 34, 'min_samples_split': 14, 'min_samples_leaf': 9, 'min_weight_fraction_leaf': 0.3202545191257683, 'max_features': 'log2', 'max_leaf_nodes': 29, 'min_impurity_decrease': 0.0476356591690428, 'class_weight': 'balanced', 'ccp_alpha': 0.022620600173201996, 'imputer_strategy_num': 'mean', 'imputer_strategy_cat': 'constant', 'scaler': 'standard', 'min_frequency': 0.6757694706698278}. Best is trial 0 with value: 0.038484871795970155.\n",
      "[I 2025-05-14 16:43:41,224] Trial 216 finished with value: 0.038484871795970155 and parameters: {'criterion': 'entropy', 'splitter': 'random', 'max_depth': 2, 'min_samples_split': 12, 'min_samples_leaf': 18, 'min_weight_fraction_leaf': 0.2563603651639928, 'max_features': 'sqrt', 'max_leaf_nodes': 7, 'min_impurity_decrease': 0.014477288426306308, 'class_weight': None, 'ccp_alpha': 0.01961552428486579, 'imputer_strategy_num': 'mean', 'imputer_strategy_cat': 'constant', 'scaler': 'minmax', 'min_frequency': 0.2059324228295303}. Best is trial 0 with value: 0.038484871795970155.\n",
      "[I 2025-05-14 16:43:42,185] Trial 217 finished with value: 0.038484871795970155 and parameters: {'criterion': 'gini', 'splitter': 'best', 'max_depth': 42, 'min_samples_split': 13, 'min_samples_leaf': 15, 'min_weight_fraction_leaf': 0.1689352700100104, 'max_features': None, 'max_leaf_nodes': 38, 'min_impurity_decrease': 0.010551190082318213, 'class_weight': 'balanced', 'ccp_alpha': 0.04733013224781598, 'imputer_strategy_num': 'median', 'imputer_strategy_cat': 'most_frequent', 'scaler': 'robust', 'min_frequency': 0.05125636840878586}. Best is trial 0 with value: 0.038484871795970155.\n",
      "[I 2025-05-14 16:43:42,864] Trial 218 finished with value: 0.038484871795970155 and parameters: {'criterion': 'log_loss', 'splitter': 'random', 'max_depth': 18, 'min_samples_split': 18, 'min_samples_leaf': 1, 'min_weight_fraction_leaf': 0.18294667250580046, 'max_features': 'log2', 'max_leaf_nodes': 49, 'min_impurity_decrease': 0.03692846249292091, 'class_weight': 'balanced', 'ccp_alpha': 0.009629072090385661, 'imputer_strategy_num': 'mean', 'imputer_strategy_cat': 'constant', 'scaler': 'standard', 'min_frequency': 0.17449403485973802}. Best is trial 0 with value: 0.038484871795970155.\n",
      "[I 2025-05-14 16:43:43,533] Trial 219 finished with value: 0.038484871795970155 and parameters: {'criterion': 'entropy', 'splitter': 'best', 'max_depth': 13, 'min_samples_split': 12, 'min_samples_leaf': 6, 'min_weight_fraction_leaf': 0.41726665989362777, 'max_features': 'sqrt', 'max_leaf_nodes': 31, 'min_impurity_decrease': 0.0053587302882833684, 'class_weight': None, 'ccp_alpha': 0.011925065279982596, 'imputer_strategy_num': 'mean', 'imputer_strategy_cat': 'constant', 'scaler': 'minmax', 'min_frequency': 0.3587579241105799}. Best is trial 0 with value: 0.038484871795970155.\n",
      "[I 2025-05-14 16:43:44,249] Trial 220 finished with value: 0.038484871795970155 and parameters: {'criterion': 'log_loss', 'splitter': 'random', 'max_depth': 15, 'min_samples_split': 19, 'min_samples_leaf': 3, 'min_weight_fraction_leaf': 0.3466632775028357, 'max_features': 'log2', 'max_leaf_nodes': 10, 'min_impurity_decrease': 0.018463576536481906, 'class_weight': 'balanced', 'ccp_alpha': 0.016595192876125108, 'imputer_strategy_num': 'mean', 'imputer_strategy_cat': 'constant', 'scaler': 'robust', 'min_frequency': 0.5743744042761577}. Best is trial 0 with value: 0.038484871795970155.\n",
      "[I 2025-05-14 16:43:44,931] Trial 221 finished with value: 0.038484871795970155 and parameters: {'criterion': 'entropy', 'splitter': 'best', 'max_depth': 2, 'min_samples_split': 10, 'min_samples_leaf': 9, 'min_weight_fraction_leaf': 0.10082068260543793, 'max_features': 'sqrt', 'max_leaf_nodes': 13, 'min_impurity_decrease': 0.040360940230858185, 'class_weight': 'balanced', 'ccp_alpha': 0.029472328763204, 'imputer_strategy_num': 'mean', 'imputer_strategy_cat': 'constant', 'scaler': 'minmax', 'min_frequency': 0.13675222948146065}. Best is trial 0 with value: 0.038484871795970155.\n",
      "[I 2025-05-14 16:43:45,603] Trial 222 finished with value: 0.038484871795970155 and parameters: {'criterion': 'entropy', 'splitter': 'best', 'max_depth': 27, 'min_samples_split': 15, 'min_samples_leaf': 8, 'min_weight_fraction_leaf': 0.477964203775208, 'max_features': 'sqrt', 'max_leaf_nodes': 25, 'min_impurity_decrease': 0.020875665018975954, 'class_weight': 'balanced', 'ccp_alpha': 0.0499425658163349, 'imputer_strategy_num': 'mean', 'imputer_strategy_cat': 'constant', 'scaler': 'minmax', 'min_frequency': 0.22281478016382206}. Best is trial 0 with value: 0.038484871795970155.\n",
      "[I 2025-05-14 16:43:46,322] Trial 223 finished with value: 0.038484871795970155 and parameters: {'criterion': 'entropy', 'splitter': 'best', 'max_depth': 23, 'min_samples_split': 15, 'min_samples_leaf': 8, 'min_weight_fraction_leaf': 0.2930241571401062, 'max_features': 'sqrt', 'max_leaf_nodes': 11, 'min_impurity_decrease': 0.017509363683918307, 'class_weight': 'balanced', 'ccp_alpha': 0.00838917026277488, 'imputer_strategy_num': 'mean', 'imputer_strategy_cat': 'constant', 'scaler': 'minmax', 'min_frequency': 0.1857633906870985}. Best is trial 0 with value: 0.038484871795970155.\n",
      "[I 2025-05-14 16:43:46,996] Trial 224 finished with value: 0.038484871795970155 and parameters: {'criterion': 'entropy', 'splitter': 'best', 'max_depth': 4, 'min_samples_split': 14, 'min_samples_leaf': 7, 'min_weight_fraction_leaf': 0.46214277185626423, 'max_features': 'sqrt', 'max_leaf_nodes': 23, 'min_impurity_decrease': 0.019801833735531658, 'class_weight': 'balanced', 'ccp_alpha': 0.04398536085902989, 'imputer_strategy_num': 'mean', 'imputer_strategy_cat': 'constant', 'scaler': 'minmax', 'min_frequency': 0.9300936669416046}. Best is trial 0 with value: 0.038484871795970155.\n",
      "[I 2025-05-14 16:43:47,812] Trial 225 finished with value: 0.038484871795970155 and parameters: {'criterion': 'entropy', 'splitter': 'best', 'max_depth': 30, 'min_samples_split': 8, 'min_samples_leaf': 10, 'min_weight_fraction_leaf': 0.23207214221721006, 'max_features': 'sqrt', 'max_leaf_nodes': 14, 'min_impurity_decrease': 0.00824720453052706, 'class_weight': 'balanced', 'ccp_alpha': 0.03138964337250442, 'imputer_strategy_num': 'median', 'imputer_strategy_cat': 'most_frequent', 'scaler': 'standard', 'min_frequency': 0.2642665883732157}. Best is trial 0 with value: 0.038484871795970155.\n",
      "[I 2025-05-14 16:43:48,526] Trial 226 finished with value: 0.038484871795970155 and parameters: {'criterion': 'gini', 'splitter': 'random', 'max_depth': 29, 'min_samples_split': 4, 'min_samples_leaf': 20, 'min_weight_fraction_leaf': 0.39794926023688426, 'max_features': None, 'max_leaf_nodes': 25, 'min_impurity_decrease': 0.030888325723810815, 'class_weight': 'balanced', 'ccp_alpha': 0.033562853326961024, 'imputer_strategy_num': 'mean', 'imputer_strategy_cat': 'constant', 'scaler': 'minmax', 'min_frequency': 0.02606518830517752}. Best is trial 0 with value: 0.038484871795970155.\n",
      "[I 2025-05-14 16:43:49,196] Trial 227 finished with value: 0.038484871795970155 and parameters: {'criterion': 'log_loss', 'splitter': 'best', 'max_depth': 7, 'min_samples_split': 16, 'min_samples_leaf': 14, 'min_weight_fraction_leaf': 0.49963409352768506, 'max_features': 'sqrt', 'max_leaf_nodes': 42, 'min_impurity_decrease': 0.023046715124004684, 'class_weight': None, 'ccp_alpha': 0.02142014410669811, 'imputer_strategy_num': 'mean', 'imputer_strategy_cat': 'constant', 'scaler': 'standard', 'min_frequency': 0.8977899500847739}. Best is trial 0 with value: 0.038484871795970155.\n",
      "[I 2025-05-14 16:43:49,921] Trial 228 finished with value: 0.038484871795970155 and parameters: {'criterion': 'entropy', 'splitter': 'random', 'max_depth': 38, 'min_samples_split': 17, 'min_samples_leaf': 12, 'min_weight_fraction_leaf': 0.029665689555995356, 'max_features': 'log2', 'max_leaf_nodes': 35, 'min_impurity_decrease': 0.01887419012137156, 'class_weight': 'balanced', 'ccp_alpha': 0.02625470576737493, 'imputer_strategy_num': 'mean', 'imputer_strategy_cat': 'constant', 'scaler': 'robust', 'min_frequency': 0.20349664561142528}. Best is trial 0 with value: 0.038484871795970155.\n",
      "[I 2025-05-14 16:43:50,778] Trial 229 finished with value: 0.038484871795970155 and parameters: {'criterion': 'log_loss', 'splitter': 'best', 'max_depth': 8, 'min_samples_split': 2, 'min_samples_leaf': 8, 'min_weight_fraction_leaf': 0.480683326786536, 'max_features': 'sqrt', 'max_leaf_nodes': 41, 'min_impurity_decrease': 0.007375637874140176, 'class_weight': 'balanced', 'ccp_alpha': 0.03284314036338462, 'imputer_strategy_num': 'median', 'imputer_strategy_cat': 'most_frequent', 'scaler': 'minmax', 'min_frequency': 0.16094967489843526}. Best is trial 0 with value: 0.038484871795970155.\n",
      "[I 2025-05-14 16:43:51,471] Trial 230 finished with value: 0.038484871795970155 and parameters: {'criterion': 'entropy', 'splitter': 'random', 'max_depth': 10, 'min_samples_split': 19, 'min_samples_leaf': 3, 'min_weight_fraction_leaf': 0.048981140482557556, 'max_features': 'log2', 'max_leaf_nodes': 43, 'min_impurity_decrease': 0.04259469728612802, 'class_weight': 'balanced', 'ccp_alpha': 0.018877396667690217, 'imputer_strategy_num': 'mean', 'imputer_strategy_cat': 'constant', 'scaler': 'standard', 'min_frequency': 0.9729985161286145}. Best is trial 0 with value: 0.038484871795970155.\n",
      "[I 2025-05-14 16:43:52,152] Trial 231 finished with value: 0.038484871795970155 and parameters: {'criterion': 'entropy', 'splitter': 'best', 'max_depth': 15, 'min_samples_split': 19, 'min_samples_leaf': 14, 'min_weight_fraction_leaf': 0.2172559537995088, 'max_features': 'sqrt', 'max_leaf_nodes': 17, 'min_impurity_decrease': 0.029009274960421938, 'class_weight': 'balanced', 'ccp_alpha': 0.013973483717737128, 'imputer_strategy_num': 'mean', 'imputer_strategy_cat': 'constant', 'scaler': 'minmax', 'min_frequency': 0.16516297685624995}. Best is trial 0 with value: 0.038484871795970155.\n",
      "[I 2025-05-14 16:43:52,828] Trial 232 finished with value: 0.038484871795970155 and parameters: {'criterion': 'entropy', 'splitter': 'best', 'max_depth': 11, 'min_samples_split': 20, 'min_samples_leaf': 11, 'min_weight_fraction_leaf': 0.321985792636465, 'max_features': 'sqrt', 'max_leaf_nodes': 38, 'min_impurity_decrease': 0.02762634306710545, 'class_weight': 'balanced', 'ccp_alpha': 0.017984928459274727, 'imputer_strategy_num': 'mean', 'imputer_strategy_cat': 'constant', 'scaler': 'minmax', 'min_frequency': 0.7347087393624274}. Best is trial 0 with value: 0.038484871795970155.\n",
      "[I 2025-05-14 16:43:53,501] Trial 233 finished with value: 0.038484871795970155 and parameters: {'criterion': 'entropy', 'splitter': 'best', 'max_depth': 48, 'min_samples_split': 18, 'min_samples_leaf': 15, 'min_weight_fraction_leaf': 0.3329597708172728, 'max_features': 'sqrt', 'max_leaf_nodes': 46, 'min_impurity_decrease': 0.030301327101402917, 'class_weight': 'balanced', 'ccp_alpha': 0.01600335121240958, 'imputer_strategy_num': 'mean', 'imputer_strategy_cat': 'constant', 'scaler': 'minmax', 'min_frequency': 0.2446754627524052}. Best is trial 0 with value: 0.038484871795970155.\n",
      "[I 2025-05-14 16:43:54,187] Trial 234 finished with value: 0.038484871795970155 and parameters: {'criterion': 'entropy', 'splitter': 'best', 'max_depth': 2, 'min_samples_split': 19, 'min_samples_leaf': 14, 'min_weight_fraction_leaf': 0.31218002179951354, 'max_features': 'sqrt', 'max_leaf_nodes': 9, 'min_impurity_decrease': 0.044030798885686305, 'class_weight': 'balanced', 'ccp_alpha': 0.03238233426279315, 'imputer_strategy_num': 'mean', 'imputer_strategy_cat': 'constant', 'scaler': 'minmax', 'min_frequency': 0.14818683295909504}. Best is trial 0 with value: 0.038484871795970155.\n",
      "[I 2025-05-14 16:43:54,996] Trial 235 finished with value: 0.038484871795970155 and parameters: {'criterion': 'gini', 'splitter': 'best', 'max_depth': 5, 'min_samples_split': 20, 'min_samples_leaf': 13, 'min_weight_fraction_leaf': 0.38642435910911604, 'max_features': None, 'max_leaf_nodes': 37, 'min_impurity_decrease': 0.032255880104848866, 'class_weight': None, 'ccp_alpha': 0.036000521853090224, 'imputer_strategy_num': 'mean', 'imputer_strategy_cat': 'constant', 'scaler': 'robust', 'min_frequency': 0.40807131464856466}. Best is trial 0 with value: 0.038484871795970155.\n",
      "[I 2025-05-14 16:43:55,680] Trial 236 finished with value: 0.038484871795970155 and parameters: {'criterion': 'log_loss', 'splitter': 'best', 'max_depth': 45, 'min_samples_split': 3, 'min_samples_leaf': 2, 'min_weight_fraction_leaf': 0.36017039063686684, 'max_features': 'sqrt', 'max_leaf_nodes': 34, 'min_impurity_decrease': 0.029717982891605908, 'class_weight': 'balanced', 'ccp_alpha': 0.01307470970710363, 'imputer_strategy_num': 'mean', 'imputer_strategy_cat': 'constant', 'scaler': 'minmax', 'min_frequency': 0.19513360004747932}. Best is trial 0 with value: 0.038484871795970155.\n",
      "[I 2025-05-14 16:43:56,484] Trial 237 finished with value: 0.038484871795970155 and parameters: {'criterion': 'entropy', 'splitter': 'random', 'max_depth': 26, 'min_samples_split': 18, 'min_samples_leaf': 13, 'min_weight_fraction_leaf': 0.0899184731050558, 'max_features': 'log2', 'max_leaf_nodes': 38, 'min_impurity_decrease': 0.009475260007600532, 'class_weight': 'balanced', 'ccp_alpha': 0.034819146086897616, 'imputer_strategy_num': 'median', 'imputer_strategy_cat': 'most_frequent', 'scaler': 'standard', 'min_frequency': 0.7055665988328554}. Best is trial 0 with value: 0.038484871795970155.\n",
      "[I 2025-05-14 16:43:57,218] Trial 238 finished with value: 0.038484871795970155 and parameters: {'criterion': 'log_loss', 'splitter': 'best', 'max_depth': 40, 'min_samples_split': 15, 'min_samples_leaf': 1, 'min_weight_fraction_leaf': 0.19448301783262456, 'max_features': 'sqrt', 'max_leaf_nodes': 29, 'min_impurity_decrease': 0.02216758599843853, 'class_weight': 'balanced', 'ccp_alpha': 0.017713217572808637, 'imputer_strategy_num': 'mean', 'imputer_strategy_cat': 'constant', 'scaler': 'robust', 'min_frequency': 0.1273945141434436}. Best is trial 0 with value: 0.038484871795970155.\n",
      "[I 2025-05-14 16:43:57,877] Trial 239 finished with value: 0.038484871795970155 and parameters: {'criterion': 'entropy', 'splitter': 'random', 'max_depth': 50, 'min_samples_split': 13, 'min_samples_leaf': 5, 'min_weight_fraction_leaf': 0.3390486833864466, 'max_features': 'log2', 'max_leaf_nodes': 27, 'min_impurity_decrease': 0.0010324738970848792, 'class_weight': None, 'ccp_alpha': 0.015243294848627393, 'imputer_strategy_num': 'mean', 'imputer_strategy_cat': 'constant', 'scaler': 'minmax', 'min_frequency': 0.8476841641285873}. Best is trial 0 with value: 0.038484871795970155.\n",
      "[I 2025-05-14 16:43:58,620] Trial 240 finished with value: 0.038484871795970155 and parameters: {'criterion': 'gini', 'splitter': 'best', 'max_depth': 27, 'min_samples_split': 17, 'min_samples_leaf': 17, 'min_weight_fraction_leaf': 0.4298156420061148, 'max_features': None, 'max_leaf_nodes': 32, 'min_impurity_decrease': 0.016107763745287867, 'class_weight': 'balanced', 'ccp_alpha': 0.030020072754444363, 'imputer_strategy_num': 'mean', 'imputer_strategy_cat': 'constant', 'scaler': 'standard', 'min_frequency': 0.21873977859424362}. Best is trial 0 with value: 0.038484871795970155.\n",
      "[I 2025-05-14 16:43:59,310] Trial 241 finished with value: 0.038484871795970155 and parameters: {'criterion': 'entropy', 'splitter': 'best', 'max_depth': 13, 'min_samples_split': 3, 'min_samples_leaf': 4, 'min_weight_fraction_leaf': 0.18148924645852335, 'max_features': 'sqrt', 'max_leaf_nodes': 24, 'min_impurity_decrease': 0.01523423583123308, 'class_weight': 'balanced', 'ccp_alpha': 0.0012679693127862009, 'imputer_strategy_num': 'mean', 'imputer_strategy_cat': 'constant', 'scaler': 'minmax', 'min_frequency': 0.44564787850978543}. Best is trial 0 with value: 0.038484871795970155.\n",
      "[I 2025-05-14 16:44:00,035] Trial 242 finished with value: 0.038484871795970155 and parameters: {'criterion': 'entropy', 'splitter': 'best', 'max_depth': 25, 'min_samples_split': 3, 'min_samples_leaf': 4, 'min_weight_fraction_leaf': 0.01152703574165164, 'max_features': 'sqrt', 'max_leaf_nodes': 34, 'min_impurity_decrease': 0.013914262090020443, 'class_weight': 'balanced', 'ccp_alpha': 0.006883871394477497, 'imputer_strategy_num': 'mean', 'imputer_strategy_cat': 'constant', 'scaler': 'minmax', 'min_frequency': 0.42431312023429957}. Best is trial 0 with value: 0.038484871795970155.\n",
      "[I 2025-05-14 16:44:00,722] Trial 243 finished with value: 0.038484871795970155 and parameters: {'criterion': 'entropy', 'splitter': 'best', 'max_depth': 17, 'min_samples_split': 2, 'min_samples_leaf': 11, 'min_weight_fraction_leaf': 0.16235772982456287, 'max_features': 'sqrt', 'max_leaf_nodes': 4, 'min_impurity_decrease': 0.011422326930849823, 'class_weight': 'balanced', 'ccp_alpha': 0.005923331803275054, 'imputer_strategy_num': 'mean', 'imputer_strategy_cat': 'constant', 'scaler': 'minmax', 'min_frequency': 0.10829902638019079}. Best is trial 0 with value: 0.038484871795970155.\n",
      "[I 2025-05-14 16:44:01,405] Trial 244 finished with value: 0.038484871795970155 and parameters: {'criterion': 'entropy', 'splitter': 'best', 'max_depth': 14, 'min_samples_split': 9, 'min_samples_leaf': 5, 'min_weight_fraction_leaf': 0.17125949524766357, 'max_features': 'sqrt', 'max_leaf_nodes': 2, 'min_impurity_decrease': 0.024490740267475494, 'class_weight': 'balanced', 'ccp_alpha': 0.0045136074068624745, 'imputer_strategy_num': 'mean', 'imputer_strategy_cat': 'constant', 'scaler': 'minmax', 'min_frequency': 0.399935003918143}. Best is trial 0 with value: 0.038484871795970155.\n",
      "[I 2025-05-14 16:44:02,247] Trial 245 finished with value: 0.038484871795970155 and parameters: {'criterion': 'log_loss', 'splitter': 'random', 'max_depth': 39, 'min_samples_split': 16, 'min_samples_leaf': 3, 'min_weight_fraction_leaf': 0.12897961721715473, 'max_features': 'sqrt', 'max_leaf_nodes': 3, 'min_impurity_decrease': 0.011682408565470074, 'class_weight': 'balanced', 'ccp_alpha': 0.0033409257357627405, 'imputer_strategy_num': 'median', 'imputer_strategy_cat': 'most_frequent', 'scaler': 'robust', 'min_frequency': 0.4891148593238468}. Best is trial 0 with value: 0.038484871795970155.\n",
      "[I 2025-05-14 16:44:02,925] Trial 246 finished with value: 0.038484871795970155 and parameters: {'criterion': 'entropy', 'splitter': 'best', 'max_depth': 28, 'min_samples_split': 2, 'min_samples_leaf': 10, 'min_weight_fraction_leaf': 0.15503235435269258, 'max_features': 'log2', 'max_leaf_nodes': 48, 'min_impurity_decrease': 0.012220497806225009, 'class_weight': 'balanced', 'ccp_alpha': 0.0019070077024367655, 'imputer_strategy_num': 'mean', 'imputer_strategy_cat': 'constant', 'scaler': 'minmax', 'min_frequency': 0.3340356854369161}. Best is trial 0 with value: 0.038484871795970155.\n",
      "[I 2025-05-14 16:44:03,620] Trial 247 finished with value: 0.038484871795970155 and parameters: {'criterion': 'entropy', 'splitter': 'best', 'max_depth': 44, 'min_samples_split': 19, 'min_samples_leaf': 4, 'min_weight_fraction_leaf': 0.06871674623605821, 'max_features': 'sqrt', 'max_leaf_nodes': 25, 'min_impurity_decrease': 0.01306947273868667, 'class_weight': 'balanced', 'ccp_alpha': 0.010192567651786586, 'imputer_strategy_num': 'mean', 'imputer_strategy_cat': 'constant', 'scaler': 'standard', 'min_frequency': 0.3857174986837586}. Best is trial 0 with value: 0.038484871795970155.\n",
      "[I 2025-05-14 16:44:04,373] Trial 248 finished with value: 0.038484871795970155 and parameters: {'criterion': 'log_loss', 'splitter': 'random', 'max_depth': 46, 'min_samples_split': 7, 'min_samples_leaf': 2, 'min_weight_fraction_leaf': 0.37785137102354316, 'max_features': 'log2', 'max_leaf_nodes': 40, 'min_impurity_decrease': 0.016707484277705683, 'class_weight': None, 'ccp_alpha': 4.7752932997215374e-05, 'imputer_strategy_num': 'mean', 'imputer_strategy_cat': 'constant', 'scaler': 'robust', 'min_frequency': 0.7962241888529225}. Best is trial 0 with value: 0.038484871795970155.\n",
      "[I 2025-05-14 16:44:05,186] Trial 249 finished with value: 0.038484871795970155 and parameters: {'criterion': 'gini', 'splitter': 'best', 'max_depth': 15, 'min_samples_split': 14, 'min_samples_leaf': 12, 'min_weight_fraction_leaf': 0.11805542228940605, 'max_features': 'sqrt', 'max_leaf_nodes': 7, 'min_impurity_decrease': 0.014505682110939727, 'class_weight': 'balanced', 'ccp_alpha': 0.007711800650131629, 'imputer_strategy_num': 'median', 'imputer_strategy_cat': 'most_frequent', 'scaler': 'minmax', 'min_frequency': 0.4577736974715346}. Best is trial 0 with value: 0.038484871795970155.\n",
      "[I 2025-05-14 16:44:05,878] Trial 250 finished with value: 0.038484871795970155 and parameters: {'criterion': 'entropy', 'splitter': 'random', 'max_depth': 16, 'min_samples_split': 6, 'min_samples_leaf': 3, 'min_weight_fraction_leaf': 0.10493225872246197, 'max_features': None, 'max_leaf_nodes': None, 'min_impurity_decrease': 0.025835322754016305, 'class_weight': 'balanced', 'ccp_alpha': 0.038851075663261535, 'imputer_strategy_num': 'mean', 'imputer_strategy_cat': 'constant', 'scaler': 'standard', 'min_frequency': 0.4776716874823135}. Best is trial 0 with value: 0.038484871795970155.\n",
      "[I 2025-05-14 16:44:06,610] Trial 251 finished with value: 0.038484871795970155 and parameters: {'criterion': 'log_loss', 'splitter': 'best', 'max_depth': 36, 'min_samples_split': 20, 'min_samples_leaf': 9, 'min_weight_fraction_leaf': 0.21079801122349148, 'max_features': 'log2', 'max_leaf_nodes': 30, 'min_impurity_decrease': 0.031154715437815086, 'class_weight': 'balanced', 'ccp_alpha': 0.030782337182502395, 'imputer_strategy_num': 'mean', 'imputer_strategy_cat': 'constant', 'scaler': 'robust', 'min_frequency': 0.3645860172636351}. Best is trial 0 with value: 0.038484871795970155.\n",
      "[I 2025-05-14 16:44:07,269] Trial 252 finished with value: 0.038484871795970155 and parameters: {'criterion': 'entropy', 'splitter': 'random', 'max_depth': 13, 'min_samples_split': 19, 'min_samples_leaf': 19, 'min_weight_fraction_leaf': 0.14408158048044015, 'max_features': 'sqrt', 'max_leaf_nodes': 34, 'min_impurity_decrease': 0.010261016781625183, 'class_weight': None, 'ccp_alpha': 0.04850043665844372, 'imputer_strategy_num': 'mean', 'imputer_strategy_cat': 'constant', 'scaler': 'minmax', 'min_frequency': 0.6698690190137437}. Best is trial 0 with value: 0.038484871795970155.\n",
      "[I 2025-05-14 16:44:08,072] Trial 253 finished with value: 0.038484871795970155 and parameters: {'criterion': 'log_loss', 'splitter': 'best', 'max_depth': 43, 'min_samples_split': 11, 'min_samples_leaf': 6, 'min_weight_fraction_leaf': 0.200988408472499, 'max_features': 'sqrt', 'max_leaf_nodes': 36, 'min_impurity_decrease': 0.02801595953699388, 'class_weight': 'balanced', 'ccp_alpha': 0.028469340075871475, 'imputer_strategy_num': 'median', 'imputer_strategy_cat': 'most_frequent', 'scaler': 'standard', 'min_frequency': 0.7482377374418865}. Best is trial 0 with value: 0.038484871795970155.\n",
      "[I 2025-05-14 16:44:08,854] Trial 254 finished with value: 0.038484871795970155 and parameters: {'criterion': 'gini', 'splitter': 'best', 'max_depth': 42, 'min_samples_split': 18, 'min_samples_leaf': 5, 'min_weight_fraction_leaf': 0.3037708236920963, 'max_features': 'log2', 'max_leaf_nodes': 8, 'min_impurity_decrease': 0.015661359724152512, 'class_weight': 'balanced', 'ccp_alpha': 0.037361909670882446, 'imputer_strategy_num': 'mean', 'imputer_strategy_cat': 'constant', 'scaler': 'robust', 'min_frequency': 0.5583776419763387}. Best is trial 0 with value: 0.038484871795970155.\n",
      "[I 2025-05-14 16:44:09,564] Trial 255 finished with value: 0.038484871795970155 and parameters: {'criterion': 'entropy', 'splitter': 'random', 'max_depth': 7, 'min_samples_split': 17, 'min_samples_leaf': 7, 'min_weight_fraction_leaf': 0.2835495128587531, 'max_features': None, 'max_leaf_nodes': 49, 'min_impurity_decrease': 0.0021001946339949742, 'class_weight': 'balanced', 'ccp_alpha': 0.008776607095049006, 'imputer_strategy_num': 'mean', 'imputer_strategy_cat': 'constant', 'scaler': 'minmax', 'min_frequency': 0.1877711971786944}. Best is trial 0 with value: 0.038484871795970155.\n",
      "[I 2025-05-14 16:44:10,243] Trial 256 finished with value: 0.038484871795970155 and parameters: {'criterion': 'log_loss', 'splitter': 'best', 'max_depth': 35, 'min_samples_split': 16, 'min_samples_leaf': 16, 'min_weight_fraction_leaf': 0.24502049864672018, 'max_features': 'sqrt', 'max_leaf_nodes': 9, 'min_impurity_decrease': 0.02318437569414688, 'class_weight': None, 'ccp_alpha': 0.011156021111199881, 'imputer_strategy_num': 'mean', 'imputer_strategy_cat': 'constant', 'scaler': 'standard', 'min_frequency': 0.4249688236427805}. Best is trial 0 with value: 0.038484871795970155.\n",
      "[I 2025-05-14 16:44:11,062] Trial 257 finished with value: 0.038484871795970155 and parameters: {'criterion': 'entropy', 'splitter': 'random', 'max_depth': 47, 'min_samples_split': 5, 'min_samples_leaf': 3, 'min_weight_fraction_leaf': 0.18887846589116175, 'max_features': 'log2', 'max_leaf_nodes': 43, 'min_impurity_decrease': 6.94107454034189e-05, 'class_weight': 'balanced', 'ccp_alpha': 0.0011053354250535616, 'imputer_strategy_num': 'median', 'imputer_strategy_cat': 'constant', 'scaler': 'robust', 'min_frequency': 0.5147126510539797}. Best is trial 0 with value: 0.038484871795970155.\n",
      "[I 2025-05-14 16:44:11,771] Trial 258 finished with value: 0.038484871795970155 and parameters: {'criterion': 'log_loss', 'splitter': 'best', 'max_depth': 34, 'min_samples_split': 8, 'min_samples_leaf': 2, 'min_weight_fraction_leaf': 0.03706783300019044, 'max_features': 'sqrt', 'max_leaf_nodes': 28, 'min_impurity_decrease': 0.006754786085896089, 'class_weight': 'balanced', 'ccp_alpha': 0.016765005670398854, 'imputer_strategy_num': 'mean', 'imputer_strategy_cat': 'most_frequent', 'scaler': 'minmax', 'min_frequency': 0.08076028987267002}. Best is trial 0 with value: 0.038484871795970155.\n",
      "[I 2025-05-14 16:44:12,441] Trial 259 finished with value: 0.038484871795970155 and parameters: {'criterion': 'entropy', 'splitter': 'random', 'max_depth': 18, 'min_samples_split': 2, 'min_samples_leaf': 11, 'min_weight_fraction_leaf': 0.4069310615632418, 'max_features': 'log2', 'max_leaf_nodes': 20, 'min_impurity_decrease': 0.03431046870416722, 'class_weight': 'balanced', 'ccp_alpha': 0.027670213888154417, 'imputer_strategy_num': 'mean', 'imputer_strategy_cat': 'constant', 'scaler': 'standard', 'min_frequency': 0.28113236619591453}. Best is trial 0 with value: 0.038484871795970155.\n",
      "[I 2025-05-14 16:44:13,250] Trial 260 finished with value: 0.038484871795970155 and parameters: {'criterion': 'gini', 'splitter': 'best', 'max_depth': 11, 'min_samples_split': 12, 'min_samples_leaf': 1, 'min_weight_fraction_leaf': 0.48643692964490676, 'max_features': None, 'max_leaf_nodes': 31, 'min_impurity_decrease': 0.046437545390837116, 'class_weight': None, 'ccp_alpha': 0.020022739269714096, 'imputer_strategy_num': 'mean', 'imputer_strategy_cat': 'constant', 'scaler': 'robust', 'min_frequency': 0.9136769621496676}. Best is trial 0 with value: 0.038484871795970155.\n",
      "[I 2025-05-14 16:44:13,941] Trial 261 finished with value: 0.038484871795970155 and parameters: {'criterion': 'entropy', 'splitter': 'best', 'max_depth': 49, 'min_samples_split': 4, 'min_samples_leaf': 11, 'min_weight_fraction_leaf': 0.22470610217760648, 'max_features': 'sqrt', 'max_leaf_nodes': 18, 'min_impurity_decrease': 0.008983589186381397, 'class_weight': 'balanced', 'ccp_alpha': 0.04558035140313632, 'imputer_strategy_num': 'mean', 'imputer_strategy_cat': 'constant', 'scaler': 'minmax', 'min_frequency': 0.05103665403326568}. Best is trial 0 with value: 0.038484871795970155.\n",
      "[I 2025-05-14 16:44:14,741] Trial 262 finished with value: 0.038484871795970155 and parameters: {'criterion': 'log_loss', 'splitter': 'random', 'max_depth': 4, 'min_samples_split': 10, 'min_samples_leaf': 15, 'min_weight_fraction_leaf': 0.32409405797751595, 'max_features': 'log2', 'max_leaf_nodes': 13, 'min_impurity_decrease': 0.0038872528429221413, 'class_weight': 'balanced', 'ccp_alpha': 0.012118653341949505, 'imputer_strategy_num': 'median', 'imputer_strategy_cat': 'most_frequent', 'scaler': 'standard', 'min_frequency': 0.9905019401968775}. Best is trial 0 with value: 0.038484871795970155.\n",
      "[I 2025-05-14 16:44:15,477] Trial 263 finished with value: 0.038484871795970155 and parameters: {'criterion': 'entropy', 'splitter': 'best', 'max_depth': 9, 'min_samples_split': 20, 'min_samples_leaf': 4, 'min_weight_fraction_leaf': 0.45190539271611513, 'max_features': 'sqrt', 'max_leaf_nodes': 10, 'min_impurity_decrease': 0.013304542528842129, 'class_weight': 'balanced', 'ccp_alpha': 0.031800797544518644, 'imputer_strategy_num': 'mean', 'imputer_strategy_cat': 'constant', 'scaler': 'robust', 'min_frequency': 0.37775547378307966}. Best is trial 0 with value: 0.038484871795970155.\n",
      "[I 2025-05-14 16:44:16,141] Trial 264 finished with value: 0.038484871795970155 and parameters: {'criterion': 'log_loss', 'splitter': 'random', 'max_depth': 33, 'min_samples_split': 15, 'min_samples_leaf': 12, 'min_weight_fraction_leaf': 0.08295730061147236, 'max_features': 'log2', 'max_leaf_nodes': 11, 'min_impurity_decrease': 0.01801267990891977, 'class_weight': None, 'ccp_alpha': 0.002572015974146285, 'imputer_strategy_num': 'mean', 'imputer_strategy_cat': 'constant', 'scaler': 'minmax', 'min_frequency': 0.9517463769485378}. Best is trial 0 with value: 0.038484871795970155.\n",
      "[I 2025-05-14 16:44:16,856] Trial 265 finished with value: 0.038484871795970155 and parameters: {'criterion': 'gini', 'splitter': 'best', 'max_depth': 27, 'min_samples_split': 18, 'min_samples_leaf': 10, 'min_weight_fraction_leaf': 0.17912334101152527, 'max_features': 'sqrt', 'max_leaf_nodes': 15, 'min_impurity_decrease': 0.021312909062429643, 'class_weight': 'balanced', 'ccp_alpha': 0.025428595179965745, 'imputer_strategy_num': 'mean', 'imputer_strategy_cat': 'constant', 'scaler': 'standard', 'min_frequency': 0.1475223978378263}. Best is trial 0 with value: 0.038484871795970155.\n",
      "[I 2025-05-14 16:44:17,759] Trial 266 finished with value: 0.038484871795970155 and parameters: {'criterion': 'entropy', 'splitter': 'best', 'max_depth': 24, 'min_samples_split': 13, 'min_samples_leaf': 6, 'min_weight_fraction_leaf': 0.2939791124737902, 'max_features': None, 'max_leaf_nodes': 16, 'min_impurity_decrease': 0.03292795778238687, 'class_weight': 'balanced', 'ccp_alpha': 0.04133629928271512, 'imputer_strategy_num': 'median', 'imputer_strategy_cat': 'most_frequent', 'scaler': 'robust', 'min_frequency': 0.30882222565256834}. Best is trial 0 with value: 0.038484871795970155.\n",
      "[I 2025-05-14 16:44:18,477] Trial 267 finished with value: 0.038484871795970155 and parameters: {'criterion': 'log_loss', 'splitter': 'random', 'max_depth': 31, 'min_samples_split': 14, 'min_samples_leaf': 13, 'min_weight_fraction_leaf': 0.26267209984318585, 'max_features': 'sqrt', 'max_leaf_nodes': 19, 'min_impurity_decrease': 0.029433162655874714, 'class_weight': 'balanced', 'ccp_alpha': 0.03386954960856946, 'imputer_strategy_num': 'mean', 'imputer_strategy_cat': 'constant', 'scaler': 'minmax', 'min_frequency': 0.5839887477201146}. Best is trial 0 with value: 0.038484871795970155.\n",
      "[I 2025-05-14 16:44:19,158] Trial 268 finished with value: 0.038484871795970155 and parameters: {'criterion': 'entropy', 'splitter': 'best', 'max_depth': 23, 'min_samples_split': 19, 'min_samples_leaf': 8, 'min_weight_fraction_leaf': 0.00024571444766632, 'max_features': 'log2', 'max_leaf_nodes': 14, 'min_impurity_decrease': 0.010430100340781333, 'class_weight': 'balanced', 'ccp_alpha': 0.018384167445775396, 'imputer_strategy_num': 'mean', 'imputer_strategy_cat': 'constant', 'scaler': 'standard', 'min_frequency': 0.8224256583947915}. Best is trial 0 with value: 0.038484871795970155.\n",
      "[I 2025-05-14 16:44:19,869] Trial 269 finished with value: 0.038484871795970155 and parameters: {'criterion': 'log_loss', 'splitter': 'random', 'max_depth': 19, 'min_samples_split': 17, 'min_samples_leaf': 3, 'min_weight_fraction_leaf': 0.09554667715629966, 'max_features': 'sqrt', 'max_leaf_nodes': 5, 'min_impurity_decrease': 0.007982311677489501, 'class_weight': None, 'ccp_alpha': 0.006557424967725755, 'imputer_strategy_num': 'mean', 'imputer_strategy_cat': 'constant', 'scaler': 'robust', 'min_frequency': 0.6021629676778464}. Best is trial 0 with value: 0.038484871795970155.\n",
      "[I 2025-05-14 16:44:20,669] Trial 270 finished with value: 0.038484871795970155 and parameters: {'criterion': 'entropy', 'splitter': 'best', 'max_depth': 30, 'min_samples_split': 7, 'min_samples_leaf': 14, 'min_weight_fraction_leaf': 0.020984967779551018, 'max_features': 'log2', 'max_leaf_nodes': 45, 'min_impurity_decrease': 0.00308822595256023, 'class_weight': 'balanced', 'ccp_alpha': 0.020941069194543794, 'imputer_strategy_num': 'median', 'imputer_strategy_cat': 'most_frequent', 'scaler': 'minmax', 'min_frequency': 0.22953001071819712}. Best is trial 0 with value: 0.038484871795970155.\n",
      "[I 2025-05-14 16:44:21,349] Trial 271 finished with value: 0.038484871795970155 and parameters: {'criterion': 'gini', 'splitter': 'random', 'max_depth': None, 'min_samples_split': 9, 'min_samples_leaf': 2, 'min_weight_fraction_leaf': 0.11319496869266225, 'max_features': None, 'max_leaf_nodes': 47, 'min_impurity_decrease': 0.011330834181598621, 'class_weight': 'balanced', 'ccp_alpha': 0.03990354613090408, 'imputer_strategy_num': 'mean', 'imputer_strategy_cat': 'constant', 'scaler': 'standard', 'min_frequency': 0.8836840543542149}. Best is trial 0 with value: 0.038484871795970155.\n",
      "[I 2025-05-14 16:44:22,096] Trial 272 finished with value: 0.038484871795970155 and parameters: {'criterion': 'entropy', 'splitter': 'best', 'max_depth': 8, 'min_samples_split': 6, 'min_samples_leaf': 7, 'min_weight_fraction_leaf': 0.46598057694225015, 'max_features': 'sqrt', 'max_leaf_nodes': 44, 'min_impurity_decrease': 0.005882071298614886, 'class_weight': 'balanced', 'ccp_alpha': 0.005244212923261064, 'imputer_strategy_num': 'mean', 'imputer_strategy_cat': 'constant', 'scaler': 'robust', 'min_frequency': 0.40258255406253196}. Best is trial 0 with value: 0.038484871795970155.\n",
      "[I 2025-05-14 16:44:22,813] Trial 273 finished with value: 0.038484871795970155 and parameters: {'criterion': 'log_loss', 'splitter': 'best', 'max_depth': 20, 'min_samples_split': 12, 'min_samples_leaf': 5, 'min_weight_fraction_leaf': 0.0588321108196105, 'max_features': 'log2', 'max_leaf_nodes': 7, 'min_impurity_decrease': 0.025046781140533284, 'class_weight': None, 'ccp_alpha': 0.03770982820881533, 'imputer_strategy_num': 'mean', 'imputer_strategy_cat': 'constant', 'scaler': 'minmax', 'min_frequency': 0.1758076827024983}. Best is trial 0 with value: 0.038484871795970155.\n",
      "[I 2025-05-14 16:44:23,485] Trial 274 finished with value: 0.038484871795970155 and parameters: {'criterion': 'entropy', 'splitter': 'random', 'max_depth': 7, 'min_samples_split': 20, 'min_samples_leaf': 3, 'min_weight_fraction_leaf': 0.31555401250177595, 'max_features': 'sqrt', 'max_leaf_nodes': 3, 'min_impurity_decrease': 0.012667560970058542, 'class_weight': 'balanced', 'ccp_alpha': 0.009009690097340461, 'imputer_strategy_num': 'mean', 'imputer_strategy_cat': 'constant', 'scaler': 'standard', 'min_frequency': 0.7727793422262188}. Best is trial 0 with value: 0.038484871795970155.\n",
      "[I 2025-05-14 16:44:24,347] Trial 275 finished with value: 0.038484871795970155 and parameters: {'criterion': 'log_loss', 'splitter': 'best', 'max_depth': 3, 'min_samples_split': 19, 'min_samples_leaf': 1, 'min_weight_fraction_leaf': 0.13733763049282527, 'max_features': 'sqrt', 'max_leaf_nodes': 42, 'min_impurity_decrease': 0.014935664358538873, 'class_weight': 'balanced', 'ccp_alpha': 0.010514331891369803, 'imputer_strategy_num': 'median', 'imputer_strategy_cat': 'most_frequent', 'scaler': 'robust', 'min_frequency': 0.6446772915770232}. Best is trial 0 with value: 0.038484871795970155.\n",
      "[I 2025-05-14 16:44:25,027] Trial 276 finished with value: 0.038484871795970155 and parameters: {'criterion': 'gini', 'splitter': 'random', 'max_depth': 21, 'min_samples_split': 14, 'min_samples_leaf': 4, 'min_weight_fraction_leaf': 0.16934469739637092, 'max_features': None, 'max_leaf_nodes': 33, 'min_impurity_decrease': 0.02644761750445433, 'class_weight': 'balanced', 'ccp_alpha': 0.03574966540028467, 'imputer_strategy_num': 'mean', 'imputer_strategy_cat': 'constant', 'scaler': 'minmax', 'min_frequency': 0.9708455490688537}. Best is trial 0 with value: 0.038484871795970155.\n",
      "[I 2025-05-14 16:44:25,707] Trial 277 finished with value: 0.038484871795970155 and parameters: {'criterion': 'entropy', 'splitter': 'best', 'max_depth': 37, 'min_samples_split': 18, 'min_samples_leaf': 9, 'min_weight_fraction_leaf': 0.2770143720236535, 'max_features': 'log2', 'max_leaf_nodes': 21, 'min_impurity_decrease': 0.028615503487263237, 'class_weight': None, 'ccp_alpha': 0.023245892398230054, 'imputer_strategy_num': 'mean', 'imputer_strategy_cat': 'constant', 'scaler': 'standard', 'min_frequency': 0.4425923342238726}. Best is trial 0 with value: 0.038484871795970155.\n",
      "[I 2025-05-14 16:44:26,446] Trial 278 finished with value: 0.038484871795970155 and parameters: {'criterion': 'log_loss', 'splitter': 'best', 'max_depth': 10, 'min_samples_split': 16, 'min_samples_leaf': 11, 'min_weight_fraction_leaf': 0.1553857266526547, 'max_features': 'sqrt', 'max_leaf_nodes': 12, 'min_impurity_decrease': 0.03128239386602649, 'class_weight': 'balanced', 'ccp_alpha': 0.019516214390559887, 'imputer_strategy_num': 'mean', 'imputer_strategy_cat': 'constant', 'scaler': 'robust', 'min_frequency': 0.5328512964554228}. Best is trial 0 with value: 0.038484871795970155.\n",
      "[I 2025-05-14 16:44:27,297] Trial 279 finished with value: 0.038484871795970155 and parameters: {'criterion': 'entropy', 'splitter': 'random', 'max_depth': 17, 'min_samples_split': 15, 'min_samples_leaf': 8, 'min_weight_fraction_leaf': 0.42047043422005503, 'max_features': 'log2', 'max_leaf_nodes': 50, 'min_impurity_decrease': 0.048165662481996156, 'class_weight': 'balanced', 'ccp_alpha': 0.032692657782011844, 'imputer_strategy_num': 'median', 'imputer_strategy_cat': 'most_frequent', 'scaler': 'minmax', 'min_frequency': 0.35165600926906754}. Best is trial 0 with value: 0.038484871795970155.\n",
      "[I 2025-05-14 16:44:27,988] Trial 280 finished with value: 0.038484871795970155 and parameters: {'criterion': 'entropy', 'splitter': 'best', 'max_depth': 2, 'min_samples_split': 17, 'min_samples_leaf': 17, 'min_weight_fraction_leaf': 0.39088961786329796, 'max_features': 'sqrt', 'max_leaf_nodes': 9, 'min_impurity_decrease': 0.01668508081423189, 'class_weight': 'balanced', 'ccp_alpha': 0.0473577856788625, 'imputer_strategy_num': 'mean', 'imputer_strategy_cat': 'constant', 'scaler': 'standard', 'min_frequency': 0.20614570255312703}. Best is trial 0 with value: 0.038484871795970155.\n",
      "[I 2025-05-14 16:44:28,726] Trial 281 finished with value: 0.038484871795970155 and parameters: {'criterion': 'log_loss', 'splitter': 'random', 'max_depth': 11, 'min_samples_split': 19, 'min_samples_leaf': 2, 'min_weight_fraction_leaf': 0.3535242690592659, 'max_features': None, 'max_leaf_nodes': 46, 'min_impurity_decrease': 0.009668140197337294, 'class_weight': 'balanced', 'ccp_alpha': 0.026811077213561588, 'imputer_strategy_num': 'mean', 'imputer_strategy_cat': 'constant', 'scaler': 'robust', 'min_frequency': 0.2632107028982795}. Best is trial 0 with value: 0.038484871795970155.\n",
      "[I 2025-05-14 16:44:29,400] Trial 282 finished with value: 0.038484871795970155 and parameters: {'criterion': 'gini', 'splitter': 'best', 'max_depth': 6, 'min_samples_split': 11, 'min_samples_leaf': 10, 'min_weight_fraction_leaf': 0.441784020984829, 'max_features': 'log2', 'max_leaf_nodes': 6, 'min_impurity_decrease': 0.008537319323498875, 'class_weight': None, 'ccp_alpha': 0.015609551625854326, 'imputer_strategy_num': 'mean', 'imputer_strategy_cat': 'constant', 'scaler': 'minmax', 'min_frequency': 0.014288455680506452}. Best is trial 0 with value: 0.038484871795970155.\n",
      "[I 2025-05-14 16:44:30,209] Trial 283 finished with value: 0.038484871795970155 and parameters: {'criterion': 'entropy', 'splitter': 'best', 'max_depth': 26, 'min_samples_split': 13, 'min_samples_leaf': 18, 'min_weight_fraction_leaf': 0.3373910698383366, 'max_features': 'sqrt', 'max_leaf_nodes': 37, 'min_impurity_decrease': 0.019460174886614952, 'class_weight': 'balanced', 'ccp_alpha': 0.034491491623811946, 'imputer_strategy_num': 'median', 'imputer_strategy_cat': 'most_frequent', 'scaler': 'standard', 'min_frequency': 0.6971195515958925}. Best is trial 0 with value: 0.038484871795970155.\n",
      "[I 2025-05-14 16:44:30,929] Trial 284 finished with value: 0.18975117214387915 and parameters: {'criterion': 'log_loss', 'splitter': 'random', 'max_depth': 27, 'min_samples_split': 7, 'min_samples_leaf': 20, 'min_weight_fraction_leaf': 0.2339809759208927, 'max_features': 'log2', 'max_leaf_nodes': 29, 'min_impurity_decrease': 0.004507116323590233, 'class_weight': 'balanced', 'ccp_alpha': 0.004002655732889802, 'imputer_strategy_num': 'mean', 'imputer_strategy_cat': 'constant', 'scaler': 'robust', 'min_frequency': 0.9229491180031257}. Best is trial 0 with value: 0.038484871795970155.\n",
      "[I 2025-05-14 16:44:31,668] Trial 285 finished with value: 0.038484871795970155 and parameters: {'criterion': 'entropy', 'splitter': 'best', 'max_depth': 12, 'min_samples_split': 20, 'min_samples_leaf': 16, 'min_weight_fraction_leaf': 0.37037148895564675, 'max_features': 'sqrt', 'max_leaf_nodes': 26, 'min_impurity_decrease': 0.03933965130520307, 'class_weight': 'balanced', 'ccp_alpha': 0.0020818561264536735, 'imputer_strategy_num': 'mean', 'imputer_strategy_cat': 'constant', 'scaler': 'minmax', 'min_frequency': 0.6254244031455692}. Best is trial 0 with value: 0.038484871795970155.\n",
      "[I 2025-05-14 16:44:32,345] Trial 286 finished with value: 0.038484871795970155 and parameters: {'criterion': 'log_loss', 'splitter': 'random', 'max_depth': 41, 'min_samples_split': 8, 'min_samples_leaf': 12, 'min_weight_fraction_leaf': 0.12263266748289928, 'max_features': 'sqrt', 'max_leaf_nodes': 38, 'min_impurity_decrease': 0.03599491244152352, 'class_weight': None, 'ccp_alpha': 0.03043280631747007, 'imputer_strategy_num': 'mean', 'imputer_strategy_cat': 'constant', 'scaler': 'standard', 'min_frequency': 0.12089939650070496}. Best is trial 0 with value: 0.038484871795970155.\n",
      "[I 2025-05-14 16:44:33,077] Trial 287 finished with value: 0.038484871795970155 and parameters: {'criterion': 'entropy', 'splitter': 'best', 'max_depth': 32, 'min_samples_split': 4, 'min_samples_leaf': 5, 'min_weight_fraction_leaf': 0.1058366854368245, 'max_features': None, 'max_leaf_nodes': 22, 'min_impurity_decrease': 0.030330375689816412, 'class_weight': 'balanced', 'ccp_alpha': 0.007494130324179948, 'imputer_strategy_num': 'mean', 'imputer_strategy_cat': 'constant', 'scaler': 'minmax', 'min_frequency': 0.24014574702379848}. Best is trial 0 with value: 0.038484871795970155.\n",
      "[I 2025-05-14 16:44:33,942] Trial 288 finished with value: 0.18975117214387915 and parameters: {'criterion': 'gini', 'splitter': 'random', 'max_depth': 14, 'min_samples_split': 19, 'min_samples_leaf': 3, 'min_weight_fraction_leaf': 0.07741443279514137, 'max_features': 'log2', 'max_leaf_nodes': 48, 'min_impurity_decrease': 0.0011254787480113036, 'class_weight': 'balanced', 'ccp_alpha': 0.0007380564749696605, 'imputer_strategy_num': 'median', 'imputer_strategy_cat': 'most_frequent', 'scaler': 'robust', 'min_frequency': 0.8409312982679176}. Best is trial 0 with value: 0.038484871795970155.\n",
      "[I 2025-05-14 16:44:34,617] Trial 289 finished with value: 0.038484871795970155 and parameters: {'criterion': 'log_loss', 'splitter': 'best', 'max_depth': 15, 'min_samples_split': 12, 'min_samples_leaf': 6, 'min_weight_fraction_leaf': 0.24857558498358845, 'max_features': 'sqrt', 'max_leaf_nodes': 40, 'min_impurity_decrease': 0.023515021212720495, 'class_weight': 'balanced', 'ccp_alpha': 0.024668342712204163, 'imputer_strategy_num': 'mean', 'imputer_strategy_cat': 'constant', 'scaler': 'minmax', 'min_frequency': 0.8052420272420313}. Best is trial 0 with value: 0.038484871795970155.\n",
      "[I 2025-05-14 16:44:35,299] Trial 290 finished with value: 0.038484871795970155 and parameters: {'criterion': 'entropy', 'splitter': 'best', 'max_depth': 35, 'min_samples_split': 10, 'min_samples_leaf': 4, 'min_weight_fraction_leaf': 0.19412030829559151, 'max_features': 'log2', 'max_leaf_nodes': 30, 'min_impurity_decrease': 0.041251853825932897, 'class_weight': None, 'ccp_alpha': 0.04882647823630327, 'imputer_strategy_num': 'mean', 'imputer_strategy_cat': 'constant', 'scaler': 'standard', 'min_frequency': 0.40886478039529855}. Best is trial 0 with value: 0.038484871795970155.\n",
      "[I 2025-05-14 16:44:36,019] Trial 291 finished with value: 0.038484871795970155 and parameters: {'criterion': 'entropy', 'splitter': 'random', 'max_depth': 13, 'min_samples_split': 16, 'min_samples_leaf': 11, 'min_weight_fraction_leaf': 0.3993375487231602, 'max_features': 'sqrt', 'max_leaf_nodes': 39, 'min_impurity_decrease': 0.0222186830988364, 'class_weight': 'balanced', 'ccp_alpha': 0.00961257889535763, 'imputer_strategy_num': 'mean', 'imputer_strategy_cat': 'constant', 'scaler': 'robust', 'min_frequency': 0.8617348197844344}. Best is trial 0 with value: 0.038484871795970155.\n",
      "[I 2025-05-14 16:44:36,926] Trial 292 finished with value: 0.038484871795970155 and parameters: {'criterion': 'log_loss', 'splitter': 'best', 'max_depth': 7, 'min_samples_split': 18, 'min_samples_leaf': 19, 'min_weight_fraction_leaf': 0.1658372806470922, 'max_features': None, 'max_leaf_nodes': 25, 'min_impurity_decrease': 0.014282774702066832, 'class_weight': 'balanced', 'ccp_alpha': 0.03660728374683591, 'imputer_strategy_num': 'median', 'imputer_strategy_cat': 'most_frequent', 'scaler': 'minmax', 'min_frequency': 0.16532354416364717}. Best is trial 0 with value: 0.038484871795970155.\n",
      "[I 2025-05-14 16:44:37,600] Trial 293 finished with value: 0.038484871795970155 and parameters: {'criterion': 'gini', 'splitter': 'random', 'max_depth': 47, 'min_samples_split': 17, 'min_samples_leaf': 14, 'min_weight_fraction_leaf': 0.30755378319259064, 'max_features': 'log2', 'max_leaf_nodes': 43, 'min_impurity_decrease': 0.03189040120331836, 'class_weight': 'balanced', 'ccp_alpha': 0.022305683677691104, 'imputer_strategy_num': 'mean', 'imputer_strategy_cat': 'constant', 'scaler': 'standard', 'min_frequency': 0.9406700162123132}. Best is trial 0 with value: 0.038484871795970155.\n",
      "[I 2025-05-14 16:44:38,333] Trial 294 finished with value: 0.038484871795970155 and parameters: {'criterion': 'entropy', 'splitter': 'best', 'max_depth': 22, 'min_samples_split': 3, 'min_samples_leaf': 9, 'min_weight_fraction_leaf': 0.09062787341806669, 'max_features': 'sqrt', 'max_leaf_nodes': 34, 'min_impurity_decrease': 0.020532603846972662, 'class_weight': 'balanced', 'ccp_alpha': 0.01434008994174357, 'imputer_strategy_num': 'mean', 'imputer_strategy_cat': 'constant', 'scaler': 'robust', 'min_frequency': 0.38478317833390885}. Best is trial 0 with value: 0.038484871795970155.\n",
      "[I 2025-05-14 16:44:39,005] Trial 295 finished with value: 0.038484871795970155 and parameters: {'criterion': 'log_loss', 'splitter': 'best', 'max_depth': 16, 'min_samples_split': 13, 'min_samples_leaf': 15, 'min_weight_fraction_leaf': 0.14687482473936117, 'max_features': 'sqrt', 'max_leaf_nodes': 49, 'min_impurity_decrease': 0.012294527196276241, 'class_weight': None, 'ccp_alpha': 0.017175666976054903, 'imputer_strategy_num': 'mean', 'imputer_strategy_cat': 'constant', 'scaler': 'minmax', 'min_frequency': 0.31894772209371974}. Best is trial 0 with value: 0.038484871795970155.\n",
      "[I 2025-05-14 16:44:39,816] Trial 296 finished with value: 0.038484871795970155 and parameters: {'criterion': 'entropy', 'splitter': 'random', 'max_depth': 34, 'min_samples_split': 15, 'min_samples_leaf': 7, 'min_weight_fraction_leaf': 0.2874389158432544, 'max_features': 'log2', 'max_leaf_nodes': 20, 'min_impurity_decrease': 0.027045260282531736, 'class_weight': 'balanced', 'ccp_alpha': 0.02927752364615819, 'imputer_strategy_num': 'median', 'imputer_strategy_cat': 'most_frequent', 'scaler': 'standard', 'min_frequency': 0.29039408767109265}. Best is trial 0 with value: 0.038484871795970155.\n",
      "[I 2025-05-14 16:44:40,541] Trial 297 finished with value: 0.038484871795970155 and parameters: {'criterion': 'log_loss', 'splitter': 'best', 'max_depth': 42, 'min_samples_split': 18, 'min_samples_leaf': 1, 'min_weight_fraction_leaf': 0.32772365856121366, 'max_features': 'sqrt', 'max_leaf_nodes': 7, 'min_impurity_decrease': 0.00744765425975003, 'class_weight': 'balanced', 'ccp_alpha': 0.012961398368563743, 'imputer_strategy_num': 'mean', 'imputer_strategy_cat': 'constant', 'scaler': 'robust', 'min_frequency': 0.3353833340945344}. Best is trial 0 with value: 0.038484871795970155.\n",
      "[I 2025-05-14 16:44:41,273] Trial 298 finished with value: 0.038484871795970155 and parameters: {'criterion': 'gini', 'splitter': 'random', 'max_depth': 18, 'min_samples_split': 19, 'min_samples_leaf': 10, 'min_weight_fraction_leaf': 0.2160213708349386, 'max_features': None, 'max_leaf_nodes': 9, 'min_impurity_decrease': 0.010908150954198286, 'class_weight': 'balanced', 'ccp_alpha': 0.03896298089111505, 'imputer_strategy_num': 'mean', 'imputer_strategy_cat': 'constant', 'scaler': 'minmax', 'min_frequency': 0.4980098700347339}. Best is trial 0 with value: 0.038484871795970155.\n",
      "[I 2025-05-14 16:44:41,963] Trial 299 finished with value: 0.038484871795970155 and parameters: {'criterion': 'entropy', 'splitter': 'best', 'max_depth': 27, 'min_samples_split': 20, 'min_samples_leaf': 4, 'min_weight_fraction_leaf': 0.18288782678734916, 'max_features': 'log2', 'max_leaf_nodes': 23, 'min_impurity_decrease': 0.017682853732278823, 'class_weight': None, 'ccp_alpha': 0.03187092706492378, 'imputer_strategy_num': 'mean', 'imputer_strategy_cat': 'constant', 'scaler': 'standard', 'min_frequency': 0.07000201505293367}. Best is trial 0 with value: 0.038484871795970155.\n",
      "[I 2025-05-14 16:44:42,715] Trial 300 finished with value: 0.038484871795970155 and parameters: {'criterion': 'entropy', 'splitter': 'best', 'max_depth': 4, 'min_samples_split': 3, 'min_samples_leaf': 2, 'min_weight_fraction_leaf': 0.1287040977633336, 'max_features': 'sqrt', 'max_leaf_nodes': 10, 'min_impurity_decrease': 0.0021398601743860242, 'class_weight': 'balanced', 'ccp_alpha': 0.042803444392022945, 'imputer_strategy_num': 'mean', 'imputer_strategy_cat': 'constant', 'scaler': 'robust', 'min_frequency': 0.03640409622968722}. Best is trial 0 with value: 0.038484871795970155.\n",
      "[I 2025-05-14 16:44:43,546] Trial 301 finished with value: 0.038484871795970155 and parameters: {'criterion': 'log_loss', 'splitter': 'random', 'max_depth': 23, 'min_samples_split': 5, 'min_samples_leaf': 13, 'min_weight_fraction_leaf': 0.20655410259401397, 'max_features': 'log2', 'max_leaf_nodes': 14, 'min_impurity_decrease': 0.015812260818371112, 'class_weight': 'balanced', 'ccp_alpha': 0.011831664833147845, 'imputer_strategy_num': 'median', 'imputer_strategy_cat': 'most_frequent', 'scaler': 'minmax', 'min_frequency': 0.2027549163679973}. Best is trial 0 with value: 0.038484871795970155.\n",
      "[I 2025-05-14 16:44:44,238] Trial 302 finished with value: 0.038484871795970155 and parameters: {'criterion': 'entropy', 'splitter': 'best', 'max_depth': 30, 'min_samples_split': 16, 'min_samples_leaf': 3, 'min_weight_fraction_leaf': 0.045123295692490545, 'max_features': 'sqrt', 'max_leaf_nodes': 31, 'min_impurity_decrease': 0.00944410568292867, 'class_weight': 'balanced', 'ccp_alpha': 5.775400622782547e-05, 'imputer_strategy_num': 'mean', 'imputer_strategy_cat': 'constant', 'scaler': 'standard', 'min_frequency': 0.46784546328180054}. Best is trial 0 with value: 0.038484871795970155.\n",
      "[I 2025-05-14 16:44:44,968] Trial 303 finished with value: 0.038484871795970155 and parameters: {'criterion': 'gini', 'splitter': 'random', 'max_depth': 8, 'min_samples_split': 14, 'min_samples_leaf': 8, 'min_weight_fraction_leaf': 0.06523989984882296, 'max_features': None, 'max_leaf_nodes': 13, 'min_impurity_decrease': 0.037306560538611463, 'class_weight': None, 'ccp_alpha': 0.018196439522481008, 'imputer_strategy_num': 'mean', 'imputer_strategy_cat': 'constant', 'scaler': 'robust', 'min_frequency': 0.43165047530687023}. Best is trial 0 with value: 0.038484871795970155.\n",
      "[I 2025-05-14 16:44:45,686] Trial 304 finished with value: 0.038484871795970155 and parameters: {'criterion': 'log_loss', 'splitter': 'best', 'max_depth': 29, 'min_samples_split': 6, 'min_samples_leaf': 2, 'min_weight_fraction_leaf': 0.17336251280361642, 'max_features': 'sqrt', 'max_leaf_nodes': 41, 'min_impurity_decrease': 0.03389571015467064, 'class_weight': 'balanced', 'ccp_alpha': 0.0028775335567240786, 'imputer_strategy_num': 'mean', 'imputer_strategy_cat': 'constant', 'scaler': 'minmax', 'min_frequency': 0.7172309414300625}. Best is trial 0 with value: 0.038484871795970155.\n",
      "[I 2025-05-14 16:44:46,507] Trial 305 finished with value: 0.038484871795970155 and parameters: {'criterion': 'entropy', 'splitter': 'best', 'max_depth': 7, 'min_samples_split': 2, 'min_samples_leaf': 6, 'min_weight_fraction_leaf': 0.2280631773683931, 'max_features': 'log2', 'max_leaf_nodes': 11, 'min_impurity_decrease': 0.00633684181284112, 'class_weight': 'balanced', 'ccp_alpha': 0.01920664406738164, 'imputer_strategy_num': 'median', 'imputer_strategy_cat': 'most_frequent', 'scaler': 'standard', 'min_frequency': 0.13329319036775206}. Best is trial 0 with value: 0.038484871795970155.\n",
      "[I 2025-05-14 16:44:47,231] Trial 306 finished with value: 0.038484871795970155 and parameters: {'criterion': 'log_loss', 'splitter': 'random', 'max_depth': 50, 'min_samples_split': 19, 'min_samples_leaf': 3, 'min_weight_fraction_leaf': 0.3761911591955827, 'max_features': 'sqrt', 'max_leaf_nodes': 3, 'min_impurity_decrease': 0.0133773723910006, 'class_weight': 'balanced', 'ccp_alpha': 0.020716626679462575, 'imputer_strategy_num': 'mean', 'imputer_strategy_cat': 'constant', 'scaler': 'robust', 'min_frequency': 0.3679637477213779}. Best is trial 0 with value: 0.038484871795970155.\n",
      "[I 2025-05-14 16:44:47,915] Trial 307 finished with value: 0.038484871795970155 and parameters: {'criterion': 'entropy', 'splitter': 'best', 'max_depth': 40, 'min_samples_split': 20, 'min_samples_leaf': 11, 'min_weight_fraction_leaf': 0.15432959293171444, 'max_features': 'log2', 'max_leaf_nodes': 35, 'min_impurity_decrease': 0.004922647626945931, 'class_weight': 'balanced', 'ccp_alpha': 0.010952917341029808, 'imputer_strategy_num': 'mean', 'imputer_strategy_cat': 'constant', 'scaler': 'minmax', 'min_frequency': 0.996127825570854}. Best is trial 0 with value: 0.038484871795970155.\n",
      "[I 2025-05-14 16:44:48,583] Trial 308 finished with value: 0.038484871795970155 and parameters: {'criterion': 'gini', 'splitter': 'random', 'max_depth': 25, 'min_samples_split': 17, 'min_samples_leaf': 5, 'min_weight_fraction_leaf': 0.2698059166333851, 'max_features': 'sqrt', 'max_leaf_nodes': 46, 'min_impurity_decrease': 0.02422969142194331, 'class_weight': None, 'ccp_alpha': 0.00868612905970899, 'imputer_strategy_num': 'mean', 'imputer_strategy_cat': 'constant', 'scaler': 'standard', 'min_frequency': 0.7523031766986252}. Best is trial 0 with value: 0.038484871795970155.\n",
      "[I 2025-05-14 16:44:49,488] Trial 309 finished with value: 0.038484871795970155 and parameters: {'criterion': 'log_loss', 'splitter': 'best', 'max_depth': 11, 'min_samples_split': 8, 'min_samples_leaf': 1, 'min_weight_fraction_leaf': 0.10105778322370233, 'max_features': None, 'max_leaf_nodes': 42, 'min_impurity_decrease': 0.028337263130941925, 'class_weight': 'balanced', 'ccp_alpha': 0.0017531503016677786, 'imputer_strategy_num': 'median', 'imputer_strategy_cat': 'most_frequent', 'scaler': 'robust', 'min_frequency': 0.9571786868930474}. Best is trial 0 with value: 0.038484871795970155.\n",
      "[I 2025-05-14 16:44:50,206] Trial 310 finished with value: 0.038484871795970155 and parameters: {'criterion': 'entropy', 'splitter': 'random', 'max_depth': 10, 'min_samples_split': 2, 'min_samples_leaf': 15, 'min_weight_fraction_leaf': 0.29520735606656123, 'max_features': 'log2', 'max_leaf_nodes': 32, 'min_impurity_decrease': 0.045023354810863905, 'class_weight': 'balanced', 'ccp_alpha': 0.04982937419977531, 'imputer_strategy_num': 'mean', 'imputer_strategy_cat': 'constant', 'scaler': 'minmax', 'min_frequency': 0.8920309735001449}. Best is trial 0 with value: 0.038484871795970155.\n",
      "[I 2025-05-14 16:44:50,903] Trial 311 finished with value: 0.038484871795970155 and parameters: {'criterion': 'entropy', 'splitter': 'best', 'max_depth': 5, 'min_samples_split': 12, 'min_samples_leaf': 7, 'min_weight_fraction_leaf': 0.34641108653609776, 'max_features': 'sqrt', 'max_leaf_nodes': 43, 'min_impurity_decrease': 0.010257520128267401, 'class_weight': 'balanced', 'ccp_alpha': 0.006150773433900066, 'imputer_strategy_num': 'mean', 'imputer_strategy_cat': 'constant', 'scaler': 'standard', 'min_frequency': 0.09030337929461184}. Best is trial 0 with value: 0.038484871795970155.\n",
      "[I 2025-05-14 16:44:51,633] Trial 312 finished with value: 0.038484871795970155 and parameters: {'criterion': 'log_loss', 'splitter': 'best', 'max_depth': 38, 'min_samples_split': 10, 'min_samples_leaf': 4, 'min_weight_fraction_leaf': 0.11353271866510656, 'max_features': 'log2', 'max_leaf_nodes': 27, 'min_impurity_decrease': 0.04977770953502046, 'class_weight': None, 'ccp_alpha': 0.027528765989653214, 'imputer_strategy_num': 'mean', 'imputer_strategy_cat': 'constant', 'scaler': 'robust', 'min_frequency': 0.18574234668457998}. Best is trial 0 with value: 0.038484871795970155.\n",
      "[I 2025-05-14 16:44:52,312] Trial 313 finished with value: 0.038484871795970155 and parameters: {'criterion': 'entropy', 'splitter': 'random', 'max_depth': 48, 'min_samples_split': 11, 'min_samples_leaf': 3, 'min_weight_fraction_leaf': 0.4089513989782284, 'max_features': 'sqrt', 'max_leaf_nodes': 9, 'min_impurity_decrease': 0.01889513075702012, 'class_weight': 'balanced', 'ccp_alpha': 0.03835047559115706, 'imputer_strategy_num': 'mean', 'imputer_strategy_cat': 'constant', 'scaler': 'minmax', 'min_frequency': 0.5450107900717571}. Best is trial 0 with value: 0.038484871795970155.\n",
      "[I 2025-05-14 16:44:53,174] Trial 314 finished with value: 0.038484871795970155 and parameters: {'criterion': 'gini', 'splitter': 'best', 'max_depth': 17, 'min_samples_split': 14, 'min_samples_leaf': 14, 'min_weight_fraction_leaf': 0.258294414773727, 'max_features': None, 'max_leaf_nodes': 37, 'min_impurity_decrease': 0.012002379427825713, 'class_weight': 'balanced', 'ccp_alpha': 0.007822259996692754, 'imputer_strategy_num': 'median', 'imputer_strategy_cat': 'most_frequent', 'scaler': 'standard', 'min_frequency': 0.6652823845091638}. Best is trial 0 with value: 0.038484871795970155.\n",
      "[I 2025-05-14 16:44:53,853] Trial 315 finished with value: 0.038484871795970155 and parameters: {'criterion': 'log_loss', 'splitter': 'random', 'max_depth': 26, 'min_samples_split': 18, 'min_samples_leaf': 12, 'min_weight_fraction_leaf': 0.48977123648790005, 'max_features': 'sqrt', 'max_leaf_nodes': 2, 'min_impurity_decrease': 0.029575114077785944, 'class_weight': 'balanced', 'ccp_alpha': 0.04498263465109154, 'imputer_strategy_num': 'mean', 'imputer_strategy_cat': 'constant', 'scaler': 'minmax', 'min_frequency': 0.21383170281796834}. Best is trial 0 with value: 0.038484871795970155.\n",
      "[I 2025-05-14 16:44:54,570] Trial 316 finished with value: 0.038484871795970155 and parameters: {'criterion': 'entropy', 'splitter': 'best', 'max_depth': 27, 'min_samples_split': 9, 'min_samples_leaf': 11, 'min_weight_fraction_leaf': 0.3151407167010289, 'max_features': 'log2', 'max_leaf_nodes': 29, 'min_impurity_decrease': 0.008027563420058205, 'class_weight': None, 'ccp_alpha': 0.005029400908905148, 'imputer_strategy_num': 'mean', 'imputer_strategy_cat': 'constant', 'scaler': 'robust', 'min_frequency': 0.2706701723952707}. Best is trial 0 with value: 0.038484871795970155.\n",
      "[I 2025-05-14 16:44:55,295] Trial 317 finished with value: 0.038484871795970155 and parameters: {'criterion': 'log_loss', 'splitter': 'best', 'max_depth': 45, 'min_samples_split': 17, 'min_samples_leaf': 9, 'min_weight_fraction_leaf': 0.19071935331838227, 'max_features': 'sqrt', 'max_leaf_nodes': 24, 'min_impurity_decrease': 0.03292463781979734, 'class_weight': 'balanced', 'ccp_alpha': 0.03316736200039676, 'imputer_strategy_num': 'mean', 'imputer_strategy_cat': 'constant', 'scaler': 'minmax', 'min_frequency': 0.2476077837240955}. Best is trial 0 with value: 0.038484871795970155.\n",
      "[I 2025-05-14 16:44:56,109] Trial 318 finished with value: 0.038484871795970155 and parameters: {'criterion': 'entropy', 'splitter': 'random', 'max_depth': 39, 'min_samples_split': 15, 'min_samples_leaf': 8, 'min_weight_fraction_leaf': 0.03258288578950908, 'max_features': 'log2', 'max_leaf_nodes': 48, 'min_impurity_decrease': 0.04365055679056645, 'class_weight': 'balanced', 'ccp_alpha': 0.025797218096270703, 'imputer_strategy_num': 'median', 'imputer_strategy_cat': 'most_frequent', 'scaler': 'standard', 'min_frequency': 0.15070462667551415}. Best is trial 0 with value: 0.038484871795970155.\n",
      "[I 2025-05-14 16:44:56,835] Trial 319 finished with value: 0.038484871795970155 and parameters: {'criterion': 'gini', 'splitter': 'best', 'max_depth': 2, 'min_samples_split': 19, 'min_samples_leaf': 1, 'min_weight_fraction_leaf': 0.23848072337783832, 'max_features': 'sqrt', 'max_leaf_nodes': 17, 'min_impurity_decrease': 0.001044290267600658, 'class_weight': 'balanced', 'ccp_alpha': 0.03514681081210742, 'imputer_strategy_num': 'mean', 'imputer_strategy_cat': 'constant', 'scaler': 'robust', 'min_frequency': 0.9111078053801955}. Best is trial 0 with value: 0.038484871795970155.\n",
      "[I 2025-05-14 16:44:57,519] Trial 320 finished with value: 0.038484871795970155 and parameters: {'criterion': 'entropy', 'splitter': 'random', 'max_depth': 28, 'min_samples_split': 13, 'min_samples_leaf': 19, 'min_weight_fraction_leaf': 0.17483726852184223, 'max_features': None, 'max_leaf_nodes': 4, 'min_impurity_decrease': 0.00906651816806442, 'class_weight': 'balanced', 'ccp_alpha': 0.030873991742193557, 'imputer_strategy_num': 'mean', 'imputer_strategy_cat': 'constant', 'scaler': 'minmax', 'min_frequency': 0.7752343276999725}. Best is trial 0 with value: 0.038484871795970155.\n",
      "[I 2025-05-14 16:44:58,206] Trial 321 finished with value: 0.038484871795970155 and parameters: {'criterion': 'log_loss', 'splitter': 'best', 'max_depth': 16, 'min_samples_split': 20, 'min_samples_leaf': 2, 'min_weight_fraction_leaf': 0.08557823305927455, 'max_features': 'log2', 'max_leaf_nodes': 38, 'min_impurity_decrease': 0.017044516561888514, 'class_weight': None, 'ccp_alpha': 0.016599192303088282, 'imputer_strategy_num': 'mean', 'imputer_strategy_cat': 'constant', 'scaler': 'standard', 'min_frequency': 0.41613000633707664}. Best is trial 0 with value: 0.038484871795970155.\n",
      "[I 2025-05-14 16:44:59,067] Trial 322 finished with value: 0.038484871795970155 and parameters: {'criterion': 'entropy', 'splitter': 'best', 'max_depth': 14, 'min_samples_split': 16, 'min_samples_leaf': 5, 'min_weight_fraction_leaf': 0.38726785903140254, 'max_features': 'sqrt', 'max_leaf_nodes': 40, 'min_impurity_decrease': 0.03511587674283269, 'class_weight': 'balanced', 'ccp_alpha': 0.036809930569919956, 'imputer_strategy_num': 'median', 'imputer_strategy_cat': 'most_frequent', 'scaler': 'robust', 'min_frequency': 0.6847933571155231}. Best is trial 0 with value: 0.038484871795970155.\n",
      "[I 2025-05-14 16:44:59,787] Trial 323 finished with value: 0.038484871795970155 and parameters: {'criterion': 'log_loss', 'splitter': 'random', 'max_depth': 44, 'min_samples_split': 18, 'min_samples_leaf': 13, 'min_weight_fraction_leaf': 0.4344952580277644, 'max_features': 'sqrt', 'max_leaf_nodes': 18, 'min_impurity_decrease': 0.003385756114524847, 'class_weight': 'balanced', 'ccp_alpha': 0.04073725701047779, 'imputer_strategy_num': 'mean', 'imputer_strategy_cat': 'constant', 'scaler': 'minmax', 'min_frequency': 0.2991678289123451}. Best is trial 0 with value: 0.038484871795970155.\n",
      "[I 2025-05-14 16:45:00,467] Trial 324 finished with value: 0.038484871795970155 and parameters: {'criterion': 'entropy', 'splitter': 'best', 'max_depth': 43, 'min_samples_split': 9, 'min_samples_leaf': 6, 'min_weight_fraction_leaf': 0.30523158011278706, 'max_features': 'log2', 'max_leaf_nodes': None, 'min_impurity_decrease': 0.025851641537911953, 'class_weight': 'balanced', 'ccp_alpha': 0.009959170725258353, 'imputer_strategy_num': 'mean', 'imputer_strategy_cat': 'constant', 'scaler': 'standard', 'min_frequency': 0.9731011628559114}. Best is trial 0 with value: 0.038484871795970155.\n",
      "[I 2025-05-14 16:45:01,190] Trial 325 finished with value: 0.038484871795970155 and parameters: {'criterion': 'gini', 'splitter': 'random', 'max_depth': 15, 'min_samples_split': 19, 'min_samples_leaf': 16, 'min_weight_fraction_leaf': 0.01438853432737292, 'max_features': None, 'max_leaf_nodes': 7, 'min_impurity_decrease': 0.04011949497290843, 'class_weight': None, 'ccp_alpha': 0.021768785400479055, 'imputer_strategy_num': 'mean', 'imputer_strategy_cat': 'constant', 'scaler': 'robust', 'min_frequency': 0.5197856488182508}. Best is trial 0 with value: 0.038484871795970155.\n",
      "[I 2025-05-14 16:45:01,869] Trial 326 finished with value: 0.038484871795970155 and parameters: {'criterion': 'log_loss', 'splitter': 'best', 'max_depth': 13, 'min_samples_split': 15, 'min_samples_leaf': 10, 'min_weight_fraction_leaf': 0.13526130049368973, 'max_features': 'sqrt', 'max_leaf_nodes': 25, 'min_impurity_decrease': 0.022741404671356272, 'class_weight': 'balanced', 'ccp_alpha': 0.024109254457328394, 'imputer_strategy_num': 'mean', 'imputer_strategy_cat': 'constant', 'scaler': 'minmax', 'min_frequency': 0.7288043740028163}. Best is trial 0 with value: 0.038484871795970155.\n",
      "[I 2025-05-14 16:45:02,682] Trial 327 finished with value: 0.038484871795970155 and parameters: {'criterion': 'entropy', 'splitter': 'random', 'max_depth': 9, 'min_samples_split': 13, 'min_samples_leaf': 3, 'min_weight_fraction_leaf': 0.36571064611448934, 'max_features': 'log2', 'max_leaf_nodes': 8, 'min_impurity_decrease': 0.01389431702097331, 'class_weight': 'balanced', 'ccp_alpha': 0.0011371165241613303, 'imputer_strategy_num': 'median', 'imputer_strategy_cat': 'most_frequent', 'scaler': 'standard', 'min_frequency': 0.22161172409217406}. Best is trial 0 with value: 0.038484871795970155.\n",
      "[I 2025-05-14 16:45:03,428] Trial 328 finished with value: 0.038484871795970155 and parameters: {'criterion': 'log_loss', 'splitter': 'best', 'max_depth': 7, 'min_samples_split': 17, 'min_samples_leaf': 12, 'min_weight_fraction_leaf': 0.07062836817417334, 'max_features': 'sqrt', 'max_leaf_nodes': 49, 'min_impurity_decrease': 0.011282552550920973, 'class_weight': 'balanced', 'ccp_alpha': 0.0036391847249793523, 'imputer_strategy_num': 'mean', 'imputer_strategy_cat': 'constant', 'scaler': 'robust', 'min_frequency': 0.6104444082495575}. Best is trial 0 with value: 0.038484871795970155.\n",
      "[I 2025-05-14 16:45:04,142] Trial 329 finished with value: 0.038484871795970155 and parameters: {'criterion': 'entropy', 'splitter': 'best', 'max_depth': 46, 'min_samples_split': 4, 'min_samples_leaf': 7, 'min_weight_fraction_leaf': 0.09496007420723016, 'max_features': 'log2', 'max_leaf_nodes': 30, 'min_impurity_decrease': 0.047056446844374676, 'class_weight': None, 'ccp_alpha': 0.034082487000061876, 'imputer_strategy_num': 'mean', 'imputer_strategy_cat': 'constant', 'scaler': 'minmax', 'min_frequency': 0.8284932508064591}. Best is trial 0 with value: 0.038484871795970155.\n",
      "[I 2025-05-14 16:45:04,831] Trial 330 finished with value: 0.038484871795970155 and parameters: {'criterion': 'gini', 'splitter': 'random', 'max_depth': 35, 'min_samples_split': 20, 'min_samples_leaf': 11, 'min_weight_fraction_leaf': 0.20401412324985693, 'max_features': 'sqrt', 'max_leaf_nodes': 9, 'min_impurity_decrease': 0.038112204839363416, 'class_weight': 'balanced', 'ccp_alpha': 0.015601668592974738, 'imputer_strategy_num': 'mean', 'imputer_strategy_cat': 'constant', 'scaler': 'standard', 'min_frequency': 0.05589567029159956}. Best is trial 0 with value: 0.038484871795970155.\n",
      "[I 2025-05-14 16:45:05,744] Trial 331 finished with value: 0.038484871795970155 and parameters: {'criterion': 'entropy', 'splitter': 'best', 'max_depth': 47, 'min_samples_split': 7, 'min_samples_leaf': 4, 'min_weight_fraction_leaf': 0.22319468178003982, 'max_features': None, 'max_leaf_nodes': 36, 'min_impurity_decrease': 0.03045869614640374, 'class_weight': 'balanced', 'ccp_alpha': 0.04778125568297115, 'imputer_strategy_num': 'median', 'imputer_strategy_cat': 'most_frequent', 'scaler': 'robust', 'min_frequency': 0.44991857728351375}. Best is trial 0 with value: 0.038484871795970155.\n",
      "[I 2025-05-14 16:45:06,424] Trial 332 finished with value: 0.038484871795970155 and parameters: {'criterion': 'log_loss', 'splitter': 'random', 'max_depth': 42, 'min_samples_split': 6, 'min_samples_leaf': 1, 'min_weight_fraction_leaf': 0.4582118101033605, 'max_features': 'log2', 'max_leaf_nodes': 34, 'min_impurity_decrease': 0.02036765968459859, 'class_weight': 'balanced', 'ccp_alpha': 0.028620953163725503, 'imputer_strategy_num': 'mean', 'imputer_strategy_cat': 'constant', 'scaler': 'minmax', 'min_frequency': 0.39149577235847816}. Best is trial 0 with value: 0.038484871795970155.\n",
      "[I 2025-05-14 16:45:07,120] Trial 333 finished with value: 0.038484871795970155 and parameters: {'criterion': 'entropy', 'splitter': 'best', 'max_depth': 36, 'min_samples_split': 11, 'min_samples_leaf': 15, 'min_weight_fraction_leaf': 0.1624214771409801, 'max_features': 'sqrt', 'max_leaf_nodes': 20, 'min_impurity_decrease': 0.01550063082961548, 'class_weight': 'balanced', 'ccp_alpha': 0.019974253672604435, 'imputer_strategy_num': 'mean', 'imputer_strategy_cat': 'constant', 'scaler': 'standard', 'min_frequency': 0.1739264269064176}. Best is trial 0 with value: 0.038484871795970155.\n",
      "[I 2025-05-14 16:45:07,854] Trial 334 finished with value: 0.038484871795970155 and parameters: {'criterion': 'log_loss', 'splitter': 'best', 'max_depth': 18, 'min_samples_split': 19, 'min_samples_leaf': 14, 'min_weight_fraction_leaf': 0.1475953150528495, 'max_features': 'sqrt', 'max_leaf_nodes': 43, 'min_impurity_decrease': 0.027692827316083354, 'class_weight': None, 'ccp_alpha': 0.01756155990835877, 'imputer_strategy_num': 'mean', 'imputer_strategy_cat': 'constant', 'scaler': 'robust', 'min_frequency': 0.47451792239804924}. Best is trial 0 with value: 0.038484871795970155.\n",
      "[I 2025-05-14 16:45:08,704] Trial 335 finished with value: 0.038484871795970155 and parameters: {'criterion': 'entropy', 'splitter': 'random', 'max_depth': 31, 'min_samples_split': 16, 'min_samples_leaf': 3, 'min_weight_fraction_leaf': 0.33071334078162307, 'max_features': 'log2', 'max_leaf_nodes': 13, 'min_impurity_decrease': 0.04224041873310422, 'class_weight': 'balanced', 'ccp_alpha': 0.006901582828950014, 'imputer_strategy_num': 'median', 'imputer_strategy_cat': 'most_frequent', 'scaler': 'minmax', 'min_frequency': 0.5672161195266231}. Best is trial 0 with value: 0.038484871795970155.\n",
      "[I 2025-05-14 16:45:09,464] Trial 336 finished with value: 0.038484871795970155 and parameters: {'criterion': 'gini', 'splitter': 'best', 'max_depth': 34, 'min_samples_split': 18, 'min_samples_leaf': 8, 'min_weight_fraction_leaf': 0.2831384228626993, 'max_features': None, 'max_leaf_nodes': 5, 'min_impurity_decrease': 0.021614829942926995, 'class_weight': 'balanced', 'ccp_alpha': 0.01450828643642097, 'imputer_strategy_num': 'mean', 'imputer_strategy_cat': 'constant', 'scaler': 'standard', 'min_frequency': 0.9514921643471028}. Best is trial 0 with value: 0.038484871795970155.\n",
      "[I 2025-05-14 16:45:10,193] Trial 337 finished with value: 0.038484871795970155 and parameters: {'criterion': 'log_loss', 'splitter': 'random', 'max_depth': 11, 'min_samples_split': 5, 'min_samples_leaf': 10, 'min_weight_fraction_leaf': 0.054885555343089136, 'max_features': 'sqrt', 'max_leaf_nodes': 31, 'min_impurity_decrease': 0.01802837441795751, 'class_weight': 'balanced', 'ccp_alpha': 0.012504547433406617, 'imputer_strategy_num': 'mean', 'imputer_strategy_cat': 'constant', 'scaler': 'robust', 'min_frequency': 0.34912367759139323}. Best is trial 0 with value: 0.038484871795970155.\n",
      "[I 2025-05-14 16:45:10,878] Trial 338 finished with value: 0.038484871795970155 and parameters: {'criterion': 'entropy', 'splitter': 'best', 'max_depth': 33, 'min_samples_split': 12, 'min_samples_leaf': 18, 'min_weight_fraction_leaf': 0.11210346398258715, 'max_features': 'log2', 'max_leaf_nodes': 14, 'min_impurity_decrease': 0.013060015024781785, 'class_weight': None, 'ccp_alpha': 0.032047847710436644, 'imputer_strategy_num': 'mean', 'imputer_strategy_cat': 'constant', 'scaler': 'minmax', 'min_frequency': 0.10609868161581729}. Best is trial 0 with value: 0.038484871795970155.\n",
      "[I 2025-05-14 16:45:11,569] Trial 339 finished with value: 0.038484871795970155 and parameters: {'criterion': 'entropy', 'splitter': 'best', 'max_depth': 27, 'min_samples_split': 17, 'min_samples_leaf': 4, 'min_weight_fraction_leaf': 0.42387400951642923, 'max_features': 'sqrt', 'max_leaf_nodes': 28, 'min_impurity_decrease': 0.005644585351549352, 'class_weight': 'balanced', 'ccp_alpha': 0.039828203474829, 'imputer_strategy_num': 'mean', 'imputer_strategy_cat': 'constant', 'scaler': 'standard', 'min_frequency': 0.32580086885889276}. Best is trial 0 with value: 0.038484871795970155.\n",
      "[I 2025-05-14 16:45:12,427] Trial 340 finished with value: 0.038484871795970155 and parameters: {'criterion': 'log_loss', 'splitter': 'random', 'max_depth': 49, 'min_samples_split': 14, 'min_samples_leaf': 5, 'min_weight_fraction_leaf': 0.07825665618970008, 'max_features': 'log2', 'max_leaf_nodes': 16, 'min_impurity_decrease': 0.007035010480283181, 'class_weight': 'balanced', 'ccp_alpha': 0.035970043979252395, 'imputer_strategy_num': 'median', 'imputer_strategy_cat': 'most_frequent', 'scaler': 'robust', 'min_frequency': 0.1459298963856673}. Best is trial 0 with value: 0.038484871795970155.\n",
      "[I 2025-05-14 16:45:13,107] Trial 341 finished with value: 0.038484871795970155 and parameters: {'criterion': 'gini', 'splitter': 'best', 'max_depth': 24, 'min_samples_split': 20, 'min_samples_leaf': 7, 'min_weight_fraction_leaf': 0.124167809434178, 'max_features': 'sqrt', 'max_leaf_nodes': 10, 'min_impurity_decrease': 0.0316386182524162, 'class_weight': 'balanced', 'ccp_alpha': 0.018666309601156044, 'imputer_strategy_num': 'mean', 'imputer_strategy_cat': 'constant', 'scaler': 'minmax', 'min_frequency': 0.8811552818504924}. Best is trial 0 with value: 0.038484871795970155.\n",
      "[I 2025-05-14 16:45:13,843] Trial 342 finished with value: 0.038484871795970155 and parameters: {'criterion': 'entropy', 'splitter': 'random', 'max_depth': 4, 'min_samples_split': 8, 'min_samples_leaf': 2, 'min_weight_fraction_leaf': 0.25161630300803306, 'max_features': None, 'max_leaf_nodes': 45, 'min_impurity_decrease': 0.00011721388676185374, 'class_weight': None, 'ccp_alpha': 0.001042821786160892, 'imputer_strategy_num': 'mean', 'imputer_strategy_cat': 'constant', 'scaler': 'standard', 'min_frequency': 0.7938816472469308}. Best is trial 0 with value: 0.038484871795970155.\n",
      "[I 2025-05-14 16:45:14,527] Trial 343 finished with value: 0.038484871795970155 and parameters: {'criterion': 'log_loss', 'splitter': 'best', 'max_depth': 30, 'min_samples_split': 7, 'min_samples_leaf': 6, 'min_weight_fraction_leaf': 0.4141607075041345, 'max_features': 'sqrt', 'max_leaf_nodes': 11, 'min_impurity_decrease': 0.010085121766691015, 'class_weight': 'balanced', 'ccp_alpha': 0.03010371995554933, 'imputer_strategy_num': 'mean', 'imputer_strategy_cat': 'constant', 'scaler': 'minmax', 'min_frequency': 0.6342161042507815}. Best is trial 0 with value: 0.038484871795970155.\n",
      "[I 2025-05-14 16:45:15,386] Trial 344 finished with value: 0.038484871795970155 and parameters: {'criterion': 'entropy', 'splitter': 'best', 'max_depth': 23, 'min_samples_split': 19, 'min_samples_leaf': 9, 'min_weight_fraction_leaf': 0.3201778370556719, 'max_features': 'log2', 'max_leaf_nodes': 19, 'min_impurity_decrease': 0.008584699274151685, 'class_weight': 'balanced', 'ccp_alpha': 0.002503738221788025, 'imputer_strategy_num': 'median', 'imputer_strategy_cat': 'most_frequent', 'scaler': 'robust', 'min_frequency': 0.2403563647801118}. Best is trial 0 with value: 0.038484871795970155.\n",
      "[I 2025-05-14 16:45:16,061] Trial 345 finished with value: 0.038484871795970155 and parameters: {'criterion': 'log_loss', 'splitter': 'random', 'max_depth': 8, 'min_samples_split': 12, 'min_samples_leaf': 11, 'min_weight_fraction_leaf': 0.4456839053038267, 'max_features': 'sqrt', 'max_leaf_nodes': 21, 'min_impurity_decrease': 0.029795023304887848, 'class_weight': 'balanced', 'ccp_alpha': 0.009148019160722005, 'imputer_strategy_num': 'mean', 'imputer_strategy_cat': 'constant', 'scaler': 'minmax', 'min_frequency': 0.9356709814326531}. Best is trial 0 with value: 0.038484871795970155.\n",
      "[I 2025-05-14 16:45:16,747] Trial 346 finished with value: 0.038484871795970155 and parameters: {'criterion': 'entropy', 'splitter': 'best', 'max_depth': 7, 'min_samples_split': 2, 'min_samples_leaf': 17, 'min_weight_fraction_leaf': 0.022875438340736166, 'max_features': 'log2', 'max_leaf_nodes': 42, 'min_impurity_decrease': 0.014480759064568565, 'class_weight': 'balanced', 'ccp_alpha': 0.00012514956384138698, 'imputer_strategy_num': 'mean', 'imputer_strategy_cat': 'constant', 'scaler': 'standard', 'min_frequency': 0.19854446821737956}. Best is trial 0 with value: 0.038484871795970155.\n",
      "[I 2025-05-14 16:45:17,480] Trial 347 finished with value: 0.038484871795970155 and parameters: {'criterion': 'gini', 'splitter': 'random', 'max_depth': 41, 'min_samples_split': 10, 'min_samples_leaf': 2, 'min_weight_fraction_leaf': 0.35509167093512395, 'max_features': None, 'max_leaf_nodes': 12, 'min_impurity_decrease': 0.002119892172565457, 'class_weight': None, 'ccp_alpha': 0.03729396094198082, 'imputer_strategy_num': 'mean', 'imputer_strategy_cat': 'constant', 'scaler': 'robust', 'min_frequency': 0.37321992391508946}. Best is trial 0 with value: 0.038484871795970155.\n",
      "[I 2025-05-14 16:45:18,345] Trial 348 finished with value: 0.038484871795970155 and parameters: {'criterion': 'entropy', 'splitter': 'best', 'max_depth': 3, 'min_samples_split': 15, 'min_samples_leaf': 4, 'min_weight_fraction_leaf': 0.1830342467815807, 'max_features': 'sqrt', 'max_leaf_nodes': 7, 'min_impurity_decrease': 0.01079373622899167, 'class_weight': 'balanced', 'ccp_alpha': 0.049116005814892616, 'imputer_strategy_num': 'median', 'imputer_strategy_cat': 'most_frequent', 'scaler': 'minmax', 'min_frequency': 0.42054639751320116}. Best is trial 0 with value: 0.038484871795970155.\n",
      "[I 2025-05-14 16:45:19,026] Trial 349 finished with value: 0.038484871795970155 and parameters: {'criterion': 'log_loss', 'splitter': 'random', 'max_depth': 20, 'min_samples_split': 18, 'min_samples_leaf': 16, 'min_weight_fraction_leaf': 0.3962556468742228, 'max_features': 'log2', 'max_leaf_nodes': 47, 'min_impurity_decrease': 0.01174289632296912, 'class_weight': 'balanced', 'ccp_alpha': 0.010903125168981821, 'imputer_strategy_num': 'mean', 'imputer_strategy_cat': 'constant', 'scaler': 'standard', 'min_frequency': 0.26066886102009773}. Best is trial 0 with value: 0.038484871795970155.\n",
      "[I 2025-05-14 16:45:19,751] Trial 350 finished with value: 0.038484871795970155 and parameters: {'criterion': 'entropy', 'splitter': 'best', 'max_depth': 10, 'min_samples_split': 17, 'min_samples_leaf': 3, 'min_weight_fraction_leaf': 0.23979441414726224, 'max_features': 'sqrt', 'max_leaf_nodes': 22, 'min_impurity_decrease': 0.028826564824830127, 'class_weight': 'balanced', 'ccp_alpha': 0.04687145265628447, 'imputer_strategy_num': 'mean', 'imputer_strategy_cat': 'constant', 'scaler': 'robust', 'min_frequency': 0.8573376946301197}. Best is trial 0 with value: 0.038484871795970155.\n",
      "[I 2025-05-14 16:45:20,439] Trial 351 finished with value: 0.038484871795970155 and parameters: {'criterion': 'log_loss', 'splitter': 'best', 'max_depth': 6, 'min_samples_split': 16, 'min_samples_leaf': 13, 'min_weight_fraction_leaf': 0.10330063833168072, 'max_features': 'log2', 'max_leaf_nodes': 15, 'min_impurity_decrease': 0.026810732863039696, 'class_weight': None, 'ccp_alpha': 0.013307374310585414, 'imputer_strategy_num': 'mean', 'imputer_strategy_cat': 'constant', 'scaler': 'minmax', 'min_frequency': 0.032539825613418547}. Best is trial 0 with value: 0.038484871795970155.\n",
      "[I 2025-05-14 16:45:21,124] Trial 352 finished with value: 0.038484871795970155 and parameters: {'criterion': 'gini', 'splitter': 'random', 'max_depth': 21, 'min_samples_split': 19, 'min_samples_leaf': 12, 'min_weight_fraction_leaf': 0.21330340313720414, 'max_features': 'sqrt', 'max_leaf_nodes': 44, 'min_impurity_decrease': 0.016656987208610273, 'class_weight': 'balanced', 'ccp_alpha': 0.02691679685823151, 'imputer_strategy_num': 'mean', 'imputer_strategy_cat': 'constant', 'scaler': 'standard', 'min_frequency': 0.39861533565304347}. Best is trial 0 with value: 0.038484871795970155.\n",
      "[I 2025-05-14 16:45:22,034] Trial 353 finished with value: 0.038484871795970155 and parameters: {'criterion': 'entropy', 'splitter': 'best', 'max_depth': None, 'min_samples_split': 14, 'min_samples_leaf': 10, 'min_weight_fraction_leaf': 0.15789196219177526, 'max_features': None, 'max_leaf_nodes': 37, 'min_impurity_decrease': 0.024628307365088024, 'class_weight': 'balanced', 'ccp_alpha': 0.022984602453518396, 'imputer_strategy_num': 'median', 'imputer_strategy_cat': 'most_frequent', 'scaler': 'robust', 'min_frequency': 0.9833610784699954}. Best is trial 0 with value: 0.038484871795970155.\n",
      "[I 2025-05-14 16:45:22,711] Trial 354 finished with value: 0.038484871795970155 and parameters: {'criterion': 'log_loss', 'splitter': 'random', 'max_depth': 12, 'min_samples_split': 6, 'min_samples_leaf': 5, 'min_weight_fraction_leaf': 0.338864709014912, 'max_features': 'sqrt', 'max_leaf_nodes': 3, 'min_impurity_decrease': 0.030903791441022874, 'class_weight': 'balanced', 'ccp_alpha': 0.04216706060866934, 'imputer_strategy_num': 'mean', 'imputer_strategy_cat': 'constant', 'scaler': 'minmax', 'min_frequency': 0.690705774849599}. Best is trial 0 with value: 0.038484871795970155.\n",
      "[I 2025-05-14 16:45:23,438] Trial 355 finished with value: 0.038484871795970155 and parameters: {'criterion': 'entropy', 'splitter': 'best', 'max_depth': 17, 'min_samples_split': 11, 'min_samples_leaf': 8, 'min_weight_fraction_leaf': 0.27243697359782587, 'max_features': 'log2', 'max_leaf_nodes': 9, 'min_impurity_decrease': 0.002952991879974062, 'class_weight': None, 'ccp_alpha': 0.020321633550673138, 'imputer_strategy_num': 'mean', 'imputer_strategy_cat': 'constant', 'scaler': 'standard', 'min_frequency': 0.1897161618152221}. Best is trial 0 with value: 0.038484871795970155.\n",
      "[I 2025-05-14 16:45:24,180] Trial 356 finished with value: 0.038484871795970155 and parameters: {'criterion': 'log_loss', 'splitter': 'best', 'max_depth': 19, 'min_samples_split': 20, 'min_samples_leaf': 2, 'min_weight_fraction_leaf': 0.1945314928287107, 'max_features': 'sqrt', 'max_leaf_nodes': 38, 'min_impurity_decrease': 0.007430518175093045, 'class_weight': 'balanced', 'ccp_alpha': 0.004247713848624272, 'imputer_strategy_num': 'mean', 'imputer_strategy_cat': 'constant', 'scaler': 'robust', 'min_frequency': 0.5072300406201157}. Best is trial 0 with value: 0.038484871795970155.\n",
      "[I 2025-05-14 16:45:24,987] Trial 357 finished with value: 0.038484871795970155 and parameters: {'criterion': 'entropy', 'splitter': 'random', 'max_depth': 26, 'min_samples_split': 3, 'min_samples_leaf': 11, 'min_weight_fraction_leaf': 0.04149251784078741, 'max_features': 'log2', 'max_leaf_nodes': 46, 'min_impurity_decrease': 0.009670158632923915, 'class_weight': 'balanced', 'ccp_alpha': 0.03817336075466831, 'imputer_strategy_num': 'median', 'imputer_strategy_cat': 'most_frequent', 'scaler': 'minmax', 'min_frequency': 0.282492338475333}. Best is trial 0 with value: 0.038484871795970155.\n",
      "[I 2025-05-14 16:45:25,724] Trial 358 finished with value: 0.038484871795970155 and parameters: {'criterion': 'gini', 'splitter': 'best', 'max_depth': 37, 'min_samples_split': 18, 'min_samples_leaf': 19, 'min_weight_fraction_leaf': 0.3807064949466537, 'max_features': None, 'max_leaf_nodes': 29, 'min_impurity_decrease': 0.01266397850438647, 'class_weight': 'balanced', 'ccp_alpha': 0.008523368883863708, 'imputer_strategy_num': 'mean', 'imputer_strategy_cat': 'constant', 'scaler': 'standard', 'min_frequency': 0.6588366358535608}. Best is trial 0 with value: 0.038484871795970155.\n",
      "[I 2025-05-14 16:45:26,465] Trial 359 finished with value: 0.038484871795970155 and parameters: {'criterion': 'entropy', 'splitter': 'random', 'max_depth': 27, 'min_samples_split': 14, 'min_samples_leaf': 1, 'min_weight_fraction_leaf': 0.1333234809145175, 'max_features': 'sqrt', 'max_leaf_nodes': 6, 'min_impurity_decrease': 0.032102614587904865, 'class_weight': None, 'ccp_alpha': 0.03124267798219388, 'imputer_strategy_num': 'mean', 'imputer_strategy_cat': 'constant', 'scaler': 'robust', 'min_frequency': 0.35214433006948975}. Best is trial 0 with value: 0.038484871795970155.\n",
      "[I 2025-05-14 16:45:27,144] Trial 360 finished with value: 0.038484871795970155 and parameters: {'criterion': 'log_loss', 'splitter': 'best', 'max_depth': 2, 'min_samples_split': 13, 'min_samples_leaf': 18, 'min_weight_fraction_leaf': 0.29898695890636945, 'max_features': 'log2', 'max_leaf_nodes': 50, 'min_impurity_decrease': 0.03619805044241357, 'class_weight': 'balanced', 'ccp_alpha': 0.021640455233188714, 'imputer_strategy_num': 'mean', 'imputer_strategy_cat': 'constant', 'scaler': 'minmax', 'min_frequency': 0.9087375179532324}. Best is trial 0 with value: 0.038484871795970155.\n",
      "[I 2025-05-14 16:45:28,012] Trial 361 finished with value: 0.038484871795970155 and parameters: {'criterion': 'entropy', 'splitter': 'best', 'max_depth': 32, 'min_samples_split': 19, 'min_samples_leaf': 15, 'min_weight_fraction_leaf': 0.17698651591382875, 'max_features': 'sqrt', 'max_leaf_nodes': 33, 'min_impurity_decrease': 0.0152123909243488, 'class_weight': 'balanced', 'ccp_alpha': 0.007226755019172109, 'imputer_strategy_num': 'median', 'imputer_strategy_cat': 'most_frequent', 'scaler': 'standard', 'min_frequency': 0.44098164101640874}. Best is trial 0 with value: 0.038484871795970155.\n",
      "[I 2025-05-14 16:45:28,751] Trial 362 finished with value: 0.038484871795970155 and parameters: {'criterion': 'log_loss', 'splitter': 'random', 'max_depth': 15, 'min_samples_split': 8, 'min_samples_leaf': 20, 'min_weight_fraction_leaf': 0.2297389084527027, 'max_features': 'sqrt', 'max_leaf_nodes': 39, 'min_impurity_decrease': 0.022558006134344458, 'class_weight': 'balanced', 'ccp_alpha': 0.032738591267759826, 'imputer_strategy_num': 'mean', 'imputer_strategy_cat': 'constant', 'scaler': 'robust', 'min_frequency': 0.16047618554838763}. Best is trial 0 with value: 0.038484871795970155.\n",
      "[I 2025-05-14 16:45:29,433] Trial 363 finished with value: 0.038484871795970155 and parameters: {'criterion': 'gini', 'splitter': 'best', 'max_depth': 11, 'min_samples_split': 17, 'min_samples_leaf': 3, 'min_weight_fraction_leaf': 0.4724484134915979, 'max_features': 'log2', 'max_leaf_nodes': 40, 'min_impurity_decrease': 0.008530425324588678, 'class_weight': 'balanced', 'ccp_alpha': 0.018945396475464612, 'imputer_strategy_num': 'mean', 'imputer_strategy_cat': 'constant', 'scaler': 'minmax', 'min_frequency': 0.22434586301701612}. Best is trial 0 with value: 0.038484871795970155.\n",
      "[I 2025-05-14 16:45:30,117] Trial 364 finished with value: 0.038484871795970155 and parameters: {'criterion': 'entropy', 'splitter': 'random', 'max_depth': 16, 'min_samples_split': 5, 'min_samples_leaf': 4, 'min_weight_fraction_leaf': 0.16988034049877668, 'max_features': None, 'max_leaf_nodes': 26, 'min_impurity_decrease': 0.02343351017213434, 'class_weight': None, 'ccp_alpha': 0.0059895970598215125, 'imputer_strategy_num': 'mean', 'imputer_strategy_cat': 'constant', 'scaler': 'standard', 'min_frequency': 0.5935506408303567}. Best is trial 0 with value: 0.038484871795970155.\n",
      "[I 2025-05-14 16:45:30,964] Trial 365 finished with value: 0.038484871795970155 and parameters: {'criterion': 'log_loss', 'splitter': 'best', 'max_depth': 13, 'min_samples_split': 16, 'min_samples_leaf': 6, 'min_weight_fraction_leaf': 0.14224953859715347, 'max_features': 'sqrt', 'max_leaf_nodes': 48, 'min_impurity_decrease': 0.033628027280434014, 'class_weight': 'balanced', 'ccp_alpha': 0.017496613613893174, 'imputer_strategy_num': 'median', 'imputer_strategy_cat': 'constant', 'scaler': 'robust', 'min_frequency': 0.00995710979485876}. Best is trial 0 with value: 0.038484871795970155.\n",
      "[I 2025-05-14 16:45:31,735] Trial 366 finished with value: 0.038484871795970155 and parameters: {'criterion': 'entropy', 'splitter': 'random', 'max_depth': 35, 'min_samples_split': 9, 'min_samples_leaf': 11, 'min_weight_fraction_leaf': 0.11934151039289217, 'max_features': 'log2', 'max_leaf_nodes': 43, 'min_impurity_decrease': 0.018797419419743115, 'class_weight': 'balanced', 'ccp_alpha': 0.04435196377178936, 'imputer_strategy_num': 'mean', 'imputer_strategy_cat': 'most_frequent', 'scaler': 'minmax', 'min_frequency': 0.958097252824601}. Best is trial 0 with value: 0.038484871795970155.\n",
      "[I 2025-05-14 16:45:32,415] Trial 367 finished with value: 0.038484871795970155 and parameters: {'criterion': 'entropy', 'splitter': 'best', 'max_depth': 14, 'min_samples_split': 10, 'min_samples_leaf': 14, 'min_weight_fraction_leaf': 0.08124145450068569, 'max_features': 'sqrt', 'max_leaf_nodes': 49, 'min_impurity_decrease': 0.004426009720391844, 'class_weight': 'balanced', 'ccp_alpha': 0.010308602273393478, 'imputer_strategy_num': 'mean', 'imputer_strategy_cat': 'constant', 'scaler': 'standard', 'min_frequency': 0.3114673375363819}. Best is trial 0 with value: 0.038484871795970155.\n",
      "[I 2025-05-14 16:45:33,172] Trial 368 finished with value: 0.038484871795970155 and parameters: {'criterion': 'log_loss', 'splitter': 'best', 'max_depth': 22, 'min_samples_split': 4, 'min_samples_leaf': 1, 'min_weight_fraction_leaf': 0.007722580624001186, 'max_features': 'log2', 'max_leaf_nodes': 25, 'min_impurity_decrease': 0.019881792404149615, 'class_weight': None, 'ccp_alpha': 0.01170209685914839, 'imputer_strategy_num': 'mean', 'imputer_strategy_cat': 'constant', 'scaler': 'robust', 'min_frequency': 0.7425775186266396}. Best is trial 0 with value: 0.038484871795970155.\n",
      "[I 2025-05-14 16:45:33,860] Trial 369 finished with value: 0.038484871795970155 and parameters: {'criterion': 'gini', 'splitter': 'random', 'max_depth': 47, 'min_samples_split': 20, 'min_samples_leaf': 7, 'min_weight_fraction_leaf': 0.09617404227063615, 'max_features': None, 'max_leaf_nodes': 34, 'min_impurity_decrease': 0.016114392380202548, 'class_weight': 'balanced', 'ccp_alpha': 0.0019487958606559108, 'imputer_strategy_num': 'mean', 'imputer_strategy_cat': 'constant', 'scaler': 'minmax', 'min_frequency': 0.488181238469773}. Best is trial 0 with value: 0.038484871795970155.\n",
      "[I 2025-05-14 16:45:34,656] Trial 370 finished with value: 0.038484871795970155 and parameters: {'criterion': 'entropy', 'splitter': 'best', 'max_depth': 7, 'min_samples_split': 15, 'min_samples_leaf': 12, 'min_weight_fraction_leaf': 0.31746254836546306, 'max_features': 'sqrt', 'max_leaf_nodes': 30, 'min_impurity_decrease': 0.006533881737736907, 'class_weight': 'balanced', 'ccp_alpha': 0.03533182734040007, 'imputer_strategy_num': 'median', 'imputer_strategy_cat': 'most_frequent', 'scaler': 'standard', 'min_frequency': 0.999149219388319}. Best is trial 0 with value: 0.038484871795970155.\n",
      "[I 2025-05-14 16:45:35,316] Trial 371 finished with value: 0.038484871795970155 and parameters: {'criterion': 'log_loss', 'splitter': 'random', 'max_depth': 42, 'min_samples_split': 7, 'min_samples_leaf': 8, 'min_weight_fraction_leaf': 0.28758515584670896, 'max_features': 'sqrt', 'max_leaf_nodes': 31, 'min_impurity_decrease': 0.048536296567418556, 'class_weight': 'balanced', 'ccp_alpha': 0.02580546593728753, 'imputer_strategy_num': 'mean', 'imputer_strategy_cat': 'constant', 'scaler': 'minmax', 'min_frequency': 0.8177121553934203}. Best is trial 0 with value: 0.038484871795970155.\n",
      "[I 2025-05-14 16:45:36,033] Trial 372 finished with value: 0.038484871795970155 and parameters: {'criterion': 'entropy', 'splitter': 'best', 'max_depth': 34, 'min_samples_split': 12, 'min_samples_leaf': 2, 'min_weight_fraction_leaf': 0.06312710967682433, 'max_features': 'log2', 'max_leaf_nodes': 23, 'min_impurity_decrease': 0.027855020852823896, 'class_weight': None, 'ccp_alpha': 0.029152697862066503, 'imputer_strategy_num': 'mean', 'imputer_strategy_cat': 'constant', 'scaler': 'robust', 'min_frequency': 0.12064957428602292}. Best is trial 0 with value: 0.038484871795970155.\n",
      "[I 2025-05-14 16:45:36,696] Trial 373 finished with value: 0.038484871795970155 and parameters: {'criterion': 'log_loss', 'splitter': 'best', 'max_depth': 27, 'min_samples_split': 18, 'min_samples_leaf': 9, 'min_weight_fraction_leaf': 0.16252847160424508, 'max_features': 'sqrt', 'max_leaf_nodes': 9, 'min_impurity_decrease': 0.02525371166370539, 'class_weight': 'balanced', 'ccp_alpha': 0.016161219219480105, 'imputer_strategy_num': 'mean', 'imputer_strategy_cat': 'constant', 'scaler': 'standard', 'min_frequency': 0.7655669406863654}. Best is trial 0 with value: 0.038484871795970155.\n",
      "[I 2025-05-14 16:45:37,552] Trial 374 finished with value: 0.038484871795970155 and parameters: {'criterion': 'gini', 'splitter': 'random', 'max_depth': 18, 'min_samples_split': 3, 'min_samples_leaf': 3, 'min_weight_fraction_leaf': 0.26468419314031466, 'max_features': None, 'max_leaf_nodes': 20, 'min_impurity_decrease': 0.021558825653286956, 'class_weight': 'balanced', 'ccp_alpha': 0.0032408074433103173, 'imputer_strategy_num': 'median', 'imputer_strategy_cat': 'most_frequent', 'scaler': 'minmax', 'min_frequency': 0.0791519467710051}. Best is trial 0 with value: 0.038484871795970155.\n",
      "[I 2025-05-14 16:45:38,271] Trial 375 finished with value: 0.038484871795970155 and parameters: {'criterion': 'entropy', 'splitter': 'best', 'max_depth': 8, 'min_samples_split': 19, 'min_samples_leaf': 3, 'min_weight_fraction_leaf': 0.20109343447367095, 'max_features': 'log2', 'max_leaf_nodes': 10, 'min_impurity_decrease': 0.029215021246461883, 'class_weight': 'balanced', 'ccp_alpha': 0.04827103816941602, 'imputer_strategy_num': 'mean', 'imputer_strategy_cat': 'constant', 'scaler': 'robust', 'min_frequency': 0.3733359844026244}. Best is trial 0 with value: 0.038484871795970155.\n",
      "[I 2025-05-14 16:45:38,930] Trial 376 finished with value: 0.038484871795970155 and parameters: {'criterion': 'log_loss', 'splitter': 'random', 'max_depth': 4, 'min_samples_split': 20, 'min_samples_leaf': 14, 'min_weight_fraction_leaf': 0.3079194145259107, 'max_features': 'sqrt', 'max_leaf_nodes': 13, 'min_impurity_decrease': 0.011615575722079314, 'class_weight': 'balanced', 'ccp_alpha': 0.045812903185755684, 'imputer_strategy_num': 'mean', 'imputer_strategy_cat': 'constant', 'scaler': 'minmax', 'min_frequency': 0.9285814652990535}. Best is trial 0 with value: 0.038484871795970155.\n",
      "[I 2025-05-14 16:45:39,598] Trial 377 finished with value: 0.038484871795970155 and parameters: {'criterion': 'entropy', 'splitter': 'best', 'max_depth': 23, 'min_samples_split': 11, 'min_samples_leaf': 4, 'min_weight_fraction_leaf': 0.37031672196294213, 'max_features': 'log2', 'max_leaf_nodes': 7, 'min_impurity_decrease': 0.010405555514926, 'class_weight': None, 'ccp_alpha': 0.04999776617241311, 'imputer_strategy_num': 'mean', 'imputer_strategy_cat': 'constant', 'scaler': 'standard', 'min_frequency': 0.3945641651555652}. Best is trial 0 with value: 0.038484871795970155.\n",
      "[I 2025-05-14 16:45:40,442] Trial 378 finished with value: 0.038484871795970155 and parameters: {'criterion': 'entropy', 'splitter': 'best', 'max_depth': 7, 'min_samples_split': 13, 'min_samples_leaf': 5, 'min_weight_fraction_leaf': 0.3446593378348126, 'max_features': 'sqrt', 'max_leaf_nodes': 11, 'min_impurity_decrease': 0.017310054410495403, 'class_weight': 'balanced', 'ccp_alpha': 3.2313807934153987e-06, 'imputer_strategy_num': 'median', 'imputer_strategy_cat': 'most_frequent', 'scaler': 'robust', 'min_frequency': 0.5495624143088738}. Best is trial 0 with value: 0.038484871795970155.\n",
      "[I 2025-05-14 16:45:41,131] Trial 379 finished with value: 0.038484871795970155 and parameters: {'criterion': 'log_loss', 'splitter': 'random', 'max_depth': 30, 'min_samples_split': 9, 'min_samples_leaf': 7, 'min_weight_fraction_leaf': 0.32789836611716744, 'max_features': None, 'max_leaf_nodes': 42, 'min_impurity_decrease': 0.0010496043778326029, 'class_weight': 'balanced', 'ccp_alpha': 0.03347740289222905, 'imputer_strategy_num': 'mean', 'imputer_strategy_cat': 'constant', 'scaler': 'minmax', 'min_frequency': 0.17448934684848683}. Best is trial 0 with value: 0.038484871795970155.\n",
      "[I 2025-05-14 16:45:41,797] Trial 380 finished with value: 0.038484871795970155 and parameters: {'criterion': 'gini', 'splitter': 'best', 'max_depth': 29, 'min_samples_split': 18, 'min_samples_leaf': 10, 'min_weight_fraction_leaf': 0.24634764197269324, 'max_features': 'log2', 'max_leaf_nodes': 17, 'min_impurity_decrease': 0.013654097525160488, 'class_weight': 'balanced', 'ccp_alpha': 0.019423463445278996, 'imputer_strategy_num': 'mean', 'imputer_strategy_cat': 'constant', 'scaler': 'standard', 'min_frequency': 0.2156359309489403}. Best is trial 0 with value: 0.038484871795970155.\n",
      "[I 2025-05-14 16:45:42,533] Trial 381 finished with value: 0.038484871795970155 and parameters: {'criterion': 'entropy', 'splitter': 'random', 'max_depth': 25, 'min_samples_split': 16, 'min_samples_leaf': 20, 'min_weight_fraction_leaf': 0.2224329128285002, 'max_features': 'sqrt', 'max_leaf_nodes': 3, 'min_impurity_decrease': 0.0024921870830472877, 'class_weight': None, 'ccp_alpha': 0.0394511845470014, 'imputer_strategy_num': 'mean', 'imputer_strategy_cat': 'constant', 'scaler': 'robust', 'min_frequency': 0.7143067140395609}. Best is trial 0 with value: 0.038484871795970155.\n",
      "[I 2025-05-14 16:45:43,191] Trial 382 finished with value: 0.038484871795970155 and parameters: {'criterion': 'log_loss', 'splitter': 'best', 'max_depth': 11, 'min_samples_split': 6, 'min_samples_leaf': 13, 'min_weight_fraction_leaf': 0.10333033295350139, 'max_features': 'sqrt', 'max_leaf_nodes': 43, 'min_impurity_decrease': 0.00918249844625736, 'class_weight': 'balanced', 'ccp_alpha': 0.034190998690081915, 'imputer_strategy_num': 'mean', 'imputer_strategy_cat': 'constant', 'scaler': 'minmax', 'min_frequency': 0.8719821406198114}. Best is trial 0 with value: 0.038484871795970155.\n",
      "[I 2025-05-14 16:45:43,983] Trial 383 finished with value: 0.038484871795970155 and parameters: {'criterion': 'entropy', 'splitter': 'best', 'max_depth': 50, 'min_samples_split': 19, 'min_samples_leaf': 6, 'min_weight_fraction_leaf': 0.03123042159282826, 'max_features': 'log2', 'max_leaf_nodes': 14, 'min_impurity_decrease': 0.03251083266531707, 'class_weight': 'balanced', 'ccp_alpha': 0.041388935741954506, 'imputer_strategy_num': 'median', 'imputer_strategy_cat': 'most_frequent', 'scaler': 'standard', 'min_frequency': 0.33459409100860177}. Best is trial 0 with value: 0.038484871795970155.\n",
      "[I 2025-05-14 16:45:44,701] Trial 384 finished with value: 0.038484871795970155 and parameters: {'criterion': 'log_loss', 'splitter': 'random', 'max_depth': 38, 'min_samples_split': 2, 'min_samples_leaf': 2, 'min_weight_fraction_leaf': 0.18620264505907932, 'max_features': 'sqrt', 'max_leaf_nodes': 24, 'min_impurity_decrease': 0.005524851813412671, 'class_weight': 'balanced', 'ccp_alpha': 0.005204451688511842, 'imputer_strategy_num': 'mean', 'imputer_strategy_cat': 'constant', 'scaler': 'robust', 'min_frequency': 0.46224859377088195}. Best is trial 0 with value: 0.038484871795970155.\n",
      "[I 2025-05-14 16:45:45,412] Trial 385 finished with value: 0.038484871795970155 and parameters: {'criterion': 'gini', 'splitter': 'best', 'max_depth': 40, 'min_samples_split': 10, 'min_samples_leaf': 11, 'min_weight_fraction_leaf': 0.08819907413195335, 'max_features': None, 'max_leaf_nodes': 46, 'min_impurity_decrease': 0.030960072851655855, 'class_weight': None, 'ccp_alpha': 0.013992860797468197, 'imputer_strategy_num': 'mean', 'imputer_strategy_cat': 'constant', 'scaler': 'minmax', 'min_frequency': 0.2485926662235293}. Best is trial 0 with value: 0.038484871795970155.\n",
      "[I 2025-05-14 16:45:46,086] Trial 386 finished with value: 0.038484871795970155 and parameters: {'criterion': 'entropy', 'splitter': 'random', 'max_depth': 48, 'min_samples_split': 17, 'min_samples_leaf': 1, 'min_weight_fraction_leaf': 0.40667513766785257, 'max_features': 'log2', 'max_leaf_nodes': 9, 'min_impurity_decrease': 0.045911177090785134, 'class_weight': 'balanced', 'ccp_alpha': 0.04341257924968195, 'imputer_strategy_num': 'mean', 'imputer_strategy_cat': 'constant', 'scaler': 'standard', 'min_frequency': 0.8990278008741338}. Best is trial 0 with value: 0.038484871795970155.\n",
      "[I 2025-05-14 16:45:46,968] Trial 387 finished with value: 0.038484871795970155 and parameters: {'criterion': 'entropy', 'splitter': 'best', 'max_depth': 26, 'min_samples_split': 15, 'min_samples_leaf': 5, 'min_weight_fraction_leaf': 0.3914048323925484, 'max_features': 'sqrt', 'max_leaf_nodes': 27, 'min_impurity_decrease': 0.03488710892699943, 'class_weight': 'balanced', 'ccp_alpha': 0.02804816351211487, 'imputer_strategy_num': 'median', 'imputer_strategy_cat': 'most_frequent', 'scaler': 'robust', 'min_frequency': 0.8371742980415312}. Best is trial 0 with value: 0.038484871795970155.\n",
      "[I 2025-05-14 16:45:47,629] Trial 388 finished with value: 0.038484871795970155 and parameters: {'criterion': 'log_loss', 'splitter': 'random', 'max_depth': 5, 'min_samples_split': 19, 'min_samples_leaf': 15, 'min_weight_fraction_leaf': 0.45425297467482506, 'max_features': 'log2', 'max_leaf_nodes': 41, 'min_impurity_decrease': 0.03914127767151997, 'class_weight': 'balanced', 'ccp_alpha': 0.009622390075912717, 'imputer_strategy_num': 'mean', 'imputer_strategy_cat': 'constant', 'scaler': 'minmax', 'min_frequency': 0.9710425951067319}. Best is trial 0 with value: 0.038484871795970155.\n",
      "[I 2025-05-14 16:45:48,309] Trial 389 finished with value: 0.038484871795970155 and parameters: {'criterion': 'entropy', 'splitter': 'best', 'max_depth': 10, 'min_samples_split': 20, 'min_samples_leaf': 3, 'min_weight_fraction_leaf': 0.1485897946375326, 'max_features': 'sqrt', 'max_leaf_nodes': 2, 'min_impurity_decrease': 0.007841448260507254, 'class_weight': 'balanced', 'ccp_alpha': 0.036500808895553745, 'imputer_strategy_num': 'mean', 'imputer_strategy_cat': 'constant', 'scaler': 'standard', 'min_frequency': 0.4236449411935354}. Best is trial 0 with value: 0.038484871795970155.\n",
      "[I 2025-05-14 16:45:49,065] Trial 390 finished with value: 0.038484871795970155 and parameters: {'criterion': 'log_loss', 'splitter': 'best', 'max_depth': 17, 'min_samples_split': 13, 'min_samples_leaf': 8, 'min_weight_fraction_leaf': 0.11381458624671026, 'max_features': None, 'max_leaf_nodes': 37, 'min_impurity_decrease': 0.012581661625310197, 'class_weight': None, 'ccp_alpha': 0.02490319825658828, 'imputer_strategy_num': 'mean', 'imputer_strategy_cat': 'constant', 'scaler': 'robust', 'min_frequency': 0.7863760801955816}. Best is trial 0 with value: 0.038484871795970155.\n",
      "[I 2025-05-14 16:45:49,859] Trial 391 finished with value: 0.038484871795970155 and parameters: {'criterion': 'gini', 'splitter': 'random', 'max_depth': 27, 'min_samples_split': 18, 'min_samples_leaf': 9, 'min_weight_fraction_leaf': 0.21440480480549698, 'max_features': 'sqrt', 'max_leaf_nodes': 32, 'min_impurity_decrease': 0.014662735651374367, 'class_weight': 'balanced', 'ccp_alpha': 0.008065157551286346, 'imputer_strategy_num': 'median', 'imputer_strategy_cat': 'most_frequent', 'scaler': 'minmax', 'min_frequency': 0.05028021637162692}. Best is trial 0 with value: 0.038484871795970155.\n",
      "[I 2025-05-14 16:45:50,533] Trial 392 finished with value: 0.038484871795970155 and parameters: {'criterion': 'entropy', 'splitter': 'best', 'max_depth': 45, 'min_samples_split': 8, 'min_samples_leaf': 19, 'min_weight_fraction_leaf': 0.35918512145829967, 'max_features': 'log2', 'max_leaf_nodes': 40, 'min_impurity_decrease': 0.023981059255305987, 'class_weight': 'balanced', 'ccp_alpha': 0.0017086210553756219, 'imputer_strategy_num': 'mean', 'imputer_strategy_cat': 'constant', 'scaler': 'standard', 'min_frequency': 0.19300222496543656}. Best is trial 0 with value: 0.038484871795970155.\n",
      "[I 2025-05-14 16:45:51,248] Trial 393 finished with value: 0.038484871795970155 and parameters: {'criterion': 'log_loss', 'splitter': 'random', 'max_depth': 43, 'min_samples_split': 12, 'min_samples_leaf': 12, 'min_weight_fraction_leaf': 0.4366470813105096, 'max_features': 'sqrt', 'max_leaf_nodes': 29, 'min_impurity_decrease': 0.02990673085074104, 'class_weight': 'balanced', 'ccp_alpha': 0.0009962001474337699, 'imputer_strategy_num': 'mean', 'imputer_strategy_cat': 'constant', 'scaler': 'robust', 'min_frequency': 0.14740567247408534}. Best is trial 0 with value: 0.038484871795970155.\n",
      "[I 2025-05-14 16:45:51,949] Trial 394 finished with value: 0.038484871795970155 and parameters: {'criterion': 'entropy', 'splitter': 'best', 'max_depth': 39, 'min_samples_split': 17, 'min_samples_leaf': 2, 'min_weight_fraction_leaf': 0.4835199870605801, 'max_features': 'log2', 'max_leaf_nodes': 4, 'min_impurity_decrease': 0.0015678135400086324, 'class_weight': None, 'ccp_alpha': 0.015229054638830572, 'imputer_strategy_num': 'mean', 'imputer_strategy_cat': 'constant', 'scaler': 'minmax', 'min_frequency': 0.28703624225825614}. Best is trial 0 with value: 0.038484871795970155.\n",
      "[I 2025-05-14 16:45:52,629] Trial 395 finished with value: 0.038484871795970155 and parameters: {'criterion': 'gini', 'splitter': 'best', 'max_depth': 2, 'min_samples_split': 14, 'min_samples_leaf': 10, 'min_weight_fraction_leaf': 0.12487455207153558, 'max_features': 'sqrt', 'max_leaf_nodes': 35, 'min_impurity_decrease': 0.0207594105917843, 'class_weight': 'balanced', 'ccp_alpha': 0.03002541813701474, 'imputer_strategy_num': 'mean', 'imputer_strategy_cat': 'constant', 'scaler': 'standard', 'min_frequency': 0.09498423436934694}. Best is trial 0 with value: 0.038484871795970155.\n",
      "[I 2025-05-14 16:45:53,481] Trial 396 finished with value: 0.038484871795970155 and parameters: {'criterion': 'log_loss', 'splitter': 'random', 'max_depth': 15, 'min_samples_split': 19, 'min_samples_leaf': 4, 'min_weight_fraction_leaf': 0.07100604820588541, 'max_features': None, 'max_leaf_nodes': 38, 'min_impurity_decrease': 0.011464453249078067, 'class_weight': 'balanced', 'ccp_alpha': 0.031124576149806515, 'imputer_strategy_num': 'median', 'imputer_strategy_cat': 'most_frequent', 'scaler': 'robust', 'min_frequency': 0.263709565805971}. Best is trial 0 with value: 0.038484871795970155.\n",
      "[I 2025-05-14 16:45:54,163] Trial 397 finished with value: 0.038484871795970155 and parameters: {'criterion': 'entropy', 'splitter': 'best', 'max_depth': 28, 'min_samples_split': 16, 'min_samples_leaf': 11, 'min_weight_fraction_leaf': 0.28069185308965355, 'max_features': 'log2', 'max_leaf_nodes': 48, 'min_impurity_decrease': 0.0039467017481461045, 'class_weight': 'balanced', 'ccp_alpha': 0.0206840574393784, 'imputer_strategy_num': 'mean', 'imputer_strategy_cat': 'constant', 'scaler': 'minmax', 'min_frequency': 0.5828865305577166}. Best is trial 0 with value: 0.038484871795970155.\n",
      "[I 2025-05-14 16:45:54,817] Trial 398 finished with value: 0.038484871795970155 and parameters: {'criterion': 'entropy', 'splitter': 'random', 'max_depth': 46, 'min_samples_split': 20, 'min_samples_leaf': 7, 'min_weight_fraction_leaf': 0.49750602100845936, 'max_features': 'sqrt', 'max_leaf_nodes': 7, 'min_impurity_decrease': 0.018050541855444923, 'class_weight': None, 'ccp_alpha': 0.023340569952364366, 'imputer_strategy_num': 'mean', 'imputer_strategy_cat': 'constant', 'scaler': 'standard', 'min_frequency': 0.632231116680797}. Best is trial 0 with value: 0.038484871795970155.\n",
      "[I 2025-05-14 16:45:55,501] Trial 399 finished with value: 0.038484871795970155 and parameters: {'criterion': 'log_loss', 'splitter': 'best', 'max_depth': 13, 'min_samples_split': 3, 'min_samples_leaf': 6, 'min_weight_fraction_leaf': 0.25453272562274204, 'max_features': 'log2', 'max_leaf_nodes': 31, 'min_impurity_decrease': 0.03724512298373707, 'class_weight': 'balanced', 'ccp_alpha': 0.012565919573505955, 'imputer_strategy_num': 'mean', 'imputer_strategy_cat': 'constant', 'scaler': 'minmax', 'min_frequency': 0.4083207100166841}. Best is trial 0 with value: 0.038484871795970155.\n",
      "[I 2025-05-14 16:45:56,339] Trial 400 finished with value: 0.038484871795970155 and parameters: {'criterion': 'entropy', 'splitter': 'best', 'max_depth': 35, 'min_samples_split': 15, 'min_samples_leaf': 11, 'min_weight_fraction_leaf': 0.29755664989126157, 'max_features': 'sqrt', 'max_leaf_nodes': 25, 'min_impurity_decrease': 0.010738317393026752, 'class_weight': 'balanced', 'ccp_alpha': 0.018039529650218496, 'imputer_strategy_num': 'median', 'imputer_strategy_cat': 'most_frequent', 'scaler': 'robust', 'min_frequency': 0.23382714215823647}. Best is trial 0 with value: 0.038484871795970155.\n",
      "[I 2025-05-14 16:45:57,059] Trial 401 finished with value: 0.038484871795970155 and parameters: {'criterion': 'gini', 'splitter': 'random', 'max_depth': 44, 'min_samples_split': 4, 'min_samples_leaf': 16, 'min_weight_fraction_leaf': 0.1690568831343031, 'max_features': None, 'max_leaf_nodes': None, 'min_impurity_decrease': 0.04117803308838164, 'class_weight': 'balanced', 'ccp_alpha': 0.011428150596789786, 'imputer_strategy_num': 'mean', 'imputer_strategy_cat': 'constant', 'scaler': 'standard', 'min_frequency': 0.5261771125203393}. Best is trial 0 with value: 0.038484871795970155.\n",
      "[I 2025-05-14 16:45:57,725] Trial 402 finished with value: 0.038484871795970155 and parameters: {'criterion': 'log_loss', 'splitter': 'best', 'max_depth': 47, 'min_samples_split': 7, 'min_samples_leaf': 17, 'min_weight_fraction_leaf': 0.23559885748238438, 'max_features': 'sqrt', 'max_leaf_nodes': 28, 'min_impurity_decrease': 0.0069157757264218175, 'class_weight': 'balanced', 'ccp_alpha': 0.026245965459418843, 'imputer_strategy_num': 'mean', 'imputer_strategy_cat': 'constant', 'scaler': 'minmax', 'min_frequency': 0.9369211102396894}. Best is trial 0 with value: 0.038484871795970155.\n",
      "[I 2025-05-14 16:45:58,427] Trial 403 finished with value: 0.038484871795970155 and parameters: {'criterion': 'entropy', 'splitter': 'random', 'max_depth': 16, 'min_samples_split': 11, 'min_samples_leaf': 3, 'min_weight_fraction_leaf': 0.3837734028552694, 'max_features': 'log2', 'max_leaf_nodes': 30, 'min_impurity_decrease': 0.009536520645629966, 'class_weight': None, 'ccp_alpha': 0.03766585938758572, 'imputer_strategy_num': 'mean', 'imputer_strategy_cat': 'constant', 'scaler': 'robust', 'min_frequency': 0.6540050171707841}. Best is trial 0 with value: 0.038484871795970155.\n",
      "[I 2025-05-14 16:45:59,220] Trial 404 finished with value: 0.038484871795970155 and parameters: {'criterion': 'log_loss', 'splitter': 'best', 'max_depth': 9, 'min_samples_split': 17, 'min_samples_leaf': 1, 'min_weight_fraction_leaf': 0.13675012615077187, 'max_features': 'sqrt', 'max_leaf_nodes': 18, 'min_impurity_decrease': 0.026254719337953793, 'class_weight': 'balanced', 'ccp_alpha': 0.03499291453806996, 'imputer_strategy_num': 'median', 'imputer_strategy_cat': 'most_frequent', 'scaler': 'minmax', 'min_frequency': 0.16697115209265426}. Best is trial 0 with value: 0.038484871795970155.\n",
      "[I 2025-05-14 16:45:59,887] Trial 405 finished with value: 0.038484871795970155 and parameters: {'criterion': 'entropy', 'splitter': 'random', 'max_depth': 14, 'min_samples_split': 18, 'min_samples_leaf': 14, 'min_weight_fraction_leaf': 0.05521450256031342, 'max_features': 'log2', 'max_leaf_nodes': 34, 'min_impurity_decrease': 0.044621638255617435, 'class_weight': 'balanced', 'ccp_alpha': 0.006769757132915269, 'imputer_strategy_num': 'mean', 'imputer_strategy_cat': 'constant', 'scaler': 'standard', 'min_frequency': 0.3752714523651939}. Best is trial 0 with value: 0.038484871795970155.\n",
      "[I 2025-05-14 16:46:00,598] Trial 406 finished with value: 0.038484871795970155 and parameters: {'criterion': 'gini', 'splitter': 'best', 'max_depth': 7, 'min_samples_split': 6, 'min_samples_leaf': 2, 'min_weight_fraction_leaf': 0.41943358130541186, 'max_features': 'sqrt', 'max_leaf_nodes': 36, 'min_impurity_decrease': 0.028623192592505856, 'class_weight': 'balanced', 'ccp_alpha': 0.008784362778003749, 'imputer_strategy_num': 'mean', 'imputer_strategy_cat': 'constant', 'scaler': 'robust', 'min_frequency': 0.6828933009310816}. Best is trial 0 with value: 0.038484871795970155.\n"
     ]
    },
    {
     "name": "stdout",
     "output_type": "stream",
     "text": [
      "N° de trials: 407\n",
      "Mejor F1-score (weighted): 0.962\n",
      "Mejores hiperparámetros:\n",
      "   - criterion: entropy\n",
      "   - splitter: best\n",
      "   - max_depth: 7\n",
      "   - min_samples_split: 19\n",
      "   - min_samples_leaf: 2\n",
      "   - min_weight_fraction_leaf: 0.0979914312095726\n",
      "   - max_features: log2\n",
      "   - max_leaf_nodes: 9\n",
      "   - min_impurity_decrease: 0.008061064362700222\n",
      "   - class_weight: balanced\n",
      "   - ccp_alpha: 0.031670187825521175\n",
      "   - imputer_strategy_num: mean\n",
      "   - imputer_strategy_cat: constant\n",
      "   - scaler: robust\n",
      "   - min_frequency: 0.3180034749718639\n",
      "\n",
      "Reporte de clasificación en el conjunto de validación:\n",
      "              precision    recall  f1-score   support\n",
      "\n",
      "           0       0.00      0.00      0.00      1299\n",
      "           1       0.97      1.00      0.99     49111\n",
      "\n",
      "    accuracy                           0.97     50410\n",
      "   macro avg       0.49      0.50      0.49     50410\n",
      "weighted avg       0.95      0.97      0.96     50410\n",
      "\n"
     ]
    },
    {
     "name": "stderr",
     "output_type": "stream",
     "text": [
      "/Users/diegoespinoza/Library/Python/3.9/lib/python/site-packages/sklearn/metrics/_classification.py:1565: UndefinedMetricWarning:\n",
      "\n",
      "Precision is ill-defined and being set to 0.0 in labels with no predicted samples. Use `zero_division` parameter to control this behavior.\n",
      "\n",
      "/Users/diegoespinoza/Library/Python/3.9/lib/python/site-packages/sklearn/metrics/_classification.py:1565: UndefinedMetricWarning:\n",
      "\n",
      "Precision is ill-defined and being set to 0.0 in labels with no predicted samples. Use `zero_division` parameter to control this behavior.\n",
      "\n",
      "/Users/diegoespinoza/Library/Python/3.9/lib/python/site-packages/sklearn/metrics/_classification.py:1565: UndefinedMetricWarning:\n",
      "\n",
      "Precision is ill-defined and being set to 0.0 in labels with no predicted samples. Use `zero_division` parameter to control this behavior.\n",
      "\n"
     ]
    }
   ],
   "source": [
    "import optuna\n",
    "from optuna.samplers import TPESampler\n",
    "from sklearn.pipeline import Pipeline\n",
    "from sklearn.metrics import f1_score, classification_report\n",
    "from sklearn.compose import ColumnTransformer\n",
    "from sklearn.preprocessing import (\n",
    "    OneHotEncoder, StandardScaler, MinMaxScaler, RobustScaler\n",
    ")\n",
    "from sklearn.impute import SimpleImputer\n",
    "from sklearn.tree import DecisionTreeClassifier\n",
    "\n",
    "RANDOM_STATE = 42\n",
    "\n",
    "\n",
    "DT = DecisionTreeClassifier(criterion='gini', splitter='best', \n",
    "                       max_depth=None, min_samples_split=2, \n",
    "                       min_samples_leaf=1, min_weight_fraction_leaf=0.0, \n",
    "                       max_features=None, random_state=RANDOM_STATE, max_leaf_nodes=None, \n",
    "                       min_impurity_decrease=0.0, class_weight='balanced', \n",
    "                       ccp_alpha=0.0)\n",
    "\n",
    "def objective(trial):\n",
    "    criterion = trial.suggest_categorical(\"criterion\", [\"gini\", \"entropy\", \"log_loss\"])\n",
    "    splitter = trial.suggest_categorical(\"splitter\", [\"best\", \"random\"])\n",
    "    max_depth = trial.suggest_categorical(\"max_depth\", [None] + list(range(2, 51)))\n",
    "    min_samples_split = trial.suggest_int(\"min_samples_split\", 2, 20)\n",
    "    min_samples_leaf = trial.suggest_int(\"min_samples_leaf\", 1, 20)\n",
    "    min_weight_fraction_leaf = trial.suggest_float(\"min_weight_fraction_leaf\", 0.0, 0.5)\n",
    "    max_features = trial.suggest_categorical(\"max_features\", [None, \"sqrt\", \"log2\"])\n",
    "    max_leaf_nodes = trial.suggest_categorical(\"max_leaf_nodes\", [None] + list(range(2, 51)))\n",
    "    min_impurity_decrease = trial.suggest_float(\"min_impurity_decrease\", 0.0, 0.05)\n",
    "    class_weight = trial.suggest_categorical(\"class_weight\", [\"balanced\", None])\n",
    "    ccp_alpha = trial.suggest_float(\"ccp_alpha\", 0.0, 0.05)\n",
    "\n",
    "    imputer_strategy_num = trial.suggest_categorical(\"imputer_strategy_num\", [\"mean\", \"median\"])\n",
    "    imputer_strategy_cat = trial.suggest_categorical(\"imputer_strategy_cat\", [\"most_frequent\", \"constant\"])\n",
    "    scaler_type = trial.suggest_categorical(\"scaler\", [\"standard\", \"minmax\", \"robust\"])\n",
    "    min_freq = trial.suggest_float(\"min_frequency\", 0.0, 1.0)\n",
    "\n",
    "    if scaler_type == \"standard\":\n",
    "        scaler = StandardScaler()\n",
    "    elif scaler_type == \"minmax\":\n",
    "        scaler = MinMaxScaler()\n",
    "    else:\n",
    "        scaler = RobustScaler()\n",
    "\n",
    "    numeric_transformer = Pipeline(steps=[\n",
    "        (\"imputer\", SimpleImputer(strategy=imputer_strategy_num)),\n",
    "        (\"scaler\", scaler)\n",
    "    ])\n",
    "\n",
    "    ohe = OneHotEncoder(handle_unknown=\"ignore\", sparse_output=False, min_frequency=min_freq)\n",
    "    categorical_transformer = Pipeline(steps=[\n",
    "        (\"imputer\", SimpleImputer(strategy=imputer_strategy_cat)),\n",
    "        (\"encoder\", ohe)\n",
    "    ])\n",
    "\n",
    "    preprocessor = ColumnTransformer(transformers=[\n",
    "        (\"num\", numeric_transformer, numerical_cols),\n",
    "        (\"cat\", categorical_transformer, categorical_cols)\n",
    "    ])\n",
    "\n",
    "    model = DecisionTreeClassifier(\n",
    "        criterion=criterion,\n",
    "        splitter=splitter,\n",
    "        max_depth=max_depth,\n",
    "        min_samples_split=min_samples_split,\n",
    "        min_samples_leaf=min_samples_leaf,\n",
    "        min_weight_fraction_leaf=min_weight_fraction_leaf,\n",
    "        max_features=max_features,\n",
    "        random_state=RANDOM_STATE,\n",
    "        max_leaf_nodes=max_leaf_nodes,\n",
    "        min_impurity_decrease=min_impurity_decrease,\n",
    "        class_weight=class_weight,\n",
    "        ccp_alpha=ccp_alpha,\n",
    "    )\n",
    "\n",
    "    pipeline = Pipeline([\n",
    "        (\"date_features\", DateFeatureExtractor(date_column=\"purchase_date\")),\n",
    "        (\"preprocessor\", preprocessor),\n",
    "        (\"model\", model)\n",
    "    ])\n",
    "\n",
    "    pipeline.fit(X_train, y_train)\n",
    "    y_pred = pipeline.predict(X_valid)\n",
    "    score = f1_score(y_valid, y_pred, average=\"weighted\")\n",
    "\n",
    "    trial.set_user_attr(\"best_pipeline\", pipeline)\n",
    "    return 1 - score\n",
    "\n",
    "sampler = TPESampler(seed=RANDOM_STATE)\n",
    "\n",
    "minutes = 5\n",
    "seconds = minutes * 60\n",
    "study = optuna.create_study(direction=\"minimize\", sampler=sampler)\n",
    "study.optimize(objective, timeout=seconds)\n",
    "\n",
    "print(f\"N° de trials: {len(study.trials)}\")\n",
    "print(f\"Mejor F1-score (weighted): {1 - study.best_value:.3f}\")\n",
    "print(\"Mejores hiperparámetros:\")\n",
    "for k, v in study.best_params.items():\n",
    "    print(f\"   - {k}: {v}\")\n",
    "\n",
    "best_trial = study.best_trial\n",
    "best_params = best_trial.params\n",
    "\n",
    "if best_params[\"scaler\"] == \"standard\":\n",
    "    final_scaler = StandardScaler()\n",
    "elif best_params[\"scaler\"] == \"minmax\":\n",
    "    final_scaler = MinMaxScaler()\n",
    "else:\n",
    "    final_scaler = RobustScaler()\n",
    "\n",
    "final_numeric_transformer = Pipeline([\n",
    "    (\"imputer\", SimpleImputer(strategy=best_params[\"imputer_strategy_num\"])),\n",
    "    (\"scaler\", final_scaler)\n",
    "])\n",
    "\n",
    "final_ohe = OneHotEncoder(handle_unknown=\"ignore\", sparse_output=False, min_frequency=best_params[\"min_frequency\"])\n",
    "final_categorical_transformer = Pipeline([\n",
    "    (\"imputer\", SimpleImputer(strategy=best_params[\"imputer_strategy_cat\"])),\n",
    "    (\"encoder\", final_ohe)\n",
    "])\n",
    "\n",
    "final_preprocessor = ColumnTransformer(transformers=[\n",
    "    (\"num\", final_numeric_transformer, numerical_cols),\n",
    "    (\"cat\", final_categorical_transformer, categorical_cols)\n",
    "])\n",
    "\n",
    "final_model = DecisionTreeClassifier(\n",
    "    criterion=best_params[\"criterion\"],\n",
    "    splitter=best_params[\"splitter\"],\n",
    "    max_depth=best_params[\"max_depth\"],\n",
    "    min_samples_split=best_params[\"min_samples_split\"],\n",
    "    min_samples_leaf=best_params[\"min_samples_leaf\"],\n",
    "    min_weight_fraction_leaf=best_params[\"min_weight_fraction_leaf\"],\n",
    "    max_features=best_params[\"max_features\"],\n",
    "    max_leaf_nodes=best_params[\"max_leaf_nodes\"],\n",
    "    min_impurity_decrease=best_params[\"min_impurity_decrease\"],\n",
    "    class_weight=best_params[\"class_weight\"],\n",
    "    ccp_alpha=best_params[\"ccp_alpha\"],\n",
    "    random_state=RANDOM_STATE,\n",
    ")\n",
    "\n",
    "final_pipeline = Pipeline([\n",
    "    (\"date_features\", DateFeatureExtractor(date_column=\"purchase_date\")),\n",
    "    (\"preprocessor\", final_preprocessor),\n",
    "    (\"model\", final_model)\n",
    "])\n",
    "\n",
    "final_pipeline.fit(X_train, y_train)\n",
    "y_pred_dt = final_pipeline.predict(X_valid)\n",
    "\n",
    "print(\"\\nReporte de clasificación en el conjunto de validación:\")\n",
    "print(classification_report(y_valid, y_pred_dt))\n"
   ]
  },
  {
   "cell_type": "code",
   "execution_count": 32,
   "metadata": {},
   "outputs": [
    {
     "data": {
      "text/html": [
       "<style>#sk-container-id-1 {\n",
       "  /* Definition of color scheme common for light and dark mode */\n",
       "  --sklearn-color-text: #000;\n",
       "  --sklearn-color-text-muted: #666;\n",
       "  --sklearn-color-line: gray;\n",
       "  /* Definition of color scheme for unfitted estimators */\n",
       "  --sklearn-color-unfitted-level-0: #fff5e6;\n",
       "  --sklearn-color-unfitted-level-1: #f6e4d2;\n",
       "  --sklearn-color-unfitted-level-2: #ffe0b3;\n",
       "  --sklearn-color-unfitted-level-3: chocolate;\n",
       "  /* Definition of color scheme for fitted estimators */\n",
       "  --sklearn-color-fitted-level-0: #f0f8ff;\n",
       "  --sklearn-color-fitted-level-1: #d4ebff;\n",
       "  --sklearn-color-fitted-level-2: #b3dbfd;\n",
       "  --sklearn-color-fitted-level-3: cornflowerblue;\n",
       "\n",
       "  /* Specific color for light theme */\n",
       "  --sklearn-color-text-on-default-background: var(--sg-text-color, var(--theme-code-foreground, var(--jp-content-font-color1, black)));\n",
       "  --sklearn-color-background: var(--sg-background-color, var(--theme-background, var(--jp-layout-color0, white)));\n",
       "  --sklearn-color-border-box: var(--sg-text-color, var(--theme-code-foreground, var(--jp-content-font-color1, black)));\n",
       "  --sklearn-color-icon: #696969;\n",
       "\n",
       "  @media (prefers-color-scheme: dark) {\n",
       "    /* Redefinition of color scheme for dark theme */\n",
       "    --sklearn-color-text-on-default-background: var(--sg-text-color, var(--theme-code-foreground, var(--jp-content-font-color1, white)));\n",
       "    --sklearn-color-background: var(--sg-background-color, var(--theme-background, var(--jp-layout-color0, #111)));\n",
       "    --sklearn-color-border-box: var(--sg-text-color, var(--theme-code-foreground, var(--jp-content-font-color1, white)));\n",
       "    --sklearn-color-icon: #878787;\n",
       "  }\n",
       "}\n",
       "\n",
       "#sk-container-id-1 {\n",
       "  color: var(--sklearn-color-text);\n",
       "}\n",
       "\n",
       "#sk-container-id-1 pre {\n",
       "  padding: 0;\n",
       "}\n",
       "\n",
       "#sk-container-id-1 input.sk-hidden--visually {\n",
       "  border: 0;\n",
       "  clip: rect(1px 1px 1px 1px);\n",
       "  clip: rect(1px, 1px, 1px, 1px);\n",
       "  height: 1px;\n",
       "  margin: -1px;\n",
       "  overflow: hidden;\n",
       "  padding: 0;\n",
       "  position: absolute;\n",
       "  width: 1px;\n",
       "}\n",
       "\n",
       "#sk-container-id-1 div.sk-dashed-wrapped {\n",
       "  border: 1px dashed var(--sklearn-color-line);\n",
       "  margin: 0 0.4em 0.5em 0.4em;\n",
       "  box-sizing: border-box;\n",
       "  padding-bottom: 0.4em;\n",
       "  background-color: var(--sklearn-color-background);\n",
       "}\n",
       "\n",
       "#sk-container-id-1 div.sk-container {\n",
       "  /* jupyter's `normalize.less` sets `[hidden] { display: none; }`\n",
       "     but bootstrap.min.css set `[hidden] { display: none !important; }`\n",
       "     so we also need the `!important` here to be able to override the\n",
       "     default hidden behavior on the sphinx rendered scikit-learn.org.\n",
       "     See: https://github.com/scikit-learn/scikit-learn/issues/21755 */\n",
       "  display: inline-block !important;\n",
       "  position: relative;\n",
       "}\n",
       "\n",
       "#sk-container-id-1 div.sk-text-repr-fallback {\n",
       "  display: none;\n",
       "}\n",
       "\n",
       "div.sk-parallel-item,\n",
       "div.sk-serial,\n",
       "div.sk-item {\n",
       "  /* draw centered vertical line to link estimators */\n",
       "  background-image: linear-gradient(var(--sklearn-color-text-on-default-background), var(--sklearn-color-text-on-default-background));\n",
       "  background-size: 2px 100%;\n",
       "  background-repeat: no-repeat;\n",
       "  background-position: center center;\n",
       "}\n",
       "\n",
       "/* Parallel-specific style estimator block */\n",
       "\n",
       "#sk-container-id-1 div.sk-parallel-item::after {\n",
       "  content: \"\";\n",
       "  width: 100%;\n",
       "  border-bottom: 2px solid var(--sklearn-color-text-on-default-background);\n",
       "  flex-grow: 1;\n",
       "}\n",
       "\n",
       "#sk-container-id-1 div.sk-parallel {\n",
       "  display: flex;\n",
       "  align-items: stretch;\n",
       "  justify-content: center;\n",
       "  background-color: var(--sklearn-color-background);\n",
       "  position: relative;\n",
       "}\n",
       "\n",
       "#sk-container-id-1 div.sk-parallel-item {\n",
       "  display: flex;\n",
       "  flex-direction: column;\n",
       "}\n",
       "\n",
       "#sk-container-id-1 div.sk-parallel-item:first-child::after {\n",
       "  align-self: flex-end;\n",
       "  width: 50%;\n",
       "}\n",
       "\n",
       "#sk-container-id-1 div.sk-parallel-item:last-child::after {\n",
       "  align-self: flex-start;\n",
       "  width: 50%;\n",
       "}\n",
       "\n",
       "#sk-container-id-1 div.sk-parallel-item:only-child::after {\n",
       "  width: 0;\n",
       "}\n",
       "\n",
       "/* Serial-specific style estimator block */\n",
       "\n",
       "#sk-container-id-1 div.sk-serial {\n",
       "  display: flex;\n",
       "  flex-direction: column;\n",
       "  align-items: center;\n",
       "  background-color: var(--sklearn-color-background);\n",
       "  padding-right: 1em;\n",
       "  padding-left: 1em;\n",
       "}\n",
       "\n",
       "\n",
       "/* Toggleable style: style used for estimator/Pipeline/ColumnTransformer box that is\n",
       "clickable and can be expanded/collapsed.\n",
       "- Pipeline and ColumnTransformer use this feature and define the default style\n",
       "- Estimators will overwrite some part of the style using the `sk-estimator` class\n",
       "*/\n",
       "\n",
       "/* Pipeline and ColumnTransformer style (default) */\n",
       "\n",
       "#sk-container-id-1 div.sk-toggleable {\n",
       "  /* Default theme specific background. It is overwritten whether we have a\n",
       "  specific estimator or a Pipeline/ColumnTransformer */\n",
       "  background-color: var(--sklearn-color-background);\n",
       "}\n",
       "\n",
       "/* Toggleable label */\n",
       "#sk-container-id-1 label.sk-toggleable__label {\n",
       "  cursor: pointer;\n",
       "  display: flex;\n",
       "  width: 100%;\n",
       "  margin-bottom: 0;\n",
       "  padding: 0.5em;\n",
       "  box-sizing: border-box;\n",
       "  text-align: center;\n",
       "  align-items: start;\n",
       "  justify-content: space-between;\n",
       "  gap: 0.5em;\n",
       "}\n",
       "\n",
       "#sk-container-id-1 label.sk-toggleable__label .caption {\n",
       "  font-size: 0.6rem;\n",
       "  font-weight: lighter;\n",
       "  color: var(--sklearn-color-text-muted);\n",
       "}\n",
       "\n",
       "#sk-container-id-1 label.sk-toggleable__label-arrow:before {\n",
       "  /* Arrow on the left of the label */\n",
       "  content: \"▸\";\n",
       "  float: left;\n",
       "  margin-right: 0.25em;\n",
       "  color: var(--sklearn-color-icon);\n",
       "}\n",
       "\n",
       "#sk-container-id-1 label.sk-toggleable__label-arrow:hover:before {\n",
       "  color: var(--sklearn-color-text);\n",
       "}\n",
       "\n",
       "/* Toggleable content - dropdown */\n",
       "\n",
       "#sk-container-id-1 div.sk-toggleable__content {\n",
       "  max-height: 0;\n",
       "  max-width: 0;\n",
       "  overflow: hidden;\n",
       "  text-align: left;\n",
       "  /* unfitted */\n",
       "  background-color: var(--sklearn-color-unfitted-level-0);\n",
       "}\n",
       "\n",
       "#sk-container-id-1 div.sk-toggleable__content.fitted {\n",
       "  /* fitted */\n",
       "  background-color: var(--sklearn-color-fitted-level-0);\n",
       "}\n",
       "\n",
       "#sk-container-id-1 div.sk-toggleable__content pre {\n",
       "  margin: 0.2em;\n",
       "  border-radius: 0.25em;\n",
       "  color: var(--sklearn-color-text);\n",
       "  /* unfitted */\n",
       "  background-color: var(--sklearn-color-unfitted-level-0);\n",
       "}\n",
       "\n",
       "#sk-container-id-1 div.sk-toggleable__content.fitted pre {\n",
       "  /* unfitted */\n",
       "  background-color: var(--sklearn-color-fitted-level-0);\n",
       "}\n",
       "\n",
       "#sk-container-id-1 input.sk-toggleable__control:checked~div.sk-toggleable__content {\n",
       "  /* Expand drop-down */\n",
       "  max-height: 200px;\n",
       "  max-width: 100%;\n",
       "  overflow: auto;\n",
       "}\n",
       "\n",
       "#sk-container-id-1 input.sk-toggleable__control:checked~label.sk-toggleable__label-arrow:before {\n",
       "  content: \"▾\";\n",
       "}\n",
       "\n",
       "/* Pipeline/ColumnTransformer-specific style */\n",
       "\n",
       "#sk-container-id-1 div.sk-label input.sk-toggleable__control:checked~label.sk-toggleable__label {\n",
       "  color: var(--sklearn-color-text);\n",
       "  background-color: var(--sklearn-color-unfitted-level-2);\n",
       "}\n",
       "\n",
       "#sk-container-id-1 div.sk-label.fitted input.sk-toggleable__control:checked~label.sk-toggleable__label {\n",
       "  background-color: var(--sklearn-color-fitted-level-2);\n",
       "}\n",
       "\n",
       "/* Estimator-specific style */\n",
       "\n",
       "/* Colorize estimator box */\n",
       "#sk-container-id-1 div.sk-estimator input.sk-toggleable__control:checked~label.sk-toggleable__label {\n",
       "  /* unfitted */\n",
       "  background-color: var(--sklearn-color-unfitted-level-2);\n",
       "}\n",
       "\n",
       "#sk-container-id-1 div.sk-estimator.fitted input.sk-toggleable__control:checked~label.sk-toggleable__label {\n",
       "  /* fitted */\n",
       "  background-color: var(--sklearn-color-fitted-level-2);\n",
       "}\n",
       "\n",
       "#sk-container-id-1 div.sk-label label.sk-toggleable__label,\n",
       "#sk-container-id-1 div.sk-label label {\n",
       "  /* The background is the default theme color */\n",
       "  color: var(--sklearn-color-text-on-default-background);\n",
       "}\n",
       "\n",
       "/* On hover, darken the color of the background */\n",
       "#sk-container-id-1 div.sk-label:hover label.sk-toggleable__label {\n",
       "  color: var(--sklearn-color-text);\n",
       "  background-color: var(--sklearn-color-unfitted-level-2);\n",
       "}\n",
       "\n",
       "/* Label box, darken color on hover, fitted */\n",
       "#sk-container-id-1 div.sk-label.fitted:hover label.sk-toggleable__label.fitted {\n",
       "  color: var(--sklearn-color-text);\n",
       "  background-color: var(--sklearn-color-fitted-level-2);\n",
       "}\n",
       "\n",
       "/* Estimator label */\n",
       "\n",
       "#sk-container-id-1 div.sk-label label {\n",
       "  font-family: monospace;\n",
       "  font-weight: bold;\n",
       "  display: inline-block;\n",
       "  line-height: 1.2em;\n",
       "}\n",
       "\n",
       "#sk-container-id-1 div.sk-label-container {\n",
       "  text-align: center;\n",
       "}\n",
       "\n",
       "/* Estimator-specific */\n",
       "#sk-container-id-1 div.sk-estimator {\n",
       "  font-family: monospace;\n",
       "  border: 1px dotted var(--sklearn-color-border-box);\n",
       "  border-radius: 0.25em;\n",
       "  box-sizing: border-box;\n",
       "  margin-bottom: 0.5em;\n",
       "  /* unfitted */\n",
       "  background-color: var(--sklearn-color-unfitted-level-0);\n",
       "}\n",
       "\n",
       "#sk-container-id-1 div.sk-estimator.fitted {\n",
       "  /* fitted */\n",
       "  background-color: var(--sklearn-color-fitted-level-0);\n",
       "}\n",
       "\n",
       "/* on hover */\n",
       "#sk-container-id-1 div.sk-estimator:hover {\n",
       "  /* unfitted */\n",
       "  background-color: var(--sklearn-color-unfitted-level-2);\n",
       "}\n",
       "\n",
       "#sk-container-id-1 div.sk-estimator.fitted:hover {\n",
       "  /* fitted */\n",
       "  background-color: var(--sklearn-color-fitted-level-2);\n",
       "}\n",
       "\n",
       "/* Specification for estimator info (e.g. \"i\" and \"?\") */\n",
       "\n",
       "/* Common style for \"i\" and \"?\" */\n",
       "\n",
       ".sk-estimator-doc-link,\n",
       "a:link.sk-estimator-doc-link,\n",
       "a:visited.sk-estimator-doc-link {\n",
       "  float: right;\n",
       "  font-size: smaller;\n",
       "  line-height: 1em;\n",
       "  font-family: monospace;\n",
       "  background-color: var(--sklearn-color-background);\n",
       "  border-radius: 1em;\n",
       "  height: 1em;\n",
       "  width: 1em;\n",
       "  text-decoration: none !important;\n",
       "  margin-left: 0.5em;\n",
       "  text-align: center;\n",
       "  /* unfitted */\n",
       "  border: var(--sklearn-color-unfitted-level-1) 1pt solid;\n",
       "  color: var(--sklearn-color-unfitted-level-1);\n",
       "}\n",
       "\n",
       ".sk-estimator-doc-link.fitted,\n",
       "a:link.sk-estimator-doc-link.fitted,\n",
       "a:visited.sk-estimator-doc-link.fitted {\n",
       "  /* fitted */\n",
       "  border: var(--sklearn-color-fitted-level-1) 1pt solid;\n",
       "  color: var(--sklearn-color-fitted-level-1);\n",
       "}\n",
       "\n",
       "/* On hover */\n",
       "div.sk-estimator:hover .sk-estimator-doc-link:hover,\n",
       ".sk-estimator-doc-link:hover,\n",
       "div.sk-label-container:hover .sk-estimator-doc-link:hover,\n",
       ".sk-estimator-doc-link:hover {\n",
       "  /* unfitted */\n",
       "  background-color: var(--sklearn-color-unfitted-level-3);\n",
       "  color: var(--sklearn-color-background);\n",
       "  text-decoration: none;\n",
       "}\n",
       "\n",
       "div.sk-estimator.fitted:hover .sk-estimator-doc-link.fitted:hover,\n",
       ".sk-estimator-doc-link.fitted:hover,\n",
       "div.sk-label-container:hover .sk-estimator-doc-link.fitted:hover,\n",
       ".sk-estimator-doc-link.fitted:hover {\n",
       "  /* fitted */\n",
       "  background-color: var(--sklearn-color-fitted-level-3);\n",
       "  color: var(--sklearn-color-background);\n",
       "  text-decoration: none;\n",
       "}\n",
       "\n",
       "/* Span, style for the box shown on hovering the info icon */\n",
       ".sk-estimator-doc-link span {\n",
       "  display: none;\n",
       "  z-index: 9999;\n",
       "  position: relative;\n",
       "  font-weight: normal;\n",
       "  right: .2ex;\n",
       "  padding: .5ex;\n",
       "  margin: .5ex;\n",
       "  width: min-content;\n",
       "  min-width: 20ex;\n",
       "  max-width: 50ex;\n",
       "  color: var(--sklearn-color-text);\n",
       "  box-shadow: 2pt 2pt 4pt #999;\n",
       "  /* unfitted */\n",
       "  background: var(--sklearn-color-unfitted-level-0);\n",
       "  border: .5pt solid var(--sklearn-color-unfitted-level-3);\n",
       "}\n",
       "\n",
       ".sk-estimator-doc-link.fitted span {\n",
       "  /* fitted */\n",
       "  background: var(--sklearn-color-fitted-level-0);\n",
       "  border: var(--sklearn-color-fitted-level-3);\n",
       "}\n",
       "\n",
       ".sk-estimator-doc-link:hover span {\n",
       "  display: block;\n",
       "}\n",
       "\n",
       "/* \"?\"-specific style due to the `<a>` HTML tag */\n",
       "\n",
       "#sk-container-id-1 a.estimator_doc_link {\n",
       "  float: right;\n",
       "  font-size: 1rem;\n",
       "  line-height: 1em;\n",
       "  font-family: monospace;\n",
       "  background-color: var(--sklearn-color-background);\n",
       "  border-radius: 1rem;\n",
       "  height: 1rem;\n",
       "  width: 1rem;\n",
       "  text-decoration: none;\n",
       "  /* unfitted */\n",
       "  color: var(--sklearn-color-unfitted-level-1);\n",
       "  border: var(--sklearn-color-unfitted-level-1) 1pt solid;\n",
       "}\n",
       "\n",
       "#sk-container-id-1 a.estimator_doc_link.fitted {\n",
       "  /* fitted */\n",
       "  border: var(--sklearn-color-fitted-level-1) 1pt solid;\n",
       "  color: var(--sklearn-color-fitted-level-1);\n",
       "}\n",
       "\n",
       "/* On hover */\n",
       "#sk-container-id-1 a.estimator_doc_link:hover {\n",
       "  /* unfitted */\n",
       "  background-color: var(--sklearn-color-unfitted-level-3);\n",
       "  color: var(--sklearn-color-background);\n",
       "  text-decoration: none;\n",
       "}\n",
       "\n",
       "#sk-container-id-1 a.estimator_doc_link.fitted:hover {\n",
       "  /* fitted */\n",
       "  background-color: var(--sklearn-color-fitted-level-3);\n",
       "}\n",
       "</style><div id=\"sk-container-id-1\" class=\"sk-top-container\"><div class=\"sk-text-repr-fallback\"><pre>Pipeline(steps=[(&#x27;date_features&#x27;, DateFeatureExtractor()),\n",
       "                (&#x27;preprocessor&#x27;,\n",
       "                 ColumnTransformer(transformers=[(&#x27;num&#x27;,\n",
       "                                                  Pipeline(steps=[(&#x27;imputer&#x27;,\n",
       "                                                                   SimpleImputer()),\n",
       "                                                                  (&#x27;scaler&#x27;,\n",
       "                                                                   RobustScaler())]),\n",
       "                                                  [&#x27;customer_id&#x27;, &#x27;product_id&#x27;,\n",
       "                                                   &#x27;order_id&#x27;, &#x27;region_id&#x27;,\n",
       "                                                   &#x27;zone_id&#x27;, &#x27;Y&#x27;, &#x27;X&#x27;,\n",
       "                                                   &#x27;num_deliver_per_week&#x27;,\n",
       "                                                   &#x27;num_visit_per_week&#x27;, &#x27;size&#x27;,\n",
       "                                                   &#x27;week&#x27;, &#x27;year&#x27;,\n",
       "                                                   &#x27;avg_items_per_week&#x27;,\n",
       "                                                   &#x27;num_transa...\n",
       "                                                   &#x27;category&#x27;, &#x27;sub_category&#x27;,\n",
       "                                                   &#x27;segment&#x27;, &#x27;package&#x27;])])),\n",
       "                (&#x27;model&#x27;,\n",
       "                 DecisionTreeClassifier(ccp_alpha=0.031670187825521175,\n",
       "                                        class_weight=&#x27;balanced&#x27;,\n",
       "                                        criterion=&#x27;entropy&#x27;, max_depth=7,\n",
       "                                        max_features=&#x27;log2&#x27;, max_leaf_nodes=9,\n",
       "                                        min_impurity_decrease=0.008061064362700222,\n",
       "                                        min_samples_leaf=2,\n",
       "                                        min_samples_split=19,\n",
       "                                        min_weight_fraction_leaf=0.0979914312095726,\n",
       "                                        random_state=42))])</pre><b>In a Jupyter environment, please rerun this cell to show the HTML representation or trust the notebook. <br />On GitHub, the HTML representation is unable to render, please try loading this page with nbviewer.org.</b></div><div class=\"sk-container\" hidden><div class=\"sk-item sk-dashed-wrapped\"><div class=\"sk-label-container\"><div class=\"sk-label fitted sk-toggleable\"><input class=\"sk-toggleable__control sk-hidden--visually\" id=\"sk-estimator-id-1\" type=\"checkbox\" ><label for=\"sk-estimator-id-1\" class=\"sk-toggleable__label fitted sk-toggleable__label-arrow\"><div><div>Pipeline</div></div><div><a class=\"sk-estimator-doc-link fitted\" rel=\"noreferrer\" target=\"_blank\" href=\"https://scikit-learn.org/1.6/modules/generated/sklearn.pipeline.Pipeline.html\">?<span>Documentation for Pipeline</span></a><span class=\"sk-estimator-doc-link fitted\">i<span>Fitted</span></span></div></label><div class=\"sk-toggleable__content fitted\"><pre>Pipeline(steps=[(&#x27;date_features&#x27;, DateFeatureExtractor()),\n",
       "                (&#x27;preprocessor&#x27;,\n",
       "                 ColumnTransformer(transformers=[(&#x27;num&#x27;,\n",
       "                                                  Pipeline(steps=[(&#x27;imputer&#x27;,\n",
       "                                                                   SimpleImputer()),\n",
       "                                                                  (&#x27;scaler&#x27;,\n",
       "                                                                   RobustScaler())]),\n",
       "                                                  [&#x27;customer_id&#x27;, &#x27;product_id&#x27;,\n",
       "                                                   &#x27;order_id&#x27;, &#x27;region_id&#x27;,\n",
       "                                                   &#x27;zone_id&#x27;, &#x27;Y&#x27;, &#x27;X&#x27;,\n",
       "                                                   &#x27;num_deliver_per_week&#x27;,\n",
       "                                                   &#x27;num_visit_per_week&#x27;, &#x27;size&#x27;,\n",
       "                                                   &#x27;week&#x27;, &#x27;year&#x27;,\n",
       "                                                   &#x27;avg_items_per_week&#x27;,\n",
       "                                                   &#x27;num_transa...\n",
       "                                                   &#x27;category&#x27;, &#x27;sub_category&#x27;,\n",
       "                                                   &#x27;segment&#x27;, &#x27;package&#x27;])])),\n",
       "                (&#x27;model&#x27;,\n",
       "                 DecisionTreeClassifier(ccp_alpha=0.031670187825521175,\n",
       "                                        class_weight=&#x27;balanced&#x27;,\n",
       "                                        criterion=&#x27;entropy&#x27;, max_depth=7,\n",
       "                                        max_features=&#x27;log2&#x27;, max_leaf_nodes=9,\n",
       "                                        min_impurity_decrease=0.008061064362700222,\n",
       "                                        min_samples_leaf=2,\n",
       "                                        min_samples_split=19,\n",
       "                                        min_weight_fraction_leaf=0.0979914312095726,\n",
       "                                        random_state=42))])</pre></div> </div></div><div class=\"sk-serial\"><div class=\"sk-item\"><div class=\"sk-estimator fitted sk-toggleable\"><input class=\"sk-toggleable__control sk-hidden--visually\" id=\"sk-estimator-id-2\" type=\"checkbox\" ><label for=\"sk-estimator-id-2\" class=\"sk-toggleable__label fitted sk-toggleable__label-arrow\"><div><div>DateFeatureExtractor</div></div></label><div class=\"sk-toggleable__content fitted\"><pre>DateFeatureExtractor()</pre></div> </div></div><div class=\"sk-item sk-dashed-wrapped\"><div class=\"sk-label-container\"><div class=\"sk-label fitted sk-toggleable\"><input class=\"sk-toggleable__control sk-hidden--visually\" id=\"sk-estimator-id-3\" type=\"checkbox\" ><label for=\"sk-estimator-id-3\" class=\"sk-toggleable__label fitted sk-toggleable__label-arrow\"><div><div>preprocessor: ColumnTransformer</div></div><div><a class=\"sk-estimator-doc-link fitted\" rel=\"noreferrer\" target=\"_blank\" href=\"https://scikit-learn.org/1.6/modules/generated/sklearn.compose.ColumnTransformer.html\">?<span>Documentation for preprocessor: ColumnTransformer</span></a></div></label><div class=\"sk-toggleable__content fitted\"><pre>ColumnTransformer(transformers=[(&#x27;num&#x27;,\n",
       "                                 Pipeline(steps=[(&#x27;imputer&#x27;, SimpleImputer()),\n",
       "                                                 (&#x27;scaler&#x27;, RobustScaler())]),\n",
       "                                 [&#x27;customer_id&#x27;, &#x27;product_id&#x27;, &#x27;order_id&#x27;,\n",
       "                                  &#x27;region_id&#x27;, &#x27;zone_id&#x27;, &#x27;Y&#x27;, &#x27;X&#x27;,\n",
       "                                  &#x27;num_deliver_per_week&#x27;, &#x27;num_visit_per_week&#x27;,\n",
       "                                  &#x27;size&#x27;, &#x27;week&#x27;, &#x27;year&#x27;, &#x27;avg_items_per_week&#x27;,\n",
       "                                  &#x27;num_transacciones&#x27;,\n",
       "                                  &#x27;avg_days_between_purchases&#x27;, &#x27;dayofweek&#x27;,\n",
       "                                  &#x27;month&#x27;, &#x27;week&#x27;]),\n",
       "                                (&#x27;cat&#x27;,\n",
       "                                 Pipeline(steps=[(&#x27;imputer&#x27;,\n",
       "                                                  SimpleImputer(strategy=&#x27;constant&#x27;)),\n",
       "                                                 (&#x27;encoder&#x27;,\n",
       "                                                  OneHotEncoder(handle_unknown=&#x27;ignore&#x27;,\n",
       "                                                                min_frequency=0.3180034749718639,\n",
       "                                                                sparse_output=False))]),\n",
       "                                 [&#x27;customer_type&#x27;, &#x27;brand&#x27;, &#x27;category&#x27;,\n",
       "                                  &#x27;sub_category&#x27;, &#x27;segment&#x27;, &#x27;package&#x27;])])</pre></div> </div></div><div class=\"sk-parallel\"><div class=\"sk-parallel-item\"><div class=\"sk-item\"><div class=\"sk-label-container\"><div class=\"sk-label fitted sk-toggleable\"><input class=\"sk-toggleable__control sk-hidden--visually\" id=\"sk-estimator-id-4\" type=\"checkbox\" ><label for=\"sk-estimator-id-4\" class=\"sk-toggleable__label fitted sk-toggleable__label-arrow\"><div><div>num</div></div></label><div class=\"sk-toggleable__content fitted\"><pre>[&#x27;customer_id&#x27;, &#x27;product_id&#x27;, &#x27;order_id&#x27;, &#x27;region_id&#x27;, &#x27;zone_id&#x27;, &#x27;Y&#x27;, &#x27;X&#x27;, &#x27;num_deliver_per_week&#x27;, &#x27;num_visit_per_week&#x27;, &#x27;size&#x27;, &#x27;week&#x27;, &#x27;year&#x27;, &#x27;avg_items_per_week&#x27;, &#x27;num_transacciones&#x27;, &#x27;avg_days_between_purchases&#x27;, &#x27;dayofweek&#x27;, &#x27;month&#x27;, &#x27;week&#x27;]</pre></div> </div></div><div class=\"sk-serial\"><div class=\"sk-item\"><div class=\"sk-serial\"><div class=\"sk-item\"><div class=\"sk-estimator fitted sk-toggleable\"><input class=\"sk-toggleable__control sk-hidden--visually\" id=\"sk-estimator-id-5\" type=\"checkbox\" ><label for=\"sk-estimator-id-5\" class=\"sk-toggleable__label fitted sk-toggleable__label-arrow\"><div><div>SimpleImputer</div></div><div><a class=\"sk-estimator-doc-link fitted\" rel=\"noreferrer\" target=\"_blank\" href=\"https://scikit-learn.org/1.6/modules/generated/sklearn.impute.SimpleImputer.html\">?<span>Documentation for SimpleImputer</span></a></div></label><div class=\"sk-toggleable__content fitted\"><pre>SimpleImputer()</pre></div> </div></div><div class=\"sk-item\"><div class=\"sk-estimator fitted sk-toggleable\"><input class=\"sk-toggleable__control sk-hidden--visually\" id=\"sk-estimator-id-6\" type=\"checkbox\" ><label for=\"sk-estimator-id-6\" class=\"sk-toggleable__label fitted sk-toggleable__label-arrow\"><div><div>RobustScaler</div></div><div><a class=\"sk-estimator-doc-link fitted\" rel=\"noreferrer\" target=\"_blank\" href=\"https://scikit-learn.org/1.6/modules/generated/sklearn.preprocessing.RobustScaler.html\">?<span>Documentation for RobustScaler</span></a></div></label><div class=\"sk-toggleable__content fitted\"><pre>RobustScaler()</pre></div> </div></div></div></div></div></div></div><div class=\"sk-parallel-item\"><div class=\"sk-item\"><div class=\"sk-label-container\"><div class=\"sk-label fitted sk-toggleable\"><input class=\"sk-toggleable__control sk-hidden--visually\" id=\"sk-estimator-id-7\" type=\"checkbox\" ><label for=\"sk-estimator-id-7\" class=\"sk-toggleable__label fitted sk-toggleable__label-arrow\"><div><div>cat</div></div></label><div class=\"sk-toggleable__content fitted\"><pre>[&#x27;customer_type&#x27;, &#x27;brand&#x27;, &#x27;category&#x27;, &#x27;sub_category&#x27;, &#x27;segment&#x27;, &#x27;package&#x27;]</pre></div> </div></div><div class=\"sk-serial\"><div class=\"sk-item\"><div class=\"sk-serial\"><div class=\"sk-item\"><div class=\"sk-estimator fitted sk-toggleable\"><input class=\"sk-toggleable__control sk-hidden--visually\" id=\"sk-estimator-id-8\" type=\"checkbox\" ><label for=\"sk-estimator-id-8\" class=\"sk-toggleable__label fitted sk-toggleable__label-arrow\"><div><div>SimpleImputer</div></div><div><a class=\"sk-estimator-doc-link fitted\" rel=\"noreferrer\" target=\"_blank\" href=\"https://scikit-learn.org/1.6/modules/generated/sklearn.impute.SimpleImputer.html\">?<span>Documentation for SimpleImputer</span></a></div></label><div class=\"sk-toggleable__content fitted\"><pre>SimpleImputer(strategy=&#x27;constant&#x27;)</pre></div> </div></div><div class=\"sk-item\"><div class=\"sk-estimator fitted sk-toggleable\"><input class=\"sk-toggleable__control sk-hidden--visually\" id=\"sk-estimator-id-9\" type=\"checkbox\" ><label for=\"sk-estimator-id-9\" class=\"sk-toggleable__label fitted sk-toggleable__label-arrow\"><div><div>OneHotEncoder</div></div><div><a class=\"sk-estimator-doc-link fitted\" rel=\"noreferrer\" target=\"_blank\" href=\"https://scikit-learn.org/1.6/modules/generated/sklearn.preprocessing.OneHotEncoder.html\">?<span>Documentation for OneHotEncoder</span></a></div></label><div class=\"sk-toggleable__content fitted\"><pre>OneHotEncoder(handle_unknown=&#x27;ignore&#x27;, min_frequency=0.3180034749718639,\n",
       "              sparse_output=False)</pre></div> </div></div></div></div></div></div></div></div></div><div class=\"sk-item\"><div class=\"sk-estimator fitted sk-toggleable\"><input class=\"sk-toggleable__control sk-hidden--visually\" id=\"sk-estimator-id-10\" type=\"checkbox\" ><label for=\"sk-estimator-id-10\" class=\"sk-toggleable__label fitted sk-toggleable__label-arrow\"><div><div>DecisionTreeClassifier</div></div><div><a class=\"sk-estimator-doc-link fitted\" rel=\"noreferrer\" target=\"_blank\" href=\"https://scikit-learn.org/1.6/modules/generated/sklearn.tree.DecisionTreeClassifier.html\">?<span>Documentation for DecisionTreeClassifier</span></a></div></label><div class=\"sk-toggleable__content fitted\"><pre>DecisionTreeClassifier(ccp_alpha=0.031670187825521175, class_weight=&#x27;balanced&#x27;,\n",
       "                       criterion=&#x27;entropy&#x27;, max_depth=7, max_features=&#x27;log2&#x27;,\n",
       "                       max_leaf_nodes=9,\n",
       "                       min_impurity_decrease=0.008061064362700222,\n",
       "                       min_samples_leaf=2, min_samples_split=19,\n",
       "                       min_weight_fraction_leaf=0.0979914312095726,\n",
       "                       random_state=42)</pre></div> </div></div></div></div></div></div>"
      ],
      "text/plain": [
       "Pipeline(steps=[('date_features', DateFeatureExtractor()),\n",
       "                ('preprocessor',\n",
       "                 ColumnTransformer(transformers=[('num',\n",
       "                                                  Pipeline(steps=[('imputer',\n",
       "                                                                   SimpleImputer()),\n",
       "                                                                  ('scaler',\n",
       "                                                                   RobustScaler())]),\n",
       "                                                  ['customer_id', 'product_id',\n",
       "                                                   'order_id', 'region_id',\n",
       "                                                   'zone_id', 'Y', 'X',\n",
       "                                                   'num_deliver_per_week',\n",
       "                                                   'num_visit_per_week', 'size',\n",
       "                                                   'week', 'year',\n",
       "                                                   'avg_items_per_week',\n",
       "                                                   'num_transa...\n",
       "                                                   'category', 'sub_category',\n",
       "                                                   'segment', 'package'])])),\n",
       "                ('model',\n",
       "                 DecisionTreeClassifier(ccp_alpha=0.031670187825521175,\n",
       "                                        class_weight='balanced',\n",
       "                                        criterion='entropy', max_depth=7,\n",
       "                                        max_features='log2', max_leaf_nodes=9,\n",
       "                                        min_impurity_decrease=0.008061064362700222,\n",
       "                                        min_samples_leaf=2,\n",
       "                                        min_samples_split=19,\n",
       "                                        min_weight_fraction_leaf=0.0979914312095726,\n",
       "                                        random_state=42))])"
      ]
     },
     "execution_count": 32,
     "metadata": {},
     "output_type": "execute_result"
    }
   ],
   "source": [
    "final_pipeline"
   ]
  },
  {
   "cell_type": "markdown",
   "metadata": {},
   "source": [
    "- ¿Qué métrica decidieron optimizar y por qué?\n",
    "\n",
    "    Respuesta: La métrica que decidimos optimizar (minimizar en este caso fue el complemento de f1-score) fue f1-score que es representativa de la calidad o robustez del modelo (es una combinación de dos métricas importantes). Decidimos esto porque f1-score es una métrica para clasificadores, porque tenemos un desbalance notorio de las clases (0 y 1). Queremos un hiperparámetro que maximice la precisión y el recall de la clase minoritaria, y como el F1-score depende de ambas métricas (precision y recall), entonces nos conviene usar más el f1-score. Recordemos que la precision es la metrica que habla de la precisión de las prediccione positivas, mientras que el recall habla de la capacidad de identificar todas las intancias positivas. Y es en el recall que queremos comprender la clasificación correcta de las instancias positivas de la clase minoritaria, pero sin desmedro de clasificar bien la clase 1 (que es la mayoritaria). Por otro lado, hay varios parámetros que la línea \"score = f1_score(y_valid, y_pred, average=\"weighted\")\" acepta: entre binary, micro, macro, weighted, samples y None. Nuestro problema está desbalanceado y queremos un F1-score que tenga en cuenta tanto el rendimiento en las clases mayoritarias como en las minoritarias, por lo que la opción más adecuada es average='weighted'. A continuación un resumen matemático de dicho parámetro weighted: \n",
    "    El **F1-score ponderado** (con `average='weighted'`) se calcula tomando el **F1-score** de cada clase y luego ponderándolo por el número de muestras en cada clase. El F1-score ponderado es el promedio de los F1-score de cada clase, ponderado por el número de muestras en cada clase. Esto le da más peso a las clases con más ejemplos en el cálculo final del F1-score.\n",
    "\n",
    "    $$\n",
    "    F1_{\\text{weighted}} = \\frac{1}{N} \\sum_{i=1}^{C} N_i \\times F1_i\n",
    "    $$\n",
    "\n",
    "    $$\n",
    "    F1_i = 2 \\times \\frac{Precision_i \\times Recall_i}{Precision_i + Recall_i}\n",
    "    $$\n",
    "\n",
    "    $$\n",
    "    Precision_i = \\frac{TP_i}{TP_i + FP_i}\n",
    "    $$\n",
    "\n",
    "    $$\n",
    "    Recall_i = \\frac{TP_i}{TP_i + FN_i}\n",
    "    $$\n",
    "\n",
    "\n",
    "    Donde:\n",
    "    - $ N $ es el número total de muestras en el conjunto de validación o prueba.\n",
    "    - $ C $ es el número de clases (en clasificación multiclase, que en nuestro caso es 2).\n",
    "    - $ N_i $ es el número de muestras de la clase $ i $.\n",
    "    - $ F1_i $ es el F1-score calculado para la clase $ i $.\n",
    "    - $ TP_i $ = Verdaderos positivos para la clase $ i $\n",
    "    - $ FP_i $ = Falsos positivos para la clase $ i $\n",
    "    - $ FN_i $ = Falsos negativos para la clase $ i $\n",
    "\n",
    "\n",
    "\n",
    "\n",
    "- ¿Qué hiperparámetro tuvo un mayor impacto en el rendimiento de su modelo?\n",
    "\n",
    "    Respuesta: el hiperparámetro que tuvo más impacto en el rendimiento del modelo fue \"min_impurity_decrease\" que se define así: [\"A node will be split if this split induces a decrease of the impurity greater than or equal to this value.fue max_depth y max_leaf_nodes\"](https://stackoverflow.com/questions/54812230/sklearn-min-impurity-decrease-explanation), y por otro lado max_depth y max_leaf_nodes ambos con casi la misma importancia (0.12 y 0.9), según el gráfico que se puede ver más abajo. Por un lado, max_depth controla la profunidad máxima del árbol, es decir, cuántos niveles de división puede tener el árbol, lo que quiere decir que si el árbol es muy profundo puede sobreajustarse a los datos de entrenamiento produciendo menor capacidad de generalización en datos no vistos, mientras que si limitamos la profunidad entonces nos evitamos el problema del sobreajuste. Por otro lado, max_leaf_nodes controla el número máximo de nodos terminales u hojas del árbol, controlando así como max_depth la complejidad del árbol, evitando que el modelo crezca demasiado (es decir, en complejidad) y sobreajuste los datos de entrenamiento. Entonces todo se resume a la complejidad del modelo, según estos hiperparámetros. \n",
    "        \n",
    "- ¿Cuánto mejoró el rendimiento del modelo después de la optimización de hiperparámetros?\n",
    "    \n",
    "    Respuesta: El modelo Decision Tree mejoró en F1-Score weighted, pasando de 0.949 a 0.962 (la variación es menor alrededor del 2%). Lo que indica que la optimización funcionó. Además, no solo se optimizaron los hiperparámetros (donde max_depth y max_leaf_nodes tuvieron mayor importancia), sino que además, se optimizaron los \"pasos\" del transformador de variables categóricas y numéricas del pipeline: pasamos de pasos numéricos: median y StandardScaler a mean y RobustScaler, mioentras que en los pasos categóricos pasamos de imputar con el most_frequent a constant. \n",
    "\n"
   ]
  },
  {
   "cell_type": "code",
   "execution_count": 33,
   "metadata": {},
   "outputs": [
    {
     "name": "stderr",
     "output_type": "stream",
     "text": [
      "/var/folders/09/2_xdwnnx5rqgtl8vh2vwkdmc0000gn/T/ipykernel_1604/1223260867.py:5: ExperimentalWarning:\n",
      "\n",
      "plot_param_importances is experimental (supported from v2.2.0). The interface can change in the future.\n",
      "\n"
     ]
    },
    {
     "data": {
      "text/plain": [
       "<Figure size 1000x600 with 0 Axes>"
      ]
     },
     "metadata": {},
     "output_type": "display_data"
    },
    {
     "data": {
      "image/png": "[encoded data removed]",
      "text/plain": [
       "<Figure size 640x480 with 1 Axes>"
      ]
     },
     "metadata": {},
     "output_type": "display_data"
    }
   ],
   "source": [
    "import matplotlib.pyplot as plt\n",
    "from optuna.visualization.matplotlib import plot_param_importances\n",
    "def plots(estudio):\n",
    "    plt.figure(figsize=(10, 6))\n",
    "    plot_param_importances(estudio)\n",
    "    plt.show()\n",
    "    \n",
    "plots(study)"
   ]
  },
  {
   "cell_type": "markdown",
   "metadata": {},
   "source": [
    "## 📌 Interpretabilidad [1.0 puntos]\n",
    "\n",
    "En esta sección, deben explicar el funcionamiento de su modelo utilizando las técnicas de interpretabilidad vistas en clase, como `SHAP`. Se espera que sean capaces de descomponer las predicciones y evaluar la importancia de los atributos y las interacciones entre ellos, con el fin de obtener una comprensión más profunda de cómo el modelo toma decisiones. \n",
    "\n",
    "Al desarrollar esta parte, deberán responder las siguientes preguntas clave como mínimo:\n",
    "\n",
    "- ¿Podría explicar el funcionamiento de su modelo para una predicción en particular? Si es así, proporcione al menos tres ejemplos específicos, describiendo cómo el modelo llegó a sus decisiones y qué factores fueron más relevantes en cada caso.\n",
    "\n",
    "- ¿Qué atributo tiene una mayor importancia en la salida de su modelo? Analice si esto tiene sentido con el problema planteado y justifique la relevancia de dicho atributo en el contexto de las predicciones que se realizan.\n",
    "\n",
    "- ¿Existe alguna interacción entre atributos que sea relevante para el modelo? Investigue si la combinación de ciertos atributos tiene un impacto significativo en las predicciones y explíquela en **detalle**.\n",
    "\n",
    "- ¿Podría existir sesgo hacia algún atributo en particular? Reflexione sobre la posibilidad de que el modelo esté favoreciendo ciertos atributos. Si es así, ¿cuál podría ser la causa y qué impacto podría tener esto en la predicción?\n",
    "\n",
    "Para ello seguiremos el siguiente flujo de trabajo (aunque no lo pudimos completar):"
   ]
  },
  {
   "cell_type": "markdown",
   "metadata": {},
   "source": [
    "##  **1. Explicación de Predicciones Individuales (SHAP)**\n",
    "\n",
    "queremos descomponer las predicciones individuales en contribuciones por atributo y analizar casos concretos, respondiendo a la pregunta ¿Podría explicar el funcionamiento de su modelo para una predicción en particular? Si es así, proporcione al menos tres ejemplos específicos, describiendo cómo el modelo llegó a sus decisiones y qué factores fueron más relevantes en cada caso. Para ello:\n",
    "\n",
    "En primer lugar, vamos a seleccionar 3 instancias del conjunto de validación o prueba, elegiremos una instancia correctamente clasificada, una incorrectamente clasificada  y una borderline (dudosa), para las cuales vamos a aplicar SHAP (explicación local), usando `shap.force_plot` para esas 3 instancias y por último explicaremos cómo cada atributo influye en la predicción, para luego dentificar los atributos que tuvieron mayor impacto positivo o negativo y por último discutiremos la relación de las predicciones con el valor base (expected_value).\n",
    "\n",
    "[**Interpretabilidad Local vs Global**](https://www.mathworks.com/discovery/interpretability.html): Métodos globales : estos métodos de interpretabilidad proporcionan una descripción general de las variables más influyentes en el modelo según los datos de entrada y los resultados previstos. Métodos locales : estos métodos de interpretación proporcionan una explicación de un único resultado de predicción. Obviamente aquí esperábamos poder tener una forma de interpretabilidad local para dichas tres instancias mediante shap.force_plot."
   ]
  },
  {
   "cell_type": "markdown",
   "metadata": {},
   "source": [
    "##  **2. Importancia de Atributos Globales**\n",
    "\n",
    "Aquí queremos identificar y justificar el atributo más relevante a nivel global para el modelo, respondiendo a la pregunta ¿Qué atributo tiene una mayor importancia en la salida de su modelo? Analice si esto tiene sentido con el problema planteado y justifique la relevancia de dicho atributo en el contexto de las predicciones que se realizan. \n",
    "\n",
    "Para ello, vamos a usar [`shap.summary_plot`](https://shap.readthedocs.io/en/latest/example_notebooks/api_examples/plots/violin.html) para ver los atributos más importantes y luego [`permutation_importance` de `sklearn.inspection`](https://scikit-learn.org/stable/modules/permutation_importance.html) para comparar la importancia, y por último, compararemos la importancia relativa de SHAP y Permutación Feature Importance y luego validaremos si el atributo más importante tiene sentido con el problema y sus predicciones."
   ]
  },
  {
   "cell_type": "markdown",
   "metadata": {},
   "source": [
    "##  **3. Interacciones entre Atributos**\n",
    "\n",
    "Aquí queremos explorar si la combinación de atributos tiene un impacto significativo en las predicciones, respondiendo a la pregunta ¿Existe alguna interacción entre atributos que sea relevante para el modelo? Investigue si la combinación de ciertos atributos tiene un impacto significativo en las predicciones y explíquela en **detalle**.\n",
    "\n",
    "Consideraremos `shap.dependence_plot(\"atributo\", shap_values, X)` para visualizar interacciones y revisaremos el parámetro `interaction_index` para detectar relaciones entre variables y hemos de identificar qué combinación de atributos tiene un impacto relevante y xplicar cómo afecta esta interacción en las predicciones y qué comportamiento muestra."
   ]
  },
  {
   "cell_type": "markdown",
   "metadata": {},
   "source": [
    "##  **4. Sesgos hacia Atributos**\n",
    "\n",
    "queremos evaluar si existe un sesgo hacia ciertos atributos y sus efectos en las predicciones, respondiendo a la pregunta ¿Podría existir sesgo hacia algún atributo en particular? Reflexione sobre la posibilidad de que el modelo esté favoreciendo ciertos atributos. Si es así, ¿cuál podría ser la causa y qué impacto podría tener esto en la predicción?\n",
    "\n",
    "Vamos a observar si algunos atributos muestran outliers en el `summary_plot` o `force_plot`, evaluaremos si hay correlación entre atributos importantes y sensibles (e.g., días de la semana, semana, mes, etc.), determinaremos si algún atributo tiene una influencia desproporcionada debido al sobreajuste y en último lugar, reflexionaremos sobre si el modelo favorece atributos específicos, así como también discutiremos las posibles causas del sesgo y cómo podría influir en la predicción.\n",
    "\n",
    "Como podemos [leer de la página Datacamp](https://www.datacamp.com/es/tutorial/introduction-to-shap-values-machine-learning-interpretability), el análisis de valores SHAP ayuda a identificar si ciertas características afectan desproporcionadamente a grupos concretos. Permite detectar y reducir la discriminación en el modelo. Además, como podemos [leer de la página](https://www-databricks-com.translate.goog/blog/mitigating-bias-machine-learning-shap-and-fairlearn?_x_tr_sl=en&_x_tr_tl=es&_x_tr_hl=es&_x_tr_pto=tc), algunas herramientas de código abierto como Fairlearn y SHAP no solo convierten los modelos en herramientas para el análisis de datos, sino que también ofrecen medios para contrarrestar el sesgo en las predicciones de los modelos. A pesar de que nosotros no logramos realizar un análisis del sesgo en el modelo, sin embargo, podemos creer que el hecho de seleccionar ciertas variables y eliminar otras, así como quizás la manera en que estamos haciendo preprocesamiento puede infundir algo de sesgo en el modelo."
   ]
  },
  {
   "cell_type": "markdown",
   "metadata": {},
   "source": [
    "## 📌 Resultados y Conclusiones [1.0 puntos]\n",
    "\n",
    "Para finalizar, se deben explicar los desarrollos y resultados obtenidos a lo largo de todo el proceso, desde la selección de las variables hasta la optimización de hiperparámetros e interpretación. Se espera una reflexión crítica sobre el desempeño de los modelos entrenados y una comparación entre los diferentes enfoques. Además, deberán abordar los siguientes puntos clave:\n",
    "\n",
    "- **Análisis de métricas**: Comenten sobre las métricas obtenidas en cada etapa del modelo, destacando las más relevantes como precisión, recall, F1-score, etc. ¿Cuáles fueron los modelos más efectivos? ¿Qué diferencias notables encontró entre ellos?\n",
    "\n",
    "- **Impacto de las decisiones tomadas**: Reflexionen sobre cómo las decisiones relacionadas con el preprocesamiento, selección de atributos y optimización de hiperparámetros influyeron en los resultados finales. ¿Hubo alguna decisión que haya tenido un impacto notable en el rendimiento?\n",
    "\n",
    "- **Lecciones aprendidas**: Concluyan sobre las lecciones más importantes que aprendieron durante el proceso y cómo estas pueden influir en futuras iteraciones del modelo. ¿Qué se podría mejorar si se repitiera el proceso? Si tuvieran más recursos y tiempo, ¿qué otras técnicas/herramientas habrían utilizado?"
   ]
  },
  {
   "cell_type": "markdown",
   "metadata": {},
   "source": [
    "> [Escriba aquí sus resultados]\n",
    "\n",
    "1. La métrica más importante del Baseline (que en nuestro caso fue un Dummy Classifier con probabilidad uniforme y aleatoria de asignar una clase a otra) y para los otros tres modelos fue el F1-score weighted (debido a la presencia de desbalance de clases entre la 0 y la 1, es decir, entre la cantidad de personas que compraron al menos un producto y aquellas que no lo hicieron nunca): 0.64, 0.90, 0.93 y 0.95 aproximadamente para el baseline, logistic regression, xgboost classifier y el decision tree respectivamente. Por lo tanto el modelo más efectivo fue el decision tree. La diferencia más notable que hizo que el decision tree fuera más robusto es que aquel tenía hiperparámetros que controlaban el sobreajuste como la max_depth, max_leaf_nodes, etc. En cuanto a las otras métricas, vimos que en general para la clase 0 casi todas las métricas son cero para todos los modelos (aunque los tres modelos que vienen despues del dummy classifier subieron un poco las métricas), incluidas accuracy, recall, etc. mientras que para la clase 1 (como era de esperarse debido al desbalance de clases) el accuracy, precision y recall son cercanos a 1. Además, el logistic regressor necesita que los datos estén escalados de alguna manera, mientras que el decision tree es más robusto a los outliers. En cuanto al modelo decision tree con sus hiperparámetros optimizados por Optuna, podemos decir que supera en un 2% en cuanto al f1-score al decision tree original sin optimizar. \n",
    "\n",
    "2. En el preprocesamiento hicimos:\n",
    " - división del set de datos en train, validation y test tomando una fecha tal que uno fuera el 60, 20 y 20 por ciento. Esto está correctamente hecho porque los datos siempre deben ser separados en train/val/test antes de aplicar cualquier tipo de escalador, para evitar data leakag (puesto que queríamos hacer una tarea de clasificación).\n",
    " - hicimos un left join de las tres bases de datos que contenían las transacciones, los clientes y los productos, sobre todos los productos y transacciones que cada persona compró.\n",
    " - luego visualizamos los valores nulos de las tres datasets antes y despues del join.\n",
    "   En cuanto a la optimización de hiperparámetros: elegimos la mayor cantidad posible de hiperparámetros para que a priori el modelo superara al XGBoost, al Logistic Regressor y al Dummy Classifier. Sin embargo, algo que pudo tener impacto en la optimización fue el hecho de haber integrado en el estudio de Optuna el cambio de transformadores de columnas, imputadores y escaladores, incluyendo el OneHotEncoding.\n",
    "\n",
    "3. Algo que podemos aprender:\n",
    "    - La importancia de una feature por lo general está asociada a si ésta se ve directamente involucrada en la disminución del overfitting o aumento de la generalización y robustez del modelo. Además, es importante poder tener un modelo interpretable, razón por la que elejimos el modelo Decision Tree Classifier por sobre el XGBoost Classifier.\n",
    "    - Es necesario conocer bien el sesgo de un modelo, la interacción y causalidad entre las variables y también la interpretabilidad y la importancia de las diferentes variables en el funcionamiento interno del modelo. Aquí debimos usar modelos agnósticos de interpretabilidad princpalmente porque así no dependíamos del tipo de modelo.\n",
    "    - Por otro lado, algo que podríamos mejorar si repitiéramos el proceso sería:\n",
    "        - utilizar un modelo más robusto como el XGBoost Classifier pero con la mayor cantidad de hiperparámetros, con mayor espacio de optimización en cada uno de ellos y con mayor tiempo de realización del estudio de Optuna, porque a mayor tiempo de estudio mayor cantidad de trials y por ende de diferentes modelos o combinación de hiperparámetros.\n",
    "        - Otra técnica que podríamos haber utilizado si tuviésemos más tiempo hubiera sido [Ray Tune](https://docs.ray.io/en/latest/tune/index.html), que tiene la modalidad de poder darle a cada hiperparámetro una distribución de diferentes tipos para poder realizar la optimización. Además, podríamos utilizar variadas más, entre las cuales está por ejemplo [Hyperopt](https://www.analyticsvidhya.com/blog/2020/09/alternative-hyperparameter-optimization-technique-you-need-to-know-hyperopt/#bcd8) que es una librería poderosa de python desarrollada por James Bergstra. Por último, podríamos usar [FLAML](https://medium.com/@mouse3mic3/a-practical-guide-to-automated-machine-learning-in-python-using-flaml-c73a714887a4), desarrollado por Microsoft, que le permite al usuario saltarse la repetitiva tarea de preprocesar y de hacer fine tuning. Se usa para clasificación y regresión.\n",
    "        - elegir una o más métricas a minimizar, que en nuestro caso queríamos maximizar el f1-score weighted. \n",
    "        - podríamos buscar otras técnicas para balancear el dataset como [SMOTE](https://www-analyticsvidhya-com.translate.goog/blog/2020/10/overcoming-class-imbalance-using-smote-techniques/?_x_tr_sl=en&_x_tr_tl=es&_x_tr_hl=es&_x_tr_pto=tc), que consiste en crear datos sintéticos y poder obtener un modelo de clasificación con una matriz de confusión más simétrica, por ejemplo. "
   ]
  },
  {
   "cell_type": "markdown",
   "metadata": {},
   "source": [
    "Mucho éxito!\n",
    "\n",
    "<center>\n",
    "<img src=\"https://media3.giphy.com/media/v1.Y2lkPTc5MGI3NjExaHpvOTY5Z3hpdHI3aDBpdGRueXRqamZncXp2emFrbjJ5M2s5eTR1dSZlcD12MV9pbnRlcm5hbF9naWZfYnlfaWQmY3Q9Zw/1PMVNNKVIL8Ig/giphy.gif\" width=\"300\" height=\"200\">\n"
   ]
  }
 ],
 "metadata": {
  "kernelspec": {
   "display_name": "Python 3",
   "language": "python",
   "name": "python3"
  },
  "language_info": {
   "codemirror_mode": {
    "name": "ipython",
    "version": 3
   },
   "file_extension": ".py",
   "mimetype": "text/x-python",
   "name": "python",
   "nbconvert_exporter": "python",
   "pygments_lexer": "ipython3",
   "version": "3.9.6"
  }
 },
 "nbformat": 4,
 "nbformat_minor": 2
}
